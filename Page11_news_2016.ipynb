{
 "cells": [
  {
   "cell_type": "code",
   "execution_count": 1,
   "metadata": {},
   "outputs": [],
   "source": [
    "import selenium\n",
    "import pandas as pd\n",
    "from selenium import webdriver"
   ]
  },
  {
   "cell_type": "code",
   "execution_count": 2,
   "metadata": {},
   "outputs": [],
   "source": [
    "driver=webdriver.Chrome(\"C:\\chromedriver.exe\")"
   ]
  },
  {
   "cell_type": "code",
   "execution_count": 3,
   "metadata": {},
   "outputs": [],
   "source": [
    "driver.get('https://www.ebmnews.com/2016/page/11/')"
   ]
  },
  {
   "cell_type": "code",
   "execution_count": 4,
   "metadata": {},
   "outputs": [],
   "source": [
    "news_titles=[]\n",
    "date=[]\n",
    "description=[]"
   ]
  },
  {
   "cell_type": "code",
   "execution_count": 5,
   "metadata": {},
   "outputs": [
    {
     "data": {
      "text/plain": [
       "[<selenium.webdriver.remote.webelement.WebElement (session=\"2996aa35782062f4168fbdc49426eb21\", element=\"0b657697-a1a5-43f3-9109-79dd5fcf399f\")>,\n",
       " <selenium.webdriver.remote.webelement.WebElement (session=\"2996aa35782062f4168fbdc49426eb21\", element=\"bcf6d294-690b-44cc-ac01-14160551a899\")>,\n",
       " <selenium.webdriver.remote.webelement.WebElement (session=\"2996aa35782062f4168fbdc49426eb21\", element=\"ce1d609d-5d6d-4d33-9a92-e49371ac3500\")>,\n",
       " <selenium.webdriver.remote.webelement.WebElement (session=\"2996aa35782062f4168fbdc49426eb21\", element=\"d82e7ac0-0a80-47b2-b578-018782f38d03\")>,\n",
       " <selenium.webdriver.remote.webelement.WebElement (session=\"2996aa35782062f4168fbdc49426eb21\", element=\"8e999011-8dea-40bf-866e-a3952ce8fd92\")>,\n",
       " <selenium.webdriver.remote.webelement.WebElement (session=\"2996aa35782062f4168fbdc49426eb21\", element=\"2c701d68-156d-435f-8aca-d120ef8ccb65\")>,\n",
       " <selenium.webdriver.remote.webelement.WebElement (session=\"2996aa35782062f4168fbdc49426eb21\", element=\"65303d27-b2db-42a6-a845-8231d46fe966\")>,\n",
       " <selenium.webdriver.remote.webelement.WebElement (session=\"2996aa35782062f4168fbdc49426eb21\", element=\"8d26ab21-4bf8-4782-bdb3-263cafddce8d\")>,\n",
       " <selenium.webdriver.remote.webelement.WebElement (session=\"2996aa35782062f4168fbdc49426eb21\", element=\"0c08045a-0040-448c-a9b9-421df475be2f\")>,\n",
       " <selenium.webdriver.remote.webelement.WebElement (session=\"2996aa35782062f4168fbdc49426eb21\", element=\"c9a29e90-4e1b-4b1a-b8e3-72828c214e6f\")>]"
      ]
     },
     "execution_count": 5,
     "metadata": {},
     "output_type": "execute_result"
    }
   ],
   "source": [
    "title_tags=driver.find_elements_by_xpath(\"//div[@class='item-inner clearfix']\")\n",
    "title_tags[0:10]"
   ]
  },
  {
   "cell_type": "code",
   "execution_count": 6,
   "metadata": {},
   "outputs": [
    {
     "data": {
      "text/plain": [
       "['At the core, Shivaay is an emotional film : Ajay Devgn\\nEBM News English Oct 12, 2016\\nAjay Devgn is coming up with his magnum opus, Shivaay and he talks enthusiastically about his passion project which will release…',\n",
       " \"Kanye West’s unreleased songs surface online\\nEBM News English Oct 12, 2016\\nLos Angeles, Two of rapper Kanye West's unreleased tracks have surfaced online. The 39-year-old record producer's one song named…\",\n",
       " \"Argentina stunned, Vidal rescues Chile in S America qualifiers\\nEBM News English Oct 12, 2016\\nMontevideo, Oct 12 (AFP) Argentina crashed to a 1-0 defeat against Paraguay in South America's 2018 World Cup qualifiers as two…\",\n",
       " 'Now, CPM bats for autonomous colleges\\nEBM News English Oct 12, 2016\\nTHIRUVANANTHAPURAM: Though pro-CPM student and teacher organisations are against the concept of autonomous colleges, education…',\n",
       " \"India’s September Iran oil imports fall 4.1 percent on August: Shipping data\\nEBM News English Oct 12, 2016\\nNEW DELHI: India's purchases of Iranian oil fell 4.1 percent in September, slipping from August when imports from Tehran hit their…\",\n",
       " '2016 Volkswagen Polo Allstar revealed\\nEBM News English Oct 12, 2016\\nVolkswagen has released details of the upcoming Polo Allstar special edition on its website ahead of the car’s launch. As per our…',\n",
       " 'After Note 7, Samsung caught up in patent clash with Apple\\nEBM News English Oct 12, 2016\\nUNITED STATES: The epic patent clash between Apple and Samsung went before the Supreme Court Tuesday, as the smartphone giants…',\n",
       " 'Delhi High Court: University can deny admission to students not carrying documents\\nEBM News English Oct 12, 2016\\nThe Delhi High Court has held a petition making it mandatory for students to produce all the required documents at the time of…',\n",
       " 'Aston Martin DB11 launched at Rs 4.27 crore\\nEBM News English Oct 12, 2016\\nAston Martin has launched its newest model, the DB11 in India. The DB11 supercar is priced at Rs 4.27 crore (ex-showroom). The…',\n",
       " 'China does not want to de-friend India at the cost of Pakistan, says former foreign secretary\\nEBM News English Oct 12, 2016\\nNEW DELHI: Ahead of the weekend meeting between Prime Minister Narendra Modi and President Xi Jinping, China has said that it is…']"
      ]
     },
     "execution_count": 6,
     "metadata": {},
     "output_type": "execute_result"
    }
   ],
   "source": [
    "for i in title_tags:\n",
    "    \n",
    "    title=i.text\n",
    "    news_titles.append(title)\n",
    "news_titles[0:10]"
   ]
  },
  {
   "cell_type": "code",
   "execution_count": 7,
   "metadata": {},
   "outputs": [
    {
     "data": {
      "text/plain": [
       "[<selenium.webdriver.remote.webelement.WebElement (session=\"2996aa35782062f4168fbdc49426eb21\", element=\"1375f91f-377c-4993-b31e-c42d8bbc9167\")>,\n",
       " <selenium.webdriver.remote.webelement.WebElement (session=\"2996aa35782062f4168fbdc49426eb21\", element=\"f07bd39d-53ed-4ba6-a6d5-8ab2f1637dab\")>,\n",
       " <selenium.webdriver.remote.webelement.WebElement (session=\"2996aa35782062f4168fbdc49426eb21\", element=\"9dbcad8b-3354-449f-90b5-9913c86e52a6\")>,\n",
       " <selenium.webdriver.remote.webelement.WebElement (session=\"2996aa35782062f4168fbdc49426eb21\", element=\"1f608a81-25a8-4fb0-a2ba-9b91f45be50f\")>,\n",
       " <selenium.webdriver.remote.webelement.WebElement (session=\"2996aa35782062f4168fbdc49426eb21\", element=\"3908b0b2-66ba-4e11-89b4-160f7fb6818f\")>,\n",
       " <selenium.webdriver.remote.webelement.WebElement (session=\"2996aa35782062f4168fbdc49426eb21\", element=\"92be4859-afc7-4c20-afdd-74a17b92da01\")>,\n",
       " <selenium.webdriver.remote.webelement.WebElement (session=\"2996aa35782062f4168fbdc49426eb21\", element=\"721c7b18-7d62-4e38-8600-c9b8b4f502c6\")>,\n",
       " <selenium.webdriver.remote.webelement.WebElement (session=\"2996aa35782062f4168fbdc49426eb21\", element=\"80a1c464-833d-43fc-967d-60848ce1dcec\")>,\n",
       " <selenium.webdriver.remote.webelement.WebElement (session=\"2996aa35782062f4168fbdc49426eb21\", element=\"e1ed0f07-ffd0-455b-bb6a-f0aea80395b4\")>,\n",
       " <selenium.webdriver.remote.webelement.WebElement (session=\"2996aa35782062f4168fbdc49426eb21\", element=\"9380f863-3172-4b85-984e-8e1dee4d2b65\")>]"
      ]
     },
     "execution_count": 7,
     "metadata": {},
     "output_type": "execute_result"
    }
   ],
   "source": [
    "date_tags=driver.find_elements_by_xpath(\"//span[@class='time']\")\n",
    "date_tags[0:10]"
   ]
  },
  {
   "cell_type": "code",
   "execution_count": 8,
   "metadata": {},
   "outputs": [
    {
     "data": {
      "text/plain": [
       "['Oct 12, 2016',\n",
       " 'Oct 12, 2016',\n",
       " 'Oct 12, 2016',\n",
       " 'Oct 12, 2016',\n",
       " 'Oct 12, 2016',\n",
       " 'Oct 12, 2016',\n",
       " 'Oct 12, 2016',\n",
       " 'Oct 12, 2016',\n",
       " 'Oct 12, 2016',\n",
       " 'Oct 12, 2016']"
      ]
     },
     "execution_count": 8,
     "metadata": {},
     "output_type": "execute_result"
    }
   ],
   "source": [
    "for i in date_tags:\n",
    "    \n",
    "    title=i.text\n",
    "    date.append(title)\n",
    "date[0:10]"
   ]
  },
  {
   "cell_type": "code",
   "execution_count": 9,
   "metadata": {},
   "outputs": [
    {
     "data": {
      "text/plain": [
       "[<selenium.webdriver.remote.webelement.WebElement (session=\"2996aa35782062f4168fbdc49426eb21\", element=\"b47b0d3d-2b0a-4d2d-aeb8-f35d5857ac2f\")>,\n",
       " <selenium.webdriver.remote.webelement.WebElement (session=\"2996aa35782062f4168fbdc49426eb21\", element=\"60a32f21-f41a-45a3-81d5-41ca03a9fae0\")>,\n",
       " <selenium.webdriver.remote.webelement.WebElement (session=\"2996aa35782062f4168fbdc49426eb21\", element=\"8c6bbe58-424c-4327-b390-0ea28609dde3\")>,\n",
       " <selenium.webdriver.remote.webelement.WebElement (session=\"2996aa35782062f4168fbdc49426eb21\", element=\"219720f7-5bcc-4be8-a4df-7beca901529c\")>,\n",
       " <selenium.webdriver.remote.webelement.WebElement (session=\"2996aa35782062f4168fbdc49426eb21\", element=\"c22adfc9-d732-436c-bfc1-0d9c5c1f55c0\")>,\n",
       " <selenium.webdriver.remote.webelement.WebElement (session=\"2996aa35782062f4168fbdc49426eb21\", element=\"5d24413d-4d2d-4483-80a7-ec3727e4df50\")>,\n",
       " <selenium.webdriver.remote.webelement.WebElement (session=\"2996aa35782062f4168fbdc49426eb21\", element=\"c8bcc256-69b4-4353-b31f-3b47d780af5b\")>,\n",
       " <selenium.webdriver.remote.webelement.WebElement (session=\"2996aa35782062f4168fbdc49426eb21\", element=\"5581610b-c5a1-4a65-8f5c-e64316174df4\")>,\n",
       " <selenium.webdriver.remote.webelement.WebElement (session=\"2996aa35782062f4168fbdc49426eb21\", element=\"e821ee17-6dad-417c-8938-9b979863b593\")>,\n",
       " <selenium.webdriver.remote.webelement.WebElement (session=\"2996aa35782062f4168fbdc49426eb21\", element=\"ce03f303-b953-490c-9ffc-26490cbd6b6e\")>]"
      ]
     },
     "execution_count": 9,
     "metadata": {},
     "output_type": "execute_result"
    }
   ],
   "source": [
    "desc_tags=driver.find_elements_by_xpath(\"//div[@class='post-summary']\")\n",
    "desc_tags[0:10]"
   ]
  },
  {
   "cell_type": "code",
   "execution_count": 10,
   "metadata": {},
   "outputs": [
    {
     "data": {
      "text/plain": [
       "['Ajay Devgn is coming up with his magnum opus, Shivaay and he talks enthusiastically about his passion project which will release…',\n",
       " \"Los Angeles, Two of rapper Kanye West's unreleased tracks have surfaced online. The 39-year-old record producer's one song named…\",\n",
       " \"Montevideo, Oct 12 (AFP) Argentina crashed to a 1-0 defeat against Paraguay in South America's 2018 World Cup qualifiers as two…\",\n",
       " 'THIRUVANANTHAPURAM: Though pro-CPM student and teacher organisations are against the concept of autonomous colleges, education…',\n",
       " \"NEW DELHI: India's purchases of Iranian oil fell 4.1 percent in September, slipping from August when imports from Tehran hit their…\",\n",
       " 'Volkswagen has released details of the upcoming Polo Allstar special edition on its website ahead of the car’s launch. As per our…',\n",
       " 'UNITED STATES: The epic patent clash between Apple and Samsung went before the Supreme Court Tuesday, as the smartphone giants…',\n",
       " 'The Delhi High Court has held a petition making it mandatory for students to produce all the required documents at the time of…',\n",
       " 'Aston Martin has launched its newest model, the DB11 in India. The DB11 supercar is priced at Rs 4.27 crore (ex-showroom). The…',\n",
       " 'NEW DELHI: Ahead of the weekend meeting between Prime Minister Narendra Modi and President Xi Jinping, China has said that it is…']"
      ]
     },
     "execution_count": 10,
     "metadata": {},
     "output_type": "execute_result"
    }
   ],
   "source": [
    "for i in desc_tags:\n",
    "    \n",
    "    title=i.text\n",
    "    description.append(title)\n",
    "description[0:10]"
   ]
  },
  {
   "cell_type": "code",
   "execution_count": 11,
   "metadata": {},
   "outputs": [
    {
     "name": "stdout",
     "output_type": "stream",
     "text": [
      "10 10 10\n"
     ]
    }
   ],
   "source": [
    "print(len(news_titles),len(date),len(description))"
   ]
  },
  {
   "cell_type": "code",
   "execution_count": 12,
   "metadata": {},
   "outputs": [],
   "source": [
    "import pandas as pd\n",
    "news=pd.DataFrame({})\n",
    "news['title']=news_titles[0:10]\n",
    "news['date']=date[0:10]\n",
    "news['desc']=description[0:10]"
   ]
  },
  {
   "cell_type": "code",
   "execution_count": 13,
   "metadata": {},
   "outputs": [
    {
     "data": {
      "text/html": [
       "<div>\n",
       "<style scoped>\n",
       "    .dataframe tbody tr th:only-of-type {\n",
       "        vertical-align: middle;\n",
       "    }\n",
       "\n",
       "    .dataframe tbody tr th {\n",
       "        vertical-align: top;\n",
       "    }\n",
       "\n",
       "    .dataframe thead th {\n",
       "        text-align: right;\n",
       "    }\n",
       "</style>\n",
       "<table border=\"1\" class=\"dataframe\">\n",
       "  <thead>\n",
       "    <tr style=\"text-align: right;\">\n",
       "      <th></th>\n",
       "      <th>title</th>\n",
       "      <th>date</th>\n",
       "      <th>desc</th>\n",
       "    </tr>\n",
       "  </thead>\n",
       "  <tbody>\n",
       "    <tr>\n",
       "      <th>0</th>\n",
       "      <td>At the core, Shivaay is an emotional film : Aj...</td>\n",
       "      <td>Oct 12, 2016</td>\n",
       "      <td>Ajay Devgn is coming up with his magnum opus, ...</td>\n",
       "    </tr>\n",
       "    <tr>\n",
       "      <th>1</th>\n",
       "      <td>Kanye West’s unreleased songs surface online\\n...</td>\n",
       "      <td>Oct 12, 2016</td>\n",
       "      <td>Los Angeles, Two of rapper Kanye West's unrele...</td>\n",
       "    </tr>\n",
       "    <tr>\n",
       "      <th>2</th>\n",
       "      <td>Argentina stunned, Vidal rescues Chile in S Am...</td>\n",
       "      <td>Oct 12, 2016</td>\n",
       "      <td>Montevideo, Oct 12 (AFP) Argentina crashed to ...</td>\n",
       "    </tr>\n",
       "    <tr>\n",
       "      <th>3</th>\n",
       "      <td>Now, CPM bats for autonomous colleges\\nEBM New...</td>\n",
       "      <td>Oct 12, 2016</td>\n",
       "      <td>THIRUVANANTHAPURAM: Though pro-CPM student and...</td>\n",
       "    </tr>\n",
       "    <tr>\n",
       "      <th>4</th>\n",
       "      <td>India’s September Iran oil imports fall 4.1 pe...</td>\n",
       "      <td>Oct 12, 2016</td>\n",
       "      <td>NEW DELHI: India's purchases of Iranian oil fe...</td>\n",
       "    </tr>\n",
       "    <tr>\n",
       "      <th>5</th>\n",
       "      <td>2016 Volkswagen Polo Allstar revealed\\nEBM New...</td>\n",
       "      <td>Oct 12, 2016</td>\n",
       "      <td>Volkswagen has released details of the upcomin...</td>\n",
       "    </tr>\n",
       "    <tr>\n",
       "      <th>6</th>\n",
       "      <td>After Note 7, Samsung caught up in patent clas...</td>\n",
       "      <td>Oct 12, 2016</td>\n",
       "      <td>UNITED STATES: The epic patent clash between A...</td>\n",
       "    </tr>\n",
       "    <tr>\n",
       "      <th>7</th>\n",
       "      <td>Delhi High Court: University can deny admissio...</td>\n",
       "      <td>Oct 12, 2016</td>\n",
       "      <td>The Delhi High Court has held a petition makin...</td>\n",
       "    </tr>\n",
       "    <tr>\n",
       "      <th>8</th>\n",
       "      <td>Aston Martin DB11 launched at Rs 4.27 crore\\nE...</td>\n",
       "      <td>Oct 12, 2016</td>\n",
       "      <td>Aston Martin has launched its newest model, th...</td>\n",
       "    </tr>\n",
       "    <tr>\n",
       "      <th>9</th>\n",
       "      <td>China does not want to de-friend India at the ...</td>\n",
       "      <td>Oct 12, 2016</td>\n",
       "      <td>NEW DELHI: Ahead of the weekend meeting betwee...</td>\n",
       "    </tr>\n",
       "  </tbody>\n",
       "</table>\n",
       "</div>"
      ],
      "text/plain": [
       "                                               title          date  \\\n",
       "0  At the core, Shivaay is an emotional film : Aj...  Oct 12, 2016   \n",
       "1  Kanye West’s unreleased songs surface online\\n...  Oct 12, 2016   \n",
       "2  Argentina stunned, Vidal rescues Chile in S Am...  Oct 12, 2016   \n",
       "3  Now, CPM bats for autonomous colleges\\nEBM New...  Oct 12, 2016   \n",
       "4  India’s September Iran oil imports fall 4.1 pe...  Oct 12, 2016   \n",
       "5  2016 Volkswagen Polo Allstar revealed\\nEBM New...  Oct 12, 2016   \n",
       "6  After Note 7, Samsung caught up in patent clas...  Oct 12, 2016   \n",
       "7  Delhi High Court: University can deny admissio...  Oct 12, 2016   \n",
       "8  Aston Martin DB11 launched at Rs 4.27 crore\\nE...  Oct 12, 2016   \n",
       "9  China does not want to de-friend India at the ...  Oct 12, 2016   \n",
       "\n",
       "                                                desc  \n",
       "0  Ajay Devgn is coming up with his magnum opus, ...  \n",
       "1  Los Angeles, Two of rapper Kanye West's unrele...  \n",
       "2  Montevideo, Oct 12 (AFP) Argentina crashed to ...  \n",
       "3  THIRUVANANTHAPURAM: Though pro-CPM student and...  \n",
       "4  NEW DELHI: India's purchases of Iranian oil fe...  \n",
       "5  Volkswagen has released details of the upcomin...  \n",
       "6  UNITED STATES: The epic patent clash between A...  \n",
       "7  The Delhi High Court has held a petition makin...  \n",
       "8  Aston Martin has launched its newest model, th...  \n",
       "9  NEW DELHI: Ahead of the weekend meeting betwee...  "
      ]
     },
     "execution_count": 13,
     "metadata": {},
     "output_type": "execute_result"
    }
   ],
   "source": [
    "news"
   ]
  },
  {
   "cell_type": "code",
   "execution_count": null,
   "metadata": {},
   "outputs": [],
   "source": []
  }
 ],
 "metadata": {
  "kernelspec": {
   "display_name": "Python 3",
   "language": "python",
   "name": "python3"
  },
  "language_info": {
   "codemirror_mode": {
    "name": "ipython",
    "version": 3
   },
   "file_extension": ".py",
   "mimetype": "text/x-python",
   "name": "python",
   "nbconvert_exporter": "python",
   "pygments_lexer": "ipython3",
   "version": "3.7.6"
  }
 },
 "nbformat": 4,
 "nbformat_minor": 4
}
