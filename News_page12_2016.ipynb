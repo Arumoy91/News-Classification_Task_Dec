{
 "cells": [
  {
   "cell_type": "code",
   "execution_count": 1,
   "metadata": {},
   "outputs": [],
   "source": [
    "import selenium"
   ]
  },
  {
   "cell_type": "code",
   "execution_count": 2,
   "metadata": {},
   "outputs": [],
   "source": [
    "import pandas as pd\n",
    "from selenium import webdriver"
   ]
  },
  {
   "cell_type": "code",
   "execution_count": 3,
   "metadata": {},
   "outputs": [],
   "source": [
    "driver=webdriver.Chrome(\"C:\\chromedriver.exe\")"
   ]
  },
  {
   "cell_type": "code",
   "execution_count": 4,
   "metadata": {},
   "outputs": [],
   "source": [
    "driver.get('https://www.ebmnews.com/2016/page/12/')"
   ]
  },
  {
   "cell_type": "code",
   "execution_count": 5,
   "metadata": {},
   "outputs": [],
   "source": [
    "news_titles=[]\n",
    "date=[]\n",
    "description=[]"
   ]
  },
  {
   "cell_type": "code",
   "execution_count": 6,
   "metadata": {},
   "outputs": [
    {
     "data": {
      "text/plain": [
       "[<selenium.webdriver.remote.webelement.WebElement (session=\"06c408012313ac1fd8140e4fe9356c26\", element=\"53cb80a5-b72a-4d5f-b8c4-60712c26dc03\")>,\n",
       " <selenium.webdriver.remote.webelement.WebElement (session=\"06c408012313ac1fd8140e4fe9356c26\", element=\"8cd1ae4d-4fda-41cf-b896-6535c3149652\")>,\n",
       " <selenium.webdriver.remote.webelement.WebElement (session=\"06c408012313ac1fd8140e4fe9356c26\", element=\"2c957df5-e8f4-4c85-a08d-b709cea1a903\")>,\n",
       " <selenium.webdriver.remote.webelement.WebElement (session=\"06c408012313ac1fd8140e4fe9356c26\", element=\"586a8aa6-5ffb-4012-90c6-81099b80d85e\")>,\n",
       " <selenium.webdriver.remote.webelement.WebElement (session=\"06c408012313ac1fd8140e4fe9356c26\", element=\"6b86cef1-e9e8-460e-8158-21e642b97e24\")>,\n",
       " <selenium.webdriver.remote.webelement.WebElement (session=\"06c408012313ac1fd8140e4fe9356c26\", element=\"5be1d882-a7f3-431c-bbda-127110caa101\")>,\n",
       " <selenium.webdriver.remote.webelement.WebElement (session=\"06c408012313ac1fd8140e4fe9356c26\", element=\"74b66bb8-a12f-4f58-9c55-5d53845fd130\")>,\n",
       " <selenium.webdriver.remote.webelement.WebElement (session=\"06c408012313ac1fd8140e4fe9356c26\", element=\"c5f32c86-5e6c-4a03-bf69-5331daeeac02\")>,\n",
       " <selenium.webdriver.remote.webelement.WebElement (session=\"06c408012313ac1fd8140e4fe9356c26\", element=\"f0fe0547-679f-4e5b-9c6e-3aca02dac95a\")>,\n",
       " <selenium.webdriver.remote.webelement.WebElement (session=\"06c408012313ac1fd8140e4fe9356c26\", element=\"6067501a-2c59-4e5c-8682-1419fc3d5679\")>]"
      ]
     },
     "execution_count": 6,
     "metadata": {},
     "output_type": "execute_result"
    }
   ],
   "source": [
    "title_tags=driver.find_elements_by_xpath(\"//div[@class='item-inner clearfix']\")\n",
    "title_tags[0:10]"
   ]
  },
  {
   "cell_type": "code",
   "execution_count": 7,
   "metadata": {},
   "outputs": [
    {
     "data": {
      "text/plain": [
       "['Restrictions in Srinagar to prevent Muharram procession in Srinagar\\nEBM News English Oct 12, 2016\\nSRINAGAR: Authorities in Jammu and Kashmir imposed restrictions in parts of Srinagar on Wednesday to prevent a Muharram procession…',\n",
       " 'Blood pressure drugs may trigger depression: Study\\nEBM News English Oct 12, 2016\\nLondon: Researchers including one of Indian-origin found that commonly prescribed blood pressure drugs may increase the risk of…',\n",
       " 'Raid de Himalaya called off after rider fatality\\nEBM News English Oct 12, 2016\\nThe 18th edition of the arduous Raid de Himalaya has been called off after the tragic passing of Subhamoy Paul, an extreme Moto…',\n",
       " 'Cop attempts to rape colleague; seniors ‘try to hush it up’\\nEBM News English Oct 12, 2016\\nA police constable has been temporarily taken off the job after he allegedly tried to rape a female colleague during a patrol at…',\n",
       " 'Sweet victory sans pitch as 12th man\\nEBM News English Oct 12, 2016\\nIt was total submission by the Black Caps. The whitewash was an accurate outcome because the visitors could never measure up to…',\n",
       " 'Hero Motors to manufacture gears for Ducati motorcycles\\nEBM News English Oct 12, 2016\\nHero Group, owner of India’s largest motorcycle manufacturer Hero MotoCorp, has won a contract to manufacture gears for Ducati’s…',\n",
       " 'Middle-order disorder proves decisive for kiwis\\nEBM News English Oct 12, 2016\\nINDORE: New Zealand will look at the scoreline and wonder if they were as bad as it looks. When a team is whitewashed 0-3, it is…',\n",
       " 'Air India to launch mentorship program for cabin crew\\nEBM News English Oct 12, 2016\\nNEW DELHI: Air India, faced with stiff competition, is dipping into experience as a part of its ambitious turnaround efforts — one…',\n",
       " 'Jaitley to speak on FDI and taxation\\nEBM News English Oct 12, 2016\\nNEW DELHI: Finance Minister Arun Jaitley will,  on Thursday, address a seminar on better international taxation procedure and…',\n",
       " 'Manual scavengers give a hand to clean clogged up bio-toilets\\nEBM News English Oct 12, 2016\\nCHENNAI: An overwhelming majority of trains fitted with bio-toilets, maintained at two train care centres in the city, are choked…']"
      ]
     },
     "execution_count": 7,
     "metadata": {},
     "output_type": "execute_result"
    }
   ],
   "source": [
    "for i in title_tags:\n",
    "    \n",
    "    title=i.text\n",
    "    news_titles.append(title)\n",
    "news_titles[0:10]"
   ]
  },
  {
   "cell_type": "code",
   "execution_count": 8,
   "metadata": {},
   "outputs": [
    {
     "data": {
      "text/plain": [
       "[<selenium.webdriver.remote.webelement.WebElement (session=\"06c408012313ac1fd8140e4fe9356c26\", element=\"f62057d3-2040-4b7a-b2cd-a8aae6e51f63\")>,\n",
       " <selenium.webdriver.remote.webelement.WebElement (session=\"06c408012313ac1fd8140e4fe9356c26\", element=\"980a8a58-afc1-4fd3-882c-db8bc87b1299\")>,\n",
       " <selenium.webdriver.remote.webelement.WebElement (session=\"06c408012313ac1fd8140e4fe9356c26\", element=\"dc07876c-ab9f-42e4-a2fb-c53acc0bc3ea\")>,\n",
       " <selenium.webdriver.remote.webelement.WebElement (session=\"06c408012313ac1fd8140e4fe9356c26\", element=\"59dc2848-c899-42c6-8664-8a4ab4b232bc\")>,\n",
       " <selenium.webdriver.remote.webelement.WebElement (session=\"06c408012313ac1fd8140e4fe9356c26\", element=\"e90a8604-9661-423d-94f6-998f9d2e4533\")>,\n",
       " <selenium.webdriver.remote.webelement.WebElement (session=\"06c408012313ac1fd8140e4fe9356c26\", element=\"06a8f0ca-9d58-4af3-a167-2c135e3000f5\")>,\n",
       " <selenium.webdriver.remote.webelement.WebElement (session=\"06c408012313ac1fd8140e4fe9356c26\", element=\"7aa80fe3-6750-4b9d-a923-e2cea06b731c\")>,\n",
       " <selenium.webdriver.remote.webelement.WebElement (session=\"06c408012313ac1fd8140e4fe9356c26\", element=\"f09e1adc-fc37-46b3-805f-15581b66bad5\")>,\n",
       " <selenium.webdriver.remote.webelement.WebElement (session=\"06c408012313ac1fd8140e4fe9356c26\", element=\"eae86724-3350-4d7c-9be8-1e8f401a3bd8\")>,\n",
       " <selenium.webdriver.remote.webelement.WebElement (session=\"06c408012313ac1fd8140e4fe9356c26\", element=\"06629d00-5e76-4074-b973-ede7a1c5d167\")>]"
      ]
     },
     "execution_count": 8,
     "metadata": {},
     "output_type": "execute_result"
    }
   ],
   "source": [
    "date_tags=driver.find_elements_by_xpath(\"//span[@class='time']\")\n",
    "date_tags[0:10]"
   ]
  },
  {
   "cell_type": "code",
   "execution_count": 9,
   "metadata": {},
   "outputs": [
    {
     "data": {
      "text/plain": [
       "['Oct 12, 2016',\n",
       " 'Oct 12, 2016',\n",
       " 'Oct 12, 2016',\n",
       " 'Oct 12, 2016',\n",
       " 'Oct 12, 2016',\n",
       " 'Oct 12, 2016',\n",
       " 'Oct 12, 2016',\n",
       " 'Oct 12, 2016',\n",
       " 'Oct 12, 2016',\n",
       " 'Oct 12, 2016']"
      ]
     },
     "execution_count": 9,
     "metadata": {},
     "output_type": "execute_result"
    }
   ],
   "source": [
    "for i in date_tags:\n",
    "    \n",
    "    title=i.text\n",
    "    date.append(title)\n",
    "date[0:10]"
   ]
  },
  {
   "cell_type": "code",
   "execution_count": 10,
   "metadata": {},
   "outputs": [
    {
     "data": {
      "text/plain": [
       "[<selenium.webdriver.remote.webelement.WebElement (session=\"06c408012313ac1fd8140e4fe9356c26\", element=\"e41abc52-2d58-4fa5-91b2-5d710ca91671\")>,\n",
       " <selenium.webdriver.remote.webelement.WebElement (session=\"06c408012313ac1fd8140e4fe9356c26\", element=\"2f8f7080-5db3-4ee4-81ff-d7d9ea826ffe\")>,\n",
       " <selenium.webdriver.remote.webelement.WebElement (session=\"06c408012313ac1fd8140e4fe9356c26\", element=\"8c831337-93df-49f5-a9f8-f56e69b65efa\")>,\n",
       " <selenium.webdriver.remote.webelement.WebElement (session=\"06c408012313ac1fd8140e4fe9356c26\", element=\"bbcd6922-3f35-4d80-9142-7b4d9157e7d9\")>,\n",
       " <selenium.webdriver.remote.webelement.WebElement (session=\"06c408012313ac1fd8140e4fe9356c26\", element=\"7f0aeb46-a621-41a2-bd51-3c2c3b3dbbf3\")>,\n",
       " <selenium.webdriver.remote.webelement.WebElement (session=\"06c408012313ac1fd8140e4fe9356c26\", element=\"26d5901d-d813-4594-a9f3-82df1842a25f\")>,\n",
       " <selenium.webdriver.remote.webelement.WebElement (session=\"06c408012313ac1fd8140e4fe9356c26\", element=\"457d6acc-03e8-4fee-8743-5e0faaa9f5bd\")>,\n",
       " <selenium.webdriver.remote.webelement.WebElement (session=\"06c408012313ac1fd8140e4fe9356c26\", element=\"b5652761-34f2-4b19-aeba-1a51bdd1e17b\")>,\n",
       " <selenium.webdriver.remote.webelement.WebElement (session=\"06c408012313ac1fd8140e4fe9356c26\", element=\"a4b8ed93-2a67-4edc-ba1b-9be002b275a9\")>,\n",
       " <selenium.webdriver.remote.webelement.WebElement (session=\"06c408012313ac1fd8140e4fe9356c26\", element=\"2ae23749-ca2e-490c-8404-b9316edca5ae\")>]"
      ]
     },
     "execution_count": 10,
     "metadata": {},
     "output_type": "execute_result"
    }
   ],
   "source": [
    "desc_tags=driver.find_elements_by_xpath(\"//div[@class='post-summary']\")\n",
    "desc_tags[0:10]"
   ]
  },
  {
   "cell_type": "code",
   "execution_count": 11,
   "metadata": {},
   "outputs": [
    {
     "data": {
      "text/plain": [
       "['SRINAGAR: Authorities in Jammu and Kashmir imposed restrictions in parts of Srinagar on Wednesday to prevent a Muharram procession…',\n",
       " 'London: Researchers including one of Indian-origin found that commonly prescribed blood pressure drugs may increase the risk of…',\n",
       " 'The 18th edition of the arduous Raid de Himalaya has been called off after the tragic passing of Subhamoy Paul, an extreme Moto…',\n",
       " 'A police constable has been temporarily taken off the job after he allegedly tried to rape a female colleague during a patrol at…',\n",
       " 'It was total submission by the Black Caps. The whitewash was an accurate outcome because the visitors could never measure up to…',\n",
       " 'Hero Group, owner of India’s largest motorcycle manufacturer Hero MotoCorp, has won a contract to manufacture gears for Ducati’s…',\n",
       " 'INDORE: New Zealand will look at the scoreline and wonder if they were as bad as it looks. When a team is whitewashed 0-3, it is…',\n",
       " 'NEW DELHI: Air India, faced with stiff competition, is dipping into experience as a part of its ambitious turnaround efforts — one…',\n",
       " 'NEW DELHI: Finance Minister Arun Jaitley will,  on Thursday, address a seminar on better international taxation procedure and…',\n",
       " 'CHENNAI: An overwhelming majority of trains fitted with bio-toilets, maintained at two train care centres in the city, are choked…']"
      ]
     },
     "execution_count": 11,
     "metadata": {},
     "output_type": "execute_result"
    }
   ],
   "source": [
    "for i in desc_tags:\n",
    "    \n",
    "    title=i.text\n",
    "    description.append(title)\n",
    "description[0:10]"
   ]
  },
  {
   "cell_type": "code",
   "execution_count": 12,
   "metadata": {},
   "outputs": [
    {
     "name": "stdout",
     "output_type": "stream",
     "text": [
      "10 10 10\n"
     ]
    }
   ],
   "source": [
    "print(len(news_titles),len(date),len(description))"
   ]
  },
  {
   "cell_type": "code",
   "execution_count": 13,
   "metadata": {},
   "outputs": [],
   "source": [
    "import pandas as pd\n",
    "news=pd.DataFrame({})\n",
    "news['title']=news_titles[0:10]\n",
    "news['date']=date[0:10]\n",
    "news['desc']=description[0:10]"
   ]
  },
  {
   "cell_type": "code",
   "execution_count": 14,
   "metadata": {},
   "outputs": [
    {
     "data": {
      "text/html": [
       "<div>\n",
       "<style scoped>\n",
       "    .dataframe tbody tr th:only-of-type {\n",
       "        vertical-align: middle;\n",
       "    }\n",
       "\n",
       "    .dataframe tbody tr th {\n",
       "        vertical-align: top;\n",
       "    }\n",
       "\n",
       "    .dataframe thead th {\n",
       "        text-align: right;\n",
       "    }\n",
       "</style>\n",
       "<table border=\"1\" class=\"dataframe\">\n",
       "  <thead>\n",
       "    <tr style=\"text-align: right;\">\n",
       "      <th></th>\n",
       "      <th>title</th>\n",
       "      <th>date</th>\n",
       "      <th>desc</th>\n",
       "    </tr>\n",
       "  </thead>\n",
       "  <tbody>\n",
       "    <tr>\n",
       "      <th>0</th>\n",
       "      <td>Restrictions in Srinagar to prevent Muharram p...</td>\n",
       "      <td>Oct 12, 2016</td>\n",
       "      <td>SRINAGAR: Authorities in Jammu and Kashmir imp...</td>\n",
       "    </tr>\n",
       "    <tr>\n",
       "      <th>1</th>\n",
       "      <td>Blood pressure drugs may trigger depression: S...</td>\n",
       "      <td>Oct 12, 2016</td>\n",
       "      <td>London: Researchers including one of Indian-or...</td>\n",
       "    </tr>\n",
       "    <tr>\n",
       "      <th>2</th>\n",
       "      <td>Raid de Himalaya called off after rider fatali...</td>\n",
       "      <td>Oct 12, 2016</td>\n",
       "      <td>The 18th edition of the arduous Raid de Himala...</td>\n",
       "    </tr>\n",
       "    <tr>\n",
       "      <th>3</th>\n",
       "      <td>Cop attempts to rape colleague; seniors ‘try t...</td>\n",
       "      <td>Oct 12, 2016</td>\n",
       "      <td>A police constable has been temporarily taken ...</td>\n",
       "    </tr>\n",
       "    <tr>\n",
       "      <th>4</th>\n",
       "      <td>Sweet victory sans pitch as 12th man\\nEBM News...</td>\n",
       "      <td>Oct 12, 2016</td>\n",
       "      <td>It was total submission by the Black Caps. The...</td>\n",
       "    </tr>\n",
       "    <tr>\n",
       "      <th>5</th>\n",
       "      <td>Hero Motors to manufacture gears for Ducati mo...</td>\n",
       "      <td>Oct 12, 2016</td>\n",
       "      <td>Hero Group, owner of India’s largest motorcycl...</td>\n",
       "    </tr>\n",
       "    <tr>\n",
       "      <th>6</th>\n",
       "      <td>Middle-order disorder proves decisive for kiwi...</td>\n",
       "      <td>Oct 12, 2016</td>\n",
       "      <td>INDORE: New Zealand will look at the scoreline...</td>\n",
       "    </tr>\n",
       "    <tr>\n",
       "      <th>7</th>\n",
       "      <td>Air India to launch mentorship program for cab...</td>\n",
       "      <td>Oct 12, 2016</td>\n",
       "      <td>NEW DELHI: Air India, faced with stiff competi...</td>\n",
       "    </tr>\n",
       "    <tr>\n",
       "      <th>8</th>\n",
       "      <td>Jaitley to speak on FDI and taxation\\nEBM News...</td>\n",
       "      <td>Oct 12, 2016</td>\n",
       "      <td>NEW DELHI: Finance Minister Arun Jaitley will,...</td>\n",
       "    </tr>\n",
       "    <tr>\n",
       "      <th>9</th>\n",
       "      <td>Manual scavengers give a hand to clean clogged...</td>\n",
       "      <td>Oct 12, 2016</td>\n",
       "      <td>CHENNAI: An overwhelming majority of trains fi...</td>\n",
       "    </tr>\n",
       "  </tbody>\n",
       "</table>\n",
       "</div>"
      ],
      "text/plain": [
       "                                               title          date  \\\n",
       "0  Restrictions in Srinagar to prevent Muharram p...  Oct 12, 2016   \n",
       "1  Blood pressure drugs may trigger depression: S...  Oct 12, 2016   \n",
       "2  Raid de Himalaya called off after rider fatali...  Oct 12, 2016   \n",
       "3  Cop attempts to rape colleague; seniors ‘try t...  Oct 12, 2016   \n",
       "4  Sweet victory sans pitch as 12th man\\nEBM News...  Oct 12, 2016   \n",
       "5  Hero Motors to manufacture gears for Ducati mo...  Oct 12, 2016   \n",
       "6  Middle-order disorder proves decisive for kiwi...  Oct 12, 2016   \n",
       "7  Air India to launch mentorship program for cab...  Oct 12, 2016   \n",
       "8  Jaitley to speak on FDI and taxation\\nEBM News...  Oct 12, 2016   \n",
       "9  Manual scavengers give a hand to clean clogged...  Oct 12, 2016   \n",
       "\n",
       "                                                desc  \n",
       "0  SRINAGAR: Authorities in Jammu and Kashmir imp...  \n",
       "1  London: Researchers including one of Indian-or...  \n",
       "2  The 18th edition of the arduous Raid de Himala...  \n",
       "3  A police constable has been temporarily taken ...  \n",
       "4  It was total submission by the Black Caps. The...  \n",
       "5  Hero Group, owner of India’s largest motorcycl...  \n",
       "6  INDORE: New Zealand will look at the scoreline...  \n",
       "7  NEW DELHI: Air India, faced with stiff competi...  \n",
       "8  NEW DELHI: Finance Minister Arun Jaitley will,...  \n",
       "9  CHENNAI: An overwhelming majority of trains fi...  "
      ]
     },
     "execution_count": 14,
     "metadata": {},
     "output_type": "execute_result"
    }
   ],
   "source": [
    "news"
   ]
  },
  {
   "cell_type": "code",
   "execution_count": null,
   "metadata": {},
   "outputs": [],
   "source": []
  }
 ],
 "metadata": {
  "kernelspec": {
   "display_name": "Python 3",
   "language": "python",
   "name": "python3"
  },
  "language_info": {
   "codemirror_mode": {
    "name": "ipython",
    "version": 3
   },
   "file_extension": ".py",
   "mimetype": "text/x-python",
   "name": "python",
   "nbconvert_exporter": "python",
   "pygments_lexer": "ipython3",
   "version": "3.7.6"
  }
 },
 "nbformat": 4,
 "nbformat_minor": 4
}
