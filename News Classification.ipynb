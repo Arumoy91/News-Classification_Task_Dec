{
 "cells": [
  {
   "cell_type": "code",
   "execution_count": 1,
   "metadata": {},
   "outputs": [],
   "source": [
    "import selenium"
   ]
  },
  {
   "cell_type": "code",
   "execution_count": 2,
   "metadata": {},
   "outputs": [],
   "source": [
    "import pandas as pd\n",
    "from selenium import webdriver"
   ]
  },
  {
   "cell_type": "code",
   "execution_count": 3,
   "metadata": {},
   "outputs": [],
   "source": [
    "driver=webdriver.Chrome(\"C:\\chromedriver.exe\")"
   ]
  },
  {
   "cell_type": "code",
   "execution_count": 4,
   "metadata": {},
   "outputs": [],
   "source": [
    "driver.get('https://www.ebmnews.com/2015/')"
   ]
  },
  {
   "cell_type": "code",
   "execution_count": 5,
   "metadata": {},
   "outputs": [],
   "source": [
    "news_titles=[]\n",
    "date=[]\n",
    "description=[]"
   ]
  },
  {
   "cell_type": "code",
   "execution_count": 6,
   "metadata": {},
   "outputs": [
    {
     "data": {
      "text/plain": [
       "[<selenium.webdriver.remote.webelement.WebElement (session=\"4d2d94d1eeed652a19c454e75f679bcb\", element=\"e3041223-6b52-462d-9801-0aaeb04ec54d\")>,\n",
       " <selenium.webdriver.remote.webelement.WebElement (session=\"4d2d94d1eeed652a19c454e75f679bcb\", element=\"6cffd6ac-1801-4f85-925f-2b5af83379ab\")>,\n",
       " <selenium.webdriver.remote.webelement.WebElement (session=\"4d2d94d1eeed652a19c454e75f679bcb\", element=\"2e0d2e29-017f-4b01-9355-4d2080c65024\")>,\n",
       " <selenium.webdriver.remote.webelement.WebElement (session=\"4d2d94d1eeed652a19c454e75f679bcb\", element=\"94a75351-b9f3-4e03-8f99-9dc3b633714b\")>,\n",
       " <selenium.webdriver.remote.webelement.WebElement (session=\"4d2d94d1eeed652a19c454e75f679bcb\", element=\"cfb6b1e2-358a-490e-b613-079be1e8cd3f\")>,\n",
       " <selenium.webdriver.remote.webelement.WebElement (session=\"4d2d94d1eeed652a19c454e75f679bcb\", element=\"1d7d8c29-959f-43a8-b610-3d6f88c299cc\")>,\n",
       " <selenium.webdriver.remote.webelement.WebElement (session=\"4d2d94d1eeed652a19c454e75f679bcb\", element=\"389d8f40-6813-45b2-8664-b049d800e2c7\")>,\n",
       " <selenium.webdriver.remote.webelement.WebElement (session=\"4d2d94d1eeed652a19c454e75f679bcb\", element=\"d560b4eb-0cf9-4c82-a443-392ffa1623b6\")>,\n",
       " <selenium.webdriver.remote.webelement.WebElement (session=\"4d2d94d1eeed652a19c454e75f679bcb\", element=\"79aec02d-8ad2-40f0-a5b3-750a5ed911fc\")>,\n",
       " <selenium.webdriver.remote.webelement.WebElement (session=\"4d2d94d1eeed652a19c454e75f679bcb\", element=\"84a98ef9-8651-4548-a36c-cf9113ce1455\")>]"
      ]
     },
     "execution_count": 6,
     "metadata": {},
     "output_type": "execute_result"
    }
   ],
   "source": [
    "title_tags=driver.find_elements_by_xpath(\"//div[@class='item-inner clearfix']\")\n",
    "title_tags[0:10]"
   ]
  },
  {
   "cell_type": "code",
   "execution_count": 7,
   "metadata": {},
   "outputs": [
    {
     "data": {
      "text/plain": [
       "['Senior-friendly phone for the elderly\\nEBM News English Nov 30, 2015\\nSeniorWorld.com, a portal of products and services for senior citizens, has launched a phone with a slate of features for the…',\n",
       " 'NDA, NA Exam: Results declared\\nEBM News English Nov 28, 2015\\nKochi: The Union Public Service Commission has today published the final results of National Defence Academy and Naval Academy…',\n",
       " 'Avoid keeping mobile near your bed\\nEBM News English Nov 28, 2015\\nAvoid keeping mobile near your bed Avoid keeping mobile near your bed London: A new study has suggested that smartphones, tablets…',\n",
       " 'Delhi Cabinet approves MLA’s salary hike\\nEBM News English Nov 28, 2015\\nNew Delhi, Nov 28: The AAP government on Nov 27 approved a hike in salary and allowances of Delhi MLAs. The decision was taken at…',\n",
       " 'BMW to raise car prices in India by up to 3 per cent starting 2016\\nEBM News English Nov 28, 2015\\nNew Delhi: German carmaker BMW will raise the prices of its BMW- and Mini-branded cars sold in India by up to 3 per cent starting…',\n",
       " 'CM Oommen Chandy to launch GKSF on December 1 at Kollam\\nEBM News English Nov 28, 2015\\n: Chief minister Oommen Chandy will inaugurate the ninth edition of the Grand Kerala Shopping Festival (GKSF) at Cantonment ground…',\n",
       " 'CM Oommen Chandy visits family of Methakudy Noushad\\nEBM News English Nov 28, 2015\\nKozhikode: Chief Minister Oommen Chandy visited the house of Methakudy Noushad, the 32- year-old auto driver from Malikadavu near…',\n",
       " 'Chittilappilly to donate Rs 5 lakh to the family of Noushad\\nEBM News English Nov 28, 2015\\nKochouseph Chittilappilly, noted industrialist and social activists has come forward to help the family of Noushad, who sacrificed…',\n",
       " 'Govt ‘optimistic’ as Congress supports GST Bill in ‘principle’\\nEBM News English Nov 28, 2015\\nNew Delhi: The government on Saturday expressed confidence over the ending of the impasse over the Goods and Service Tax (GST)…',\n",
       " \"Briton kept father’s skeleton in armchair for months: inquest\\nEBM News English Nov 28, 2015\\nLondon: A man lived with his father's dead body for four months, even watching television alongside the skeleton, but escaped…\"]"
      ]
     },
     "execution_count": 7,
     "metadata": {},
     "output_type": "execute_result"
    }
   ],
   "source": [
    "for i in title_tags:\n",
    "    \n",
    "    title=i.text\n",
    "    news_titles.append(title)\n",
    "news_titles[0:10]"
   ]
  },
  {
   "cell_type": "code",
   "execution_count": 8,
   "metadata": {},
   "outputs": [
    {
     "data": {
      "text/plain": [
       "[<selenium.webdriver.remote.webelement.WebElement (session=\"4d2d94d1eeed652a19c454e75f679bcb\", element=\"608c5483-cbd0-49bd-9b95-59bdd79f25c3\")>,\n",
       " <selenium.webdriver.remote.webelement.WebElement (session=\"4d2d94d1eeed652a19c454e75f679bcb\", element=\"d697ce9c-e318-4c9c-a1a0-a5bcf2c74f7b\")>,\n",
       " <selenium.webdriver.remote.webelement.WebElement (session=\"4d2d94d1eeed652a19c454e75f679bcb\", element=\"5ec58a71-0544-479c-90db-0bdfc930d303\")>,\n",
       " <selenium.webdriver.remote.webelement.WebElement (session=\"4d2d94d1eeed652a19c454e75f679bcb\", element=\"21c499a2-16c1-48a5-bd9d-9f1acc1347b2\")>,\n",
       " <selenium.webdriver.remote.webelement.WebElement (session=\"4d2d94d1eeed652a19c454e75f679bcb\", element=\"9ab495a6-b888-43d0-994b-c4a0da282410\")>,\n",
       " <selenium.webdriver.remote.webelement.WebElement (session=\"4d2d94d1eeed652a19c454e75f679bcb\", element=\"0a3fe47e-465e-48d1-8e32-77c1a14633bc\")>,\n",
       " <selenium.webdriver.remote.webelement.WebElement (session=\"4d2d94d1eeed652a19c454e75f679bcb\", element=\"cf22ef24-51a6-40a8-b14e-82d670be2c29\")>,\n",
       " <selenium.webdriver.remote.webelement.WebElement (session=\"4d2d94d1eeed652a19c454e75f679bcb\", element=\"a76f6dd4-5434-4fe6-b22d-ffa19520a3de\")>,\n",
       " <selenium.webdriver.remote.webelement.WebElement (session=\"4d2d94d1eeed652a19c454e75f679bcb\", element=\"644e3dae-dd5a-4431-a8e3-f393197c6cf3\")>,\n",
       " <selenium.webdriver.remote.webelement.WebElement (session=\"4d2d94d1eeed652a19c454e75f679bcb\", element=\"219dceab-6a25-45ae-b6d8-d30792b777bf\")>]"
      ]
     },
     "execution_count": 8,
     "metadata": {},
     "output_type": "execute_result"
    }
   ],
   "source": [
    "date_tags=driver.find_elements_by_xpath(\"//span[@class='time']\")\n",
    "date_tags[0:10]"
   ]
  },
  {
   "cell_type": "code",
   "execution_count": 9,
   "metadata": {},
   "outputs": [
    {
     "data": {
      "text/plain": [
       "['Nov 30, 2015',\n",
       " 'Nov 28, 2015',\n",
       " 'Nov 28, 2015',\n",
       " 'Nov 28, 2015',\n",
       " 'Nov 28, 2015',\n",
       " 'Nov 28, 2015',\n",
       " 'Nov 28, 2015',\n",
       " 'Nov 28, 2015',\n",
       " 'Nov 28, 2015',\n",
       " 'Nov 28, 2015']"
      ]
     },
     "execution_count": 9,
     "metadata": {},
     "output_type": "execute_result"
    }
   ],
   "source": [
    "for i in date_tags:\n",
    "    \n",
    "    title=i.text\n",
    "    date.append(title)\n",
    "date[0:10]"
   ]
  },
  {
   "cell_type": "code",
   "execution_count": 10,
   "metadata": {},
   "outputs": [
    {
     "data": {
      "text/plain": [
       "[<selenium.webdriver.remote.webelement.WebElement (session=\"4d2d94d1eeed652a19c454e75f679bcb\", element=\"3d3d3fbd-bc17-4eeb-a96e-aee3c96c1e58\")>,\n",
       " <selenium.webdriver.remote.webelement.WebElement (session=\"4d2d94d1eeed652a19c454e75f679bcb\", element=\"bdb4aac1-d1c6-4e8b-b47c-4b24fa85a8e7\")>,\n",
       " <selenium.webdriver.remote.webelement.WebElement (session=\"4d2d94d1eeed652a19c454e75f679bcb\", element=\"be7ca590-65ce-4d2e-bc6d-c0f010c31caf\")>,\n",
       " <selenium.webdriver.remote.webelement.WebElement (session=\"4d2d94d1eeed652a19c454e75f679bcb\", element=\"3837e568-95d3-456d-999c-712c4de964ca\")>,\n",
       " <selenium.webdriver.remote.webelement.WebElement (session=\"4d2d94d1eeed652a19c454e75f679bcb\", element=\"97c85370-3857-4e36-84e8-d7ec7dd39365\")>,\n",
       " <selenium.webdriver.remote.webelement.WebElement (session=\"4d2d94d1eeed652a19c454e75f679bcb\", element=\"64aff8a1-2786-4584-987a-06c45793271a\")>,\n",
       " <selenium.webdriver.remote.webelement.WebElement (session=\"4d2d94d1eeed652a19c454e75f679bcb\", element=\"944565dd-e878-46f5-8474-e26f854da809\")>,\n",
       " <selenium.webdriver.remote.webelement.WebElement (session=\"4d2d94d1eeed652a19c454e75f679bcb\", element=\"b7374d8a-698e-4df2-b573-d1e5ed9ca80b\")>,\n",
       " <selenium.webdriver.remote.webelement.WebElement (session=\"4d2d94d1eeed652a19c454e75f679bcb\", element=\"c626e9aa-8165-46d3-8dfd-9bfc4694ac4e\")>,\n",
       " <selenium.webdriver.remote.webelement.WebElement (session=\"4d2d94d1eeed652a19c454e75f679bcb\", element=\"1047dc43-29d3-4805-a215-fa115126cbea\")>]"
      ]
     },
     "execution_count": 10,
     "metadata": {},
     "output_type": "execute_result"
    }
   ],
   "source": [
    "desc_tags=driver.find_elements_by_xpath(\"//div[@class='post-summary']\")\n",
    "desc_tags[0:10]"
   ]
  },
  {
   "cell_type": "code",
   "execution_count": 11,
   "metadata": {},
   "outputs": [
    {
     "data": {
      "text/plain": [
       "['SeniorWorld.com, a portal of products and services for senior citizens, has launched a phone with a slate of features for the…',\n",
       " 'Kochi: The Union Public Service Commission has today published the final results of National Defence Academy and Naval Academy…',\n",
       " 'Avoid keeping mobile near your bed Avoid keeping mobile near your bed London: A new study has suggested that smartphones, tablets…',\n",
       " 'New Delhi, Nov 28: The AAP government on Nov 27 approved a hike in salary and allowances of Delhi MLAs. The decision was taken at…',\n",
       " 'New Delhi: German carmaker BMW will raise the prices of its BMW- and Mini-branded cars sold in India by up to 3 per cent starting…',\n",
       " ': Chief minister Oommen Chandy will inaugurate the ninth edition of the Grand Kerala Shopping Festival (GKSF) at Cantonment ground…',\n",
       " 'Kozhikode: Chief Minister Oommen Chandy visited the house of Methakudy Noushad, the 32- year-old auto driver from Malikadavu near…',\n",
       " 'Kochouseph Chittilappilly, noted industrialist and social activists has come forward to help the family of Noushad, who sacrificed…',\n",
       " 'New Delhi: The government on Saturday expressed confidence over the ending of the impasse over the Goods and Service Tax (GST)…',\n",
       " \"London: A man lived with his father's dead body for four months, even watching television alongside the skeleton, but escaped…\"]"
      ]
     },
     "execution_count": 11,
     "metadata": {},
     "output_type": "execute_result"
    }
   ],
   "source": [
    "for i in desc_tags:\n",
    "    \n",
    "    title=i.text\n",
    "    description.append(title)\n",
    "description[0:10]"
   ]
  },
  {
   "cell_type": "code",
   "execution_count": 12,
   "metadata": {},
   "outputs": [
    {
     "name": "stdout",
     "output_type": "stream",
     "text": [
      "10 10 10\n"
     ]
    }
   ],
   "source": [
    "print(len(news_titles),len(date),len(description))"
   ]
  },
  {
   "cell_type": "code",
   "execution_count": 13,
   "metadata": {},
   "outputs": [],
   "source": [
    "import pandas as pd\n",
    "news=pd.DataFrame({})\n",
    "news['title']=news_titles[0:10]\n",
    "news['date']=date[0:10]\n",
    "news['desc']=description[0:10]"
   ]
  },
  {
   "cell_type": "code",
   "execution_count": 14,
   "metadata": {},
   "outputs": [
    {
     "data": {
      "text/html": [
       "<div>\n",
       "<style scoped>\n",
       "    .dataframe tbody tr th:only-of-type {\n",
       "        vertical-align: middle;\n",
       "    }\n",
       "\n",
       "    .dataframe tbody tr th {\n",
       "        vertical-align: top;\n",
       "    }\n",
       "\n",
       "    .dataframe thead th {\n",
       "        text-align: right;\n",
       "    }\n",
       "</style>\n",
       "<table border=\"1\" class=\"dataframe\">\n",
       "  <thead>\n",
       "    <tr style=\"text-align: right;\">\n",
       "      <th></th>\n",
       "      <th>title</th>\n",
       "      <th>date</th>\n",
       "      <th>desc</th>\n",
       "    </tr>\n",
       "  </thead>\n",
       "  <tbody>\n",
       "    <tr>\n",
       "      <th>0</th>\n",
       "      <td>Senior-friendly phone for the elderly\\nEBM New...</td>\n",
       "      <td>Nov 30, 2015</td>\n",
       "      <td>SeniorWorld.com, a portal of products and serv...</td>\n",
       "    </tr>\n",
       "    <tr>\n",
       "      <th>1</th>\n",
       "      <td>NDA, NA Exam: Results declared\\nEBM News Engli...</td>\n",
       "      <td>Nov 28, 2015</td>\n",
       "      <td>Kochi: The Union Public Service Commission has...</td>\n",
       "    </tr>\n",
       "    <tr>\n",
       "      <th>2</th>\n",
       "      <td>Avoid keeping mobile near your bed\\nEBM News E...</td>\n",
       "      <td>Nov 28, 2015</td>\n",
       "      <td>Avoid keeping mobile near your bed Avoid keepi...</td>\n",
       "    </tr>\n",
       "    <tr>\n",
       "      <th>3</th>\n",
       "      <td>Delhi Cabinet approves MLA’s salary hike\\nEBM ...</td>\n",
       "      <td>Nov 28, 2015</td>\n",
       "      <td>New Delhi, Nov 28: The AAP government on Nov 2...</td>\n",
       "    </tr>\n",
       "    <tr>\n",
       "      <th>4</th>\n",
       "      <td>BMW to raise car prices in India by up to 3 pe...</td>\n",
       "      <td>Nov 28, 2015</td>\n",
       "      <td>New Delhi: German carmaker BMW will raise the ...</td>\n",
       "    </tr>\n",
       "    <tr>\n",
       "      <th>5</th>\n",
       "      <td>CM Oommen Chandy to launch GKSF on December 1 ...</td>\n",
       "      <td>Nov 28, 2015</td>\n",
       "      <td>: Chief minister Oommen Chandy will inaugurate...</td>\n",
       "    </tr>\n",
       "    <tr>\n",
       "      <th>6</th>\n",
       "      <td>CM Oommen Chandy visits family of Methakudy No...</td>\n",
       "      <td>Nov 28, 2015</td>\n",
       "      <td>Kozhikode: Chief Minister Oommen Chandy visite...</td>\n",
       "    </tr>\n",
       "    <tr>\n",
       "      <th>7</th>\n",
       "      <td>Chittilappilly to donate Rs 5 lakh to the fami...</td>\n",
       "      <td>Nov 28, 2015</td>\n",
       "      <td>Kochouseph Chittilappilly, noted industrialist...</td>\n",
       "    </tr>\n",
       "    <tr>\n",
       "      <th>8</th>\n",
       "      <td>Govt ‘optimistic’ as Congress supports GST Bil...</td>\n",
       "      <td>Nov 28, 2015</td>\n",
       "      <td>New Delhi: The government on Saturday expresse...</td>\n",
       "    </tr>\n",
       "    <tr>\n",
       "      <th>9</th>\n",
       "      <td>Briton kept father’s skeleton in armchair for ...</td>\n",
       "      <td>Nov 28, 2015</td>\n",
       "      <td>London: A man lived with his father's dead bod...</td>\n",
       "    </tr>\n",
       "  </tbody>\n",
       "</table>\n",
       "</div>"
      ],
      "text/plain": [
       "                                               title          date  \\\n",
       "0  Senior-friendly phone for the elderly\\nEBM New...  Nov 30, 2015   \n",
       "1  NDA, NA Exam: Results declared\\nEBM News Engli...  Nov 28, 2015   \n",
       "2  Avoid keeping mobile near your bed\\nEBM News E...  Nov 28, 2015   \n",
       "3  Delhi Cabinet approves MLA’s salary hike\\nEBM ...  Nov 28, 2015   \n",
       "4  BMW to raise car prices in India by up to 3 pe...  Nov 28, 2015   \n",
       "5  CM Oommen Chandy to launch GKSF on December 1 ...  Nov 28, 2015   \n",
       "6  CM Oommen Chandy visits family of Methakudy No...  Nov 28, 2015   \n",
       "7  Chittilappilly to donate Rs 5 lakh to the fami...  Nov 28, 2015   \n",
       "8  Govt ‘optimistic’ as Congress supports GST Bil...  Nov 28, 2015   \n",
       "9  Briton kept father’s skeleton in armchair for ...  Nov 28, 2015   \n",
       "\n",
       "                                                desc  \n",
       "0  SeniorWorld.com, a portal of products and serv...  \n",
       "1  Kochi: The Union Public Service Commission has...  \n",
       "2  Avoid keeping mobile near your bed Avoid keepi...  \n",
       "3  New Delhi, Nov 28: The AAP government on Nov 2...  \n",
       "4  New Delhi: German carmaker BMW will raise the ...  \n",
       "5  : Chief minister Oommen Chandy will inaugurate...  \n",
       "6  Kozhikode: Chief Minister Oommen Chandy visite...  \n",
       "7  Kochouseph Chittilappilly, noted industrialist...  \n",
       "8  New Delhi: The government on Saturday expresse...  \n",
       "9  London: A man lived with his father's dead bod...  "
      ]
     },
     "execution_count": 14,
     "metadata": {},
     "output_type": "execute_result"
    }
   ],
   "source": [
    "news"
   ]
  }
 ],
 "metadata": {
  "kernelspec": {
   "display_name": "Python 3",
   "language": "python",
   "name": "python3"
  },
  "language_info": {
   "codemirror_mode": {
    "name": "ipython",
    "version": 3
   },
   "file_extension": ".py",
   "mimetype": "text/x-python",
   "name": "python",
   "nbconvert_exporter": "python",
   "pygments_lexer": "ipython3",
   "version": "3.7.6"
  }
 },
 "nbformat": 4,
 "nbformat_minor": 4
}
