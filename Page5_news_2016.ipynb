{
 "cells": [
  {
   "cell_type": "code",
   "execution_count": 1,
   "metadata": {},
   "outputs": [],
   "source": [
    "import selenium\n",
    "import pandas as pd\n",
    "from selenium import webdriver"
   ]
  },
  {
   "cell_type": "code",
   "execution_count": 2,
   "metadata": {},
   "outputs": [],
   "source": [
    "driver=webdriver.Chrome(\"C:\\chromedriver.exe\")"
   ]
  },
  {
   "cell_type": "code",
   "execution_count": 3,
   "metadata": {},
   "outputs": [],
   "source": [
    "driver.get('https://www.ebmnews.com/2016/page/5/')"
   ]
  },
  {
   "cell_type": "code",
   "execution_count": 6,
   "metadata": {},
   "outputs": [],
   "source": [
    "news_titles=[]\n",
    "date=[]\n",
    "description=[]"
   ]
  },
  {
   "cell_type": "code",
   "execution_count": 7,
   "metadata": {},
   "outputs": [
    {
     "data": {
      "text/plain": [
       "[<selenium.webdriver.remote.webelement.WebElement (session=\"ae516991e3114158be8d950732a72d87\", element=\"85956db0-a07c-4eef-bc61-2e3f557450c7\")>,\n",
       " <selenium.webdriver.remote.webelement.WebElement (session=\"ae516991e3114158be8d950732a72d87\", element=\"9ed4e22d-441b-4458-a3f0-c9d289626007\")>,\n",
       " <selenium.webdriver.remote.webelement.WebElement (session=\"ae516991e3114158be8d950732a72d87\", element=\"37ea9781-04d0-4ff8-b7f6-7456e8eec606\")>,\n",
       " <selenium.webdriver.remote.webelement.WebElement (session=\"ae516991e3114158be8d950732a72d87\", element=\"f00a372d-804b-4a90-8dde-9bcdc089cb58\")>,\n",
       " <selenium.webdriver.remote.webelement.WebElement (session=\"ae516991e3114158be8d950732a72d87\", element=\"64e66d8a-bd90-4469-a1e7-cd4ece551166\")>,\n",
       " <selenium.webdriver.remote.webelement.WebElement (session=\"ae516991e3114158be8d950732a72d87\", element=\"9ed94695-89f4-48d0-aacb-3b867619ee3a\")>,\n",
       " <selenium.webdriver.remote.webelement.WebElement (session=\"ae516991e3114158be8d950732a72d87\", element=\"da7b10da-39b6-4007-87d8-36219476e113\")>,\n",
       " <selenium.webdriver.remote.webelement.WebElement (session=\"ae516991e3114158be8d950732a72d87\", element=\"e22e46c2-f706-42e7-af35-c19c945e5c9f\")>,\n",
       " <selenium.webdriver.remote.webelement.WebElement (session=\"ae516991e3114158be8d950732a72d87\", element=\"26e3141f-2305-44fa-9f92-35176c8067be\")>,\n",
       " <selenium.webdriver.remote.webelement.WebElement (session=\"ae516991e3114158be8d950732a72d87\", element=\"195eba44-ead6-431d-b72a-e2279ae8a528\")>]"
      ]
     },
     "execution_count": 7,
     "metadata": {},
     "output_type": "execute_result"
    }
   ],
   "source": [
    "title_tags=driver.find_elements_by_xpath(\"//div[@class='item-inner clearfix']\")\n",
    "title_tags[0:10]"
   ]
  },
  {
   "cell_type": "code",
   "execution_count": 8,
   "metadata": {},
   "outputs": [
    {
     "data": {
      "text/plain": [
       "['Oil prices edge up by five percent on tighter U.S. fuel market\\nEBM News English Oct 14, 2016\\nSINGAPORE: Oil prices edged up on Friday, pushed by a tighter U.S. fuel market and as technical indicators attracted buying from…',\n",
       " 'Rupee up 11 paise against dollar in early trade\\nEBM News English Oct 14, 2016\\nMumbai, The rupee appreciated by 11 paise to 66.83 against the dollar in early trade today at the Interbank Foreign Exchange on…',\n",
       " '‘Crater’ Hyderabad a man-made disaster\\nEBM News English Oct 14, 2016\\nHYDERABAD: The pockmarked city roads are not only inconveniencing the commuters but have also claimed lives over the past few…',\n",
       " 'It is all just steel and plunder, claim opposition, activists\\nEBM News English Oct 14, 2016\\nBENGALURU: The Rs 1,800 crore steel flyover project has run into stiff opposition from citizen groups and opposition parties, who…',\n",
       " 'Clinton is a criminal for destroying emails: Trump\\nEBM News English Oct 14, 2016\\nWASHINGTON: Terming Hillary Clinton as a \"criminal\" who destroyed 33,000 emails, Republican presidential nominee Donald Trump has…',\n",
       " 'China to launch X-ray pulsar navigation satellite next month\\nEBM News English Oct 14, 2016\\nBEIJING: China plans to launch an X-ray pulsar navigation satellite next month to test autonomous spacecraft navigation, the…',\n",
       " 'AAP Govt gives festive respite to vendors\\nEBM News English Oct 14, 2016\\nNEW DELHI: The AAP government has asked the civic bodies not to evict any street vendors during the festive season. The decision…',\n",
       " 'India, Russia to sign over 5 billion dollar deal on S-400 missile systems\\nEBM News English Oct 14, 2016\\nNEW DELHI: Amidst growing tension between India and Pakistan along the western border, New Delhi is expected to sign over…',\n",
       " \"2 arrested for ruckus in outer Delhi church\\nEBM News English Oct 14, 2016\\nNEW DELHI: Two men allegedly forced their way into a church inouter Delhi's Begampur and threatened the priest and worshippers…\",\n",
       " 'Jammu gets an IIM, Kashmir its out-campus; Omar alleges bias\\nEBM News English Oct 14, 2016\\nNEW DELHI: Jammu will have the country’s 20th Indian Institute of Management with the academic session starting this year while an…']"
      ]
     },
     "execution_count": 8,
     "metadata": {},
     "output_type": "execute_result"
    }
   ],
   "source": [
    "for i in title_tags:\n",
    "    \n",
    "    title=i.text\n",
    "    news_titles.append(title)\n",
    "news_titles[0:10]"
   ]
  },
  {
   "cell_type": "code",
   "execution_count": 9,
   "metadata": {},
   "outputs": [
    {
     "data": {
      "text/plain": [
       "[<selenium.webdriver.remote.webelement.WebElement (session=\"ae516991e3114158be8d950732a72d87\", element=\"7fd93b12-586e-4d82-a757-4a3cd69587d6\")>,\n",
       " <selenium.webdriver.remote.webelement.WebElement (session=\"ae516991e3114158be8d950732a72d87\", element=\"2a8023a3-015f-49d7-8d01-65250ad607fc\")>,\n",
       " <selenium.webdriver.remote.webelement.WebElement (session=\"ae516991e3114158be8d950732a72d87\", element=\"e7728a17-6d32-46da-a12c-96bc01f4068b\")>,\n",
       " <selenium.webdriver.remote.webelement.WebElement (session=\"ae516991e3114158be8d950732a72d87\", element=\"a05136f1-a928-4acc-9d8c-ecb9070d3c8b\")>,\n",
       " <selenium.webdriver.remote.webelement.WebElement (session=\"ae516991e3114158be8d950732a72d87\", element=\"37be1a74-1fe2-4e85-a62e-fcf99fd2e637\")>,\n",
       " <selenium.webdriver.remote.webelement.WebElement (session=\"ae516991e3114158be8d950732a72d87\", element=\"2ce022c6-e3be-46c0-9bc2-d3e8d9d1a00a\")>,\n",
       " <selenium.webdriver.remote.webelement.WebElement (session=\"ae516991e3114158be8d950732a72d87\", element=\"763eb523-bacb-4b79-8f7f-0d1d044a681b\")>,\n",
       " <selenium.webdriver.remote.webelement.WebElement (session=\"ae516991e3114158be8d950732a72d87\", element=\"f082bc60-0a8d-45d9-863b-8035a6b1ed56\")>,\n",
       " <selenium.webdriver.remote.webelement.WebElement (session=\"ae516991e3114158be8d950732a72d87\", element=\"31942277-dc00-426b-a366-df6fe135dbda\")>,\n",
       " <selenium.webdriver.remote.webelement.WebElement (session=\"ae516991e3114158be8d950732a72d87\", element=\"6db466d1-6e3b-46f1-8042-96fff941b505\")>]"
      ]
     },
     "execution_count": 9,
     "metadata": {},
     "output_type": "execute_result"
    }
   ],
   "source": [
    "date_tags=driver.find_elements_by_xpath(\"//span[@class='time']\")\n",
    "date_tags[0:10]"
   ]
  },
  {
   "cell_type": "code",
   "execution_count": 10,
   "metadata": {},
   "outputs": [
    {
     "data": {
      "text/plain": [
       "['Oct 14, 2016',\n",
       " 'Oct 14, 2016',\n",
       " 'Oct 14, 2016',\n",
       " 'Oct 14, 2016',\n",
       " 'Oct 14, 2016',\n",
       " 'Oct 14, 2016',\n",
       " 'Oct 14, 2016',\n",
       " 'Oct 14, 2016',\n",
       " 'Oct 14, 2016',\n",
       " 'Oct 14, 2016']"
      ]
     },
     "execution_count": 10,
     "metadata": {},
     "output_type": "execute_result"
    }
   ],
   "source": [
    "for i in date_tags:\n",
    "    \n",
    "    title=i.text\n",
    "    date.append(title)\n",
    "date[0:10]"
   ]
  },
  {
   "cell_type": "code",
   "execution_count": 11,
   "metadata": {},
   "outputs": [
    {
     "data": {
      "text/plain": [
       "[<selenium.webdriver.remote.webelement.WebElement (session=\"ae516991e3114158be8d950732a72d87\", element=\"75d0198f-4cc6-4751-a24e-2d4d993036b1\")>,\n",
       " <selenium.webdriver.remote.webelement.WebElement (session=\"ae516991e3114158be8d950732a72d87\", element=\"c7d8fe22-4cbb-416b-ba54-e7cea95178a6\")>,\n",
       " <selenium.webdriver.remote.webelement.WebElement (session=\"ae516991e3114158be8d950732a72d87\", element=\"d3cf597e-797e-4631-9737-68e1902072a5\")>,\n",
       " <selenium.webdriver.remote.webelement.WebElement (session=\"ae516991e3114158be8d950732a72d87\", element=\"4a4e0f45-d965-4ca4-a157-bd5f1652b25c\")>,\n",
       " <selenium.webdriver.remote.webelement.WebElement (session=\"ae516991e3114158be8d950732a72d87\", element=\"61c292ec-349d-4586-a312-b1dbaca24bc1\")>,\n",
       " <selenium.webdriver.remote.webelement.WebElement (session=\"ae516991e3114158be8d950732a72d87\", element=\"72f92013-672c-4c9d-87d0-429436771b5c\")>,\n",
       " <selenium.webdriver.remote.webelement.WebElement (session=\"ae516991e3114158be8d950732a72d87\", element=\"c37f301f-a7a6-4d8e-a68c-4ae760de7f6a\")>,\n",
       " <selenium.webdriver.remote.webelement.WebElement (session=\"ae516991e3114158be8d950732a72d87\", element=\"10305a7c-2853-454a-a41d-02584d87ffaa\")>,\n",
       " <selenium.webdriver.remote.webelement.WebElement (session=\"ae516991e3114158be8d950732a72d87\", element=\"f4d2c13a-0fe0-49f3-9663-756dad1685bc\")>,\n",
       " <selenium.webdriver.remote.webelement.WebElement (session=\"ae516991e3114158be8d950732a72d87\", element=\"7697f3ca-bd54-48e7-96ae-0a05d8da01e6\")>]"
      ]
     },
     "execution_count": 11,
     "metadata": {},
     "output_type": "execute_result"
    }
   ],
   "source": [
    "desc_tags=driver.find_elements_by_xpath(\"//div[@class='post-summary']\")\n",
    "desc_tags[0:10]"
   ]
  },
  {
   "cell_type": "code",
   "execution_count": 12,
   "metadata": {},
   "outputs": [
    {
     "data": {
      "text/plain": [
       "['SINGAPORE: Oil prices edged up on Friday, pushed by a tighter U.S. fuel market and as technical indicators attracted buying from…',\n",
       " 'Mumbai, The rupee appreciated by 11 paise to 66.83 against the dollar in early trade today at the Interbank Foreign Exchange on…',\n",
       " 'HYDERABAD: The pockmarked city roads are not only inconveniencing the commuters but have also claimed lives over the past few…',\n",
       " 'BENGALURU: The Rs 1,800 crore steel flyover project has run into stiff opposition from citizen groups and opposition parties, who…',\n",
       " 'WASHINGTON: Terming Hillary Clinton as a \"criminal\" who destroyed 33,000 emails, Republican presidential nominee Donald Trump has…',\n",
       " 'BEIJING: China plans to launch an X-ray pulsar navigation satellite next month to test autonomous spacecraft navigation, the…',\n",
       " 'NEW DELHI: The AAP government has asked the civic bodies not to evict any street vendors during the festive season. The decision…',\n",
       " 'NEW DELHI: Amidst growing tension between India and Pakistan along the western border, New Delhi is expected to sign over…',\n",
       " \"NEW DELHI: Two men allegedly forced their way into a church inouter Delhi's Begampur and threatened the priest and worshippers…\",\n",
       " 'NEW DELHI: Jammu will have the country’s 20th Indian Institute of Management with the academic session starting this year while an…']"
      ]
     },
     "execution_count": 12,
     "metadata": {},
     "output_type": "execute_result"
    }
   ],
   "source": [
    "for i in desc_tags:\n",
    "    \n",
    "    title=i.text\n",
    "    description.append(title)\n",
    "description[0:10]"
   ]
  },
  {
   "cell_type": "code",
   "execution_count": 13,
   "metadata": {},
   "outputs": [
    {
     "name": "stdout",
     "output_type": "stream",
     "text": [
      "10 10 10\n"
     ]
    }
   ],
   "source": [
    "print(len(news_titles),len(date),len(description))"
   ]
  },
  {
   "cell_type": "code",
   "execution_count": 14,
   "metadata": {},
   "outputs": [],
   "source": [
    "import pandas as pd\n",
    "news=pd.DataFrame({})\n",
    "news['title']=news_titles[0:10]\n",
    "news['date']=date[0:10]\n",
    "news['description']=description[0:10]"
   ]
  },
  {
   "cell_type": "code",
   "execution_count": 15,
   "metadata": {},
   "outputs": [
    {
     "data": {
      "text/html": [
       "<div>\n",
       "<style scoped>\n",
       "    .dataframe tbody tr th:only-of-type {\n",
       "        vertical-align: middle;\n",
       "    }\n",
       "\n",
       "    .dataframe tbody tr th {\n",
       "        vertical-align: top;\n",
       "    }\n",
       "\n",
       "    .dataframe thead th {\n",
       "        text-align: right;\n",
       "    }\n",
       "</style>\n",
       "<table border=\"1\" class=\"dataframe\">\n",
       "  <thead>\n",
       "    <tr style=\"text-align: right;\">\n",
       "      <th></th>\n",
       "      <th>title</th>\n",
       "      <th>date</th>\n",
       "      <th>description</th>\n",
       "    </tr>\n",
       "  </thead>\n",
       "  <tbody>\n",
       "    <tr>\n",
       "      <th>0</th>\n",
       "      <td>Oil prices edge up by five percent on tighter ...</td>\n",
       "      <td>Oct 14, 2016</td>\n",
       "      <td>SINGAPORE: Oil prices edged up on Friday, push...</td>\n",
       "    </tr>\n",
       "    <tr>\n",
       "      <th>1</th>\n",
       "      <td>Rupee up 11 paise against dollar in early trad...</td>\n",
       "      <td>Oct 14, 2016</td>\n",
       "      <td>Mumbai, The rupee appreciated by 11 paise to 6...</td>\n",
       "    </tr>\n",
       "    <tr>\n",
       "      <th>2</th>\n",
       "      <td>‘Crater’ Hyderabad a man-made disaster\\nEBM Ne...</td>\n",
       "      <td>Oct 14, 2016</td>\n",
       "      <td>HYDERABAD: The pockmarked city roads are not o...</td>\n",
       "    </tr>\n",
       "    <tr>\n",
       "      <th>3</th>\n",
       "      <td>It is all just steel and plunder, claim opposi...</td>\n",
       "      <td>Oct 14, 2016</td>\n",
       "      <td>BENGALURU: The Rs 1,800 crore steel flyover pr...</td>\n",
       "    </tr>\n",
       "    <tr>\n",
       "      <th>4</th>\n",
       "      <td>Clinton is a criminal for destroying emails: T...</td>\n",
       "      <td>Oct 14, 2016</td>\n",
       "      <td>WASHINGTON: Terming Hillary Clinton as a \"crim...</td>\n",
       "    </tr>\n",
       "    <tr>\n",
       "      <th>5</th>\n",
       "      <td>China to launch X-ray pulsar navigation satell...</td>\n",
       "      <td>Oct 14, 2016</td>\n",
       "      <td>BEIJING: China plans to launch an X-ray pulsar...</td>\n",
       "    </tr>\n",
       "    <tr>\n",
       "      <th>6</th>\n",
       "      <td>AAP Govt gives festive respite to vendors\\nEBM...</td>\n",
       "      <td>Oct 14, 2016</td>\n",
       "      <td>NEW DELHI: The AAP government has asked the ci...</td>\n",
       "    </tr>\n",
       "    <tr>\n",
       "      <th>7</th>\n",
       "      <td>India, Russia to sign over 5 billion dollar de...</td>\n",
       "      <td>Oct 14, 2016</td>\n",
       "      <td>NEW DELHI: Amidst growing tension between Indi...</td>\n",
       "    </tr>\n",
       "    <tr>\n",
       "      <th>8</th>\n",
       "      <td>2 arrested for ruckus in outer Delhi church\\nE...</td>\n",
       "      <td>Oct 14, 2016</td>\n",
       "      <td>NEW DELHI: Two men allegedly forced their way ...</td>\n",
       "    </tr>\n",
       "    <tr>\n",
       "      <th>9</th>\n",
       "      <td>Jammu gets an IIM, Kashmir its out-campus; Oma...</td>\n",
       "      <td>Oct 14, 2016</td>\n",
       "      <td>NEW DELHI: Jammu will have the country’s 20th ...</td>\n",
       "    </tr>\n",
       "  </tbody>\n",
       "</table>\n",
       "</div>"
      ],
      "text/plain": [
       "                                               title          date  \\\n",
       "0  Oil prices edge up by five percent on tighter ...  Oct 14, 2016   \n",
       "1  Rupee up 11 paise against dollar in early trad...  Oct 14, 2016   \n",
       "2  ‘Crater’ Hyderabad a man-made disaster\\nEBM Ne...  Oct 14, 2016   \n",
       "3  It is all just steel and plunder, claim opposi...  Oct 14, 2016   \n",
       "4  Clinton is a criminal for destroying emails: T...  Oct 14, 2016   \n",
       "5  China to launch X-ray pulsar navigation satell...  Oct 14, 2016   \n",
       "6  AAP Govt gives festive respite to vendors\\nEBM...  Oct 14, 2016   \n",
       "7  India, Russia to sign over 5 billion dollar de...  Oct 14, 2016   \n",
       "8  2 arrested for ruckus in outer Delhi church\\nE...  Oct 14, 2016   \n",
       "9  Jammu gets an IIM, Kashmir its out-campus; Oma...  Oct 14, 2016   \n",
       "\n",
       "                                         description  \n",
       "0  SINGAPORE: Oil prices edged up on Friday, push...  \n",
       "1  Mumbai, The rupee appreciated by 11 paise to 6...  \n",
       "2  HYDERABAD: The pockmarked city roads are not o...  \n",
       "3  BENGALURU: The Rs 1,800 crore steel flyover pr...  \n",
       "4  WASHINGTON: Terming Hillary Clinton as a \"crim...  \n",
       "5  BEIJING: China plans to launch an X-ray pulsar...  \n",
       "6  NEW DELHI: The AAP government has asked the ci...  \n",
       "7  NEW DELHI: Amidst growing tension between Indi...  \n",
       "8  NEW DELHI: Two men allegedly forced their way ...  \n",
       "9  NEW DELHI: Jammu will have the country’s 20th ...  "
      ]
     },
     "execution_count": 15,
     "metadata": {},
     "output_type": "execute_result"
    }
   ],
   "source": [
    "news"
   ]
  },
  {
   "cell_type": "code",
   "execution_count": null,
   "metadata": {},
   "outputs": [],
   "source": []
  }
 ],
 "metadata": {
  "kernelspec": {
   "display_name": "Python 3",
   "language": "python",
   "name": "python3"
  },
  "language_info": {
   "codemirror_mode": {
    "name": "ipython",
    "version": 3
   },
   "file_extension": ".py",
   "mimetype": "text/x-python",
   "name": "python",
   "nbconvert_exporter": "python",
   "pygments_lexer": "ipython3",
   "version": "3.7.6"
  }
 },
 "nbformat": 4,
 "nbformat_minor": 4
}
