{
 "cells": [
  {
   "cell_type": "code",
   "execution_count": 1,
   "metadata": {},
   "outputs": [],
   "source": [
    "import selenium"
   ]
  },
  {
   "cell_type": "code",
   "execution_count": 2,
   "metadata": {},
   "outputs": [],
   "source": [
    "import pandas as pd\n",
    "from selenium import webdriver"
   ]
  },
  {
   "cell_type": "code",
   "execution_count": 3,
   "metadata": {},
   "outputs": [],
   "source": [
    "driver=webdriver.Chrome(\"C:\\chromedriver.exe\")"
   ]
  },
  {
   "cell_type": "code",
   "execution_count": 4,
   "metadata": {},
   "outputs": [],
   "source": [
    "driver.get('https://www.ebmnews.com/2016/page/10/')"
   ]
  },
  {
   "cell_type": "code",
   "execution_count": 5,
   "metadata": {},
   "outputs": [],
   "source": [
    "news_titles=[]\n",
    "date=[]\n",
    "description=[]"
   ]
  },
  {
   "cell_type": "code",
   "execution_count": 6,
   "metadata": {},
   "outputs": [
    {
     "data": {
      "text/plain": [
       "[<selenium.webdriver.remote.webelement.WebElement (session=\"e260ae077bc0e3e94136abe32f9cfe7b\", element=\"34579009-2dc3-4dbb-9532-ab2f1a179fd8\")>,\n",
       " <selenium.webdriver.remote.webelement.WebElement (session=\"e260ae077bc0e3e94136abe32f9cfe7b\", element=\"b0560d46-e156-44fb-9347-a3cd6b2dfce0\")>,\n",
       " <selenium.webdriver.remote.webelement.WebElement (session=\"e260ae077bc0e3e94136abe32f9cfe7b\", element=\"a040ba39-cfcf-4a4e-8461-2bbe322e61e7\")>,\n",
       " <selenium.webdriver.remote.webelement.WebElement (session=\"e260ae077bc0e3e94136abe32f9cfe7b\", element=\"9284f5d1-5cb2-4e00-8831-c31eeaa73cab\")>,\n",
       " <selenium.webdriver.remote.webelement.WebElement (session=\"e260ae077bc0e3e94136abe32f9cfe7b\", element=\"843fcc42-c714-468a-a645-e511451cf889\")>,\n",
       " <selenium.webdriver.remote.webelement.WebElement (session=\"e260ae077bc0e3e94136abe32f9cfe7b\", element=\"ce1f26dd-3236-4451-ae0d-3470bf1b88ae\")>,\n",
       " <selenium.webdriver.remote.webelement.WebElement (session=\"e260ae077bc0e3e94136abe32f9cfe7b\", element=\"27f49a4f-e7fc-4748-ad01-2b7fe0dcb513\")>,\n",
       " <selenium.webdriver.remote.webelement.WebElement (session=\"e260ae077bc0e3e94136abe32f9cfe7b\", element=\"e00c6dca-7bfe-4142-8430-e843ff748601\")>,\n",
       " <selenium.webdriver.remote.webelement.WebElement (session=\"e260ae077bc0e3e94136abe32f9cfe7b\", element=\"c5a5fff4-7038-4b78-95fb-b8a597f74a26\")>,\n",
       " <selenium.webdriver.remote.webelement.WebElement (session=\"e260ae077bc0e3e94136abe32f9cfe7b\", element=\"cfcd94dc-fefb-4ada-954b-1825d34bf971\")>]"
      ]
     },
     "execution_count": 6,
     "metadata": {},
     "output_type": "execute_result"
    }
   ],
   "source": [
    "title_tags=driver.find_elements_by_xpath(\"//div[@class='item-inner clearfix']\")\n",
    "title_tags[0:10]"
   ]
  },
  {
   "cell_type": "code",
   "execution_count": 7,
   "metadata": {},
   "outputs": [
    {
     "data": {
      "text/plain": [
       "['Ashwin regains number one spot in Test rankings\\nEBM News English Oct 12, 2016\\nDubai,  Indian off-spinner Ravichandran Ashwin on Wednesday reclaimed the number one spot in Test rankings for bowlers following a…',\n",
       " '‘Shivaay’ action will be visual treat for everyone: Vir Das\\nEBM News English Oct 12, 2016\\nMumbai, Actor Vir Das is all praise for the action sequences in Ajay Devgn\\'s upcoming film \"Shivaay\". \"I think he (Ajay) has been…',\n",
       " \"12 dead in clashes in Myanmar’s restive Rakhine: state media\\nEBM News English Oct 12, 2016\\nYangon,  Twelve people have died in the north of Myanmar's Rakhine state in clashes between armed men and troops, state media…\",\n",
       " \"Civil society groups to meet ahead of BRICS summit in Goa\\nEBM News English Oct 12, 2016\\nPanaji,  Representatives of various social movements from BRICS countries will attend a two-day people's forum beginning in Goa…\",\n",
       " 'BJP worker hacked to death in Pinarayi\\nEBM News English Oct 12, 2016\\nKannur (Kerala), A 25-year-old BJP worker was hacked to death at Pinarayi here today, an incident which comes two days after the…',\n",
       " 'Pampore encounter enters third day: Two militants killed\\nEBM News English Oct 12, 2016\\nSrinagar,  Two militants were killed as the operation to flush out holed up ultras inside a government building in Pampore on the…',\n",
       " 'Govind Padmasoorya plays anti-hero in his Tamil debut\\nEBM News English Oct 12, 2016\\nGovind Padmasoorya has always maintained that he has been choosy about his movie projects. The actor, who opened a new chapter in…',\n",
       " \"Note 7 fiasco could burn a $17 billion hole in Samsung accounts\\nEBM News English Oct 12, 2016\\nSEOUL: Samsung Electronics' worst-ever recall could cost the company as much as $17 billion after it halted sales of its flagship…\",\n",
       " 'Kelly Clarkson has no more baby plans\\nEBM News English Oct 12, 2016\\nLondon,  Kelly Clarkson has no more plans to have a kid as the singer says she \"would die\" if she got pregnant again. The…',\n",
       " 'Arvind Swami raps a dark song for Bogan\\nEBM News English Oct 12, 2016\\nThe film Bogan, starring Jayam Ravi, Arvind Swami and Hansikain lead roles, is nearing completion; with only some post production…']"
      ]
     },
     "execution_count": 7,
     "metadata": {},
     "output_type": "execute_result"
    }
   ],
   "source": [
    "for i in title_tags:\n",
    "    \n",
    "    title=i.text\n",
    "    news_titles.append(title)\n",
    "news_titles[0:10]"
   ]
  },
  {
   "cell_type": "code",
   "execution_count": 8,
   "metadata": {},
   "outputs": [
    {
     "data": {
      "text/plain": [
       "[<selenium.webdriver.remote.webelement.WebElement (session=\"e260ae077bc0e3e94136abe32f9cfe7b\", element=\"50777b7f-ec3b-4ea9-8191-5dd2afad8293\")>,\n",
       " <selenium.webdriver.remote.webelement.WebElement (session=\"e260ae077bc0e3e94136abe32f9cfe7b\", element=\"719120ff-3798-475f-9189-e77c4580a890\")>,\n",
       " <selenium.webdriver.remote.webelement.WebElement (session=\"e260ae077bc0e3e94136abe32f9cfe7b\", element=\"91777a23-1aa2-4118-bbd8-ef677ad1b86a\")>,\n",
       " <selenium.webdriver.remote.webelement.WebElement (session=\"e260ae077bc0e3e94136abe32f9cfe7b\", element=\"ad738151-34d3-4c25-a742-a9f9d9f40024\")>,\n",
       " <selenium.webdriver.remote.webelement.WebElement (session=\"e260ae077bc0e3e94136abe32f9cfe7b\", element=\"8c848c22-0094-4439-8360-0078cedccf0d\")>,\n",
       " <selenium.webdriver.remote.webelement.WebElement (session=\"e260ae077bc0e3e94136abe32f9cfe7b\", element=\"78149307-c18a-4a6d-99ce-00ad8d037d6b\")>,\n",
       " <selenium.webdriver.remote.webelement.WebElement (session=\"e260ae077bc0e3e94136abe32f9cfe7b\", element=\"46e78786-6f16-4076-a024-03e254a0daf1\")>,\n",
       " <selenium.webdriver.remote.webelement.WebElement (session=\"e260ae077bc0e3e94136abe32f9cfe7b\", element=\"774e1ec6-7552-4860-ae56-51ce0f4f7b01\")>,\n",
       " <selenium.webdriver.remote.webelement.WebElement (session=\"e260ae077bc0e3e94136abe32f9cfe7b\", element=\"8d8ce3f9-3110-485b-b46e-3dbee394e04f\")>,\n",
       " <selenium.webdriver.remote.webelement.WebElement (session=\"e260ae077bc0e3e94136abe32f9cfe7b\", element=\"875af035-db65-4996-983a-beb97fbbfae1\")>]"
      ]
     },
     "execution_count": 8,
     "metadata": {},
     "output_type": "execute_result"
    }
   ],
   "source": [
    "date_tags=driver.find_elements_by_xpath(\"//span[@class='time']\")\n",
    "date_tags[0:10]"
   ]
  },
  {
   "cell_type": "code",
   "execution_count": 9,
   "metadata": {},
   "outputs": [
    {
     "data": {
      "text/plain": [
       "['Oct 12, 2016',\n",
       " 'Oct 12, 2016',\n",
       " 'Oct 12, 2016',\n",
       " 'Oct 12, 2016',\n",
       " 'Oct 12, 2016',\n",
       " 'Oct 12, 2016',\n",
       " 'Oct 12, 2016',\n",
       " 'Oct 12, 2016',\n",
       " 'Oct 12, 2016',\n",
       " 'Oct 12, 2016']"
      ]
     },
     "execution_count": 9,
     "metadata": {},
     "output_type": "execute_result"
    }
   ],
   "source": [
    "for i in date_tags:\n",
    "    \n",
    "    title=i.text\n",
    "    date.append(title)\n",
    "date[0:10]"
   ]
  },
  {
   "cell_type": "code",
   "execution_count": 10,
   "metadata": {},
   "outputs": [
    {
     "data": {
      "text/plain": [
       "[<selenium.webdriver.remote.webelement.WebElement (session=\"e260ae077bc0e3e94136abe32f9cfe7b\", element=\"dc8c60b9-6ad7-4bd9-9504-ae5407bbb367\")>,\n",
       " <selenium.webdriver.remote.webelement.WebElement (session=\"e260ae077bc0e3e94136abe32f9cfe7b\", element=\"dac76ce0-c35b-4954-a594-a367a13163c3\")>,\n",
       " <selenium.webdriver.remote.webelement.WebElement (session=\"e260ae077bc0e3e94136abe32f9cfe7b\", element=\"d1ae805d-befd-4a7a-9316-8a15662ad6f0\")>,\n",
       " <selenium.webdriver.remote.webelement.WebElement (session=\"e260ae077bc0e3e94136abe32f9cfe7b\", element=\"5b0790f1-edc9-44fc-9494-44e4855caab5\")>,\n",
       " <selenium.webdriver.remote.webelement.WebElement (session=\"e260ae077bc0e3e94136abe32f9cfe7b\", element=\"fabfceef-4062-49fb-9ade-de3b91320332\")>,\n",
       " <selenium.webdriver.remote.webelement.WebElement (session=\"e260ae077bc0e3e94136abe32f9cfe7b\", element=\"2f0aff30-f865-4b79-8ce6-490ce5114dbf\")>,\n",
       " <selenium.webdriver.remote.webelement.WebElement (session=\"e260ae077bc0e3e94136abe32f9cfe7b\", element=\"3fb46951-8236-4e21-9a8a-277f42064184\")>,\n",
       " <selenium.webdriver.remote.webelement.WebElement (session=\"e260ae077bc0e3e94136abe32f9cfe7b\", element=\"944313eb-e832-41f8-ab71-906d784f9a05\")>,\n",
       " <selenium.webdriver.remote.webelement.WebElement (session=\"e260ae077bc0e3e94136abe32f9cfe7b\", element=\"ce72daae-d0d8-4100-bf76-348c22abdbca\")>,\n",
       " <selenium.webdriver.remote.webelement.WebElement (session=\"e260ae077bc0e3e94136abe32f9cfe7b\", element=\"0d88f288-5419-4760-9da2-06b99a6c792d\")>]"
      ]
     },
     "execution_count": 10,
     "metadata": {},
     "output_type": "execute_result"
    }
   ],
   "source": [
    "desc_tags=driver.find_elements_by_xpath(\"//div[@class='post-summary']\")\n",
    "desc_tags[0:10]"
   ]
  },
  {
   "cell_type": "code",
   "execution_count": 11,
   "metadata": {},
   "outputs": [
    {
     "data": {
      "text/plain": [
       "['Dubai,  Indian off-spinner Ravichandran Ashwin on Wednesday reclaimed the number one spot in Test rankings for bowlers following a…',\n",
       " 'Mumbai, Actor Vir Das is all praise for the action sequences in Ajay Devgn\\'s upcoming film \"Shivaay\". \"I think he (Ajay) has been…',\n",
       " \"Yangon,  Twelve people have died in the north of Myanmar's Rakhine state in clashes between armed men and troops, state media…\",\n",
       " \"Panaji,  Representatives of various social movements from BRICS countries will attend a two-day people's forum beginning in Goa…\",\n",
       " 'Kannur (Kerala), A 25-year-old BJP worker was hacked to death at Pinarayi here today, an incident which comes two days after the…',\n",
       " 'Srinagar,  Two militants were killed as the operation to flush out holed up ultras inside a government building in Pampore on the…',\n",
       " 'Govind Padmasoorya has always maintained that he has been choosy about his movie projects. The actor, who opened a new chapter in…',\n",
       " \"SEOUL: Samsung Electronics' worst-ever recall could cost the company as much as $17 billion after it halted sales of its flagship…\",\n",
       " 'London,  Kelly Clarkson has no more plans to have a kid as the singer says she \"would die\" if she got pregnant again. The…',\n",
       " 'The film Bogan, starring Jayam Ravi, Arvind Swami and Hansikain lead roles, is nearing completion; with only some post production…']"
      ]
     },
     "execution_count": 11,
     "metadata": {},
     "output_type": "execute_result"
    }
   ],
   "source": [
    "for i in desc_tags:\n",
    "    \n",
    "    title=i.text\n",
    "    description.append(title)\n",
    "description[0:10]"
   ]
  },
  {
   "cell_type": "code",
   "execution_count": 12,
   "metadata": {},
   "outputs": [
    {
     "name": "stdout",
     "output_type": "stream",
     "text": [
      "10 10 10\n"
     ]
    }
   ],
   "source": [
    "print(len(news_titles),len(date),len(description))"
   ]
  },
  {
   "cell_type": "code",
   "execution_count": 13,
   "metadata": {},
   "outputs": [],
   "source": [
    "import pandas as pd\n",
    "news=pd.DataFrame({})\n",
    "news['title']=news_titles[0:10]\n",
    "news['date']=date[0:10]\n",
    "news['desc']=description[0:10]"
   ]
  },
  {
   "cell_type": "code",
   "execution_count": 14,
   "metadata": {},
   "outputs": [
    {
     "data": {
      "text/html": [
       "<div>\n",
       "<style scoped>\n",
       "    .dataframe tbody tr th:only-of-type {\n",
       "        vertical-align: middle;\n",
       "    }\n",
       "\n",
       "    .dataframe tbody tr th {\n",
       "        vertical-align: top;\n",
       "    }\n",
       "\n",
       "    .dataframe thead th {\n",
       "        text-align: right;\n",
       "    }\n",
       "</style>\n",
       "<table border=\"1\" class=\"dataframe\">\n",
       "  <thead>\n",
       "    <tr style=\"text-align: right;\">\n",
       "      <th></th>\n",
       "      <th>title</th>\n",
       "      <th>date</th>\n",
       "      <th>desc</th>\n",
       "    </tr>\n",
       "  </thead>\n",
       "  <tbody>\n",
       "    <tr>\n",
       "      <th>0</th>\n",
       "      <td>Ashwin regains number one spot in Test ranking...</td>\n",
       "      <td>Oct 12, 2016</td>\n",
       "      <td>Dubai,  Indian off-spinner Ravichandran Ashwin...</td>\n",
       "    </tr>\n",
       "    <tr>\n",
       "      <th>1</th>\n",
       "      <td>‘Shivaay’ action will be visual treat for ever...</td>\n",
       "      <td>Oct 12, 2016</td>\n",
       "      <td>Mumbai, Actor Vir Das is all praise for the ac...</td>\n",
       "    </tr>\n",
       "    <tr>\n",
       "      <th>2</th>\n",
       "      <td>12 dead in clashes in Myanmar’s restive Rakhin...</td>\n",
       "      <td>Oct 12, 2016</td>\n",
       "      <td>Yangon,  Twelve people have died in the north ...</td>\n",
       "    </tr>\n",
       "    <tr>\n",
       "      <th>3</th>\n",
       "      <td>Civil society groups to meet ahead of BRICS su...</td>\n",
       "      <td>Oct 12, 2016</td>\n",
       "      <td>Panaji,  Representatives of various social mov...</td>\n",
       "    </tr>\n",
       "    <tr>\n",
       "      <th>4</th>\n",
       "      <td>BJP worker hacked to death in Pinarayi\\nEBM Ne...</td>\n",
       "      <td>Oct 12, 2016</td>\n",
       "      <td>Kannur (Kerala), A 25-year-old BJP worker was ...</td>\n",
       "    </tr>\n",
       "    <tr>\n",
       "      <th>5</th>\n",
       "      <td>Pampore encounter enters third day: Two milita...</td>\n",
       "      <td>Oct 12, 2016</td>\n",
       "      <td>Srinagar,  Two militants were killed as the op...</td>\n",
       "    </tr>\n",
       "    <tr>\n",
       "      <th>6</th>\n",
       "      <td>Govind Padmasoorya plays anti-hero in his Tami...</td>\n",
       "      <td>Oct 12, 2016</td>\n",
       "      <td>Govind Padmasoorya has always maintained that ...</td>\n",
       "    </tr>\n",
       "    <tr>\n",
       "      <th>7</th>\n",
       "      <td>Note 7 fiasco could burn a $17 billion hole in...</td>\n",
       "      <td>Oct 12, 2016</td>\n",
       "      <td>SEOUL: Samsung Electronics' worst-ever recall ...</td>\n",
       "    </tr>\n",
       "    <tr>\n",
       "      <th>8</th>\n",
       "      <td>Kelly Clarkson has no more baby plans\\nEBM New...</td>\n",
       "      <td>Oct 12, 2016</td>\n",
       "      <td>London,  Kelly Clarkson has no more plans to h...</td>\n",
       "    </tr>\n",
       "    <tr>\n",
       "      <th>9</th>\n",
       "      <td>Arvind Swami raps a dark song for Bogan\\nEBM N...</td>\n",
       "      <td>Oct 12, 2016</td>\n",
       "      <td>The film Bogan, starring Jayam Ravi, Arvind Sw...</td>\n",
       "    </tr>\n",
       "  </tbody>\n",
       "</table>\n",
       "</div>"
      ],
      "text/plain": [
       "                                               title          date  \\\n",
       "0  Ashwin regains number one spot in Test ranking...  Oct 12, 2016   \n",
       "1  ‘Shivaay’ action will be visual treat for ever...  Oct 12, 2016   \n",
       "2  12 dead in clashes in Myanmar’s restive Rakhin...  Oct 12, 2016   \n",
       "3  Civil society groups to meet ahead of BRICS su...  Oct 12, 2016   \n",
       "4  BJP worker hacked to death in Pinarayi\\nEBM Ne...  Oct 12, 2016   \n",
       "5  Pampore encounter enters third day: Two milita...  Oct 12, 2016   \n",
       "6  Govind Padmasoorya plays anti-hero in his Tami...  Oct 12, 2016   \n",
       "7  Note 7 fiasco could burn a $17 billion hole in...  Oct 12, 2016   \n",
       "8  Kelly Clarkson has no more baby plans\\nEBM New...  Oct 12, 2016   \n",
       "9  Arvind Swami raps a dark song for Bogan\\nEBM N...  Oct 12, 2016   \n",
       "\n",
       "                                                desc  \n",
       "0  Dubai,  Indian off-spinner Ravichandran Ashwin...  \n",
       "1  Mumbai, Actor Vir Das is all praise for the ac...  \n",
       "2  Yangon,  Twelve people have died in the north ...  \n",
       "3  Panaji,  Representatives of various social mov...  \n",
       "4  Kannur (Kerala), A 25-year-old BJP worker was ...  \n",
       "5  Srinagar,  Two militants were killed as the op...  \n",
       "6  Govind Padmasoorya has always maintained that ...  \n",
       "7  SEOUL: Samsung Electronics' worst-ever recall ...  \n",
       "8  London,  Kelly Clarkson has no more plans to h...  \n",
       "9  The film Bogan, starring Jayam Ravi, Arvind Sw...  "
      ]
     },
     "execution_count": 14,
     "metadata": {},
     "output_type": "execute_result"
    }
   ],
   "source": [
    "news"
   ]
  },
  {
   "cell_type": "code",
   "execution_count": null,
   "metadata": {},
   "outputs": [],
   "source": []
  }
 ],
 "metadata": {
  "kernelspec": {
   "display_name": "Python 3",
   "language": "python",
   "name": "python3"
  },
  "language_info": {
   "codemirror_mode": {
    "name": "ipython",
    "version": 3
   },
   "file_extension": ".py",
   "mimetype": "text/x-python",
   "name": "python",
   "nbconvert_exporter": "python",
   "pygments_lexer": "ipython3",
   "version": "3.7.6"
  }
 },
 "nbformat": 4,
 "nbformat_minor": 4
}
