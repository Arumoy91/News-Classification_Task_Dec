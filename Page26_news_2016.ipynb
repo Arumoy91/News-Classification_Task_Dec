{
 "cells": [
  {
   "cell_type": "code",
   "execution_count": 1,
   "metadata": {},
   "outputs": [],
   "source": [
    "import selenium"
   ]
  },
  {
   "cell_type": "code",
   "execution_count": 2,
   "metadata": {},
   "outputs": [],
   "source": [
    "import pandas as pd\n",
    "from selenium import webdriver"
   ]
  },
  {
   "cell_type": "code",
   "execution_count": 3,
   "metadata": {},
   "outputs": [],
   "source": [
    "driver=webdriver.Chrome(\"C:\\chromedriver.exe\")"
   ]
  },
  {
   "cell_type": "code",
   "execution_count": 4,
   "metadata": {},
   "outputs": [],
   "source": [
    "driver.get('http://www.ebmnews.com/2016/page/26/')"
   ]
  },
  {
   "cell_type": "code",
   "execution_count": 5,
   "metadata": {},
   "outputs": [],
   "source": [
    "news_titles=[]\n",
    "date=[]\n",
    "description=[]\n",
    "vertical=[]"
   ]
  },
  {
   "cell_type": "code",
   "execution_count": 6,
   "metadata": {},
   "outputs": [
    {
     "data": {
      "text/plain": [
       "[<selenium.webdriver.remote.webelement.WebElement (session=\"636572634802031d0f7fe42751877aba\", element=\"30aa4a83-09d1-4036-addb-32c9ca7849a8\")>,\n",
       " <selenium.webdriver.remote.webelement.WebElement (session=\"636572634802031d0f7fe42751877aba\", element=\"69905409-7ac9-4abf-b9ae-8d97f17843d4\")>,\n",
       " <selenium.webdriver.remote.webelement.WebElement (session=\"636572634802031d0f7fe42751877aba\", element=\"0799dbaa-b07d-4e66-a562-272a60bff6bf\")>,\n",
       " <selenium.webdriver.remote.webelement.WebElement (session=\"636572634802031d0f7fe42751877aba\", element=\"caefc9b8-e04d-4331-b501-5b60b14eacd7\")>,\n",
       " <selenium.webdriver.remote.webelement.WebElement (session=\"636572634802031d0f7fe42751877aba\", element=\"eb16be4e-85b7-48b8-b353-52e045a91d36\")>,\n",
       " <selenium.webdriver.remote.webelement.WebElement (session=\"636572634802031d0f7fe42751877aba\", element=\"05b23b3b-1fee-42f8-b90a-714ae3a7658f\")>,\n",
       " <selenium.webdriver.remote.webelement.WebElement (session=\"636572634802031d0f7fe42751877aba\", element=\"4b22a622-1b31-48ed-b5aa-e44cb297822a\")>,\n",
       " <selenium.webdriver.remote.webelement.WebElement (session=\"636572634802031d0f7fe42751877aba\", element=\"706bbe74-c396-4d03-af35-3c9f2add8ca9\")>,\n",
       " <selenium.webdriver.remote.webelement.WebElement (session=\"636572634802031d0f7fe42751877aba\", element=\"826edd39-bde9-45f2-b6f0-bdb3f2d23de4\")>,\n",
       " <selenium.webdriver.remote.webelement.WebElement (session=\"636572634802031d0f7fe42751877aba\", element=\"0e56bcaa-14c8-4570-a49d-ff0dc223184f\")>]"
      ]
     },
     "execution_count": 6,
     "metadata": {},
     "output_type": "execute_result"
    }
   ],
   "source": [
    "title_tags=driver.find_elements_by_xpath(\"//div[@class='item-inner clearfix']\")\n",
    "title_tags[0:10]"
   ]
  },
  {
   "cell_type": "code",
   "execution_count": 7,
   "metadata": {},
   "outputs": [
    {
     "data": {
      "text/plain": [
       "['Wayne Rooney: I was slaughtered for mistake by Allardyce\\nEBM News English Oct 5, 2016\\nWayne Rooney has revealed how Sam Allardyce had to admit to his first big blunder as England manager on the plane back from his…',\n",
       " 'I do not support Pak artistes working here: Hema Malini\\nEBM News English Oct 5, 2016\\nMumbai, A day after steering clear of the controversy surrounding the ban on Pakistani artists in India, actress-politician Hema…',\n",
       " 'Farmers’ chest is of 56-inch, not of Modi: Scindia\\nEBM News English Oct 5, 2016\\nMorena (MP), Taking a jibe at Narendra Modi, senior Congress leader Jyotiraditya Scindia said it is not the Prime Minister but…',\n",
       " 'Army hands over clips to govt: MoS Home Ahir\\nEBM News English Oct 5, 2016\\nNew Delhi,  As chorus for showing proof of the surgical strikes on terror launch pads grew, Union Minister Hansraj Ahir today said…',\n",
       " '‘Wolverine 3 will be very different in tone”\\nEBM News English Oct 5, 2016\\nLos Angeles, Actor Hugh Jackman has said fans can expect some sort of first look of the final \"Wolverine\" movie in the coming…',\n",
       " 'Ink thrown at Kejriwal, two detained\\nEBM News English Oct 5, 2016\\nBikaner,  Two ABVP activists threw ink at Delhi Chief Minister Arvind Kejriwal for his comments on surgical strikes by the Army on…',\n",
       " 'US for talks between India, Pak militaries\\nEBM News English Oct 5, 2016\\nWashington,  The US has encouraged continued communication between Indian and Pakistani militaries to reduce tension, saying…',\n",
       " 'Fleecing agencies to lose parking contracts\\nEBM News English Oct 5, 2016\\nKOLKATA: Flooded with complaints from across the city, the Kolkata Municipal Corporation on Tuesday decided to scrap the contracts…',\n",
       " 'BBMP starts demolition drive\\nEBM News English Oct 5, 2016\\nBENGALURU: Bruhat Bengaluru Mahanagara Palike (BBMP)  on Tuesday restarted its drive to remove encroachments on stormwater drains.…',\n",
       " 'Armed robbers loot passengers in three trains\\nEBM News English Oct 5, 2016\\nKANPUR: Armed robbers struck three trains passing through the district, looting at least 12 passengers and assaulting those who…']"
      ]
     },
     "execution_count": 7,
     "metadata": {},
     "output_type": "execute_result"
    }
   ],
   "source": [
    "for i in title_tags:\n",
    "    \n",
    "    title=i.text\n",
    "    news_titles.append(title)\n",
    "news_titles[0:10]"
   ]
  },
  {
   "cell_type": "code",
   "execution_count": 8,
   "metadata": {},
   "outputs": [
    {
     "data": {
      "text/plain": [
       "[<selenium.webdriver.remote.webelement.WebElement (session=\"636572634802031d0f7fe42751877aba\", element=\"242cdf96-3187-4941-9723-d64815a5f31e\")>,\n",
       " <selenium.webdriver.remote.webelement.WebElement (session=\"636572634802031d0f7fe42751877aba\", element=\"0a9eaf05-3f28-45b6-998a-4dee4910d7de\")>,\n",
       " <selenium.webdriver.remote.webelement.WebElement (session=\"636572634802031d0f7fe42751877aba\", element=\"14cb8461-d610-4324-b114-70ccd35ff8e0\")>,\n",
       " <selenium.webdriver.remote.webelement.WebElement (session=\"636572634802031d0f7fe42751877aba\", element=\"e734864c-5921-4ff6-87fe-bd18a6ed09ed\")>,\n",
       " <selenium.webdriver.remote.webelement.WebElement (session=\"636572634802031d0f7fe42751877aba\", element=\"e1d0d6dc-a83c-4694-bc54-8610854535e5\")>,\n",
       " <selenium.webdriver.remote.webelement.WebElement (session=\"636572634802031d0f7fe42751877aba\", element=\"d1299011-3cae-4cf1-a0c5-a0ae52a2fa34\")>,\n",
       " <selenium.webdriver.remote.webelement.WebElement (session=\"636572634802031d0f7fe42751877aba\", element=\"b20a9dc7-c825-4896-ae4a-19d3b5145d48\")>,\n",
       " <selenium.webdriver.remote.webelement.WebElement (session=\"636572634802031d0f7fe42751877aba\", element=\"59567a6a-d9f6-43e0-b498-3552f7c62381\")>,\n",
       " <selenium.webdriver.remote.webelement.WebElement (session=\"636572634802031d0f7fe42751877aba\", element=\"88a7bf3d-7771-447f-86f3-0875d7d164f4\")>,\n",
       " <selenium.webdriver.remote.webelement.WebElement (session=\"636572634802031d0f7fe42751877aba\", element=\"8049ed4f-0784-4d40-b537-977b70062b32\")>]"
      ]
     },
     "execution_count": 8,
     "metadata": {},
     "output_type": "execute_result"
    }
   ],
   "source": [
    "date_tags=driver.find_elements_by_xpath(\"//span[@class='time']\")\n",
    "date_tags[0:10]"
   ]
  },
  {
   "cell_type": "code",
   "execution_count": 9,
   "metadata": {},
   "outputs": [
    {
     "data": {
      "text/plain": [
       "['Oct 5, 2016',\n",
       " 'Oct 5, 2016',\n",
       " 'Oct 5, 2016',\n",
       " 'Oct 5, 2016',\n",
       " 'Oct 5, 2016',\n",
       " 'Oct 5, 2016',\n",
       " 'Oct 5, 2016',\n",
       " 'Oct 5, 2016',\n",
       " 'Oct 5, 2016',\n",
       " 'Oct 5, 2016']"
      ]
     },
     "execution_count": 9,
     "metadata": {},
     "output_type": "execute_result"
    }
   ],
   "source": [
    "for i in date_tags:\n",
    "    \n",
    "    title=i.text\n",
    "    date.append(title)\n",
    "date[0:10]"
   ]
  },
  {
   "cell_type": "code",
   "execution_count": 10,
   "metadata": {},
   "outputs": [
    {
     "data": {
      "text/plain": [
       "[<selenium.webdriver.remote.webelement.WebElement (session=\"636572634802031d0f7fe42751877aba\", element=\"0a6cebb2-3e4a-4993-89d6-f8f9a9ab7998\")>,\n",
       " <selenium.webdriver.remote.webelement.WebElement (session=\"636572634802031d0f7fe42751877aba\", element=\"ab2c499d-f98f-49cb-8419-bf23e270765d\")>,\n",
       " <selenium.webdriver.remote.webelement.WebElement (session=\"636572634802031d0f7fe42751877aba\", element=\"6adefb17-a4ce-4b47-a61e-7276b87f8a4a\")>,\n",
       " <selenium.webdriver.remote.webelement.WebElement (session=\"636572634802031d0f7fe42751877aba\", element=\"526447b9-f2bd-4a8f-b52b-c705238a00bb\")>,\n",
       " <selenium.webdriver.remote.webelement.WebElement (session=\"636572634802031d0f7fe42751877aba\", element=\"ecc96e18-8fcf-4461-b363-48d0b5cb16af\")>,\n",
       " <selenium.webdriver.remote.webelement.WebElement (session=\"636572634802031d0f7fe42751877aba\", element=\"d01e4ba2-17cc-47d0-a5f7-b6b7b828f855\")>,\n",
       " <selenium.webdriver.remote.webelement.WebElement (session=\"636572634802031d0f7fe42751877aba\", element=\"9e2f7a21-59e4-44ec-aede-9b47c6546c4c\")>,\n",
       " <selenium.webdriver.remote.webelement.WebElement (session=\"636572634802031d0f7fe42751877aba\", element=\"d07fef4d-1296-4df5-a98c-c60b244f36ed\")>,\n",
       " <selenium.webdriver.remote.webelement.WebElement (session=\"636572634802031d0f7fe42751877aba\", element=\"b85b0d2a-da11-46cc-a0d3-3ff5c86d34b4\")>,\n",
       " <selenium.webdriver.remote.webelement.WebElement (session=\"636572634802031d0f7fe42751877aba\", element=\"8a9bf80b-9c16-43be-a3b9-7edd920f6348\")>]"
      ]
     },
     "execution_count": 10,
     "metadata": {},
     "output_type": "execute_result"
    }
   ],
   "source": [
    "desc_tags=driver.find_elements_by_xpath(\"//div[@class='post-summary']\")\n",
    "desc_tags[0:10]"
   ]
  },
  {
   "cell_type": "code",
   "execution_count": 11,
   "metadata": {},
   "outputs": [
    {
     "data": {
      "text/plain": [
       "['Wayne Rooney has revealed how Sam Allardyce had to admit to his first big blunder as England manager on the plane back from his…',\n",
       " 'Mumbai, A day after steering clear of the controversy surrounding the ban on Pakistani artists in India, actress-politician Hema…',\n",
       " 'Morena (MP), Taking a jibe at Narendra Modi, senior Congress leader Jyotiraditya Scindia said it is not the Prime Minister but…',\n",
       " 'New Delhi,  As chorus for showing proof of the surgical strikes on terror launch pads grew, Union Minister Hansraj Ahir today said…',\n",
       " 'Los Angeles, Actor Hugh Jackman has said fans can expect some sort of first look of the final \"Wolverine\" movie in the coming…',\n",
       " 'Bikaner,  Two ABVP activists threw ink at Delhi Chief Minister Arvind Kejriwal for his comments on surgical strikes by the Army on…',\n",
       " 'Washington,  The US has encouraged continued communication between Indian and Pakistani militaries to reduce tension, saying…',\n",
       " 'KOLKATA: Flooded with complaints from across the city, the Kolkata Municipal Corporation on Tuesday decided to scrap the contracts…',\n",
       " 'BENGALURU: Bruhat Bengaluru Mahanagara Palike (BBMP)  on Tuesday restarted its drive to remove encroachments on stormwater drains.…',\n",
       " 'KANPUR: Armed robbers struck three trains passing through the district, looting at least 12 passengers and assaulting those who…']"
      ]
     },
     "execution_count": 11,
     "metadata": {},
     "output_type": "execute_result"
    }
   ],
   "source": [
    "for i in desc_tags:\n",
    "    \n",
    "    title=i.text\n",
    "    description.append(title)\n",
    "description[0:10]"
   ]
  },
  {
   "cell_type": "code",
   "execution_count": 13,
   "metadata": {},
   "outputs": [
    {
     "name": "stdout",
     "output_type": "stream",
     "text": [
      "10 10 10\n"
     ]
    }
   ],
   "source": [
    "print(len(news_titles),len(date),len(description))"
   ]
  },
  {
   "cell_type": "code",
   "execution_count": 14,
   "metadata": {},
   "outputs": [],
   "source": [
    "import pandas as pd\n",
    "news=pd.DataFrame({})\n",
    "news['title']=news_titles[0:10]\n",
    "news['date']=date[0:10]\n",
    "news['desc']=description[0:10]"
   ]
  },
  {
   "cell_type": "code",
   "execution_count": 15,
   "metadata": {},
   "outputs": [
    {
     "data": {
      "text/html": [
       "<div>\n",
       "<style scoped>\n",
       "    .dataframe tbody tr th:only-of-type {\n",
       "        vertical-align: middle;\n",
       "    }\n",
       "\n",
       "    .dataframe tbody tr th {\n",
       "        vertical-align: top;\n",
       "    }\n",
       "\n",
       "    .dataframe thead th {\n",
       "        text-align: right;\n",
       "    }\n",
       "</style>\n",
       "<table border=\"1\" class=\"dataframe\">\n",
       "  <thead>\n",
       "    <tr style=\"text-align: right;\">\n",
       "      <th></th>\n",
       "      <th>title</th>\n",
       "      <th>date</th>\n",
       "      <th>desc</th>\n",
       "    </tr>\n",
       "  </thead>\n",
       "  <tbody>\n",
       "    <tr>\n",
       "      <th>0</th>\n",
       "      <td>Wayne Rooney: I was slaughtered for mistake by...</td>\n",
       "      <td>Oct 5, 2016</td>\n",
       "      <td>Wayne Rooney has revealed how Sam Allardyce ha...</td>\n",
       "    </tr>\n",
       "    <tr>\n",
       "      <th>1</th>\n",
       "      <td>I do not support Pak artistes working here: He...</td>\n",
       "      <td>Oct 5, 2016</td>\n",
       "      <td>Mumbai, A day after steering clear of the cont...</td>\n",
       "    </tr>\n",
       "    <tr>\n",
       "      <th>2</th>\n",
       "      <td>Farmers’ chest is of 56-inch, not of Modi: Sci...</td>\n",
       "      <td>Oct 5, 2016</td>\n",
       "      <td>Morena (MP), Taking a jibe at Narendra Modi, s...</td>\n",
       "    </tr>\n",
       "    <tr>\n",
       "      <th>3</th>\n",
       "      <td>Army hands over clips to govt: MoS Home Ahir\\n...</td>\n",
       "      <td>Oct 5, 2016</td>\n",
       "      <td>New Delhi,  As chorus for showing proof of the...</td>\n",
       "    </tr>\n",
       "    <tr>\n",
       "      <th>4</th>\n",
       "      <td>‘Wolverine 3 will be very different in tone”\\n...</td>\n",
       "      <td>Oct 5, 2016</td>\n",
       "      <td>Los Angeles, Actor Hugh Jackman has said fans ...</td>\n",
       "    </tr>\n",
       "    <tr>\n",
       "      <th>5</th>\n",
       "      <td>Ink thrown at Kejriwal, two detained\\nEBM News...</td>\n",
       "      <td>Oct 5, 2016</td>\n",
       "      <td>Bikaner,  Two ABVP activists threw ink at Delh...</td>\n",
       "    </tr>\n",
       "    <tr>\n",
       "      <th>6</th>\n",
       "      <td>US for talks between India, Pak militaries\\nEB...</td>\n",
       "      <td>Oct 5, 2016</td>\n",
       "      <td>Washington,  The US has encouraged continued c...</td>\n",
       "    </tr>\n",
       "    <tr>\n",
       "      <th>7</th>\n",
       "      <td>Fleecing agencies to lose parking contracts\\nE...</td>\n",
       "      <td>Oct 5, 2016</td>\n",
       "      <td>KOLKATA: Flooded with complaints from across t...</td>\n",
       "    </tr>\n",
       "    <tr>\n",
       "      <th>8</th>\n",
       "      <td>BBMP starts demolition drive\\nEBM News English...</td>\n",
       "      <td>Oct 5, 2016</td>\n",
       "      <td>BENGALURU: Bruhat Bengaluru Mahanagara Palike ...</td>\n",
       "    </tr>\n",
       "    <tr>\n",
       "      <th>9</th>\n",
       "      <td>Armed robbers loot passengers in three trains\\...</td>\n",
       "      <td>Oct 5, 2016</td>\n",
       "      <td>KANPUR: Armed robbers struck three trains pass...</td>\n",
       "    </tr>\n",
       "  </tbody>\n",
       "</table>\n",
       "</div>"
      ],
      "text/plain": [
       "                                               title         date  \\\n",
       "0  Wayne Rooney: I was slaughtered for mistake by...  Oct 5, 2016   \n",
       "1  I do not support Pak artistes working here: He...  Oct 5, 2016   \n",
       "2  Farmers’ chest is of 56-inch, not of Modi: Sci...  Oct 5, 2016   \n",
       "3  Army hands over clips to govt: MoS Home Ahir\\n...  Oct 5, 2016   \n",
       "4  ‘Wolverine 3 will be very different in tone”\\n...  Oct 5, 2016   \n",
       "5  Ink thrown at Kejriwal, two detained\\nEBM News...  Oct 5, 2016   \n",
       "6  US for talks between India, Pak militaries\\nEB...  Oct 5, 2016   \n",
       "7  Fleecing agencies to lose parking contracts\\nE...  Oct 5, 2016   \n",
       "8  BBMP starts demolition drive\\nEBM News English...  Oct 5, 2016   \n",
       "9  Armed robbers loot passengers in three trains\\...  Oct 5, 2016   \n",
       "\n",
       "                                                desc  \n",
       "0  Wayne Rooney has revealed how Sam Allardyce ha...  \n",
       "1  Mumbai, A day after steering clear of the cont...  \n",
       "2  Morena (MP), Taking a jibe at Narendra Modi, s...  \n",
       "3  New Delhi,  As chorus for showing proof of the...  \n",
       "4  Los Angeles, Actor Hugh Jackman has said fans ...  \n",
       "5  Bikaner,  Two ABVP activists threw ink at Delh...  \n",
       "6  Washington,  The US has encouraged continued c...  \n",
       "7  KOLKATA: Flooded with complaints from across t...  \n",
       "8  BENGALURU: Bruhat Bengaluru Mahanagara Palike ...  \n",
       "9  KANPUR: Armed robbers struck three trains pass...  "
      ]
     },
     "execution_count": 15,
     "metadata": {},
     "output_type": "execute_result"
    }
   ],
   "source": [
    "news"
   ]
  },
  {
   "cell_type": "code",
   "execution_count": null,
   "metadata": {},
   "outputs": [],
   "source": []
  }
 ],
 "metadata": {
  "kernelspec": {
   "display_name": "Python 3",
   "language": "python",
   "name": "python3"
  },
  "language_info": {
   "codemirror_mode": {
    "name": "ipython",
    "version": 3
   },
   "file_extension": ".py",
   "mimetype": "text/x-python",
   "name": "python",
   "nbconvert_exporter": "python",
   "pygments_lexer": "ipython3",
   "version": "3.7.6"
  }
 },
 "nbformat": 4,
 "nbformat_minor": 4
}
