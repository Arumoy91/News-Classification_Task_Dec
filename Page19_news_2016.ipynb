{
 "cells": [
  {
   "cell_type": "code",
   "execution_count": 1,
   "metadata": {},
   "outputs": [],
   "source": [
    "import selenium"
   ]
  },
  {
   "cell_type": "code",
   "execution_count": 2,
   "metadata": {},
   "outputs": [],
   "source": [
    "import pandas as pd\n",
    "from selenium import webdriver"
   ]
  },
  {
   "cell_type": "code",
   "execution_count": 3,
   "metadata": {},
   "outputs": [],
   "source": [
    "driver=webdriver.Chrome(\"C:\\chromedriver.exe\")"
   ]
  },
  {
   "cell_type": "code",
   "execution_count": 4,
   "metadata": {},
   "outputs": [],
   "source": [
    "driver.get('https://www.ebmnews.com/2016/page/19/')"
   ]
  },
  {
   "cell_type": "code",
   "execution_count": 5,
   "metadata": {},
   "outputs": [],
   "source": [
    "news_titles=[]\n",
    "date=[]\n",
    "description=[]"
   ]
  },
  {
   "cell_type": "code",
   "execution_count": 6,
   "metadata": {},
   "outputs": [
    {
     "data": {
      "text/plain": [
       "[<selenium.webdriver.remote.webelement.WebElement (session=\"9fa4d4ce0cea6ce6121ee4875e9bbdec\", element=\"27308be8-5136-42f1-8665-a190ee4562b2\")>,\n",
       " <selenium.webdriver.remote.webelement.WebElement (session=\"9fa4d4ce0cea6ce6121ee4875e9bbdec\", element=\"fc7f7c29-686f-4ba2-86de-09ccb1e40d3d\")>,\n",
       " <selenium.webdriver.remote.webelement.WebElement (session=\"9fa4d4ce0cea6ce6121ee4875e9bbdec\", element=\"2cf2d4a8-53e6-4101-a683-a2101aad492a\")>,\n",
       " <selenium.webdriver.remote.webelement.WebElement (session=\"9fa4d4ce0cea6ce6121ee4875e9bbdec\", element=\"006e1278-b54e-4960-b842-59fb1ca799f4\")>,\n",
       " <selenium.webdriver.remote.webelement.WebElement (session=\"9fa4d4ce0cea6ce6121ee4875e9bbdec\", element=\"13359755-79d4-49e8-be9a-4ce7b09d4673\")>,\n",
       " <selenium.webdriver.remote.webelement.WebElement (session=\"9fa4d4ce0cea6ce6121ee4875e9bbdec\", element=\"d19dc0e4-adca-41e2-a556-e3d6637c307c\")>,\n",
       " <selenium.webdriver.remote.webelement.WebElement (session=\"9fa4d4ce0cea6ce6121ee4875e9bbdec\", element=\"feb4bff5-3144-4921-ae85-7d41e7a8209e\")>,\n",
       " <selenium.webdriver.remote.webelement.WebElement (session=\"9fa4d4ce0cea6ce6121ee4875e9bbdec\", element=\"955cdbe3-f2eb-424a-ab7a-1a05997dcb70\")>,\n",
       " <selenium.webdriver.remote.webelement.WebElement (session=\"9fa4d4ce0cea6ce6121ee4875e9bbdec\", element=\"a0a12623-7f42-40b4-b6a3-e6a0db5d95c1\")>,\n",
       " <selenium.webdriver.remote.webelement.WebElement (session=\"9fa4d4ce0cea6ce6121ee4875e9bbdec\", element=\"58b0c52c-e444-4a77-8a05-5a2c24995a11\")>]"
      ]
     },
     "execution_count": 6,
     "metadata": {},
     "output_type": "execute_result"
    }
   ],
   "source": [
    "title_tags=driver.find_elements_by_xpath(\"//div[@class='item-inner clearfix']\")\n",
    "title_tags[0:10]"
   ]
  },
  {
   "cell_type": "code",
   "execution_count": 7,
   "metadata": {},
   "outputs": [
    {
     "data": {
      "text/plain": [
       "['Rupee slumps 9 paise against dollar as demand falters\\nEBM News English Oct 7, 2016\\nMumbai, The rupee fell for the third straight day by losing 9 paise to 66.78 against the dollar at the forex market today on…',\n",
       " 'In new snub to Akhilesh, Quami Ekta Dal merges with SP\\nEBM News English Oct 7, 2016\\nThe Samajwadi Party on Thursday announced the merger of tainted leader Mukhtar Ansari’s party Quami Ekta Dal (QED) with it, in…',\n",
       " 'Pakistan passes long-awaited law against honour killings\\nEBM News English Oct 7, 2016\\nPakistan passed long-awaited legislation on Thursday closing a loophole that allowed people who killed for “honour” to walk free,…',\n",
       " 'A deadly Hurricane Mathew closes in on Florida\\nEBM News English Oct 7, 2016\\nHurricane Matthew pelted Florida with heavy rains as the deadly storm steamed ever closer to the coast with potentially…',\n",
       " 'Trained at Mosul, I fought Iraqi forces, was paid $100/month: Jihadi\\nEBM News English Oct 7, 2016\\nCHENNAI: A Tamil Nadu youth who has fought alongside fighters of the so-called Islamic State in the Iraqi battlefield of Baiji…',\n",
       " \"Government fails to maintain basic infra in schools: HC\\nEBM News English Oct 7, 2016\\nNEW DELHI: The Delhi high court on Thursday said the AAP government was `not maintaining' basic infrastructure and adequate staff…\",\n",
       " 'AAP slams Manohar Parrikar over ‘insult’ to Army\\nEBM News English Oct 7, 2016\\nNEW DELHI: AAP on Thursday accused BJP of \"demeaning\" the Indian Army. It also slammed BJP for allegedly suggesting that the armed…',\n",
       " 'Deepika Padukone returns ‘fearless, reckless, relentless’ in new xXx teaser\\nEBM News English Oct 6, 2016\\nNEW DELHI: Deepika Padukone recently teased her eager fans with a movie teaser from her upcoming Hollywood debut in the xXx…',\n",
       " 'When Prabhudeva dances, the world watches\\nEBM News English Oct 6, 2016\\nIt was the 90s and ‘item numbers’ had a different spin to them. The lead dancer was a man who moved like his limbs didn’t exist…',\n",
       " 'No need to give out video of cross-LoC operation: Parrikar\\nEBM News English Oct 6, 2016\\nAgra/New Delhi,  Defence Minister Manohar Parrikar today questioned the \"loyalty\" of those who doubted the Army and sought proof…']"
      ]
     },
     "execution_count": 7,
     "metadata": {},
     "output_type": "execute_result"
    }
   ],
   "source": [
    "for i in title_tags:\n",
    "    \n",
    "    title=i.text\n",
    "    news_titles.append(title)\n",
    "news_titles[0:10]"
   ]
  },
  {
   "cell_type": "code",
   "execution_count": 8,
   "metadata": {},
   "outputs": [
    {
     "data": {
      "text/plain": [
       "[<selenium.webdriver.remote.webelement.WebElement (session=\"9fa4d4ce0cea6ce6121ee4875e9bbdec\", element=\"74645aea-5d1a-49e4-a199-a5f200a8047b\")>,\n",
       " <selenium.webdriver.remote.webelement.WebElement (session=\"9fa4d4ce0cea6ce6121ee4875e9bbdec\", element=\"cce7375e-a0bc-4c0c-be96-c873d6e983cb\")>,\n",
       " <selenium.webdriver.remote.webelement.WebElement (session=\"9fa4d4ce0cea6ce6121ee4875e9bbdec\", element=\"19aaa0e2-5427-493a-bd52-da260b140bdd\")>,\n",
       " <selenium.webdriver.remote.webelement.WebElement (session=\"9fa4d4ce0cea6ce6121ee4875e9bbdec\", element=\"dcf3410d-dcdd-46af-8fa3-a943d63d5c41\")>,\n",
       " <selenium.webdriver.remote.webelement.WebElement (session=\"9fa4d4ce0cea6ce6121ee4875e9bbdec\", element=\"8f4582fd-9f46-4824-8576-9a32ecd9785c\")>,\n",
       " <selenium.webdriver.remote.webelement.WebElement (session=\"9fa4d4ce0cea6ce6121ee4875e9bbdec\", element=\"b97f1530-cea7-4e92-9a9c-9f9af55a7dba\")>,\n",
       " <selenium.webdriver.remote.webelement.WebElement (session=\"9fa4d4ce0cea6ce6121ee4875e9bbdec\", element=\"85fe2bfb-92f2-47d7-8604-af84cb694b36\")>,\n",
       " <selenium.webdriver.remote.webelement.WebElement (session=\"9fa4d4ce0cea6ce6121ee4875e9bbdec\", element=\"0d81c1f9-df64-4ba9-a9d3-548d6310bec5\")>,\n",
       " <selenium.webdriver.remote.webelement.WebElement (session=\"9fa4d4ce0cea6ce6121ee4875e9bbdec\", element=\"2e22b1fa-1357-4606-bb0c-0d8ec945e9a2\")>,\n",
       " <selenium.webdriver.remote.webelement.WebElement (session=\"9fa4d4ce0cea6ce6121ee4875e9bbdec\", element=\"be2e39f5-6376-40f3-8ab4-bcd8a48adc5c\")>]"
      ]
     },
     "execution_count": 8,
     "metadata": {},
     "output_type": "execute_result"
    }
   ],
   "source": [
    "date_tags=driver.find_elements_by_xpath(\"//span[@class='time']\")\n",
    "date_tags[0:10]"
   ]
  },
  {
   "cell_type": "code",
   "execution_count": 9,
   "metadata": {},
   "outputs": [
    {
     "data": {
      "text/plain": [
       "['Oct 7, 2016',\n",
       " 'Oct 7, 2016',\n",
       " 'Oct 7, 2016',\n",
       " 'Oct 7, 2016',\n",
       " 'Oct 7, 2016',\n",
       " 'Oct 7, 2016',\n",
       " 'Oct 7, 2016',\n",
       " 'Oct 6, 2016',\n",
       " 'Oct 6, 2016',\n",
       " 'Oct 6, 2016']"
      ]
     },
     "execution_count": 9,
     "metadata": {},
     "output_type": "execute_result"
    }
   ],
   "source": [
    "for i in date_tags:\n",
    "    \n",
    "    title=i.text\n",
    "    date.append(title)\n",
    "date[0:10]"
   ]
  },
  {
   "cell_type": "code",
   "execution_count": 10,
   "metadata": {},
   "outputs": [
    {
     "data": {
      "text/plain": [
       "[<selenium.webdriver.remote.webelement.WebElement (session=\"9fa4d4ce0cea6ce6121ee4875e9bbdec\", element=\"312a27e7-5d16-4519-a9f0-c8c73e9aa975\")>,\n",
       " <selenium.webdriver.remote.webelement.WebElement (session=\"9fa4d4ce0cea6ce6121ee4875e9bbdec\", element=\"1832f57f-0726-46c0-abc9-4d9234d1df1e\")>,\n",
       " <selenium.webdriver.remote.webelement.WebElement (session=\"9fa4d4ce0cea6ce6121ee4875e9bbdec\", element=\"6d49558a-0eeb-43da-a027-ec5012781687\")>,\n",
       " <selenium.webdriver.remote.webelement.WebElement (session=\"9fa4d4ce0cea6ce6121ee4875e9bbdec\", element=\"aaa12a3d-22ba-4fff-be43-8d7a60a88aea\")>,\n",
       " <selenium.webdriver.remote.webelement.WebElement (session=\"9fa4d4ce0cea6ce6121ee4875e9bbdec\", element=\"85e82515-3941-43bd-b17e-70477cbed3ac\")>,\n",
       " <selenium.webdriver.remote.webelement.WebElement (session=\"9fa4d4ce0cea6ce6121ee4875e9bbdec\", element=\"c2bf21fe-71b7-419b-ac59-4ef73b4e618b\")>,\n",
       " <selenium.webdriver.remote.webelement.WebElement (session=\"9fa4d4ce0cea6ce6121ee4875e9bbdec\", element=\"07ae13eb-6e18-4a86-aa00-be2afdded627\")>,\n",
       " <selenium.webdriver.remote.webelement.WebElement (session=\"9fa4d4ce0cea6ce6121ee4875e9bbdec\", element=\"872d5dd7-ad2c-40da-bad2-e182e7f24d7d\")>,\n",
       " <selenium.webdriver.remote.webelement.WebElement (session=\"9fa4d4ce0cea6ce6121ee4875e9bbdec\", element=\"ff0d25ca-f388-49b0-87e4-a47a73e8bac5\")>,\n",
       " <selenium.webdriver.remote.webelement.WebElement (session=\"9fa4d4ce0cea6ce6121ee4875e9bbdec\", element=\"79404049-7076-41da-ad6b-5833412cd684\")>]"
      ]
     },
     "execution_count": 10,
     "metadata": {},
     "output_type": "execute_result"
    }
   ],
   "source": [
    "desc_tags=driver.find_elements_by_xpath(\"//div[@class='post-summary']\")\n",
    "desc_tags[0:10]"
   ]
  },
  {
   "cell_type": "code",
   "execution_count": 11,
   "metadata": {},
   "outputs": [
    {
     "data": {
      "text/plain": [
       "['Mumbai, The rupee fell for the third straight day by losing 9 paise to 66.78 against the dollar at the forex market today on…',\n",
       " 'The Samajwadi Party on Thursday announced the merger of tainted leader Mukhtar Ansari’s party Quami Ekta Dal (QED) with it, in…',\n",
       " 'Pakistan passed long-awaited legislation on Thursday closing a loophole that allowed people who killed for “honour” to walk free,…',\n",
       " 'Hurricane Matthew pelted Florida with heavy rains as the deadly storm steamed ever closer to the coast with potentially…',\n",
       " 'CHENNAI: A Tamil Nadu youth who has fought alongside fighters of the so-called Islamic State in the Iraqi battlefield of Baiji…',\n",
       " \"NEW DELHI: The Delhi high court on Thursday said the AAP government was `not maintaining' basic infrastructure and adequate staff…\",\n",
       " 'NEW DELHI: AAP on Thursday accused BJP of \"demeaning\" the Indian Army. It also slammed BJP for allegedly suggesting that the armed…',\n",
       " 'NEW DELHI: Deepika Padukone recently teased her eager fans with a movie teaser from her upcoming Hollywood debut in the xXx…',\n",
       " 'It was the 90s and ‘item numbers’ had a different spin to them. The lead dancer was a man who moved like his limbs didn’t exist…',\n",
       " 'Agra/New Delhi,  Defence Minister Manohar Parrikar today questioned the \"loyalty\" of those who doubted the Army and sought proof…']"
      ]
     },
     "execution_count": 11,
     "metadata": {},
     "output_type": "execute_result"
    }
   ],
   "source": [
    "for i in desc_tags:\n",
    "    \n",
    "    title=i.text\n",
    "    description.append(title)\n",
    "description[0:10]"
   ]
  },
  {
   "cell_type": "code",
   "execution_count": 12,
   "metadata": {},
   "outputs": [
    {
     "name": "stdout",
     "output_type": "stream",
     "text": [
      "10 10 10\n"
     ]
    }
   ],
   "source": [
    "print(len(news_titles),len(date),len(description))"
   ]
  },
  {
   "cell_type": "code",
   "execution_count": 13,
   "metadata": {},
   "outputs": [],
   "source": [
    "import pandas as pd\n",
    "news=pd.DataFrame({})\n",
    "news['title']=news_titles[0:10]\n",
    "news['date']=date[0:10]\n",
    "news['desc']=description[0:10]"
   ]
  },
  {
   "cell_type": "code",
   "execution_count": 14,
   "metadata": {},
   "outputs": [
    {
     "data": {
      "text/html": [
       "<div>\n",
       "<style scoped>\n",
       "    .dataframe tbody tr th:only-of-type {\n",
       "        vertical-align: middle;\n",
       "    }\n",
       "\n",
       "    .dataframe tbody tr th {\n",
       "        vertical-align: top;\n",
       "    }\n",
       "\n",
       "    .dataframe thead th {\n",
       "        text-align: right;\n",
       "    }\n",
       "</style>\n",
       "<table border=\"1\" class=\"dataframe\">\n",
       "  <thead>\n",
       "    <tr style=\"text-align: right;\">\n",
       "      <th></th>\n",
       "      <th>title</th>\n",
       "      <th>date</th>\n",
       "      <th>desc</th>\n",
       "    </tr>\n",
       "  </thead>\n",
       "  <tbody>\n",
       "    <tr>\n",
       "      <th>0</th>\n",
       "      <td>Rupee slumps 9 paise against dollar as demand ...</td>\n",
       "      <td>Oct 7, 2016</td>\n",
       "      <td>Mumbai, The rupee fell for the third straight ...</td>\n",
       "    </tr>\n",
       "    <tr>\n",
       "      <th>1</th>\n",
       "      <td>In new snub to Akhilesh, Quami Ekta Dal merges...</td>\n",
       "      <td>Oct 7, 2016</td>\n",
       "      <td>The Samajwadi Party on Thursday announced the ...</td>\n",
       "    </tr>\n",
       "    <tr>\n",
       "      <th>2</th>\n",
       "      <td>Pakistan passes long-awaited law against honou...</td>\n",
       "      <td>Oct 7, 2016</td>\n",
       "      <td>Pakistan passed long-awaited legislation on Th...</td>\n",
       "    </tr>\n",
       "    <tr>\n",
       "      <th>3</th>\n",
       "      <td>A deadly Hurricane Mathew closes in on Florida...</td>\n",
       "      <td>Oct 7, 2016</td>\n",
       "      <td>Hurricane Matthew pelted Florida with heavy ra...</td>\n",
       "    </tr>\n",
       "    <tr>\n",
       "      <th>4</th>\n",
       "      <td>Trained at Mosul, I fought Iraqi forces, was p...</td>\n",
       "      <td>Oct 7, 2016</td>\n",
       "      <td>CHENNAI: A Tamil Nadu youth who has fought alo...</td>\n",
       "    </tr>\n",
       "    <tr>\n",
       "      <th>5</th>\n",
       "      <td>Government fails to maintain basic infra in sc...</td>\n",
       "      <td>Oct 7, 2016</td>\n",
       "      <td>NEW DELHI: The Delhi high court on Thursday sa...</td>\n",
       "    </tr>\n",
       "    <tr>\n",
       "      <th>6</th>\n",
       "      <td>AAP slams Manohar Parrikar over ‘insult’ to Ar...</td>\n",
       "      <td>Oct 7, 2016</td>\n",
       "      <td>NEW DELHI: AAP on Thursday accused BJP of \"dem...</td>\n",
       "    </tr>\n",
       "    <tr>\n",
       "      <th>7</th>\n",
       "      <td>Deepika Padukone returns ‘fearless, reckless, ...</td>\n",
       "      <td>Oct 6, 2016</td>\n",
       "      <td>NEW DELHI: Deepika Padukone recently teased he...</td>\n",
       "    </tr>\n",
       "    <tr>\n",
       "      <th>8</th>\n",
       "      <td>When Prabhudeva dances, the world watches\\nEBM...</td>\n",
       "      <td>Oct 6, 2016</td>\n",
       "      <td>It was the 90s and ‘item numbers’ had a differ...</td>\n",
       "    </tr>\n",
       "    <tr>\n",
       "      <th>9</th>\n",
       "      <td>No need to give out video of cross-LoC operati...</td>\n",
       "      <td>Oct 6, 2016</td>\n",
       "      <td>Agra/New Delhi,  Defence Minister Manohar Parr...</td>\n",
       "    </tr>\n",
       "  </tbody>\n",
       "</table>\n",
       "</div>"
      ],
      "text/plain": [
       "                                               title         date  \\\n",
       "0  Rupee slumps 9 paise against dollar as demand ...  Oct 7, 2016   \n",
       "1  In new snub to Akhilesh, Quami Ekta Dal merges...  Oct 7, 2016   \n",
       "2  Pakistan passes long-awaited law against honou...  Oct 7, 2016   \n",
       "3  A deadly Hurricane Mathew closes in on Florida...  Oct 7, 2016   \n",
       "4  Trained at Mosul, I fought Iraqi forces, was p...  Oct 7, 2016   \n",
       "5  Government fails to maintain basic infra in sc...  Oct 7, 2016   \n",
       "6  AAP slams Manohar Parrikar over ‘insult’ to Ar...  Oct 7, 2016   \n",
       "7  Deepika Padukone returns ‘fearless, reckless, ...  Oct 6, 2016   \n",
       "8  When Prabhudeva dances, the world watches\\nEBM...  Oct 6, 2016   \n",
       "9  No need to give out video of cross-LoC operati...  Oct 6, 2016   \n",
       "\n",
       "                                                desc  \n",
       "0  Mumbai, The rupee fell for the third straight ...  \n",
       "1  The Samajwadi Party on Thursday announced the ...  \n",
       "2  Pakistan passed long-awaited legislation on Th...  \n",
       "3  Hurricane Matthew pelted Florida with heavy ra...  \n",
       "4  CHENNAI: A Tamil Nadu youth who has fought alo...  \n",
       "5  NEW DELHI: The Delhi high court on Thursday sa...  \n",
       "6  NEW DELHI: AAP on Thursday accused BJP of \"dem...  \n",
       "7  NEW DELHI: Deepika Padukone recently teased he...  \n",
       "8  It was the 90s and ‘item numbers’ had a differ...  \n",
       "9  Agra/New Delhi,  Defence Minister Manohar Parr...  "
      ]
     },
     "execution_count": 14,
     "metadata": {},
     "output_type": "execute_result"
    }
   ],
   "source": [
    "news"
   ]
  },
  {
   "cell_type": "code",
   "execution_count": null,
   "metadata": {},
   "outputs": [],
   "source": []
  }
 ],
 "metadata": {
  "kernelspec": {
   "display_name": "Python 3",
   "language": "python",
   "name": "python3"
  },
  "language_info": {
   "codemirror_mode": {
    "name": "ipython",
    "version": 3
   },
   "file_extension": ".py",
   "mimetype": "text/x-python",
   "name": "python",
   "nbconvert_exporter": "python",
   "pygments_lexer": "ipython3",
   "version": "3.7.6"
  }
 },
 "nbformat": 4,
 "nbformat_minor": 4
}
