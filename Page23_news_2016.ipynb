{
 "cells": [
  {
   "cell_type": "code",
   "execution_count": 1,
   "metadata": {},
   "outputs": [],
   "source": [
    "import selenium"
   ]
  },
  {
   "cell_type": "code",
   "execution_count": 2,
   "metadata": {},
   "outputs": [],
   "source": [
    "import pandas as pd\n",
    "from selenium import webdriver"
   ]
  },
  {
   "cell_type": "code",
   "execution_count": 3,
   "metadata": {},
   "outputs": [],
   "source": [
    "driver=webdriver.Chrome(\"C:\\chromedriver.exe\")"
   ]
  },
  {
   "cell_type": "code",
   "execution_count": 4,
   "metadata": {},
   "outputs": [],
   "source": [
    "driver.get('https://www.ebmnews.com/2016/page/23/')"
   ]
  },
  {
   "cell_type": "code",
   "execution_count": 5,
   "metadata": {},
   "outputs": [],
   "source": [
    "news_titles=[]\n",
    "date=[]\n",
    "description=[]"
   ]
  },
  {
   "cell_type": "code",
   "execution_count": 6,
   "metadata": {},
   "outputs": [
    {
     "data": {
      "text/plain": [
       "[<selenium.webdriver.remote.webelement.WebElement (session=\"d780c4f31c6642698967291b90e5f20a\", element=\"57b84afc-707f-42ef-a831-a2de11df92b3\")>,\n",
       " <selenium.webdriver.remote.webelement.WebElement (session=\"d780c4f31c6642698967291b90e5f20a\", element=\"e17799ea-ed9e-4faf-ac85-569c39b7e30c\")>,\n",
       " <selenium.webdriver.remote.webelement.WebElement (session=\"d780c4f31c6642698967291b90e5f20a\", element=\"d45853cc-a30c-4f69-b6e8-e5b94b63c42b\")>,\n",
       " <selenium.webdriver.remote.webelement.WebElement (session=\"d780c4f31c6642698967291b90e5f20a\", element=\"19e7270b-99d5-4ea5-873d-0c5cef4df8df\")>,\n",
       " <selenium.webdriver.remote.webelement.WebElement (session=\"d780c4f31c6642698967291b90e5f20a\", element=\"7d9c58c1-94bd-452b-820d-b39d75180b11\")>,\n",
       " <selenium.webdriver.remote.webelement.WebElement (session=\"d780c4f31c6642698967291b90e5f20a\", element=\"fdf7ad0e-11d0-4b3f-9121-44d45b681938\")>,\n",
       " <selenium.webdriver.remote.webelement.WebElement (session=\"d780c4f31c6642698967291b90e5f20a\", element=\"5836144f-4e6e-43bc-b5c0-4fa4a8e77f7d\")>,\n",
       " <selenium.webdriver.remote.webelement.WebElement (session=\"d780c4f31c6642698967291b90e5f20a\", element=\"e97ddd75-45e7-4c96-8ccb-44debc630a29\")>,\n",
       " <selenium.webdriver.remote.webelement.WebElement (session=\"d780c4f31c6642698967291b90e5f20a\", element=\"9b97a5be-6b52-4509-8a00-be1e9359b6c8\")>,\n",
       " <selenium.webdriver.remote.webelement.WebElement (session=\"d780c4f31c6642698967291b90e5f20a\", element=\"1ecdb70e-e5cd-4ec2-86c0-bb3bf0f49833\")>]"
      ]
     },
     "execution_count": 6,
     "metadata": {},
     "output_type": "execute_result"
    }
   ],
   "source": [
    "title_tags=driver.find_elements_by_xpath(\"//div[@class='item-inner clearfix']\")\n",
    "title_tags[0:10]"
   ]
  },
  {
   "cell_type": "code",
   "execution_count": 7,
   "metadata": {},
   "outputs": [
    {
     "data": {
      "text/plain": [
       "['‘Surgical strike’ needed on dengue, chikungunya: Expert\\nEBM News English Oct 6, 2016\\nNew Delhi: The \"surgical strike\" on the terror launch pads across the Line of Control in Jammu and Kashmir has been considered a…',\n",
       " 'Contention arise over domicile reservation in MBBS admission in Madhya Pradesh\\nEBM News English Oct 6, 2016\\nSeemingly the commotions spurred within the realm of medical education in India defines no end. Controversy over MBBS admission…',\n",
       " 'I was rejected by every major record label: John Legend\\nEBM News English Oct 6, 2016\\nLondon,  Singer John Legend says most of the big record labels rejected him in his initial days in the music industry. The…',\n",
       " 'Man stabs son to death over property row\\nEBM News English Oct 6, 2016\\nTHANE: A 40-year-old was stabbed by his father over property row in Patlipada, Thane, on Saturday. The victim succummed to his…',\n",
       " \"India welcomes Antonio Guterres as next UN Secretary-General\\nEBM News English Oct 6, 2016\\nUnited Nations,  India has welcomed the selection of Portugal's former premier Antonio Guterres as the next UN Secretary General…\",\n",
       " 'ITF blasts Sharapova for ‘making example of me’ doping rap\\nEBM News English Oct 6, 2016\\nLondon, The International Tennis Federation (ITF) has blasted Maria Sharapova after she said that the governing body was…',\n",
       " 'India v NZ, ODI team selection: Opening headache for selectors\\nEBM News English Oct 6, 2016\\nNEW DELHI: The Indian ODI team has struggled to find a settled middle order post the 2015 World Cup. Having lost the last two ODI…',\n",
       " 'Next-gen Mercedes-AMG E63 to get all-wheel drive\\nEBM News English Oct 6, 2016\\nThe upcoming new Mercedes-AMG E63 performance car will feature 4Matic four-wheel drive as standard. It will also have a newly…',\n",
       " 'Sensex recoups 104 points on Asian uptrend\\nEBM News English Oct 6, 2016\\nMumbai, The benchmark Sensex rebounded almost 104 points today after investors lapped up select blue-chips, tracking a firm trend…',\n",
       " 'Skoda vRS performance models under question\\nEBM News English Oct 6, 2016\\nSkoda’s fast-car strategy is under review as new boss Bernhard Maier seeks to establish how far he can stretch the brand’s appeal…']"
      ]
     },
     "execution_count": 7,
     "metadata": {},
     "output_type": "execute_result"
    }
   ],
   "source": [
    "for i in title_tags:\n",
    "    \n",
    "    title=i.text\n",
    "    news_titles.append(title)\n",
    "news_titles[0:10]"
   ]
  },
  {
   "cell_type": "code",
   "execution_count": 8,
   "metadata": {},
   "outputs": [
    {
     "data": {
      "text/plain": [
       "[<selenium.webdriver.remote.webelement.WebElement (session=\"d780c4f31c6642698967291b90e5f20a\", element=\"0e052d6c-86ae-463c-8921-3c0c4f4c5df4\")>,\n",
       " <selenium.webdriver.remote.webelement.WebElement (session=\"d780c4f31c6642698967291b90e5f20a\", element=\"b188ee39-fb1f-455f-a9ce-6846486e73eb\")>,\n",
       " <selenium.webdriver.remote.webelement.WebElement (session=\"d780c4f31c6642698967291b90e5f20a\", element=\"95a012a2-c781-479a-9ac7-b4a750da5a5d\")>,\n",
       " <selenium.webdriver.remote.webelement.WebElement (session=\"d780c4f31c6642698967291b90e5f20a\", element=\"b55103f4-3037-45b3-8250-0f7925feca70\")>,\n",
       " <selenium.webdriver.remote.webelement.WebElement (session=\"d780c4f31c6642698967291b90e5f20a\", element=\"415132ce-2b43-4232-809b-9843f455e750\")>,\n",
       " <selenium.webdriver.remote.webelement.WebElement (session=\"d780c4f31c6642698967291b90e5f20a\", element=\"30e2ce31-c51e-48f9-a9d0-ce0a8c5d53d4\")>,\n",
       " <selenium.webdriver.remote.webelement.WebElement (session=\"d780c4f31c6642698967291b90e5f20a\", element=\"aa1adca0-9bd3-4876-a977-18d1bfb37d2b\")>,\n",
       " <selenium.webdriver.remote.webelement.WebElement (session=\"d780c4f31c6642698967291b90e5f20a\", element=\"b4f8c5bd-2bc1-423b-83af-921f303ca5bb\")>,\n",
       " <selenium.webdriver.remote.webelement.WebElement (session=\"d780c4f31c6642698967291b90e5f20a\", element=\"cd4c2d27-edd8-4544-9767-b330b7f54cd4\")>,\n",
       " <selenium.webdriver.remote.webelement.WebElement (session=\"d780c4f31c6642698967291b90e5f20a\", element=\"a576b12f-3a1b-4084-aa2c-b8e6b4647aee\")>]"
      ]
     },
     "execution_count": 8,
     "metadata": {},
     "output_type": "execute_result"
    }
   ],
   "source": [
    "date_tags=driver.find_elements_by_xpath(\"//span[@class='time']\")\n",
    "date_tags[0:10]"
   ]
  },
  {
   "cell_type": "code",
   "execution_count": 9,
   "metadata": {},
   "outputs": [
    {
     "data": {
      "text/plain": [
       "['Oct 6, 2016',\n",
       " 'Oct 6, 2016',\n",
       " 'Oct 6, 2016',\n",
       " 'Oct 6, 2016',\n",
       " 'Oct 6, 2016',\n",
       " 'Oct 6, 2016',\n",
       " 'Oct 6, 2016',\n",
       " 'Oct 6, 2016',\n",
       " 'Oct 6, 2016',\n",
       " 'Oct 6, 2016']"
      ]
     },
     "execution_count": 9,
     "metadata": {},
     "output_type": "execute_result"
    }
   ],
   "source": [
    "for i in date_tags:\n",
    "    \n",
    "    title=i.text\n",
    "    date.append(title)\n",
    "date[0:10]"
   ]
  },
  {
   "cell_type": "code",
   "execution_count": 10,
   "metadata": {},
   "outputs": [
    {
     "data": {
      "text/plain": [
       "[<selenium.webdriver.remote.webelement.WebElement (session=\"d780c4f31c6642698967291b90e5f20a\", element=\"266f3730-dd5e-47a1-81aa-06056def7136\")>,\n",
       " <selenium.webdriver.remote.webelement.WebElement (session=\"d780c4f31c6642698967291b90e5f20a\", element=\"362bcd0a-822f-4c28-90c8-8a1893db4c4e\")>,\n",
       " <selenium.webdriver.remote.webelement.WebElement (session=\"d780c4f31c6642698967291b90e5f20a\", element=\"8bc4baa5-37a5-4094-8530-ab90333ae4cf\")>,\n",
       " <selenium.webdriver.remote.webelement.WebElement (session=\"d780c4f31c6642698967291b90e5f20a\", element=\"bbc51d7c-7848-4603-80f2-e7ff8d1a40a9\")>,\n",
       " <selenium.webdriver.remote.webelement.WebElement (session=\"d780c4f31c6642698967291b90e5f20a\", element=\"bce9fca5-0ef5-48f6-b638-da884771a028\")>,\n",
       " <selenium.webdriver.remote.webelement.WebElement (session=\"d780c4f31c6642698967291b90e5f20a\", element=\"39625a66-397d-4bd3-a755-9763965885f9\")>,\n",
       " <selenium.webdriver.remote.webelement.WebElement (session=\"d780c4f31c6642698967291b90e5f20a\", element=\"18c9be40-c764-43d3-82ae-92b56681e8bf\")>,\n",
       " <selenium.webdriver.remote.webelement.WebElement (session=\"d780c4f31c6642698967291b90e5f20a\", element=\"f77d5228-72b1-4b25-be87-0b942730dc54\")>,\n",
       " <selenium.webdriver.remote.webelement.WebElement (session=\"d780c4f31c6642698967291b90e5f20a\", element=\"60b9eebf-e257-41b3-9dc4-a9e43aeba37b\")>,\n",
       " <selenium.webdriver.remote.webelement.WebElement (session=\"d780c4f31c6642698967291b90e5f20a\", element=\"d3decd6b-fa19-49ae-8bea-10dc3a5dd54b\")>]"
      ]
     },
     "execution_count": 10,
     "metadata": {},
     "output_type": "execute_result"
    }
   ],
   "source": [
    "desc_tags=driver.find_elements_by_xpath(\"//div[@class='post-summary']\")\n",
    "desc_tags[0:10]"
   ]
  },
  {
   "cell_type": "code",
   "execution_count": 11,
   "metadata": {},
   "outputs": [
    {
     "data": {
      "text/plain": [
       "['New Delhi: The \"surgical strike\" on the terror launch pads across the Line of Control in Jammu and Kashmir has been considered a…',\n",
       " 'Seemingly the commotions spurred within the realm of medical education in India defines no end. Controversy over MBBS admission…',\n",
       " 'London,  Singer John Legend says most of the big record labels rejected him in his initial days in the music industry. The…',\n",
       " 'THANE: A 40-year-old was stabbed by his father over property row in Patlipada, Thane, on Saturday. The victim succummed to his…',\n",
       " \"United Nations,  India has welcomed the selection of Portugal's former premier Antonio Guterres as the next UN Secretary General…\",\n",
       " 'London, The International Tennis Federation (ITF) has blasted Maria Sharapova after she said that the governing body was…',\n",
       " 'NEW DELHI: The Indian ODI team has struggled to find a settled middle order post the 2015 World Cup. Having lost the last two ODI…',\n",
       " 'The upcoming new Mercedes-AMG E63 performance car will feature 4Matic four-wheel drive as standard. It will also have a newly…',\n",
       " 'Mumbai, The benchmark Sensex rebounded almost 104 points today after investors lapped up select blue-chips, tracking a firm trend…',\n",
       " 'Skoda’s fast-car strategy is under review as new boss Bernhard Maier seeks to establish how far he can stretch the brand’s appeal…']"
      ]
     },
     "execution_count": 11,
     "metadata": {},
     "output_type": "execute_result"
    }
   ],
   "source": [
    "for i in desc_tags:\n",
    "    \n",
    "    title=i.text\n",
    "    description.append(title)\n",
    "description[0:10]"
   ]
  },
  {
   "cell_type": "code",
   "execution_count": 12,
   "metadata": {},
   "outputs": [
    {
     "name": "stdout",
     "output_type": "stream",
     "text": [
      "10 10 10\n"
     ]
    }
   ],
   "source": [
    "print(len(news_titles),len(date),len(description))"
   ]
  },
  {
   "cell_type": "code",
   "execution_count": 13,
   "metadata": {},
   "outputs": [],
   "source": [
    "import pandas as pd\n",
    "news=pd.DataFrame({})\n",
    "news['title']=news_titles[0:10]\n",
    "news['date']=date[0:10]\n",
    "news['desc']=description[0:10]"
   ]
  },
  {
   "cell_type": "code",
   "execution_count": 14,
   "metadata": {},
   "outputs": [
    {
     "data": {
      "text/html": [
       "<div>\n",
       "<style scoped>\n",
       "    .dataframe tbody tr th:only-of-type {\n",
       "        vertical-align: middle;\n",
       "    }\n",
       "\n",
       "    .dataframe tbody tr th {\n",
       "        vertical-align: top;\n",
       "    }\n",
       "\n",
       "    .dataframe thead th {\n",
       "        text-align: right;\n",
       "    }\n",
       "</style>\n",
       "<table border=\"1\" class=\"dataframe\">\n",
       "  <thead>\n",
       "    <tr style=\"text-align: right;\">\n",
       "      <th></th>\n",
       "      <th>title</th>\n",
       "      <th>date</th>\n",
       "      <th>desc</th>\n",
       "    </tr>\n",
       "  </thead>\n",
       "  <tbody>\n",
       "    <tr>\n",
       "      <th>0</th>\n",
       "      <td>‘Surgical strike’ needed on dengue, chikunguny...</td>\n",
       "      <td>Oct 6, 2016</td>\n",
       "      <td>New Delhi: The \"surgical strike\" on the terror...</td>\n",
       "    </tr>\n",
       "    <tr>\n",
       "      <th>1</th>\n",
       "      <td>Contention arise over domicile reservation in ...</td>\n",
       "      <td>Oct 6, 2016</td>\n",
       "      <td>Seemingly the commotions spurred within the re...</td>\n",
       "    </tr>\n",
       "    <tr>\n",
       "      <th>2</th>\n",
       "      <td>I was rejected by every major record label: Jo...</td>\n",
       "      <td>Oct 6, 2016</td>\n",
       "      <td>London,  Singer John Legend says most of the b...</td>\n",
       "    </tr>\n",
       "    <tr>\n",
       "      <th>3</th>\n",
       "      <td>Man stabs son to death over property row\\nEBM ...</td>\n",
       "      <td>Oct 6, 2016</td>\n",
       "      <td>THANE: A 40-year-old was stabbed by his father...</td>\n",
       "    </tr>\n",
       "    <tr>\n",
       "      <th>4</th>\n",
       "      <td>India welcomes Antonio Guterres as next UN Sec...</td>\n",
       "      <td>Oct 6, 2016</td>\n",
       "      <td>United Nations,  India has welcomed the select...</td>\n",
       "    </tr>\n",
       "    <tr>\n",
       "      <th>5</th>\n",
       "      <td>ITF blasts Sharapova for ‘making example of me...</td>\n",
       "      <td>Oct 6, 2016</td>\n",
       "      <td>London, The International Tennis Federation (I...</td>\n",
       "    </tr>\n",
       "    <tr>\n",
       "      <th>6</th>\n",
       "      <td>India v NZ, ODI team selection: Opening headac...</td>\n",
       "      <td>Oct 6, 2016</td>\n",
       "      <td>NEW DELHI: The Indian ODI team has struggled t...</td>\n",
       "    </tr>\n",
       "    <tr>\n",
       "      <th>7</th>\n",
       "      <td>Next-gen Mercedes-AMG E63 to get all-wheel dri...</td>\n",
       "      <td>Oct 6, 2016</td>\n",
       "      <td>The upcoming new Mercedes-AMG E63 performance ...</td>\n",
       "    </tr>\n",
       "    <tr>\n",
       "      <th>8</th>\n",
       "      <td>Sensex recoups 104 points on Asian uptrend\\nEB...</td>\n",
       "      <td>Oct 6, 2016</td>\n",
       "      <td>Mumbai, The benchmark Sensex rebounded almost ...</td>\n",
       "    </tr>\n",
       "    <tr>\n",
       "      <th>9</th>\n",
       "      <td>Skoda vRS performance models under question\\nE...</td>\n",
       "      <td>Oct 6, 2016</td>\n",
       "      <td>Skoda’s fast-car strategy is under review as n...</td>\n",
       "    </tr>\n",
       "  </tbody>\n",
       "</table>\n",
       "</div>"
      ],
      "text/plain": [
       "                                               title         date  \\\n",
       "0  ‘Surgical strike’ needed on dengue, chikunguny...  Oct 6, 2016   \n",
       "1  Contention arise over domicile reservation in ...  Oct 6, 2016   \n",
       "2  I was rejected by every major record label: Jo...  Oct 6, 2016   \n",
       "3  Man stabs son to death over property row\\nEBM ...  Oct 6, 2016   \n",
       "4  India welcomes Antonio Guterres as next UN Sec...  Oct 6, 2016   \n",
       "5  ITF blasts Sharapova for ‘making example of me...  Oct 6, 2016   \n",
       "6  India v NZ, ODI team selection: Opening headac...  Oct 6, 2016   \n",
       "7  Next-gen Mercedes-AMG E63 to get all-wheel dri...  Oct 6, 2016   \n",
       "8  Sensex recoups 104 points on Asian uptrend\\nEB...  Oct 6, 2016   \n",
       "9  Skoda vRS performance models under question\\nE...  Oct 6, 2016   \n",
       "\n",
       "                                                desc  \n",
       "0  New Delhi: The \"surgical strike\" on the terror...  \n",
       "1  Seemingly the commotions spurred within the re...  \n",
       "2  London,  Singer John Legend says most of the b...  \n",
       "3  THANE: A 40-year-old was stabbed by his father...  \n",
       "4  United Nations,  India has welcomed the select...  \n",
       "5  London, The International Tennis Federation (I...  \n",
       "6  NEW DELHI: The Indian ODI team has struggled t...  \n",
       "7  The upcoming new Mercedes-AMG E63 performance ...  \n",
       "8  Mumbai, The benchmark Sensex rebounded almost ...  \n",
       "9  Skoda’s fast-car strategy is under review as n...  "
      ]
     },
     "execution_count": 14,
     "metadata": {},
     "output_type": "execute_result"
    }
   ],
   "source": [
    "news"
   ]
  },
  {
   "cell_type": "code",
   "execution_count": null,
   "metadata": {},
   "outputs": [],
   "source": []
  }
 ],
 "metadata": {
  "kernelspec": {
   "display_name": "Python 3",
   "language": "python",
   "name": "python3"
  },
  "language_info": {
   "codemirror_mode": {
    "name": "ipython",
    "version": 3
   },
   "file_extension": ".py",
   "mimetype": "text/x-python",
   "name": "python",
   "nbconvert_exporter": "python",
   "pygments_lexer": "ipython3",
   "version": "3.7.6"
  }
 },
 "nbformat": 4,
 "nbformat_minor": 4
}
