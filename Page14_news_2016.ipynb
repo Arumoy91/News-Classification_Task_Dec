{
 "cells": [
  {
   "cell_type": "code",
   "execution_count": 1,
   "metadata": {},
   "outputs": [],
   "source": [
    "import selenium\n",
    "import pandas as pd\n",
    "from selenium import webdriver"
   ]
  },
  {
   "cell_type": "code",
   "execution_count": 2,
   "metadata": {},
   "outputs": [],
   "source": [
    "driver=webdriver.Chrome(\"C:\\chromedriver.exe\")"
   ]
  },
  {
   "cell_type": "code",
   "execution_count": 3,
   "metadata": {},
   "outputs": [],
   "source": [
    "driver.get('https://www.ebmnews.com/2016/page/14/')"
   ]
  },
  {
   "cell_type": "code",
   "execution_count": 4,
   "metadata": {},
   "outputs": [],
   "source": [
    "news_titles=[]\n",
    "date=[]\n",
    "description=[]"
   ]
  },
  {
   "cell_type": "code",
   "execution_count": 5,
   "metadata": {},
   "outputs": [
    {
     "data": {
      "text/plain": [
       "[<selenium.webdriver.remote.webelement.WebElement (session=\"6a99abce0c018aeae479d4520643263f\", element=\"045250c0-87ce-4186-921c-7a3c5fa481f2\")>,\n",
       " <selenium.webdriver.remote.webelement.WebElement (session=\"6a99abce0c018aeae479d4520643263f\", element=\"a1bd6ce9-2750-4e5a-b6bf-83824b172cc5\")>,\n",
       " <selenium.webdriver.remote.webelement.WebElement (session=\"6a99abce0c018aeae479d4520643263f\", element=\"689b4f55-a61b-48dd-b6ef-3e55f6bb4099\")>,\n",
       " <selenium.webdriver.remote.webelement.WebElement (session=\"6a99abce0c018aeae479d4520643263f\", element=\"bebf185a-2ba4-4320-9bd5-490739ed1cf8\")>,\n",
       " <selenium.webdriver.remote.webelement.WebElement (session=\"6a99abce0c018aeae479d4520643263f\", element=\"da0d33c3-6693-4b66-a6f7-393c5ce7e8b9\")>,\n",
       " <selenium.webdriver.remote.webelement.WebElement (session=\"6a99abce0c018aeae479d4520643263f\", element=\"35a3ed13-0a9f-4a88-a58a-5cd19816e79f\")>,\n",
       " <selenium.webdriver.remote.webelement.WebElement (session=\"6a99abce0c018aeae479d4520643263f\", element=\"3f6a09d2-2bac-4a90-a417-8c156b081b9f\")>,\n",
       " <selenium.webdriver.remote.webelement.WebElement (session=\"6a99abce0c018aeae479d4520643263f\", element=\"08c7bb67-4edf-4dd4-a51c-4c8a48edd233\")>,\n",
       " <selenium.webdriver.remote.webelement.WebElement (session=\"6a99abce0c018aeae479d4520643263f\", element=\"1d4aa30d-e5f3-4485-be9e-83a76ade210b\")>,\n",
       " <selenium.webdriver.remote.webelement.WebElement (session=\"6a99abce0c018aeae479d4520643263f\", element=\"8cad2228-cc51-4110-84ea-af753cac4ff6\")>]"
      ]
     },
     "execution_count": 5,
     "metadata": {},
     "output_type": "execute_result"
    }
   ],
   "source": [
    "title_tags=driver.find_elements_by_xpath(\"//div[@class='item-inner clearfix']\")\n",
    "title_tags[0:10]"
   ]
  },
  {
   "cell_type": "code",
   "execution_count": 6,
   "metadata": {},
   "outputs": [
    {
     "data": {
      "text/plain": [
       "['Millennials upskill to climb career ladder\\nEBM News English Oct 11, 2016\\nMUMBAI: Move over gold, stocks, mutual funds and bonds. Career upskilling appears to have emerged as the new investment option for…',\n",
       " 'Pujara cracks unbeaten century, India set Kiwis huge target\\nEBM News English Oct 11, 2016\\nIndore, Continuing with his superb form, Cheteshwar Pujara cracked an unbeaten 101 as India declared their second innings at 216…',\n",
       " 'Kidney racket: Five Hiranandani doctors chargesheeted for criminal conspiracy\\nEBM News English Oct 11, 2016\\nMUMBAI: Powai police filed a 1,000-page-plus chargesheet on Monday in the kidney racket that was busted at Hiranandani hospital on…',\n",
       " '2 held with gold hidden in papaya\\nEBM News English Oct 11, 2016\\nNEW DELHI: Customs officials at the Indira Gandhi International airport arrested two men who were trying to smuggle into the…',\n",
       " 'Beauty and health from the lap of Himalayas\\nEBM News English Oct 11, 2016\\nHYDERABAD: Fashion includes having beautiful and resplendent skin and texture. Having grown up amid flowers and fragnance, Swapnil…',\n",
       " 'Entire Kashmir is ours including Gilgit-Baltistan, asserts Mohan Bhagwat\\nEBM News English Oct 11, 2016\\nNAGPUR: Asserting that Pakistan was the key element behind instigating violence in the Valley, Rashtriya Swayamsevak Sangh (RSS)…',\n",
       " \"43 cases filed, two held over rumours about Jayalalithaa’s health\\nEBM News English Oct 11, 2016\\nCHENNAI: Police on Tuesday arrested two persons for spreading rumours about Tamil Nadu Chief Minister J. Jayalalithaa's health on…\",\n",
       " 'Pakistan lawyer moves court to bring back Mohenjodaro’s ‘Dancing Girl’ from India\\nEBM News English Oct 11, 2016\\nISLAMABAD: A Pakistani lawyer has filed a petition to ask the government to bring back a 5,000-year-old bronze statue called…',\n",
       " 'Kohli to receive ICC Test Championships mace after 3rd Test\\nEBM News English Oct 11, 2016\\nIndore,  The ICC will present the Test Championship mace to captain Virat Kohli for leading India to number one rank in the world…',\n",
       " 'Bill Clinton was a predator, worst abuser of women: Trump\\nEBM News English Oct 11, 2016\\nWashington,  Calling former US president Bill Clinton a \"predator\" and the \"worst abuser\" of women, Donald Trump today threatened…']"
      ]
     },
     "execution_count": 6,
     "metadata": {},
     "output_type": "execute_result"
    }
   ],
   "source": [
    "for i in title_tags:\n",
    "    \n",
    "    title=i.text\n",
    "    news_titles.append(title)\n",
    "news_titles[0:10]"
   ]
  },
  {
   "cell_type": "code",
   "execution_count": 7,
   "metadata": {},
   "outputs": [
    {
     "data": {
      "text/plain": [
       "[<selenium.webdriver.remote.webelement.WebElement (session=\"6a99abce0c018aeae479d4520643263f\", element=\"52ae8abd-cd6f-4352-ac71-b9e6a9fa4d38\")>,\n",
       " <selenium.webdriver.remote.webelement.WebElement (session=\"6a99abce0c018aeae479d4520643263f\", element=\"1e1487c0-0f0e-42a8-b01d-881b9aafcc79\")>,\n",
       " <selenium.webdriver.remote.webelement.WebElement (session=\"6a99abce0c018aeae479d4520643263f\", element=\"dd7c95b2-0988-4a08-ba23-40422759bedc\")>,\n",
       " <selenium.webdriver.remote.webelement.WebElement (session=\"6a99abce0c018aeae479d4520643263f\", element=\"8204c8be-271d-4175-8285-5e187c3ac00b\")>,\n",
       " <selenium.webdriver.remote.webelement.WebElement (session=\"6a99abce0c018aeae479d4520643263f\", element=\"b38be111-2a18-492f-9e5c-34d078bf552d\")>,\n",
       " <selenium.webdriver.remote.webelement.WebElement (session=\"6a99abce0c018aeae479d4520643263f\", element=\"3e8a8ac9-d258-42d4-9515-2355930ea339\")>,\n",
       " <selenium.webdriver.remote.webelement.WebElement (session=\"6a99abce0c018aeae479d4520643263f\", element=\"9d05eba8-8fa0-456c-a920-4684dacffe0d\")>,\n",
       " <selenium.webdriver.remote.webelement.WebElement (session=\"6a99abce0c018aeae479d4520643263f\", element=\"d5e351ae-04ea-4a34-8c32-e1d7c6c7bb7d\")>,\n",
       " <selenium.webdriver.remote.webelement.WebElement (session=\"6a99abce0c018aeae479d4520643263f\", element=\"41de767b-fc73-475a-9d93-1f329160443b\")>,\n",
       " <selenium.webdriver.remote.webelement.WebElement (session=\"6a99abce0c018aeae479d4520643263f\", element=\"224524fe-32af-41bd-9309-eeb53a69458a\")>]"
      ]
     },
     "execution_count": 7,
     "metadata": {},
     "output_type": "execute_result"
    }
   ],
   "source": [
    "date_tags=driver.find_elements_by_xpath(\"//span[@class='time']\")\n",
    "date_tags[0:10]"
   ]
  },
  {
   "cell_type": "code",
   "execution_count": 8,
   "metadata": {},
   "outputs": [
    {
     "data": {
      "text/plain": [
       "['Oct 11, 2016',\n",
       " 'Oct 11, 2016',\n",
       " 'Oct 11, 2016',\n",
       " 'Oct 11, 2016',\n",
       " 'Oct 11, 2016',\n",
       " 'Oct 11, 2016',\n",
       " 'Oct 11, 2016',\n",
       " 'Oct 11, 2016',\n",
       " 'Oct 11, 2016',\n",
       " 'Oct 11, 2016']"
      ]
     },
     "execution_count": 8,
     "metadata": {},
     "output_type": "execute_result"
    }
   ],
   "source": [
    "for i in date_tags:\n",
    "    \n",
    "    title=i.text\n",
    "    date.append(title)\n",
    "date[0:10]"
   ]
  },
  {
   "cell_type": "code",
   "execution_count": 9,
   "metadata": {},
   "outputs": [
    {
     "data": {
      "text/plain": [
       "[<selenium.webdriver.remote.webelement.WebElement (session=\"6a99abce0c018aeae479d4520643263f\", element=\"64477b60-8c41-4b20-ab85-be7ec1604e78\")>,\n",
       " <selenium.webdriver.remote.webelement.WebElement (session=\"6a99abce0c018aeae479d4520643263f\", element=\"6b9f7c30-39b2-4690-92f7-857a0cfe4cff\")>,\n",
       " <selenium.webdriver.remote.webelement.WebElement (session=\"6a99abce0c018aeae479d4520643263f\", element=\"876a4a67-8c4b-441c-b222-888562367a48\")>,\n",
       " <selenium.webdriver.remote.webelement.WebElement (session=\"6a99abce0c018aeae479d4520643263f\", element=\"2417b3d1-f190-47cf-a031-9f5a0d14e374\")>,\n",
       " <selenium.webdriver.remote.webelement.WebElement (session=\"6a99abce0c018aeae479d4520643263f\", element=\"a0b8b4be-310f-4e83-9570-c13555acb76b\")>,\n",
       " <selenium.webdriver.remote.webelement.WebElement (session=\"6a99abce0c018aeae479d4520643263f\", element=\"e7a3dc62-540f-447d-b878-d55907b73ff0\")>,\n",
       " <selenium.webdriver.remote.webelement.WebElement (session=\"6a99abce0c018aeae479d4520643263f\", element=\"2dcda976-2d8e-4185-8639-d204b920ba2d\")>,\n",
       " <selenium.webdriver.remote.webelement.WebElement (session=\"6a99abce0c018aeae479d4520643263f\", element=\"1a1b4a24-607a-4ab5-90f8-7e0bc2f7798d\")>,\n",
       " <selenium.webdriver.remote.webelement.WebElement (session=\"6a99abce0c018aeae479d4520643263f\", element=\"4a64479c-4493-4003-af07-9d9e16bb5c4b\")>,\n",
       " <selenium.webdriver.remote.webelement.WebElement (session=\"6a99abce0c018aeae479d4520643263f\", element=\"219a58da-3207-4430-9833-e98366ec75ca\")>]"
      ]
     },
     "execution_count": 9,
     "metadata": {},
     "output_type": "execute_result"
    }
   ],
   "source": [
    "desc_tags=driver.find_elements_by_xpath(\"//div[@class='post-summary']\")\n",
    "desc_tags[0:10]"
   ]
  },
  {
   "cell_type": "code",
   "execution_count": 10,
   "metadata": {},
   "outputs": [
    {
     "data": {
      "text/plain": [
       "['MUMBAI: Move over gold, stocks, mutual funds and bonds. Career upskilling appears to have emerged as the new investment option for…',\n",
       " 'Indore, Continuing with his superb form, Cheteshwar Pujara cracked an unbeaten 101 as India declared their second innings at 216…',\n",
       " 'MUMBAI: Powai police filed a 1,000-page-plus chargesheet on Monday in the kidney racket that was busted at Hiranandani hospital on…',\n",
       " 'NEW DELHI: Customs officials at the Indira Gandhi International airport arrested two men who were trying to smuggle into the…',\n",
       " 'HYDERABAD: Fashion includes having beautiful and resplendent skin and texture. Having grown up amid flowers and fragnance, Swapnil…',\n",
       " 'NAGPUR: Asserting that Pakistan was the key element behind instigating violence in the Valley, Rashtriya Swayamsevak Sangh (RSS)…',\n",
       " \"CHENNAI: Police on Tuesday arrested two persons for spreading rumours about Tamil Nadu Chief Minister J. Jayalalithaa's health on…\",\n",
       " 'ISLAMABAD: A Pakistani lawyer has filed a petition to ask the government to bring back a 5,000-year-old bronze statue called…',\n",
       " 'Indore,  The ICC will present the Test Championship mace to captain Virat Kohli for leading India to number one rank in the world…',\n",
       " 'Washington,  Calling former US president Bill Clinton a \"predator\" and the \"worst abuser\" of women, Donald Trump today threatened…']"
      ]
     },
     "execution_count": 10,
     "metadata": {},
     "output_type": "execute_result"
    }
   ],
   "source": [
    "for i in desc_tags:\n",
    "    \n",
    "    title=i.text\n",
    "    description.append(title)\n",
    "description[0:10]"
   ]
  },
  {
   "cell_type": "code",
   "execution_count": 11,
   "metadata": {},
   "outputs": [
    {
     "name": "stdout",
     "output_type": "stream",
     "text": [
      "10 10 10\n"
     ]
    }
   ],
   "source": [
    "print(len(news_titles),len(date),len(description))"
   ]
  },
  {
   "cell_type": "code",
   "execution_count": 12,
   "metadata": {},
   "outputs": [],
   "source": [
    "import pandas as pd\n",
    "news=pd.DataFrame({})\n",
    "news['title']=news_titles[0:10]\n",
    "news['date']=date[0:10]\n",
    "news['desc']=description[0:10]"
   ]
  },
  {
   "cell_type": "code",
   "execution_count": 13,
   "metadata": {},
   "outputs": [
    {
     "data": {
      "text/html": [
       "<div>\n",
       "<style scoped>\n",
       "    .dataframe tbody tr th:only-of-type {\n",
       "        vertical-align: middle;\n",
       "    }\n",
       "\n",
       "    .dataframe tbody tr th {\n",
       "        vertical-align: top;\n",
       "    }\n",
       "\n",
       "    .dataframe thead th {\n",
       "        text-align: right;\n",
       "    }\n",
       "</style>\n",
       "<table border=\"1\" class=\"dataframe\">\n",
       "  <thead>\n",
       "    <tr style=\"text-align: right;\">\n",
       "      <th></th>\n",
       "      <th>title</th>\n",
       "      <th>date</th>\n",
       "      <th>desc</th>\n",
       "    </tr>\n",
       "  </thead>\n",
       "  <tbody>\n",
       "    <tr>\n",
       "      <th>0</th>\n",
       "      <td>Millennials upskill to climb career ladder\\nEB...</td>\n",
       "      <td>Oct 11, 2016</td>\n",
       "      <td>MUMBAI: Move over gold, stocks, mutual funds a...</td>\n",
       "    </tr>\n",
       "    <tr>\n",
       "      <th>1</th>\n",
       "      <td>Pujara cracks unbeaten century, India set Kiwi...</td>\n",
       "      <td>Oct 11, 2016</td>\n",
       "      <td>Indore, Continuing with his superb form, Chete...</td>\n",
       "    </tr>\n",
       "    <tr>\n",
       "      <th>2</th>\n",
       "      <td>Kidney racket: Five Hiranandani doctors charge...</td>\n",
       "      <td>Oct 11, 2016</td>\n",
       "      <td>MUMBAI: Powai police filed a 1,000-page-plus c...</td>\n",
       "    </tr>\n",
       "    <tr>\n",
       "      <th>3</th>\n",
       "      <td>2 held with gold hidden in papaya\\nEBM News En...</td>\n",
       "      <td>Oct 11, 2016</td>\n",
       "      <td>NEW DELHI: Customs officials at the Indira Gan...</td>\n",
       "    </tr>\n",
       "    <tr>\n",
       "      <th>4</th>\n",
       "      <td>Beauty and health from the lap of Himalayas\\nE...</td>\n",
       "      <td>Oct 11, 2016</td>\n",
       "      <td>HYDERABAD: Fashion includes having beautiful a...</td>\n",
       "    </tr>\n",
       "    <tr>\n",
       "      <th>5</th>\n",
       "      <td>Entire Kashmir is ours including Gilgit-Baltis...</td>\n",
       "      <td>Oct 11, 2016</td>\n",
       "      <td>NAGPUR: Asserting that Pakistan was the key el...</td>\n",
       "    </tr>\n",
       "    <tr>\n",
       "      <th>6</th>\n",
       "      <td>43 cases filed, two held over rumours about Ja...</td>\n",
       "      <td>Oct 11, 2016</td>\n",
       "      <td>CHENNAI: Police on Tuesday arrested two person...</td>\n",
       "    </tr>\n",
       "    <tr>\n",
       "      <th>7</th>\n",
       "      <td>Pakistan lawyer moves court to bring back Mohe...</td>\n",
       "      <td>Oct 11, 2016</td>\n",
       "      <td>ISLAMABAD: A Pakistani lawyer has filed a peti...</td>\n",
       "    </tr>\n",
       "    <tr>\n",
       "      <th>8</th>\n",
       "      <td>Kohli to receive ICC Test Championships mace a...</td>\n",
       "      <td>Oct 11, 2016</td>\n",
       "      <td>Indore,  The ICC will present the Test Champio...</td>\n",
       "    </tr>\n",
       "    <tr>\n",
       "      <th>9</th>\n",
       "      <td>Bill Clinton was a predator, worst abuser of w...</td>\n",
       "      <td>Oct 11, 2016</td>\n",
       "      <td>Washington,  Calling former US president Bill ...</td>\n",
       "    </tr>\n",
       "  </tbody>\n",
       "</table>\n",
       "</div>"
      ],
      "text/plain": [
       "                                               title          date  \\\n",
       "0  Millennials upskill to climb career ladder\\nEB...  Oct 11, 2016   \n",
       "1  Pujara cracks unbeaten century, India set Kiwi...  Oct 11, 2016   \n",
       "2  Kidney racket: Five Hiranandani doctors charge...  Oct 11, 2016   \n",
       "3  2 held with gold hidden in papaya\\nEBM News En...  Oct 11, 2016   \n",
       "4  Beauty and health from the lap of Himalayas\\nE...  Oct 11, 2016   \n",
       "5  Entire Kashmir is ours including Gilgit-Baltis...  Oct 11, 2016   \n",
       "6  43 cases filed, two held over rumours about Ja...  Oct 11, 2016   \n",
       "7  Pakistan lawyer moves court to bring back Mohe...  Oct 11, 2016   \n",
       "8  Kohli to receive ICC Test Championships mace a...  Oct 11, 2016   \n",
       "9  Bill Clinton was a predator, worst abuser of w...  Oct 11, 2016   \n",
       "\n",
       "                                                desc  \n",
       "0  MUMBAI: Move over gold, stocks, mutual funds a...  \n",
       "1  Indore, Continuing with his superb form, Chete...  \n",
       "2  MUMBAI: Powai police filed a 1,000-page-plus c...  \n",
       "3  NEW DELHI: Customs officials at the Indira Gan...  \n",
       "4  HYDERABAD: Fashion includes having beautiful a...  \n",
       "5  NAGPUR: Asserting that Pakistan was the key el...  \n",
       "6  CHENNAI: Police on Tuesday arrested two person...  \n",
       "7  ISLAMABAD: A Pakistani lawyer has filed a peti...  \n",
       "8  Indore,  The ICC will present the Test Champio...  \n",
       "9  Washington,  Calling former US president Bill ...  "
      ]
     },
     "execution_count": 13,
     "metadata": {},
     "output_type": "execute_result"
    }
   ],
   "source": [
    "news"
   ]
  },
  {
   "cell_type": "code",
   "execution_count": null,
   "metadata": {},
   "outputs": [],
   "source": []
  }
 ],
 "metadata": {
  "kernelspec": {
   "display_name": "Python 3",
   "language": "python",
   "name": "python3"
  },
  "language_info": {
   "codemirror_mode": {
    "name": "ipython",
    "version": 3
   },
   "file_extension": ".py",
   "mimetype": "text/x-python",
   "name": "python",
   "nbconvert_exporter": "python",
   "pygments_lexer": "ipython3",
   "version": "3.7.6"
  }
 },
 "nbformat": 4,
 "nbformat_minor": 4
}
