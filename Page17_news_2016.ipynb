{
 "cells": [
  {
   "cell_type": "code",
   "execution_count": 1,
   "metadata": {},
   "outputs": [],
   "source": [
    "import selenium\n",
    "import pandas as pd\n",
    "from selenium import webdriver"
   ]
  },
  {
   "cell_type": "code",
   "execution_count": 2,
   "metadata": {},
   "outputs": [],
   "source": [
    "driver=webdriver.Chrome(\"C:\\chromedriver.exe\")"
   ]
  },
  {
   "cell_type": "code",
   "execution_count": 3,
   "metadata": {},
   "outputs": [],
   "source": [
    "driver.get('https://www.ebmnews.com/2016/page/17/')"
   ]
  },
  {
   "cell_type": "code",
   "execution_count": 4,
   "metadata": {},
   "outputs": [],
   "source": [
    "news_titles=[]\n",
    "date=[]\n",
    "description=[]"
   ]
  },
  {
   "cell_type": "code",
   "execution_count": 5,
   "metadata": {},
   "outputs": [
    {
     "data": {
      "text/plain": [
       "[<selenium.webdriver.remote.webelement.WebElement (session=\"885172f3a9fe1e27142c519e5be2b6c0\", element=\"35cde00d-74c3-40fe-9059-80699c595caf\")>,\n",
       " <selenium.webdriver.remote.webelement.WebElement (session=\"885172f3a9fe1e27142c519e5be2b6c0\", element=\"70c8dcd6-5460-403b-a8bf-a0e1eafc45e0\")>,\n",
       " <selenium.webdriver.remote.webelement.WebElement (session=\"885172f3a9fe1e27142c519e5be2b6c0\", element=\"30afa0ea-d379-4273-a6f9-b1ce3b3432dd\")>,\n",
       " <selenium.webdriver.remote.webelement.WebElement (session=\"885172f3a9fe1e27142c519e5be2b6c0\", element=\"04da6f92-136d-4583-a870-eb95f3bfe7e3\")>,\n",
       " <selenium.webdriver.remote.webelement.WebElement (session=\"885172f3a9fe1e27142c519e5be2b6c0\", element=\"38527da0-e78b-4715-a015-9df8d12f3979\")>,\n",
       " <selenium.webdriver.remote.webelement.WebElement (session=\"885172f3a9fe1e27142c519e5be2b6c0\", element=\"3d9f87f0-8ef8-4254-9d11-666f3e9f9e4b\")>,\n",
       " <selenium.webdriver.remote.webelement.WebElement (session=\"885172f3a9fe1e27142c519e5be2b6c0\", element=\"fb714d62-0a2a-4d0d-be42-a41870f4ce37\")>,\n",
       " <selenium.webdriver.remote.webelement.WebElement (session=\"885172f3a9fe1e27142c519e5be2b6c0\", element=\"5dd02b70-3903-4fc8-8e3d-b81f4263aedd\")>,\n",
       " <selenium.webdriver.remote.webelement.WebElement (session=\"885172f3a9fe1e27142c519e5be2b6c0\", element=\"420c98d7-8694-4595-bec2-3f5c8ea2934f\")>,\n",
       " <selenium.webdriver.remote.webelement.WebElement (session=\"885172f3a9fe1e27142c519e5be2b6c0\", element=\"81594e44-4a8b-49d6-9301-2cf805172f51\")>]"
      ]
     },
     "execution_count": 5,
     "metadata": {},
     "output_type": "execute_result"
    }
   ],
   "source": [
    "title_tags=driver.find_elements_by_xpath(\"//div[@class='item-inner clearfix']\")\n",
    "title_tags[0:10]"
   ]
  },
  {
   "cell_type": "code",
   "execution_count": 6,
   "metadata": {},
   "outputs": [
    {
     "data": {
      "text/plain": [
       "['STF, Kolkata nabbed ‘most-wanted’ gun-runners from Kerala\\nEBM News English Oct 11, 2016\\nA Kerala based inter-state gang members linked with D-company were held from Howrah Bridge on Thursday night. Later, they were…',\n",
       " 'BMW 3-series GT facelift expected price, specifications and equipment\\nEBM News English Oct 11, 2016\\nBMW had updated the 3-series sedan earlier in the year and has now shifted its focus to the 3-series GT with a facelift, all set…',\n",
       " \"Bombay HC slams civic chief after illegal structure in Vile Parle gets regularized\\nEBM News English Oct 11, 2016\\nMUMBAI: The Bombay high court on Monday slammed municipal commissioner Ajoy Mehta for overreaching it's order for demolition and…\",\n",
       " 'Gold prices edge down after two sessions as U.S. rate hike views boost dollar\\nEBM News English Oct 11, 2016\\nGold prices edged lower on Tuesday after two sessions of gains, with the U.S. dollar strengthening amid speculation the Federal…',\n",
       " 'Clinton proposes tax relief for families with young kids\\nEBM News English Oct 11, 2016\\nDES MOINES: Hillary Clinton is pledging more tax relief for families with young children. The Democratic presidential nominee…',\n",
       " 'Guest faculty to boycott mega meet\\nEBM News English Oct 11, 2016\\nNEW DELHI: Chief minister Arvind Kejriwal may have announced a pay hike for guest teachers, but a section of them still doubts…',\n",
       " 'Pampore attack: Gunbattle enters second day\\nEBM News English Oct 11, 2016\\nSrinagar,  The operation to flush-out militants holed up inside a government building in Pampore area on the Srinagar-Jammu…',\n",
       " 'UN chief urges independent investigation of Yemen attacks\\nEBM News English Oct 11, 2016\\nUnited Nations,  Secretary-General Ban Ki-moon urged the UN Human Rights Council to immediately establish an independent body to…',\n",
       " 'Disability pension: AAP slams Centre\\nEBM News English Oct 11, 2016\\nNEW DELHI: AAP on Monday termed as \"shameful\" the BJP-led central government\\'s decision to allegedly reduce disability pension of…',\n",
       " 'Curfew in interior areas of Srinagar\\nEBM News English Oct 11, 2016\\nSrinagar,  Curfew today remained in force in interior areas of Srinagar as a precautionary measure to maintain law and order in…']"
      ]
     },
     "execution_count": 6,
     "metadata": {},
     "output_type": "execute_result"
    }
   ],
   "source": [
    "for i in title_tags:\n",
    "    \n",
    "    title=i.text\n",
    "    news_titles.append(title)\n",
    "news_titles[0:10]"
   ]
  },
  {
   "cell_type": "code",
   "execution_count": 7,
   "metadata": {},
   "outputs": [
    {
     "data": {
      "text/plain": [
       "[<selenium.webdriver.remote.webelement.WebElement (session=\"885172f3a9fe1e27142c519e5be2b6c0\", element=\"5da8f8f8-eaf9-44bf-947c-dcd7d4de33f3\")>,\n",
       " <selenium.webdriver.remote.webelement.WebElement (session=\"885172f3a9fe1e27142c519e5be2b6c0\", element=\"9e0419f2-b82d-48da-8944-8bb01b40b8ba\")>,\n",
       " <selenium.webdriver.remote.webelement.WebElement (session=\"885172f3a9fe1e27142c519e5be2b6c0\", element=\"2632377f-960c-4668-8857-dde765e167f4\")>,\n",
       " <selenium.webdriver.remote.webelement.WebElement (session=\"885172f3a9fe1e27142c519e5be2b6c0\", element=\"4876e773-a0e0-4940-aadc-aba7adf78697\")>,\n",
       " <selenium.webdriver.remote.webelement.WebElement (session=\"885172f3a9fe1e27142c519e5be2b6c0\", element=\"93ffd3c2-d004-4e7a-9541-d9b474a78cbf\")>,\n",
       " <selenium.webdriver.remote.webelement.WebElement (session=\"885172f3a9fe1e27142c519e5be2b6c0\", element=\"c058a768-6616-4b44-bdf6-0a0e1950b6e6\")>,\n",
       " <selenium.webdriver.remote.webelement.WebElement (session=\"885172f3a9fe1e27142c519e5be2b6c0\", element=\"23cfc45c-fe2e-4fa3-acd4-f6a38d18c79e\")>,\n",
       " <selenium.webdriver.remote.webelement.WebElement (session=\"885172f3a9fe1e27142c519e5be2b6c0\", element=\"00e07629-df68-4e0d-a749-1239f084ce1b\")>,\n",
       " <selenium.webdriver.remote.webelement.WebElement (session=\"885172f3a9fe1e27142c519e5be2b6c0\", element=\"505a9d88-5ef9-42fa-bae1-c0ba2dccf7ee\")>,\n",
       " <selenium.webdriver.remote.webelement.WebElement (session=\"885172f3a9fe1e27142c519e5be2b6c0\", element=\"5e47b96b-104b-419b-bd2c-8bc1566810a5\")>]"
      ]
     },
     "execution_count": 7,
     "metadata": {},
     "output_type": "execute_result"
    }
   ],
   "source": [
    "date_tags=driver.find_elements_by_xpath(\"//span[@class='time']\")\n",
    "date_tags[0:10]"
   ]
  },
  {
   "cell_type": "code",
   "execution_count": 8,
   "metadata": {},
   "outputs": [
    {
     "data": {
      "text/plain": [
       "['Oct 11, 2016',\n",
       " 'Oct 11, 2016',\n",
       " 'Oct 11, 2016',\n",
       " 'Oct 11, 2016',\n",
       " 'Oct 11, 2016',\n",
       " 'Oct 11, 2016',\n",
       " 'Oct 11, 2016',\n",
       " 'Oct 11, 2016',\n",
       " 'Oct 11, 2016',\n",
       " 'Oct 11, 2016']"
      ]
     },
     "execution_count": 8,
     "metadata": {},
     "output_type": "execute_result"
    }
   ],
   "source": [
    "for i in date_tags:\n",
    "    \n",
    "    title=i.text\n",
    "    date.append(title)\n",
    "date[0:10]"
   ]
  },
  {
   "cell_type": "code",
   "execution_count": 9,
   "metadata": {},
   "outputs": [
    {
     "data": {
      "text/plain": [
       "[<selenium.webdriver.remote.webelement.WebElement (session=\"885172f3a9fe1e27142c519e5be2b6c0\", element=\"ea332145-8765-4b48-b700-0297b8f86bbf\")>,\n",
       " <selenium.webdriver.remote.webelement.WebElement (session=\"885172f3a9fe1e27142c519e5be2b6c0\", element=\"f614a0b2-eaf5-455c-812e-0eb15484d089\")>,\n",
       " <selenium.webdriver.remote.webelement.WebElement (session=\"885172f3a9fe1e27142c519e5be2b6c0\", element=\"d369746c-87f0-4fc5-86c4-b4e276553d2c\")>,\n",
       " <selenium.webdriver.remote.webelement.WebElement (session=\"885172f3a9fe1e27142c519e5be2b6c0\", element=\"7c8b2863-2ccc-42a2-b925-d4bbf0bbc99e\")>,\n",
       " <selenium.webdriver.remote.webelement.WebElement (session=\"885172f3a9fe1e27142c519e5be2b6c0\", element=\"17d5adb8-4093-4182-9143-6e3febdd006a\")>,\n",
       " <selenium.webdriver.remote.webelement.WebElement (session=\"885172f3a9fe1e27142c519e5be2b6c0\", element=\"57fbb6df-c8e0-47e6-b6dd-478b709634ca\")>,\n",
       " <selenium.webdriver.remote.webelement.WebElement (session=\"885172f3a9fe1e27142c519e5be2b6c0\", element=\"2e2aaebc-9ab9-4447-8531-f9a786943dab\")>,\n",
       " <selenium.webdriver.remote.webelement.WebElement (session=\"885172f3a9fe1e27142c519e5be2b6c0\", element=\"fe3de36d-5900-41e9-954c-dee5a652b32e\")>,\n",
       " <selenium.webdriver.remote.webelement.WebElement (session=\"885172f3a9fe1e27142c519e5be2b6c0\", element=\"03dc3232-11a5-4e88-a2d6-34e9ad62aa9d\")>,\n",
       " <selenium.webdriver.remote.webelement.WebElement (session=\"885172f3a9fe1e27142c519e5be2b6c0\", element=\"2fd24e03-ad5c-475f-b52b-5867b276329f\")>]"
      ]
     },
     "execution_count": 9,
     "metadata": {},
     "output_type": "execute_result"
    }
   ],
   "source": [
    "desc_tags=driver.find_elements_by_xpath(\"//div[@class='post-summary']\")\n",
    "desc_tags[0:10]"
   ]
  },
  {
   "cell_type": "code",
   "execution_count": 10,
   "metadata": {},
   "outputs": [
    {
     "data": {
      "text/plain": [
       "['A Kerala based inter-state gang members linked with D-company were held from Howrah Bridge on Thursday night. Later, they were…',\n",
       " 'BMW had updated the 3-series sedan earlier in the year and has now shifted its focus to the 3-series GT with a facelift, all set…',\n",
       " \"MUMBAI: The Bombay high court on Monday slammed municipal commissioner Ajoy Mehta for overreaching it's order for demolition and…\",\n",
       " 'Gold prices edged lower on Tuesday after two sessions of gains, with the U.S. dollar strengthening amid speculation the Federal…',\n",
       " 'DES MOINES: Hillary Clinton is pledging more tax relief for families with young children. The Democratic presidential nominee…',\n",
       " 'NEW DELHI: Chief minister Arvind Kejriwal may have announced a pay hike for guest teachers, but a section of them still doubts…',\n",
       " 'Srinagar,  The operation to flush-out militants holed up inside a government building in Pampore area on the Srinagar-Jammu…',\n",
       " 'United Nations,  Secretary-General Ban Ki-moon urged the UN Human Rights Council to immediately establish an independent body to…',\n",
       " 'NEW DELHI: AAP on Monday termed as \"shameful\" the BJP-led central government\\'s decision to allegedly reduce disability pension of…',\n",
       " 'Srinagar,  Curfew today remained in force in interior areas of Srinagar as a precautionary measure to maintain law and order in…']"
      ]
     },
     "execution_count": 10,
     "metadata": {},
     "output_type": "execute_result"
    }
   ],
   "source": [
    "for i in desc_tags:\n",
    "    \n",
    "    title=i.text\n",
    "    description.append(title)\n",
    "description[0:10]"
   ]
  },
  {
   "cell_type": "code",
   "execution_count": 11,
   "metadata": {},
   "outputs": [
    {
     "name": "stdout",
     "output_type": "stream",
     "text": [
      "10 10 10\n"
     ]
    }
   ],
   "source": [
    "print(len(news_titles),len(date),len(description))"
   ]
  },
  {
   "cell_type": "code",
   "execution_count": 12,
   "metadata": {},
   "outputs": [],
   "source": [
    "import pandas as pd\n",
    "news=pd.DataFrame({})\n",
    "news['title']=news_titles[0:10]\n",
    "news['date']=date[0:10]\n",
    "news['desc']=description[0:10]"
   ]
  },
  {
   "cell_type": "code",
   "execution_count": 13,
   "metadata": {},
   "outputs": [
    {
     "data": {
      "text/html": [
       "<div>\n",
       "<style scoped>\n",
       "    .dataframe tbody tr th:only-of-type {\n",
       "        vertical-align: middle;\n",
       "    }\n",
       "\n",
       "    .dataframe tbody tr th {\n",
       "        vertical-align: top;\n",
       "    }\n",
       "\n",
       "    .dataframe thead th {\n",
       "        text-align: right;\n",
       "    }\n",
       "</style>\n",
       "<table border=\"1\" class=\"dataframe\">\n",
       "  <thead>\n",
       "    <tr style=\"text-align: right;\">\n",
       "      <th></th>\n",
       "      <th>title</th>\n",
       "      <th>date</th>\n",
       "      <th>desc</th>\n",
       "    </tr>\n",
       "  </thead>\n",
       "  <tbody>\n",
       "    <tr>\n",
       "      <th>0</th>\n",
       "      <td>STF, Kolkata nabbed ‘most-wanted’ gun-runners ...</td>\n",
       "      <td>Oct 11, 2016</td>\n",
       "      <td>A Kerala based inter-state gang members linked...</td>\n",
       "    </tr>\n",
       "    <tr>\n",
       "      <th>1</th>\n",
       "      <td>BMW 3-series GT facelift expected price, speci...</td>\n",
       "      <td>Oct 11, 2016</td>\n",
       "      <td>BMW had updated the 3-series sedan earlier in ...</td>\n",
       "    </tr>\n",
       "    <tr>\n",
       "      <th>2</th>\n",
       "      <td>Bombay HC slams civic chief after illegal stru...</td>\n",
       "      <td>Oct 11, 2016</td>\n",
       "      <td>MUMBAI: The Bombay high court on Monday slamme...</td>\n",
       "    </tr>\n",
       "    <tr>\n",
       "      <th>3</th>\n",
       "      <td>Gold prices edge down after two sessions as U....</td>\n",
       "      <td>Oct 11, 2016</td>\n",
       "      <td>Gold prices edged lower on Tuesday after two s...</td>\n",
       "    </tr>\n",
       "    <tr>\n",
       "      <th>4</th>\n",
       "      <td>Clinton proposes tax relief for families with ...</td>\n",
       "      <td>Oct 11, 2016</td>\n",
       "      <td>DES MOINES: Hillary Clinton is pledging more t...</td>\n",
       "    </tr>\n",
       "    <tr>\n",
       "      <th>5</th>\n",
       "      <td>Guest faculty to boycott mega meet\\nEBM News E...</td>\n",
       "      <td>Oct 11, 2016</td>\n",
       "      <td>NEW DELHI: Chief minister Arvind Kejriwal may ...</td>\n",
       "    </tr>\n",
       "    <tr>\n",
       "      <th>6</th>\n",
       "      <td>Pampore attack: Gunbattle enters second day\\nE...</td>\n",
       "      <td>Oct 11, 2016</td>\n",
       "      <td>Srinagar,  The operation to flush-out militant...</td>\n",
       "    </tr>\n",
       "    <tr>\n",
       "      <th>7</th>\n",
       "      <td>UN chief urges independent investigation of Ye...</td>\n",
       "      <td>Oct 11, 2016</td>\n",
       "      <td>United Nations,  Secretary-General Ban Ki-moon...</td>\n",
       "    </tr>\n",
       "    <tr>\n",
       "      <th>8</th>\n",
       "      <td>Disability pension: AAP slams Centre\\nEBM News...</td>\n",
       "      <td>Oct 11, 2016</td>\n",
       "      <td>NEW DELHI: AAP on Monday termed as \"shameful\" ...</td>\n",
       "    </tr>\n",
       "    <tr>\n",
       "      <th>9</th>\n",
       "      <td>Curfew in interior areas of Srinagar\\nEBM News...</td>\n",
       "      <td>Oct 11, 2016</td>\n",
       "      <td>Srinagar,  Curfew today remained in force in i...</td>\n",
       "    </tr>\n",
       "  </tbody>\n",
       "</table>\n",
       "</div>"
      ],
      "text/plain": [
       "                                               title          date  \\\n",
       "0  STF, Kolkata nabbed ‘most-wanted’ gun-runners ...  Oct 11, 2016   \n",
       "1  BMW 3-series GT facelift expected price, speci...  Oct 11, 2016   \n",
       "2  Bombay HC slams civic chief after illegal stru...  Oct 11, 2016   \n",
       "3  Gold prices edge down after two sessions as U....  Oct 11, 2016   \n",
       "4  Clinton proposes tax relief for families with ...  Oct 11, 2016   \n",
       "5  Guest faculty to boycott mega meet\\nEBM News E...  Oct 11, 2016   \n",
       "6  Pampore attack: Gunbattle enters second day\\nE...  Oct 11, 2016   \n",
       "7  UN chief urges independent investigation of Ye...  Oct 11, 2016   \n",
       "8  Disability pension: AAP slams Centre\\nEBM News...  Oct 11, 2016   \n",
       "9  Curfew in interior areas of Srinagar\\nEBM News...  Oct 11, 2016   \n",
       "\n",
       "                                                desc  \n",
       "0  A Kerala based inter-state gang members linked...  \n",
       "1  BMW had updated the 3-series sedan earlier in ...  \n",
       "2  MUMBAI: The Bombay high court on Monday slamme...  \n",
       "3  Gold prices edged lower on Tuesday after two s...  \n",
       "4  DES MOINES: Hillary Clinton is pledging more t...  \n",
       "5  NEW DELHI: Chief minister Arvind Kejriwal may ...  \n",
       "6  Srinagar,  The operation to flush-out militant...  \n",
       "7  United Nations,  Secretary-General Ban Ki-moon...  \n",
       "8  NEW DELHI: AAP on Monday termed as \"shameful\" ...  \n",
       "9  Srinagar,  Curfew today remained in force in i...  "
      ]
     },
     "execution_count": 13,
     "metadata": {},
     "output_type": "execute_result"
    }
   ],
   "source": [
    "news"
   ]
  },
  {
   "cell_type": "code",
   "execution_count": null,
   "metadata": {},
   "outputs": [],
   "source": []
  }
 ],
 "metadata": {
  "kernelspec": {
   "display_name": "Python 3",
   "language": "python",
   "name": "python3"
  },
  "language_info": {
   "codemirror_mode": {
    "name": "ipython",
    "version": 3
   },
   "file_extension": ".py",
   "mimetype": "text/x-python",
   "name": "python",
   "nbconvert_exporter": "python",
   "pygments_lexer": "ipython3",
   "version": "3.7.6"
  }
 },
 "nbformat": 4,
 "nbformat_minor": 4
}
