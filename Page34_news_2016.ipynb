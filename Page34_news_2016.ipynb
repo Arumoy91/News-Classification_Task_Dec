{
 "cells": [
  {
   "cell_type": "code",
   "execution_count": 1,
   "metadata": {},
   "outputs": [],
   "source": [
    "import selenium"
   ]
  },
  {
   "cell_type": "code",
   "execution_count": 2,
   "metadata": {},
   "outputs": [],
   "source": [
    "import pandas as pd\n",
    "from selenium import webdriver"
   ]
  },
  {
   "cell_type": "code",
   "execution_count": 3,
   "metadata": {},
   "outputs": [],
   "source": [
    "driver=webdriver.Chrome(\"C:\\chromedriver.exe\")"
   ]
  },
  {
   "cell_type": "code",
   "execution_count": 4,
   "metadata": {},
   "outputs": [],
   "source": [
    "driver.get('https://www.ebmnews.com/2016/page/34/')"
   ]
  },
  {
   "cell_type": "code",
   "execution_count": 5,
   "metadata": {},
   "outputs": [],
   "source": [
    "news_titles=[]\n",
    "date=[]\n",
    "description=[]"
   ]
  },
  {
   "cell_type": "code",
   "execution_count": 6,
   "metadata": {},
   "outputs": [
    {
     "data": {
      "text/plain": [
       "[<selenium.webdriver.remote.webelement.WebElement (session=\"880ccd280f891710748aaee98f462e75\", element=\"c6bed59f-bff7-4349-8eed-35369ab4021d\")>,\n",
       " <selenium.webdriver.remote.webelement.WebElement (session=\"880ccd280f891710748aaee98f462e75\", element=\"e5abd4ea-4ef4-42b0-86f1-bdc413ff0b1c\")>,\n",
       " <selenium.webdriver.remote.webelement.WebElement (session=\"880ccd280f891710748aaee98f462e75\", element=\"2b5b846d-0025-41f4-993a-fb7131a6ffc6\")>,\n",
       " <selenium.webdriver.remote.webelement.WebElement (session=\"880ccd280f891710748aaee98f462e75\", element=\"a75c93e5-ea19-461b-89ce-94ab664b8967\")>,\n",
       " <selenium.webdriver.remote.webelement.WebElement (session=\"880ccd280f891710748aaee98f462e75\", element=\"fde6d044-21b1-48de-b960-86d4c71d0d0f\")>,\n",
       " <selenium.webdriver.remote.webelement.WebElement (session=\"880ccd280f891710748aaee98f462e75\", element=\"53ef528b-07e6-4861-b4b5-1ddbfc30d93e\")>,\n",
       " <selenium.webdriver.remote.webelement.WebElement (session=\"880ccd280f891710748aaee98f462e75\", element=\"115dc78d-3895-4095-aa3e-820e9744140e\")>,\n",
       " <selenium.webdriver.remote.webelement.WebElement (session=\"880ccd280f891710748aaee98f462e75\", element=\"60bedcee-f53e-46ce-b56d-784a5a0e65e6\")>,\n",
       " <selenium.webdriver.remote.webelement.WebElement (session=\"880ccd280f891710748aaee98f462e75\", element=\"cd5c7bf0-ad28-4df0-a861-1b127d603738\")>,\n",
       " <selenium.webdriver.remote.webelement.WebElement (session=\"880ccd280f891710748aaee98f462e75\", element=\"ce46bfd6-5c37-4c6a-a291-22623f6beaab\")>]"
      ]
     },
     "execution_count": 6,
     "metadata": {},
     "output_type": "execute_result"
    }
   ],
   "source": [
    "title_tags=driver.find_elements_by_xpath(\"//div[@class='item-inner clearfix']\")\n",
    "title_tags[0:10]"
   ]
  },
  {
   "cell_type": "code",
   "execution_count": 7,
   "metadata": {},
   "outputs": [
    {
     "data": {
      "text/plain": [
       "['BMW i3 and i8 Garage Italia Crossfade concepts unveiled\\nEBM News English Oct 4, 2016\\nBMW has teamed up with Garage Italia Customs to prepare two CrossFade concepts that display a new exterior colour treatment for…',\n",
       " \"Wayne Rooney warned over tactical discipline\\nEBM News English Oct 4, 2016\\nLONDON: Gareth Southgate has offered a ringing endorsement of Wayne Rooney's suitability for the role of England captain - but…\",\n",
       " \"Sensex climbs 159 pts, RBI policy meet in focus\\nEBM News English Oct 4, 2016\\nMumbai,  The Sensex surged by over 159 points today as interest-sensitive stocks took the centre-stage ahead of RBI's announcement…\",\n",
       " 'Students fret as BU schedule clashes with IPCC exams\\nEBM News English Oct 4, 2016\\nBENGALURU: Thousands of students pursuing B.Com courses at the colleges affiliated to Bangalore University are in a fix as both BU…',\n",
       " 'Volkswagen to localise compact SUV for India\\nEBM News English Oct 4, 2016\\nVolkswagen is looking at localising its Polo-based compact SUV in India. Speaking to Autocar India at the ongoing Paris Motor…',\n",
       " 'New Land Rover Defender begins road testing\\nEBM News English Oct 4, 2016\\nThe new Land Rover Defender is already undergoing testing, according to Jaguar Land Rover chief Dr Ralf Speth, who told Autocar he…',\n",
       " 'Amphetamine worth Rs 45cr seized, 3 arrested in Hyderabad, Bengaluru\\nEBM News English Oct 4, 2016\\nHYDERABAD: The Narcotics Control Bureau (NCB) has seized 231 kg of the banned narcotic drug amphetamine, worth about Rs 45 crore,…',\n",
       " 'New Toyota Fortuner price, specifications and equipment details emerge\\nEBM News English Oct 4, 2016\\nThe Toyota Fortuner is still the leader in its segment. It outsells its newer rivals like the Chevrolet Trailblazer and the…',\n",
       " 'Rupee edges up 7 paise against dollar\\nEBM News English Oct 4, 2016\\nMumbai,  The rupee edged higher by 7 paise to 66.52 against the dollar today on increased selling of the American currency by…',\n",
       " 'India-New Zealand series in trouble after Lodha panel asks banks to stop payment\\nEBM News English Oct 4, 2016\\nThe stand-off between the Lodha committee and Indian Cricket Board (BCCI) is getting murkier day by day. On a day when the…']"
      ]
     },
     "execution_count": 7,
     "metadata": {},
     "output_type": "execute_result"
    }
   ],
   "source": [
    "for i in title_tags:\n",
    "    \n",
    "    title=i.text\n",
    "    news_titles.append(title)\n",
    "news_titles[0:10]"
   ]
  },
  {
   "cell_type": "code",
   "execution_count": 8,
   "metadata": {},
   "outputs": [
    {
     "data": {
      "text/plain": [
       "[<selenium.webdriver.remote.webelement.WebElement (session=\"880ccd280f891710748aaee98f462e75\", element=\"f2e11d2e-bf85-4155-9110-40190883a333\")>,\n",
       " <selenium.webdriver.remote.webelement.WebElement (session=\"880ccd280f891710748aaee98f462e75\", element=\"664851d2-b340-4ac3-9ddd-1ebcb2e2f464\")>,\n",
       " <selenium.webdriver.remote.webelement.WebElement (session=\"880ccd280f891710748aaee98f462e75\", element=\"b96c23a0-b859-46ae-8f4e-efcfeef7dea1\")>,\n",
       " <selenium.webdriver.remote.webelement.WebElement (session=\"880ccd280f891710748aaee98f462e75\", element=\"25a4aad6-71b8-4b8c-8695-adb32ef81f14\")>,\n",
       " <selenium.webdriver.remote.webelement.WebElement (session=\"880ccd280f891710748aaee98f462e75\", element=\"4546a3c9-5753-4b60-b1a5-32cf463f43b2\")>,\n",
       " <selenium.webdriver.remote.webelement.WebElement (session=\"880ccd280f891710748aaee98f462e75\", element=\"1b238acd-915d-4882-8f69-6c9a076fba0c\")>,\n",
       " <selenium.webdriver.remote.webelement.WebElement (session=\"880ccd280f891710748aaee98f462e75\", element=\"cd38ac02-b3b4-4eb2-ae8b-9a787463278e\")>,\n",
       " <selenium.webdriver.remote.webelement.WebElement (session=\"880ccd280f891710748aaee98f462e75\", element=\"1b78cfc1-0182-4c3d-88ca-bba0895eca9e\")>,\n",
       " <selenium.webdriver.remote.webelement.WebElement (session=\"880ccd280f891710748aaee98f462e75\", element=\"f41e1cdb-18e5-44a7-a3a4-6bd273e9fe22\")>,\n",
       " <selenium.webdriver.remote.webelement.WebElement (session=\"880ccd280f891710748aaee98f462e75\", element=\"29626097-7871-4164-a336-7f03b5bcc498\")>]"
      ]
     },
     "execution_count": 8,
     "metadata": {},
     "output_type": "execute_result"
    }
   ],
   "source": [
    "date_tags=driver.find_elements_by_xpath(\"//span[@class='time']\")\n",
    "date_tags[0:10]"
   ]
  },
  {
   "cell_type": "code",
   "execution_count": 9,
   "metadata": {},
   "outputs": [
    {
     "data": {
      "text/plain": [
       "['Oct 4, 2016',\n",
       " 'Oct 4, 2016',\n",
       " 'Oct 4, 2016',\n",
       " 'Oct 4, 2016',\n",
       " 'Oct 4, 2016',\n",
       " 'Oct 4, 2016',\n",
       " 'Oct 4, 2016',\n",
       " 'Oct 4, 2016',\n",
       " 'Oct 4, 2016',\n",
       " 'Oct 4, 2016']"
      ]
     },
     "execution_count": 9,
     "metadata": {},
     "output_type": "execute_result"
    }
   ],
   "source": [
    "for i in date_tags:\n",
    "    \n",
    "    title=i.text\n",
    "    date.append(title)\n",
    "date[0:10]"
   ]
  },
  {
   "cell_type": "code",
   "execution_count": 10,
   "metadata": {},
   "outputs": [
    {
     "data": {
      "text/plain": [
       "[<selenium.webdriver.remote.webelement.WebElement (session=\"880ccd280f891710748aaee98f462e75\", element=\"70e024a5-3954-48a6-a3d0-7f5b9531937f\")>,\n",
       " <selenium.webdriver.remote.webelement.WebElement (session=\"880ccd280f891710748aaee98f462e75\", element=\"cdfe0ed8-dd29-4d78-b8f9-0bb2edeccf2a\")>,\n",
       " <selenium.webdriver.remote.webelement.WebElement (session=\"880ccd280f891710748aaee98f462e75\", element=\"9d058543-6d57-444c-814d-2464d4b7a1dc\")>,\n",
       " <selenium.webdriver.remote.webelement.WebElement (session=\"880ccd280f891710748aaee98f462e75\", element=\"d975099e-c6e1-49be-aacf-9359dce87843\")>,\n",
       " <selenium.webdriver.remote.webelement.WebElement (session=\"880ccd280f891710748aaee98f462e75\", element=\"811f52e9-645a-4011-827b-70c8029aa81b\")>,\n",
       " <selenium.webdriver.remote.webelement.WebElement (session=\"880ccd280f891710748aaee98f462e75\", element=\"97a192bd-f0ac-4137-8745-a0e14a325293\")>,\n",
       " <selenium.webdriver.remote.webelement.WebElement (session=\"880ccd280f891710748aaee98f462e75\", element=\"067b7bfb-d5d4-4e32-800a-30095d1b8d27\")>,\n",
       " <selenium.webdriver.remote.webelement.WebElement (session=\"880ccd280f891710748aaee98f462e75\", element=\"55000918-6063-4120-a397-8dd1985567df\")>,\n",
       " <selenium.webdriver.remote.webelement.WebElement (session=\"880ccd280f891710748aaee98f462e75\", element=\"4dbdf437-62fb-4e33-bb43-9620a6cd2bdd\")>,\n",
       " <selenium.webdriver.remote.webelement.WebElement (session=\"880ccd280f891710748aaee98f462e75\", element=\"45c944b9-948f-4bef-87dd-af6c5cc9ab2b\")>]"
      ]
     },
     "execution_count": 10,
     "metadata": {},
     "output_type": "execute_result"
    }
   ],
   "source": [
    "desc_tags=driver.find_elements_by_xpath(\"//div[@class='post-summary']\")\n",
    "desc_tags[0:10]"
   ]
  },
  {
   "cell_type": "code",
   "execution_count": 11,
   "metadata": {},
   "outputs": [
    {
     "data": {
      "text/plain": [
       "['BMW has teamed up with Garage Italia Customs to prepare two CrossFade concepts that display a new exterior colour treatment for…',\n",
       " \"LONDON: Gareth Southgate has offered a ringing endorsement of Wayne Rooney's suitability for the role of England captain - but…\",\n",
       " \"Mumbai,  The Sensex surged by over 159 points today as interest-sensitive stocks took the centre-stage ahead of RBI's announcement…\",\n",
       " 'BENGALURU: Thousands of students pursuing B.Com courses at the colleges affiliated to Bangalore University are in a fix as both BU…',\n",
       " 'Volkswagen is looking at localising its Polo-based compact SUV in India. Speaking to Autocar India at the ongoing Paris Motor…',\n",
       " 'The new Land Rover Defender is already undergoing testing, according to Jaguar Land Rover chief Dr Ralf Speth, who told Autocar he…',\n",
       " 'HYDERABAD: The Narcotics Control Bureau (NCB) has seized 231 kg of the banned narcotic drug amphetamine, worth about Rs 45 crore,…',\n",
       " 'The Toyota Fortuner is still the leader in its segment. It outsells its newer rivals like the Chevrolet Trailblazer and the…',\n",
       " 'Mumbai,  The rupee edged higher by 7 paise to 66.52 against the dollar today on increased selling of the American currency by…',\n",
       " 'The stand-off between the Lodha committee and Indian Cricket Board (BCCI) is getting murkier day by day. On a day when the…']"
      ]
     },
     "execution_count": 11,
     "metadata": {},
     "output_type": "execute_result"
    }
   ],
   "source": [
    "for i in desc_tags:\n",
    "    \n",
    "    title=i.text\n",
    "    description.append(title)\n",
    "description[0:10]"
   ]
  },
  {
   "cell_type": "code",
   "execution_count": 12,
   "metadata": {},
   "outputs": [
    {
     "name": "stdout",
     "output_type": "stream",
     "text": [
      "10 10 10\n"
     ]
    }
   ],
   "source": [
    "print(len(news_titles),len(date),len(description))"
   ]
  },
  {
   "cell_type": "code",
   "execution_count": 13,
   "metadata": {},
   "outputs": [],
   "source": [
    "import pandas as pd\n",
    "news=pd.DataFrame({})\n",
    "news['title']=news_titles[0:10]\n",
    "news['date']=date[0:10]\n",
    "news['desc']=description[0:10]"
   ]
  },
  {
   "cell_type": "code",
   "execution_count": 14,
   "metadata": {},
   "outputs": [
    {
     "data": {
      "text/html": [
       "<div>\n",
       "<style scoped>\n",
       "    .dataframe tbody tr th:only-of-type {\n",
       "        vertical-align: middle;\n",
       "    }\n",
       "\n",
       "    .dataframe tbody tr th {\n",
       "        vertical-align: top;\n",
       "    }\n",
       "\n",
       "    .dataframe thead th {\n",
       "        text-align: right;\n",
       "    }\n",
       "</style>\n",
       "<table border=\"1\" class=\"dataframe\">\n",
       "  <thead>\n",
       "    <tr style=\"text-align: right;\">\n",
       "      <th></th>\n",
       "      <th>title</th>\n",
       "      <th>date</th>\n",
       "      <th>desc</th>\n",
       "    </tr>\n",
       "  </thead>\n",
       "  <tbody>\n",
       "    <tr>\n",
       "      <th>0</th>\n",
       "      <td>BMW i3 and i8 Garage Italia Crossfade concepts...</td>\n",
       "      <td>Oct 4, 2016</td>\n",
       "      <td>BMW has teamed up with Garage Italia Customs t...</td>\n",
       "    </tr>\n",
       "    <tr>\n",
       "      <th>1</th>\n",
       "      <td>Wayne Rooney warned over tactical discipline\\n...</td>\n",
       "      <td>Oct 4, 2016</td>\n",
       "      <td>LONDON: Gareth Southgate has offered a ringing...</td>\n",
       "    </tr>\n",
       "    <tr>\n",
       "      <th>2</th>\n",
       "      <td>Sensex climbs 159 pts, RBI policy meet in focu...</td>\n",
       "      <td>Oct 4, 2016</td>\n",
       "      <td>Mumbai,  The Sensex surged by over 159 points ...</td>\n",
       "    </tr>\n",
       "    <tr>\n",
       "      <th>3</th>\n",
       "      <td>Students fret as BU schedule clashes with IPCC...</td>\n",
       "      <td>Oct 4, 2016</td>\n",
       "      <td>BENGALURU: Thousands of students pursuing B.Co...</td>\n",
       "    </tr>\n",
       "    <tr>\n",
       "      <th>4</th>\n",
       "      <td>Volkswagen to localise compact SUV for India\\n...</td>\n",
       "      <td>Oct 4, 2016</td>\n",
       "      <td>Volkswagen is looking at localising its Polo-b...</td>\n",
       "    </tr>\n",
       "    <tr>\n",
       "      <th>5</th>\n",
       "      <td>New Land Rover Defender begins road testing\\nE...</td>\n",
       "      <td>Oct 4, 2016</td>\n",
       "      <td>The new Land Rover Defender is already undergo...</td>\n",
       "    </tr>\n",
       "    <tr>\n",
       "      <th>6</th>\n",
       "      <td>Amphetamine worth Rs 45cr seized, 3 arrested i...</td>\n",
       "      <td>Oct 4, 2016</td>\n",
       "      <td>HYDERABAD: The Narcotics Control Bureau (NCB) ...</td>\n",
       "    </tr>\n",
       "    <tr>\n",
       "      <th>7</th>\n",
       "      <td>New Toyota Fortuner price, specifications and ...</td>\n",
       "      <td>Oct 4, 2016</td>\n",
       "      <td>The Toyota Fortuner is still the leader in its...</td>\n",
       "    </tr>\n",
       "    <tr>\n",
       "      <th>8</th>\n",
       "      <td>Rupee edges up 7 paise against dollar\\nEBM New...</td>\n",
       "      <td>Oct 4, 2016</td>\n",
       "      <td>Mumbai,  The rupee edged higher by 7 paise to ...</td>\n",
       "    </tr>\n",
       "    <tr>\n",
       "      <th>9</th>\n",
       "      <td>India-New Zealand series in trouble after Lodh...</td>\n",
       "      <td>Oct 4, 2016</td>\n",
       "      <td>The stand-off between the Lodha committee and ...</td>\n",
       "    </tr>\n",
       "  </tbody>\n",
       "</table>\n",
       "</div>"
      ],
      "text/plain": [
       "                                               title         date  \\\n",
       "0  BMW i3 and i8 Garage Italia Crossfade concepts...  Oct 4, 2016   \n",
       "1  Wayne Rooney warned over tactical discipline\\n...  Oct 4, 2016   \n",
       "2  Sensex climbs 159 pts, RBI policy meet in focu...  Oct 4, 2016   \n",
       "3  Students fret as BU schedule clashes with IPCC...  Oct 4, 2016   \n",
       "4  Volkswagen to localise compact SUV for India\\n...  Oct 4, 2016   \n",
       "5  New Land Rover Defender begins road testing\\nE...  Oct 4, 2016   \n",
       "6  Amphetamine worth Rs 45cr seized, 3 arrested i...  Oct 4, 2016   \n",
       "7  New Toyota Fortuner price, specifications and ...  Oct 4, 2016   \n",
       "8  Rupee edges up 7 paise against dollar\\nEBM New...  Oct 4, 2016   \n",
       "9  India-New Zealand series in trouble after Lodh...  Oct 4, 2016   \n",
       "\n",
       "                                                desc  \n",
       "0  BMW has teamed up with Garage Italia Customs t...  \n",
       "1  LONDON: Gareth Southgate has offered a ringing...  \n",
       "2  Mumbai,  The Sensex surged by over 159 points ...  \n",
       "3  BENGALURU: Thousands of students pursuing B.Co...  \n",
       "4  Volkswagen is looking at localising its Polo-b...  \n",
       "5  The new Land Rover Defender is already undergo...  \n",
       "6  HYDERABAD: The Narcotics Control Bureau (NCB) ...  \n",
       "7  The Toyota Fortuner is still the leader in its...  \n",
       "8  Mumbai,  The rupee edged higher by 7 paise to ...  \n",
       "9  The stand-off between the Lodha committee and ...  "
      ]
     },
     "execution_count": 14,
     "metadata": {},
     "output_type": "execute_result"
    }
   ],
   "source": [
    "news"
   ]
  },
  {
   "cell_type": "code",
   "execution_count": null,
   "metadata": {},
   "outputs": [],
   "source": []
  }
 ],
 "metadata": {
  "kernelspec": {
   "display_name": "Python 3",
   "language": "python",
   "name": "python3"
  },
  "language_info": {
   "codemirror_mode": {
    "name": "ipython",
    "version": 3
   },
   "file_extension": ".py",
   "mimetype": "text/x-python",
   "name": "python",
   "nbconvert_exporter": "python",
   "pygments_lexer": "ipython3",
   "version": "3.7.6"
  }
 },
 "nbformat": 4,
 "nbformat_minor": 4
}
