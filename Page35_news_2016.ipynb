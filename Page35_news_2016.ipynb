{
 "cells": [
  {
   "cell_type": "code",
   "execution_count": 1,
   "metadata": {},
   "outputs": [],
   "source": [
    "import selenium"
   ]
  },
  {
   "cell_type": "code",
   "execution_count": 2,
   "metadata": {},
   "outputs": [],
   "source": [
    "import pandas as pd\n",
    "from selenium import webdriver"
   ]
  },
  {
   "cell_type": "code",
   "execution_count": 3,
   "metadata": {},
   "outputs": [],
   "source": [
    "driver=webdriver.Chrome(\"C:\\chromedriver.exe\")"
   ]
  },
  {
   "cell_type": "code",
   "execution_count": 4,
   "metadata": {},
   "outputs": [],
   "source": [
    "driver.get('https://www.ebmnews.com/2016/page/35/')"
   ]
  },
  {
   "cell_type": "code",
   "execution_count": 5,
   "metadata": {},
   "outputs": [],
   "source": [
    "news_titles=[]\n",
    "date=[]\n",
    "description=[]\n"
   ]
  },
  {
   "cell_type": "code",
   "execution_count": 6,
   "metadata": {},
   "outputs": [
    {
     "data": {
      "text/plain": [
       "[<selenium.webdriver.remote.webelement.WebElement (session=\"16cd05c922fd86feace385e0016bbc16\", element=\"a93756c4-3cf5-4359-9f04-7c9114adbc15\")>,\n",
       " <selenium.webdriver.remote.webelement.WebElement (session=\"16cd05c922fd86feace385e0016bbc16\", element=\"e79ae757-47c5-4b90-ad19-a148ec2b2ed7\")>,\n",
       " <selenium.webdriver.remote.webelement.WebElement (session=\"16cd05c922fd86feace385e0016bbc16\", element=\"8ada77f2-1423-4ee4-aa5a-343ee360ba85\")>,\n",
       " <selenium.webdriver.remote.webelement.WebElement (session=\"16cd05c922fd86feace385e0016bbc16\", element=\"ebb7a7a1-c7dc-48ec-8111-fdc1925b75c5\")>,\n",
       " <selenium.webdriver.remote.webelement.WebElement (session=\"16cd05c922fd86feace385e0016bbc16\", element=\"ad5fab0f-43b5-4bef-8eb7-3d81a27be842\")>,\n",
       " <selenium.webdriver.remote.webelement.WebElement (session=\"16cd05c922fd86feace385e0016bbc16\", element=\"6f459cb5-9200-430c-8d04-640625e89a0f\")>,\n",
       " <selenium.webdriver.remote.webelement.WebElement (session=\"16cd05c922fd86feace385e0016bbc16\", element=\"27d70701-2a4f-4cad-9d16-d4b075ad2f37\")>,\n",
       " <selenium.webdriver.remote.webelement.WebElement (session=\"16cd05c922fd86feace385e0016bbc16\", element=\"a80ad644-a6c0-4c2f-83e7-79e42269111e\")>,\n",
       " <selenium.webdriver.remote.webelement.WebElement (session=\"16cd05c922fd86feace385e0016bbc16\", element=\"c0ca8b8f-cc07-4245-a0fd-ac006fd5775e\")>,\n",
       " <selenium.webdriver.remote.webelement.WebElement (session=\"16cd05c922fd86feace385e0016bbc16\", element=\"4ad94776-189e-437a-8fc3-602a2ae33682\")>]"
      ]
     },
     "execution_count": 6,
     "metadata": {},
     "output_type": "execute_result"
    }
   ],
   "source": [
    "title_tags=driver.find_elements_by_xpath(\"//div[@class='item-inner clearfix']\")\n",
    "title_tags[0:10]"
   ]
  },
  {
   "cell_type": "code",
   "execution_count": 7,
   "metadata": {},
   "outputs": [
    {
     "data": {
      "text/plain": [
       "['RBI Governor Urjit Patel to announce his maiden monetary policy review today\\nEBM News English Oct 4, 2016\\nNEW DELHI: The Reserve Bank of India (RBI) will announce its monetary policy review today. It will be announced in the afternoon…',\n",
       " 'Life of city’s homeless people filled with hard work and uncertainity\\nEBM News English Oct 4, 2016\\nHYDERABAD: It is believed that people living on the roadside and at bus stops or railway stations just laze around, avoid work or…',\n",
       " 'Now, you can grab a bite at IRCTC food joints in four stations in city\\nEBM News English Oct 4, 2016\\nCHENNAI: On a busy day to office you may soon be able to grab a bite or take a parcel on the way as food joints are planned in…',\n",
       " 'London’s loss would not be Europe’s gain\\nEBM News English Oct 4, 2016\\nIn just over 100 days since the referendum there have been plenty of assumptions by economists and international competitors about…',\n",
       " 'Syrian crisis: US suspends diplomatic contacts with Russia\\nEBM News English Oct 4, 2016\\nWASHINGTON: In a sharp deterioration of relations, the U.S. on Monday suspended diplomatic contacts with Russia over Syria, while…',\n",
       " 'No affidavit, SC tells Jain to pay 25,000\\nEBM News English Oct 4, 2016\\nNEW DELHI: Coming down hard on Delhi health minister Satyendar Jain, the Supreme Court imposed a cost of Rs 25,000 on him on…',\n",
       " 'Delhi temperature rose faster than most cities in last 40 years\\nEBM News English Oct 4, 2016\\nPUNE: Delhi is among 10 major cities in the country , which includes all big metros, where the annual mean temperaturehas risen…',\n",
       " 'SC gives 25-yr jail to Vikas, Vishal in Nitish Katara honour killing case\\nEBM News English Oct 4, 2016\\nNEW DELHI: The Supreme Court on Monday sentenced Vikas Yadav and his cousin Vishal Yadav to undergo 25-year jail term each for…',\n",
       " 'Karnataka hints at Cauvery release fearing SC wrath\\nEBM News English Oct 4, 2016\\nNEW DELHI: With pressure mounting from the Supreme Court, Karnataka finally decided to release water for farmers, after ensuring…',\n",
       " \"Bajaj Qute gets single-star rating in Euro NCAP tests\\nEBM News English Apr 11, 2016\\nBajaj Auto's Qute quadricycle scored a rating of one star in the recent round of crash tests conducted by Euro NCAP. The tests…\"]"
      ]
     },
     "execution_count": 7,
     "metadata": {},
     "output_type": "execute_result"
    }
   ],
   "source": [
    "for i in title_tags:\n",
    "    \n",
    "    title=i.text\n",
    "    news_titles.append(title)\n",
    "news_titles[0:10]"
   ]
  },
  {
   "cell_type": "code",
   "execution_count": 8,
   "metadata": {},
   "outputs": [
    {
     "data": {
      "text/plain": [
       "[<selenium.webdriver.remote.webelement.WebElement (session=\"16cd05c922fd86feace385e0016bbc16\", element=\"4a0fbda6-08e9-4a48-9e00-92e5b201ad1b\")>,\n",
       " <selenium.webdriver.remote.webelement.WebElement (session=\"16cd05c922fd86feace385e0016bbc16\", element=\"228a0d40-0752-4667-9d69-517a5c28e0c8\")>,\n",
       " <selenium.webdriver.remote.webelement.WebElement (session=\"16cd05c922fd86feace385e0016bbc16\", element=\"f24dd597-c318-4d34-9f5e-07307d38d064\")>,\n",
       " <selenium.webdriver.remote.webelement.WebElement (session=\"16cd05c922fd86feace385e0016bbc16\", element=\"e13509c5-93f4-4e57-be89-6bd0f37e6951\")>,\n",
       " <selenium.webdriver.remote.webelement.WebElement (session=\"16cd05c922fd86feace385e0016bbc16\", element=\"c13c3c06-12a1-4c25-b65d-69f483b6dbd4\")>,\n",
       " <selenium.webdriver.remote.webelement.WebElement (session=\"16cd05c922fd86feace385e0016bbc16\", element=\"b33324b6-425d-429e-af0d-9383b9aba7a3\")>,\n",
       " <selenium.webdriver.remote.webelement.WebElement (session=\"16cd05c922fd86feace385e0016bbc16\", element=\"f160b3de-3545-4a4b-b540-1bcc905bd738\")>,\n",
       " <selenium.webdriver.remote.webelement.WebElement (session=\"16cd05c922fd86feace385e0016bbc16\", element=\"41816f23-9e4e-44c6-a8e3-0482b11db1c1\")>,\n",
       " <selenium.webdriver.remote.webelement.WebElement (session=\"16cd05c922fd86feace385e0016bbc16\", element=\"c472d119-747c-4d40-8fab-60bcec2fd089\")>,\n",
       " <selenium.webdriver.remote.webelement.WebElement (session=\"16cd05c922fd86feace385e0016bbc16\", element=\"c36ea0de-83cc-4b54-a801-c9aedd5cee3d\")>]"
      ]
     },
     "execution_count": 8,
     "metadata": {},
     "output_type": "execute_result"
    }
   ],
   "source": [
    "date_tags=driver.find_elements_by_xpath(\"//span[@class='time']\")\n",
    "date_tags[0:10]"
   ]
  },
  {
   "cell_type": "code",
   "execution_count": 9,
   "metadata": {},
   "outputs": [
    {
     "data": {
      "text/plain": [
       "['Oct 4, 2016',\n",
       " 'Oct 4, 2016',\n",
       " 'Oct 4, 2016',\n",
       " 'Oct 4, 2016',\n",
       " 'Oct 4, 2016',\n",
       " 'Oct 4, 2016',\n",
       " 'Oct 4, 2016',\n",
       " 'Oct 4, 2016',\n",
       " 'Oct 4, 2016',\n",
       " 'Apr 11, 2016']"
      ]
     },
     "execution_count": 9,
     "metadata": {},
     "output_type": "execute_result"
    }
   ],
   "source": [
    "for i in date_tags:\n",
    "    \n",
    "    title=i.text\n",
    "    date.append(title)\n",
    "date[0:10]"
   ]
  },
  {
   "cell_type": "code",
   "execution_count": 10,
   "metadata": {},
   "outputs": [
    {
     "data": {
      "text/plain": [
       "[<selenium.webdriver.remote.webelement.WebElement (session=\"16cd05c922fd86feace385e0016bbc16\", element=\"82d4547a-b2f5-440e-a532-b6d27976ca74\")>,\n",
       " <selenium.webdriver.remote.webelement.WebElement (session=\"16cd05c922fd86feace385e0016bbc16\", element=\"9bc33b18-8591-4554-83e8-d973cdaa0d70\")>,\n",
       " <selenium.webdriver.remote.webelement.WebElement (session=\"16cd05c922fd86feace385e0016bbc16\", element=\"e7db3a53-7f2a-4166-8182-0f1b644bef11\")>,\n",
       " <selenium.webdriver.remote.webelement.WebElement (session=\"16cd05c922fd86feace385e0016bbc16\", element=\"a68b2421-e94b-4fac-a01a-5ec0d88069ca\")>,\n",
       " <selenium.webdriver.remote.webelement.WebElement (session=\"16cd05c922fd86feace385e0016bbc16\", element=\"335adaa9-3362-4438-820b-fcfa4bc6f75c\")>,\n",
       " <selenium.webdriver.remote.webelement.WebElement (session=\"16cd05c922fd86feace385e0016bbc16\", element=\"b974b10b-7432-4f87-95c8-283182f84e68\")>,\n",
       " <selenium.webdriver.remote.webelement.WebElement (session=\"16cd05c922fd86feace385e0016bbc16\", element=\"de934bd3-807d-4c48-9476-45d8fe9c8d46\")>,\n",
       " <selenium.webdriver.remote.webelement.WebElement (session=\"16cd05c922fd86feace385e0016bbc16\", element=\"ba8c1968-e87c-4d1b-9d03-d4ad36cf864d\")>,\n",
       " <selenium.webdriver.remote.webelement.WebElement (session=\"16cd05c922fd86feace385e0016bbc16\", element=\"6b6a6649-b453-487b-a33d-abe8624e89c7\")>,\n",
       " <selenium.webdriver.remote.webelement.WebElement (session=\"16cd05c922fd86feace385e0016bbc16\", element=\"f6f04262-4a14-4f7b-b0d5-50afe83052b9\")>]"
      ]
     },
     "execution_count": 10,
     "metadata": {},
     "output_type": "execute_result"
    }
   ],
   "source": [
    "desc_tags=driver.find_elements_by_xpath(\"//div[@class='post-summary']\")\n",
    "desc_tags[0:10]"
   ]
  },
  {
   "cell_type": "code",
   "execution_count": 11,
   "metadata": {},
   "outputs": [
    {
     "data": {
      "text/plain": [
       "['NEW DELHI: The Reserve Bank of India (RBI) will announce its monetary policy review today. It will be announced in the afternoon…',\n",
       " 'HYDERABAD: It is believed that people living on the roadside and at bus stops or railway stations just laze around, avoid work or…',\n",
       " 'CHENNAI: On a busy day to office you may soon be able to grab a bite or take a parcel on the way as food joints are planned in…',\n",
       " 'In just over 100 days since the referendum there have been plenty of assumptions by economists and international competitors about…',\n",
       " 'WASHINGTON: In a sharp deterioration of relations, the U.S. on Monday suspended diplomatic contacts with Russia over Syria, while…',\n",
       " 'NEW DELHI: Coming down hard on Delhi health minister Satyendar Jain, the Supreme Court imposed a cost of Rs 25,000 on him on…',\n",
       " 'PUNE: Delhi is among 10 major cities in the country , which includes all big metros, where the annual mean temperaturehas risen…',\n",
       " 'NEW DELHI: The Supreme Court on Monday sentenced Vikas Yadav and his cousin Vishal Yadav to undergo 25-year jail term each for…',\n",
       " 'NEW DELHI: With pressure mounting from the Supreme Court, Karnataka finally decided to release water for farmers, after ensuring…',\n",
       " \"Bajaj Auto's Qute quadricycle scored a rating of one star in the recent round of crash tests conducted by Euro NCAP. The tests…\"]"
      ]
     },
     "execution_count": 11,
     "metadata": {},
     "output_type": "execute_result"
    }
   ],
   "source": [
    "for i in desc_tags:\n",
    "    \n",
    "    title=i.text\n",
    "    description.append(title)\n",
    "description[0:10]"
   ]
  },
  {
   "cell_type": "code",
   "execution_count": 13,
   "metadata": {},
   "outputs": [
    {
     "name": "stdout",
     "output_type": "stream",
     "text": [
      "10 10 10\n"
     ]
    }
   ],
   "source": [
    "print(len(news_titles),len(date),len(description))"
   ]
  },
  {
   "cell_type": "code",
   "execution_count": 14,
   "metadata": {},
   "outputs": [],
   "source": [
    "import pandas as pd\n",
    "news=pd.DataFrame({})\n",
    "news['title']=news_titles[0:10]\n",
    "news['date']=date[0:10]\n",
    "news['desc']=description[0:10]"
   ]
  },
  {
   "cell_type": "code",
   "execution_count": 15,
   "metadata": {},
   "outputs": [
    {
     "data": {
      "text/html": [
       "<div>\n",
       "<style scoped>\n",
       "    .dataframe tbody tr th:only-of-type {\n",
       "        vertical-align: middle;\n",
       "    }\n",
       "\n",
       "    .dataframe tbody tr th {\n",
       "        vertical-align: top;\n",
       "    }\n",
       "\n",
       "    .dataframe thead th {\n",
       "        text-align: right;\n",
       "    }\n",
       "</style>\n",
       "<table border=\"1\" class=\"dataframe\">\n",
       "  <thead>\n",
       "    <tr style=\"text-align: right;\">\n",
       "      <th></th>\n",
       "      <th>title</th>\n",
       "      <th>date</th>\n",
       "      <th>desc</th>\n",
       "    </tr>\n",
       "  </thead>\n",
       "  <tbody>\n",
       "    <tr>\n",
       "      <th>0</th>\n",
       "      <td>RBI Governor Urjit Patel to announce his maide...</td>\n",
       "      <td>Oct 4, 2016</td>\n",
       "      <td>NEW DELHI: The Reserve Bank of India (RBI) wil...</td>\n",
       "    </tr>\n",
       "    <tr>\n",
       "      <th>1</th>\n",
       "      <td>Life of city’s homeless people filled with har...</td>\n",
       "      <td>Oct 4, 2016</td>\n",
       "      <td>HYDERABAD: It is believed that people living o...</td>\n",
       "    </tr>\n",
       "    <tr>\n",
       "      <th>2</th>\n",
       "      <td>Now, you can grab a bite at IRCTC food joints ...</td>\n",
       "      <td>Oct 4, 2016</td>\n",
       "      <td>CHENNAI: On a busy day to office you may soon ...</td>\n",
       "    </tr>\n",
       "    <tr>\n",
       "      <th>3</th>\n",
       "      <td>London’s loss would not be Europe’s gain\\nEBM ...</td>\n",
       "      <td>Oct 4, 2016</td>\n",
       "      <td>In just over 100 days since the referendum the...</td>\n",
       "    </tr>\n",
       "    <tr>\n",
       "      <th>4</th>\n",
       "      <td>Syrian crisis: US suspends diplomatic contacts...</td>\n",
       "      <td>Oct 4, 2016</td>\n",
       "      <td>WASHINGTON: In a sharp deterioration of relati...</td>\n",
       "    </tr>\n",
       "    <tr>\n",
       "      <th>5</th>\n",
       "      <td>No affidavit, SC tells Jain to pay 25,000\\nEBM...</td>\n",
       "      <td>Oct 4, 2016</td>\n",
       "      <td>NEW DELHI: Coming down hard on Delhi health mi...</td>\n",
       "    </tr>\n",
       "    <tr>\n",
       "      <th>6</th>\n",
       "      <td>Delhi temperature rose faster than most cities...</td>\n",
       "      <td>Oct 4, 2016</td>\n",
       "      <td>PUNE: Delhi is among 10 major cities in the co...</td>\n",
       "    </tr>\n",
       "    <tr>\n",
       "      <th>7</th>\n",
       "      <td>SC gives 25-yr jail to Vikas, Vishal in Nitish...</td>\n",
       "      <td>Oct 4, 2016</td>\n",
       "      <td>NEW DELHI: The Supreme Court on Monday sentenc...</td>\n",
       "    </tr>\n",
       "    <tr>\n",
       "      <th>8</th>\n",
       "      <td>Karnataka hints at Cauvery release fearing SC ...</td>\n",
       "      <td>Oct 4, 2016</td>\n",
       "      <td>NEW DELHI: With pressure mounting from the Sup...</td>\n",
       "    </tr>\n",
       "    <tr>\n",
       "      <th>9</th>\n",
       "      <td>Bajaj Qute gets single-star rating in Euro NCA...</td>\n",
       "      <td>Apr 11, 2016</td>\n",
       "      <td>Bajaj Auto's Qute quadricycle scored a rating ...</td>\n",
       "    </tr>\n",
       "  </tbody>\n",
       "</table>\n",
       "</div>"
      ],
      "text/plain": [
       "                                               title          date  \\\n",
       "0  RBI Governor Urjit Patel to announce his maide...   Oct 4, 2016   \n",
       "1  Life of city’s homeless people filled with har...   Oct 4, 2016   \n",
       "2  Now, you can grab a bite at IRCTC food joints ...   Oct 4, 2016   \n",
       "3  London’s loss would not be Europe’s gain\\nEBM ...   Oct 4, 2016   \n",
       "4  Syrian crisis: US suspends diplomatic contacts...   Oct 4, 2016   \n",
       "5  No affidavit, SC tells Jain to pay 25,000\\nEBM...   Oct 4, 2016   \n",
       "6  Delhi temperature rose faster than most cities...   Oct 4, 2016   \n",
       "7  SC gives 25-yr jail to Vikas, Vishal in Nitish...   Oct 4, 2016   \n",
       "8  Karnataka hints at Cauvery release fearing SC ...   Oct 4, 2016   \n",
       "9  Bajaj Qute gets single-star rating in Euro NCA...  Apr 11, 2016   \n",
       "\n",
       "                                                desc  \n",
       "0  NEW DELHI: The Reserve Bank of India (RBI) wil...  \n",
       "1  HYDERABAD: It is believed that people living o...  \n",
       "2  CHENNAI: On a busy day to office you may soon ...  \n",
       "3  In just over 100 days since the referendum the...  \n",
       "4  WASHINGTON: In a sharp deterioration of relati...  \n",
       "5  NEW DELHI: Coming down hard on Delhi health mi...  \n",
       "6  PUNE: Delhi is among 10 major cities in the co...  \n",
       "7  NEW DELHI: The Supreme Court on Monday sentenc...  \n",
       "8  NEW DELHI: With pressure mounting from the Sup...  \n",
       "9  Bajaj Auto's Qute quadricycle scored a rating ...  "
      ]
     },
     "execution_count": 15,
     "metadata": {},
     "output_type": "execute_result"
    }
   ],
   "source": [
    "news"
   ]
  },
  {
   "cell_type": "code",
   "execution_count": null,
   "metadata": {},
   "outputs": [],
   "source": []
  }
 ],
 "metadata": {
  "kernelspec": {
   "display_name": "Python 3",
   "language": "python",
   "name": "python3"
  },
  "language_info": {
   "codemirror_mode": {
    "name": "ipython",
    "version": 3
   },
   "file_extension": ".py",
   "mimetype": "text/x-python",
   "name": "python",
   "nbconvert_exporter": "python",
   "pygments_lexer": "ipython3",
   "version": "3.7.6"
  }
 },
 "nbformat": 4,
 "nbformat_minor": 4
}
