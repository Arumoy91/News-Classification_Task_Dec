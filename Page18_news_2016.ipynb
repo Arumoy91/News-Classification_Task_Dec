{
 "cells": [
  {
   "cell_type": "code",
   "execution_count": 1,
   "metadata": {},
   "outputs": [],
   "source": [
    "import selenium\n",
    "import pandas as pd\n",
    "from selenium import webdriver"
   ]
  },
  {
   "cell_type": "code",
   "execution_count": 2,
   "metadata": {},
   "outputs": [],
   "source": [
    "driver=webdriver.Chrome(\"C:\\chromedriver.exe\")"
   ]
  },
  {
   "cell_type": "code",
   "execution_count": 3,
   "metadata": {},
   "outputs": [],
   "source": [
    "driver.get('https://www.ebmnews.com/2016/page/18/')"
   ]
  },
  {
   "cell_type": "code",
   "execution_count": 4,
   "metadata": {},
   "outputs": [],
   "source": [
    "news_titles=[]\n",
    "date=[]\n",
    "description=[]"
   ]
  },
  {
   "cell_type": "code",
   "execution_count": 5,
   "metadata": {},
   "outputs": [
    {
     "data": {
      "text/plain": [
       "[<selenium.webdriver.remote.webelement.WebElement (session=\"6258c28754db564ea01601ada5341f98\", element=\"2ca24fd1-b4b6-40c7-b5b3-408d05d7b04f\")>,\n",
       " <selenium.webdriver.remote.webelement.WebElement (session=\"6258c28754db564ea01601ada5341f98\", element=\"e42a5155-c0d8-4c95-aa2a-0f77a039f6c1\")>,\n",
       " <selenium.webdriver.remote.webelement.WebElement (session=\"6258c28754db564ea01601ada5341f98\", element=\"291f1c92-eff1-4d4c-9a26-722e3cb89d92\")>,\n",
       " <selenium.webdriver.remote.webelement.WebElement (session=\"6258c28754db564ea01601ada5341f98\", element=\"028ab9aa-e8a2-4a79-985e-2e5c99d4c789\")>,\n",
       " <selenium.webdriver.remote.webelement.WebElement (session=\"6258c28754db564ea01601ada5341f98\", element=\"4b23cc5d-52ac-47c5-803c-068be3177928\")>,\n",
       " <selenium.webdriver.remote.webelement.WebElement (session=\"6258c28754db564ea01601ada5341f98\", element=\"7e80936c-54fd-4e15-82f7-51d18db99846\")>,\n",
       " <selenium.webdriver.remote.webelement.WebElement (session=\"6258c28754db564ea01601ada5341f98\", element=\"560e41ad-bbb3-4355-af28-a2b46e79c6db\")>,\n",
       " <selenium.webdriver.remote.webelement.WebElement (session=\"6258c28754db564ea01601ada5341f98\", element=\"1f495be3-ce52-4a07-9077-ab0326224ee2\")>,\n",
       " <selenium.webdriver.remote.webelement.WebElement (session=\"6258c28754db564ea01601ada5341f98\", element=\"7e0075b9-c7d9-456d-a787-1c1e15e98b61\")>,\n",
       " <selenium.webdriver.remote.webelement.WebElement (session=\"6258c28754db564ea01601ada5341f98\", element=\"1ac037ea-eb05-4b83-a2d0-e7269ca642fd\")>]"
      ]
     },
     "execution_count": 5,
     "metadata": {},
     "output_type": "execute_result"
    }
   ],
   "source": [
    "title_tags=driver.find_elements_by_xpath(\"//div[@class='item-inner clearfix']\")\n",
    "title_tags[0:10]"
   ]
  },
  {
   "cell_type": "code",
   "execution_count": 6,
   "metadata": {},
   "outputs": [
    {
     "data": {
      "text/plain": [
       "['CBSE eases process to get lost papers\\nEBM News English Oct 7, 2016\\nNEW DELHI: The new certification system of CBSE will not only benefit its present but also past students within the country and…',\n",
       " 'Hyderabad pacers restrict Goa\\nEBM News English Oct 7, 2016\\nMedium-pacer Md. Siraj, playing his second Ranji match, bowled well to claim four for 14 and help Hyderabad restrict Goa to 164 on…',\n",
       " 'Mumbai City takes on in-form NorthEast\\nEBM News English Oct 7, 2016\\nMumbai City FC’s head coach Alexandre Guimaraes is upbeat about the understanding he struck up with marquee player Diego Forlan,…',\n",
       " 'BMW to develop additional EV line-up\\nEBM News English Oct 7, 2016\\nBMW is planning on producing all-electric variants of the X3, X4, seventh-generation 3-series, and the Mini Cooper hatchback. The…',\n",
       " 'Audi Q7 to get a space-saver spare tyre\\nEBM News English Oct 7, 2016\\nAudi’s Q7, easily the best-selling luxury SUV in the country at one time, is facing a bit of resistance from luxury car buyers in…',\n",
       " 'Bajaj Kratos VS400 expected price, equipment and specifications\\nEBM News English Oct 7, 2016\\nBack in 2014, Bajaj gave the public a glimpse of its first-ever high-capacity motorcycle in the form of the Pulsar CS (Cruiser…',\n",
       " 'Triumph unveils Bonneville T100, Street Cup at Intermot 2016\\nEBM News English Oct 7, 2016\\nIn the erstwhile Bonneville range, the T100 was for meant for those who wanted a more retro experience from their motorcycle.…',\n",
       " 'Sensex edges up as select blue-chips take spotlight\\nEBM News English Oct 7, 2016\\nMumbai,  The Sensex recovered by over 49 points today, driven by a fresh round of buying in select blue-chips, even as Asia traded…',\n",
       " 'Court asks if state’s enforced its 2015 traffic control orders\\nEBM News English Oct 7, 2016\\nMUMBAI: The Bombay high court has asked the acting advocate general to assist in the PIL on tackling traffic congestion and…',\n",
       " 'She was saved by the clock\\nEBM News English Oct 7, 2016\\nNingamma looked lost when she suddenly found herself surrounded by a large group of people who had just discovered that she was…']"
      ]
     },
     "execution_count": 6,
     "metadata": {},
     "output_type": "execute_result"
    }
   ],
   "source": [
    "for i in title_tags:\n",
    "    \n",
    "    title=i.text\n",
    "    news_titles.append(title)\n",
    "news_titles[0:10]"
   ]
  },
  {
   "cell_type": "code",
   "execution_count": 7,
   "metadata": {},
   "outputs": [
    {
     "data": {
      "text/plain": [
       "[<selenium.webdriver.remote.webelement.WebElement (session=\"6258c28754db564ea01601ada5341f98\", element=\"18227860-372a-4c48-8d1d-cf7ca9343eb5\")>,\n",
       " <selenium.webdriver.remote.webelement.WebElement (session=\"6258c28754db564ea01601ada5341f98\", element=\"62dba46a-5d89-4a1d-bfa2-013c1ad6c82b\")>,\n",
       " <selenium.webdriver.remote.webelement.WebElement (session=\"6258c28754db564ea01601ada5341f98\", element=\"07b46f96-71eb-48dc-8ea4-a3a9874e187b\")>,\n",
       " <selenium.webdriver.remote.webelement.WebElement (session=\"6258c28754db564ea01601ada5341f98\", element=\"79390e38-4eca-48dd-9a54-1b76fca57a41\")>,\n",
       " <selenium.webdriver.remote.webelement.WebElement (session=\"6258c28754db564ea01601ada5341f98\", element=\"46f9e123-fc6f-49a3-9a02-7989a5bacded\")>,\n",
       " <selenium.webdriver.remote.webelement.WebElement (session=\"6258c28754db564ea01601ada5341f98\", element=\"5d704ef1-46b6-4f9b-9e81-a815fd55ae38\")>,\n",
       " <selenium.webdriver.remote.webelement.WebElement (session=\"6258c28754db564ea01601ada5341f98\", element=\"ad3622ed-d72c-4a26-b8e2-09347be3796c\")>,\n",
       " <selenium.webdriver.remote.webelement.WebElement (session=\"6258c28754db564ea01601ada5341f98\", element=\"75022542-9eec-4476-8dd9-250fd45841ab\")>,\n",
       " <selenium.webdriver.remote.webelement.WebElement (session=\"6258c28754db564ea01601ada5341f98\", element=\"641e8235-1218-489d-8528-0f514a025fcb\")>,\n",
       " <selenium.webdriver.remote.webelement.WebElement (session=\"6258c28754db564ea01601ada5341f98\", element=\"feb01740-1ab2-4b5d-8eea-315753bd0f70\")>]"
      ]
     },
     "execution_count": 7,
     "metadata": {},
     "output_type": "execute_result"
    }
   ],
   "source": [
    "date_tags=driver.find_elements_by_xpath(\"//span[@class='time']\")\n",
    "date_tags[0:10]"
   ]
  },
  {
   "cell_type": "code",
   "execution_count": 8,
   "metadata": {},
   "outputs": [
    {
     "data": {
      "text/plain": [
       "['Oct 7, 2016',\n",
       " 'Oct 7, 2016',\n",
       " 'Oct 7, 2016',\n",
       " 'Oct 7, 2016',\n",
       " 'Oct 7, 2016',\n",
       " 'Oct 7, 2016',\n",
       " 'Oct 7, 2016',\n",
       " 'Oct 7, 2016',\n",
       " 'Oct 7, 2016',\n",
       " 'Oct 7, 2016']"
      ]
     },
     "execution_count": 8,
     "metadata": {},
     "output_type": "execute_result"
    }
   ],
   "source": [
    "for i in date_tags:\n",
    "    \n",
    "    title=i.text\n",
    "    date.append(title)\n",
    "date[0:10]"
   ]
  },
  {
   "cell_type": "code",
   "execution_count": 9,
   "metadata": {},
   "outputs": [
    {
     "data": {
      "text/plain": [
       "[<selenium.webdriver.remote.webelement.WebElement (session=\"6258c28754db564ea01601ada5341f98\", element=\"1ae9dcc3-3a69-4b27-8339-5690658c44cd\")>,\n",
       " <selenium.webdriver.remote.webelement.WebElement (session=\"6258c28754db564ea01601ada5341f98\", element=\"d0efbe1e-8dea-4c7e-ad80-731699442ab7\")>,\n",
       " <selenium.webdriver.remote.webelement.WebElement (session=\"6258c28754db564ea01601ada5341f98\", element=\"20222e40-c08f-4e46-b71e-aeeeac9098b1\")>,\n",
       " <selenium.webdriver.remote.webelement.WebElement (session=\"6258c28754db564ea01601ada5341f98\", element=\"d825cc2a-978b-4362-b069-87b945b5456f\")>,\n",
       " <selenium.webdriver.remote.webelement.WebElement (session=\"6258c28754db564ea01601ada5341f98\", element=\"6b9d015d-706a-4a87-84dd-f24489fd246a\")>,\n",
       " <selenium.webdriver.remote.webelement.WebElement (session=\"6258c28754db564ea01601ada5341f98\", element=\"b228077f-e818-4aad-bfd7-9e05771916b5\")>,\n",
       " <selenium.webdriver.remote.webelement.WebElement (session=\"6258c28754db564ea01601ada5341f98\", element=\"53ccb98e-8c27-4af7-8143-24e19e58463b\")>,\n",
       " <selenium.webdriver.remote.webelement.WebElement (session=\"6258c28754db564ea01601ada5341f98\", element=\"de6e9655-ab63-4cab-9845-88f35118972f\")>,\n",
       " <selenium.webdriver.remote.webelement.WebElement (session=\"6258c28754db564ea01601ada5341f98\", element=\"a32b3e9f-de54-439e-800f-d24c70cb2e0c\")>,\n",
       " <selenium.webdriver.remote.webelement.WebElement (session=\"6258c28754db564ea01601ada5341f98\", element=\"e4e948c9-a8aa-4b55-b98d-0ddbc4cf8ba4\")>]"
      ]
     },
     "execution_count": 9,
     "metadata": {},
     "output_type": "execute_result"
    }
   ],
   "source": [
    "desc_tags=driver.find_elements_by_xpath(\"//div[@class='post-summary']\")\n",
    "desc_tags[0:10]"
   ]
  },
  {
   "cell_type": "code",
   "execution_count": 10,
   "metadata": {},
   "outputs": [
    {
     "data": {
      "text/plain": [
       "['NEW DELHI: The new certification system of CBSE will not only benefit its present but also past students within the country and…',\n",
       " 'Medium-pacer Md. Siraj, playing his second Ranji match, bowled well to claim four for 14 and help Hyderabad restrict Goa to 164 on…',\n",
       " 'Mumbai City FC’s head coach Alexandre Guimaraes is upbeat about the understanding he struck up with marquee player Diego Forlan,…',\n",
       " 'BMW is planning on producing all-electric variants of the X3, X4, seventh-generation 3-series, and the Mini Cooper hatchback. The…',\n",
       " 'Audi’s Q7, easily the best-selling luxury SUV in the country at one time, is facing a bit of resistance from luxury car buyers in…',\n",
       " 'Back in 2014, Bajaj gave the public a glimpse of its first-ever high-capacity motorcycle in the form of the Pulsar CS (Cruiser…',\n",
       " 'In the erstwhile Bonneville range, the T100 was for meant for those who wanted a more retro experience from their motorcycle.…',\n",
       " 'Mumbai,  The Sensex recovered by over 49 points today, driven by a fresh round of buying in select blue-chips, even as Asia traded…',\n",
       " 'MUMBAI: The Bombay high court has asked the acting advocate general to assist in the PIL on tackling traffic congestion and…',\n",
       " 'Ningamma looked lost when she suddenly found herself surrounded by a large group of people who had just discovered that she was…']"
      ]
     },
     "execution_count": 10,
     "metadata": {},
     "output_type": "execute_result"
    }
   ],
   "source": [
    "for i in desc_tags:\n",
    "    \n",
    "    title=i.text\n",
    "    description.append(title)\n",
    "description[0:10]"
   ]
  },
  {
   "cell_type": "code",
   "execution_count": 11,
   "metadata": {},
   "outputs": [
    {
     "name": "stdout",
     "output_type": "stream",
     "text": [
      "10 10 10\n"
     ]
    }
   ],
   "source": [
    "print(len(news_titles),len(date),len(description))"
   ]
  },
  {
   "cell_type": "code",
   "execution_count": 12,
   "metadata": {},
   "outputs": [],
   "source": [
    "import pandas as pd\n",
    "news=pd.DataFrame({})\n",
    "news['title']=news_titles[0:10]\n",
    "news['date']=date[0:10]\n",
    "news['desc']=description[0:10]"
   ]
  },
  {
   "cell_type": "code",
   "execution_count": 13,
   "metadata": {},
   "outputs": [
    {
     "data": {
      "text/html": [
       "<div>\n",
       "<style scoped>\n",
       "    .dataframe tbody tr th:only-of-type {\n",
       "        vertical-align: middle;\n",
       "    }\n",
       "\n",
       "    .dataframe tbody tr th {\n",
       "        vertical-align: top;\n",
       "    }\n",
       "\n",
       "    .dataframe thead th {\n",
       "        text-align: right;\n",
       "    }\n",
       "</style>\n",
       "<table border=\"1\" class=\"dataframe\">\n",
       "  <thead>\n",
       "    <tr style=\"text-align: right;\">\n",
       "      <th></th>\n",
       "      <th>title</th>\n",
       "      <th>date</th>\n",
       "      <th>desc</th>\n",
       "    </tr>\n",
       "  </thead>\n",
       "  <tbody>\n",
       "    <tr>\n",
       "      <th>0</th>\n",
       "      <td>CBSE eases process to get lost papers\\nEBM New...</td>\n",
       "      <td>Oct 7, 2016</td>\n",
       "      <td>NEW DELHI: The new certification system of CBS...</td>\n",
       "    </tr>\n",
       "    <tr>\n",
       "      <th>1</th>\n",
       "      <td>Hyderabad pacers restrict Goa\\nEBM News Englis...</td>\n",
       "      <td>Oct 7, 2016</td>\n",
       "      <td>Medium-pacer Md. Siraj, playing his second Ran...</td>\n",
       "    </tr>\n",
       "    <tr>\n",
       "      <th>2</th>\n",
       "      <td>Mumbai City takes on in-form NorthEast\\nEBM Ne...</td>\n",
       "      <td>Oct 7, 2016</td>\n",
       "      <td>Mumbai City FC’s head coach Alexandre Guimarae...</td>\n",
       "    </tr>\n",
       "    <tr>\n",
       "      <th>3</th>\n",
       "      <td>BMW to develop additional EV line-up\\nEBM News...</td>\n",
       "      <td>Oct 7, 2016</td>\n",
       "      <td>BMW is planning on producing all-electric vari...</td>\n",
       "    </tr>\n",
       "    <tr>\n",
       "      <th>4</th>\n",
       "      <td>Audi Q7 to get a space-saver spare tyre\\nEBM N...</td>\n",
       "      <td>Oct 7, 2016</td>\n",
       "      <td>Audi’s Q7, easily the best-selling luxury SUV ...</td>\n",
       "    </tr>\n",
       "    <tr>\n",
       "      <th>5</th>\n",
       "      <td>Bajaj Kratos VS400 expected price, equipment a...</td>\n",
       "      <td>Oct 7, 2016</td>\n",
       "      <td>Back in 2014, Bajaj gave the public a glimpse ...</td>\n",
       "    </tr>\n",
       "    <tr>\n",
       "      <th>6</th>\n",
       "      <td>Triumph unveils Bonneville T100, Street Cup at...</td>\n",
       "      <td>Oct 7, 2016</td>\n",
       "      <td>In the erstwhile Bonneville range, the T100 wa...</td>\n",
       "    </tr>\n",
       "    <tr>\n",
       "      <th>7</th>\n",
       "      <td>Sensex edges up as select blue-chips take spot...</td>\n",
       "      <td>Oct 7, 2016</td>\n",
       "      <td>Mumbai,  The Sensex recovered by over 49 point...</td>\n",
       "    </tr>\n",
       "    <tr>\n",
       "      <th>8</th>\n",
       "      <td>Court asks if state’s enforced its 2015 traffi...</td>\n",
       "      <td>Oct 7, 2016</td>\n",
       "      <td>MUMBAI: The Bombay high court has asked the ac...</td>\n",
       "    </tr>\n",
       "    <tr>\n",
       "      <th>9</th>\n",
       "      <td>She was saved by the clock\\nEBM News English O...</td>\n",
       "      <td>Oct 7, 2016</td>\n",
       "      <td>Ningamma looked lost when she suddenly found h...</td>\n",
       "    </tr>\n",
       "  </tbody>\n",
       "</table>\n",
       "</div>"
      ],
      "text/plain": [
       "                                               title         date  \\\n",
       "0  CBSE eases process to get lost papers\\nEBM New...  Oct 7, 2016   \n",
       "1  Hyderabad pacers restrict Goa\\nEBM News Englis...  Oct 7, 2016   \n",
       "2  Mumbai City takes on in-form NorthEast\\nEBM Ne...  Oct 7, 2016   \n",
       "3  BMW to develop additional EV line-up\\nEBM News...  Oct 7, 2016   \n",
       "4  Audi Q7 to get a space-saver spare tyre\\nEBM N...  Oct 7, 2016   \n",
       "5  Bajaj Kratos VS400 expected price, equipment a...  Oct 7, 2016   \n",
       "6  Triumph unveils Bonneville T100, Street Cup at...  Oct 7, 2016   \n",
       "7  Sensex edges up as select blue-chips take spot...  Oct 7, 2016   \n",
       "8  Court asks if state’s enforced its 2015 traffi...  Oct 7, 2016   \n",
       "9  She was saved by the clock\\nEBM News English O...  Oct 7, 2016   \n",
       "\n",
       "                                                desc  \n",
       "0  NEW DELHI: The new certification system of CBS...  \n",
       "1  Medium-pacer Md. Siraj, playing his second Ran...  \n",
       "2  Mumbai City FC’s head coach Alexandre Guimarae...  \n",
       "3  BMW is planning on producing all-electric vari...  \n",
       "4  Audi’s Q7, easily the best-selling luxury SUV ...  \n",
       "5  Back in 2014, Bajaj gave the public a glimpse ...  \n",
       "6  In the erstwhile Bonneville range, the T100 wa...  \n",
       "7  Mumbai,  The Sensex recovered by over 49 point...  \n",
       "8  MUMBAI: The Bombay high court has asked the ac...  \n",
       "9  Ningamma looked lost when she suddenly found h...  "
      ]
     },
     "execution_count": 13,
     "metadata": {},
     "output_type": "execute_result"
    }
   ],
   "source": [
    "news"
   ]
  },
  {
   "cell_type": "code",
   "execution_count": null,
   "metadata": {},
   "outputs": [],
   "source": []
  }
 ],
 "metadata": {
  "kernelspec": {
   "display_name": "Python 3",
   "language": "python",
   "name": "python3"
  },
  "language_info": {
   "codemirror_mode": {
    "name": "ipython",
    "version": 3
   },
   "file_extension": ".py",
   "mimetype": "text/x-python",
   "name": "python",
   "nbconvert_exporter": "python",
   "pygments_lexer": "ipython3",
   "version": "3.7.6"
  }
 },
 "nbformat": 4,
 "nbformat_minor": 4
}
