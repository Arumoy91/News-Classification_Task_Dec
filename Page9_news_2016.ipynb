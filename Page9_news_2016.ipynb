{
 "cells": [
  {
   "cell_type": "code",
   "execution_count": 1,
   "metadata": {},
   "outputs": [],
   "source": [
    "import selenium\n",
    "import pandas as pd\n",
    "from selenium import webdriver"
   ]
  },
  {
   "cell_type": "code",
   "execution_count": 2,
   "metadata": {},
   "outputs": [],
   "source": [
    "driver=webdriver.Chrome(\"C:\\chromedriver.exe\")"
   ]
  },
  {
   "cell_type": "code",
   "execution_count": 3,
   "metadata": {},
   "outputs": [],
   "source": [
    "driver.get('https://www.ebmnews.com/2016/page/9/')"
   ]
  },
  {
   "cell_type": "code",
   "execution_count": 4,
   "metadata": {},
   "outputs": [],
   "source": [
    "news_titles=[]\n",
    "date=[]\n",
    "description=[]"
   ]
  },
  {
   "cell_type": "code",
   "execution_count": 5,
   "metadata": {},
   "outputs": [
    {
     "data": {
      "text/plain": [
       "[<selenium.webdriver.remote.webelement.WebElement (session=\"3bc1e90d2bab36ce87139fa10ec5e4e9\", element=\"d1b21df2-5365-422b-aefd-382e4d67ba19\")>,\n",
       " <selenium.webdriver.remote.webelement.WebElement (session=\"3bc1e90d2bab36ce87139fa10ec5e4e9\", element=\"f6187654-303e-47a8-b001-30b986cd4809\")>,\n",
       " <selenium.webdriver.remote.webelement.WebElement (session=\"3bc1e90d2bab36ce87139fa10ec5e4e9\", element=\"4fa8921c-ff99-4c1e-9080-084dac7fe13e\")>,\n",
       " <selenium.webdriver.remote.webelement.WebElement (session=\"3bc1e90d2bab36ce87139fa10ec5e4e9\", element=\"1e9e6c88-aed5-426d-9e64-02f6f97856fe\")>,\n",
       " <selenium.webdriver.remote.webelement.WebElement (session=\"3bc1e90d2bab36ce87139fa10ec5e4e9\", element=\"d1afb9aa-ef54-4d31-983c-6198f630d393\")>,\n",
       " <selenium.webdriver.remote.webelement.WebElement (session=\"3bc1e90d2bab36ce87139fa10ec5e4e9\", element=\"b256dffe-41cd-459b-84a7-b3e4630d77a0\")>,\n",
       " <selenium.webdriver.remote.webelement.WebElement (session=\"3bc1e90d2bab36ce87139fa10ec5e4e9\", element=\"9f8fed83-9f95-4e42-9380-27465fae11d6\")>,\n",
       " <selenium.webdriver.remote.webelement.WebElement (session=\"3bc1e90d2bab36ce87139fa10ec5e4e9\", element=\"083e842a-cb0c-474e-94fc-85a60021a018\")>,\n",
       " <selenium.webdriver.remote.webelement.WebElement (session=\"3bc1e90d2bab36ce87139fa10ec5e4e9\", element=\"a1534f8e-7390-4dcf-94f8-a06588c61b10\")>,\n",
       " <selenium.webdriver.remote.webelement.WebElement (session=\"3bc1e90d2bab36ce87139fa10ec5e4e9\", element=\"d9066d65-5f7a-4d9a-8e54-0174fb9d0226\")>]"
      ]
     },
     "execution_count": 5,
     "metadata": {},
     "output_type": "execute_result"
    }
   ],
   "source": [
    "title_tags=driver.find_elements_by_xpath(\"//div[@class='item-inner clearfix']\")\n",
    "title_tags[0:10]"
   ]
  },
  {
   "cell_type": "code",
   "execution_count": 6,
   "metadata": {},
   "outputs": [
    {
     "data": {
      "text/plain": [
       "['Oil edges up on record Indian imports, hopes of producer cut\\nEBM News English Oct 12, 2016\\nTOKYO: Oil prices edged up on Wednesday, supported by record Indian crude imports and upcoming talks between OPEC producers and…',\n",
       " \"Fresh PIL in HC against film on Indira Gandhi’s assassination\\nEBM News English Oct 12, 2016\\nNEW DELHI: The release of Bollywood movie '31st October', based on the aftermath of the assassination of Prime Minister Indira…\",\n",
       " 'Can giving up alcohol end a marriage?\\nEBM News English Oct 12, 2016\\nIt seems a safe bet to suggest most British marriages begin with a drink. Without the pop of a cork, or the unscrewing of a cap,…',\n",
       " 'Saudi Arabia says it shoots down Yemen ballistic missile\\nEBM News English Oct 12, 2016\\nRIYADH: Saudi Arabia says it has shot down a ballistic missile fired into the kingdom by Shiite rebels and their allies in Yemen. …',\n",
       " 'Amidst Brexit doubts, top bankers warn of risk of 2017 exodus from Britain\\nEBM News English Oct 12, 2016\\nLONDON: Top bankers warned on Tuesday they could start moving staff abroad as early as next year if there is no clarity on whether…',\n",
       " 'Gems, jewellery exports up 11 pc in Apr-Aug FY’17\\nEBM News English Oct 12, 2016\\nNew Delhi,  Exports of gems and jewellery grew by 11 per cent to USD 14.43 billion during the first five months of the current…',\n",
       " 'Foreigners revel in Dussehra festivities in Delhi\\nEBM News English Oct 12, 2016\\nNEW DELHI: Ravana effigies going up in flames in spectacular display and the visual treat of Ramlila may be a routine affair for…',\n",
       " 'Captain Marvel’ movie to be origin story\\nEBM News English Oct 12, 2016\\nLos Angeles,  \"Captain Marvel\" is going to focus on the superheroine\\'s origin story, Marvel Studios president Kevin Feige has…',\n",
       " 'Don’t mind sharing but major credit goes to PM: Parrikar\\nEBM News English Oct 12, 2016\\nMumbai, Amid bitter politics of oneupmanship over the surgical strikes, Defence Minister Manohar Parrikar today said all Indians…',\n",
       " 'Jyotika’s next film titled ‘Magalir Mattum’\\nEBM News English Oct 12, 2016\\nCHENNAI: Actress Jyotika\\'s next Tamil outing, in which she plays a documentary filmmaker, has been titled \"Magalir Mattum\", and it…']"
      ]
     },
     "execution_count": 6,
     "metadata": {},
     "output_type": "execute_result"
    }
   ],
   "source": [
    "for i in title_tags:\n",
    "    \n",
    "    title=i.text\n",
    "    news_titles.append(title)\n",
    "news_titles[0:10]"
   ]
  },
  {
   "cell_type": "code",
   "execution_count": 7,
   "metadata": {},
   "outputs": [
    {
     "data": {
      "text/plain": [
       "[<selenium.webdriver.remote.webelement.WebElement (session=\"3bc1e90d2bab36ce87139fa10ec5e4e9\", element=\"7e298821-5bbb-4b48-95f0-57fcb781b2af\")>,\n",
       " <selenium.webdriver.remote.webelement.WebElement (session=\"3bc1e90d2bab36ce87139fa10ec5e4e9\", element=\"deca8886-65a0-4aa3-b38b-60a3fbe7acd6\")>,\n",
       " <selenium.webdriver.remote.webelement.WebElement (session=\"3bc1e90d2bab36ce87139fa10ec5e4e9\", element=\"504270f4-eeb9-4480-b06e-2644d54c388c\")>,\n",
       " <selenium.webdriver.remote.webelement.WebElement (session=\"3bc1e90d2bab36ce87139fa10ec5e4e9\", element=\"20f2284d-6207-46e2-ae5b-964fe9c1d7b6\")>,\n",
       " <selenium.webdriver.remote.webelement.WebElement (session=\"3bc1e90d2bab36ce87139fa10ec5e4e9\", element=\"91907bbb-06dc-4d5c-8710-2e7088517d76\")>,\n",
       " <selenium.webdriver.remote.webelement.WebElement (session=\"3bc1e90d2bab36ce87139fa10ec5e4e9\", element=\"8aa6f023-ea0b-4d72-8080-f1af1fafa5b7\")>,\n",
       " <selenium.webdriver.remote.webelement.WebElement (session=\"3bc1e90d2bab36ce87139fa10ec5e4e9\", element=\"e19f5463-872e-4f17-919f-d9dde8c21866\")>,\n",
       " <selenium.webdriver.remote.webelement.WebElement (session=\"3bc1e90d2bab36ce87139fa10ec5e4e9\", element=\"2ede20e6-482a-47ef-928b-0f02a485ab85\")>,\n",
       " <selenium.webdriver.remote.webelement.WebElement (session=\"3bc1e90d2bab36ce87139fa10ec5e4e9\", element=\"56a8ddb7-4936-4af5-964e-f1a71bb0b0fb\")>,\n",
       " <selenium.webdriver.remote.webelement.WebElement (session=\"3bc1e90d2bab36ce87139fa10ec5e4e9\", element=\"5f98e2f5-ae0f-4fac-a80d-7edc5e1b9d25\")>]"
      ]
     },
     "execution_count": 7,
     "metadata": {},
     "output_type": "execute_result"
    }
   ],
   "source": [
    "date_tags=driver.find_elements_by_xpath(\"//span[@class='time']\")\n",
    "date_tags[0:10]"
   ]
  },
  {
   "cell_type": "code",
   "execution_count": 8,
   "metadata": {},
   "outputs": [
    {
     "data": {
      "text/plain": [
       "['Oct 12, 2016',\n",
       " 'Oct 12, 2016',\n",
       " 'Oct 12, 2016',\n",
       " 'Oct 12, 2016',\n",
       " 'Oct 12, 2016',\n",
       " 'Oct 12, 2016',\n",
       " 'Oct 12, 2016',\n",
       " 'Oct 12, 2016',\n",
       " 'Oct 12, 2016',\n",
       " 'Oct 12, 2016']"
      ]
     },
     "execution_count": 8,
     "metadata": {},
     "output_type": "execute_result"
    }
   ],
   "source": [
    "for i in date_tags:\n",
    "    \n",
    "    title=i.text\n",
    "    date.append(title)\n",
    "date[0:10]"
   ]
  },
  {
   "cell_type": "code",
   "execution_count": 9,
   "metadata": {},
   "outputs": [
    {
     "data": {
      "text/plain": [
       "[<selenium.webdriver.remote.webelement.WebElement (session=\"3bc1e90d2bab36ce87139fa10ec5e4e9\", element=\"55156fe2-67b2-4cb2-ab74-cddaf10debb1\")>,\n",
       " <selenium.webdriver.remote.webelement.WebElement (session=\"3bc1e90d2bab36ce87139fa10ec5e4e9\", element=\"9b5bf0e2-8db6-49e8-b623-048c57b50c32\")>,\n",
       " <selenium.webdriver.remote.webelement.WebElement (session=\"3bc1e90d2bab36ce87139fa10ec5e4e9\", element=\"6dc5c511-6e6f-428b-b969-32ddb82ac552\")>,\n",
       " <selenium.webdriver.remote.webelement.WebElement (session=\"3bc1e90d2bab36ce87139fa10ec5e4e9\", element=\"cc23f7f0-c735-45bc-ac68-ff7df53321ae\")>,\n",
       " <selenium.webdriver.remote.webelement.WebElement (session=\"3bc1e90d2bab36ce87139fa10ec5e4e9\", element=\"e7e03472-9e4e-4e02-a98b-d3ea8c31ebb3\")>,\n",
       " <selenium.webdriver.remote.webelement.WebElement (session=\"3bc1e90d2bab36ce87139fa10ec5e4e9\", element=\"6a4c1239-8aed-4d64-9994-a293c63954e8\")>,\n",
       " <selenium.webdriver.remote.webelement.WebElement (session=\"3bc1e90d2bab36ce87139fa10ec5e4e9\", element=\"c67ccf49-1115-4120-9337-a343761c7a6a\")>,\n",
       " <selenium.webdriver.remote.webelement.WebElement (session=\"3bc1e90d2bab36ce87139fa10ec5e4e9\", element=\"5367e396-0974-46b5-ad7f-14c98355a9bd\")>,\n",
       " <selenium.webdriver.remote.webelement.WebElement (session=\"3bc1e90d2bab36ce87139fa10ec5e4e9\", element=\"d3901ed9-5c1c-4a41-b3ed-2768c9d98d1e\")>,\n",
       " <selenium.webdriver.remote.webelement.WebElement (session=\"3bc1e90d2bab36ce87139fa10ec5e4e9\", element=\"b431c16b-c398-4792-b4d3-ab21effe3ebd\")>]"
      ]
     },
     "execution_count": 9,
     "metadata": {},
     "output_type": "execute_result"
    }
   ],
   "source": [
    "desc_tags=driver.find_elements_by_xpath(\"//div[@class='post-summary']\")\n",
    "desc_tags[0:10]"
   ]
  },
  {
   "cell_type": "code",
   "execution_count": 10,
   "metadata": {},
   "outputs": [
    {
     "data": {
      "text/plain": [
       "['TOKYO: Oil prices edged up on Wednesday, supported by record Indian crude imports and upcoming talks between OPEC producers and…',\n",
       " \"NEW DELHI: The release of Bollywood movie '31st October', based on the aftermath of the assassination of Prime Minister Indira…\",\n",
       " 'It seems a safe bet to suggest most British marriages begin with a drink. Without the pop of a cork, or the unscrewing of a cap,…',\n",
       " 'RIYADH: Saudi Arabia says it has shot down a ballistic missile fired into the kingdom by Shiite rebels and their allies in Yemen. …',\n",
       " 'LONDON: Top bankers warned on Tuesday they could start moving staff abroad as early as next year if there is no clarity on whether…',\n",
       " 'New Delhi,  Exports of gems and jewellery grew by 11 per cent to USD 14.43 billion during the first five months of the current…',\n",
       " 'NEW DELHI: Ravana effigies going up in flames in spectacular display and the visual treat of Ramlila may be a routine affair for…',\n",
       " 'Los Angeles,  \"Captain Marvel\" is going to focus on the superheroine\\'s origin story, Marvel Studios president Kevin Feige has…',\n",
       " 'Mumbai, Amid bitter politics of oneupmanship over the surgical strikes, Defence Minister Manohar Parrikar today said all Indians…',\n",
       " 'CHENNAI: Actress Jyotika\\'s next Tamil outing, in which she plays a documentary filmmaker, has been titled \"Magalir Mattum\", and it…']"
      ]
     },
     "execution_count": 10,
     "metadata": {},
     "output_type": "execute_result"
    }
   ],
   "source": [
    "for i in desc_tags:\n",
    "    \n",
    "    title=i.text\n",
    "    description.append(title)\n",
    "description[0:10]"
   ]
  },
  {
   "cell_type": "code",
   "execution_count": 11,
   "metadata": {},
   "outputs": [
    {
     "name": "stdout",
     "output_type": "stream",
     "text": [
      "10 10 10\n"
     ]
    }
   ],
   "source": [
    "print(len(news_titles),len(date),len(description))"
   ]
  },
  {
   "cell_type": "code",
   "execution_count": 12,
   "metadata": {},
   "outputs": [],
   "source": [
    "import pandas as pd\n",
    "news=pd.DataFrame({})\n",
    "news['title']=news_titles[0:10]\n",
    "news['date']=date[0:10]\n",
    "news['desc']=description[0:10]"
   ]
  },
  {
   "cell_type": "code",
   "execution_count": 13,
   "metadata": {},
   "outputs": [
    {
     "data": {
      "text/html": [
       "<div>\n",
       "<style scoped>\n",
       "    .dataframe tbody tr th:only-of-type {\n",
       "        vertical-align: middle;\n",
       "    }\n",
       "\n",
       "    .dataframe tbody tr th {\n",
       "        vertical-align: top;\n",
       "    }\n",
       "\n",
       "    .dataframe thead th {\n",
       "        text-align: right;\n",
       "    }\n",
       "</style>\n",
       "<table border=\"1\" class=\"dataframe\">\n",
       "  <thead>\n",
       "    <tr style=\"text-align: right;\">\n",
       "      <th></th>\n",
       "      <th>title</th>\n",
       "      <th>date</th>\n",
       "      <th>desc</th>\n",
       "    </tr>\n",
       "  </thead>\n",
       "  <tbody>\n",
       "    <tr>\n",
       "      <th>0</th>\n",
       "      <td>Oil edges up on record Indian imports, hopes o...</td>\n",
       "      <td>Oct 12, 2016</td>\n",
       "      <td>TOKYO: Oil prices edged up on Wednesday, suppo...</td>\n",
       "    </tr>\n",
       "    <tr>\n",
       "      <th>1</th>\n",
       "      <td>Fresh PIL in HC against film on Indira Gandhi’...</td>\n",
       "      <td>Oct 12, 2016</td>\n",
       "      <td>NEW DELHI: The release of Bollywood movie '31s...</td>\n",
       "    </tr>\n",
       "    <tr>\n",
       "      <th>2</th>\n",
       "      <td>Can giving up alcohol end a marriage?\\nEBM New...</td>\n",
       "      <td>Oct 12, 2016</td>\n",
       "      <td>It seems a safe bet to suggest most British ma...</td>\n",
       "    </tr>\n",
       "    <tr>\n",
       "      <th>3</th>\n",
       "      <td>Saudi Arabia says it shoots down Yemen ballist...</td>\n",
       "      <td>Oct 12, 2016</td>\n",
       "      <td>RIYADH: Saudi Arabia says it has shot down a b...</td>\n",
       "    </tr>\n",
       "    <tr>\n",
       "      <th>4</th>\n",
       "      <td>Amidst Brexit doubts, top bankers warn of risk...</td>\n",
       "      <td>Oct 12, 2016</td>\n",
       "      <td>LONDON: Top bankers warned on Tuesday they cou...</td>\n",
       "    </tr>\n",
       "    <tr>\n",
       "      <th>5</th>\n",
       "      <td>Gems, jewellery exports up 11 pc in Apr-Aug FY...</td>\n",
       "      <td>Oct 12, 2016</td>\n",
       "      <td>New Delhi,  Exports of gems and jewellery grew...</td>\n",
       "    </tr>\n",
       "    <tr>\n",
       "      <th>6</th>\n",
       "      <td>Foreigners revel in Dussehra festivities in De...</td>\n",
       "      <td>Oct 12, 2016</td>\n",
       "      <td>NEW DELHI: Ravana effigies going up in flames ...</td>\n",
       "    </tr>\n",
       "    <tr>\n",
       "      <th>7</th>\n",
       "      <td>Captain Marvel’ movie to be origin story\\nEBM ...</td>\n",
       "      <td>Oct 12, 2016</td>\n",
       "      <td>Los Angeles,  \"Captain Marvel\" is going to foc...</td>\n",
       "    </tr>\n",
       "    <tr>\n",
       "      <th>8</th>\n",
       "      <td>Don’t mind sharing but major credit goes to PM...</td>\n",
       "      <td>Oct 12, 2016</td>\n",
       "      <td>Mumbai, Amid bitter politics of oneupmanship o...</td>\n",
       "    </tr>\n",
       "    <tr>\n",
       "      <th>9</th>\n",
       "      <td>Jyotika’s next film titled ‘Magalir Mattum’\\nE...</td>\n",
       "      <td>Oct 12, 2016</td>\n",
       "      <td>CHENNAI: Actress Jyotika's next Tamil outing, ...</td>\n",
       "    </tr>\n",
       "  </tbody>\n",
       "</table>\n",
       "</div>"
      ],
      "text/plain": [
       "                                               title          date  \\\n",
       "0  Oil edges up on record Indian imports, hopes o...  Oct 12, 2016   \n",
       "1  Fresh PIL in HC against film on Indira Gandhi’...  Oct 12, 2016   \n",
       "2  Can giving up alcohol end a marriage?\\nEBM New...  Oct 12, 2016   \n",
       "3  Saudi Arabia says it shoots down Yemen ballist...  Oct 12, 2016   \n",
       "4  Amidst Brexit doubts, top bankers warn of risk...  Oct 12, 2016   \n",
       "5  Gems, jewellery exports up 11 pc in Apr-Aug FY...  Oct 12, 2016   \n",
       "6  Foreigners revel in Dussehra festivities in De...  Oct 12, 2016   \n",
       "7  Captain Marvel’ movie to be origin story\\nEBM ...  Oct 12, 2016   \n",
       "8  Don’t mind sharing but major credit goes to PM...  Oct 12, 2016   \n",
       "9  Jyotika’s next film titled ‘Magalir Mattum’\\nE...  Oct 12, 2016   \n",
       "\n",
       "                                                desc  \n",
       "0  TOKYO: Oil prices edged up on Wednesday, suppo...  \n",
       "1  NEW DELHI: The release of Bollywood movie '31s...  \n",
       "2  It seems a safe bet to suggest most British ma...  \n",
       "3  RIYADH: Saudi Arabia says it has shot down a b...  \n",
       "4  LONDON: Top bankers warned on Tuesday they cou...  \n",
       "5  New Delhi,  Exports of gems and jewellery grew...  \n",
       "6  NEW DELHI: Ravana effigies going up in flames ...  \n",
       "7  Los Angeles,  \"Captain Marvel\" is going to foc...  \n",
       "8  Mumbai, Amid bitter politics of oneupmanship o...  \n",
       "9  CHENNAI: Actress Jyotika's next Tamil outing, ...  "
      ]
     },
     "execution_count": 13,
     "metadata": {},
     "output_type": "execute_result"
    }
   ],
   "source": [
    "news"
   ]
  },
  {
   "cell_type": "code",
   "execution_count": null,
   "metadata": {},
   "outputs": [],
   "source": []
  }
 ],
 "metadata": {
  "kernelspec": {
   "display_name": "Python 3",
   "language": "python",
   "name": "python3"
  },
  "language_info": {
   "codemirror_mode": {
    "name": "ipython",
    "version": 3
   },
   "file_extension": ".py",
   "mimetype": "text/x-python",
   "name": "python",
   "nbconvert_exporter": "python",
   "pygments_lexer": "ipython3",
   "version": "3.7.6"
  }
 },
 "nbformat": 4,
 "nbformat_minor": 4
}
