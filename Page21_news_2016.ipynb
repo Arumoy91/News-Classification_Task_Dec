{
 "cells": [
  {
   "cell_type": "code",
   "execution_count": 1,
   "metadata": {},
   "outputs": [],
   "source": [
    "import selenium"
   ]
  },
  {
   "cell_type": "code",
   "execution_count": 2,
   "metadata": {},
   "outputs": [],
   "source": [
    "import pandas as pd\n",
    "from selenium import webdriver"
   ]
  },
  {
   "cell_type": "code",
   "execution_count": 3,
   "metadata": {},
   "outputs": [],
   "source": [
    "driver=webdriver.Chrome(\"C:\\chromedriver.exe\")"
   ]
  },
  {
   "cell_type": "code",
   "execution_count": 4,
   "metadata": {},
   "outputs": [],
   "source": [
    "driver.get('https://www.ebmnews.com/2016/page/21/')"
   ]
  },
  {
   "cell_type": "code",
   "execution_count": 5,
   "metadata": {},
   "outputs": [],
   "source": [
    "news_titles=[]\n",
    "date=[]\n",
    "description=[]"
   ]
  },
  {
   "cell_type": "code",
   "execution_count": 6,
   "metadata": {},
   "outputs": [
    {
     "data": {
      "text/plain": [
       "[<selenium.webdriver.remote.webelement.WebElement (session=\"83afad9ce8efe0d1c922278bce54c298\", element=\"58ebf4ae-507e-4ad4-8d2e-58d9968e2c3f\")>,\n",
       " <selenium.webdriver.remote.webelement.WebElement (session=\"83afad9ce8efe0d1c922278bce54c298\", element=\"9bf75d84-2e6c-4823-8599-150c508ba9d8\")>,\n",
       " <selenium.webdriver.remote.webelement.WebElement (session=\"83afad9ce8efe0d1c922278bce54c298\", element=\"2155ef60-2915-481d-b59c-6389e82c1c04\")>,\n",
       " <selenium.webdriver.remote.webelement.WebElement (session=\"83afad9ce8efe0d1c922278bce54c298\", element=\"db5e54a6-4f50-4da2-b7f3-d01170d29a16\")>,\n",
       " <selenium.webdriver.remote.webelement.WebElement (session=\"83afad9ce8efe0d1c922278bce54c298\", element=\"a51349c0-cbe0-4ac2-81f2-4c30a062bc48\")>,\n",
       " <selenium.webdriver.remote.webelement.WebElement (session=\"83afad9ce8efe0d1c922278bce54c298\", element=\"68645196-a922-482e-bf58-ba0427344652\")>,\n",
       " <selenium.webdriver.remote.webelement.WebElement (session=\"83afad9ce8efe0d1c922278bce54c298\", element=\"bd31c59f-89a7-4baa-9ffb-a33da6c942c0\")>,\n",
       " <selenium.webdriver.remote.webelement.WebElement (session=\"83afad9ce8efe0d1c922278bce54c298\", element=\"a34b3082-6c75-4cc2-9973-7697b5b9df56\")>,\n",
       " <selenium.webdriver.remote.webelement.WebElement (session=\"83afad9ce8efe0d1c922278bce54c298\", element=\"1969d027-e76a-48a3-bd62-a3b2a35e796a\")>,\n",
       " <selenium.webdriver.remote.webelement.WebElement (session=\"83afad9ce8efe0d1c922278bce54c298\", element=\"0eef412c-dc3b-4f96-baa0-b671a148cdf3\")>]"
      ]
     },
     "execution_count": 6,
     "metadata": {},
     "output_type": "execute_result"
    }
   ],
   "source": [
    "title_tags=driver.find_elements_by_xpath(\"//div[@class='item-inner clearfix']\")\n",
    "title_tags[0:10]"
   ]
  },
  {
   "cell_type": "code",
   "execution_count": 7,
   "metadata": {},
   "outputs": [
    {
     "data": {
      "text/plain": [
       "['People made to suffer menace of diseases in Delhi: SC\\nEBM News English Oct 6, 2016\\nNew Delhi, In a stinging criticism of the handling of dengue and chikungunya menace in Delhi, the Supreme Court today said the…',\n",
       " 'Heavily armed militants attack army camp, three ultras killed\\nEBM News English Oct 6, 2016\\nSrinagar, Three heavily armed militants suspected to be from Pakistan were today killed after they launched an attack on an army…',\n",
       " '‘India, Sri Lanka to sign ETCA pact this year’\\nEBM News English Oct 6, 2016\\nNew Delhi,  Sri Lanka expects the Economic and Technology Co-operation Agreement (ETCA) with India to be signed by the end of this…',\n",
       " 'Kaine, Pence clash over presidential candidates\\nEBM News English Oct 6, 2016\\nDemocratic candidate Tim Kaine fought hard to make Donald Trump the topic of the U.S. vice-presidential debate on Tuesday night,…',\n",
       " 'No pact with Sena in ’17 polls: BJP MP\\nEBM News English Oct 6, 2016\\nMUMBAI: A day after the BJP said it preferred an alliance with Shiv Sena for the forthcoming civic elections only if there is was…',\n",
       " 'SAARC must address terror, says Sri Lanka\\nEBM News English Oct 6, 2016\\nPushing for revising the agenda of SAARC, Sri Lanka on Wednesday joined the growing demand that the regional organisation counter…',\n",
       " 'Another complaint filed against Om Puri\\nEBM News English Oct 6, 2016\\nJaipur,  Another complaint has been filed against actor Om Puri at Gandhi Nagar police station here for allegedly disrespecting…',\n",
       " 'Madras HC dismisses PIL on Jaya’s health condition\\nEBM News English Oct 6, 2016\\nChennai, Observing that it should not be used for \"political purposes\", the Madras High Court today dismissed a PIL seeking a…',\n",
       " 'Ex-MP protests against rising JE deaths\\nEBM News English Oct 6, 2016\\nWhile the official death toll of children due to Japanese Encephalitis (JE) rose to 32 on Wednesday, former Congress MP of…',\n",
       " 'I don’t love or hate Putin: Trump\\nEBM News English Oct 6, 2016\\nWashington, US Republican presidential nominee Donald Trump has shrugged off allegations that he would be too close to Vladimir…']"
      ]
     },
     "execution_count": 7,
     "metadata": {},
     "output_type": "execute_result"
    }
   ],
   "source": [
    "for i in title_tags:\n",
    "    \n",
    "    title=i.text\n",
    "    news_titles.append(title)\n",
    "news_titles[0:10]"
   ]
  },
  {
   "cell_type": "code",
   "execution_count": 8,
   "metadata": {},
   "outputs": [
    {
     "data": {
      "text/plain": [
       "[<selenium.webdriver.remote.webelement.WebElement (session=\"83afad9ce8efe0d1c922278bce54c298\", element=\"79cc8f68-3ecd-4a15-9931-ef8a3bdcb51a\")>,\n",
       " <selenium.webdriver.remote.webelement.WebElement (session=\"83afad9ce8efe0d1c922278bce54c298\", element=\"ab84e580-2299-4ff3-9edc-62b2786160d9\")>,\n",
       " <selenium.webdriver.remote.webelement.WebElement (session=\"83afad9ce8efe0d1c922278bce54c298\", element=\"34a83eba-c30d-48e0-958e-216a906d7767\")>,\n",
       " <selenium.webdriver.remote.webelement.WebElement (session=\"83afad9ce8efe0d1c922278bce54c298\", element=\"8932008e-08c8-4acb-b327-4faf703185b2\")>,\n",
       " <selenium.webdriver.remote.webelement.WebElement (session=\"83afad9ce8efe0d1c922278bce54c298\", element=\"9e2f7a8c-b95e-40bf-bf71-aa90e5b76ab3\")>,\n",
       " <selenium.webdriver.remote.webelement.WebElement (session=\"83afad9ce8efe0d1c922278bce54c298\", element=\"b71a013e-5c42-4361-a7f1-be521f9a45e9\")>,\n",
       " <selenium.webdriver.remote.webelement.WebElement (session=\"83afad9ce8efe0d1c922278bce54c298\", element=\"5d3184b6-68af-4b0f-9566-639f3dfe9da2\")>,\n",
       " <selenium.webdriver.remote.webelement.WebElement (session=\"83afad9ce8efe0d1c922278bce54c298\", element=\"c7cb4d0a-c0da-4747-9bec-a3a481948013\")>,\n",
       " <selenium.webdriver.remote.webelement.WebElement (session=\"83afad9ce8efe0d1c922278bce54c298\", element=\"705c0e96-473f-496e-8f4d-3549b551ed38\")>,\n",
       " <selenium.webdriver.remote.webelement.WebElement (session=\"83afad9ce8efe0d1c922278bce54c298\", element=\"878bee81-9b46-4400-87a1-631ebf164e30\")>]"
      ]
     },
     "execution_count": 8,
     "metadata": {},
     "output_type": "execute_result"
    }
   ],
   "source": [
    "date_tags=driver.find_elements_by_xpath(\"//span[@class='time']\")\n",
    "date_tags[0:10]"
   ]
  },
  {
   "cell_type": "code",
   "execution_count": 9,
   "metadata": {},
   "outputs": [
    {
     "data": {
      "text/plain": [
       "['Oct 6, 2016',\n",
       " 'Oct 6, 2016',\n",
       " 'Oct 6, 2016',\n",
       " 'Oct 6, 2016',\n",
       " 'Oct 6, 2016',\n",
       " 'Oct 6, 2016',\n",
       " 'Oct 6, 2016',\n",
       " 'Oct 6, 2016',\n",
       " 'Oct 6, 2016',\n",
       " 'Oct 6, 2016']"
      ]
     },
     "execution_count": 9,
     "metadata": {},
     "output_type": "execute_result"
    }
   ],
   "source": [
    "for i in date_tags:\n",
    "    \n",
    "    title=i.text\n",
    "    date.append(title)\n",
    "date[0:10]"
   ]
  },
  {
   "cell_type": "code",
   "execution_count": 10,
   "metadata": {},
   "outputs": [
    {
     "data": {
      "text/plain": [
       "[<selenium.webdriver.remote.webelement.WebElement (session=\"83afad9ce8efe0d1c922278bce54c298\", element=\"44b86a3b-8351-4a75-b412-bc805050856f\")>,\n",
       " <selenium.webdriver.remote.webelement.WebElement (session=\"83afad9ce8efe0d1c922278bce54c298\", element=\"05c377c1-61db-403a-8a84-6d7f6b40acbf\")>,\n",
       " <selenium.webdriver.remote.webelement.WebElement (session=\"83afad9ce8efe0d1c922278bce54c298\", element=\"0e13fef2-f7f7-4981-87ac-7f8c9336679c\")>,\n",
       " <selenium.webdriver.remote.webelement.WebElement (session=\"83afad9ce8efe0d1c922278bce54c298\", element=\"b01effdf-43aa-4bcd-964c-455dd2c08479\")>,\n",
       " <selenium.webdriver.remote.webelement.WebElement (session=\"83afad9ce8efe0d1c922278bce54c298\", element=\"45c8e9e1-38e9-4bee-a6c1-74e00e6e1977\")>,\n",
       " <selenium.webdriver.remote.webelement.WebElement (session=\"83afad9ce8efe0d1c922278bce54c298\", element=\"9ffc126b-34e6-41fc-9b77-77e67708b0ff\")>,\n",
       " <selenium.webdriver.remote.webelement.WebElement (session=\"83afad9ce8efe0d1c922278bce54c298\", element=\"f1dfea9d-60d6-4430-b7bc-1e5123675922\")>,\n",
       " <selenium.webdriver.remote.webelement.WebElement (session=\"83afad9ce8efe0d1c922278bce54c298\", element=\"ced8576a-8cfb-4870-9cfc-f827fe6f1934\")>,\n",
       " <selenium.webdriver.remote.webelement.WebElement (session=\"83afad9ce8efe0d1c922278bce54c298\", element=\"4e57f6b5-129d-427f-8c4b-a50149fb9440\")>,\n",
       " <selenium.webdriver.remote.webelement.WebElement (session=\"83afad9ce8efe0d1c922278bce54c298\", element=\"15b19969-3f65-410b-960f-61bbce529249\")>]"
      ]
     },
     "execution_count": 10,
     "metadata": {},
     "output_type": "execute_result"
    }
   ],
   "source": [
    "desc_tags=driver.find_elements_by_xpath(\"//div[@class='post-summary']\")\n",
    "desc_tags[0:10]"
   ]
  },
  {
   "cell_type": "code",
   "execution_count": 11,
   "metadata": {},
   "outputs": [
    {
     "data": {
      "text/plain": [
       "['New Delhi, In a stinging criticism of the handling of dengue and chikungunya menace in Delhi, the Supreme Court today said the…',\n",
       " 'Srinagar, Three heavily armed militants suspected to be from Pakistan were today killed after they launched an attack on an army…',\n",
       " 'New Delhi,  Sri Lanka expects the Economic and Technology Co-operation Agreement (ETCA) with India to be signed by the end of this…',\n",
       " 'Democratic candidate Tim Kaine fought hard to make Donald Trump the topic of the U.S. vice-presidential debate on Tuesday night,…',\n",
       " 'MUMBAI: A day after the BJP said it preferred an alliance with Shiv Sena for the forthcoming civic elections only if there is was…',\n",
       " 'Pushing for revising the agenda of SAARC, Sri Lanka on Wednesday joined the growing demand that the regional organisation counter…',\n",
       " 'Jaipur,  Another complaint has been filed against actor Om Puri at Gandhi Nagar police station here for allegedly disrespecting…',\n",
       " 'Chennai, Observing that it should not be used for \"political purposes\", the Madras High Court today dismissed a PIL seeking a…',\n",
       " 'While the official death toll of children due to Japanese Encephalitis (JE) rose to 32 on Wednesday, former Congress MP of…',\n",
       " 'Washington, US Republican presidential nominee Donald Trump has shrugged off allegations that he would be too close to Vladimir…']"
      ]
     },
     "execution_count": 11,
     "metadata": {},
     "output_type": "execute_result"
    }
   ],
   "source": [
    "for i in desc_tags:\n",
    "    \n",
    "    title=i.text\n",
    "    description.append(title)\n",
    "description[0:10]"
   ]
  },
  {
   "cell_type": "code",
   "execution_count": 12,
   "metadata": {},
   "outputs": [
    {
     "name": "stdout",
     "output_type": "stream",
     "text": [
      "10 10 10\n"
     ]
    }
   ],
   "source": [
    "print(len(news_titles),len(date),len(description))"
   ]
  },
  {
   "cell_type": "code",
   "execution_count": 13,
   "metadata": {},
   "outputs": [],
   "source": [
    "import pandas as pd\n",
    "news=pd.DataFrame({})\n",
    "news['title']=news_titles[0:10]\n",
    "news['date']=date[0:10]\n",
    "news['desc']=description[0:10]"
   ]
  },
  {
   "cell_type": "code",
   "execution_count": 14,
   "metadata": {},
   "outputs": [
    {
     "data": {
      "text/html": [
       "<div>\n",
       "<style scoped>\n",
       "    .dataframe tbody tr th:only-of-type {\n",
       "        vertical-align: middle;\n",
       "    }\n",
       "\n",
       "    .dataframe tbody tr th {\n",
       "        vertical-align: top;\n",
       "    }\n",
       "\n",
       "    .dataframe thead th {\n",
       "        text-align: right;\n",
       "    }\n",
       "</style>\n",
       "<table border=\"1\" class=\"dataframe\">\n",
       "  <thead>\n",
       "    <tr style=\"text-align: right;\">\n",
       "      <th></th>\n",
       "      <th>title</th>\n",
       "      <th>date</th>\n",
       "      <th>desc</th>\n",
       "    </tr>\n",
       "  </thead>\n",
       "  <tbody>\n",
       "    <tr>\n",
       "      <th>0</th>\n",
       "      <td>People made to suffer menace of diseases in De...</td>\n",
       "      <td>Oct 6, 2016</td>\n",
       "      <td>New Delhi, In a stinging criticism of the hand...</td>\n",
       "    </tr>\n",
       "    <tr>\n",
       "      <th>1</th>\n",
       "      <td>Heavily armed militants attack army camp, thre...</td>\n",
       "      <td>Oct 6, 2016</td>\n",
       "      <td>Srinagar, Three heavily armed militants suspec...</td>\n",
       "    </tr>\n",
       "    <tr>\n",
       "      <th>2</th>\n",
       "      <td>‘India, Sri Lanka to sign ETCA pact this year’...</td>\n",
       "      <td>Oct 6, 2016</td>\n",
       "      <td>New Delhi,  Sri Lanka expects the Economic and...</td>\n",
       "    </tr>\n",
       "    <tr>\n",
       "      <th>3</th>\n",
       "      <td>Kaine, Pence clash over presidential candidate...</td>\n",
       "      <td>Oct 6, 2016</td>\n",
       "      <td>Democratic candidate Tim Kaine fought hard to ...</td>\n",
       "    </tr>\n",
       "    <tr>\n",
       "      <th>4</th>\n",
       "      <td>No pact with Sena in ’17 polls: BJP MP\\nEBM Ne...</td>\n",
       "      <td>Oct 6, 2016</td>\n",
       "      <td>MUMBAI: A day after the BJP said it preferred ...</td>\n",
       "    </tr>\n",
       "    <tr>\n",
       "      <th>5</th>\n",
       "      <td>SAARC must address terror, says Sri Lanka\\nEBM...</td>\n",
       "      <td>Oct 6, 2016</td>\n",
       "      <td>Pushing for revising the agenda of SAARC, Sri ...</td>\n",
       "    </tr>\n",
       "    <tr>\n",
       "      <th>6</th>\n",
       "      <td>Another complaint filed against Om Puri\\nEBM N...</td>\n",
       "      <td>Oct 6, 2016</td>\n",
       "      <td>Jaipur,  Another complaint has been filed agai...</td>\n",
       "    </tr>\n",
       "    <tr>\n",
       "      <th>7</th>\n",
       "      <td>Madras HC dismisses PIL on Jaya’s health condi...</td>\n",
       "      <td>Oct 6, 2016</td>\n",
       "      <td>Chennai, Observing that it should not be used ...</td>\n",
       "    </tr>\n",
       "    <tr>\n",
       "      <th>8</th>\n",
       "      <td>Ex-MP protests against rising JE deaths\\nEBM N...</td>\n",
       "      <td>Oct 6, 2016</td>\n",
       "      <td>While the official death toll of children due ...</td>\n",
       "    </tr>\n",
       "    <tr>\n",
       "      <th>9</th>\n",
       "      <td>I don’t love or hate Putin: Trump\\nEBM News En...</td>\n",
       "      <td>Oct 6, 2016</td>\n",
       "      <td>Washington, US Republican presidential nominee...</td>\n",
       "    </tr>\n",
       "  </tbody>\n",
       "</table>\n",
       "</div>"
      ],
      "text/plain": [
       "                                               title         date  \\\n",
       "0  People made to suffer menace of diseases in De...  Oct 6, 2016   \n",
       "1  Heavily armed militants attack army camp, thre...  Oct 6, 2016   \n",
       "2  ‘India, Sri Lanka to sign ETCA pact this year’...  Oct 6, 2016   \n",
       "3  Kaine, Pence clash over presidential candidate...  Oct 6, 2016   \n",
       "4  No pact with Sena in ’17 polls: BJP MP\\nEBM Ne...  Oct 6, 2016   \n",
       "5  SAARC must address terror, says Sri Lanka\\nEBM...  Oct 6, 2016   \n",
       "6  Another complaint filed against Om Puri\\nEBM N...  Oct 6, 2016   \n",
       "7  Madras HC dismisses PIL on Jaya’s health condi...  Oct 6, 2016   \n",
       "8  Ex-MP protests against rising JE deaths\\nEBM N...  Oct 6, 2016   \n",
       "9  I don’t love or hate Putin: Trump\\nEBM News En...  Oct 6, 2016   \n",
       "\n",
       "                                                desc  \n",
       "0  New Delhi, In a stinging criticism of the hand...  \n",
       "1  Srinagar, Three heavily armed militants suspec...  \n",
       "2  New Delhi,  Sri Lanka expects the Economic and...  \n",
       "3  Democratic candidate Tim Kaine fought hard to ...  \n",
       "4  MUMBAI: A day after the BJP said it preferred ...  \n",
       "5  Pushing for revising the agenda of SAARC, Sri ...  \n",
       "6  Jaipur,  Another complaint has been filed agai...  \n",
       "7  Chennai, Observing that it should not be used ...  \n",
       "8  While the official death toll of children due ...  \n",
       "9  Washington, US Republican presidential nominee...  "
      ]
     },
     "execution_count": 14,
     "metadata": {},
     "output_type": "execute_result"
    }
   ],
   "source": [
    "news"
   ]
  },
  {
   "cell_type": "code",
   "execution_count": null,
   "metadata": {},
   "outputs": [],
   "source": []
  }
 ],
 "metadata": {
  "kernelspec": {
   "display_name": "Python 3",
   "language": "python",
   "name": "python3"
  },
  "language_info": {
   "codemirror_mode": {
    "name": "ipython",
    "version": 3
   },
   "file_extension": ".py",
   "mimetype": "text/x-python",
   "name": "python",
   "nbconvert_exporter": "python",
   "pygments_lexer": "ipython3",
   "version": "3.7.6"
  }
 },
 "nbformat": 4,
 "nbformat_minor": 4
}
