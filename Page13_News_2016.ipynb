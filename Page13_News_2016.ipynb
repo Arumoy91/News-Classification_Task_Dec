{
 "cells": [
  {
   "cell_type": "code",
   "execution_count": 1,
   "metadata": {},
   "outputs": [],
   "source": [
    "import selenium"
   ]
  },
  {
   "cell_type": "code",
   "execution_count": 2,
   "metadata": {},
   "outputs": [],
   "source": [
    "import pandas as pd\n",
    "from selenium import webdriver"
   ]
  },
  {
   "cell_type": "code",
   "execution_count": 3,
   "metadata": {},
   "outputs": [],
   "source": [
    "driver=webdriver.Chrome(\"C:\\chromedriver.exe\")"
   ]
  },
  {
   "cell_type": "code",
   "execution_count": 5,
   "metadata": {},
   "outputs": [],
   "source": [
    "driver.get('https://www.ebmnews.com/2016/page/13/')"
   ]
  },
  {
   "cell_type": "code",
   "execution_count": 6,
   "metadata": {},
   "outputs": [],
   "source": [
    "news_titles=[]\n",
    "date=[]\n",
    "description=[]"
   ]
  },
  {
   "cell_type": "code",
   "execution_count": 7,
   "metadata": {},
   "outputs": [
    {
     "data": {
      "text/plain": [
       "[<selenium.webdriver.remote.webelement.WebElement (session=\"4803a29d0f17424ffd4a6c9470c77ed1\", element=\"533345fa-1ac6-4a20-9e95-2564c2411fe5\")>,\n",
       " <selenium.webdriver.remote.webelement.WebElement (session=\"4803a29d0f17424ffd4a6c9470c77ed1\", element=\"1d950116-5d76-4d3a-81ad-db05d1130a91\")>,\n",
       " <selenium.webdriver.remote.webelement.WebElement (session=\"4803a29d0f17424ffd4a6c9470c77ed1\", element=\"602c55c5-0209-4409-a371-94ca4aabce5f\")>,\n",
       " <selenium.webdriver.remote.webelement.WebElement (session=\"4803a29d0f17424ffd4a6c9470c77ed1\", element=\"f30ea215-c52c-414a-bbed-f432207112d9\")>,\n",
       " <selenium.webdriver.remote.webelement.WebElement (session=\"4803a29d0f17424ffd4a6c9470c77ed1\", element=\"94146564-3355-45c6-9f77-520a32380e47\")>,\n",
       " <selenium.webdriver.remote.webelement.WebElement (session=\"4803a29d0f17424ffd4a6c9470c77ed1\", element=\"23049921-424f-445e-806c-7de39b74ad4f\")>,\n",
       " <selenium.webdriver.remote.webelement.WebElement (session=\"4803a29d0f17424ffd4a6c9470c77ed1\", element=\"e6e646bc-2928-4a3c-a769-cd0a68483ae5\")>,\n",
       " <selenium.webdriver.remote.webelement.WebElement (session=\"4803a29d0f17424ffd4a6c9470c77ed1\", element=\"678d329f-fd03-40f5-b56c-f69b521cc554\")>,\n",
       " <selenium.webdriver.remote.webelement.WebElement (session=\"4803a29d0f17424ffd4a6c9470c77ed1\", element=\"5f4ac169-f353-4053-a657-d498be124e9c\")>,\n",
       " <selenium.webdriver.remote.webelement.WebElement (session=\"4803a29d0f17424ffd4a6c9470c77ed1\", element=\"a0791637-2764-4e04-b6e4-cf0cf2b45585\")>]"
      ]
     },
     "execution_count": 7,
     "metadata": {},
     "output_type": "execute_result"
    }
   ],
   "source": [
    "title_tags=driver.find_elements_by_xpath(\"//div[@class='item-inner clearfix']\")\n",
    "title_tags[0:10]"
   ]
  },
  {
   "cell_type": "code",
   "execution_count": 8,
   "metadata": {},
   "outputs": [
    {
     "data": {
      "text/plain": [
       "['Post festival, garbage haunts Bengalureans\\nEBM News English Oct 12, 2016\\nBENGALURU: Mounds of uncleared garbage are back to haunt Bengalureans as Bruhat Bengaluru Mahnagaara Palike (BBMP) authorities…',\n",
       " 'Don Trumped by Hillary, rants against deserters\\nEBM News English Oct 12, 2016\\nThe sexist remarks have started taking their toll on Donald Trump’s bid for the White House. The Democratic presidential candidate…',\n",
       " 'Putin wants athletes with drug exemptions to compete separately\\nEBM News English Oct 12, 2016\\nVladimir Putin yesterday called for athletes who require therapeutic use exemptions to be banned from competing against those who…',\n",
       " 'For Army snipers on LoC, ‘Dushman Sikaar, Hum Sikari’ is the mantra\\nEBM News English Oct 12, 2016\\nNOUSHERA: For Army snipers donning the camouflaged battle-gear, \"Dushmun Sikaar, Hum Sikaari\" is the \"duty mantra\" as they guard…',\n",
       " 'Cheap paints, thermocol pose threat to Yamuna\\nEBM News English Oct 12, 2016\\nNEW DELHI: With hundreds of Puja committees reaching the ghats for idol immersion on Vijaydashami, checking the pollution level in…',\n",
       " 'Evil dead: Delhi takes home message of peace\\nEBM News English Oct 12, 2016\\nover evil once again—even if it was for just a day—with the city celebrating Dussehra with much fervour. Also defeated were the…',\n",
       " 'Pakistan terror is PM Modi’s Ravana\\nEBM News English Oct 12, 2016\\nNEW DELHI: Breaking away from the tradition, Prime Minister Narendra Modi attended the historic Ramlila celebrations in Lucknow on…',\n",
       " 'India complete clean sweep with another emphatic win\\nEBM News English Oct 11, 2016\\nIndore,  Ravichandran Ashwin mesmerised the New Zealand batsmen with another magical spell of spin bowling as India completed a…',\n",
       " '‘Films that are close to reality always succeed’\\nEBM News English Oct 11, 2016\\nFilmmaker Vijay knows his limitations and doesn’t meddle with subjects he’s not comfortable with. He has successfully warded off…',\n",
       " \"Coal output to miss government’s target of self sufficiency: Report\\nEBM News English Oct 11, 2016\\nNEW DELHI: India's coal output will miss government's ambitious target of self sufficiency on the back of delays in opening up of…\"]"
      ]
     },
     "execution_count": 8,
     "metadata": {},
     "output_type": "execute_result"
    }
   ],
   "source": [
    "for i in title_tags:\n",
    "    \n",
    "    title=i.text\n",
    "    news_titles.append(title)\n",
    "news_titles[0:10]"
   ]
  },
  {
   "cell_type": "code",
   "execution_count": 9,
   "metadata": {},
   "outputs": [
    {
     "data": {
      "text/plain": [
       "[<selenium.webdriver.remote.webelement.WebElement (session=\"4803a29d0f17424ffd4a6c9470c77ed1\", element=\"a1f0c691-f671-4101-87cc-a29dec6cfc30\")>,\n",
       " <selenium.webdriver.remote.webelement.WebElement (session=\"4803a29d0f17424ffd4a6c9470c77ed1\", element=\"15c03584-812d-413a-99e7-275b4a5cbe20\")>,\n",
       " <selenium.webdriver.remote.webelement.WebElement (session=\"4803a29d0f17424ffd4a6c9470c77ed1\", element=\"6bf10f2b-013d-4573-a9ae-e3cf56a5c374\")>,\n",
       " <selenium.webdriver.remote.webelement.WebElement (session=\"4803a29d0f17424ffd4a6c9470c77ed1\", element=\"962ad2e6-a787-4f0c-8dbc-e285dd38d9cf\")>,\n",
       " <selenium.webdriver.remote.webelement.WebElement (session=\"4803a29d0f17424ffd4a6c9470c77ed1\", element=\"093db1b7-d2fd-4a26-b070-4672bd19116b\")>,\n",
       " <selenium.webdriver.remote.webelement.WebElement (session=\"4803a29d0f17424ffd4a6c9470c77ed1\", element=\"dea64a6e-8b8a-426a-88f0-8bd0145fc7f8\")>,\n",
       " <selenium.webdriver.remote.webelement.WebElement (session=\"4803a29d0f17424ffd4a6c9470c77ed1\", element=\"628f0fa4-c940-4e0f-84eb-8e0ca9dfea89\")>,\n",
       " <selenium.webdriver.remote.webelement.WebElement (session=\"4803a29d0f17424ffd4a6c9470c77ed1\", element=\"5b56de17-1a19-4bf2-8a00-55e86d54c4b9\")>,\n",
       " <selenium.webdriver.remote.webelement.WebElement (session=\"4803a29d0f17424ffd4a6c9470c77ed1\", element=\"d2f01570-0357-46fe-92bf-bf51fdcea08a\")>,\n",
       " <selenium.webdriver.remote.webelement.WebElement (session=\"4803a29d0f17424ffd4a6c9470c77ed1\", element=\"40697cf9-34eb-4805-943b-4f76a3064fde\")>]"
      ]
     },
     "execution_count": 9,
     "metadata": {},
     "output_type": "execute_result"
    }
   ],
   "source": [
    "date_tags=driver.find_elements_by_xpath(\"//span[@class='time']\")\n",
    "date_tags[0:10]"
   ]
  },
  {
   "cell_type": "code",
   "execution_count": 10,
   "metadata": {},
   "outputs": [
    {
     "data": {
      "text/plain": [
       "['Oct 12, 2016',\n",
       " 'Oct 12, 2016',\n",
       " 'Oct 12, 2016',\n",
       " 'Oct 12, 2016',\n",
       " 'Oct 12, 2016',\n",
       " 'Oct 12, 2016',\n",
       " 'Oct 12, 2016',\n",
       " 'Oct 11, 2016',\n",
       " 'Oct 11, 2016',\n",
       " 'Oct 11, 2016']"
      ]
     },
     "execution_count": 10,
     "metadata": {},
     "output_type": "execute_result"
    }
   ],
   "source": [
    "for i in date_tags:\n",
    "    \n",
    "    title=i.text\n",
    "    date.append(title)\n",
    "date[0:10]"
   ]
  },
  {
   "cell_type": "code",
   "execution_count": 11,
   "metadata": {},
   "outputs": [
    {
     "data": {
      "text/plain": [
       "[<selenium.webdriver.remote.webelement.WebElement (session=\"4803a29d0f17424ffd4a6c9470c77ed1\", element=\"b077fd81-9a81-49ab-856c-1c2451a51ebc\")>,\n",
       " <selenium.webdriver.remote.webelement.WebElement (session=\"4803a29d0f17424ffd4a6c9470c77ed1\", element=\"61154a83-08b8-45d4-9072-cb7c2e7ee458\")>,\n",
       " <selenium.webdriver.remote.webelement.WebElement (session=\"4803a29d0f17424ffd4a6c9470c77ed1\", element=\"1cb8e474-d9aa-404c-b5df-aca6cce622a5\")>,\n",
       " <selenium.webdriver.remote.webelement.WebElement (session=\"4803a29d0f17424ffd4a6c9470c77ed1\", element=\"9820684f-befa-43da-8b7c-0c3f9f5a4ffb\")>,\n",
       " <selenium.webdriver.remote.webelement.WebElement (session=\"4803a29d0f17424ffd4a6c9470c77ed1\", element=\"94156147-b0a8-4f72-a99a-760fe192c314\")>,\n",
       " <selenium.webdriver.remote.webelement.WebElement (session=\"4803a29d0f17424ffd4a6c9470c77ed1\", element=\"96e8b09a-efeb-43ca-ac52-bdd69c183d5d\")>,\n",
       " <selenium.webdriver.remote.webelement.WebElement (session=\"4803a29d0f17424ffd4a6c9470c77ed1\", element=\"d6390333-35b7-46c2-9e81-3be8eb9c342f\")>,\n",
       " <selenium.webdriver.remote.webelement.WebElement (session=\"4803a29d0f17424ffd4a6c9470c77ed1\", element=\"acb74e9b-49f5-4619-985a-0dc825218143\")>,\n",
       " <selenium.webdriver.remote.webelement.WebElement (session=\"4803a29d0f17424ffd4a6c9470c77ed1\", element=\"d45fa556-9407-428a-8e8b-79c39d7e7d24\")>,\n",
       " <selenium.webdriver.remote.webelement.WebElement (session=\"4803a29d0f17424ffd4a6c9470c77ed1\", element=\"4422d5cf-a26e-4738-997b-1e2134b93de3\")>]"
      ]
     },
     "execution_count": 11,
     "metadata": {},
     "output_type": "execute_result"
    }
   ],
   "source": [
    "desc_tags=driver.find_elements_by_xpath(\"//div[@class='post-summary']\")\n",
    "desc_tags[0:10]"
   ]
  },
  {
   "cell_type": "code",
   "execution_count": 12,
   "metadata": {},
   "outputs": [
    {
     "data": {
      "text/plain": [
       "['BENGALURU: Mounds of uncleared garbage are back to haunt Bengalureans as Bruhat Bengaluru Mahnagaara Palike (BBMP) authorities…',\n",
       " 'The sexist remarks have started taking their toll on Donald Trump’s bid for the White House. The Democratic presidential candidate…',\n",
       " 'Vladimir Putin yesterday called for athletes who require therapeutic use exemptions to be banned from competing against those who…',\n",
       " 'NOUSHERA: For Army snipers donning the camouflaged battle-gear, \"Dushmun Sikaar, Hum Sikaari\" is the \"duty mantra\" as they guard…',\n",
       " 'NEW DELHI: With hundreds of Puja committees reaching the ghats for idol immersion on Vijaydashami, checking the pollution level in…',\n",
       " 'over evil once again—even if it was for just a day—with the city celebrating Dussehra with much fervour. Also defeated were the…',\n",
       " 'NEW DELHI: Breaking away from the tradition, Prime Minister Narendra Modi attended the historic Ramlila celebrations in Lucknow on…',\n",
       " 'Indore,  Ravichandran Ashwin mesmerised the New Zealand batsmen with another magical spell of spin bowling as India completed a…',\n",
       " 'Filmmaker Vijay knows his limitations and doesn’t meddle with subjects he’s not comfortable with. He has successfully warded off…',\n",
       " \"NEW DELHI: India's coal output will miss government's ambitious target of self sufficiency on the back of delays in opening up of…\"]"
      ]
     },
     "execution_count": 12,
     "metadata": {},
     "output_type": "execute_result"
    }
   ],
   "source": [
    "for i in desc_tags:\n",
    "    \n",
    "    title=i.text\n",
    "    description.append(title)\n",
    "description[0:10]"
   ]
  },
  {
   "cell_type": "code",
   "execution_count": 13,
   "metadata": {},
   "outputs": [
    {
     "name": "stdout",
     "output_type": "stream",
     "text": [
      "10 10 10\n"
     ]
    }
   ],
   "source": [
    "print(len(news_titles),len(date),len(description))"
   ]
  },
  {
   "cell_type": "code",
   "execution_count": 14,
   "metadata": {},
   "outputs": [],
   "source": [
    "import pandas as pd\n",
    "news=pd.DataFrame({})\n",
    "news['title']=news_titles[0:10]\n",
    "news['date']=date[0:10]\n",
    "news['desc']=description[0:10]"
   ]
  },
  {
   "cell_type": "code",
   "execution_count": 15,
   "metadata": {},
   "outputs": [
    {
     "data": {
      "text/html": [
       "<div>\n",
       "<style scoped>\n",
       "    .dataframe tbody tr th:only-of-type {\n",
       "        vertical-align: middle;\n",
       "    }\n",
       "\n",
       "    .dataframe tbody tr th {\n",
       "        vertical-align: top;\n",
       "    }\n",
       "\n",
       "    .dataframe thead th {\n",
       "        text-align: right;\n",
       "    }\n",
       "</style>\n",
       "<table border=\"1\" class=\"dataframe\">\n",
       "  <thead>\n",
       "    <tr style=\"text-align: right;\">\n",
       "      <th></th>\n",
       "      <th>title</th>\n",
       "      <th>date</th>\n",
       "      <th>desc</th>\n",
       "    </tr>\n",
       "  </thead>\n",
       "  <tbody>\n",
       "    <tr>\n",
       "      <th>0</th>\n",
       "      <td>Post festival, garbage haunts Bengalureans\\nEB...</td>\n",
       "      <td>Oct 12, 2016</td>\n",
       "      <td>BENGALURU: Mounds of uncleared garbage are bac...</td>\n",
       "    </tr>\n",
       "    <tr>\n",
       "      <th>1</th>\n",
       "      <td>Don Trumped by Hillary, rants against deserter...</td>\n",
       "      <td>Oct 12, 2016</td>\n",
       "      <td>The sexist remarks have started taking their t...</td>\n",
       "    </tr>\n",
       "    <tr>\n",
       "      <th>2</th>\n",
       "      <td>Putin wants athletes with drug exemptions to c...</td>\n",
       "      <td>Oct 12, 2016</td>\n",
       "      <td>Vladimir Putin yesterday called for athletes w...</td>\n",
       "    </tr>\n",
       "    <tr>\n",
       "      <th>3</th>\n",
       "      <td>For Army snipers on LoC, ‘Dushman Sikaar, Hum ...</td>\n",
       "      <td>Oct 12, 2016</td>\n",
       "      <td>NOUSHERA: For Army snipers donning the camoufl...</td>\n",
       "    </tr>\n",
       "    <tr>\n",
       "      <th>4</th>\n",
       "      <td>Cheap paints, thermocol pose threat to Yamuna\\...</td>\n",
       "      <td>Oct 12, 2016</td>\n",
       "      <td>NEW DELHI: With hundreds of Puja committees re...</td>\n",
       "    </tr>\n",
       "    <tr>\n",
       "      <th>5</th>\n",
       "      <td>Evil dead: Delhi takes home message of peace\\n...</td>\n",
       "      <td>Oct 12, 2016</td>\n",
       "      <td>over evil once again—even if it was for just a...</td>\n",
       "    </tr>\n",
       "    <tr>\n",
       "      <th>6</th>\n",
       "      <td>Pakistan terror is PM Modi’s Ravana\\nEBM News ...</td>\n",
       "      <td>Oct 12, 2016</td>\n",
       "      <td>NEW DELHI: Breaking away from the tradition, P...</td>\n",
       "    </tr>\n",
       "    <tr>\n",
       "      <th>7</th>\n",
       "      <td>India complete clean sweep with another emphat...</td>\n",
       "      <td>Oct 11, 2016</td>\n",
       "      <td>Indore,  Ravichandran Ashwin mesmerised the Ne...</td>\n",
       "    </tr>\n",
       "    <tr>\n",
       "      <th>8</th>\n",
       "      <td>‘Films that are close to reality always succee...</td>\n",
       "      <td>Oct 11, 2016</td>\n",
       "      <td>Filmmaker Vijay knows his limitations and does...</td>\n",
       "    </tr>\n",
       "    <tr>\n",
       "      <th>9</th>\n",
       "      <td>Coal output to miss government’s target of sel...</td>\n",
       "      <td>Oct 11, 2016</td>\n",
       "      <td>NEW DELHI: India's coal output will miss gover...</td>\n",
       "    </tr>\n",
       "  </tbody>\n",
       "</table>\n",
       "</div>"
      ],
      "text/plain": [
       "                                               title          date  \\\n",
       "0  Post festival, garbage haunts Bengalureans\\nEB...  Oct 12, 2016   \n",
       "1  Don Trumped by Hillary, rants against deserter...  Oct 12, 2016   \n",
       "2  Putin wants athletes with drug exemptions to c...  Oct 12, 2016   \n",
       "3  For Army snipers on LoC, ‘Dushman Sikaar, Hum ...  Oct 12, 2016   \n",
       "4  Cheap paints, thermocol pose threat to Yamuna\\...  Oct 12, 2016   \n",
       "5  Evil dead: Delhi takes home message of peace\\n...  Oct 12, 2016   \n",
       "6  Pakistan terror is PM Modi’s Ravana\\nEBM News ...  Oct 12, 2016   \n",
       "7  India complete clean sweep with another emphat...  Oct 11, 2016   \n",
       "8  ‘Films that are close to reality always succee...  Oct 11, 2016   \n",
       "9  Coal output to miss government’s target of sel...  Oct 11, 2016   \n",
       "\n",
       "                                                desc  \n",
       "0  BENGALURU: Mounds of uncleared garbage are bac...  \n",
       "1  The sexist remarks have started taking their t...  \n",
       "2  Vladimir Putin yesterday called for athletes w...  \n",
       "3  NOUSHERA: For Army snipers donning the camoufl...  \n",
       "4  NEW DELHI: With hundreds of Puja committees re...  \n",
       "5  over evil once again—even if it was for just a...  \n",
       "6  NEW DELHI: Breaking away from the tradition, P...  \n",
       "7  Indore,  Ravichandran Ashwin mesmerised the Ne...  \n",
       "8  Filmmaker Vijay knows his limitations and does...  \n",
       "9  NEW DELHI: India's coal output will miss gover...  "
      ]
     },
     "execution_count": 15,
     "metadata": {},
     "output_type": "execute_result"
    }
   ],
   "source": [
    "news"
   ]
  },
  {
   "cell_type": "code",
   "execution_count": null,
   "metadata": {},
   "outputs": [],
   "source": []
  }
 ],
 "metadata": {
  "kernelspec": {
   "display_name": "Python 3",
   "language": "python",
   "name": "python3"
  },
  "language_info": {
   "codemirror_mode": {
    "name": "ipython",
    "version": 3
   },
   "file_extension": ".py",
   "mimetype": "text/x-python",
   "name": "python",
   "nbconvert_exporter": "python",
   "pygments_lexer": "ipython3",
   "version": "3.7.6"
  }
 },
 "nbformat": 4,
 "nbformat_minor": 4
}
