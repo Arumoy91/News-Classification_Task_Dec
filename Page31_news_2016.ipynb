{
 "cells": [
  {
   "cell_type": "code",
   "execution_count": 1,
   "metadata": {},
   "outputs": [],
   "source": [
    "import selenium"
   ]
  },
  {
   "cell_type": "code",
   "execution_count": 2,
   "metadata": {},
   "outputs": [],
   "source": [
    "import pandas as pd\n",
    "from selenium import webdriver"
   ]
  },
  {
   "cell_type": "code",
   "execution_count": 3,
   "metadata": {},
   "outputs": [],
   "source": [
    "driver=webdriver.Chrome(\"C:\\chromedriver.exe\")"
   ]
  },
  {
   "cell_type": "code",
   "execution_count": 4,
   "metadata": {},
   "outputs": [],
   "source": [
    "driver.get('https://www.ebmnews.com/2016/page/31/')"
   ]
  },
  {
   "cell_type": "code",
   "execution_count": 5,
   "metadata": {},
   "outputs": [],
   "source": [
    "news_titles=[]\n",
    "date=[]\n",
    "description=[]"
   ]
  },
  {
   "cell_type": "code",
   "execution_count": 6,
   "metadata": {},
   "outputs": [
    {
     "data": {
      "text/plain": [
       "[<selenium.webdriver.remote.webelement.WebElement (session=\"edec412ee73b1a0d34fa6f3ecafd770d\", element=\"bcbea899-eaaf-4f7b-b19b-642db8fbe8db\")>,\n",
       " <selenium.webdriver.remote.webelement.WebElement (session=\"edec412ee73b1a0d34fa6f3ecafd770d\", element=\"21f5cf3b-7ed8-4c7e-8330-98ba1c85d05b\")>,\n",
       " <selenium.webdriver.remote.webelement.WebElement (session=\"edec412ee73b1a0d34fa6f3ecafd770d\", element=\"fcfe9ad9-1830-4f1d-8ca3-b2430da79730\")>,\n",
       " <selenium.webdriver.remote.webelement.WebElement (session=\"edec412ee73b1a0d34fa6f3ecafd770d\", element=\"d7dca9c7-35e6-47ce-85ba-c1a5d359a168\")>,\n",
       " <selenium.webdriver.remote.webelement.WebElement (session=\"edec412ee73b1a0d34fa6f3ecafd770d\", element=\"7b22b7b8-97a2-40b9-85dd-a9dba2373121\")>,\n",
       " <selenium.webdriver.remote.webelement.WebElement (session=\"edec412ee73b1a0d34fa6f3ecafd770d\", element=\"137bacd7-fa86-45bf-9480-ccb94f644c0e\")>,\n",
       " <selenium.webdriver.remote.webelement.WebElement (session=\"edec412ee73b1a0d34fa6f3ecafd770d\", element=\"dcc14f39-3969-4f0e-ad46-c99cfbabb471\")>,\n",
       " <selenium.webdriver.remote.webelement.WebElement (session=\"edec412ee73b1a0d34fa6f3ecafd770d\", element=\"6ea319f7-3e3c-41a0-be85-fd1e25c61988\")>,\n",
       " <selenium.webdriver.remote.webelement.WebElement (session=\"edec412ee73b1a0d34fa6f3ecafd770d\", element=\"ce3bbf4d-969e-4e9f-997c-76b582e0ef4f\")>,\n",
       " <selenium.webdriver.remote.webelement.WebElement (session=\"edec412ee73b1a0d34fa6f3ecafd770d\", element=\"cc1066fa-b22e-472b-b5f0-f7803a62d8a9\")>]"
      ]
     },
     "execution_count": 6,
     "metadata": {},
     "output_type": "execute_result"
    }
   ],
   "source": [
    "title_tags=driver.find_elements_by_xpath(\"//div[@class='item-inner clearfix']\")\n",
    "title_tags[0:10]"
   ]
  },
  {
   "cell_type": "code",
   "execution_count": 7,
   "metadata": {},
   "outputs": [
    {
     "data": {
      "text/plain": [
       "['India, Singapore to step up anti-terror, economic cooperation\\nEBM News English Oct 4, 2016\\nNEW DELHI: India and Singapore today decided to strengthen cooperation in countering threats of rising terrorism with Prime…',\n",
       " 'Pope Francis makes surprise visit to quake zone\\nEBM News English Oct 4, 2016\\nVATICAN CITY:  Pope Francis has made a surprise visit to site of the devastating August earthquake in central Italy, praying…',\n",
       " 'UAVs seen close to Indo-Pak border; tension prevailing: BSF\\nEBM News English Oct 4, 2016\\nNew Delhi, The BSF today said \"tension\" prevails along the western front in the wake of surgical strikes conducted by Indian…',\n",
       " 'Malaysia military helicopter crashes into school, 22 injured\\nEBM News English Oct 4, 2016\\nKuala Lumpur,  Malaysian authorities say a military helicopter crashed into a school in a rural area on Borneo island, injuring at…',\n",
       " 'Film on child trafficking for the Chennai audience\\nEBM News English Oct 4, 2016\\nMalaysia-based director SD Puvanendran, who has assisted biggies like Mohan Raja and Nesan, is looking forward to launch his film…',\n",
       " 'Meet the dancer\\nEBM News English Oct 4, 2016\\nPadmapriya is not a novice on stage. In fact, her first tryst with jatis and tillanas happened long back. And, by the time she…',\n",
       " '‘Ae Dil Hai Mushkil’ cast all praise for KJo\\nEBM News English Oct 4, 2016\\nNEW DELHI: Looks like Karan Johar is gathering loads of praises from the cast and crew of his upcoming flick ‘Ae Dil Hai Mushkil.’…',\n",
       " 'Official release on CM’s health will reduce anxiety: HC\\nEBM News English Oct 4, 2016\\nChennai,  Official release with regard to the health condition of Chief Minister J Jayalalithaa, who has been undergoing treatment…',\n",
       " 'RBI cuts key rate by 0.25% to 6-year low\\nEBM News English Oct 4, 2016\\nMumbai,  In the first monetary policy review under RBI Governor Urjit Patel, the interest rate was today cut by 0.25 per cent to…',\n",
       " 'AIADMK MPs meet PM Modi, ask Centre to be neutral and fair to all States\\nEBM News English Oct 4, 2016\\nCHENNAI: A delegation of AIADMK MPs led by Deputy Speaker of Lok Sabha, M Thambidurai on Tuesday submitted a memorandum to Prime…']"
      ]
     },
     "execution_count": 7,
     "metadata": {},
     "output_type": "execute_result"
    }
   ],
   "source": [
    "for i in title_tags:\n",
    "    \n",
    "    title=i.text\n",
    "    news_titles.append(title)\n",
    "news_titles[0:10]"
   ]
  },
  {
   "cell_type": "code",
   "execution_count": 8,
   "metadata": {},
   "outputs": [
    {
     "data": {
      "text/plain": [
       "[<selenium.webdriver.remote.webelement.WebElement (session=\"edec412ee73b1a0d34fa6f3ecafd770d\", element=\"bbd8971b-5170-446a-a38e-5105db60bb23\")>,\n",
       " <selenium.webdriver.remote.webelement.WebElement (session=\"edec412ee73b1a0d34fa6f3ecafd770d\", element=\"e0a52900-ae4c-4ba3-b5e4-396676495212\")>,\n",
       " <selenium.webdriver.remote.webelement.WebElement (session=\"edec412ee73b1a0d34fa6f3ecafd770d\", element=\"5f22ea5b-3f98-476c-9479-752ff47af616\")>,\n",
       " <selenium.webdriver.remote.webelement.WebElement (session=\"edec412ee73b1a0d34fa6f3ecafd770d\", element=\"6c4f18b2-92f1-4540-8f07-c9ae4abe2cd5\")>,\n",
       " <selenium.webdriver.remote.webelement.WebElement (session=\"edec412ee73b1a0d34fa6f3ecafd770d\", element=\"cd32e04c-d158-4f83-a448-246e9619373a\")>,\n",
       " <selenium.webdriver.remote.webelement.WebElement (session=\"edec412ee73b1a0d34fa6f3ecafd770d\", element=\"6d083491-11ea-4678-ac8a-c9b18efc9ce1\")>,\n",
       " <selenium.webdriver.remote.webelement.WebElement (session=\"edec412ee73b1a0d34fa6f3ecafd770d\", element=\"cb6f05e2-c2cc-4e5b-93d5-e660ead13318\")>,\n",
       " <selenium.webdriver.remote.webelement.WebElement (session=\"edec412ee73b1a0d34fa6f3ecafd770d\", element=\"43ac38b2-4c95-41a8-8e07-403587167233\")>,\n",
       " <selenium.webdriver.remote.webelement.WebElement (session=\"edec412ee73b1a0d34fa6f3ecafd770d\", element=\"42a0dd29-f464-4d3b-9a52-161f98ce2280\")>,\n",
       " <selenium.webdriver.remote.webelement.WebElement (session=\"edec412ee73b1a0d34fa6f3ecafd770d\", element=\"3ebdab21-0d93-4fa0-91c7-39bc83303188\")>]"
      ]
     },
     "execution_count": 8,
     "metadata": {},
     "output_type": "execute_result"
    }
   ],
   "source": [
    "date_tags=driver.find_elements_by_xpath(\"//span[@class='time']\")\n",
    "date_tags[0:10]"
   ]
  },
  {
   "cell_type": "code",
   "execution_count": 9,
   "metadata": {},
   "outputs": [
    {
     "data": {
      "text/plain": [
       "['Oct 4, 2016',\n",
       " 'Oct 4, 2016',\n",
       " 'Oct 4, 2016',\n",
       " 'Oct 4, 2016',\n",
       " 'Oct 4, 2016',\n",
       " 'Oct 4, 2016',\n",
       " 'Oct 4, 2016',\n",
       " 'Oct 4, 2016',\n",
       " 'Oct 4, 2016',\n",
       " 'Oct 4, 2016']"
      ]
     },
     "execution_count": 9,
     "metadata": {},
     "output_type": "execute_result"
    }
   ],
   "source": [
    "for i in date_tags:\n",
    "    \n",
    "    title=i.text\n",
    "    date.append(title)\n",
    "date[0:10]"
   ]
  },
  {
   "cell_type": "code",
   "execution_count": 10,
   "metadata": {},
   "outputs": [
    {
     "data": {
      "text/plain": [
       "[<selenium.webdriver.remote.webelement.WebElement (session=\"edec412ee73b1a0d34fa6f3ecafd770d\", element=\"db61957b-3224-4917-aa17-11051c68c4dc\")>,\n",
       " <selenium.webdriver.remote.webelement.WebElement (session=\"edec412ee73b1a0d34fa6f3ecafd770d\", element=\"c4439b1b-4512-4aec-98a7-2e63cadc53df\")>,\n",
       " <selenium.webdriver.remote.webelement.WebElement (session=\"edec412ee73b1a0d34fa6f3ecafd770d\", element=\"28716817-49ee-4ea0-b6db-08971a0798fe\")>,\n",
       " <selenium.webdriver.remote.webelement.WebElement (session=\"edec412ee73b1a0d34fa6f3ecafd770d\", element=\"cc239a57-d551-4c63-9afa-ba2f938d113d\")>,\n",
       " <selenium.webdriver.remote.webelement.WebElement (session=\"edec412ee73b1a0d34fa6f3ecafd770d\", element=\"1ca1e793-f72d-4f3d-a29f-371be08ce7d6\")>,\n",
       " <selenium.webdriver.remote.webelement.WebElement (session=\"edec412ee73b1a0d34fa6f3ecafd770d\", element=\"a3fa38ec-c91b-44c1-8db4-bd2e8fc8eba5\")>,\n",
       " <selenium.webdriver.remote.webelement.WebElement (session=\"edec412ee73b1a0d34fa6f3ecafd770d\", element=\"069c83a1-3c6e-411e-94d2-c8f1d60a4a22\")>,\n",
       " <selenium.webdriver.remote.webelement.WebElement (session=\"edec412ee73b1a0d34fa6f3ecafd770d\", element=\"a87a3560-e49a-432b-a36a-65d9f605c211\")>,\n",
       " <selenium.webdriver.remote.webelement.WebElement (session=\"edec412ee73b1a0d34fa6f3ecafd770d\", element=\"6fb9a814-911c-4f48-b4af-6f587b94c709\")>,\n",
       " <selenium.webdriver.remote.webelement.WebElement (session=\"edec412ee73b1a0d34fa6f3ecafd770d\", element=\"200e0416-9630-4bce-9cac-5c7d773cb027\")>]"
      ]
     },
     "execution_count": 10,
     "metadata": {},
     "output_type": "execute_result"
    }
   ],
   "source": [
    "desc_tags=driver.find_elements_by_xpath(\"//div[@class='post-summary']\")\n",
    "desc_tags[0:10]"
   ]
  },
  {
   "cell_type": "code",
   "execution_count": 11,
   "metadata": {},
   "outputs": [
    {
     "data": {
      "text/plain": [
       "['NEW DELHI: India and Singapore today decided to strengthen cooperation in countering threats of rising terrorism with Prime…',\n",
       " 'VATICAN CITY:  Pope Francis has made a surprise visit to site of the devastating August earthquake in central Italy, praying…',\n",
       " 'New Delhi, The BSF today said \"tension\" prevails along the western front in the wake of surgical strikes conducted by Indian…',\n",
       " 'Kuala Lumpur,  Malaysian authorities say a military helicopter crashed into a school in a rural area on Borneo island, injuring at…',\n",
       " 'Malaysia-based director SD Puvanendran, who has assisted biggies like Mohan Raja and Nesan, is looking forward to launch his film…',\n",
       " 'Padmapriya is not a novice on stage. In fact, her first tryst with jatis and tillanas happened long back. And, by the time she…',\n",
       " 'NEW DELHI: Looks like Karan Johar is gathering loads of praises from the cast and crew of his upcoming flick ‘Ae Dil Hai Mushkil.’…',\n",
       " 'Chennai,  Official release with regard to the health condition of Chief Minister J Jayalalithaa, who has been undergoing treatment…',\n",
       " 'Mumbai,  In the first monetary policy review under RBI Governor Urjit Patel, the interest rate was today cut by 0.25 per cent to…',\n",
       " 'CHENNAI: A delegation of AIADMK MPs led by Deputy Speaker of Lok Sabha, M Thambidurai on Tuesday submitted a memorandum to Prime…']"
      ]
     },
     "execution_count": 11,
     "metadata": {},
     "output_type": "execute_result"
    }
   ],
   "source": [
    "for i in desc_tags:\n",
    "    \n",
    "    title=i.text\n",
    "    description.append(title)\n",
    "description[0:10]"
   ]
  },
  {
   "cell_type": "code",
   "execution_count": 12,
   "metadata": {},
   "outputs": [
    {
     "name": "stdout",
     "output_type": "stream",
     "text": [
      "10 10 10\n"
     ]
    }
   ],
   "source": [
    "print(len(news_titles),len(date),len(description))"
   ]
  },
  {
   "cell_type": "code",
   "execution_count": 13,
   "metadata": {},
   "outputs": [],
   "source": [
    "import pandas as pd\n",
    "news=pd.DataFrame({})\n",
    "news['title']=news_titles[0:10]\n",
    "news['date']=date[0:10]\n",
    "news['desc']=description[0:10]"
   ]
  },
  {
   "cell_type": "code",
   "execution_count": 14,
   "metadata": {},
   "outputs": [
    {
     "data": {
      "text/html": [
       "<div>\n",
       "<style scoped>\n",
       "    .dataframe tbody tr th:only-of-type {\n",
       "        vertical-align: middle;\n",
       "    }\n",
       "\n",
       "    .dataframe tbody tr th {\n",
       "        vertical-align: top;\n",
       "    }\n",
       "\n",
       "    .dataframe thead th {\n",
       "        text-align: right;\n",
       "    }\n",
       "</style>\n",
       "<table border=\"1\" class=\"dataframe\">\n",
       "  <thead>\n",
       "    <tr style=\"text-align: right;\">\n",
       "      <th></th>\n",
       "      <th>title</th>\n",
       "      <th>date</th>\n",
       "      <th>desc</th>\n",
       "    </tr>\n",
       "  </thead>\n",
       "  <tbody>\n",
       "    <tr>\n",
       "      <th>0</th>\n",
       "      <td>India, Singapore to step up anti-terror, econo...</td>\n",
       "      <td>Oct 4, 2016</td>\n",
       "      <td>NEW DELHI: India and Singapore today decided t...</td>\n",
       "    </tr>\n",
       "    <tr>\n",
       "      <th>1</th>\n",
       "      <td>Pope Francis makes surprise visit to quake zon...</td>\n",
       "      <td>Oct 4, 2016</td>\n",
       "      <td>VATICAN CITY:  Pope Francis has made a surpris...</td>\n",
       "    </tr>\n",
       "    <tr>\n",
       "      <th>2</th>\n",
       "      <td>UAVs seen close to Indo-Pak border; tension pr...</td>\n",
       "      <td>Oct 4, 2016</td>\n",
       "      <td>New Delhi, The BSF today said \"tension\" prevai...</td>\n",
       "    </tr>\n",
       "    <tr>\n",
       "      <th>3</th>\n",
       "      <td>Malaysia military helicopter crashes into scho...</td>\n",
       "      <td>Oct 4, 2016</td>\n",
       "      <td>Kuala Lumpur,  Malaysian authorities say a mil...</td>\n",
       "    </tr>\n",
       "    <tr>\n",
       "      <th>4</th>\n",
       "      <td>Film on child trafficking for the Chennai audi...</td>\n",
       "      <td>Oct 4, 2016</td>\n",
       "      <td>Malaysia-based director SD Puvanendran, who ha...</td>\n",
       "    </tr>\n",
       "    <tr>\n",
       "      <th>5</th>\n",
       "      <td>Meet the dancer\\nEBM News English Oct 4, 2016\\...</td>\n",
       "      <td>Oct 4, 2016</td>\n",
       "      <td>Padmapriya is not a novice on stage. In fact, ...</td>\n",
       "    </tr>\n",
       "    <tr>\n",
       "      <th>6</th>\n",
       "      <td>‘Ae Dil Hai Mushkil’ cast all praise for KJo\\n...</td>\n",
       "      <td>Oct 4, 2016</td>\n",
       "      <td>NEW DELHI: Looks like Karan Johar is gathering...</td>\n",
       "    </tr>\n",
       "    <tr>\n",
       "      <th>7</th>\n",
       "      <td>Official release on CM’s health will reduce an...</td>\n",
       "      <td>Oct 4, 2016</td>\n",
       "      <td>Chennai,  Official release with regard to the ...</td>\n",
       "    </tr>\n",
       "    <tr>\n",
       "      <th>8</th>\n",
       "      <td>RBI cuts key rate by 0.25% to 6-year low\\nEBM ...</td>\n",
       "      <td>Oct 4, 2016</td>\n",
       "      <td>Mumbai,  In the first monetary policy review u...</td>\n",
       "    </tr>\n",
       "    <tr>\n",
       "      <th>9</th>\n",
       "      <td>AIADMK MPs meet PM Modi, ask Centre to be neut...</td>\n",
       "      <td>Oct 4, 2016</td>\n",
       "      <td>CHENNAI: A delegation of AIADMK MPs led by Dep...</td>\n",
       "    </tr>\n",
       "  </tbody>\n",
       "</table>\n",
       "</div>"
      ],
      "text/plain": [
       "                                               title         date  \\\n",
       "0  India, Singapore to step up anti-terror, econo...  Oct 4, 2016   \n",
       "1  Pope Francis makes surprise visit to quake zon...  Oct 4, 2016   \n",
       "2  UAVs seen close to Indo-Pak border; tension pr...  Oct 4, 2016   \n",
       "3  Malaysia military helicopter crashes into scho...  Oct 4, 2016   \n",
       "4  Film on child trafficking for the Chennai audi...  Oct 4, 2016   \n",
       "5  Meet the dancer\\nEBM News English Oct 4, 2016\\...  Oct 4, 2016   \n",
       "6  ‘Ae Dil Hai Mushkil’ cast all praise for KJo\\n...  Oct 4, 2016   \n",
       "7  Official release on CM’s health will reduce an...  Oct 4, 2016   \n",
       "8  RBI cuts key rate by 0.25% to 6-year low\\nEBM ...  Oct 4, 2016   \n",
       "9  AIADMK MPs meet PM Modi, ask Centre to be neut...  Oct 4, 2016   \n",
       "\n",
       "                                                desc  \n",
       "0  NEW DELHI: India and Singapore today decided t...  \n",
       "1  VATICAN CITY:  Pope Francis has made a surpris...  \n",
       "2  New Delhi, The BSF today said \"tension\" prevai...  \n",
       "3  Kuala Lumpur,  Malaysian authorities say a mil...  \n",
       "4  Malaysia-based director SD Puvanendran, who ha...  \n",
       "5  Padmapriya is not a novice on stage. In fact, ...  \n",
       "6  NEW DELHI: Looks like Karan Johar is gathering...  \n",
       "7  Chennai,  Official release with regard to the ...  \n",
       "8  Mumbai,  In the first monetary policy review u...  \n",
       "9  CHENNAI: A delegation of AIADMK MPs led by Dep...  "
      ]
     },
     "execution_count": 14,
     "metadata": {},
     "output_type": "execute_result"
    }
   ],
   "source": [
    "news"
   ]
  },
  {
   "cell_type": "code",
   "execution_count": null,
   "metadata": {},
   "outputs": [],
   "source": []
  }
 ],
 "metadata": {
  "kernelspec": {
   "display_name": "Python 3",
   "language": "python",
   "name": "python3"
  },
  "language_info": {
   "codemirror_mode": {
    "name": "ipython",
    "version": 3
   },
   "file_extension": ".py",
   "mimetype": "text/x-python",
   "name": "python",
   "nbconvert_exporter": "python",
   "pygments_lexer": "ipython3",
   "version": "3.7.6"
  }
 },
 "nbformat": 4,
 "nbformat_minor": 4
}
