{
 "cells": [
  {
   "cell_type": "code",
   "execution_count": 1,
   "metadata": {},
   "outputs": [],
   "source": [
    "import selenium"
   ]
  },
  {
   "cell_type": "code",
   "execution_count": 2,
   "metadata": {},
   "outputs": [],
   "source": [
    "import pandas as pd\n",
    "from selenium import webdriver"
   ]
  },
  {
   "cell_type": "code",
   "execution_count": 3,
   "metadata": {},
   "outputs": [],
   "source": [
    "driver=webdriver.Chrome(\"C:\\chromedriver.exe\")"
   ]
  },
  {
   "cell_type": "code",
   "execution_count": 4,
   "metadata": {},
   "outputs": [],
   "source": [
    "driver.get('https://www.ebmnews.com/2016/page/7/')"
   ]
  },
  {
   "cell_type": "code",
   "execution_count": 5,
   "metadata": {},
   "outputs": [],
   "source": [
    "news_titles=[]\n",
    "date=[]\n",
    "description=[]"
   ]
  },
  {
   "cell_type": "code",
   "execution_count": 6,
   "metadata": {},
   "outputs": [
    {
     "data": {
      "text/plain": [
       "[<selenium.webdriver.remote.webelement.WebElement (session=\"b8a225d1098af06963c2f94f3c3ae996\", element=\"9a9b8731-d45a-4674-97aa-b4006808fad4\")>,\n",
       " <selenium.webdriver.remote.webelement.WebElement (session=\"b8a225d1098af06963c2f94f3c3ae996\", element=\"3cf77447-3bf8-4a68-82ea-bb44297eae3d\")>,\n",
       " <selenium.webdriver.remote.webelement.WebElement (session=\"b8a225d1098af06963c2f94f3c3ae996\", element=\"14467ce8-2648-4ea8-aa3e-b3a8ea4ebcc6\")>,\n",
       " <selenium.webdriver.remote.webelement.WebElement (session=\"b8a225d1098af06963c2f94f3c3ae996\", element=\"62635b40-d7ed-4e41-a1a5-d90d112c25e8\")>,\n",
       " <selenium.webdriver.remote.webelement.WebElement (session=\"b8a225d1098af06963c2f94f3c3ae996\", element=\"2a6b0f78-0ca3-478a-b6b0-8696ffb466b8\")>,\n",
       " <selenium.webdriver.remote.webelement.WebElement (session=\"b8a225d1098af06963c2f94f3c3ae996\", element=\"a68cae57-7625-417b-9b68-98f5c3245278\")>,\n",
       " <selenium.webdriver.remote.webelement.WebElement (session=\"b8a225d1098af06963c2f94f3c3ae996\", element=\"c1637975-1345-41c8-a6d5-9c627ca419ca\")>,\n",
       " <selenium.webdriver.remote.webelement.WebElement (session=\"b8a225d1098af06963c2f94f3c3ae996\", element=\"ffad7d3f-4a91-4858-aa8f-f0707c949e47\")>,\n",
       " <selenium.webdriver.remote.webelement.WebElement (session=\"b8a225d1098af06963c2f94f3c3ae996\", element=\"c0b387c1-a474-401f-97a9-887c77a256e5\")>,\n",
       " <selenium.webdriver.remote.webelement.WebElement (session=\"b8a225d1098af06963c2f94f3c3ae996\", element=\"d5945aec-b585-4465-b0dc-3913eb1b3640\")>]"
      ]
     },
     "execution_count": 6,
     "metadata": {},
     "output_type": "execute_result"
    }
   ],
   "source": [
    "title_tags=driver.find_elements_by_xpath(\"//div[@class='item-inner clearfix']\")\n",
    "title_tags[0:10]"
   ]
  },
  {
   "cell_type": "code",
   "execution_count": 7,
   "metadata": {},
   "outputs": [
    {
     "data": {
      "text/plain": [
       "['‘Four PSBs may struggle to pay bond coupons’\\nEBM News English Oct 13, 2016\\nFour public sector banks that had reported heavy losses due to a surge in bad loans may struggle to make coupon payments on their…',\n",
       " 'ABB to electrify Indian buses\\nEBM News English Oct 13, 2016\\nSwiss power and automation technology group ABB has drawn up plans for India to become a fully electric vehicle nation by 2030,…',\n",
       " 'A bigger ‘Tipu Jayanti’ on the cards this year\\nEBM News English Oct 13, 2016\\nKarnataka’s Congress government has made a fresh move to affirm its position that Tipu Sultan, the 18th century Mysuru ruler, is a…',\n",
       " 'Missing Delhi boy found in Jammu\\nEBM News English Oct 13, 2016\\nThree days after he went missing outside his aunt’s home in South Delhi’s Moti Bagh area, a six-year-old boy was safely recovered…',\n",
       " 'BJP unmoved by Shiv Sena threat\\nEBM News English Oct 13, 2016\\nShiv Sena chief Uddhav Thackeray’s challenge to the BJP to break off its alliance with the party ahead of the Brihanmumbai…',\n",
       " 'Rabri responsible for RSS uniform change, says Lalu\\nEBM News English Oct 13, 2016\\nRJD president Lalu Prasad on Wednesday credited his wife Rabri Devi with making the RSS opt for trousers after shedding the…',\n",
       " 'BJP to hit UP election campaign trail in early November\\nEBM News English Oct 13, 2016\\nAfter Prime Minister Narendra Modi’s visit to Lucknow for Vijayadashami on Tuesday, the BJP is planning road shows and yatras…',\n",
       " 'Congress begins farmer outreach campaign in Punjab\\nEBM News English Oct 13, 2016\\nAhead of the Assembly elections that are due in early 2017, the Punjab Congress on Wednesday launched its door-to-door drive…',\n",
       " 'Trump says he will scrap Paris climate deal if voted to power\\nEBM News English Oct 13, 2016\\nUnited States presidential nominee Donald Trump has said he will cancel the historic Paris climate deal if voted to power, as the…',\n",
       " 'Tension mounts between Russia, West over Syria\\nEBM News English Oct 13, 2016\\nThe war of words between Russia and Western countries continued on Wednesday, a day after President Vladimir Putin cancelled a…']"
      ]
     },
     "execution_count": 7,
     "metadata": {},
     "output_type": "execute_result"
    }
   ],
   "source": [
    "for i in title_tags:\n",
    "    \n",
    "    title=i.text\n",
    "    news_titles.append(title)\n",
    "news_titles[0:10]"
   ]
  },
  {
   "cell_type": "code",
   "execution_count": 8,
   "metadata": {},
   "outputs": [
    {
     "data": {
      "text/plain": [
       "[<selenium.webdriver.remote.webelement.WebElement (session=\"b8a225d1098af06963c2f94f3c3ae996\", element=\"ab97cf0a-c1c3-4448-9c29-6d28d5cb0b55\")>,\n",
       " <selenium.webdriver.remote.webelement.WebElement (session=\"b8a225d1098af06963c2f94f3c3ae996\", element=\"ba42ea56-60ab-4080-86f9-c3fc2d091b15\")>,\n",
       " <selenium.webdriver.remote.webelement.WebElement (session=\"b8a225d1098af06963c2f94f3c3ae996\", element=\"f7b97521-9a19-4bf9-b773-2830cb841ec4\")>,\n",
       " <selenium.webdriver.remote.webelement.WebElement (session=\"b8a225d1098af06963c2f94f3c3ae996\", element=\"11437000-16b4-4a63-a3bb-ff53633ed72e\")>,\n",
       " <selenium.webdriver.remote.webelement.WebElement (session=\"b8a225d1098af06963c2f94f3c3ae996\", element=\"246ab311-0e68-4a2a-a959-a41c2ed843ef\")>,\n",
       " <selenium.webdriver.remote.webelement.WebElement (session=\"b8a225d1098af06963c2f94f3c3ae996\", element=\"abf98418-9fc4-4515-ade1-c092f21e1706\")>,\n",
       " <selenium.webdriver.remote.webelement.WebElement (session=\"b8a225d1098af06963c2f94f3c3ae996\", element=\"7f84ce3f-c84b-4c69-9bd3-e3b3dd599464\")>,\n",
       " <selenium.webdriver.remote.webelement.WebElement (session=\"b8a225d1098af06963c2f94f3c3ae996\", element=\"b1624861-9860-4be9-928f-b8b68629116a\")>,\n",
       " <selenium.webdriver.remote.webelement.WebElement (session=\"b8a225d1098af06963c2f94f3c3ae996\", element=\"3b84b231-ef72-43c9-97fa-311bfdee24d6\")>,\n",
       " <selenium.webdriver.remote.webelement.WebElement (session=\"b8a225d1098af06963c2f94f3c3ae996\", element=\"a707be4f-6dc6-4697-8c78-4ac11b223480\")>]"
      ]
     },
     "execution_count": 8,
     "metadata": {},
     "output_type": "execute_result"
    }
   ],
   "source": [
    "date_tags=driver.find_elements_by_xpath(\"//span[@class='time']\")\n",
    "date_tags[0:10]"
   ]
  },
  {
   "cell_type": "code",
   "execution_count": 9,
   "metadata": {},
   "outputs": [
    {
     "data": {
      "text/plain": [
       "['Oct 13, 2016',\n",
       " 'Oct 13, 2016',\n",
       " 'Oct 13, 2016',\n",
       " 'Oct 13, 2016',\n",
       " 'Oct 13, 2016',\n",
       " 'Oct 13, 2016',\n",
       " 'Oct 13, 2016',\n",
       " 'Oct 13, 2016',\n",
       " 'Oct 13, 2016',\n",
       " 'Oct 13, 2016']"
      ]
     },
     "execution_count": 9,
     "metadata": {},
     "output_type": "execute_result"
    }
   ],
   "source": [
    "for i in date_tags:\n",
    "    \n",
    "    title=i.text\n",
    "    date.append(title)\n",
    "date[0:10]"
   ]
  },
  {
   "cell_type": "code",
   "execution_count": 10,
   "metadata": {},
   "outputs": [
    {
     "data": {
      "text/plain": [
       "[<selenium.webdriver.remote.webelement.WebElement (session=\"b8a225d1098af06963c2f94f3c3ae996\", element=\"d3bea731-cae7-4df7-a614-3d73ed258e02\")>,\n",
       " <selenium.webdriver.remote.webelement.WebElement (session=\"b8a225d1098af06963c2f94f3c3ae996\", element=\"a0e4f40d-bba2-4d37-bb03-7bf94579c6be\")>,\n",
       " <selenium.webdriver.remote.webelement.WebElement (session=\"b8a225d1098af06963c2f94f3c3ae996\", element=\"95ae56f4-55da-44fb-a8f5-ba2954c86978\")>,\n",
       " <selenium.webdriver.remote.webelement.WebElement (session=\"b8a225d1098af06963c2f94f3c3ae996\", element=\"48803812-a0ac-48b0-885e-f591d8348c92\")>,\n",
       " <selenium.webdriver.remote.webelement.WebElement (session=\"b8a225d1098af06963c2f94f3c3ae996\", element=\"40956299-f95d-43d5-b3eb-b115aa2d0227\")>,\n",
       " <selenium.webdriver.remote.webelement.WebElement (session=\"b8a225d1098af06963c2f94f3c3ae996\", element=\"b4a85124-71d9-4a20-83ee-6a7d7fda8bbe\")>,\n",
       " <selenium.webdriver.remote.webelement.WebElement (session=\"b8a225d1098af06963c2f94f3c3ae996\", element=\"cb78da39-8215-42a3-9b96-9f5ee4c0802f\")>,\n",
       " <selenium.webdriver.remote.webelement.WebElement (session=\"b8a225d1098af06963c2f94f3c3ae996\", element=\"171950c7-de0e-4fe1-bef1-643837b5fefb\")>,\n",
       " <selenium.webdriver.remote.webelement.WebElement (session=\"b8a225d1098af06963c2f94f3c3ae996\", element=\"cd6fd307-5227-4dd4-b884-800ae460fa50\")>,\n",
       " <selenium.webdriver.remote.webelement.WebElement (session=\"b8a225d1098af06963c2f94f3c3ae996\", element=\"ef102940-6a6a-4205-9759-a20c1db5e46d\")>]"
      ]
     },
     "execution_count": 10,
     "metadata": {},
     "output_type": "execute_result"
    }
   ],
   "source": [
    "desc_tags=driver.find_elements_by_xpath(\"//div[@class='post-summary']\")\n",
    "desc_tags[0:10]"
   ]
  },
  {
   "cell_type": "code",
   "execution_count": 11,
   "metadata": {},
   "outputs": [
    {
     "data": {
      "text/plain": [
       "[<selenium.webdriver.remote.webelement.WebElement (session=\"b8a225d1098af06963c2f94f3c3ae996\", element=\"d3bea731-cae7-4df7-a614-3d73ed258e02\")>,\n",
       " <selenium.webdriver.remote.webelement.WebElement (session=\"b8a225d1098af06963c2f94f3c3ae996\", element=\"a0e4f40d-bba2-4d37-bb03-7bf94579c6be\")>,\n",
       " <selenium.webdriver.remote.webelement.WebElement (session=\"b8a225d1098af06963c2f94f3c3ae996\", element=\"95ae56f4-55da-44fb-a8f5-ba2954c86978\")>,\n",
       " <selenium.webdriver.remote.webelement.WebElement (session=\"b8a225d1098af06963c2f94f3c3ae996\", element=\"48803812-a0ac-48b0-885e-f591d8348c92\")>,\n",
       " <selenium.webdriver.remote.webelement.WebElement (session=\"b8a225d1098af06963c2f94f3c3ae996\", element=\"40956299-f95d-43d5-b3eb-b115aa2d0227\")>,\n",
       " <selenium.webdriver.remote.webelement.WebElement (session=\"b8a225d1098af06963c2f94f3c3ae996\", element=\"b4a85124-71d9-4a20-83ee-6a7d7fda8bbe\")>,\n",
       " <selenium.webdriver.remote.webelement.WebElement (session=\"b8a225d1098af06963c2f94f3c3ae996\", element=\"cb78da39-8215-42a3-9b96-9f5ee4c0802f\")>,\n",
       " <selenium.webdriver.remote.webelement.WebElement (session=\"b8a225d1098af06963c2f94f3c3ae996\", element=\"171950c7-de0e-4fe1-bef1-643837b5fefb\")>,\n",
       " <selenium.webdriver.remote.webelement.WebElement (session=\"b8a225d1098af06963c2f94f3c3ae996\", element=\"cd6fd307-5227-4dd4-b884-800ae460fa50\")>,\n",
       " <selenium.webdriver.remote.webelement.WebElement (session=\"b8a225d1098af06963c2f94f3c3ae996\", element=\"ef102940-6a6a-4205-9759-a20c1db5e46d\")>]"
      ]
     },
     "execution_count": 11,
     "metadata": {},
     "output_type": "execute_result"
    }
   ],
   "source": [
    "desc_tags=driver.find_elements_by_xpath(\"//div[@class='post-summary']\")\n",
    "desc_tags[0:10]"
   ]
  },
  {
   "cell_type": "code",
   "execution_count": 12,
   "metadata": {},
   "outputs": [
    {
     "data": {
      "text/plain": [
       "['Four public sector banks that had reported heavy losses due to a surge in bad loans may struggle to make coupon payments on their…',\n",
       " 'Swiss power and automation technology group ABB has drawn up plans for India to become a fully electric vehicle nation by 2030,…',\n",
       " 'Karnataka’s Congress government has made a fresh move to affirm its position that Tipu Sultan, the 18th century Mysuru ruler, is a…',\n",
       " 'Three days after he went missing outside his aunt’s home in South Delhi’s Moti Bagh area, a six-year-old boy was safely recovered…',\n",
       " 'Shiv Sena chief Uddhav Thackeray’s challenge to the BJP to break off its alliance with the party ahead of the Brihanmumbai…',\n",
       " 'RJD president Lalu Prasad on Wednesday credited his wife Rabri Devi with making the RSS opt for trousers after shedding the…',\n",
       " 'After Prime Minister Narendra Modi’s visit to Lucknow for Vijayadashami on Tuesday, the BJP is planning road shows and yatras…',\n",
       " 'Ahead of the Assembly elections that are due in early 2017, the Punjab Congress on Wednesday launched its door-to-door drive…',\n",
       " 'United States presidential nominee Donald Trump has said he will cancel the historic Paris climate deal if voted to power, as the…',\n",
       " 'The war of words between Russia and Western countries continued on Wednesday, a day after President Vladimir Putin cancelled a…']"
      ]
     },
     "execution_count": 12,
     "metadata": {},
     "output_type": "execute_result"
    }
   ],
   "source": [
    "for i in desc_tags:\n",
    "    \n",
    "    title=i.text\n",
    "    description.append(title)\n",
    "description[0:10]"
   ]
  },
  {
   "cell_type": "code",
   "execution_count": 13,
   "metadata": {},
   "outputs": [
    {
     "name": "stdout",
     "output_type": "stream",
     "text": [
      "10 10 10\n"
     ]
    }
   ],
   "source": [
    "print(len(news_titles),len(date),len(description))"
   ]
  },
  {
   "cell_type": "code",
   "execution_count": 14,
   "metadata": {},
   "outputs": [],
   "source": [
    "import pandas as pd\n",
    "news=pd.DataFrame({})\n",
    "news['title']=news_titles[0:10]\n",
    "news['date']=date[0:10]\n",
    "news['desc']=description[0:10]"
   ]
  },
  {
   "cell_type": "code",
   "execution_count": 15,
   "metadata": {},
   "outputs": [
    {
     "data": {
      "text/html": [
       "<div>\n",
       "<style scoped>\n",
       "    .dataframe tbody tr th:only-of-type {\n",
       "        vertical-align: middle;\n",
       "    }\n",
       "\n",
       "    .dataframe tbody tr th {\n",
       "        vertical-align: top;\n",
       "    }\n",
       "\n",
       "    .dataframe thead th {\n",
       "        text-align: right;\n",
       "    }\n",
       "</style>\n",
       "<table border=\"1\" class=\"dataframe\">\n",
       "  <thead>\n",
       "    <tr style=\"text-align: right;\">\n",
       "      <th></th>\n",
       "      <th>title</th>\n",
       "      <th>date</th>\n",
       "      <th>desc</th>\n",
       "    </tr>\n",
       "  </thead>\n",
       "  <tbody>\n",
       "    <tr>\n",
       "      <th>0</th>\n",
       "      <td>‘Four PSBs may struggle to pay bond coupons’\\n...</td>\n",
       "      <td>Oct 13, 2016</td>\n",
       "      <td>Four public sector banks that had reported hea...</td>\n",
       "    </tr>\n",
       "    <tr>\n",
       "      <th>1</th>\n",
       "      <td>ABB to electrify Indian buses\\nEBM News Englis...</td>\n",
       "      <td>Oct 13, 2016</td>\n",
       "      <td>Swiss power and automation technology group AB...</td>\n",
       "    </tr>\n",
       "    <tr>\n",
       "      <th>2</th>\n",
       "      <td>A bigger ‘Tipu Jayanti’ on the cards this year...</td>\n",
       "      <td>Oct 13, 2016</td>\n",
       "      <td>Karnataka’s Congress government has made a fre...</td>\n",
       "    </tr>\n",
       "    <tr>\n",
       "      <th>3</th>\n",
       "      <td>Missing Delhi boy found in Jammu\\nEBM News Eng...</td>\n",
       "      <td>Oct 13, 2016</td>\n",
       "      <td>Three days after he went missing outside his a...</td>\n",
       "    </tr>\n",
       "    <tr>\n",
       "      <th>4</th>\n",
       "      <td>BJP unmoved by Shiv Sena threat\\nEBM News Engl...</td>\n",
       "      <td>Oct 13, 2016</td>\n",
       "      <td>Shiv Sena chief Uddhav Thackeray’s challenge t...</td>\n",
       "    </tr>\n",
       "    <tr>\n",
       "      <th>5</th>\n",
       "      <td>Rabri responsible for RSS uniform change, says...</td>\n",
       "      <td>Oct 13, 2016</td>\n",
       "      <td>RJD president Lalu Prasad on Wednesday credite...</td>\n",
       "    </tr>\n",
       "    <tr>\n",
       "      <th>6</th>\n",
       "      <td>BJP to hit UP election campaign trail in early...</td>\n",
       "      <td>Oct 13, 2016</td>\n",
       "      <td>After Prime Minister Narendra Modi’s visit to ...</td>\n",
       "    </tr>\n",
       "    <tr>\n",
       "      <th>7</th>\n",
       "      <td>Congress begins farmer outreach campaign in Pu...</td>\n",
       "      <td>Oct 13, 2016</td>\n",
       "      <td>Ahead of the Assembly elections that are due i...</td>\n",
       "    </tr>\n",
       "    <tr>\n",
       "      <th>8</th>\n",
       "      <td>Trump says he will scrap Paris climate deal if...</td>\n",
       "      <td>Oct 13, 2016</td>\n",
       "      <td>United States presidential nominee Donald Trum...</td>\n",
       "    </tr>\n",
       "    <tr>\n",
       "      <th>9</th>\n",
       "      <td>Tension mounts between Russia, West over Syria...</td>\n",
       "      <td>Oct 13, 2016</td>\n",
       "      <td>The war of words between Russia and Western co...</td>\n",
       "    </tr>\n",
       "  </tbody>\n",
       "</table>\n",
       "</div>"
      ],
      "text/plain": [
       "                                               title          date  \\\n",
       "0  ‘Four PSBs may struggle to pay bond coupons’\\n...  Oct 13, 2016   \n",
       "1  ABB to electrify Indian buses\\nEBM News Englis...  Oct 13, 2016   \n",
       "2  A bigger ‘Tipu Jayanti’ on the cards this year...  Oct 13, 2016   \n",
       "3  Missing Delhi boy found in Jammu\\nEBM News Eng...  Oct 13, 2016   \n",
       "4  BJP unmoved by Shiv Sena threat\\nEBM News Engl...  Oct 13, 2016   \n",
       "5  Rabri responsible for RSS uniform change, says...  Oct 13, 2016   \n",
       "6  BJP to hit UP election campaign trail in early...  Oct 13, 2016   \n",
       "7  Congress begins farmer outreach campaign in Pu...  Oct 13, 2016   \n",
       "8  Trump says he will scrap Paris climate deal if...  Oct 13, 2016   \n",
       "9  Tension mounts between Russia, West over Syria...  Oct 13, 2016   \n",
       "\n",
       "                                                desc  \n",
       "0  Four public sector banks that had reported hea...  \n",
       "1  Swiss power and automation technology group AB...  \n",
       "2  Karnataka’s Congress government has made a fre...  \n",
       "3  Three days after he went missing outside his a...  \n",
       "4  Shiv Sena chief Uddhav Thackeray’s challenge t...  \n",
       "5  RJD president Lalu Prasad on Wednesday credite...  \n",
       "6  After Prime Minister Narendra Modi’s visit to ...  \n",
       "7  Ahead of the Assembly elections that are due i...  \n",
       "8  United States presidential nominee Donald Trum...  \n",
       "9  The war of words between Russia and Western co...  "
      ]
     },
     "execution_count": 15,
     "metadata": {},
     "output_type": "execute_result"
    }
   ],
   "source": [
    "news"
   ]
  },
  {
   "cell_type": "code",
   "execution_count": null,
   "metadata": {},
   "outputs": [],
   "source": []
  }
 ],
 "metadata": {
  "kernelspec": {
   "display_name": "Python 3",
   "language": "python",
   "name": "python3"
  },
  "language_info": {
   "codemirror_mode": {
    "name": "ipython",
    "version": 3
   },
   "file_extension": ".py",
   "mimetype": "text/x-python",
   "name": "python",
   "nbconvert_exporter": "python",
   "pygments_lexer": "ipython3",
   "version": "3.7.6"
  }
 },
 "nbformat": 4,
 "nbformat_minor": 4
}
