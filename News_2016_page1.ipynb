{
 "cells": [
  {
   "cell_type": "code",
   "execution_count": 1,
   "metadata": {},
   "outputs": [],
   "source": [
    "import selenium"
   ]
  },
  {
   "cell_type": "code",
   "execution_count": 2,
   "metadata": {},
   "outputs": [],
   "source": [
    "import pandas as pd\n",
    "from selenium import webdriver"
   ]
  },
  {
   "cell_type": "code",
   "execution_count": 3,
   "metadata": {},
   "outputs": [],
   "source": [
    "driver=webdriver.Chrome(\"C:\\chromedriver.exe\")"
   ]
  },
  {
   "cell_type": "code",
   "execution_count": 4,
   "metadata": {},
   "outputs": [],
   "source": [
    "driver.get('https://www.ebmnews.com/2016/')"
   ]
  },
  {
   "cell_type": "code",
   "execution_count": 5,
   "metadata": {},
   "outputs": [],
   "source": [
    "news_titles=[]\n",
    "date=[]\n",
    "description=[]"
   ]
  },
  {
   "cell_type": "code",
   "execution_count": 6,
   "metadata": {},
   "outputs": [
    {
     "data": {
      "text/plain": [
       "[<selenium.webdriver.remote.webelement.WebElement (session=\"653be1256c1b94f7a536b8a46b8fc770\", element=\"ef39c556-c866-4619-ab3f-7d2910c28c0e\")>,\n",
       " <selenium.webdriver.remote.webelement.WebElement (session=\"653be1256c1b94f7a536b8a46b8fc770\", element=\"62ac9c1d-6ef5-4f33-bc1c-a7236fe9b8e6\")>,\n",
       " <selenium.webdriver.remote.webelement.WebElement (session=\"653be1256c1b94f7a536b8a46b8fc770\", element=\"f65836a1-0d39-4b4b-b0fd-0e9c8ff332c6\")>,\n",
       " <selenium.webdriver.remote.webelement.WebElement (session=\"653be1256c1b94f7a536b8a46b8fc770\", element=\"e682ed31-ad73-4db9-90d6-703288451322\")>,\n",
       " <selenium.webdriver.remote.webelement.WebElement (session=\"653be1256c1b94f7a536b8a46b8fc770\", element=\"daa38e2b-f3c4-4c77-b55b-12beb993fd90\")>,\n",
       " <selenium.webdriver.remote.webelement.WebElement (session=\"653be1256c1b94f7a536b8a46b8fc770\", element=\"7eb5e339-9a3a-4f39-baa4-8f53ffec62f3\")>,\n",
       " <selenium.webdriver.remote.webelement.WebElement (session=\"653be1256c1b94f7a536b8a46b8fc770\", element=\"62bdb304-d3f0-4609-9c51-27bd16d87915\")>,\n",
       " <selenium.webdriver.remote.webelement.WebElement (session=\"653be1256c1b94f7a536b8a46b8fc770\", element=\"6ce13aea-1450-4757-86ee-9c999eb0e64e\")>,\n",
       " <selenium.webdriver.remote.webelement.WebElement (session=\"653be1256c1b94f7a536b8a46b8fc770\", element=\"5843fc18-987a-49f9-8240-4e3d30133131\")>,\n",
       " <selenium.webdriver.remote.webelement.WebElement (session=\"653be1256c1b94f7a536b8a46b8fc770\", element=\"19045111-7f76-49c6-863d-da73c4824971\")>]"
      ]
     },
     "execution_count": 6,
     "metadata": {},
     "output_type": "execute_result"
    }
   ],
   "source": [
    "title_tags=driver.find_elements_by_xpath(\"//div[@class='item-inner clearfix']\")\n",
    "title_tags[0:10]"
   ]
  },
  {
   "cell_type": "code",
   "execution_count": 7,
   "metadata": {},
   "outputs": [
    {
     "data": {
      "text/plain": [
       "['Valvoline ropes in Virat Kohli as brand ambassador\\nEBM News English Oct 14, 2016\\nNew Delhi,  In an aggressive move that signals its serious intent to be a major player in the highly competitive engine oil…',\n",
       " 'Kim returns to social media after Paris robbery\\nEBM News English Oct 14, 2016\\nLos Angeles,  Reality TV personality Kim Kardashian has returned to social media after she was robbed at gunpoint in Paris. The…',\n",
       " 'Powerful greenhouse gases in focus at global climate meeting\\nEBM News English Oct 14, 2016\\nJOHANNESBURG: Greenhouse gases that are more powerful than carbon dioxide are the focus of a global gathering this week in Africa.…',\n",
       " 'NIA quizzes associates of IS operatives captured in Kerala and TN\\nEBM News English Oct 14, 2016\\nKOCHI: The National Investigation Agency (NIA) probing activities of the Islamic State (IS) in Kerala and Tamil Nadu has started…',\n",
       " \"Brad Pitt reunites with kids since divorce with Jolie\\nEBM News English Oct 14, 2016\\nLos Angeles,  Actor Brad Pitt has met some of his kids for the first time since news of his and Angelina Jolie's divorce broke. …\",\n",
       " 'Ranbir’s candidness on chat show surprises Neha\\nEBM News English Oct 14, 2016\\nNew Delhi,  Neha Dhupia\\'s celebrity chat show \"#NoFilterNeha\" is currently buzzing in Bollywood for its new and unusual concept…',\n",
       " 'L-G gives nod to two new police districts\\nEBM News English Oct 14, 2016\\nTo strengthen law and order in the Capital, Lieutenant-Governor Najeeb Jung has given the nod to a proposal to create two new…',\n",
       " 'India, Russia finalise agreement on units 5,6 at Kudankulam\\nEBM News English Oct 14, 2016\\nNew Delhi,  Scaling up cooperation in the atomic energy sector, India and Russia have finalised a general framework agreement and…',\n",
       " \"Infosys revises salaries of CFO, COO and other key execs\\nEBM News English Oct 14, 2016\\nBengaluru, Country's second largest IT firm Infosys today said it has revised the pay packages of its top leadership, including…\",\n",
       " \"Russian Su-34 bombers conduct flights to stratosphere\\nEBM News English Oct 14, 2016\\nMOSCOW: The crews of new Su-34 bombers of Russia's Eastern Military District have conducted flights to the stratosphere in…\"]"
      ]
     },
     "execution_count": 7,
     "metadata": {},
     "output_type": "execute_result"
    }
   ],
   "source": [
    "for i in title_tags:\n",
    "    \n",
    "    title=i.text\n",
    "    news_titles.append(title)\n",
    "news_titles[0:10]"
   ]
  },
  {
   "cell_type": "code",
   "execution_count": 8,
   "metadata": {},
   "outputs": [
    {
     "data": {
      "text/plain": [
       "[<selenium.webdriver.remote.webelement.WebElement (session=\"653be1256c1b94f7a536b8a46b8fc770\", element=\"a2a89839-f64f-43f2-9c40-cade17344c5f\")>,\n",
       " <selenium.webdriver.remote.webelement.WebElement (session=\"653be1256c1b94f7a536b8a46b8fc770\", element=\"ce19b677-90d7-4117-bcc8-8e1f02f376b0\")>,\n",
       " <selenium.webdriver.remote.webelement.WebElement (session=\"653be1256c1b94f7a536b8a46b8fc770\", element=\"1eb70c98-8b04-4c57-9759-d4eedaec27f0\")>,\n",
       " <selenium.webdriver.remote.webelement.WebElement (session=\"653be1256c1b94f7a536b8a46b8fc770\", element=\"6163ec84-42b8-4997-9f22-90ecc83b0c34\")>,\n",
       " <selenium.webdriver.remote.webelement.WebElement (session=\"653be1256c1b94f7a536b8a46b8fc770\", element=\"afb00282-bb64-4189-bdca-0de80d8b02c9\")>,\n",
       " <selenium.webdriver.remote.webelement.WebElement (session=\"653be1256c1b94f7a536b8a46b8fc770\", element=\"90b23664-97d9-4683-9178-275ab4336ded\")>,\n",
       " <selenium.webdriver.remote.webelement.WebElement (session=\"653be1256c1b94f7a536b8a46b8fc770\", element=\"54dede2f-bacc-4b6c-85a8-cb94758da5a8\")>,\n",
       " <selenium.webdriver.remote.webelement.WebElement (session=\"653be1256c1b94f7a536b8a46b8fc770\", element=\"a12b4923-0a2f-4f1f-b322-28f2ca17a14b\")>,\n",
       " <selenium.webdriver.remote.webelement.WebElement (session=\"653be1256c1b94f7a536b8a46b8fc770\", element=\"dfd5394d-ec9b-42ca-a70f-e45e2341a19a\")>,\n",
       " <selenium.webdriver.remote.webelement.WebElement (session=\"653be1256c1b94f7a536b8a46b8fc770\", element=\"3bf1e863-3474-4318-919a-31b295c118fc\")>]"
      ]
     },
     "execution_count": 8,
     "metadata": {},
     "output_type": "execute_result"
    }
   ],
   "source": [
    "date_tags=driver.find_elements_by_xpath(\"//span[@class='time']\")\n",
    "date_tags[0:10]"
   ]
  },
  {
   "cell_type": "code",
   "execution_count": 9,
   "metadata": {},
   "outputs": [
    {
     "data": {
      "text/plain": [
       "['Oct 14, 2016',\n",
       " 'Oct 14, 2016',\n",
       " 'Oct 14, 2016',\n",
       " 'Oct 14, 2016',\n",
       " 'Oct 14, 2016',\n",
       " 'Oct 14, 2016',\n",
       " 'Oct 14, 2016',\n",
       " 'Oct 14, 2016',\n",
       " 'Oct 14, 2016',\n",
       " 'Oct 14, 2016']"
      ]
     },
     "execution_count": 9,
     "metadata": {},
     "output_type": "execute_result"
    }
   ],
   "source": [
    "for i in date_tags:\n",
    "    \n",
    "    title=i.text\n",
    "    date.append(title)\n",
    "date[0:10]"
   ]
  },
  {
   "cell_type": "code",
   "execution_count": 10,
   "metadata": {},
   "outputs": [
    {
     "data": {
      "text/plain": [
       "[<selenium.webdriver.remote.webelement.WebElement (session=\"653be1256c1b94f7a536b8a46b8fc770\", element=\"f8d56d7b-6be5-466d-9ea9-70fa766b322a\")>,\n",
       " <selenium.webdriver.remote.webelement.WebElement (session=\"653be1256c1b94f7a536b8a46b8fc770\", element=\"d7f9e325-e3b8-4d57-b8d2-5a9d40378578\")>,\n",
       " <selenium.webdriver.remote.webelement.WebElement (session=\"653be1256c1b94f7a536b8a46b8fc770\", element=\"0131da51-a41f-4921-b930-69da8f9354a8\")>,\n",
       " <selenium.webdriver.remote.webelement.WebElement (session=\"653be1256c1b94f7a536b8a46b8fc770\", element=\"5720f99d-f9dd-4b54-8e86-495164388255\")>,\n",
       " <selenium.webdriver.remote.webelement.WebElement (session=\"653be1256c1b94f7a536b8a46b8fc770\", element=\"862ef5a0-61a6-4d7d-9ef1-17510ac392dc\")>,\n",
       " <selenium.webdriver.remote.webelement.WebElement (session=\"653be1256c1b94f7a536b8a46b8fc770\", element=\"18ebbe5f-b4d8-4df6-912b-87d92aa99912\")>,\n",
       " <selenium.webdriver.remote.webelement.WebElement (session=\"653be1256c1b94f7a536b8a46b8fc770\", element=\"f430c3f8-8299-4f23-bfdf-ffcaaf0fb228\")>,\n",
       " <selenium.webdriver.remote.webelement.WebElement (session=\"653be1256c1b94f7a536b8a46b8fc770\", element=\"bce9661a-d0e1-44ca-98e6-5c4c6264dfb3\")>,\n",
       " <selenium.webdriver.remote.webelement.WebElement (session=\"653be1256c1b94f7a536b8a46b8fc770\", element=\"08b2551c-4890-4b77-9792-6f88dd7a8135\")>,\n",
       " <selenium.webdriver.remote.webelement.WebElement (session=\"653be1256c1b94f7a536b8a46b8fc770\", element=\"57a26c6e-6cfb-42e4-9301-31eccfc183cd\")>]"
      ]
     },
     "execution_count": 10,
     "metadata": {},
     "output_type": "execute_result"
    }
   ],
   "source": [
    "desc_tags=driver.find_elements_by_xpath(\"//div[@class='post-summary']\")\n",
    "desc_tags[0:10]"
   ]
  },
  {
   "cell_type": "code",
   "execution_count": 11,
   "metadata": {},
   "outputs": [
    {
     "data": {
      "text/plain": [
       "['New Delhi,  In an aggressive move that signals its serious intent to be a major player in the highly competitive engine oil…',\n",
       " 'Los Angeles,  Reality TV personality Kim Kardashian has returned to social media after she was robbed at gunpoint in Paris. The…',\n",
       " 'JOHANNESBURG: Greenhouse gases that are more powerful than carbon dioxide are the focus of a global gathering this week in Africa.…',\n",
       " 'KOCHI: The National Investigation Agency (NIA) probing activities of the Islamic State (IS) in Kerala and Tamil Nadu has started…',\n",
       " \"Los Angeles,  Actor Brad Pitt has met some of his kids for the first time since news of his and Angelina Jolie's divorce broke. …\",\n",
       " 'New Delhi,  Neha Dhupia\\'s celebrity chat show \"#NoFilterNeha\" is currently buzzing in Bollywood for its new and unusual concept…',\n",
       " 'To strengthen law and order in the Capital, Lieutenant-Governor Najeeb Jung has given the nod to a proposal to create two new…',\n",
       " 'New Delhi,  Scaling up cooperation in the atomic energy sector, India and Russia have finalised a general framework agreement and…',\n",
       " \"Bengaluru, Country's second largest IT firm Infosys today said it has revised the pay packages of its top leadership, including…\",\n",
       " \"MOSCOW: The crews of new Su-34 bombers of Russia's Eastern Military District have conducted flights to the stratosphere in…\"]"
      ]
     },
     "execution_count": 11,
     "metadata": {},
     "output_type": "execute_result"
    }
   ],
   "source": [
    "for i in desc_tags:\n",
    "    \n",
    "    title=i.text\n",
    "    description.append(title)\n",
    "description[0:10]"
   ]
  },
  {
   "cell_type": "code",
   "execution_count": 12,
   "metadata": {},
   "outputs": [
    {
     "name": "stdout",
     "output_type": "stream",
     "text": [
      "10 10 10\n"
     ]
    }
   ],
   "source": [
    "print(len(news_titles),len(date),len(description))"
   ]
  },
  {
   "cell_type": "code",
   "execution_count": 13,
   "metadata": {},
   "outputs": [],
   "source": [
    "import pandas as pd\n",
    "news=pd.DataFrame({})\n",
    "news['title']=news_titles[0:10]\n",
    "news['date']=date[0:10]\n",
    "news['desc']=description[0:10]"
   ]
  },
  {
   "cell_type": "code",
   "execution_count": 14,
   "metadata": {},
   "outputs": [
    {
     "data": {
      "text/html": [
       "<div>\n",
       "<style scoped>\n",
       "    .dataframe tbody tr th:only-of-type {\n",
       "        vertical-align: middle;\n",
       "    }\n",
       "\n",
       "    .dataframe tbody tr th {\n",
       "        vertical-align: top;\n",
       "    }\n",
       "\n",
       "    .dataframe thead th {\n",
       "        text-align: right;\n",
       "    }\n",
       "</style>\n",
       "<table border=\"1\" class=\"dataframe\">\n",
       "  <thead>\n",
       "    <tr style=\"text-align: right;\">\n",
       "      <th></th>\n",
       "      <th>title</th>\n",
       "      <th>date</th>\n",
       "      <th>desc</th>\n",
       "    </tr>\n",
       "  </thead>\n",
       "  <tbody>\n",
       "    <tr>\n",
       "      <th>0</th>\n",
       "      <td>Valvoline ropes in Virat Kohli as brand ambass...</td>\n",
       "      <td>Oct 14, 2016</td>\n",
       "      <td>New Delhi,  In an aggressive move that signals...</td>\n",
       "    </tr>\n",
       "    <tr>\n",
       "      <th>1</th>\n",
       "      <td>Kim returns to social media after Paris robber...</td>\n",
       "      <td>Oct 14, 2016</td>\n",
       "      <td>Los Angeles,  Reality TV personality Kim Karda...</td>\n",
       "    </tr>\n",
       "    <tr>\n",
       "      <th>2</th>\n",
       "      <td>Powerful greenhouse gases in focus at global c...</td>\n",
       "      <td>Oct 14, 2016</td>\n",
       "      <td>JOHANNESBURG: Greenhouse gases that are more p...</td>\n",
       "    </tr>\n",
       "    <tr>\n",
       "      <th>3</th>\n",
       "      <td>NIA quizzes associates of IS operatives captur...</td>\n",
       "      <td>Oct 14, 2016</td>\n",
       "      <td>KOCHI: The National Investigation Agency (NIA)...</td>\n",
       "    </tr>\n",
       "    <tr>\n",
       "      <th>4</th>\n",
       "      <td>Brad Pitt reunites with kids since divorce wit...</td>\n",
       "      <td>Oct 14, 2016</td>\n",
       "      <td>Los Angeles,  Actor Brad Pitt has met some of ...</td>\n",
       "    </tr>\n",
       "    <tr>\n",
       "      <th>5</th>\n",
       "      <td>Ranbir’s candidness on chat show surprises Neh...</td>\n",
       "      <td>Oct 14, 2016</td>\n",
       "      <td>New Delhi,  Neha Dhupia's celebrity chat show ...</td>\n",
       "    </tr>\n",
       "    <tr>\n",
       "      <th>6</th>\n",
       "      <td>L-G gives nod to two new police districts\\nEBM...</td>\n",
       "      <td>Oct 14, 2016</td>\n",
       "      <td>To strengthen law and order in the Capital, Li...</td>\n",
       "    </tr>\n",
       "    <tr>\n",
       "      <th>7</th>\n",
       "      <td>India, Russia finalise agreement on units 5,6 ...</td>\n",
       "      <td>Oct 14, 2016</td>\n",
       "      <td>New Delhi,  Scaling up cooperation in the atom...</td>\n",
       "    </tr>\n",
       "    <tr>\n",
       "      <th>8</th>\n",
       "      <td>Infosys revises salaries of CFO, COO and other...</td>\n",
       "      <td>Oct 14, 2016</td>\n",
       "      <td>Bengaluru, Country's second largest IT firm In...</td>\n",
       "    </tr>\n",
       "    <tr>\n",
       "      <th>9</th>\n",
       "      <td>Russian Su-34 bombers conduct flights to strat...</td>\n",
       "      <td>Oct 14, 2016</td>\n",
       "      <td>MOSCOW: The crews of new Su-34 bombers of Russ...</td>\n",
       "    </tr>\n",
       "  </tbody>\n",
       "</table>\n",
       "</div>"
      ],
      "text/plain": [
       "                                               title          date  \\\n",
       "0  Valvoline ropes in Virat Kohli as brand ambass...  Oct 14, 2016   \n",
       "1  Kim returns to social media after Paris robber...  Oct 14, 2016   \n",
       "2  Powerful greenhouse gases in focus at global c...  Oct 14, 2016   \n",
       "3  NIA quizzes associates of IS operatives captur...  Oct 14, 2016   \n",
       "4  Brad Pitt reunites with kids since divorce wit...  Oct 14, 2016   \n",
       "5  Ranbir’s candidness on chat show surprises Neh...  Oct 14, 2016   \n",
       "6  L-G gives nod to two new police districts\\nEBM...  Oct 14, 2016   \n",
       "7  India, Russia finalise agreement on units 5,6 ...  Oct 14, 2016   \n",
       "8  Infosys revises salaries of CFO, COO and other...  Oct 14, 2016   \n",
       "9  Russian Su-34 bombers conduct flights to strat...  Oct 14, 2016   \n",
       "\n",
       "                                                desc  \n",
       "0  New Delhi,  In an aggressive move that signals...  \n",
       "1  Los Angeles,  Reality TV personality Kim Karda...  \n",
       "2  JOHANNESBURG: Greenhouse gases that are more p...  \n",
       "3  KOCHI: The National Investigation Agency (NIA)...  \n",
       "4  Los Angeles,  Actor Brad Pitt has met some of ...  \n",
       "5  New Delhi,  Neha Dhupia's celebrity chat show ...  \n",
       "6  To strengthen law and order in the Capital, Li...  \n",
       "7  New Delhi,  Scaling up cooperation in the atom...  \n",
       "8  Bengaluru, Country's second largest IT firm In...  \n",
       "9  MOSCOW: The crews of new Su-34 bombers of Russ...  "
      ]
     },
     "execution_count": 14,
     "metadata": {},
     "output_type": "execute_result"
    }
   ],
   "source": [
    "news"
   ]
  },
  {
   "cell_type": "code",
   "execution_count": null,
   "metadata": {},
   "outputs": [],
   "source": []
  }
 ],
 "metadata": {
  "kernelspec": {
   "display_name": "Python 3",
   "language": "python",
   "name": "python3"
  },
  "language_info": {
   "codemirror_mode": {
    "name": "ipython",
    "version": 3
   },
   "file_extension": ".py",
   "mimetype": "text/x-python",
   "name": "python",
   "nbconvert_exporter": "python",
   "pygments_lexer": "ipython3",
   "version": "3.7.6"
  }
 },
 "nbformat": 4,
 "nbformat_minor": 4
}
