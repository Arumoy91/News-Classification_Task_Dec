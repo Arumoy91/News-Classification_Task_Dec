{
 "cells": [
  {
   "cell_type": "code",
   "execution_count": 1,
   "metadata": {},
   "outputs": [],
   "source": [
    "import selenium"
   ]
  },
  {
   "cell_type": "code",
   "execution_count": 2,
   "metadata": {},
   "outputs": [],
   "source": [
    "import pandas as pd\n",
    "from selenium import webdriver"
   ]
  },
  {
   "cell_type": "code",
   "execution_count": 3,
   "metadata": {},
   "outputs": [],
   "source": [
    "driver=webdriver.Chrome(\"C:\\chromedriver.exe\")"
   ]
  },
  {
   "cell_type": "code",
   "execution_count": 4,
   "metadata": {},
   "outputs": [],
   "source": [
    "driver.get('https://www.ebmnews.com/2016/page/22/')"
   ]
  },
  {
   "cell_type": "code",
   "execution_count": 5,
   "metadata": {},
   "outputs": [],
   "source": [
    "news_titles=[]\n",
    "date=[]\n",
    "description=[]"
   ]
  },
  {
   "cell_type": "code",
   "execution_count": 6,
   "metadata": {},
   "outputs": [
    {
     "data": {
      "text/plain": [
       "[<selenium.webdriver.remote.webelement.WebElement (session=\"8be8e59626885f1af6f8bf3d9456d8d5\", element=\"b6336165-b1bb-455b-a59a-678971eb41f7\")>,\n",
       " <selenium.webdriver.remote.webelement.WebElement (session=\"8be8e59626885f1af6f8bf3d9456d8d5\", element=\"a9f34d2c-e0a0-44c5-8bcb-a650ef479fdc\")>,\n",
       " <selenium.webdriver.remote.webelement.WebElement (session=\"8be8e59626885f1af6f8bf3d9456d8d5\", element=\"a21ed266-0c29-4a73-a326-9975d16ab74c\")>,\n",
       " <selenium.webdriver.remote.webelement.WebElement (session=\"8be8e59626885f1af6f8bf3d9456d8d5\", element=\"731a00cd-6432-4a59-ada5-046bb7c65040\")>,\n",
       " <selenium.webdriver.remote.webelement.WebElement (session=\"8be8e59626885f1af6f8bf3d9456d8d5\", element=\"8a3f3d0b-42bc-4db0-a453-a0490830776d\")>,\n",
       " <selenium.webdriver.remote.webelement.WebElement (session=\"8be8e59626885f1af6f8bf3d9456d8d5\", element=\"e6b57802-d162-4af2-9a2c-49f49f32645c\")>,\n",
       " <selenium.webdriver.remote.webelement.WebElement (session=\"8be8e59626885f1af6f8bf3d9456d8d5\", element=\"ce09a4c3-671f-4d39-b6fd-ee63326ad696\")>,\n",
       " <selenium.webdriver.remote.webelement.WebElement (session=\"8be8e59626885f1af6f8bf3d9456d8d5\", element=\"0047b017-d0a9-4c34-b69a-b653a7180ddf\")>,\n",
       " <selenium.webdriver.remote.webelement.WebElement (session=\"8be8e59626885f1af6f8bf3d9456d8d5\", element=\"3ccc6a87-e38b-46d5-a4bc-c86dafcb60c7\")>,\n",
       " <selenium.webdriver.remote.webelement.WebElement (session=\"8be8e59626885f1af6f8bf3d9456d8d5\", element=\"9eb96e19-3b7e-49a9-9269-66885e66f899\")>]"
      ]
     },
     "execution_count": 6,
     "metadata": {},
     "output_type": "execute_result"
    }
   ],
   "source": [
    "title_tags=driver.find_elements_by_xpath(\"//div[@class='item-inner clearfix']\")\n",
    "title_tags[0:10]"
   ]
  },
  {
   "cell_type": "code",
   "execution_count": 7,
   "metadata": {},
   "outputs": [
    {
     "data": {
      "text/plain": [
       "['‘Bulk of Delhi’s pollution comes from neighbouring States’\\nEBM News English Oct 6, 2016\\nAn analysis of Delhi’s air pollution and future trends says that 60% of Delhi’s particulate matter pollution comes from…',\n",
       " 'Corset braids\\nEBM News English Oct 6, 2016\\nIt is amazing how braids can have so many variations. After fabric-woven braid, the latest trend that has hit the runway is the…',\n",
       " \"GSAT-18 launched successfully on board Ariane-5 from Kourou\\nEBM News English Oct 6, 2016\\nBengaluru, India's latest communication satellite GSAT-18 was today successfully launched by a heavy duty rocket of Arianespace…\",\n",
       " \"Nivin Pauly to don multiple looks in Sidhartha’s film\\nEBM News English Oct 6, 2016\\nNivin Pauly is a busy man these days. The actor who grew his beard to play a guy from a coastal area in Gautham Ramachandran's…\",\n",
       " \"Shooting ‘Channa Mereya’ was a tough ‘exercise’ for Anushka Sharma\\nEBM News English Oct 6, 2016\\nAnushka Sharma had a tough time shooting for the song, 'Channa Mereya', from Karan Johar's 'Ae Dil Hai Mushkil'. We hear, the…\",\n",
       " \"Lenovo in talks to take over Fujitsu’s PC business\\nEBM News English Oct 6, 2016\\nChina's Lenovo Group Ltd is in talks to bring Fujitsu Ltd's personal computer business under its control, allowing the Japanese…\",\n",
       " \"Karthi’s ‘real’ Kaashmora look\\nEBM News English Oct 6, 2016\\nRecently, Karthi's first look from Kaashmora, where he looks like an armed warrior with a tonsure head and a long beard, was…\",\n",
       " \"I’m no Casanova or wastrel in real life: Tony Luke\\nEBM News English Oct 6, 2016\\nInternational model Tony Luke made a dashing entry into films as the irresistible charmer Andrew in Jeethu Joseph's Oozham. Tony's…\",\n",
       " \"Gulzar-Vishal Bhardwaj create a peppy number for ‘Motu Patlu’\\nEBM News English Oct 6, 2016\\nGulzar and Vishal Bhardwaj, whose collaborations have always hit the right notes, are back together with a track for 'Motu Patlu —…\",\n",
       " 'Rupee runs up more losses, down 8 paise against dollar\\nEBM News English Oct 6, 2016\\nMumbai,  The rupee weakened further by 8 paise to 66.59 against the dollar today following increased demand for the American…']"
      ]
     },
     "execution_count": 7,
     "metadata": {},
     "output_type": "execute_result"
    }
   ],
   "source": [
    "for i in title_tags:\n",
    "    \n",
    "    title=i.text\n",
    "    news_titles.append(title)\n",
    "news_titles[0:10]"
   ]
  },
  {
   "cell_type": "code",
   "execution_count": 8,
   "metadata": {},
   "outputs": [
    {
     "data": {
      "text/plain": [
       "[<selenium.webdriver.remote.webelement.WebElement (session=\"8be8e59626885f1af6f8bf3d9456d8d5\", element=\"df048795-0424-4ccb-b7df-fd0a0c4b95da\")>,\n",
       " <selenium.webdriver.remote.webelement.WebElement (session=\"8be8e59626885f1af6f8bf3d9456d8d5\", element=\"dd80c9a8-0bc3-4852-ae30-a1e85683cfa0\")>,\n",
       " <selenium.webdriver.remote.webelement.WebElement (session=\"8be8e59626885f1af6f8bf3d9456d8d5\", element=\"51fcf46a-bd1e-4a2a-9e52-73b4c607046d\")>,\n",
       " <selenium.webdriver.remote.webelement.WebElement (session=\"8be8e59626885f1af6f8bf3d9456d8d5\", element=\"ae306762-4fd4-4f41-af0e-40ba895e1052\")>,\n",
       " <selenium.webdriver.remote.webelement.WebElement (session=\"8be8e59626885f1af6f8bf3d9456d8d5\", element=\"16cdad7d-7c7b-4497-94d4-4c1edb2bf283\")>,\n",
       " <selenium.webdriver.remote.webelement.WebElement (session=\"8be8e59626885f1af6f8bf3d9456d8d5\", element=\"edf456a3-9744-4ff6-8820-1353223bec19\")>,\n",
       " <selenium.webdriver.remote.webelement.WebElement (session=\"8be8e59626885f1af6f8bf3d9456d8d5\", element=\"624f615f-acde-41ea-9392-bbcbdac45780\")>,\n",
       " <selenium.webdriver.remote.webelement.WebElement (session=\"8be8e59626885f1af6f8bf3d9456d8d5\", element=\"2a674f6d-79e8-483a-b59e-5682c9103a7b\")>,\n",
       " <selenium.webdriver.remote.webelement.WebElement (session=\"8be8e59626885f1af6f8bf3d9456d8d5\", element=\"0c2f2d14-b26f-4aea-b5bf-fec887771dcc\")>,\n",
       " <selenium.webdriver.remote.webelement.WebElement (session=\"8be8e59626885f1af6f8bf3d9456d8d5\", element=\"e8c1d208-fa8b-4cab-bbd3-d14ab21a9e5e\")>]"
      ]
     },
     "execution_count": 8,
     "metadata": {},
     "output_type": "execute_result"
    }
   ],
   "source": [
    "date_tags=driver.find_elements_by_xpath(\"//span[@class='time']\")\n",
    "date_tags[0:10]"
   ]
  },
  {
   "cell_type": "code",
   "execution_count": 9,
   "metadata": {},
   "outputs": [
    {
     "data": {
      "text/plain": [
       "['Oct 6, 2016',\n",
       " 'Oct 6, 2016',\n",
       " 'Oct 6, 2016',\n",
       " 'Oct 6, 2016',\n",
       " 'Oct 6, 2016',\n",
       " 'Oct 6, 2016',\n",
       " 'Oct 6, 2016',\n",
       " 'Oct 6, 2016',\n",
       " 'Oct 6, 2016',\n",
       " 'Oct 6, 2016']"
      ]
     },
     "execution_count": 9,
     "metadata": {},
     "output_type": "execute_result"
    }
   ],
   "source": [
    "for i in date_tags:\n",
    "    \n",
    "    title=i.text\n",
    "    date.append(title)\n",
    "date[0:10]"
   ]
  },
  {
   "cell_type": "code",
   "execution_count": 10,
   "metadata": {},
   "outputs": [
    {
     "data": {
      "text/plain": [
       "[<selenium.webdriver.remote.webelement.WebElement (session=\"8be8e59626885f1af6f8bf3d9456d8d5\", element=\"376de270-99b8-43ad-883d-16c38f906314\")>,\n",
       " <selenium.webdriver.remote.webelement.WebElement (session=\"8be8e59626885f1af6f8bf3d9456d8d5\", element=\"62a5592f-569a-4b50-b747-ace9bf921a97\")>,\n",
       " <selenium.webdriver.remote.webelement.WebElement (session=\"8be8e59626885f1af6f8bf3d9456d8d5\", element=\"59583293-7c48-4ead-b76e-53cc60c7c8b9\")>,\n",
       " <selenium.webdriver.remote.webelement.WebElement (session=\"8be8e59626885f1af6f8bf3d9456d8d5\", element=\"d5b3348d-c55c-474e-a659-b4404cf4e0ac\")>,\n",
       " <selenium.webdriver.remote.webelement.WebElement (session=\"8be8e59626885f1af6f8bf3d9456d8d5\", element=\"ff630015-3cce-4ac7-a0f6-164ba355d849\")>,\n",
       " <selenium.webdriver.remote.webelement.WebElement (session=\"8be8e59626885f1af6f8bf3d9456d8d5\", element=\"7feb21c8-46d8-4ec4-9b20-853435563049\")>,\n",
       " <selenium.webdriver.remote.webelement.WebElement (session=\"8be8e59626885f1af6f8bf3d9456d8d5\", element=\"5733a95a-9847-459d-91ab-0da81a879451\")>,\n",
       " <selenium.webdriver.remote.webelement.WebElement (session=\"8be8e59626885f1af6f8bf3d9456d8d5\", element=\"909b392d-e58b-4df3-a440-45c985c692f3\")>,\n",
       " <selenium.webdriver.remote.webelement.WebElement (session=\"8be8e59626885f1af6f8bf3d9456d8d5\", element=\"04ce85c2-7d4e-45d7-91fe-eb7e3af48a35\")>,\n",
       " <selenium.webdriver.remote.webelement.WebElement (session=\"8be8e59626885f1af6f8bf3d9456d8d5\", element=\"fe2f26b9-dfe8-4e9f-8546-ba2b23f21cf7\")>]"
      ]
     },
     "execution_count": 10,
     "metadata": {},
     "output_type": "execute_result"
    }
   ],
   "source": [
    "desc_tags=driver.find_elements_by_xpath(\"//div[@class='post-summary']\")\n",
    "desc_tags[0:10]"
   ]
  },
  {
   "cell_type": "code",
   "execution_count": 11,
   "metadata": {},
   "outputs": [
    {
     "data": {
      "text/plain": [
       "['An analysis of Delhi’s air pollution and future trends says that 60% of Delhi’s particulate matter pollution comes from…',\n",
       " 'It is amazing how braids can have so many variations. After fabric-woven braid, the latest trend that has hit the runway is the…',\n",
       " \"Bengaluru, India's latest communication satellite GSAT-18 was today successfully launched by a heavy duty rocket of Arianespace…\",\n",
       " \"Nivin Pauly is a busy man these days. The actor who grew his beard to play a guy from a coastal area in Gautham Ramachandran's…\",\n",
       " \"Anushka Sharma had a tough time shooting for the song, 'Channa Mereya', from Karan Johar's 'Ae Dil Hai Mushkil'. We hear, the…\",\n",
       " \"China's Lenovo Group Ltd is in talks to bring Fujitsu Ltd's personal computer business under its control, allowing the Japanese…\",\n",
       " \"Recently, Karthi's first look from Kaashmora, where he looks like an armed warrior with a tonsure head and a long beard, was…\",\n",
       " \"International model Tony Luke made a dashing entry into films as the irresistible charmer Andrew in Jeethu Joseph's Oozham. Tony's…\",\n",
       " \"Gulzar and Vishal Bhardwaj, whose collaborations have always hit the right notes, are back together with a track for 'Motu Patlu —…\",\n",
       " 'Mumbai,  The rupee weakened further by 8 paise to 66.59 against the dollar today following increased demand for the American…']"
      ]
     },
     "execution_count": 11,
     "metadata": {},
     "output_type": "execute_result"
    }
   ],
   "source": [
    "for i in desc_tags:\n",
    "    \n",
    "    title=i.text\n",
    "    description.append(title)\n",
    "description[0:10]"
   ]
  },
  {
   "cell_type": "code",
   "execution_count": 12,
   "metadata": {},
   "outputs": [
    {
     "name": "stdout",
     "output_type": "stream",
     "text": [
      "10 10 10\n"
     ]
    }
   ],
   "source": [
    "print(len(news_titles),len(date),len(description))"
   ]
  },
  {
   "cell_type": "code",
   "execution_count": 13,
   "metadata": {},
   "outputs": [],
   "source": [
    "import pandas as pd\n",
    "news=pd.DataFrame({})\n",
    "news['title']=news_titles[0:10]\n",
    "news['date']=date[0:10]\n",
    "news['desc']=description[0:10]"
   ]
  },
  {
   "cell_type": "code",
   "execution_count": 14,
   "metadata": {},
   "outputs": [
    {
     "data": {
      "text/html": [
       "<div>\n",
       "<style scoped>\n",
       "    .dataframe tbody tr th:only-of-type {\n",
       "        vertical-align: middle;\n",
       "    }\n",
       "\n",
       "    .dataframe tbody tr th {\n",
       "        vertical-align: top;\n",
       "    }\n",
       "\n",
       "    .dataframe thead th {\n",
       "        text-align: right;\n",
       "    }\n",
       "</style>\n",
       "<table border=\"1\" class=\"dataframe\">\n",
       "  <thead>\n",
       "    <tr style=\"text-align: right;\">\n",
       "      <th></th>\n",
       "      <th>title</th>\n",
       "      <th>date</th>\n",
       "      <th>desc</th>\n",
       "    </tr>\n",
       "  </thead>\n",
       "  <tbody>\n",
       "    <tr>\n",
       "      <th>0</th>\n",
       "      <td>‘Bulk of Delhi’s pollution comes from neighbou...</td>\n",
       "      <td>Oct 6, 2016</td>\n",
       "      <td>An analysis of Delhi’s air pollution and futur...</td>\n",
       "    </tr>\n",
       "    <tr>\n",
       "      <th>1</th>\n",
       "      <td>Corset braids\\nEBM News English Oct 6, 2016\\nI...</td>\n",
       "      <td>Oct 6, 2016</td>\n",
       "      <td>It is amazing how braids can have so many vari...</td>\n",
       "    </tr>\n",
       "    <tr>\n",
       "      <th>2</th>\n",
       "      <td>GSAT-18 launched successfully on board Ariane-...</td>\n",
       "      <td>Oct 6, 2016</td>\n",
       "      <td>Bengaluru, India's latest communication satell...</td>\n",
       "    </tr>\n",
       "    <tr>\n",
       "      <th>3</th>\n",
       "      <td>Nivin Pauly to don multiple looks in Sidhartha...</td>\n",
       "      <td>Oct 6, 2016</td>\n",
       "      <td>Nivin Pauly is a busy man these days. The acto...</td>\n",
       "    </tr>\n",
       "    <tr>\n",
       "      <th>4</th>\n",
       "      <td>Shooting ‘Channa Mereya’ was a tough ‘exercise...</td>\n",
       "      <td>Oct 6, 2016</td>\n",
       "      <td>Anushka Sharma had a tough time shooting for t...</td>\n",
       "    </tr>\n",
       "    <tr>\n",
       "      <th>5</th>\n",
       "      <td>Lenovo in talks to take over Fujitsu’s PC busi...</td>\n",
       "      <td>Oct 6, 2016</td>\n",
       "      <td>China's Lenovo Group Ltd is in talks to bring ...</td>\n",
       "    </tr>\n",
       "    <tr>\n",
       "      <th>6</th>\n",
       "      <td>Karthi’s ‘real’ Kaashmora look\\nEBM News Engli...</td>\n",
       "      <td>Oct 6, 2016</td>\n",
       "      <td>Recently, Karthi's first look from Kaashmora, ...</td>\n",
       "    </tr>\n",
       "    <tr>\n",
       "      <th>7</th>\n",
       "      <td>I’m no Casanova or wastrel in real life: Tony ...</td>\n",
       "      <td>Oct 6, 2016</td>\n",
       "      <td>International model Tony Luke made a dashing e...</td>\n",
       "    </tr>\n",
       "    <tr>\n",
       "      <th>8</th>\n",
       "      <td>Gulzar-Vishal Bhardwaj create a peppy number f...</td>\n",
       "      <td>Oct 6, 2016</td>\n",
       "      <td>Gulzar and Vishal Bhardwaj, whose collaboratio...</td>\n",
       "    </tr>\n",
       "    <tr>\n",
       "      <th>9</th>\n",
       "      <td>Rupee runs up more losses, down 8 paise agains...</td>\n",
       "      <td>Oct 6, 2016</td>\n",
       "      <td>Mumbai,  The rupee weakened further by 8 paise...</td>\n",
       "    </tr>\n",
       "  </tbody>\n",
       "</table>\n",
       "</div>"
      ],
      "text/plain": [
       "                                               title         date  \\\n",
       "0  ‘Bulk of Delhi’s pollution comes from neighbou...  Oct 6, 2016   \n",
       "1  Corset braids\\nEBM News English Oct 6, 2016\\nI...  Oct 6, 2016   \n",
       "2  GSAT-18 launched successfully on board Ariane-...  Oct 6, 2016   \n",
       "3  Nivin Pauly to don multiple looks in Sidhartha...  Oct 6, 2016   \n",
       "4  Shooting ‘Channa Mereya’ was a tough ‘exercise...  Oct 6, 2016   \n",
       "5  Lenovo in talks to take over Fujitsu’s PC busi...  Oct 6, 2016   \n",
       "6  Karthi’s ‘real’ Kaashmora look\\nEBM News Engli...  Oct 6, 2016   \n",
       "7  I’m no Casanova or wastrel in real life: Tony ...  Oct 6, 2016   \n",
       "8  Gulzar-Vishal Bhardwaj create a peppy number f...  Oct 6, 2016   \n",
       "9  Rupee runs up more losses, down 8 paise agains...  Oct 6, 2016   \n",
       "\n",
       "                                                desc  \n",
       "0  An analysis of Delhi’s air pollution and futur...  \n",
       "1  It is amazing how braids can have so many vari...  \n",
       "2  Bengaluru, India's latest communication satell...  \n",
       "3  Nivin Pauly is a busy man these days. The acto...  \n",
       "4  Anushka Sharma had a tough time shooting for t...  \n",
       "5  China's Lenovo Group Ltd is in talks to bring ...  \n",
       "6  Recently, Karthi's first look from Kaashmora, ...  \n",
       "7  International model Tony Luke made a dashing e...  \n",
       "8  Gulzar and Vishal Bhardwaj, whose collaboratio...  \n",
       "9  Mumbai,  The rupee weakened further by 8 paise...  "
      ]
     },
     "execution_count": 14,
     "metadata": {},
     "output_type": "execute_result"
    }
   ],
   "source": [
    "news"
   ]
  },
  {
   "cell_type": "code",
   "execution_count": null,
   "metadata": {},
   "outputs": [],
   "source": []
  }
 ],
 "metadata": {
  "kernelspec": {
   "display_name": "Python 3",
   "language": "python",
   "name": "python3"
  },
  "language_info": {
   "codemirror_mode": {
    "name": "ipython",
    "version": 3
   },
   "file_extension": ".py",
   "mimetype": "text/x-python",
   "name": "python",
   "nbconvert_exporter": "python",
   "pygments_lexer": "ipython3",
   "version": "3.7.6"
  }
 },
 "nbformat": 4,
 "nbformat_minor": 4
}
