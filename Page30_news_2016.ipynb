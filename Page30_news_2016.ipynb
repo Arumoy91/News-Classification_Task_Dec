{
 "cells": [
  {
   "cell_type": "code",
   "execution_count": 1,
   "metadata": {},
   "outputs": [],
   "source": [
    "import selenium"
   ]
  },
  {
   "cell_type": "code",
   "execution_count": 2,
   "metadata": {},
   "outputs": [],
   "source": [
    "import pandas as pd\n",
    "from selenium import webdriver"
   ]
  },
  {
   "cell_type": "code",
   "execution_count": 3,
   "metadata": {},
   "outputs": [],
   "source": [
    "driver=webdriver.Chrome(\"C:\\chromedriver.exe\")"
   ]
  },
  {
   "cell_type": "code",
   "execution_count": 4,
   "metadata": {},
   "outputs": [],
   "source": [
    "driver.get('https://www.ebmnews.com/2016/page/30/')"
   ]
  },
  {
   "cell_type": "code",
   "execution_count": 5,
   "metadata": {},
   "outputs": [],
   "source": [
    "news_titles=[]\n",
    "date=[]\n",
    "description=[]"
   ]
  },
  {
   "cell_type": "code",
   "execution_count": 6,
   "metadata": {},
   "outputs": [
    {
     "data": {
      "text/plain": [
       "[<selenium.webdriver.remote.webelement.WebElement (session=\"a0d2678e38078bcffe994c00ef919bb6\", element=\"c2ea0763-e55c-4623-9b06-2a157f35a9de\")>,\n",
       " <selenium.webdriver.remote.webelement.WebElement (session=\"a0d2678e38078bcffe994c00ef919bb6\", element=\"3e7c47d7-da5c-4dc0-a692-b3e18dcf3a2e\")>,\n",
       " <selenium.webdriver.remote.webelement.WebElement (session=\"a0d2678e38078bcffe994c00ef919bb6\", element=\"eecc2e14-01c5-4c6e-8892-a4085f856955\")>,\n",
       " <selenium.webdriver.remote.webelement.WebElement (session=\"a0d2678e38078bcffe994c00ef919bb6\", element=\"97eeae5a-c618-4331-b2a0-9b96fbc26791\")>,\n",
       " <selenium.webdriver.remote.webelement.WebElement (session=\"a0d2678e38078bcffe994c00ef919bb6\", element=\"9942fdce-69fc-4e9f-8a26-2ed5c862ce8f\")>,\n",
       " <selenium.webdriver.remote.webelement.WebElement (session=\"a0d2678e38078bcffe994c00ef919bb6\", element=\"86a03177-a4bd-48d4-95cd-e54136685b7c\")>,\n",
       " <selenium.webdriver.remote.webelement.WebElement (session=\"a0d2678e38078bcffe994c00ef919bb6\", element=\"dc7caa3d-1548-42f9-a8ac-b85d3879bbd2\")>,\n",
       " <selenium.webdriver.remote.webelement.WebElement (session=\"a0d2678e38078bcffe994c00ef919bb6\", element=\"670b9ec9-0b62-4eae-aa83-b6645589da4a\")>,\n",
       " <selenium.webdriver.remote.webelement.WebElement (session=\"a0d2678e38078bcffe994c00ef919bb6\", element=\"d1acf6d8-6da0-4e8f-8d50-1a51650b8657\")>,\n",
       " <selenium.webdriver.remote.webelement.WebElement (session=\"a0d2678e38078bcffe994c00ef919bb6\", element=\"64c5901d-7929-4b9f-ba56-71b110dabfa0\")>]"
      ]
     },
     "execution_count": 6,
     "metadata": {},
     "output_type": "execute_result"
    }
   ],
   "source": [
    "title_tags=driver.find_elements_by_xpath(\"//div[@class='item-inner clearfix']\")\n",
    "title_tags[0:10]"
   ]
  },
  {
   "cell_type": "code",
   "execution_count": 7,
   "metadata": {},
   "outputs": [
    {
     "data": {
      "text/plain": [
       "['Cloud to stay, rain likely today\\nEBM News English Oct 5, 2016\\nNEW DELHI: Three days of intense humidity gave way to light showers across the city on Tuesday. While the Met department recorded…',\n",
       " 'Petition seeking to declare Pakistan ‘terror sponsor’ makes record\\nEBM News English Oct 5, 2016\\nWASHINGTON: More than 50,000 new signatures have been added to the final count of the White House petition seeking to designate…',\n",
       " 'Chain snatchers strike near India Gate\\nEBM News English Oct 5, 2016\\nNEW DELHI: On Sunday afternoon, two men on a bike snatched a gold chain from a 32-year-old woman at theRajpath-C Hexagon…',\n",
       " 'Trump questions mental strength of troops\\nEBM News English Oct 5, 2016\\nJoe Biden, the American vice president, has accused Donald Trump of\"ignorance\" over his remark that some members of the military…',\n",
       " 'SC reduces Cauvery quantum, will Karnataka heed?\\nEBM News English Oct 5, 2016\\nNEW DELHI: In the ongoing Cauvery battle, the Supreme Court on Tuesday directed Karnataka to release 2,000 cusecs of water per day…',\n",
       " 'No let-up in border firing, Pakistan forces target five places in Jammu\\nEBM News English Oct 5, 2016\\nSRINAGAR/NEW DELHI: Tension continued to prevail along the Line of Control and the international border in Jammu and Kashmir with…',\n",
       " 'Surgical strikes: Raha says situation ‘live’, ready for any challenge\\nEBM News English Oct 4, 2016\\nNew Delhi,  The situation is \"live\" in the wake of the surgical strikes on terror launch pads across the LoC and the armed forces…',\n",
       " \"Miandad has not recovered from shock over Pak’s defeat: Thakur\\nEBM News English Oct 4, 2016\\nNew Delhi, Reacting to Javed Miandad's tirade against India, BCCI president Anurag Thakur today said the former captain was still…\",\n",
       " 'Theresa May making ‘huge mistake’ with hard Brexit: Former deputy PM\\nEBM News English Oct 4, 2016\\nLONDON: British Prime Minister Theresa May is making a \"huge mistake\" by heading for a hard Brexit - severing ties with the…',\n",
       " 'Modi govt won’t allow anyone to dent India’s honour: Rajnath\\nEBM News English Oct 4, 2016\\nKargil, Amidst the ongoing hostilities with Pakistan, Home Minister Rajnath Singh today said the Modi government will not allow…']"
      ]
     },
     "execution_count": 7,
     "metadata": {},
     "output_type": "execute_result"
    }
   ],
   "source": [
    "for i in title_tags:\n",
    "    \n",
    "    title=i.text\n",
    "    news_titles.append(title)\n",
    "news_titles[0:10]"
   ]
  },
  {
   "cell_type": "code",
   "execution_count": 8,
   "metadata": {},
   "outputs": [
    {
     "data": {
      "text/plain": [
       "[<selenium.webdriver.remote.webelement.WebElement (session=\"a0d2678e38078bcffe994c00ef919bb6\", element=\"59ad0e92-8e44-4d91-9650-4c0c8fb2e2d7\")>,\n",
       " <selenium.webdriver.remote.webelement.WebElement (session=\"a0d2678e38078bcffe994c00ef919bb6\", element=\"1e871f21-7de1-4a16-8bcc-ef1fdcaf6a99\")>,\n",
       " <selenium.webdriver.remote.webelement.WebElement (session=\"a0d2678e38078bcffe994c00ef919bb6\", element=\"5ba76f6b-69c3-4b83-aabd-54b0f6b93180\")>,\n",
       " <selenium.webdriver.remote.webelement.WebElement (session=\"a0d2678e38078bcffe994c00ef919bb6\", element=\"3e2287ea-bd19-4e95-b9d4-da486e4e84e6\")>,\n",
       " <selenium.webdriver.remote.webelement.WebElement (session=\"a0d2678e38078bcffe994c00ef919bb6\", element=\"013f957b-568b-4e63-bddf-91dcdf9398d4\")>,\n",
       " <selenium.webdriver.remote.webelement.WebElement (session=\"a0d2678e38078bcffe994c00ef919bb6\", element=\"646b114f-af5a-4416-82c9-da77b44c719b\")>,\n",
       " <selenium.webdriver.remote.webelement.WebElement (session=\"a0d2678e38078bcffe994c00ef919bb6\", element=\"869b88e0-a0a6-4943-8861-c8e5e4a65749\")>,\n",
       " <selenium.webdriver.remote.webelement.WebElement (session=\"a0d2678e38078bcffe994c00ef919bb6\", element=\"b4a24b12-59da-43e4-b06c-8452a46c6503\")>,\n",
       " <selenium.webdriver.remote.webelement.WebElement (session=\"a0d2678e38078bcffe994c00ef919bb6\", element=\"eabf4b65-f2b2-4cc2-bfb9-900fbd4fa44b\")>,\n",
       " <selenium.webdriver.remote.webelement.WebElement (session=\"a0d2678e38078bcffe994c00ef919bb6\", element=\"e4c85b81-21c4-4fd0-8f26-d067e38963fb\")>]"
      ]
     },
     "execution_count": 8,
     "metadata": {},
     "output_type": "execute_result"
    }
   ],
   "source": [
    "date_tags=driver.find_elements_by_xpath(\"//span[@class='time']\")\n",
    "date_tags[0:10]"
   ]
  },
  {
   "cell_type": "code",
   "execution_count": 9,
   "metadata": {},
   "outputs": [
    {
     "data": {
      "text/plain": [
       "['Oct 5, 2016',\n",
       " 'Oct 5, 2016',\n",
       " 'Oct 5, 2016',\n",
       " 'Oct 5, 2016',\n",
       " 'Oct 5, 2016',\n",
       " 'Oct 5, 2016',\n",
       " 'Oct 4, 2016',\n",
       " 'Oct 4, 2016',\n",
       " 'Oct 4, 2016',\n",
       " 'Oct 4, 2016']"
      ]
     },
     "execution_count": 9,
     "metadata": {},
     "output_type": "execute_result"
    }
   ],
   "source": [
    "for i in date_tags:\n",
    "    \n",
    "    title=i.text\n",
    "    date.append(title)\n",
    "date[0:10]"
   ]
  },
  {
   "cell_type": "code",
   "execution_count": 10,
   "metadata": {},
   "outputs": [
    {
     "data": {
      "text/plain": [
       "[<selenium.webdriver.remote.webelement.WebElement (session=\"a0d2678e38078bcffe994c00ef919bb6\", element=\"bf11553f-0e52-4fa8-a751-b7232d6a4abe\")>,\n",
       " <selenium.webdriver.remote.webelement.WebElement (session=\"a0d2678e38078bcffe994c00ef919bb6\", element=\"9d9df66e-ab15-4bd4-b133-512cef80925a\")>,\n",
       " <selenium.webdriver.remote.webelement.WebElement (session=\"a0d2678e38078bcffe994c00ef919bb6\", element=\"04e09e5c-02d8-4daf-9e0f-e59f7ce303ca\")>,\n",
       " <selenium.webdriver.remote.webelement.WebElement (session=\"a0d2678e38078bcffe994c00ef919bb6\", element=\"f9919df7-d744-43ea-a51e-e47fea759a62\")>,\n",
       " <selenium.webdriver.remote.webelement.WebElement (session=\"a0d2678e38078bcffe994c00ef919bb6\", element=\"512bea63-e888-4d57-9a9f-00273fa98cd8\")>,\n",
       " <selenium.webdriver.remote.webelement.WebElement (session=\"a0d2678e38078bcffe994c00ef919bb6\", element=\"769a7c15-4e79-42c7-842c-3a450e2c97a2\")>,\n",
       " <selenium.webdriver.remote.webelement.WebElement (session=\"a0d2678e38078bcffe994c00ef919bb6\", element=\"be57e980-dce1-4bd0-9eaa-2ea7c2ac2c79\")>,\n",
       " <selenium.webdriver.remote.webelement.WebElement (session=\"a0d2678e38078bcffe994c00ef919bb6\", element=\"bcc8e250-647e-4523-81d2-46701e2fc99b\")>,\n",
       " <selenium.webdriver.remote.webelement.WebElement (session=\"a0d2678e38078bcffe994c00ef919bb6\", element=\"9210d51a-811e-46d3-8fce-5b96ed06ed6f\")>,\n",
       " <selenium.webdriver.remote.webelement.WebElement (session=\"a0d2678e38078bcffe994c00ef919bb6\", element=\"0eafe470-07c9-48be-9527-86c86d4c7951\")>]"
      ]
     },
     "execution_count": 10,
     "metadata": {},
     "output_type": "execute_result"
    }
   ],
   "source": [
    "desc_tags=driver.find_elements_by_xpath(\"//div[@class='post-summary']\")\n",
    "desc_tags[0:10]"
   ]
  },
  {
   "cell_type": "code",
   "execution_count": 11,
   "metadata": {},
   "outputs": [
    {
     "data": {
      "text/plain": [
       "['NEW DELHI: Three days of intense humidity gave way to light showers across the city on Tuesday. While the Met department recorded…',\n",
       " 'WASHINGTON: More than 50,000 new signatures have been added to the final count of the White House petition seeking to designate…',\n",
       " 'NEW DELHI: On Sunday afternoon, two men on a bike snatched a gold chain from a 32-year-old woman at theRajpath-C Hexagon…',\n",
       " 'Joe Biden, the American vice president, has accused Donald Trump of\"ignorance\" over his remark that some members of the military…',\n",
       " 'NEW DELHI: In the ongoing Cauvery battle, the Supreme Court on Tuesday directed Karnataka to release 2,000 cusecs of water per day…',\n",
       " 'SRINAGAR/NEW DELHI: Tension continued to prevail along the Line of Control and the international border in Jammu and Kashmir with…',\n",
       " 'New Delhi,  The situation is \"live\" in the wake of the surgical strikes on terror launch pads across the LoC and the armed forces…',\n",
       " \"New Delhi, Reacting to Javed Miandad's tirade against India, BCCI president Anurag Thakur today said the former captain was still…\",\n",
       " 'LONDON: British Prime Minister Theresa May is making a \"huge mistake\" by heading for a hard Brexit - severing ties with the…',\n",
       " 'Kargil, Amidst the ongoing hostilities with Pakistan, Home Minister Rajnath Singh today said the Modi government will not allow…']"
      ]
     },
     "execution_count": 11,
     "metadata": {},
     "output_type": "execute_result"
    }
   ],
   "source": [
    "for i in desc_tags:\n",
    "    \n",
    "    title=i.text\n",
    "    description.append(title)\n",
    "description[0:10]"
   ]
  },
  {
   "cell_type": "code",
   "execution_count": 12,
   "metadata": {},
   "outputs": [
    {
     "name": "stdout",
     "output_type": "stream",
     "text": [
      "10 10 10\n"
     ]
    }
   ],
   "source": [
    "print(len(news_titles),len(date),len(description))"
   ]
  },
  {
   "cell_type": "code",
   "execution_count": 13,
   "metadata": {},
   "outputs": [],
   "source": [
    "import pandas as pd\n",
    "news=pd.DataFrame({})\n",
    "news['title']=news_titles[0:10]\n",
    "news['date']=date[0:10]\n",
    "news['desc']=description[0:10]"
   ]
  },
  {
   "cell_type": "code",
   "execution_count": 14,
   "metadata": {},
   "outputs": [
    {
     "data": {
      "text/html": [
       "<div>\n",
       "<style scoped>\n",
       "    .dataframe tbody tr th:only-of-type {\n",
       "        vertical-align: middle;\n",
       "    }\n",
       "\n",
       "    .dataframe tbody tr th {\n",
       "        vertical-align: top;\n",
       "    }\n",
       "\n",
       "    .dataframe thead th {\n",
       "        text-align: right;\n",
       "    }\n",
       "</style>\n",
       "<table border=\"1\" class=\"dataframe\">\n",
       "  <thead>\n",
       "    <tr style=\"text-align: right;\">\n",
       "      <th></th>\n",
       "      <th>title</th>\n",
       "      <th>date</th>\n",
       "      <th>desc</th>\n",
       "    </tr>\n",
       "  </thead>\n",
       "  <tbody>\n",
       "    <tr>\n",
       "      <th>0</th>\n",
       "      <td>Cloud to stay, rain likely today\\nEBM News Eng...</td>\n",
       "      <td>Oct 5, 2016</td>\n",
       "      <td>NEW DELHI: Three days of intense humidity gave...</td>\n",
       "    </tr>\n",
       "    <tr>\n",
       "      <th>1</th>\n",
       "      <td>Petition seeking to declare Pakistan ‘terror s...</td>\n",
       "      <td>Oct 5, 2016</td>\n",
       "      <td>WASHINGTON: More than 50,000 new signatures ha...</td>\n",
       "    </tr>\n",
       "    <tr>\n",
       "      <th>2</th>\n",
       "      <td>Chain snatchers strike near India Gate\\nEBM Ne...</td>\n",
       "      <td>Oct 5, 2016</td>\n",
       "      <td>NEW DELHI: On Sunday afternoon, two men on a b...</td>\n",
       "    </tr>\n",
       "    <tr>\n",
       "      <th>3</th>\n",
       "      <td>Trump questions mental strength of troops\\nEBM...</td>\n",
       "      <td>Oct 5, 2016</td>\n",
       "      <td>Joe Biden, the American vice president, has ac...</td>\n",
       "    </tr>\n",
       "    <tr>\n",
       "      <th>4</th>\n",
       "      <td>SC reduces Cauvery quantum, will Karnataka hee...</td>\n",
       "      <td>Oct 5, 2016</td>\n",
       "      <td>NEW DELHI: In the ongoing Cauvery battle, the ...</td>\n",
       "    </tr>\n",
       "    <tr>\n",
       "      <th>5</th>\n",
       "      <td>No let-up in border firing, Pakistan forces ta...</td>\n",
       "      <td>Oct 5, 2016</td>\n",
       "      <td>SRINAGAR/NEW DELHI: Tension continued to preva...</td>\n",
       "    </tr>\n",
       "    <tr>\n",
       "      <th>6</th>\n",
       "      <td>Surgical strikes: Raha says situation ‘live’, ...</td>\n",
       "      <td>Oct 4, 2016</td>\n",
       "      <td>New Delhi,  The situation is \"live\" in the wak...</td>\n",
       "    </tr>\n",
       "    <tr>\n",
       "      <th>7</th>\n",
       "      <td>Miandad has not recovered from shock over Pak’...</td>\n",
       "      <td>Oct 4, 2016</td>\n",
       "      <td>New Delhi, Reacting to Javed Miandad's tirade ...</td>\n",
       "    </tr>\n",
       "    <tr>\n",
       "      <th>8</th>\n",
       "      <td>Theresa May making ‘huge mistake’ with hard Br...</td>\n",
       "      <td>Oct 4, 2016</td>\n",
       "      <td>LONDON: British Prime Minister Theresa May is ...</td>\n",
       "    </tr>\n",
       "    <tr>\n",
       "      <th>9</th>\n",
       "      <td>Modi govt won’t allow anyone to dent India’s h...</td>\n",
       "      <td>Oct 4, 2016</td>\n",
       "      <td>Kargil, Amidst the ongoing hostilities with Pa...</td>\n",
       "    </tr>\n",
       "  </tbody>\n",
       "</table>\n",
       "</div>"
      ],
      "text/plain": [
       "                                               title         date  \\\n",
       "0  Cloud to stay, rain likely today\\nEBM News Eng...  Oct 5, 2016   \n",
       "1  Petition seeking to declare Pakistan ‘terror s...  Oct 5, 2016   \n",
       "2  Chain snatchers strike near India Gate\\nEBM Ne...  Oct 5, 2016   \n",
       "3  Trump questions mental strength of troops\\nEBM...  Oct 5, 2016   \n",
       "4  SC reduces Cauvery quantum, will Karnataka hee...  Oct 5, 2016   \n",
       "5  No let-up in border firing, Pakistan forces ta...  Oct 5, 2016   \n",
       "6  Surgical strikes: Raha says situation ‘live’, ...  Oct 4, 2016   \n",
       "7  Miandad has not recovered from shock over Pak’...  Oct 4, 2016   \n",
       "8  Theresa May making ‘huge mistake’ with hard Br...  Oct 4, 2016   \n",
       "9  Modi govt won’t allow anyone to dent India’s h...  Oct 4, 2016   \n",
       "\n",
       "                                                desc  \n",
       "0  NEW DELHI: Three days of intense humidity gave...  \n",
       "1  WASHINGTON: More than 50,000 new signatures ha...  \n",
       "2  NEW DELHI: On Sunday afternoon, two men on a b...  \n",
       "3  Joe Biden, the American vice president, has ac...  \n",
       "4  NEW DELHI: In the ongoing Cauvery battle, the ...  \n",
       "5  SRINAGAR/NEW DELHI: Tension continued to preva...  \n",
       "6  New Delhi,  The situation is \"live\" in the wak...  \n",
       "7  New Delhi, Reacting to Javed Miandad's tirade ...  \n",
       "8  LONDON: British Prime Minister Theresa May is ...  \n",
       "9  Kargil, Amidst the ongoing hostilities with Pa...  "
      ]
     },
     "execution_count": 14,
     "metadata": {},
     "output_type": "execute_result"
    }
   ],
   "source": [
    "news"
   ]
  },
  {
   "cell_type": "code",
   "execution_count": null,
   "metadata": {},
   "outputs": [],
   "source": []
  }
 ],
 "metadata": {
  "kernelspec": {
   "display_name": "Python 3",
   "language": "python",
   "name": "python3"
  },
  "language_info": {
   "codemirror_mode": {
    "name": "ipython",
    "version": 3
   },
   "file_extension": ".py",
   "mimetype": "text/x-python",
   "name": "python",
   "nbconvert_exporter": "python",
   "pygments_lexer": "ipython3",
   "version": "3.7.6"
  }
 },
 "nbformat": 4,
 "nbformat_minor": 4
}
