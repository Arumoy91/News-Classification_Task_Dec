{
 "cells": [
  {
   "cell_type": "code",
   "execution_count": 1,
   "metadata": {},
   "outputs": [],
   "source": [
    "import selenium"
   ]
  },
  {
   "cell_type": "code",
   "execution_count": 2,
   "metadata": {},
   "outputs": [],
   "source": [
    "import pandas as pd\n",
    "from selenium import webdriver"
   ]
  },
  {
   "cell_type": "code",
   "execution_count": 3,
   "metadata": {},
   "outputs": [],
   "source": [
    "driver=webdriver.Chrome(\"C:\\chromedriver.exe\")"
   ]
  },
  {
   "cell_type": "code",
   "execution_count": 4,
   "metadata": {},
   "outputs": [],
   "source": [
    "driver.get('https://www.ebmnews.com/2016/page/28/')"
   ]
  },
  {
   "cell_type": "code",
   "execution_count": 5,
   "metadata": {},
   "outputs": [],
   "source": [
    "news_titles=[]\n",
    "date=[]\n",
    "description=[]"
   ]
  },
  {
   "cell_type": "code",
   "execution_count": 6,
   "metadata": {},
   "outputs": [
    {
     "data": {
      "text/plain": [
       "[<selenium.webdriver.remote.webelement.WebElement (session=\"0b4f92463427ac448715b455fd000202\", element=\"c6d242de-0d95-4550-889c-d04732796364\")>,\n",
       " <selenium.webdriver.remote.webelement.WebElement (session=\"0b4f92463427ac448715b455fd000202\", element=\"acf9b71d-6430-43c0-852b-a87d1cb46a81\")>,\n",
       " <selenium.webdriver.remote.webelement.WebElement (session=\"0b4f92463427ac448715b455fd000202\", element=\"2eb243fb-f504-4292-87c5-6679198acc26\")>,\n",
       " <selenium.webdriver.remote.webelement.WebElement (session=\"0b4f92463427ac448715b455fd000202\", element=\"6d283bd4-a5fd-48a8-aa93-4525156bdff4\")>,\n",
       " <selenium.webdriver.remote.webelement.WebElement (session=\"0b4f92463427ac448715b455fd000202\", element=\"74f14e70-07cf-435e-b328-500a498a9c5b\")>,\n",
       " <selenium.webdriver.remote.webelement.WebElement (session=\"0b4f92463427ac448715b455fd000202\", element=\"ef5f54d8-ea9d-401d-99e7-00c4d8fa5e4d\")>,\n",
       " <selenium.webdriver.remote.webelement.WebElement (session=\"0b4f92463427ac448715b455fd000202\", element=\"86f2c5e6-fc7f-4d4b-ad5c-146872b73321\")>,\n",
       " <selenium.webdriver.remote.webelement.WebElement (session=\"0b4f92463427ac448715b455fd000202\", element=\"a23337c1-6437-425f-b8ea-ed4c7b83ed9d\")>,\n",
       " <selenium.webdriver.remote.webelement.WebElement (session=\"0b4f92463427ac448715b455fd000202\", element=\"fda7c56a-58cc-4509-940d-9a64294befa5\")>,\n",
       " <selenium.webdriver.remote.webelement.WebElement (session=\"0b4f92463427ac448715b455fd000202\", element=\"6dfde3b7-f1df-4627-b0af-44078a2f2e6e\")>]"
      ]
     },
     "execution_count": 6,
     "metadata": {},
     "output_type": "execute_result"
    }
   ],
   "source": [
    "title_tags=driver.find_elements_by_xpath(\"//div[@class='item-inner clearfix']\")\n",
    "title_tags[0:10]"
   ]
  },
  {
   "cell_type": "code",
   "execution_count": 7,
   "metadata": {},
   "outputs": [
    {
     "data": {
      "text/plain": [
       "['Sonia to meet Lankan PM;first public engagement since August\\nEBM News English Oct 5, 2016\\nNew Delhi,  Two months after she fell ill, Congress President Sonia Gandhi will today have her first public engagement when she…',\n",
       " 'Radhika Apte slams reporter for question on leaked ‘Parched’ video\\nEBM News English Oct 5, 2016\\nMUMBAI: Actress Radhika Apte on Tuesday got angry with a media reporter for asking about the leaked nude scenes in her last…',\n",
       " 'Hollywood is a challenge for Indian film industry: Irrfan Khan\\nEBM News English Oct 5, 2016\\nNEW DELHI: Actor Irrfan Khan, known for doing a variety of roles both in the West and in India, says Indian film industry is…',\n",
       " 'Kajol gives out her skincare secret\\nEBM News English Oct 5, 2016\\nNEW DELHI: Actress Kajol says she didnt take skincare seriously when she started out in showbiz, but realised its value over time.…',\n",
       " 'Proud of what she wrote: Theroux on Aniston’s ‘sexism’ essay\\nEBM News English Oct 5, 2016\\nLondon,Actor Justin Theroux has heaped praise on actress wife Jennifer Aniston for the passionate essay she penned about sexism…',\n",
       " 'BJP district youth wing chief hacked to death in Villupuram\\nEBM News English Oct 5, 2016\\nVILLUPURAM: The district youth wing president of Bharatiya Janata Party was brutally murdered on Tuesday by a gang of four which…',\n",
       " \"High Court rejects engineer’s bid to return his degree\\nEBM News English Oct 5, 2016\\nA 26-year-old man's guilt-driven attempt to get his engineering degree revoked because he cheated in an exam has failed to find…\",\n",
       " \"Chronic diseases: Over 20% of Indians suffer from cancer, diabetes, heart and respiratory illnesses\\nEBM News English Oct 5, 2016\\nNew Delhi: Over 20 per cent of the country's population suffers from at least one of the non-communicable diseases (NCDs), which…\",\n",
       " 'Google unveils new Pixel smartphones, other gadgets\\nEBM News English Oct 5, 2016\\nSAN FRANCISCO: Google launched an aggressive challenge to consumer electronics giants like Apple and Samsung on Tuesday,…',\n",
       " 'Hyundai recalls 7,657 units of the Eon\\nEBM News English Oct 5, 2016\\nThe Indian subsidiary of Korean carmaker Hyundai today announced a recall of its Eon hatchback to inspect the issue of “clutch…']"
      ]
     },
     "execution_count": 7,
     "metadata": {},
     "output_type": "execute_result"
    }
   ],
   "source": [
    "for i in title_tags:\n",
    "    \n",
    "    title=i.text\n",
    "    news_titles.append(title)\n",
    "news_titles[0:10]"
   ]
  },
  {
   "cell_type": "code",
   "execution_count": 8,
   "metadata": {},
   "outputs": [
    {
     "data": {
      "text/plain": [
       "[<selenium.webdriver.remote.webelement.WebElement (session=\"0b4f92463427ac448715b455fd000202\", element=\"8da2bc1d-d3ba-4a20-9b36-7e0480efcc5c\")>,\n",
       " <selenium.webdriver.remote.webelement.WebElement (session=\"0b4f92463427ac448715b455fd000202\", element=\"55227874-3998-432c-b792-0442a2a6b846\")>,\n",
       " <selenium.webdriver.remote.webelement.WebElement (session=\"0b4f92463427ac448715b455fd000202\", element=\"c627cf22-51ff-4bae-b6e6-a8054b6553c4\")>,\n",
       " <selenium.webdriver.remote.webelement.WebElement (session=\"0b4f92463427ac448715b455fd000202\", element=\"00709f79-8756-4066-8e87-e407d2b4834e\")>,\n",
       " <selenium.webdriver.remote.webelement.WebElement (session=\"0b4f92463427ac448715b455fd000202\", element=\"983f2fd6-6c92-4d99-b245-6cf4874ff1fb\")>,\n",
       " <selenium.webdriver.remote.webelement.WebElement (session=\"0b4f92463427ac448715b455fd000202\", element=\"b24fcdf0-1c67-4f9d-a73c-75d8fb5cf6b7\")>,\n",
       " <selenium.webdriver.remote.webelement.WebElement (session=\"0b4f92463427ac448715b455fd000202\", element=\"7fd57fbb-a06e-466d-b5a2-1d9563019ef8\")>,\n",
       " <selenium.webdriver.remote.webelement.WebElement (session=\"0b4f92463427ac448715b455fd000202\", element=\"3b2ff8f6-12a5-4f86-a21e-f87057c93880\")>,\n",
       " <selenium.webdriver.remote.webelement.WebElement (session=\"0b4f92463427ac448715b455fd000202\", element=\"0acaebe4-08f2-4df4-81cb-cd189ddfc988\")>,\n",
       " <selenium.webdriver.remote.webelement.WebElement (session=\"0b4f92463427ac448715b455fd000202\", element=\"74b4b1f1-68b5-46cd-a56e-528e7c429859\")>]"
      ]
     },
     "execution_count": 8,
     "metadata": {},
     "output_type": "execute_result"
    }
   ],
   "source": [
    "date_tags=driver.find_elements_by_xpath(\"//span[@class='time']\")\n",
    "date_tags[0:10]"
   ]
  },
  {
   "cell_type": "code",
   "execution_count": 9,
   "metadata": {},
   "outputs": [
    {
     "data": {
      "text/plain": [
       "['Oct 5, 2016',\n",
       " 'Oct 5, 2016',\n",
       " 'Oct 5, 2016',\n",
       " 'Oct 5, 2016',\n",
       " 'Oct 5, 2016',\n",
       " 'Oct 5, 2016',\n",
       " 'Oct 5, 2016',\n",
       " 'Oct 5, 2016',\n",
       " 'Oct 5, 2016',\n",
       " 'Oct 5, 2016']"
      ]
     },
     "execution_count": 9,
     "metadata": {},
     "output_type": "execute_result"
    }
   ],
   "source": [
    "for i in date_tags:\n",
    "    \n",
    "    title=i.text\n",
    "    date.append(title)\n",
    "date[0:10]"
   ]
  },
  {
   "cell_type": "code",
   "execution_count": 10,
   "metadata": {},
   "outputs": [
    {
     "data": {
      "text/plain": [
       "[<selenium.webdriver.remote.webelement.WebElement (session=\"0b4f92463427ac448715b455fd000202\", element=\"5bc5125f-f302-415d-a703-62b040289a5f\")>,\n",
       " <selenium.webdriver.remote.webelement.WebElement (session=\"0b4f92463427ac448715b455fd000202\", element=\"6983a2c8-e02c-4433-9945-fd0a25263148\")>,\n",
       " <selenium.webdriver.remote.webelement.WebElement (session=\"0b4f92463427ac448715b455fd000202\", element=\"d21bc5ca-7c8f-41d0-9b42-ca43cc8e5e18\")>,\n",
       " <selenium.webdriver.remote.webelement.WebElement (session=\"0b4f92463427ac448715b455fd000202\", element=\"186cd4e7-37f2-4de9-9b51-f2adff75c0b9\")>,\n",
       " <selenium.webdriver.remote.webelement.WebElement (session=\"0b4f92463427ac448715b455fd000202\", element=\"c7dbac40-9802-484f-8178-2d88a3f37bbf\")>,\n",
       " <selenium.webdriver.remote.webelement.WebElement (session=\"0b4f92463427ac448715b455fd000202\", element=\"613f40a8-dc73-4501-80a9-4436f8d3e2f1\")>,\n",
       " <selenium.webdriver.remote.webelement.WebElement (session=\"0b4f92463427ac448715b455fd000202\", element=\"83e16438-55ff-4bfb-a204-550b0f502d21\")>,\n",
       " <selenium.webdriver.remote.webelement.WebElement (session=\"0b4f92463427ac448715b455fd000202\", element=\"59dc374a-1b8c-4ee9-8c51-d73e837957ed\")>,\n",
       " <selenium.webdriver.remote.webelement.WebElement (session=\"0b4f92463427ac448715b455fd000202\", element=\"643ee64c-0415-4f1f-8e42-d4b8a59dc6ce\")>,\n",
       " <selenium.webdriver.remote.webelement.WebElement (session=\"0b4f92463427ac448715b455fd000202\", element=\"878c789d-5a9e-4ea7-a09f-bebf4898af6b\")>]"
      ]
     },
     "execution_count": 10,
     "metadata": {},
     "output_type": "execute_result"
    }
   ],
   "source": [
    "desc_tags=driver.find_elements_by_xpath(\"//div[@class='post-summary']\")\n",
    "desc_tags[0:10]"
   ]
  },
  {
   "cell_type": "code",
   "execution_count": 11,
   "metadata": {},
   "outputs": [
    {
     "data": {
      "text/plain": [
       "['New Delhi,  Two months after she fell ill, Congress President Sonia Gandhi will today have her first public engagement when she…',\n",
       " 'MUMBAI: Actress Radhika Apte on Tuesday got angry with a media reporter for asking about the leaked nude scenes in her last…',\n",
       " 'NEW DELHI: Actor Irrfan Khan, known for doing a variety of roles both in the West and in India, says Indian film industry is…',\n",
       " 'NEW DELHI: Actress Kajol says she didnt take skincare seriously when she started out in showbiz, but realised its value over time.…',\n",
       " 'London,Actor Justin Theroux has heaped praise on actress wife Jennifer Aniston for the passionate essay she penned about sexism…',\n",
       " 'VILLUPURAM: The district youth wing president of Bharatiya Janata Party was brutally murdered on Tuesday by a gang of four which…',\n",
       " \"A 26-year-old man's guilt-driven attempt to get his engineering degree revoked because he cheated in an exam has failed to find…\",\n",
       " \"New Delhi: Over 20 per cent of the country's population suffers from at least one of the non-communicable diseases (NCDs), which…\",\n",
       " 'SAN FRANCISCO: Google launched an aggressive challenge to consumer electronics giants like Apple and Samsung on Tuesday,…',\n",
       " 'The Indian subsidiary of Korean carmaker Hyundai today announced a recall of its Eon hatchback to inspect the issue of “clutch…']"
      ]
     },
     "execution_count": 11,
     "metadata": {},
     "output_type": "execute_result"
    }
   ],
   "source": [
    "for i in desc_tags:\n",
    "    \n",
    "    title=i.text\n",
    "    description.append(title)\n",
    "description[0:10]"
   ]
  },
  {
   "cell_type": "code",
   "execution_count": 12,
   "metadata": {},
   "outputs": [
    {
     "name": "stdout",
     "output_type": "stream",
     "text": [
      "10 10 10\n"
     ]
    }
   ],
   "source": [
    "print(len(news_titles),len(date),len(description))"
   ]
  },
  {
   "cell_type": "code",
   "execution_count": 13,
   "metadata": {},
   "outputs": [],
   "source": [
    "import pandas as pd\n",
    "news=pd.DataFrame({})\n",
    "news['title']=news_titles[0:10]\n",
    "news['date']=date[0:10]\n",
    "news['desc']=description[0:10]"
   ]
  },
  {
   "cell_type": "code",
   "execution_count": 14,
   "metadata": {},
   "outputs": [
    {
     "data": {
      "text/html": [
       "<div>\n",
       "<style scoped>\n",
       "    .dataframe tbody tr th:only-of-type {\n",
       "        vertical-align: middle;\n",
       "    }\n",
       "\n",
       "    .dataframe tbody tr th {\n",
       "        vertical-align: top;\n",
       "    }\n",
       "\n",
       "    .dataframe thead th {\n",
       "        text-align: right;\n",
       "    }\n",
       "</style>\n",
       "<table border=\"1\" class=\"dataframe\">\n",
       "  <thead>\n",
       "    <tr style=\"text-align: right;\">\n",
       "      <th></th>\n",
       "      <th>title</th>\n",
       "      <th>date</th>\n",
       "      <th>desc</th>\n",
       "    </tr>\n",
       "  </thead>\n",
       "  <tbody>\n",
       "    <tr>\n",
       "      <th>0</th>\n",
       "      <td>Sonia to meet Lankan PM;first public engagemen...</td>\n",
       "      <td>Oct 5, 2016</td>\n",
       "      <td>New Delhi,  Two months after she fell ill, Con...</td>\n",
       "    </tr>\n",
       "    <tr>\n",
       "      <th>1</th>\n",
       "      <td>Radhika Apte slams reporter for question on le...</td>\n",
       "      <td>Oct 5, 2016</td>\n",
       "      <td>MUMBAI: Actress Radhika Apte on Tuesday got an...</td>\n",
       "    </tr>\n",
       "    <tr>\n",
       "      <th>2</th>\n",
       "      <td>Hollywood is a challenge for Indian film indus...</td>\n",
       "      <td>Oct 5, 2016</td>\n",
       "      <td>NEW DELHI: Actor Irrfan Khan, known for doing ...</td>\n",
       "    </tr>\n",
       "    <tr>\n",
       "      <th>3</th>\n",
       "      <td>Kajol gives out her skincare secret\\nEBM News ...</td>\n",
       "      <td>Oct 5, 2016</td>\n",
       "      <td>NEW DELHI: Actress Kajol says she didnt take s...</td>\n",
       "    </tr>\n",
       "    <tr>\n",
       "      <th>4</th>\n",
       "      <td>Proud of what she wrote: Theroux on Aniston’s ...</td>\n",
       "      <td>Oct 5, 2016</td>\n",
       "      <td>London,Actor Justin Theroux has heaped praise ...</td>\n",
       "    </tr>\n",
       "    <tr>\n",
       "      <th>5</th>\n",
       "      <td>BJP district youth wing chief hacked to death ...</td>\n",
       "      <td>Oct 5, 2016</td>\n",
       "      <td>VILLUPURAM: The district youth wing president ...</td>\n",
       "    </tr>\n",
       "    <tr>\n",
       "      <th>6</th>\n",
       "      <td>High Court rejects engineer’s bid to return hi...</td>\n",
       "      <td>Oct 5, 2016</td>\n",
       "      <td>A 26-year-old man's guilt-driven attempt to ge...</td>\n",
       "    </tr>\n",
       "    <tr>\n",
       "      <th>7</th>\n",
       "      <td>Chronic diseases: Over 20% of Indians suffer f...</td>\n",
       "      <td>Oct 5, 2016</td>\n",
       "      <td>New Delhi: Over 20 per cent of the country's p...</td>\n",
       "    </tr>\n",
       "    <tr>\n",
       "      <th>8</th>\n",
       "      <td>Google unveils new Pixel smartphones, other ga...</td>\n",
       "      <td>Oct 5, 2016</td>\n",
       "      <td>SAN FRANCISCO: Google launched an aggressive c...</td>\n",
       "    </tr>\n",
       "    <tr>\n",
       "      <th>9</th>\n",
       "      <td>Hyundai recalls 7,657 units of the Eon\\nEBM Ne...</td>\n",
       "      <td>Oct 5, 2016</td>\n",
       "      <td>The Indian subsidiary of Korean carmaker Hyund...</td>\n",
       "    </tr>\n",
       "  </tbody>\n",
       "</table>\n",
       "</div>"
      ],
      "text/plain": [
       "                                               title         date  \\\n",
       "0  Sonia to meet Lankan PM;first public engagemen...  Oct 5, 2016   \n",
       "1  Radhika Apte slams reporter for question on le...  Oct 5, 2016   \n",
       "2  Hollywood is a challenge for Indian film indus...  Oct 5, 2016   \n",
       "3  Kajol gives out her skincare secret\\nEBM News ...  Oct 5, 2016   \n",
       "4  Proud of what she wrote: Theroux on Aniston’s ...  Oct 5, 2016   \n",
       "5  BJP district youth wing chief hacked to death ...  Oct 5, 2016   \n",
       "6  High Court rejects engineer’s bid to return hi...  Oct 5, 2016   \n",
       "7  Chronic diseases: Over 20% of Indians suffer f...  Oct 5, 2016   \n",
       "8  Google unveils new Pixel smartphones, other ga...  Oct 5, 2016   \n",
       "9  Hyundai recalls 7,657 units of the Eon\\nEBM Ne...  Oct 5, 2016   \n",
       "\n",
       "                                                desc  \n",
       "0  New Delhi,  Two months after she fell ill, Con...  \n",
       "1  MUMBAI: Actress Radhika Apte on Tuesday got an...  \n",
       "2  NEW DELHI: Actor Irrfan Khan, known for doing ...  \n",
       "3  NEW DELHI: Actress Kajol says she didnt take s...  \n",
       "4  London,Actor Justin Theroux has heaped praise ...  \n",
       "5  VILLUPURAM: The district youth wing president ...  \n",
       "6  A 26-year-old man's guilt-driven attempt to ge...  \n",
       "7  New Delhi: Over 20 per cent of the country's p...  \n",
       "8  SAN FRANCISCO: Google launched an aggressive c...  \n",
       "9  The Indian subsidiary of Korean carmaker Hyund...  "
      ]
     },
     "execution_count": 14,
     "metadata": {},
     "output_type": "execute_result"
    }
   ],
   "source": [
    "news"
   ]
  },
  {
   "cell_type": "code",
   "execution_count": null,
   "metadata": {},
   "outputs": [],
   "source": []
  }
 ],
 "metadata": {
  "kernelspec": {
   "display_name": "Python 3",
   "language": "python",
   "name": "python3"
  },
  "language_info": {
   "codemirror_mode": {
    "name": "ipython",
    "version": 3
   },
   "file_extension": ".py",
   "mimetype": "text/x-python",
   "name": "python",
   "nbconvert_exporter": "python",
   "pygments_lexer": "ipython3",
   "version": "3.7.6"
  }
 },
 "nbformat": 4,
 "nbformat_minor": 4
}
