{
 "cells": [
  {
   "cell_type": "code",
   "execution_count": 1,
   "metadata": {},
   "outputs": [],
   "source": [
    "import selenium"
   ]
  },
  {
   "cell_type": "code",
   "execution_count": 2,
   "metadata": {},
   "outputs": [],
   "source": [
    "import pandas as pd\n",
    "from selenium import webdriver"
   ]
  },
  {
   "cell_type": "code",
   "execution_count": 3,
   "metadata": {},
   "outputs": [],
   "source": [
    "driver=webdriver.Chrome(\"C:\\chromedriver.exe\")"
   ]
  },
  {
   "cell_type": "code",
   "execution_count": 4,
   "metadata": {},
   "outputs": [],
   "source": [
    "driver.get('https://www.ebmnews.com/2016/page/24/')"
   ]
  },
  {
   "cell_type": "code",
   "execution_count": 5,
   "metadata": {},
   "outputs": [],
   "source": [
    "news_titles=[]\n",
    "date=[]\n",
    "description=[]"
   ]
  },
  {
   "cell_type": "code",
   "execution_count": 6,
   "metadata": {},
   "outputs": [
    {
     "data": {
      "text/plain": [
       "[<selenium.webdriver.remote.webelement.WebElement (session=\"0fd5549751fe863877cf567f72f8598e\", element=\"c4a08d1d-f9d3-4f62-945f-bc0b95cf3db9\")>,\n",
       " <selenium.webdriver.remote.webelement.WebElement (session=\"0fd5549751fe863877cf567f72f8598e\", element=\"a5675c62-ffda-4a48-945a-52243a750ec0\")>,\n",
       " <selenium.webdriver.remote.webelement.WebElement (session=\"0fd5549751fe863877cf567f72f8598e\", element=\"5d0ebbcd-7a41-4662-84d2-45153183ba7d\")>,\n",
       " <selenium.webdriver.remote.webelement.WebElement (session=\"0fd5549751fe863877cf567f72f8598e\", element=\"4e37a89c-12f1-4c4f-a8af-7ba924715a79\")>,\n",
       " <selenium.webdriver.remote.webelement.WebElement (session=\"0fd5549751fe863877cf567f72f8598e\", element=\"21f9ae90-be80-48e2-8b64-43d39d168873\")>,\n",
       " <selenium.webdriver.remote.webelement.WebElement (session=\"0fd5549751fe863877cf567f72f8598e\", element=\"759930ec-4ee0-4f20-8c45-f77181f10b88\")>,\n",
       " <selenium.webdriver.remote.webelement.WebElement (session=\"0fd5549751fe863877cf567f72f8598e\", element=\"68b6498a-fae8-4063-a45a-0136a448660d\")>,\n",
       " <selenium.webdriver.remote.webelement.WebElement (session=\"0fd5549751fe863877cf567f72f8598e\", element=\"95df3019-5add-4a5d-be0f-c3072544439e\")>,\n",
       " <selenium.webdriver.remote.webelement.WebElement (session=\"0fd5549751fe863877cf567f72f8598e\", element=\"6423dfcc-1e9a-4b2f-bdba-9f890d779b09\")>,\n",
       " <selenium.webdriver.remote.webelement.WebElement (session=\"0fd5549751fe863877cf567f72f8598e\", element=\"08e31a0b-f563-4e9b-86ea-08482bbc8e9b\")>]"
      ]
     },
     "execution_count": 6,
     "metadata": {},
     "output_type": "execute_result"
    }
   ],
   "source": [
    "title_tags=driver.find_elements_by_xpath(\"//div[@class='item-inner clearfix']\")\n",
    "title_tags[0:10]"
   ]
  },
  {
   "cell_type": "code",
   "execution_count": 7,
   "metadata": {},
   "outputs": [
    {
     "data": {
      "text/plain": [
       "['OVL given nod for Vankor acquisition\\nEBM News English Oct 6, 2016\\nNEW DELHI: The Cabinet Committee on Economic Affairs chaired by Prime Minister Narendra Modi on Wednesday approved a proposal from…',\n",
       " 'Adani firm to acquire Rel Infra for G2K crore\\nEBM News English Oct 6, 2016\\nNEW DELHI: Adani Transmission Ltd (ATL) will acquire Reliance Infrastructure Limited (RInfra) for an estimated Rs 2,000 crore, the…',\n",
       " 'Maruti Vitara Brezza sales drives past 50,000 in 7 months\\nEBM News English Oct 6, 2016\\nMaruti’s first crack at the sub-four metre segment has proved to be among its most successful launches in the recent past, with…',\n",
       " 'Mayor likely to name 3 civic members on panel to hear draft DP objections today\\nEBM News English Oct 6, 2016\\nMUMBAI: Mayor Snehal Ambekar is likely to finally announce the names of the three civic standing committee members on the panel…',\n",
       " \"Mega India launch for Jaguar F-Pace on October 20\\nEBM News English Oct 6, 2016\\nJaguar will launch the brand's first-ever SUV, the F-Pace, in India on October 20, 2016, in grand style. Company sources say a…\",\n",
       " 'Chasing of dog leads to minor tiff, knife attack\\nEBM News English Oct 6, 2016\\nCHENNAI: What began as a petty argument about chasing away a stray dog turned violent. Sriram (30) from Andhra Pradesh was…',\n",
       " 'Obama hails ‘historic day’ in fight against climate change\\nEBM News English Oct 6, 2016\\nWASHINGTON: US President Barack Obama on Wednesday hailed the UN announcement that the Paris Agreement will enter into force in 30…',\n",
       " 'UN Special Rapporteur on minorities to make ten-day visit Sri Lanka from October 10\\nEBM News English Oct 6, 2016\\nCOLOMBO:  The United Nations Special Rapporteur on minority issues, Rita Izsák-Ndiaye, will pay an official visit to Sri Lanka…',\n",
       " 'Don’t dig well when house is on fire, SC warns govt on handling drought\\nEBM News English Oct 6, 2016\\nNEW DELHI: The Supreme Court admonished the Centre on Wednesday for repeating the mistakes it committed last year in tackling the…',\n",
       " 'Delhi govt halts issue of new liquor licences\\nEBM News English Oct 6, 2016\\nNEW DELHI: The Delhi government will not issue new liquor licences to restaurants or mall shops for now as part of a policy…']"
      ]
     },
     "execution_count": 7,
     "metadata": {},
     "output_type": "execute_result"
    }
   ],
   "source": [
    "for i in title_tags:\n",
    "    \n",
    "    title=i.text\n",
    "    news_titles.append(title)\n",
    "news_titles[0:10]"
   ]
  },
  {
   "cell_type": "code",
   "execution_count": 8,
   "metadata": {},
   "outputs": [
    {
     "data": {
      "text/plain": [
       "[<selenium.webdriver.remote.webelement.WebElement (session=\"0fd5549751fe863877cf567f72f8598e\", element=\"d0947f78-3495-4d5c-a0e9-b89f754b93a5\")>,\n",
       " <selenium.webdriver.remote.webelement.WebElement (session=\"0fd5549751fe863877cf567f72f8598e\", element=\"ad7ad5e0-e420-4374-8ffc-d2d028dcf873\")>,\n",
       " <selenium.webdriver.remote.webelement.WebElement (session=\"0fd5549751fe863877cf567f72f8598e\", element=\"b3c2e41e-0fb5-45b9-a404-1a2f75e86426\")>,\n",
       " <selenium.webdriver.remote.webelement.WebElement (session=\"0fd5549751fe863877cf567f72f8598e\", element=\"e984f9ca-da9e-46f5-8722-023fc0fa0488\")>,\n",
       " <selenium.webdriver.remote.webelement.WebElement (session=\"0fd5549751fe863877cf567f72f8598e\", element=\"6c81bcb6-9a1e-440d-b8c2-824b2d2f280d\")>,\n",
       " <selenium.webdriver.remote.webelement.WebElement (session=\"0fd5549751fe863877cf567f72f8598e\", element=\"1bc561c2-56b1-4c82-a10a-61fd07ff4623\")>,\n",
       " <selenium.webdriver.remote.webelement.WebElement (session=\"0fd5549751fe863877cf567f72f8598e\", element=\"8d58a1dd-e63d-4bb0-a18c-394ba22b6bdd\")>,\n",
       " <selenium.webdriver.remote.webelement.WebElement (session=\"0fd5549751fe863877cf567f72f8598e\", element=\"5225ce7e-50d0-407b-a6c9-e4aeb97012db\")>,\n",
       " <selenium.webdriver.remote.webelement.WebElement (session=\"0fd5549751fe863877cf567f72f8598e\", element=\"c94d181f-9be8-4d5b-9a0d-414d3ebb1ef7\")>,\n",
       " <selenium.webdriver.remote.webelement.WebElement (session=\"0fd5549751fe863877cf567f72f8598e\", element=\"31210f0e-9285-4819-9ae9-4ce7dc731e65\")>]"
      ]
     },
     "execution_count": 8,
     "metadata": {},
     "output_type": "execute_result"
    }
   ],
   "source": [
    "date_tags=driver.find_elements_by_xpath(\"//span[@class='time']\")\n",
    "date_tags[0:10]"
   ]
  },
  {
   "cell_type": "code",
   "execution_count": 9,
   "metadata": {},
   "outputs": [
    {
     "data": {
      "text/plain": [
       "['Oct 6, 2016',\n",
       " 'Oct 6, 2016',\n",
       " 'Oct 6, 2016',\n",
       " 'Oct 6, 2016',\n",
       " 'Oct 6, 2016',\n",
       " 'Oct 6, 2016',\n",
       " 'Oct 6, 2016',\n",
       " 'Oct 6, 2016',\n",
       " 'Oct 6, 2016',\n",
       " 'Oct 6, 2016']"
      ]
     },
     "execution_count": 9,
     "metadata": {},
     "output_type": "execute_result"
    }
   ],
   "source": [
    "for i in date_tags:\n",
    "    \n",
    "    title=i.text\n",
    "    date.append(title)\n",
    "date[0:10]"
   ]
  },
  {
   "cell_type": "code",
   "execution_count": 10,
   "metadata": {},
   "outputs": [
    {
     "data": {
      "text/plain": [
       "[<selenium.webdriver.remote.webelement.WebElement (session=\"0fd5549751fe863877cf567f72f8598e\", element=\"e6f1696c-aa7c-4644-a8c9-7a1b49556ed9\")>,\n",
       " <selenium.webdriver.remote.webelement.WebElement (session=\"0fd5549751fe863877cf567f72f8598e\", element=\"b2e3893d-5d30-46ad-a004-bf3199fdae4b\")>,\n",
       " <selenium.webdriver.remote.webelement.WebElement (session=\"0fd5549751fe863877cf567f72f8598e\", element=\"74af1b2f-d8b4-4a95-8754-f4edc39ea603\")>,\n",
       " <selenium.webdriver.remote.webelement.WebElement (session=\"0fd5549751fe863877cf567f72f8598e\", element=\"9a440e77-5a01-4365-aff3-f6712fddb290\")>,\n",
       " <selenium.webdriver.remote.webelement.WebElement (session=\"0fd5549751fe863877cf567f72f8598e\", element=\"1852526b-0656-4fb9-bca2-76c748d2dbff\")>,\n",
       " <selenium.webdriver.remote.webelement.WebElement (session=\"0fd5549751fe863877cf567f72f8598e\", element=\"a653a058-b274-40d0-968d-d0e22035cb9f\")>,\n",
       " <selenium.webdriver.remote.webelement.WebElement (session=\"0fd5549751fe863877cf567f72f8598e\", element=\"990e424c-2d60-452c-9da0-ee454a36e567\")>,\n",
       " <selenium.webdriver.remote.webelement.WebElement (session=\"0fd5549751fe863877cf567f72f8598e\", element=\"1cdff3e4-063d-4d8e-ac28-25b2b23c4417\")>,\n",
       " <selenium.webdriver.remote.webelement.WebElement (session=\"0fd5549751fe863877cf567f72f8598e\", element=\"f5be17c8-b6c4-498c-92e9-db42a6d8b6f3\")>,\n",
       " <selenium.webdriver.remote.webelement.WebElement (session=\"0fd5549751fe863877cf567f72f8598e\", element=\"2af18b00-1c51-4ede-81a8-c34c4f6845b7\")>]"
      ]
     },
     "execution_count": 10,
     "metadata": {},
     "output_type": "execute_result"
    }
   ],
   "source": [
    "desc_tags=driver.find_elements_by_xpath(\"//div[@class='post-summary']\")\n",
    "desc_tags[0:10]"
   ]
  },
  {
   "cell_type": "code",
   "execution_count": 11,
   "metadata": {},
   "outputs": [
    {
     "data": {
      "text/plain": [
       "['NEW DELHI: The Cabinet Committee on Economic Affairs chaired by Prime Minister Narendra Modi on Wednesday approved a proposal from…',\n",
       " 'NEW DELHI: Adani Transmission Ltd (ATL) will acquire Reliance Infrastructure Limited (RInfra) for an estimated Rs 2,000 crore, the…',\n",
       " 'Maruti’s first crack at the sub-four metre segment has proved to be among its most successful launches in the recent past, with…',\n",
       " 'MUMBAI: Mayor Snehal Ambekar is likely to finally announce the names of the three civic standing committee members on the panel…',\n",
       " \"Jaguar will launch the brand's first-ever SUV, the F-Pace, in India on October 20, 2016, in grand style. Company sources say a…\",\n",
       " 'CHENNAI: What began as a petty argument about chasing away a stray dog turned violent. Sriram (30) from Andhra Pradesh was…',\n",
       " 'WASHINGTON: US President Barack Obama on Wednesday hailed the UN announcement that the Paris Agreement will enter into force in 30…',\n",
       " 'COLOMBO:  The United Nations Special Rapporteur on minority issues, Rita Izsák-Ndiaye, will pay an official visit to Sri Lanka…',\n",
       " 'NEW DELHI: The Supreme Court admonished the Centre on Wednesday for repeating the mistakes it committed last year in tackling the…',\n",
       " 'NEW DELHI: The Delhi government will not issue new liquor licences to restaurants or mall shops for now as part of a policy…']"
      ]
     },
     "execution_count": 11,
     "metadata": {},
     "output_type": "execute_result"
    }
   ],
   "source": [
    "for i in desc_tags:\n",
    "    \n",
    "    title=i.text\n",
    "    description.append(title)\n",
    "description[0:10]"
   ]
  },
  {
   "cell_type": "code",
   "execution_count": 12,
   "metadata": {},
   "outputs": [
    {
     "name": "stdout",
     "output_type": "stream",
     "text": [
      "10 10 10\n"
     ]
    }
   ],
   "source": [
    "print(len(news_titles),len(date),len(description))"
   ]
  },
  {
   "cell_type": "code",
   "execution_count": 13,
   "metadata": {},
   "outputs": [],
   "source": [
    "import pandas as pd\n",
    "news=pd.DataFrame({})\n",
    "news['title']=news_titles[0:10]\n",
    "news['date']=date[0:10]\n",
    "news['desc']=description[0:10]"
   ]
  },
  {
   "cell_type": "code",
   "execution_count": 14,
   "metadata": {},
   "outputs": [
    {
     "data": {
      "text/html": [
       "<div>\n",
       "<style scoped>\n",
       "    .dataframe tbody tr th:only-of-type {\n",
       "        vertical-align: middle;\n",
       "    }\n",
       "\n",
       "    .dataframe tbody tr th {\n",
       "        vertical-align: top;\n",
       "    }\n",
       "\n",
       "    .dataframe thead th {\n",
       "        text-align: right;\n",
       "    }\n",
       "</style>\n",
       "<table border=\"1\" class=\"dataframe\">\n",
       "  <thead>\n",
       "    <tr style=\"text-align: right;\">\n",
       "      <th></th>\n",
       "      <th>title</th>\n",
       "      <th>date</th>\n",
       "      <th>desc</th>\n",
       "    </tr>\n",
       "  </thead>\n",
       "  <tbody>\n",
       "    <tr>\n",
       "      <th>0</th>\n",
       "      <td>OVL given nod for Vankor acquisition\\nEBM News...</td>\n",
       "      <td>Oct 6, 2016</td>\n",
       "      <td>NEW DELHI: The Cabinet Committee on Economic A...</td>\n",
       "    </tr>\n",
       "    <tr>\n",
       "      <th>1</th>\n",
       "      <td>Adani firm to acquire Rel Infra for G2K crore\\...</td>\n",
       "      <td>Oct 6, 2016</td>\n",
       "      <td>NEW DELHI: Adani Transmission Ltd (ATL) will a...</td>\n",
       "    </tr>\n",
       "    <tr>\n",
       "      <th>2</th>\n",
       "      <td>Maruti Vitara Brezza sales drives past 50,000 ...</td>\n",
       "      <td>Oct 6, 2016</td>\n",
       "      <td>Maruti’s first crack at the sub-four metre seg...</td>\n",
       "    </tr>\n",
       "    <tr>\n",
       "      <th>3</th>\n",
       "      <td>Mayor likely to name 3 civic members on panel ...</td>\n",
       "      <td>Oct 6, 2016</td>\n",
       "      <td>MUMBAI: Mayor Snehal Ambekar is likely to fina...</td>\n",
       "    </tr>\n",
       "    <tr>\n",
       "      <th>4</th>\n",
       "      <td>Mega India launch for Jaguar F-Pace on October...</td>\n",
       "      <td>Oct 6, 2016</td>\n",
       "      <td>Jaguar will launch the brand's first-ever SUV,...</td>\n",
       "    </tr>\n",
       "    <tr>\n",
       "      <th>5</th>\n",
       "      <td>Chasing of dog leads to minor tiff, knife atta...</td>\n",
       "      <td>Oct 6, 2016</td>\n",
       "      <td>CHENNAI: What began as a petty argument about ...</td>\n",
       "    </tr>\n",
       "    <tr>\n",
       "      <th>6</th>\n",
       "      <td>Obama hails ‘historic day’ in fight against cl...</td>\n",
       "      <td>Oct 6, 2016</td>\n",
       "      <td>WASHINGTON: US President Barack Obama on Wedne...</td>\n",
       "    </tr>\n",
       "    <tr>\n",
       "      <th>7</th>\n",
       "      <td>UN Special Rapporteur on minorities to make te...</td>\n",
       "      <td>Oct 6, 2016</td>\n",
       "      <td>COLOMBO:  The United Nations Special Rapporteu...</td>\n",
       "    </tr>\n",
       "    <tr>\n",
       "      <th>8</th>\n",
       "      <td>Don’t dig well when house is on fire, SC warns...</td>\n",
       "      <td>Oct 6, 2016</td>\n",
       "      <td>NEW DELHI: The Supreme Court admonished the Ce...</td>\n",
       "    </tr>\n",
       "    <tr>\n",
       "      <th>9</th>\n",
       "      <td>Delhi govt halts issue of new liquor licences\\...</td>\n",
       "      <td>Oct 6, 2016</td>\n",
       "      <td>NEW DELHI: The Delhi government will not issue...</td>\n",
       "    </tr>\n",
       "  </tbody>\n",
       "</table>\n",
       "</div>"
      ],
      "text/plain": [
       "                                               title         date  \\\n",
       "0  OVL given nod for Vankor acquisition\\nEBM News...  Oct 6, 2016   \n",
       "1  Adani firm to acquire Rel Infra for G2K crore\\...  Oct 6, 2016   \n",
       "2  Maruti Vitara Brezza sales drives past 50,000 ...  Oct 6, 2016   \n",
       "3  Mayor likely to name 3 civic members on panel ...  Oct 6, 2016   \n",
       "4  Mega India launch for Jaguar F-Pace on October...  Oct 6, 2016   \n",
       "5  Chasing of dog leads to minor tiff, knife atta...  Oct 6, 2016   \n",
       "6  Obama hails ‘historic day’ in fight against cl...  Oct 6, 2016   \n",
       "7  UN Special Rapporteur on minorities to make te...  Oct 6, 2016   \n",
       "8  Don’t dig well when house is on fire, SC warns...  Oct 6, 2016   \n",
       "9  Delhi govt halts issue of new liquor licences\\...  Oct 6, 2016   \n",
       "\n",
       "                                                desc  \n",
       "0  NEW DELHI: The Cabinet Committee on Economic A...  \n",
       "1  NEW DELHI: Adani Transmission Ltd (ATL) will a...  \n",
       "2  Maruti’s first crack at the sub-four metre seg...  \n",
       "3  MUMBAI: Mayor Snehal Ambekar is likely to fina...  \n",
       "4  Jaguar will launch the brand's first-ever SUV,...  \n",
       "5  CHENNAI: What began as a petty argument about ...  \n",
       "6  WASHINGTON: US President Barack Obama on Wedne...  \n",
       "7  COLOMBO:  The United Nations Special Rapporteu...  \n",
       "8  NEW DELHI: The Supreme Court admonished the Ce...  \n",
       "9  NEW DELHI: The Delhi government will not issue...  "
      ]
     },
     "execution_count": 14,
     "metadata": {},
     "output_type": "execute_result"
    }
   ],
   "source": [
    "news"
   ]
  },
  {
   "cell_type": "code",
   "execution_count": null,
   "metadata": {},
   "outputs": [],
   "source": []
  }
 ],
 "metadata": {
  "kernelspec": {
   "display_name": "Python 3",
   "language": "python",
   "name": "python3"
  },
  "language_info": {
   "codemirror_mode": {
    "name": "ipython",
    "version": 3
   },
   "file_extension": ".py",
   "mimetype": "text/x-python",
   "name": "python",
   "nbconvert_exporter": "python",
   "pygments_lexer": "ipython3",
   "version": "3.7.6"
  }
 },
 "nbformat": 4,
 "nbformat_minor": 4
}
