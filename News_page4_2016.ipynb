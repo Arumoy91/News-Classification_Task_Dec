{
 "cells": [
  {
   "cell_type": "code",
   "execution_count": 1,
   "metadata": {},
   "outputs": [],
   "source": [
    "import selenium"
   ]
  },
  {
   "cell_type": "code",
   "execution_count": 2,
   "metadata": {},
   "outputs": [],
   "source": [
    "import pandas as pd\n",
    "from selenium import webdriver"
   ]
  },
  {
   "cell_type": "code",
   "execution_count": 3,
   "metadata": {},
   "outputs": [],
   "source": [
    "driver=webdriver.Chrome(\"C:\\chromedriver.exe\")"
   ]
  },
  {
   "cell_type": "code",
   "execution_count": 4,
   "metadata": {},
   "outputs": [],
   "source": [
    "driver.get('https://www.ebmnews.com/2016/page/4/')"
   ]
  },
  {
   "cell_type": "code",
   "execution_count": 5,
   "metadata": {},
   "outputs": [],
   "source": [
    "news_titles=[]\n",
    "date=[]\n",
    "description=[]"
   ]
  },
  {
   "cell_type": "code",
   "execution_count": 6,
   "metadata": {},
   "outputs": [
    {
     "data": {
      "text/plain": [
       "[<selenium.webdriver.remote.webelement.WebElement (session=\"a4219f866c2f49f4229cbfc0640a7f31\", element=\"38747a05-a0b2-4adf-a4c2-bd056c3cc522\")>,\n",
       " <selenium.webdriver.remote.webelement.WebElement (session=\"a4219f866c2f49f4229cbfc0640a7f31\", element=\"d104d9eb-efd7-4041-814c-23679d6829cf\")>,\n",
       " <selenium.webdriver.remote.webelement.WebElement (session=\"a4219f866c2f49f4229cbfc0640a7f31\", element=\"ae81b0d4-6cee-400d-be03-6e67523ebc37\")>,\n",
       " <selenium.webdriver.remote.webelement.WebElement (session=\"a4219f866c2f49f4229cbfc0640a7f31\", element=\"06020184-3ef0-4487-a36b-5b917975b68e\")>,\n",
       " <selenium.webdriver.remote.webelement.WebElement (session=\"a4219f866c2f49f4229cbfc0640a7f31\", element=\"7efbb956-27d8-4450-9667-141892e80bfa\")>,\n",
       " <selenium.webdriver.remote.webelement.WebElement (session=\"a4219f866c2f49f4229cbfc0640a7f31\", element=\"68abf773-5348-44b1-8dfa-4c93cea40113\")>,\n",
       " <selenium.webdriver.remote.webelement.WebElement (session=\"a4219f866c2f49f4229cbfc0640a7f31\", element=\"8e920f37-6e7d-40fb-9886-874016bd1076\")>,\n",
       " <selenium.webdriver.remote.webelement.WebElement (session=\"a4219f866c2f49f4229cbfc0640a7f31\", element=\"11594b65-1def-4c2b-bb85-9dc6e4e504b1\")>,\n",
       " <selenium.webdriver.remote.webelement.WebElement (session=\"a4219f866c2f49f4229cbfc0640a7f31\", element=\"35d9b48d-8d2a-466a-99b2-b042bea27f9f\")>,\n",
       " <selenium.webdriver.remote.webelement.WebElement (session=\"a4219f866c2f49f4229cbfc0640a7f31\", element=\"f04468bd-8e79-4180-bc21-49f922d2b6b3\")>]"
      ]
     },
     "execution_count": 6,
     "metadata": {},
     "output_type": "execute_result"
    }
   ],
   "source": [
    "title_tags=driver.find_elements_by_xpath(\"//div[@class='item-inner clearfix']\")\n",
    "title_tags[0:10]"
   ]
  },
  {
   "cell_type": "code",
   "execution_count": 7,
   "metadata": {},
   "outputs": [
    {
     "data": {
      "text/plain": [
       "['17-yr-old robbed at knifepoint\\nEBM News English Oct 14, 2016\\nNEW DELHI: A 17-year-old girl was allegedly robbed after being held at knifepoint at Sant Nagar in Burari on Wednesday night. The…',\n",
       " 'BMW Motorrad unveils Vision Next 100 concept motorcycle\\nEBM News English Oct 14, 2016\\nFollowing the BMW, Mini and Rolls-Royce Vision vehicles, the BMW Group has now revealed its next progressive solution for the…',\n",
       " 'US Postal Service picks Mahindra to develop next-gen delivery vehicle prototypes\\nEBM News English Oct 14, 2016\\nThe United States Postal Service (USPS) has selected Mahindra & Mahindra for NGDV prototype vehicles following a competitive…',\n",
       " 'Cong to move no-confidence motion against BMC chief\\nEBM News English Oct 14, 2016\\nMUMBAI: The opposition Congress in the BMC will bring a \"no-confidence\" motion against civic chief Ajoy Mehta over potholes and…',\n",
       " 'FIFA to decide on World Cup reform in January\\nEBM News English Oct 14, 2016\\nZurich, Oct 14 (AFP) FIFA executives will make a final decision on World Cup reform in January after weighing up three proposals…',\n",
       " 'New Toyota Prius coming in early 2017\\nEBM News English Oct 14, 2016\\nToyota’s new Prius is slated for a launch in early 2017. The ground-breaking petrol-hybrid has been on sale in the Indian market…',\n",
       " 'New Volkswagen Passat India launch in January\\nEBM News English Oct 14, 2016\\nVolkswagen is preparing to launch the new eight-gen Passat in India sometime in January 2017. Test mules of the new car wearing no…',\n",
       " 'Easing inflation opens up room for rate cut\\nEBM News English Oct 14, 2016\\nCHENNAI: Retail inflation has continued to fall for the third consecutive month, standing at a 13 month low of 4.31 per cent…',\n",
       " 'Airtel offers 100 mbps connections\\nEBM News English Oct 14, 2016\\nCHENNAI: Bharti Airtel has announced it deployed ‘V-Fiber’ technology in Chennai on Thursday to offer superfast broadband speeds…',\n",
       " 'Gold prices edge lower in Asian market as equities, dollar gain\\nEBM News English Oct 14, 2016\\nBENGALURU: Gold prices edged lower on Friday as stocks firmed and the U.S. dollar rose on expectations the Federal Reserve would…']"
      ]
     },
     "execution_count": 7,
     "metadata": {},
     "output_type": "execute_result"
    }
   ],
   "source": [
    "for i in title_tags:\n",
    "    \n",
    "    title=i.text\n",
    "    news_titles.append(title)\n",
    "news_titles[0:10]"
   ]
  },
  {
   "cell_type": "code",
   "execution_count": 8,
   "metadata": {},
   "outputs": [
    {
     "data": {
      "text/plain": [
       "[<selenium.webdriver.remote.webelement.WebElement (session=\"a4219f866c2f49f4229cbfc0640a7f31\", element=\"71510408-9e35-4c14-a470-fac171c44e71\")>,\n",
       " <selenium.webdriver.remote.webelement.WebElement (session=\"a4219f866c2f49f4229cbfc0640a7f31\", element=\"96ada855-8161-4783-b626-751146c1c6fb\")>,\n",
       " <selenium.webdriver.remote.webelement.WebElement (session=\"a4219f866c2f49f4229cbfc0640a7f31\", element=\"b6ea0e80-5b5d-4736-841d-e1513b8f6587\")>,\n",
       " <selenium.webdriver.remote.webelement.WebElement (session=\"a4219f866c2f49f4229cbfc0640a7f31\", element=\"46adb67c-2d4f-4d7d-a277-1566b56fc66c\")>,\n",
       " <selenium.webdriver.remote.webelement.WebElement (session=\"a4219f866c2f49f4229cbfc0640a7f31\", element=\"8da0fb80-49a1-45c3-9856-0831500d9962\")>,\n",
       " <selenium.webdriver.remote.webelement.WebElement (session=\"a4219f866c2f49f4229cbfc0640a7f31\", element=\"d6204c70-e618-4fff-b852-89ba10735d72\")>,\n",
       " <selenium.webdriver.remote.webelement.WebElement (session=\"a4219f866c2f49f4229cbfc0640a7f31\", element=\"bb6be429-0e05-4f71-a3fc-1c3b95487eb3\")>,\n",
       " <selenium.webdriver.remote.webelement.WebElement (session=\"a4219f866c2f49f4229cbfc0640a7f31\", element=\"3e9cac64-01ac-4cf9-bf68-aad1dbca968b\")>,\n",
       " <selenium.webdriver.remote.webelement.WebElement (session=\"a4219f866c2f49f4229cbfc0640a7f31\", element=\"e632a56a-5a31-4447-8c4b-58004cf4d319\")>,\n",
       " <selenium.webdriver.remote.webelement.WebElement (session=\"a4219f866c2f49f4229cbfc0640a7f31\", element=\"a9697285-2d2e-4bd3-8ec8-afdaf0c7c187\")>]"
      ]
     },
     "execution_count": 8,
     "metadata": {},
     "output_type": "execute_result"
    }
   ],
   "source": [
    "date_tags=driver.find_elements_by_xpath(\"//span[@class='time']\")\n",
    "date_tags[0:10]"
   ]
  },
  {
   "cell_type": "code",
   "execution_count": 9,
   "metadata": {},
   "outputs": [
    {
     "data": {
      "text/plain": [
       "['Oct 14, 2016',\n",
       " 'Oct 14, 2016',\n",
       " 'Oct 14, 2016',\n",
       " 'Oct 14, 2016',\n",
       " 'Oct 14, 2016',\n",
       " 'Oct 14, 2016',\n",
       " 'Oct 14, 2016',\n",
       " 'Oct 14, 2016',\n",
       " 'Oct 14, 2016',\n",
       " 'Oct 14, 2016']"
      ]
     },
     "execution_count": 9,
     "metadata": {},
     "output_type": "execute_result"
    }
   ],
   "source": [
    "for i in date_tags:\n",
    "    \n",
    "    title=i.text\n",
    "    date.append(title)\n",
    "date[0:10]"
   ]
  },
  {
   "cell_type": "code",
   "execution_count": 10,
   "metadata": {},
   "outputs": [
    {
     "data": {
      "text/plain": [
       "[<selenium.webdriver.remote.webelement.WebElement (session=\"a4219f866c2f49f4229cbfc0640a7f31\", element=\"e338778e-0495-4dee-922b-a3bfef3446a7\")>,\n",
       " <selenium.webdriver.remote.webelement.WebElement (session=\"a4219f866c2f49f4229cbfc0640a7f31\", element=\"e1c0815b-28a8-4c38-825b-74446a4f148b\")>,\n",
       " <selenium.webdriver.remote.webelement.WebElement (session=\"a4219f866c2f49f4229cbfc0640a7f31\", element=\"da24ec58-bebc-49fb-8bb2-1c267069a1c7\")>,\n",
       " <selenium.webdriver.remote.webelement.WebElement (session=\"a4219f866c2f49f4229cbfc0640a7f31\", element=\"38a7e065-7d2b-4134-9c0a-4bb5f9bbbd26\")>,\n",
       " <selenium.webdriver.remote.webelement.WebElement (session=\"a4219f866c2f49f4229cbfc0640a7f31\", element=\"7393ef06-38c7-484e-818c-7b00509ea4eb\")>,\n",
       " <selenium.webdriver.remote.webelement.WebElement (session=\"a4219f866c2f49f4229cbfc0640a7f31\", element=\"15bf11f9-0a44-4dd7-acb8-27f9aecafa74\")>,\n",
       " <selenium.webdriver.remote.webelement.WebElement (session=\"a4219f866c2f49f4229cbfc0640a7f31\", element=\"45152ee8-c87a-4639-a3cf-4f9e84e795eb\")>,\n",
       " <selenium.webdriver.remote.webelement.WebElement (session=\"a4219f866c2f49f4229cbfc0640a7f31\", element=\"64191312-37c1-469e-adc3-6344f84be013\")>,\n",
       " <selenium.webdriver.remote.webelement.WebElement (session=\"a4219f866c2f49f4229cbfc0640a7f31\", element=\"bf4f1f7b-8818-43ec-ad6e-b741a52e813c\")>,\n",
       " <selenium.webdriver.remote.webelement.WebElement (session=\"a4219f866c2f49f4229cbfc0640a7f31\", element=\"a3c353c6-c883-494c-92f4-9050c020a0b6\")>]"
      ]
     },
     "execution_count": 10,
     "metadata": {},
     "output_type": "execute_result"
    }
   ],
   "source": [
    "desc_tags=driver.find_elements_by_xpath(\"//div[@class='post-summary']\")\n",
    "desc_tags[0:10]"
   ]
  },
  {
   "cell_type": "code",
   "execution_count": 11,
   "metadata": {},
   "outputs": [
    {
     "data": {
      "text/plain": [
       "['NEW DELHI: A 17-year-old girl was allegedly robbed after being held at knifepoint at Sant Nagar in Burari on Wednesday night. The…',\n",
       " 'Following the BMW, Mini and Rolls-Royce Vision vehicles, the BMW Group has now revealed its next progressive solution for the…',\n",
       " 'The United States Postal Service (USPS) has selected Mahindra & Mahindra for NGDV prototype vehicles following a competitive…',\n",
       " 'MUMBAI: The opposition Congress in the BMC will bring a \"no-confidence\" motion against civic chief Ajoy Mehta over potholes and…',\n",
       " 'Zurich, Oct 14 (AFP) FIFA executives will make a final decision on World Cup reform in January after weighing up three proposals…',\n",
       " 'Toyota’s new Prius is slated for a launch in early 2017. The ground-breaking petrol-hybrid has been on sale in the Indian market…',\n",
       " 'Volkswagen is preparing to launch the new eight-gen Passat in India sometime in January 2017. Test mules of the new car wearing no…',\n",
       " 'CHENNAI: Retail inflation has continued to fall for the third consecutive month, standing at a 13 month low of 4.31 per cent…',\n",
       " 'CHENNAI: Bharti Airtel has announced it deployed ‘V-Fiber’ technology in Chennai on Thursday to offer superfast broadband speeds…',\n",
       " 'BENGALURU: Gold prices edged lower on Friday as stocks firmed and the U.S. dollar rose on expectations the Federal Reserve would…']"
      ]
     },
     "execution_count": 11,
     "metadata": {},
     "output_type": "execute_result"
    }
   ],
   "source": [
    "for i in desc_tags:\n",
    "    \n",
    "    title=i.text\n",
    "    description.append(title)\n",
    "description[0:10]"
   ]
  },
  {
   "cell_type": "code",
   "execution_count": 12,
   "metadata": {},
   "outputs": [
    {
     "name": "stdout",
     "output_type": "stream",
     "text": [
      "10 10 10\n"
     ]
    }
   ],
   "source": [
    "print(len(news_titles),len(date),len(description))"
   ]
  },
  {
   "cell_type": "code",
   "execution_count": 13,
   "metadata": {},
   "outputs": [],
   "source": [
    "import pandas as pd\n",
    "news=pd.DataFrame({})\n",
    "news['title']=news_titles[0:10]\n",
    "news['date']=date[0:10]\n",
    "news['desc']=description[0:10]"
   ]
  },
  {
   "cell_type": "code",
   "execution_count": 14,
   "metadata": {},
   "outputs": [
    {
     "data": {
      "text/html": [
       "<div>\n",
       "<style scoped>\n",
       "    .dataframe tbody tr th:only-of-type {\n",
       "        vertical-align: middle;\n",
       "    }\n",
       "\n",
       "    .dataframe tbody tr th {\n",
       "        vertical-align: top;\n",
       "    }\n",
       "\n",
       "    .dataframe thead th {\n",
       "        text-align: right;\n",
       "    }\n",
       "</style>\n",
       "<table border=\"1\" class=\"dataframe\">\n",
       "  <thead>\n",
       "    <tr style=\"text-align: right;\">\n",
       "      <th></th>\n",
       "      <th>title</th>\n",
       "      <th>date</th>\n",
       "      <th>desc</th>\n",
       "    </tr>\n",
       "  </thead>\n",
       "  <tbody>\n",
       "    <tr>\n",
       "      <th>0</th>\n",
       "      <td>17-yr-old robbed at knifepoint\\nEBM News Engli...</td>\n",
       "      <td>Oct 14, 2016</td>\n",
       "      <td>NEW DELHI: A 17-year-old girl was allegedly ro...</td>\n",
       "    </tr>\n",
       "    <tr>\n",
       "      <th>1</th>\n",
       "      <td>BMW Motorrad unveils Vision Next 100 concept m...</td>\n",
       "      <td>Oct 14, 2016</td>\n",
       "      <td>Following the BMW, Mini and Rolls-Royce Vision...</td>\n",
       "    </tr>\n",
       "    <tr>\n",
       "      <th>2</th>\n",
       "      <td>US Postal Service picks Mahindra to develop ne...</td>\n",
       "      <td>Oct 14, 2016</td>\n",
       "      <td>The United States Postal Service (USPS) has se...</td>\n",
       "    </tr>\n",
       "    <tr>\n",
       "      <th>3</th>\n",
       "      <td>Cong to move no-confidence motion against BMC ...</td>\n",
       "      <td>Oct 14, 2016</td>\n",
       "      <td>MUMBAI: The opposition Congress in the BMC wil...</td>\n",
       "    </tr>\n",
       "    <tr>\n",
       "      <th>4</th>\n",
       "      <td>FIFA to decide on World Cup reform in January\\...</td>\n",
       "      <td>Oct 14, 2016</td>\n",
       "      <td>Zurich, Oct 14 (AFP) FIFA executives will make...</td>\n",
       "    </tr>\n",
       "    <tr>\n",
       "      <th>5</th>\n",
       "      <td>New Toyota Prius coming in early 2017\\nEBM New...</td>\n",
       "      <td>Oct 14, 2016</td>\n",
       "      <td>Toyota’s new Prius is slated for a launch in e...</td>\n",
       "    </tr>\n",
       "    <tr>\n",
       "      <th>6</th>\n",
       "      <td>New Volkswagen Passat India launch in January\\...</td>\n",
       "      <td>Oct 14, 2016</td>\n",
       "      <td>Volkswagen is preparing to launch the new eigh...</td>\n",
       "    </tr>\n",
       "    <tr>\n",
       "      <th>7</th>\n",
       "      <td>Easing inflation opens up room for rate cut\\nE...</td>\n",
       "      <td>Oct 14, 2016</td>\n",
       "      <td>CHENNAI: Retail inflation has continued to fal...</td>\n",
       "    </tr>\n",
       "    <tr>\n",
       "      <th>8</th>\n",
       "      <td>Airtel offers 100 mbps connections\\nEBM News E...</td>\n",
       "      <td>Oct 14, 2016</td>\n",
       "      <td>CHENNAI: Bharti Airtel has announced it deploy...</td>\n",
       "    </tr>\n",
       "    <tr>\n",
       "      <th>9</th>\n",
       "      <td>Gold prices edge lower in Asian market as equi...</td>\n",
       "      <td>Oct 14, 2016</td>\n",
       "      <td>BENGALURU: Gold prices edged lower on Friday a...</td>\n",
       "    </tr>\n",
       "  </tbody>\n",
       "</table>\n",
       "</div>"
      ],
      "text/plain": [
       "                                               title          date  \\\n",
       "0  17-yr-old robbed at knifepoint\\nEBM News Engli...  Oct 14, 2016   \n",
       "1  BMW Motorrad unveils Vision Next 100 concept m...  Oct 14, 2016   \n",
       "2  US Postal Service picks Mahindra to develop ne...  Oct 14, 2016   \n",
       "3  Cong to move no-confidence motion against BMC ...  Oct 14, 2016   \n",
       "4  FIFA to decide on World Cup reform in January\\...  Oct 14, 2016   \n",
       "5  New Toyota Prius coming in early 2017\\nEBM New...  Oct 14, 2016   \n",
       "6  New Volkswagen Passat India launch in January\\...  Oct 14, 2016   \n",
       "7  Easing inflation opens up room for rate cut\\nE...  Oct 14, 2016   \n",
       "8  Airtel offers 100 mbps connections\\nEBM News E...  Oct 14, 2016   \n",
       "9  Gold prices edge lower in Asian market as equi...  Oct 14, 2016   \n",
       "\n",
       "                                                desc  \n",
       "0  NEW DELHI: A 17-year-old girl was allegedly ro...  \n",
       "1  Following the BMW, Mini and Rolls-Royce Vision...  \n",
       "2  The United States Postal Service (USPS) has se...  \n",
       "3  MUMBAI: The opposition Congress in the BMC wil...  \n",
       "4  Zurich, Oct 14 (AFP) FIFA executives will make...  \n",
       "5  Toyota’s new Prius is slated for a launch in e...  \n",
       "6  Volkswagen is preparing to launch the new eigh...  \n",
       "7  CHENNAI: Retail inflation has continued to fal...  \n",
       "8  CHENNAI: Bharti Airtel has announced it deploy...  \n",
       "9  BENGALURU: Gold prices edged lower on Friday a...  "
      ]
     },
     "execution_count": 14,
     "metadata": {},
     "output_type": "execute_result"
    }
   ],
   "source": [
    "news"
   ]
  },
  {
   "cell_type": "code",
   "execution_count": null,
   "metadata": {},
   "outputs": [],
   "source": []
  }
 ],
 "metadata": {
  "kernelspec": {
   "display_name": "Python 3",
   "language": "python",
   "name": "python3"
  },
  "language_info": {
   "codemirror_mode": {
    "name": "ipython",
    "version": 3
   },
   "file_extension": ".py",
   "mimetype": "text/x-python",
   "name": "python",
   "nbconvert_exporter": "python",
   "pygments_lexer": "ipython3",
   "version": "3.7.6"
  }
 },
 "nbformat": 4,
 "nbformat_minor": 4
}
