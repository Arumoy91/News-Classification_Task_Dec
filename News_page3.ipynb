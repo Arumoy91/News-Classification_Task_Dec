{
 "cells": [
  {
   "cell_type": "code",
   "execution_count": 1,
   "metadata": {},
   "outputs": [],
   "source": [
    "import selenium"
   ]
  },
  {
   "cell_type": "code",
   "execution_count": 2,
   "metadata": {},
   "outputs": [],
   "source": [
    "import pandas as pd\n",
    "from selenium import webdriver"
   ]
  },
  {
   "cell_type": "code",
   "execution_count": 3,
   "metadata": {},
   "outputs": [],
   "source": [
    "driver=webdriver.Chrome(\"C:\\chromedriver.exe\")"
   ]
  },
  {
   "cell_type": "code",
   "execution_count": 4,
   "metadata": {},
   "outputs": [],
   "source": [
    "driver.get('https://www.ebmnews.com/2015/page/3/')"
   ]
  },
  {
   "cell_type": "code",
   "execution_count": 5,
   "metadata": {},
   "outputs": [],
   "source": [
    "news_titles=[]\n",
    "date=[]\n",
    "description=[]"
   ]
  },
  {
   "cell_type": "code",
   "execution_count": 6,
   "metadata": {},
   "outputs": [
    {
     "data": {
      "text/plain": [
       "[<selenium.webdriver.remote.webelement.WebElement (session=\"5b28c55d9aa30ceefd9fe0879258fab8\", element=\"46c51905-8aba-419e-9298-71f92fcf0fe1\")>,\n",
       " <selenium.webdriver.remote.webelement.WebElement (session=\"5b28c55d9aa30ceefd9fe0879258fab8\", element=\"977b63a1-4f68-4f09-8847-116611dfb212\")>,\n",
       " <selenium.webdriver.remote.webelement.WebElement (session=\"5b28c55d9aa30ceefd9fe0879258fab8\", element=\"788e7bc1-e06e-4ebc-8aa6-fa11603246df\")>,\n",
       " <selenium.webdriver.remote.webelement.WebElement (session=\"5b28c55d9aa30ceefd9fe0879258fab8\", element=\"9a322387-a51c-47f0-a331-bb5231d0aabe\")>,\n",
       " <selenium.webdriver.remote.webelement.WebElement (session=\"5b28c55d9aa30ceefd9fe0879258fab8\", element=\"11dde993-42a2-4802-b965-1bb6dc1519ff\")>,\n",
       " <selenium.webdriver.remote.webelement.WebElement (session=\"5b28c55d9aa30ceefd9fe0879258fab8\", element=\"16eb1881-d056-497b-9bcf-8215f1b91ceb\")>,\n",
       " <selenium.webdriver.remote.webelement.WebElement (session=\"5b28c55d9aa30ceefd9fe0879258fab8\", element=\"abc86513-02d2-495d-aa1c-2dc0ac661c27\")>,\n",
       " <selenium.webdriver.remote.webelement.WebElement (session=\"5b28c55d9aa30ceefd9fe0879258fab8\", element=\"3d21fe26-f123-4dfd-8e15-f7b9d72fa560\")>,\n",
       " <selenium.webdriver.remote.webelement.WebElement (session=\"5b28c55d9aa30ceefd9fe0879258fab8\", element=\"d619d087-b15b-4748-be10-1924deb6703a\")>,\n",
       " <selenium.webdriver.remote.webelement.WebElement (session=\"5b28c55d9aa30ceefd9fe0879258fab8\", element=\"2181aa7f-a404-4e83-a602-c1d24823c3b5\")>]"
      ]
     },
     "execution_count": 6,
     "metadata": {},
     "output_type": "execute_result"
    }
   ],
   "source": [
    "title_tags=driver.find_elements_by_xpath(\"//div[@class='item-inner clearfix']\")\n",
    "title_tags[0:10]"
   ]
  },
  {
   "cell_type": "code",
   "execution_count": 7,
   "metadata": {},
   "outputs": [
    {
     "data": {
      "text/plain": [
       "['Toshiba considers splitting off, listing part of chip business\\nEBM News English Nov 28, 2015\\nTokyo: Toshiba Corp said on Friday it was considering splitting off part of its chip business, with listing it an option, in a…',\n",
       " 'Claiming the death of Jagathy Sreekumar is fake\\nEBM News English Nov 27, 2015\\nMalayalam actor Jagathy Sreeekumar has become the latest victim of death hoax on social media. A photo, showing Malayalam news…',\n",
       " \"ISI asks terrorist to attack India\\nEBM News English Nov 27, 2015\\nNew Delhi: India received intelligence reports that Pakistan's intelligence agency ISI held meeting with terror outfits in PoK and…\",\n",
       " \"LG Display plans multi-billion OLED plant\\nEBM News English Nov 27, 2015\\nSeoul: South Korea's LG Display said Friday it planned to invest close to $9.0 billion in a new plant to produce organic…\",\n",
       " \"Chinese are getting fatter and taller: Survey\\nEBM News English Nov 27, 2015\\nBeijing: In a sign of a country's growing affluence, Chinese are getting taller and fatter than ever before, according to a…\",\n",
       " 'In Kenyan slum, pope slams rich elite over ‘dreadful injustice’ to poor\\nEBM News English Nov 27, 2015\\nNairobi: Pope Francis lashed out at wealthy minorities who hoard resources at the expense of the poor as he visited a crowded slum…',\n",
       " 'Police nab Delhi driver who stole Rs 22.5 crore\\nEBM News English Nov 27, 2015\\nIn a major development in one of the biggest theft in Delhi the driver of a cash van who ran away with Rs. 22.5 crore yesterday…',\n",
       " 'Future of digital photography is here\\nEBM News English Nov 27, 2015\\nWashington D.C: The newly-developed fastest yet most flexible silicon phototransistor can take the digital cameras to next level.…',\n",
       " \"Bigwigs attend Ravi Pillai’s daughter’s wedding\\nEBM News English Nov 27, 2015\\nKollam: Political bigwigs and eminent personalities attended NRI businessman Ravi Pillai's daughter Arathi's wedding with Adithya…\",\n",
       " 'Embracing change\\nEBM News English Nov 27, 2015\\nNot many actors would choose to play the role of a mother to actors close to their age, but Tessa Joseph had no such qualms. In…']"
      ]
     },
     "execution_count": 7,
     "metadata": {},
     "output_type": "execute_result"
    }
   ],
   "source": [
    "for i in title_tags:\n",
    "    \n",
    "    title=i.text\n",
    "    news_titles.append(title)\n",
    "news_titles[0:10]"
   ]
  },
  {
   "cell_type": "code",
   "execution_count": 8,
   "metadata": {},
   "outputs": [
    {
     "data": {
      "text/plain": [
       "[<selenium.webdriver.remote.webelement.WebElement (session=\"5b28c55d9aa30ceefd9fe0879258fab8\", element=\"0046c5f5-c696-4302-9a6f-ce65007d621e\")>,\n",
       " <selenium.webdriver.remote.webelement.WebElement (session=\"5b28c55d9aa30ceefd9fe0879258fab8\", element=\"fc7cf819-f183-41d2-a4b6-ac6e90a0e0ca\")>,\n",
       " <selenium.webdriver.remote.webelement.WebElement (session=\"5b28c55d9aa30ceefd9fe0879258fab8\", element=\"cedda8c9-9416-4896-a323-aac6d1bc1af2\")>,\n",
       " <selenium.webdriver.remote.webelement.WebElement (session=\"5b28c55d9aa30ceefd9fe0879258fab8\", element=\"d9bd0ad8-34fa-425b-b1d0-c1045d37797e\")>,\n",
       " <selenium.webdriver.remote.webelement.WebElement (session=\"5b28c55d9aa30ceefd9fe0879258fab8\", element=\"8753c260-2155-42df-812e-f706c4bc22fa\")>,\n",
       " <selenium.webdriver.remote.webelement.WebElement (session=\"5b28c55d9aa30ceefd9fe0879258fab8\", element=\"bc34902d-cf1c-4fee-aa19-1bd538c60e09\")>,\n",
       " <selenium.webdriver.remote.webelement.WebElement (session=\"5b28c55d9aa30ceefd9fe0879258fab8\", element=\"b15a2f44-62e4-4d11-ada1-3576f046b84e\")>,\n",
       " <selenium.webdriver.remote.webelement.WebElement (session=\"5b28c55d9aa30ceefd9fe0879258fab8\", element=\"e0a8c554-cc4c-4d4c-bc5e-4502f3006e36\")>,\n",
       " <selenium.webdriver.remote.webelement.WebElement (session=\"5b28c55d9aa30ceefd9fe0879258fab8\", element=\"1afe8ad0-6c6f-43d6-8d50-b1aca7adc67a\")>,\n",
       " <selenium.webdriver.remote.webelement.WebElement (session=\"5b28c55d9aa30ceefd9fe0879258fab8\", element=\"dc8e99cd-f449-44ff-8c33-b7902606773c\")>]"
      ]
     },
     "execution_count": 8,
     "metadata": {},
     "output_type": "execute_result"
    }
   ],
   "source": [
    "date_tags=driver.find_elements_by_xpath(\"//span[@class='time']\")\n",
    "date_tags[0:10]"
   ]
  },
  {
   "cell_type": "code",
   "execution_count": 9,
   "metadata": {},
   "outputs": [
    {
     "data": {
      "text/plain": [
       "['Nov 28, 2015',\n",
       " 'Nov 27, 2015',\n",
       " 'Nov 27, 2015',\n",
       " 'Nov 27, 2015',\n",
       " 'Nov 27, 2015',\n",
       " 'Nov 27, 2015',\n",
       " 'Nov 27, 2015',\n",
       " 'Nov 27, 2015',\n",
       " 'Nov 27, 2015',\n",
       " 'Nov 27, 2015']"
      ]
     },
     "execution_count": 9,
     "metadata": {},
     "output_type": "execute_result"
    }
   ],
   "source": [
    "for i in date_tags:\n",
    "    \n",
    "    title=i.text\n",
    "    date.append(title)\n",
    "date[0:10]"
   ]
  },
  {
   "cell_type": "code",
   "execution_count": 10,
   "metadata": {},
   "outputs": [
    {
     "data": {
      "text/plain": [
       "[<selenium.webdriver.remote.webelement.WebElement (session=\"5b28c55d9aa30ceefd9fe0879258fab8\", element=\"a262d4d9-c620-4757-94b3-f978769974de\")>,\n",
       " <selenium.webdriver.remote.webelement.WebElement (session=\"5b28c55d9aa30ceefd9fe0879258fab8\", element=\"2086c3a2-8a56-4aa4-8706-fc1f019ab5aa\")>,\n",
       " <selenium.webdriver.remote.webelement.WebElement (session=\"5b28c55d9aa30ceefd9fe0879258fab8\", element=\"a4af3474-376f-4ac3-8ff8-9dad7291fde1\")>,\n",
       " <selenium.webdriver.remote.webelement.WebElement (session=\"5b28c55d9aa30ceefd9fe0879258fab8\", element=\"8032bc01-173d-4a00-beb0-217ab7c781cb\")>,\n",
       " <selenium.webdriver.remote.webelement.WebElement (session=\"5b28c55d9aa30ceefd9fe0879258fab8\", element=\"2a99b8f3-84c2-44f1-9a42-bbcbe082d257\")>,\n",
       " <selenium.webdriver.remote.webelement.WebElement (session=\"5b28c55d9aa30ceefd9fe0879258fab8\", element=\"7abedf63-ef65-4097-b6c9-9dcabfd66c58\")>,\n",
       " <selenium.webdriver.remote.webelement.WebElement (session=\"5b28c55d9aa30ceefd9fe0879258fab8\", element=\"96059775-5c25-4c98-80ad-90c51fc5f8d3\")>,\n",
       " <selenium.webdriver.remote.webelement.WebElement (session=\"5b28c55d9aa30ceefd9fe0879258fab8\", element=\"266a2999-7d50-46ba-be7b-5d9bee4bb0cb\")>,\n",
       " <selenium.webdriver.remote.webelement.WebElement (session=\"5b28c55d9aa30ceefd9fe0879258fab8\", element=\"cd30640d-ea72-4771-ac3a-25fa351d4460\")>,\n",
       " <selenium.webdriver.remote.webelement.WebElement (session=\"5b28c55d9aa30ceefd9fe0879258fab8\", element=\"36cf7427-f6da-4a42-993d-dea96e5cc556\")>]"
      ]
     },
     "execution_count": 10,
     "metadata": {},
     "output_type": "execute_result"
    }
   ],
   "source": [
    "desc_tags=driver.find_elements_by_xpath(\"//div[@class='post-summary']\")\n",
    "desc_tags[0:10]"
   ]
  },
  {
   "cell_type": "code",
   "execution_count": 11,
   "metadata": {},
   "outputs": [
    {
     "data": {
      "text/plain": [
       "['Tokyo: Toshiba Corp said on Friday it was considering splitting off part of its chip business, with listing it an option, in a…',\n",
       " 'Malayalam actor Jagathy Sreeekumar has become the latest victim of death hoax on social media. A photo, showing Malayalam news…',\n",
       " \"New Delhi: India received intelligence reports that Pakistan's intelligence agency ISI held meeting with terror outfits in PoK and…\",\n",
       " \"Seoul: South Korea's LG Display said Friday it planned to invest close to $9.0 billion in a new plant to produce organic…\",\n",
       " \"Beijing: In a sign of a country's growing affluence, Chinese are getting taller and fatter than ever before, according to a…\",\n",
       " 'Nairobi: Pope Francis lashed out at wealthy minorities who hoard resources at the expense of the poor as he visited a crowded slum…',\n",
       " 'In a major development in one of the biggest theft in Delhi the driver of a cash van who ran away with Rs. 22.5 crore yesterday…',\n",
       " 'Washington D.C: The newly-developed fastest yet most flexible silicon phototransistor can take the digital cameras to next level.…',\n",
       " \"Kollam: Political bigwigs and eminent personalities attended NRI businessman Ravi Pillai's daughter Arathi's wedding with Adithya…\",\n",
       " 'Not many actors would choose to play the role of a mother to actors close to their age, but Tessa Joseph had no such qualms. In…']"
      ]
     },
     "execution_count": 11,
     "metadata": {},
     "output_type": "execute_result"
    }
   ],
   "source": [
    "for i in desc_tags:\n",
    "    \n",
    "    title=i.text\n",
    "    description.append(title)\n",
    "description[0:10]"
   ]
  },
  {
   "cell_type": "code",
   "execution_count": 12,
   "metadata": {},
   "outputs": [
    {
     "name": "stdout",
     "output_type": "stream",
     "text": [
      "10 10 10\n"
     ]
    }
   ],
   "source": [
    "print(len(news_titles),len(date),len(description))"
   ]
  },
  {
   "cell_type": "code",
   "execution_count": 13,
   "metadata": {},
   "outputs": [],
   "source": [
    "import pandas as pd\n",
    "news=pd.DataFrame({})\n",
    "news['title']=news_titles[0:10]\n",
    "news['date']=date[0:10]\n",
    "news['desc']=description[0:10]"
   ]
  },
  {
   "cell_type": "code",
   "execution_count": 14,
   "metadata": {},
   "outputs": [
    {
     "data": {
      "text/html": [
       "<div>\n",
       "<style scoped>\n",
       "    .dataframe tbody tr th:only-of-type {\n",
       "        vertical-align: middle;\n",
       "    }\n",
       "\n",
       "    .dataframe tbody tr th {\n",
       "        vertical-align: top;\n",
       "    }\n",
       "\n",
       "    .dataframe thead th {\n",
       "        text-align: right;\n",
       "    }\n",
       "</style>\n",
       "<table border=\"1\" class=\"dataframe\">\n",
       "  <thead>\n",
       "    <tr style=\"text-align: right;\">\n",
       "      <th></th>\n",
       "      <th>title</th>\n",
       "      <th>date</th>\n",
       "      <th>desc</th>\n",
       "    </tr>\n",
       "  </thead>\n",
       "  <tbody>\n",
       "    <tr>\n",
       "      <th>0</th>\n",
       "      <td>Toshiba considers splitting off, listing part ...</td>\n",
       "      <td>Nov 28, 2015</td>\n",
       "      <td>Tokyo: Toshiba Corp said on Friday it was cons...</td>\n",
       "    </tr>\n",
       "    <tr>\n",
       "      <th>1</th>\n",
       "      <td>Claiming the death of Jagathy Sreekumar is fak...</td>\n",
       "      <td>Nov 27, 2015</td>\n",
       "      <td>Malayalam actor Jagathy Sreeekumar has become ...</td>\n",
       "    </tr>\n",
       "    <tr>\n",
       "      <th>2</th>\n",
       "      <td>ISI asks terrorist to attack India\\nEBM News E...</td>\n",
       "      <td>Nov 27, 2015</td>\n",
       "      <td>New Delhi: India received intelligence reports...</td>\n",
       "    </tr>\n",
       "    <tr>\n",
       "      <th>3</th>\n",
       "      <td>LG Display plans multi-billion OLED plant\\nEBM...</td>\n",
       "      <td>Nov 27, 2015</td>\n",
       "      <td>Seoul: South Korea's LG Display said Friday it...</td>\n",
       "    </tr>\n",
       "    <tr>\n",
       "      <th>4</th>\n",
       "      <td>Chinese are getting fatter and taller: Survey\\...</td>\n",
       "      <td>Nov 27, 2015</td>\n",
       "      <td>Beijing: In a sign of a country's growing affl...</td>\n",
       "    </tr>\n",
       "    <tr>\n",
       "      <th>5</th>\n",
       "      <td>In Kenyan slum, pope slams rich elite over ‘dr...</td>\n",
       "      <td>Nov 27, 2015</td>\n",
       "      <td>Nairobi: Pope Francis lashed out at wealthy mi...</td>\n",
       "    </tr>\n",
       "    <tr>\n",
       "      <th>6</th>\n",
       "      <td>Police nab Delhi driver who stole Rs 22.5 cror...</td>\n",
       "      <td>Nov 27, 2015</td>\n",
       "      <td>In a major development in one of the biggest t...</td>\n",
       "    </tr>\n",
       "    <tr>\n",
       "      <th>7</th>\n",
       "      <td>Future of digital photography is here\\nEBM New...</td>\n",
       "      <td>Nov 27, 2015</td>\n",
       "      <td>Washington D.C: The newly-developed fastest ye...</td>\n",
       "    </tr>\n",
       "    <tr>\n",
       "      <th>8</th>\n",
       "      <td>Bigwigs attend Ravi Pillai’s daughter’s weddin...</td>\n",
       "      <td>Nov 27, 2015</td>\n",
       "      <td>Kollam: Political bigwigs and eminent personal...</td>\n",
       "    </tr>\n",
       "    <tr>\n",
       "      <th>9</th>\n",
       "      <td>Embracing change\\nEBM News English Nov 27, 201...</td>\n",
       "      <td>Nov 27, 2015</td>\n",
       "      <td>Not many actors would choose to play the role ...</td>\n",
       "    </tr>\n",
       "  </tbody>\n",
       "</table>\n",
       "</div>"
      ],
      "text/plain": [
       "                                               title          date  \\\n",
       "0  Toshiba considers splitting off, listing part ...  Nov 28, 2015   \n",
       "1  Claiming the death of Jagathy Sreekumar is fak...  Nov 27, 2015   \n",
       "2  ISI asks terrorist to attack India\\nEBM News E...  Nov 27, 2015   \n",
       "3  LG Display plans multi-billion OLED plant\\nEBM...  Nov 27, 2015   \n",
       "4  Chinese are getting fatter and taller: Survey\\...  Nov 27, 2015   \n",
       "5  In Kenyan slum, pope slams rich elite over ‘dr...  Nov 27, 2015   \n",
       "6  Police nab Delhi driver who stole Rs 22.5 cror...  Nov 27, 2015   \n",
       "7  Future of digital photography is here\\nEBM New...  Nov 27, 2015   \n",
       "8  Bigwigs attend Ravi Pillai’s daughter’s weddin...  Nov 27, 2015   \n",
       "9  Embracing change\\nEBM News English Nov 27, 201...  Nov 27, 2015   \n",
       "\n",
       "                                                desc  \n",
       "0  Tokyo: Toshiba Corp said on Friday it was cons...  \n",
       "1  Malayalam actor Jagathy Sreeekumar has become ...  \n",
       "2  New Delhi: India received intelligence reports...  \n",
       "3  Seoul: South Korea's LG Display said Friday it...  \n",
       "4  Beijing: In a sign of a country's growing affl...  \n",
       "5  Nairobi: Pope Francis lashed out at wealthy mi...  \n",
       "6  In a major development in one of the biggest t...  \n",
       "7  Washington D.C: The newly-developed fastest ye...  \n",
       "8  Kollam: Political bigwigs and eminent personal...  \n",
       "9  Not many actors would choose to play the role ...  "
      ]
     },
     "execution_count": 14,
     "metadata": {},
     "output_type": "execute_result"
    }
   ],
   "source": [
    "news"
   ]
  },
  {
   "cell_type": "code",
   "execution_count": null,
   "metadata": {},
   "outputs": [],
   "source": []
  }
 ],
 "metadata": {
  "kernelspec": {
   "display_name": "Python 3",
   "language": "python",
   "name": "python3"
  },
  "language_info": {
   "codemirror_mode": {
    "name": "ipython",
    "version": 3
   },
   "file_extension": ".py",
   "mimetype": "text/x-python",
   "name": "python",
   "nbconvert_exporter": "python",
   "pygments_lexer": "ipython3",
   "version": "3.7.6"
  }
 },
 "nbformat": 4,
 "nbformat_minor": 4
}
