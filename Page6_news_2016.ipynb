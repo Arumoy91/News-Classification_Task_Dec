{
 "cells": [
  {
   "cell_type": "code",
   "execution_count": 1,
   "metadata": {},
   "outputs": [],
   "source": [
    "import selenium\n",
    "import pandas as pd\n",
    "from selenium import webdriver"
   ]
  },
  {
   "cell_type": "code",
   "execution_count": 2,
   "metadata": {},
   "outputs": [],
   "source": [
    "driver=webdriver.Chrome(\"C:\\chromedriver.exe\")"
   ]
  },
  {
   "cell_type": "code",
   "execution_count": 3,
   "metadata": {},
   "outputs": [],
   "source": [
    "driver.get('https://www.ebmnews.com/2016/page/6/')"
   ]
  },
  {
   "cell_type": "code",
   "execution_count": 4,
   "metadata": {},
   "outputs": [],
   "source": [
    "news_titles=[]\n",
    "date=[]\n",
    "description=[]"
   ]
  },
  {
   "cell_type": "code",
   "execution_count": 5,
   "metadata": {},
   "outputs": [
    {
     "data": {
      "text/plain": [
       "[<selenium.webdriver.remote.webelement.WebElement (session=\"655a7e94545140f20827c27d4f6106eb\", element=\"02d2a4e9-0bd8-4e18-b807-bbbb3a203f52\")>,\n",
       " <selenium.webdriver.remote.webelement.WebElement (session=\"655a7e94545140f20827c27d4f6106eb\", element=\"0d193f07-470d-4657-8ba6-647251f80632\")>,\n",
       " <selenium.webdriver.remote.webelement.WebElement (session=\"655a7e94545140f20827c27d4f6106eb\", element=\"e6640c21-d38b-40ef-9346-9929dac14903\")>,\n",
       " <selenium.webdriver.remote.webelement.WebElement (session=\"655a7e94545140f20827c27d4f6106eb\", element=\"03b33fbb-2d77-4d29-8c92-acd681b79729\")>,\n",
       " <selenium.webdriver.remote.webelement.WebElement (session=\"655a7e94545140f20827c27d4f6106eb\", element=\"91fe710c-d1fb-4fa9-af2e-d1234f1c799b\")>,\n",
       " <selenium.webdriver.remote.webelement.WebElement (session=\"655a7e94545140f20827c27d4f6106eb\", element=\"8c0e0ebf-ad32-46bc-a28b-789a94eff0d9\")>,\n",
       " <selenium.webdriver.remote.webelement.WebElement (session=\"655a7e94545140f20827c27d4f6106eb\", element=\"a46f0243-c902-4a99-b39b-1582e37edc21\")>,\n",
       " <selenium.webdriver.remote.webelement.WebElement (session=\"655a7e94545140f20827c27d4f6106eb\", element=\"23bf13bf-26d5-4518-a481-fc45639a7af8\")>,\n",
       " <selenium.webdriver.remote.webelement.WebElement (session=\"655a7e94545140f20827c27d4f6106eb\", element=\"e39a38a3-64c1-4676-a691-44892a6a8d1c\")>,\n",
       " <selenium.webdriver.remote.webelement.WebElement (session=\"655a7e94545140f20827c27d4f6106eb\", element=\"6b23841f-a23a-4794-9460-7958e57b4b5e\")>]"
      ]
     },
     "execution_count": 5,
     "metadata": {},
     "output_type": "execute_result"
    }
   ],
   "source": [
    "title_tags=driver.find_elements_by_xpath(\"//div[@class='item-inner clearfix']\")\n",
    "title_tags[0:10]"
   ]
  },
  {
   "cell_type": "code",
   "execution_count": 6,
   "metadata": {},
   "outputs": [
    {
     "data": {
      "text/plain": [
       "['University can deny admission to students not carrying docs, says Delhi HC\\nEBM News English Oct 13, 2016\\nNEW DELHI: The students, who secure a rank in an entrance exam but fail to produce the required documents at the time of…',\n",
       " 'Thane: Trio arrested for car theft turn out to be murderers\\nEBM News English Oct 13, 2016\\nWhen the Thane Crime Branch arrested three men for car theft, little did they know that they had nabbed three murderers. During…',\n",
       " 'Thane Crime: ‘Shirt’ bandits target bank, leave without any booty\\nEBM News English Oct 13, 2016\\nTwo thieves who wanted to clean out an Ulhasnagar bank, and had entered it after breaking the iron grille on the terrace, left…',\n",
       " 'BMW Motorrad unveils Vision Next 100 concept motorcycle\\nEBM News English Oct 13, 2016\\nFollowing the BMW, Mini and Rolls-Royce Vision vehicles, the BMW Group has now revealed its next progressive solution for the…',\n",
       " 'Renault Kwid, Datsun Redigo recalled over faulty fuel hose\\nEBM News English Oct 13, 2016\\nRenault has announced a recall of the 799cc Kwid models manufactured up to May 18, 2016. The recall has been initiated to inspect…',\n",
       " '2017 BMW 5-series revealed\\nEBM News English Oct 13, 2016\\nThe seventh-generation BMW 5 Series sedan has been revealed, featuring an evolutionary exterior design, an updated interior, a…',\n",
       " 'Maruti Ignis expected price, specifications and equipment\\nEBM News English Oct 13, 2016\\nMaruti will add yet another vehicle -- the Ignis -- to its hatch line-up in the coming months. Displayed at the Auto Expo 2016,…',\n",
       " 'The rise and fall of Tyson Fury\\nEBM News English Oct 13, 2016\\nTimeline of the most notable and notorious moments in the controversial career of Tyson Fury, who announced late on Wednesday he…',\n",
       " 'Kumble asks Saha to rest for two Ranji matches\\nEBM News English Oct 13, 2016\\nIndia’s chief coach Anil Kumble has advised Test specialist Wriddhiman Saha to take complete rest for two weeks which will mean…',\n",
       " 'Just 20 blocks kept for private explorers\\nEBM News English Oct 13, 2016\\nThe Centre has decided to reserve for private explorers just 20 blocks out of a total 100 blocks to be allotted under the new…']"
      ]
     },
     "execution_count": 6,
     "metadata": {},
     "output_type": "execute_result"
    }
   ],
   "source": [
    "for i in title_tags:\n",
    "    \n",
    "    title=i.text\n",
    "    news_titles.append(title)\n",
    "news_titles[0:10]"
   ]
  },
  {
   "cell_type": "code",
   "execution_count": 7,
   "metadata": {},
   "outputs": [
    {
     "data": {
      "text/plain": [
       "[<selenium.webdriver.remote.webelement.WebElement (session=\"655a7e94545140f20827c27d4f6106eb\", element=\"ad5e0af9-407d-46b6-8436-418bd63f9988\")>,\n",
       " <selenium.webdriver.remote.webelement.WebElement (session=\"655a7e94545140f20827c27d4f6106eb\", element=\"fbc07799-2619-4bac-a976-c0b33ed3f076\")>,\n",
       " <selenium.webdriver.remote.webelement.WebElement (session=\"655a7e94545140f20827c27d4f6106eb\", element=\"8ddfcf75-809e-451a-afad-ea7e48545b0c\")>,\n",
       " <selenium.webdriver.remote.webelement.WebElement (session=\"655a7e94545140f20827c27d4f6106eb\", element=\"d5c88cb4-6b00-4a0d-98ba-f44c383a115e\")>,\n",
       " <selenium.webdriver.remote.webelement.WebElement (session=\"655a7e94545140f20827c27d4f6106eb\", element=\"139ef57e-5263-4340-8544-97aeea245179\")>,\n",
       " <selenium.webdriver.remote.webelement.WebElement (session=\"655a7e94545140f20827c27d4f6106eb\", element=\"cff3fd5b-9404-4931-bc33-decacf06e58b\")>,\n",
       " <selenium.webdriver.remote.webelement.WebElement (session=\"655a7e94545140f20827c27d4f6106eb\", element=\"104ed40c-e46f-4c7d-98fa-d32b07d7f28d\")>,\n",
       " <selenium.webdriver.remote.webelement.WebElement (session=\"655a7e94545140f20827c27d4f6106eb\", element=\"49c84981-83af-4525-92fc-fca760b54e88\")>,\n",
       " <selenium.webdriver.remote.webelement.WebElement (session=\"655a7e94545140f20827c27d4f6106eb\", element=\"9e37de6e-12be-4e50-8103-6dfa1fa71cee\")>,\n",
       " <selenium.webdriver.remote.webelement.WebElement (session=\"655a7e94545140f20827c27d4f6106eb\", element=\"c41c4290-ee27-4fce-ae35-4353480d61a6\")>]"
      ]
     },
     "execution_count": 7,
     "metadata": {},
     "output_type": "execute_result"
    }
   ],
   "source": [
    "date_tags=driver.find_elements_by_xpath(\"//span[@class='time']\")\n",
    "date_tags[0:10]"
   ]
  },
  {
   "cell_type": "code",
   "execution_count": 8,
   "metadata": {},
   "outputs": [
    {
     "data": {
      "text/plain": [
       "['Oct 13, 2016',\n",
       " 'Oct 13, 2016',\n",
       " 'Oct 13, 2016',\n",
       " 'Oct 13, 2016',\n",
       " 'Oct 13, 2016',\n",
       " 'Oct 13, 2016',\n",
       " 'Oct 13, 2016',\n",
       " 'Oct 13, 2016',\n",
       " 'Oct 13, 2016',\n",
       " 'Oct 13, 2016']"
      ]
     },
     "execution_count": 8,
     "metadata": {},
     "output_type": "execute_result"
    }
   ],
   "source": [
    "for i in date_tags:\n",
    "    \n",
    "    title=i.text\n",
    "    date.append(title)\n",
    "date[0:10]"
   ]
  },
  {
   "cell_type": "code",
   "execution_count": 9,
   "metadata": {},
   "outputs": [
    {
     "data": {
      "text/plain": [
       "[<selenium.webdriver.remote.webelement.WebElement (session=\"655a7e94545140f20827c27d4f6106eb\", element=\"0c670aa0-2cc8-4529-9e88-54ac7537c8d0\")>,\n",
       " <selenium.webdriver.remote.webelement.WebElement (session=\"655a7e94545140f20827c27d4f6106eb\", element=\"de83f211-76a8-4931-b595-63a2521274d2\")>,\n",
       " <selenium.webdriver.remote.webelement.WebElement (session=\"655a7e94545140f20827c27d4f6106eb\", element=\"dd61d85f-a249-4d61-8c80-d7686622a8df\")>,\n",
       " <selenium.webdriver.remote.webelement.WebElement (session=\"655a7e94545140f20827c27d4f6106eb\", element=\"c8faa709-39e1-4677-b564-60b1adece425\")>,\n",
       " <selenium.webdriver.remote.webelement.WebElement (session=\"655a7e94545140f20827c27d4f6106eb\", element=\"001f1cb4-568a-41f6-909c-2c462695f0e5\")>,\n",
       " <selenium.webdriver.remote.webelement.WebElement (session=\"655a7e94545140f20827c27d4f6106eb\", element=\"9c8ab55d-bf6f-4732-b435-91e72198fd88\")>,\n",
       " <selenium.webdriver.remote.webelement.WebElement (session=\"655a7e94545140f20827c27d4f6106eb\", element=\"f49afee7-dd4c-40ed-96b4-50e9607ce1cf\")>,\n",
       " <selenium.webdriver.remote.webelement.WebElement (session=\"655a7e94545140f20827c27d4f6106eb\", element=\"05171a05-1ea0-462e-8ace-ef7e6542434a\")>,\n",
       " <selenium.webdriver.remote.webelement.WebElement (session=\"655a7e94545140f20827c27d4f6106eb\", element=\"65295160-0b78-4886-9e16-3e8504d35f73\")>,\n",
       " <selenium.webdriver.remote.webelement.WebElement (session=\"655a7e94545140f20827c27d4f6106eb\", element=\"a5074d5d-d9bd-40c7-af29-88f599778c21\")>]"
      ]
     },
     "execution_count": 9,
     "metadata": {},
     "output_type": "execute_result"
    }
   ],
   "source": [
    "desc_tags=driver.find_elements_by_xpath(\"//div[@class='post-summary']\")\n",
    "desc_tags[0:10]"
   ]
  },
  {
   "cell_type": "code",
   "execution_count": 10,
   "metadata": {},
   "outputs": [
    {
     "data": {
      "text/plain": [
       "['NEW DELHI: The students, who secure a rank in an entrance exam but fail to produce the required documents at the time of…',\n",
       " 'When the Thane Crime Branch arrested three men for car theft, little did they know that they had nabbed three murderers. During…',\n",
       " 'Two thieves who wanted to clean out an Ulhasnagar bank, and had entered it after breaking the iron grille on the terrace, left…',\n",
       " 'Following the BMW, Mini and Rolls-Royce Vision vehicles, the BMW Group has now revealed its next progressive solution for the…',\n",
       " 'Renault has announced a recall of the 799cc Kwid models manufactured up to May 18, 2016. The recall has been initiated to inspect…',\n",
       " 'The seventh-generation BMW 5 Series sedan has been revealed, featuring an evolutionary exterior design, an updated interior, a…',\n",
       " 'Maruti will add yet another vehicle -- the Ignis -- to its hatch line-up in the coming months. Displayed at the Auto Expo 2016,…',\n",
       " 'Timeline of the most notable and notorious moments in the controversial career of Tyson Fury, who announced late on Wednesday he…',\n",
       " 'India’s chief coach Anil Kumble has advised Test specialist Wriddhiman Saha to take complete rest for two weeks which will mean…',\n",
       " 'The Centre has decided to reserve for private explorers just 20 blocks out of a total 100 blocks to be allotted under the new…']"
      ]
     },
     "execution_count": 10,
     "metadata": {},
     "output_type": "execute_result"
    }
   ],
   "source": [
    "for i in desc_tags:\n",
    "    \n",
    "    title=i.text\n",
    "    description.append(title)\n",
    "description[0:10]"
   ]
  },
  {
   "cell_type": "code",
   "execution_count": 11,
   "metadata": {},
   "outputs": [
    {
     "name": "stdout",
     "output_type": "stream",
     "text": [
      "10 10 10\n"
     ]
    }
   ],
   "source": [
    "print(len(news_titles),len(date),len(description))"
   ]
  },
  {
   "cell_type": "code",
   "execution_count": 12,
   "metadata": {},
   "outputs": [],
   "source": [
    "import pandas as pd\n",
    "news=pd.DataFrame({})\n",
    "news['title']=news_titles[0:10]\n",
    "news['date']=date[0:10]\n",
    "news['desc']=description[0:10]"
   ]
  },
  {
   "cell_type": "code",
   "execution_count": 13,
   "metadata": {},
   "outputs": [
    {
     "data": {
      "text/html": [
       "<div>\n",
       "<style scoped>\n",
       "    .dataframe tbody tr th:only-of-type {\n",
       "        vertical-align: middle;\n",
       "    }\n",
       "\n",
       "    .dataframe tbody tr th {\n",
       "        vertical-align: top;\n",
       "    }\n",
       "\n",
       "    .dataframe thead th {\n",
       "        text-align: right;\n",
       "    }\n",
       "</style>\n",
       "<table border=\"1\" class=\"dataframe\">\n",
       "  <thead>\n",
       "    <tr style=\"text-align: right;\">\n",
       "      <th></th>\n",
       "      <th>title</th>\n",
       "      <th>date</th>\n",
       "      <th>desc</th>\n",
       "    </tr>\n",
       "  </thead>\n",
       "  <tbody>\n",
       "    <tr>\n",
       "      <th>0</th>\n",
       "      <td>University can deny admission to students not ...</td>\n",
       "      <td>Oct 13, 2016</td>\n",
       "      <td>NEW DELHI: The students, who secure a rank in ...</td>\n",
       "    </tr>\n",
       "    <tr>\n",
       "      <th>1</th>\n",
       "      <td>Thane: Trio arrested for car theft turn out to...</td>\n",
       "      <td>Oct 13, 2016</td>\n",
       "      <td>When the Thane Crime Branch arrested three men...</td>\n",
       "    </tr>\n",
       "    <tr>\n",
       "      <th>2</th>\n",
       "      <td>Thane Crime: ‘Shirt’ bandits target bank, leav...</td>\n",
       "      <td>Oct 13, 2016</td>\n",
       "      <td>Two thieves who wanted to clean out an Ulhasna...</td>\n",
       "    </tr>\n",
       "    <tr>\n",
       "      <th>3</th>\n",
       "      <td>BMW Motorrad unveils Vision Next 100 concept m...</td>\n",
       "      <td>Oct 13, 2016</td>\n",
       "      <td>Following the BMW, Mini and Rolls-Royce Vision...</td>\n",
       "    </tr>\n",
       "    <tr>\n",
       "      <th>4</th>\n",
       "      <td>Renault Kwid, Datsun Redigo recalled over faul...</td>\n",
       "      <td>Oct 13, 2016</td>\n",
       "      <td>Renault has announced a recall of the 799cc Kw...</td>\n",
       "    </tr>\n",
       "    <tr>\n",
       "      <th>5</th>\n",
       "      <td>2017 BMW 5-series revealed\\nEBM News English O...</td>\n",
       "      <td>Oct 13, 2016</td>\n",
       "      <td>The seventh-generation BMW 5 Series sedan has ...</td>\n",
       "    </tr>\n",
       "    <tr>\n",
       "      <th>6</th>\n",
       "      <td>Maruti Ignis expected price, specifications an...</td>\n",
       "      <td>Oct 13, 2016</td>\n",
       "      <td>Maruti will add yet another vehicle -- the Ign...</td>\n",
       "    </tr>\n",
       "    <tr>\n",
       "      <th>7</th>\n",
       "      <td>The rise and fall of Tyson Fury\\nEBM News Engl...</td>\n",
       "      <td>Oct 13, 2016</td>\n",
       "      <td>Timeline of the most notable and notorious mom...</td>\n",
       "    </tr>\n",
       "    <tr>\n",
       "      <th>8</th>\n",
       "      <td>Kumble asks Saha to rest for two Ranji matches...</td>\n",
       "      <td>Oct 13, 2016</td>\n",
       "      <td>India’s chief coach Anil Kumble has advised Te...</td>\n",
       "    </tr>\n",
       "    <tr>\n",
       "      <th>9</th>\n",
       "      <td>Just 20 blocks kept for private explorers\\nEBM...</td>\n",
       "      <td>Oct 13, 2016</td>\n",
       "      <td>The Centre has decided to reserve for private ...</td>\n",
       "    </tr>\n",
       "  </tbody>\n",
       "</table>\n",
       "</div>"
      ],
      "text/plain": [
       "                                               title          date  \\\n",
       "0  University can deny admission to students not ...  Oct 13, 2016   \n",
       "1  Thane: Trio arrested for car theft turn out to...  Oct 13, 2016   \n",
       "2  Thane Crime: ‘Shirt’ bandits target bank, leav...  Oct 13, 2016   \n",
       "3  BMW Motorrad unveils Vision Next 100 concept m...  Oct 13, 2016   \n",
       "4  Renault Kwid, Datsun Redigo recalled over faul...  Oct 13, 2016   \n",
       "5  2017 BMW 5-series revealed\\nEBM News English O...  Oct 13, 2016   \n",
       "6  Maruti Ignis expected price, specifications an...  Oct 13, 2016   \n",
       "7  The rise and fall of Tyson Fury\\nEBM News Engl...  Oct 13, 2016   \n",
       "8  Kumble asks Saha to rest for two Ranji matches...  Oct 13, 2016   \n",
       "9  Just 20 blocks kept for private explorers\\nEBM...  Oct 13, 2016   \n",
       "\n",
       "                                                desc  \n",
       "0  NEW DELHI: The students, who secure a rank in ...  \n",
       "1  When the Thane Crime Branch arrested three men...  \n",
       "2  Two thieves who wanted to clean out an Ulhasna...  \n",
       "3  Following the BMW, Mini and Rolls-Royce Vision...  \n",
       "4  Renault has announced a recall of the 799cc Kw...  \n",
       "5  The seventh-generation BMW 5 Series sedan has ...  \n",
       "6  Maruti will add yet another vehicle -- the Ign...  \n",
       "7  Timeline of the most notable and notorious mom...  \n",
       "8  India’s chief coach Anil Kumble has advised Te...  \n",
       "9  The Centre has decided to reserve for private ...  "
      ]
     },
     "execution_count": 13,
     "metadata": {},
     "output_type": "execute_result"
    }
   ],
   "source": [
    "news"
   ]
  },
  {
   "cell_type": "code",
   "execution_count": null,
   "metadata": {},
   "outputs": [],
   "source": []
  }
 ],
 "metadata": {
  "kernelspec": {
   "display_name": "Python 3",
   "language": "python",
   "name": "python3"
  },
  "language_info": {
   "codemirror_mode": {
    "name": "ipython",
    "version": 3
   },
   "file_extension": ".py",
   "mimetype": "text/x-python",
   "name": "python",
   "nbconvert_exporter": "python",
   "pygments_lexer": "ipython3",
   "version": "3.7.6"
  }
 },
 "nbformat": 4,
 "nbformat_minor": 4
}
