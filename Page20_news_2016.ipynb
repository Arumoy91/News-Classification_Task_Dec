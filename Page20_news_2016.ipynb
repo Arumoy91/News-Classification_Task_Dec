{
 "cells": [
  {
   "cell_type": "code",
   "execution_count": 1,
   "metadata": {},
   "outputs": [],
   "source": [
    "import selenium"
   ]
  },
  {
   "cell_type": "code",
   "execution_count": 2,
   "metadata": {},
   "outputs": [],
   "source": [
    "import pandas as pd\n",
    "from selenium import webdriver"
   ]
  },
  {
   "cell_type": "code",
   "execution_count": 3,
   "metadata": {},
   "outputs": [],
   "source": [
    "driver=webdriver.Chrome(\"C:\\chromedriver.exe\")"
   ]
  },
  {
   "cell_type": "code",
   "execution_count": 4,
   "metadata": {},
   "outputs": [],
   "source": [
    "driver.get('https://www.ebmnews.com/2016/page/20/')"
   ]
  },
  {
   "cell_type": "code",
   "execution_count": 5,
   "metadata": {},
   "outputs": [],
   "source": [
    "news_titles=[]\n",
    "date=[]\n",
    "description=[]"
   ]
  },
  {
   "cell_type": "code",
   "execution_count": 6,
   "metadata": {},
   "outputs": [
    {
     "data": {
      "text/plain": [
       "[<selenium.webdriver.remote.webelement.WebElement (session=\"7711eb0d82594ec8023a51775d7d566f\", element=\"5f2b1dc7-e066-4834-bdbd-4b1424e86947\")>,\n",
       " <selenium.webdriver.remote.webelement.WebElement (session=\"7711eb0d82594ec8023a51775d7d566f\", element=\"6fb9e41a-f316-424c-a484-01f81c66f4e8\")>,\n",
       " <selenium.webdriver.remote.webelement.WebElement (session=\"7711eb0d82594ec8023a51775d7d566f\", element=\"084adf3a-b4df-4284-a7f6-24522718c4f5\")>,\n",
       " <selenium.webdriver.remote.webelement.WebElement (session=\"7711eb0d82594ec8023a51775d7d566f\", element=\"ac4c4277-ca9b-428d-bb81-580dd82e21e3\")>,\n",
       " <selenium.webdriver.remote.webelement.WebElement (session=\"7711eb0d82594ec8023a51775d7d566f\", element=\"0494c45e-efc2-4f69-8ae9-ca3815e8ed0c\")>,\n",
       " <selenium.webdriver.remote.webelement.WebElement (session=\"7711eb0d82594ec8023a51775d7d566f\", element=\"33161a0a-3a32-42ee-9ae2-e667000269a8\")>,\n",
       " <selenium.webdriver.remote.webelement.WebElement (session=\"7711eb0d82594ec8023a51775d7d566f\", element=\"3df49f66-bd35-42a3-9acb-8f4b74e03460\")>,\n",
       " <selenium.webdriver.remote.webelement.WebElement (session=\"7711eb0d82594ec8023a51775d7d566f\", element=\"f4ce8e1c-6003-41be-b119-97bc28b3edbc\")>,\n",
       " <selenium.webdriver.remote.webelement.WebElement (session=\"7711eb0d82594ec8023a51775d7d566f\", element=\"85e544d4-92e2-42e3-b649-0ab1f365fca6\")>,\n",
       " <selenium.webdriver.remote.webelement.WebElement (session=\"7711eb0d82594ec8023a51775d7d566f\", element=\"f4c72c12-5769-4337-8258-8a0a2708f173\")>]"
      ]
     },
     "execution_count": 6,
     "metadata": {},
     "output_type": "execute_result"
    }
   ],
   "source": [
    "title_tags=driver.find_elements_by_xpath(\"//div[@class='item-inner clearfix']\")\n",
    "title_tags[0:10]"
   ]
  },
  {
   "cell_type": "code",
   "execution_count": 7,
   "metadata": {},
   "outputs": [
    {
     "data": {
      "text/plain": [
       "['GHMC’s deputy executive engineers will decide on road repairs: KTR\\nEBM News English Oct 6, 2016\\nHYDERABAD: The municipal administration department has started overhauling Greater Hyderabad Municipal Corporation (GHMC) to…',\n",
       " \"Vemula’s dalit status not established, says Commission\\nEBM News English Oct 6, 2016\\nNEW DELHI: Raising questions on Rohith Vemula's dalit status, a commission constituted by HRD ministry after the Hyderabad…\",\n",
       " \"Three-year-old child murdered by youth out of revenge\\nEBM News English Oct 6, 2016\\nA 3-year-old child was allegedly killed by a youth in Chennai's outskirts after he took the child from his home on Wednesday night…\",\n",
       " \"Gold prices stay soft, losses deepen on weakening demand\\nEBM News English Oct 6, 2016\\nNew Delhi,  After yesterday's steep fall of Rs 730, gold prices were down by another Rs 30 to Rs 30,490 per 10 grams at the…\",\n",
       " 'BJP demands apology from U’khand Cong chief over surgical\\nEBM News English Oct 6, 2016\\nDehradun,  Opposition BJP in Uttarakhand today demanded an apology from state Congress President Kishor Upadhyay for casting…',\n",
       " 'Paris climate deal a turning point for planet: Obama\\nEBM News English Oct 6, 2016\\nWashington, Welcoming the news that the Paris agreement on climate change will enter into force in 30 days, US President Barack…',\n",
       " 'India seeks enhanced Swiss cooperation to tackle black money\\nEBM News English Oct 6, 2016\\nNew Delhi,  India today sought enhanced cooperation from Switzerland in tackling menace of black money by providing information on…',\n",
       " '‘Sharif warns army not to shield militants amid isolation’\\nEBM News English Oct 6, 2016\\nIslamabad,  Facing international isolation, Prime Minister Nawaz Sharif in an unprecedented move has warned the powerful military…',\n",
       " 'Making a decision and back it, real essence of captain: Kohli\\nEBM News English Oct 6, 2016\\nVirat Kohli boasts of an impressive record as captain since taking over the reigns of Indian Test team two years ago and the…',\n",
       " 'Usha Uthup composes and sings in English for Puja album\\nEBM News English Oct 6, 2016\\nKolkata,  Indian pop diva Usha Uthup has composed lyrics and lent her voice for an Durga Puja album which in part is a remake of…']"
      ]
     },
     "execution_count": 7,
     "metadata": {},
     "output_type": "execute_result"
    }
   ],
   "source": [
    "for i in title_tags:\n",
    "    \n",
    "    title=i.text\n",
    "    news_titles.append(title)\n",
    "news_titles[0:10]"
   ]
  },
  {
   "cell_type": "code",
   "execution_count": 8,
   "metadata": {},
   "outputs": [
    {
     "data": {
      "text/plain": [
       "[<selenium.webdriver.remote.webelement.WebElement (session=\"7711eb0d82594ec8023a51775d7d566f\", element=\"7bb50134-4f7e-47f5-ac0f-dd72b8ef887d\")>,\n",
       " <selenium.webdriver.remote.webelement.WebElement (session=\"7711eb0d82594ec8023a51775d7d566f\", element=\"268e911a-3fc8-4bbe-b9d2-ad6aa7f46e2b\")>,\n",
       " <selenium.webdriver.remote.webelement.WebElement (session=\"7711eb0d82594ec8023a51775d7d566f\", element=\"58d348a3-4e2f-4a84-a68b-6747ac037696\")>,\n",
       " <selenium.webdriver.remote.webelement.WebElement (session=\"7711eb0d82594ec8023a51775d7d566f\", element=\"513d45ec-d8c4-483d-9e06-0d3a9f5d7196\")>,\n",
       " <selenium.webdriver.remote.webelement.WebElement (session=\"7711eb0d82594ec8023a51775d7d566f\", element=\"2e583f9a-2f90-4a78-b056-0d1b498a2a52\")>,\n",
       " <selenium.webdriver.remote.webelement.WebElement (session=\"7711eb0d82594ec8023a51775d7d566f\", element=\"a6e0b99c-f6f4-4dc6-9974-60bff822df95\")>,\n",
       " <selenium.webdriver.remote.webelement.WebElement (session=\"7711eb0d82594ec8023a51775d7d566f\", element=\"5a5394c8-e0c3-4a58-a9cc-2d42d13dc970\")>,\n",
       " <selenium.webdriver.remote.webelement.WebElement (session=\"7711eb0d82594ec8023a51775d7d566f\", element=\"62262019-f446-4d23-aa49-5eccf0d7731a\")>,\n",
       " <selenium.webdriver.remote.webelement.WebElement (session=\"7711eb0d82594ec8023a51775d7d566f\", element=\"67342400-356f-4648-aa31-dd271f1edbb7\")>,\n",
       " <selenium.webdriver.remote.webelement.WebElement (session=\"7711eb0d82594ec8023a51775d7d566f\", element=\"665bccb3-5125-40b4-8971-023187d52699\")>]"
      ]
     },
     "execution_count": 8,
     "metadata": {},
     "output_type": "execute_result"
    }
   ],
   "source": [
    "date_tags=driver.find_elements_by_xpath(\"//span[@class='time']\")\n",
    "date_tags[0:10]"
   ]
  },
  {
   "cell_type": "code",
   "execution_count": 9,
   "metadata": {},
   "outputs": [
    {
     "data": {
      "text/plain": [
       "['Oct 6, 2016',\n",
       " 'Oct 6, 2016',\n",
       " 'Oct 6, 2016',\n",
       " 'Oct 6, 2016',\n",
       " 'Oct 6, 2016',\n",
       " 'Oct 6, 2016',\n",
       " 'Oct 6, 2016',\n",
       " 'Oct 6, 2016',\n",
       " 'Oct 6, 2016',\n",
       " 'Oct 6, 2016']"
      ]
     },
     "execution_count": 9,
     "metadata": {},
     "output_type": "execute_result"
    }
   ],
   "source": [
    "for i in date_tags:\n",
    "    \n",
    "    title=i.text\n",
    "    date.append(title)\n",
    "date[0:10]"
   ]
  },
  {
   "cell_type": "code",
   "execution_count": 10,
   "metadata": {},
   "outputs": [
    {
     "data": {
      "text/plain": [
       "[<selenium.webdriver.remote.webelement.WebElement (session=\"7711eb0d82594ec8023a51775d7d566f\", element=\"85a64105-19b9-4332-8fed-318afacb0a8c\")>,\n",
       " <selenium.webdriver.remote.webelement.WebElement (session=\"7711eb0d82594ec8023a51775d7d566f\", element=\"b9e7868e-1f6a-4e1e-8bf4-28597ad06761\")>,\n",
       " <selenium.webdriver.remote.webelement.WebElement (session=\"7711eb0d82594ec8023a51775d7d566f\", element=\"9b6969cc-cf44-4355-8358-83878ec36940\")>,\n",
       " <selenium.webdriver.remote.webelement.WebElement (session=\"7711eb0d82594ec8023a51775d7d566f\", element=\"c7cb5e5c-87c4-4c16-8729-d823279ba370\")>,\n",
       " <selenium.webdriver.remote.webelement.WebElement (session=\"7711eb0d82594ec8023a51775d7d566f\", element=\"436cad36-1ca9-48bb-aade-6c08029bc8f1\")>,\n",
       " <selenium.webdriver.remote.webelement.WebElement (session=\"7711eb0d82594ec8023a51775d7d566f\", element=\"df9ce23d-607e-4fe5-a78e-f738aed23869\")>,\n",
       " <selenium.webdriver.remote.webelement.WebElement (session=\"7711eb0d82594ec8023a51775d7d566f\", element=\"b87bdf6b-e149-4f57-9873-d87eee203bcc\")>,\n",
       " <selenium.webdriver.remote.webelement.WebElement (session=\"7711eb0d82594ec8023a51775d7d566f\", element=\"2feb71f4-5e46-47db-b754-c06d9a4b201a\")>,\n",
       " <selenium.webdriver.remote.webelement.WebElement (session=\"7711eb0d82594ec8023a51775d7d566f\", element=\"6c5f89ad-6040-40f9-8406-2262a9ea6596\")>,\n",
       " <selenium.webdriver.remote.webelement.WebElement (session=\"7711eb0d82594ec8023a51775d7d566f\", element=\"85155010-eb5f-4858-8fda-0acf5c4fdc74\")>]"
      ]
     },
     "execution_count": 10,
     "metadata": {},
     "output_type": "execute_result"
    }
   ],
   "source": [
    "desc_tags=driver.find_elements_by_xpath(\"//div[@class='post-summary']\")\n",
    "desc_tags[0:10]"
   ]
  },
  {
   "cell_type": "code",
   "execution_count": 11,
   "metadata": {},
   "outputs": [
    {
     "data": {
      "text/plain": [
       "['HYDERABAD: The municipal administration department has started overhauling Greater Hyderabad Municipal Corporation (GHMC) to…',\n",
       " \"NEW DELHI: Raising questions on Rohith Vemula's dalit status, a commission constituted by HRD ministry after the Hyderabad…\",\n",
       " \"A 3-year-old child was allegedly killed by a youth in Chennai's outskirts after he took the child from his home on Wednesday night…\",\n",
       " \"New Delhi,  After yesterday's steep fall of Rs 730, gold prices were down by another Rs 30 to Rs 30,490 per 10 grams at the…\",\n",
       " 'Dehradun,  Opposition BJP in Uttarakhand today demanded an apology from state Congress President Kishor Upadhyay for casting…',\n",
       " 'Washington, Welcoming the news that the Paris agreement on climate change will enter into force in 30 days, US President Barack…',\n",
       " 'New Delhi,  India today sought enhanced cooperation from Switzerland in tackling menace of black money by providing information on…',\n",
       " 'Islamabad,  Facing international isolation, Prime Minister Nawaz Sharif in an unprecedented move has warned the powerful military…',\n",
       " 'Virat Kohli boasts of an impressive record as captain since taking over the reigns of Indian Test team two years ago and the…',\n",
       " 'Kolkata,  Indian pop diva Usha Uthup has composed lyrics and lent her voice for an Durga Puja album which in part is a remake of…']"
      ]
     },
     "execution_count": 11,
     "metadata": {},
     "output_type": "execute_result"
    }
   ],
   "source": [
    "for i in desc_tags:\n",
    "    \n",
    "    title=i.text\n",
    "    description.append(title)\n",
    "description[0:10]"
   ]
  },
  {
   "cell_type": "code",
   "execution_count": 12,
   "metadata": {},
   "outputs": [
    {
     "name": "stdout",
     "output_type": "stream",
     "text": [
      "10 10 10\n"
     ]
    }
   ],
   "source": [
    "print(len(news_titles),len(date),len(description))"
   ]
  },
  {
   "cell_type": "code",
   "execution_count": 13,
   "metadata": {},
   "outputs": [],
   "source": [
    "import pandas as pd\n",
    "news=pd.DataFrame({})\n",
    "news['title']=news_titles[0:10]\n",
    "news['date']=date[0:10]\n",
    "news['desc']=description[0:10]"
   ]
  },
  {
   "cell_type": "code",
   "execution_count": 14,
   "metadata": {},
   "outputs": [
    {
     "data": {
      "text/html": [
       "<div>\n",
       "<style scoped>\n",
       "    .dataframe tbody tr th:only-of-type {\n",
       "        vertical-align: middle;\n",
       "    }\n",
       "\n",
       "    .dataframe tbody tr th {\n",
       "        vertical-align: top;\n",
       "    }\n",
       "\n",
       "    .dataframe thead th {\n",
       "        text-align: right;\n",
       "    }\n",
       "</style>\n",
       "<table border=\"1\" class=\"dataframe\">\n",
       "  <thead>\n",
       "    <tr style=\"text-align: right;\">\n",
       "      <th></th>\n",
       "      <th>title</th>\n",
       "      <th>date</th>\n",
       "      <th>desc</th>\n",
       "    </tr>\n",
       "  </thead>\n",
       "  <tbody>\n",
       "    <tr>\n",
       "      <th>0</th>\n",
       "      <td>GHMC’s deputy executive engineers will decide ...</td>\n",
       "      <td>Oct 6, 2016</td>\n",
       "      <td>HYDERABAD: The municipal administration depart...</td>\n",
       "    </tr>\n",
       "    <tr>\n",
       "      <th>1</th>\n",
       "      <td>Vemula’s dalit status not established, says Co...</td>\n",
       "      <td>Oct 6, 2016</td>\n",
       "      <td>NEW DELHI: Raising questions on Rohith Vemula'...</td>\n",
       "    </tr>\n",
       "    <tr>\n",
       "      <th>2</th>\n",
       "      <td>Three-year-old child murdered by youth out of ...</td>\n",
       "      <td>Oct 6, 2016</td>\n",
       "      <td>A 3-year-old child was allegedly killed by a y...</td>\n",
       "    </tr>\n",
       "    <tr>\n",
       "      <th>3</th>\n",
       "      <td>Gold prices stay soft, losses deepen on weaken...</td>\n",
       "      <td>Oct 6, 2016</td>\n",
       "      <td>New Delhi,  After yesterday's steep fall of Rs...</td>\n",
       "    </tr>\n",
       "    <tr>\n",
       "      <th>4</th>\n",
       "      <td>BJP demands apology from U’khand Cong chief ov...</td>\n",
       "      <td>Oct 6, 2016</td>\n",
       "      <td>Dehradun,  Opposition BJP in Uttarakhand today...</td>\n",
       "    </tr>\n",
       "    <tr>\n",
       "      <th>5</th>\n",
       "      <td>Paris climate deal a turning point for planet:...</td>\n",
       "      <td>Oct 6, 2016</td>\n",
       "      <td>Washington, Welcoming the news that the Paris ...</td>\n",
       "    </tr>\n",
       "    <tr>\n",
       "      <th>6</th>\n",
       "      <td>India seeks enhanced Swiss cooperation to tack...</td>\n",
       "      <td>Oct 6, 2016</td>\n",
       "      <td>New Delhi,  India today sought enhanced cooper...</td>\n",
       "    </tr>\n",
       "    <tr>\n",
       "      <th>7</th>\n",
       "      <td>‘Sharif warns army not to shield militants ami...</td>\n",
       "      <td>Oct 6, 2016</td>\n",
       "      <td>Islamabad,  Facing international isolation, Pr...</td>\n",
       "    </tr>\n",
       "    <tr>\n",
       "      <th>8</th>\n",
       "      <td>Making a decision and back it, real essence of...</td>\n",
       "      <td>Oct 6, 2016</td>\n",
       "      <td>Virat Kohli boasts of an impressive record as ...</td>\n",
       "    </tr>\n",
       "    <tr>\n",
       "      <th>9</th>\n",
       "      <td>Usha Uthup composes and sings in English for P...</td>\n",
       "      <td>Oct 6, 2016</td>\n",
       "      <td>Kolkata,  Indian pop diva Usha Uthup has compo...</td>\n",
       "    </tr>\n",
       "  </tbody>\n",
       "</table>\n",
       "</div>"
      ],
      "text/plain": [
       "                                               title         date  \\\n",
       "0  GHMC’s deputy executive engineers will decide ...  Oct 6, 2016   \n",
       "1  Vemula’s dalit status not established, says Co...  Oct 6, 2016   \n",
       "2  Three-year-old child murdered by youth out of ...  Oct 6, 2016   \n",
       "3  Gold prices stay soft, losses deepen on weaken...  Oct 6, 2016   \n",
       "4  BJP demands apology from U’khand Cong chief ov...  Oct 6, 2016   \n",
       "5  Paris climate deal a turning point for planet:...  Oct 6, 2016   \n",
       "6  India seeks enhanced Swiss cooperation to tack...  Oct 6, 2016   \n",
       "7  ‘Sharif warns army not to shield militants ami...  Oct 6, 2016   \n",
       "8  Making a decision and back it, real essence of...  Oct 6, 2016   \n",
       "9  Usha Uthup composes and sings in English for P...  Oct 6, 2016   \n",
       "\n",
       "                                                desc  \n",
       "0  HYDERABAD: The municipal administration depart...  \n",
       "1  NEW DELHI: Raising questions on Rohith Vemula'...  \n",
       "2  A 3-year-old child was allegedly killed by a y...  \n",
       "3  New Delhi,  After yesterday's steep fall of Rs...  \n",
       "4  Dehradun,  Opposition BJP in Uttarakhand today...  \n",
       "5  Washington, Welcoming the news that the Paris ...  \n",
       "6  New Delhi,  India today sought enhanced cooper...  \n",
       "7  Islamabad,  Facing international isolation, Pr...  \n",
       "8  Virat Kohli boasts of an impressive record as ...  \n",
       "9  Kolkata,  Indian pop diva Usha Uthup has compo...  "
      ]
     },
     "execution_count": 14,
     "metadata": {},
     "output_type": "execute_result"
    }
   ],
   "source": [
    "news"
   ]
  },
  {
   "cell_type": "code",
   "execution_count": null,
   "metadata": {},
   "outputs": [],
   "source": []
  }
 ],
 "metadata": {
  "kernelspec": {
   "display_name": "Python 3",
   "language": "python",
   "name": "python3"
  },
  "language_info": {
   "codemirror_mode": {
    "name": "ipython",
    "version": 3
   },
   "file_extension": ".py",
   "mimetype": "text/x-python",
   "name": "python",
   "nbconvert_exporter": "python",
   "pygments_lexer": "ipython3",
   "version": "3.7.6"
  }
 },
 "nbformat": 4,
 "nbformat_minor": 4
}
