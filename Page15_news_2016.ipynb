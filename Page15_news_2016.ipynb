{
 "cells": [
  {
   "cell_type": "code",
   "execution_count": 1,
   "metadata": {},
   "outputs": [],
   "source": [
    "import selenium\n",
    "import pandas as pd\n",
    "from selenium import webdriver"
   ]
  },
  {
   "cell_type": "code",
   "execution_count": 2,
   "metadata": {},
   "outputs": [],
   "source": [
    "driver=webdriver.Chrome(\"C:\\chromedriver.exe\")"
   ]
  },
  {
   "cell_type": "code",
   "execution_count": 3,
   "metadata": {},
   "outputs": [],
   "source": [
    "driver.get('https://www.ebmnews.com/2016/page/15/')"
   ]
  },
  {
   "cell_type": "code",
   "execution_count": 4,
   "metadata": {},
   "outputs": [],
   "source": [
    "news_titles=[]\n",
    "date=[]\n",
    "description=[]"
   ]
  },
  {
   "cell_type": "code",
   "execution_count": 5,
   "metadata": {},
   "outputs": [
    {
     "data": {
      "text/plain": [
       "[<selenium.webdriver.remote.webelement.WebElement (session=\"224ee94fd933dcaf6f8514e6838b842b\", element=\"f0382198-c2ec-40df-aaa6-158f0015dff7\")>,\n",
       " <selenium.webdriver.remote.webelement.WebElement (session=\"224ee94fd933dcaf6f8514e6838b842b\", element=\"4c30bebe-785d-43a7-a50e-0df9b190e530\")>,\n",
       " <selenium.webdriver.remote.webelement.WebElement (session=\"224ee94fd933dcaf6f8514e6838b842b\", element=\"47c792bf-0d65-4cdd-9ef4-67bb98b24181\")>,\n",
       " <selenium.webdriver.remote.webelement.WebElement (session=\"224ee94fd933dcaf6f8514e6838b842b\", element=\"9531882e-faac-4d05-97c0-91eb58ea717d\")>,\n",
       " <selenium.webdriver.remote.webelement.WebElement (session=\"224ee94fd933dcaf6f8514e6838b842b\", element=\"203bc3ef-4ddc-4153-9d99-b5e18995227f\")>,\n",
       " <selenium.webdriver.remote.webelement.WebElement (session=\"224ee94fd933dcaf6f8514e6838b842b\", element=\"b4b60cc1-d6c3-4583-a754-d8434eab0544\")>,\n",
       " <selenium.webdriver.remote.webelement.WebElement (session=\"224ee94fd933dcaf6f8514e6838b842b\", element=\"e3a4cd1f-6f48-4098-9dfe-3999a35a3d4c\")>,\n",
       " <selenium.webdriver.remote.webelement.WebElement (session=\"224ee94fd933dcaf6f8514e6838b842b\", element=\"d52a2727-a5df-4e97-8922-57e630b88359\")>,\n",
       " <selenium.webdriver.remote.webelement.WebElement (session=\"224ee94fd933dcaf6f8514e6838b842b\", element=\"189a6f82-4297-4d48-b189-f1ebd9f35b0e\")>,\n",
       " <selenium.webdriver.remote.webelement.WebElement (session=\"224ee94fd933dcaf6f8514e6838b842b\", element=\"9e8c7301-6c03-4562-8852-53271bb00738\")>]"
      ]
     },
     "execution_count": 5,
     "metadata": {},
     "output_type": "execute_result"
    }
   ],
   "source": [
    "title_tags=driver.find_elements_by_xpath(\"//div[@class='item-inner clearfix']\")\n",
    "title_tags[0:10]"
   ]
  },
  {
   "cell_type": "code",
   "execution_count": 6,
   "metadata": {},
   "outputs": [
    {
     "data": {
      "text/plain": [
       "[\"Dhanush gets nostalgic as son turns 10\\nEBM News English Oct 11, 2016\\nActor Dhanush, who is busy with his 'Power Paandi' directorial debut, can't believe his elder son Yathra has already turned 10.…\",\n",
       " 'Shweta wants to do a film raunchier than Rathinirvedam\\nEBM News English Oct 11, 2016\\nCritics come and go but Shweta Menon goes on forever. A much trimmed down Shweta is now all set to walk the ramps and is also…',\n",
       " '“There is no bigger star than Rajinikanth”\\nEBM News English Oct 11, 2016\\nBengaluru,  Indian actress Radhika Apte says there is no bigger star than Rajinikanth and he helped her tide over the problem of…',\n",
       " 'Parineeti and I share similar influences: Ayushmann\\nEBM News English Oct 11, 2016\\nNew Delhi,  Actor-singer Ayushmann Khurrana says he and his \"Meri Pyaari Bindu\" co-star Parineeti Chopra share quite similar…',\n",
       " 'Gene therapy may treat Alzheimer’s disease\\nEBM News English Oct 11, 2016\\nLondon: Researchers at the Imperial College here have found that delivering a specific gene via an injection directly into the…',\n",
       " 'Shraddha Kapoor begins filming ‘Haseena’\\nEBM News English Oct 11, 2016\\nMumbai,  Actress Shraddha Kapoor has begun shooting for her upcoming film \"Haseena- The Queen of Mumbai\", the biopic on fugitive…',\n",
       " 'Jaitley to address seminar on boosting investment flows\\nEBM News English Oct 11, 2016\\nNew Delhi,  In the run up to the BRICS summit, Finance Minister Arun Jaitley will on Thursday address a seminar, to be attended by…',\n",
       " \"Tata Communications to expand in Malaysia\\nEBM News English Oct 11, 2016\\nSingapore,  India's Tata Communications is looking to set up two new centres in Malaysia and the Middle East for cloud data…\",\n",
       " 'Jeep Compass expected price, specifications and equipment\\nEBM News English Oct 11, 2016\\nJeep may not have had a flying start in India, given the lofty prices for its Grand Cherokee and the Wrangler. However, the…',\n",
       " 'Samsung likely to permanently halt Galaxy Note 7 sales – Hankyoreh\\nEBM News English Oct 11, 2016\\nSEOUL: Samsung Electronics Co Ltd <005930.KS> will likely stop selling its Galaxy Note 7 smartphones permanently following…']"
      ]
     },
     "execution_count": 6,
     "metadata": {},
     "output_type": "execute_result"
    }
   ],
   "source": [
    "for i in title_tags:\n",
    "    \n",
    "    title=i.text\n",
    "    news_titles.append(title)\n",
    "news_titles[0:10]"
   ]
  },
  {
   "cell_type": "code",
   "execution_count": 7,
   "metadata": {},
   "outputs": [
    {
     "data": {
      "text/plain": [
       "[<selenium.webdriver.remote.webelement.WebElement (session=\"224ee94fd933dcaf6f8514e6838b842b\", element=\"c987a44f-78db-4c3e-9c8e-79fcb68be323\")>,\n",
       " <selenium.webdriver.remote.webelement.WebElement (session=\"224ee94fd933dcaf6f8514e6838b842b\", element=\"ac77f230-1c47-453e-8f11-a2c4e2b68d62\")>,\n",
       " <selenium.webdriver.remote.webelement.WebElement (session=\"224ee94fd933dcaf6f8514e6838b842b\", element=\"5885767a-ddfb-4585-8dcb-42e1a71249dd\")>,\n",
       " <selenium.webdriver.remote.webelement.WebElement (session=\"224ee94fd933dcaf6f8514e6838b842b\", element=\"91de8bc9-988f-4fd7-bcd7-4e40319c10d4\")>,\n",
       " <selenium.webdriver.remote.webelement.WebElement (session=\"224ee94fd933dcaf6f8514e6838b842b\", element=\"c2d9beed-13dd-496d-a783-fe395ca473fe\")>,\n",
       " <selenium.webdriver.remote.webelement.WebElement (session=\"224ee94fd933dcaf6f8514e6838b842b\", element=\"6891c39d-effc-4125-ae11-b5ff5b2727c9\")>,\n",
       " <selenium.webdriver.remote.webelement.WebElement (session=\"224ee94fd933dcaf6f8514e6838b842b\", element=\"0f701155-a09e-4b7e-92b5-fd7d88b19f6a\")>,\n",
       " <selenium.webdriver.remote.webelement.WebElement (session=\"224ee94fd933dcaf6f8514e6838b842b\", element=\"49a574b6-f4f3-4f13-a198-8e630b588dd2\")>,\n",
       " <selenium.webdriver.remote.webelement.WebElement (session=\"224ee94fd933dcaf6f8514e6838b842b\", element=\"be02ceae-e6d0-4c2b-b345-e63c8fb7f75d\")>,\n",
       " <selenium.webdriver.remote.webelement.WebElement (session=\"224ee94fd933dcaf6f8514e6838b842b\", element=\"01c0f653-d4f5-47f3-9f27-7c0a043b34f1\")>]"
      ]
     },
     "execution_count": 7,
     "metadata": {},
     "output_type": "execute_result"
    }
   ],
   "source": [
    "date_tags=driver.find_elements_by_xpath(\"//span[@class='time']\")\n",
    "date_tags[0:10]"
   ]
  },
  {
   "cell_type": "code",
   "execution_count": 8,
   "metadata": {},
   "outputs": [
    {
     "data": {
      "text/plain": [
       "['Oct 11, 2016',\n",
       " 'Oct 11, 2016',\n",
       " 'Oct 11, 2016',\n",
       " 'Oct 11, 2016',\n",
       " 'Oct 11, 2016',\n",
       " 'Oct 11, 2016',\n",
       " 'Oct 11, 2016',\n",
       " 'Oct 11, 2016',\n",
       " 'Oct 11, 2016',\n",
       " 'Oct 11, 2016']"
      ]
     },
     "execution_count": 8,
     "metadata": {},
     "output_type": "execute_result"
    }
   ],
   "source": [
    "for i in date_tags:\n",
    "    \n",
    "    title=i.text\n",
    "    date.append(title)\n",
    "date[0:10]"
   ]
  },
  {
   "cell_type": "code",
   "execution_count": 9,
   "metadata": {},
   "outputs": [
    {
     "data": {
      "text/plain": [
       "[<selenium.webdriver.remote.webelement.WebElement (session=\"224ee94fd933dcaf6f8514e6838b842b\", element=\"708dfc39-21b1-4fc4-b118-3edb29e56a0d\")>,\n",
       " <selenium.webdriver.remote.webelement.WebElement (session=\"224ee94fd933dcaf6f8514e6838b842b\", element=\"518c8ad7-18aa-40ee-a524-1a4428cb353a\")>,\n",
       " <selenium.webdriver.remote.webelement.WebElement (session=\"224ee94fd933dcaf6f8514e6838b842b\", element=\"dd2bcb3a-061d-4cac-8cef-d411c89d39fc\")>,\n",
       " <selenium.webdriver.remote.webelement.WebElement (session=\"224ee94fd933dcaf6f8514e6838b842b\", element=\"6e38f578-1ccf-4ccc-9bc1-708ec7144ab4\")>,\n",
       " <selenium.webdriver.remote.webelement.WebElement (session=\"224ee94fd933dcaf6f8514e6838b842b\", element=\"688101cf-c0e1-4442-b33d-fbcb6c3411cd\")>,\n",
       " <selenium.webdriver.remote.webelement.WebElement (session=\"224ee94fd933dcaf6f8514e6838b842b\", element=\"9a34409f-bfaa-43bd-8d49-7191c036892c\")>,\n",
       " <selenium.webdriver.remote.webelement.WebElement (session=\"224ee94fd933dcaf6f8514e6838b842b\", element=\"e42729cd-a80d-4f73-9c40-90c2ec0b8a4b\")>,\n",
       " <selenium.webdriver.remote.webelement.WebElement (session=\"224ee94fd933dcaf6f8514e6838b842b\", element=\"f905a57f-3910-4547-a7d5-335b47dd3689\")>,\n",
       " <selenium.webdriver.remote.webelement.WebElement (session=\"224ee94fd933dcaf6f8514e6838b842b\", element=\"fbbdda86-9b3d-4380-953e-c8cd1ec2f60d\")>,\n",
       " <selenium.webdriver.remote.webelement.WebElement (session=\"224ee94fd933dcaf6f8514e6838b842b\", element=\"436ba3d7-e63e-4dfe-bfec-21924896767a\")>]"
      ]
     },
     "execution_count": 9,
     "metadata": {},
     "output_type": "execute_result"
    }
   ],
   "source": [
    "desc_tags=driver.find_elements_by_xpath(\"//div[@class='post-summary']\")\n",
    "desc_tags[0:10]"
   ]
  },
  {
   "cell_type": "code",
   "execution_count": 10,
   "metadata": {},
   "outputs": [
    {
     "data": {
      "text/plain": [
       "[\"Actor Dhanush, who is busy with his 'Power Paandi' directorial debut, can't believe his elder son Yathra has already turned 10.…\",\n",
       " 'Critics come and go but Shweta Menon goes on forever. A much trimmed down Shweta is now all set to walk the ramps and is also…',\n",
       " 'Bengaluru,  Indian actress Radhika Apte says there is no bigger star than Rajinikanth and he helped her tide over the problem of…',\n",
       " 'New Delhi,  Actor-singer Ayushmann Khurrana says he and his \"Meri Pyaari Bindu\" co-star Parineeti Chopra share quite similar…',\n",
       " 'London: Researchers at the Imperial College here have found that delivering a specific gene via an injection directly into the…',\n",
       " 'Mumbai,  Actress Shraddha Kapoor has begun shooting for her upcoming film \"Haseena- The Queen of Mumbai\", the biopic on fugitive…',\n",
       " 'New Delhi,  In the run up to the BRICS summit, Finance Minister Arun Jaitley will on Thursday address a seminar, to be attended by…',\n",
       " \"Singapore,  India's Tata Communications is looking to set up two new centres in Malaysia and the Middle East for cloud data…\",\n",
       " 'Jeep may not have had a flying start in India, given the lofty prices for its Grand Cherokee and the Wrangler. However, the…',\n",
       " 'SEOUL: Samsung Electronics Co Ltd <005930.KS> will likely stop selling its Galaxy Note 7 smartphones permanently following…']"
      ]
     },
     "execution_count": 10,
     "metadata": {},
     "output_type": "execute_result"
    }
   ],
   "source": [
    "for i in desc_tags:\n",
    "    \n",
    "    title=i.text\n",
    "    description.append(title)\n",
    "description[0:10]"
   ]
  },
  {
   "cell_type": "code",
   "execution_count": 11,
   "metadata": {},
   "outputs": [
    {
     "name": "stdout",
     "output_type": "stream",
     "text": [
      "10 10 10\n"
     ]
    }
   ],
   "source": [
    "print(len(news_titles),len(date),len(description))"
   ]
  },
  {
   "cell_type": "code",
   "execution_count": 12,
   "metadata": {},
   "outputs": [],
   "source": [
    "import pandas as pd\n",
    "news=pd.DataFrame({})\n",
    "news['title']=news_titles[0:10]\n",
    "news['date']=date[0:10]\n",
    "news['desc']=description[0:10]"
   ]
  },
  {
   "cell_type": "code",
   "execution_count": 13,
   "metadata": {},
   "outputs": [
    {
     "data": {
      "text/html": [
       "<div>\n",
       "<style scoped>\n",
       "    .dataframe tbody tr th:only-of-type {\n",
       "        vertical-align: middle;\n",
       "    }\n",
       "\n",
       "    .dataframe tbody tr th {\n",
       "        vertical-align: top;\n",
       "    }\n",
       "\n",
       "    .dataframe thead th {\n",
       "        text-align: right;\n",
       "    }\n",
       "</style>\n",
       "<table border=\"1\" class=\"dataframe\">\n",
       "  <thead>\n",
       "    <tr style=\"text-align: right;\">\n",
       "      <th></th>\n",
       "      <th>title</th>\n",
       "      <th>date</th>\n",
       "      <th>desc</th>\n",
       "    </tr>\n",
       "  </thead>\n",
       "  <tbody>\n",
       "    <tr>\n",
       "      <th>0</th>\n",
       "      <td>Dhanush gets nostalgic as son turns 10\\nEBM Ne...</td>\n",
       "      <td>Oct 11, 2016</td>\n",
       "      <td>Actor Dhanush, who is busy with his 'Power Paa...</td>\n",
       "    </tr>\n",
       "    <tr>\n",
       "      <th>1</th>\n",
       "      <td>Shweta wants to do a film raunchier than Rathi...</td>\n",
       "      <td>Oct 11, 2016</td>\n",
       "      <td>Critics come and go but Shweta Menon goes on f...</td>\n",
       "    </tr>\n",
       "    <tr>\n",
       "      <th>2</th>\n",
       "      <td>“There is no bigger star than Rajinikanth”\\nEB...</td>\n",
       "      <td>Oct 11, 2016</td>\n",
       "      <td>Bengaluru,  Indian actress Radhika Apte says t...</td>\n",
       "    </tr>\n",
       "    <tr>\n",
       "      <th>3</th>\n",
       "      <td>Parineeti and I share similar influences: Ayus...</td>\n",
       "      <td>Oct 11, 2016</td>\n",
       "      <td>New Delhi,  Actor-singer Ayushmann Khurrana sa...</td>\n",
       "    </tr>\n",
       "    <tr>\n",
       "      <th>4</th>\n",
       "      <td>Gene therapy may treat Alzheimer’s disease\\nEB...</td>\n",
       "      <td>Oct 11, 2016</td>\n",
       "      <td>London: Researchers at the Imperial College he...</td>\n",
       "    </tr>\n",
       "    <tr>\n",
       "      <th>5</th>\n",
       "      <td>Shraddha Kapoor begins filming ‘Haseena’\\nEBM ...</td>\n",
       "      <td>Oct 11, 2016</td>\n",
       "      <td>Mumbai,  Actress Shraddha Kapoor has begun sho...</td>\n",
       "    </tr>\n",
       "    <tr>\n",
       "      <th>6</th>\n",
       "      <td>Jaitley to address seminar on boosting investm...</td>\n",
       "      <td>Oct 11, 2016</td>\n",
       "      <td>New Delhi,  In the run up to the BRICS summit,...</td>\n",
       "    </tr>\n",
       "    <tr>\n",
       "      <th>7</th>\n",
       "      <td>Tata Communications to expand in Malaysia\\nEBM...</td>\n",
       "      <td>Oct 11, 2016</td>\n",
       "      <td>Singapore,  India's Tata Communications is loo...</td>\n",
       "    </tr>\n",
       "    <tr>\n",
       "      <th>8</th>\n",
       "      <td>Jeep Compass expected price, specifications an...</td>\n",
       "      <td>Oct 11, 2016</td>\n",
       "      <td>Jeep may not have had a flying start in India,...</td>\n",
       "    </tr>\n",
       "    <tr>\n",
       "      <th>9</th>\n",
       "      <td>Samsung likely to permanently halt Galaxy Note...</td>\n",
       "      <td>Oct 11, 2016</td>\n",
       "      <td>SEOUL: Samsung Electronics Co Ltd &lt;005930.KS&gt; ...</td>\n",
       "    </tr>\n",
       "  </tbody>\n",
       "</table>\n",
       "</div>"
      ],
      "text/plain": [
       "                                               title          date  \\\n",
       "0  Dhanush gets nostalgic as son turns 10\\nEBM Ne...  Oct 11, 2016   \n",
       "1  Shweta wants to do a film raunchier than Rathi...  Oct 11, 2016   \n",
       "2  “There is no bigger star than Rajinikanth”\\nEB...  Oct 11, 2016   \n",
       "3  Parineeti and I share similar influences: Ayus...  Oct 11, 2016   \n",
       "4  Gene therapy may treat Alzheimer’s disease\\nEB...  Oct 11, 2016   \n",
       "5  Shraddha Kapoor begins filming ‘Haseena’\\nEBM ...  Oct 11, 2016   \n",
       "6  Jaitley to address seminar on boosting investm...  Oct 11, 2016   \n",
       "7  Tata Communications to expand in Malaysia\\nEBM...  Oct 11, 2016   \n",
       "8  Jeep Compass expected price, specifications an...  Oct 11, 2016   \n",
       "9  Samsung likely to permanently halt Galaxy Note...  Oct 11, 2016   \n",
       "\n",
       "                                                desc  \n",
       "0  Actor Dhanush, who is busy with his 'Power Paa...  \n",
       "1  Critics come and go but Shweta Menon goes on f...  \n",
       "2  Bengaluru,  Indian actress Radhika Apte says t...  \n",
       "3  New Delhi,  Actor-singer Ayushmann Khurrana sa...  \n",
       "4  London: Researchers at the Imperial College he...  \n",
       "5  Mumbai,  Actress Shraddha Kapoor has begun sho...  \n",
       "6  New Delhi,  In the run up to the BRICS summit,...  \n",
       "7  Singapore,  India's Tata Communications is loo...  \n",
       "8  Jeep may not have had a flying start in India,...  \n",
       "9  SEOUL: Samsung Electronics Co Ltd <005930.KS> ...  "
      ]
     },
     "execution_count": 13,
     "metadata": {},
     "output_type": "execute_result"
    }
   ],
   "source": [
    "news"
   ]
  },
  {
   "cell_type": "code",
   "execution_count": null,
   "metadata": {},
   "outputs": [],
   "source": []
  }
 ],
 "metadata": {
  "kernelspec": {
   "display_name": "Python 3",
   "language": "python",
   "name": "python3"
  },
  "language_info": {
   "codemirror_mode": {
    "name": "ipython",
    "version": 3
   },
   "file_extension": ".py",
   "mimetype": "text/x-python",
   "name": "python",
   "nbconvert_exporter": "python",
   "pygments_lexer": "ipython3",
   "version": "3.7.6"
  }
 },
 "nbformat": 4,
 "nbformat_minor": 4
}
