{
 "cells": [
  {
   "cell_type": "code",
   "execution_count": 1,
   "metadata": {},
   "outputs": [],
   "source": [
    "import selenium\n",
    "import pandas as pd\n",
    "from selenium import webdriver"
   ]
  },
  {
   "cell_type": "code",
   "execution_count": 2,
   "metadata": {},
   "outputs": [],
   "source": [
    "driver=webdriver.Chrome(\"C:\\chromedriver.exe\")"
   ]
  },
  {
   "cell_type": "code",
   "execution_count": 3,
   "metadata": {},
   "outputs": [],
   "source": [
    "driver.get('https://www.ebmnews.com/2016/page/3/')"
   ]
  },
  {
   "cell_type": "code",
   "execution_count": 4,
   "metadata": {},
   "outputs": [],
   "source": [
    "news_titles=[]\n",
    "date=[]\n",
    "description=[]"
   ]
  },
  {
   "cell_type": "code",
   "execution_count": 5,
   "metadata": {},
   "outputs": [
    {
     "data": {
      "text/plain": [
       "[<selenium.webdriver.remote.webelement.WebElement (session=\"1ac8bc6fc8aad1485acad279ed15fcec\", element=\"aad30801-b3c8-4fbb-958e-6e0c32f36c6a\")>,\n",
       " <selenium.webdriver.remote.webelement.WebElement (session=\"1ac8bc6fc8aad1485acad279ed15fcec\", element=\"04a4d20c-1cf2-4dbe-9f02-e27fbca2a36b\")>,\n",
       " <selenium.webdriver.remote.webelement.WebElement (session=\"1ac8bc6fc8aad1485acad279ed15fcec\", element=\"3f2925d6-fcb3-4dd0-9e5b-d04c43be3a34\")>,\n",
       " <selenium.webdriver.remote.webelement.WebElement (session=\"1ac8bc6fc8aad1485acad279ed15fcec\", element=\"25c40274-bd68-41b1-9a22-667e23fb0a55\")>,\n",
       " <selenium.webdriver.remote.webelement.WebElement (session=\"1ac8bc6fc8aad1485acad279ed15fcec\", element=\"2996469b-94ba-40e8-bf35-698eb8e7d5d5\")>,\n",
       " <selenium.webdriver.remote.webelement.WebElement (session=\"1ac8bc6fc8aad1485acad279ed15fcec\", element=\"cf205947-737d-456c-8fd1-8f2778ad4bf6\")>,\n",
       " <selenium.webdriver.remote.webelement.WebElement (session=\"1ac8bc6fc8aad1485acad279ed15fcec\", element=\"67490a80-31d6-4a0f-8aca-edf5dc9eab44\")>,\n",
       " <selenium.webdriver.remote.webelement.WebElement (session=\"1ac8bc6fc8aad1485acad279ed15fcec\", element=\"ab8c5706-1926-4ebd-993a-25d3f0da1a91\")>,\n",
       " <selenium.webdriver.remote.webelement.WebElement (session=\"1ac8bc6fc8aad1485acad279ed15fcec\", element=\"d02e915f-0dd5-43bc-8b6b-d5ece73351be\")>,\n",
       " <selenium.webdriver.remote.webelement.WebElement (session=\"1ac8bc6fc8aad1485acad279ed15fcec\", element=\"6be5c56f-762c-4e69-872f-f7dfe1d61a08\")>]"
      ]
     },
     "execution_count": 5,
     "metadata": {},
     "output_type": "execute_result"
    }
   ],
   "source": [
    "title_tags=driver.find_elements_by_xpath(\"//div[@class='item-inner clearfix']\")\n",
    "title_tags[0:10]"
   ]
  },
  {
   "cell_type": "code",
   "execution_count": 6,
   "metadata": {},
   "outputs": [
    {
     "data": {
      "text/plain": [
       "['Neil Nitin Mukesh: When you find the right girl, love is inevitable\\nEBM News English Oct 14, 2016\\nBollywood actor Neil Nitin Mukesh, who was keen to settle down for the last two years, has finally found his perfect match. The…',\n",
       " 'Dileep to be trained in pickpocketing for his next\\nEBM News English Oct 14, 2016\\nDileep has never shied away from immersing himself in a role for a movie — be it as a hunchback in Kunjikoonan or an effeminate…',\n",
       " 'India trashes Pak media report on surgical strike\\nEBM News English Oct 14, 2016\\nNew Delhi,  India today termed as \"concocted and baseless\" a report in Pakistani media that Foreign Secretary S Jaishankar in a…',\n",
       " 'Dhanush croons for Selvaraghavan’s ‘Nenjam Marapathillai’\\nEBM News English Oct 14, 2016\\nSelvaraghavan is currently shooting for his horror film ‘Nenjam Marapathillai’. The music recording for the film is underway and a…',\n",
       " 'Eight Indians arrested for trying to enter US\\nEBM News English Oct 14, 2016\\nWashington,  Eight Indian men along with three others have been arrested by officials of the US Customs department for allegedly…',\n",
       " 'Curfew in parts of Kashmir ahead of Friday prayers\\nEBM News English Oct 14, 2016\\nSrinagar,  Curfew continued today in interior parts of Srinagar and some other areas as a precautionary measure in view of…',\n",
       " \"Give peace a chance: Colombia extends ceasefire with rebels\\nEBM News English Oct 14, 2016\\nBOGOTA: President Juan Manuel Santos announced on Thursday that he is extending a ceasefire with Colombia's largest rebel movement…\",\n",
       " 'Sensex recovers 70 pts on easing inflation\\nEBM News English Oct 14, 2016\\nMumbai,  The benchmark BSE Sensex recovered about 70 points in early trade today after investors indulged in fresh buying taking…',\n",
       " 'India among 6 countries that account for 60% of new TB cases in 2015: WHO\\nEBM News English Oct 14, 2016\\nWashington: The tuberculosis epidemic is larger than previously thought, infecting 10.4 million people last year, while research…',\n",
       " 'Modi to reach Goa for BRICS, hails BIMSTEC\\nEBM News English Oct 14, 2016\\nNEW DELHI: Prime Minister Narendra Modi who is slated to reach Goa on Friday for the upcoming eighth BRICS Summit and the first…']"
      ]
     },
     "execution_count": 6,
     "metadata": {},
     "output_type": "execute_result"
    }
   ],
   "source": [
    "for i in title_tags:\n",
    "    \n",
    "    title=i.text\n",
    "    news_titles.append(title)\n",
    "news_titles[0:10]"
   ]
  },
  {
   "cell_type": "code",
   "execution_count": 7,
   "metadata": {},
   "outputs": [
    {
     "data": {
      "text/plain": [
       "[<selenium.webdriver.remote.webelement.WebElement (session=\"1ac8bc6fc8aad1485acad279ed15fcec\", element=\"cbaa8830-c38d-4255-bdbe-3db6e70b8078\")>,\n",
       " <selenium.webdriver.remote.webelement.WebElement (session=\"1ac8bc6fc8aad1485acad279ed15fcec\", element=\"e4d777d4-0968-4f27-a3d2-baf989f9fc80\")>,\n",
       " <selenium.webdriver.remote.webelement.WebElement (session=\"1ac8bc6fc8aad1485acad279ed15fcec\", element=\"32829e41-9352-493b-baf5-6ab56e7564e3\")>,\n",
       " <selenium.webdriver.remote.webelement.WebElement (session=\"1ac8bc6fc8aad1485acad279ed15fcec\", element=\"dd7e66d2-882d-46b4-9435-4fc95d7d7a54\")>,\n",
       " <selenium.webdriver.remote.webelement.WebElement (session=\"1ac8bc6fc8aad1485acad279ed15fcec\", element=\"a06711dc-e277-4ade-8a98-d7a39bdca039\")>,\n",
       " <selenium.webdriver.remote.webelement.WebElement (session=\"1ac8bc6fc8aad1485acad279ed15fcec\", element=\"fca44376-daca-45c8-82c7-274647302695\")>,\n",
       " <selenium.webdriver.remote.webelement.WebElement (session=\"1ac8bc6fc8aad1485acad279ed15fcec\", element=\"79076974-d330-47a5-ae40-e14246acf861\")>,\n",
       " <selenium.webdriver.remote.webelement.WebElement (session=\"1ac8bc6fc8aad1485acad279ed15fcec\", element=\"3770eb0e-0c11-4ae2-8b53-e192c0f54be2\")>,\n",
       " <selenium.webdriver.remote.webelement.WebElement (session=\"1ac8bc6fc8aad1485acad279ed15fcec\", element=\"ed7cc0fe-5c82-4653-ac2a-4d979aae05a4\")>,\n",
       " <selenium.webdriver.remote.webelement.WebElement (session=\"1ac8bc6fc8aad1485acad279ed15fcec\", element=\"2439beca-87e5-412a-b4cf-664cf15b3bb0\")>]"
      ]
     },
     "execution_count": 7,
     "metadata": {},
     "output_type": "execute_result"
    }
   ],
   "source": [
    "date_tags=driver.find_elements_by_xpath(\"//span[@class='time']\")\n",
    "date_tags[0:10]"
   ]
  },
  {
   "cell_type": "code",
   "execution_count": 8,
   "metadata": {},
   "outputs": [
    {
     "data": {
      "text/plain": [
       "['Oct 14, 2016',\n",
       " 'Oct 14, 2016',\n",
       " 'Oct 14, 2016',\n",
       " 'Oct 14, 2016',\n",
       " 'Oct 14, 2016',\n",
       " 'Oct 14, 2016',\n",
       " 'Oct 14, 2016',\n",
       " 'Oct 14, 2016',\n",
       " 'Oct 14, 2016',\n",
       " 'Oct 14, 2016']"
      ]
     },
     "execution_count": 8,
     "metadata": {},
     "output_type": "execute_result"
    }
   ],
   "source": [
    "for i in date_tags:\n",
    "    \n",
    "    title=i.text\n",
    "    date.append(title)\n",
    "date[0:10]"
   ]
  },
  {
   "cell_type": "code",
   "execution_count": 9,
   "metadata": {},
   "outputs": [
    {
     "data": {
      "text/plain": [
       "[<selenium.webdriver.remote.webelement.WebElement (session=\"1ac8bc6fc8aad1485acad279ed15fcec\", element=\"4a38e85c-a8ca-491a-90e8-298e408afb41\")>,\n",
       " <selenium.webdriver.remote.webelement.WebElement (session=\"1ac8bc6fc8aad1485acad279ed15fcec\", element=\"df8e1c5c-5615-4f97-9314-043ffd09f86d\")>,\n",
       " <selenium.webdriver.remote.webelement.WebElement (session=\"1ac8bc6fc8aad1485acad279ed15fcec\", element=\"730d977d-4b3e-4968-a869-932a610eae71\")>,\n",
       " <selenium.webdriver.remote.webelement.WebElement (session=\"1ac8bc6fc8aad1485acad279ed15fcec\", element=\"6812f1a9-ee7f-4b63-b3e5-f5f5ec238da1\")>,\n",
       " <selenium.webdriver.remote.webelement.WebElement (session=\"1ac8bc6fc8aad1485acad279ed15fcec\", element=\"71bc8e19-7e4a-43e8-a6e4-4c1d08d561af\")>,\n",
       " <selenium.webdriver.remote.webelement.WebElement (session=\"1ac8bc6fc8aad1485acad279ed15fcec\", element=\"7ea02c7c-51cb-4f79-bf9e-b59996284455\")>,\n",
       " <selenium.webdriver.remote.webelement.WebElement (session=\"1ac8bc6fc8aad1485acad279ed15fcec\", element=\"469d4800-790c-4619-8c17-f1e871083960\")>,\n",
       " <selenium.webdriver.remote.webelement.WebElement (session=\"1ac8bc6fc8aad1485acad279ed15fcec\", element=\"fa62bdbe-2eb3-4943-93d9-d16f37c3fd74\")>,\n",
       " <selenium.webdriver.remote.webelement.WebElement (session=\"1ac8bc6fc8aad1485acad279ed15fcec\", element=\"6e8cfecd-ad64-4734-9199-b4ce3fc63b19\")>,\n",
       " <selenium.webdriver.remote.webelement.WebElement (session=\"1ac8bc6fc8aad1485acad279ed15fcec\", element=\"29b8204d-0dda-435b-a5b0-866485952a28\")>]"
      ]
     },
     "execution_count": 9,
     "metadata": {},
     "output_type": "execute_result"
    }
   ],
   "source": [
    "desc_tags=driver.find_elements_by_xpath(\"//div[@class='post-summary']\")\n",
    "desc_tags[0:10]"
   ]
  },
  {
   "cell_type": "code",
   "execution_count": 10,
   "metadata": {},
   "outputs": [
    {
     "data": {
      "text/plain": [
       "['Bollywood actor Neil Nitin Mukesh, who was keen to settle down for the last two years, has finally found his perfect match. The…',\n",
       " 'Dileep has never shied away from immersing himself in a role for a movie — be it as a hunchback in Kunjikoonan or an effeminate…',\n",
       " 'New Delhi,  India today termed as \"concocted and baseless\" a report in Pakistani media that Foreign Secretary S Jaishankar in a…',\n",
       " 'Selvaraghavan is currently shooting for his horror film ‘Nenjam Marapathillai’. The music recording for the film is underway and a…',\n",
       " 'Washington,  Eight Indian men along with three others have been arrested by officials of the US Customs department for allegedly…',\n",
       " 'Srinagar,  Curfew continued today in interior parts of Srinagar and some other areas as a precautionary measure in view of…',\n",
       " \"BOGOTA: President Juan Manuel Santos announced on Thursday that he is extending a ceasefire with Colombia's largest rebel movement…\",\n",
       " 'Mumbai,  The benchmark BSE Sensex recovered about 70 points in early trade today after investors indulged in fresh buying taking…',\n",
       " 'Washington: The tuberculosis epidemic is larger than previously thought, infecting 10.4 million people last year, while research…',\n",
       " 'NEW DELHI: Prime Minister Narendra Modi who is slated to reach Goa on Friday for the upcoming eighth BRICS Summit and the first…']"
      ]
     },
     "execution_count": 10,
     "metadata": {},
     "output_type": "execute_result"
    }
   ],
   "source": [
    "for i in desc_tags:\n",
    "    \n",
    "    title=i.text\n",
    "    description.append(title)\n",
    "description[0:10]"
   ]
  },
  {
   "cell_type": "code",
   "execution_count": 11,
   "metadata": {},
   "outputs": [
    {
     "name": "stdout",
     "output_type": "stream",
     "text": [
      "10 10 10\n"
     ]
    }
   ],
   "source": [
    "print(len(news_titles),len(date),len(description))"
   ]
  },
  {
   "cell_type": "code",
   "execution_count": 12,
   "metadata": {},
   "outputs": [],
   "source": [
    "import pandas as pd\n",
    "news=pd.DataFrame({})\n",
    "news['title']=news_titles[0:10]\n",
    "news['date']=date[0:10]\n",
    "news['desc']=description[0:10]"
   ]
  },
  {
   "cell_type": "code",
   "execution_count": 13,
   "metadata": {},
   "outputs": [
    {
     "data": {
      "text/html": [
       "<div>\n",
       "<style scoped>\n",
       "    .dataframe tbody tr th:only-of-type {\n",
       "        vertical-align: middle;\n",
       "    }\n",
       "\n",
       "    .dataframe tbody tr th {\n",
       "        vertical-align: top;\n",
       "    }\n",
       "\n",
       "    .dataframe thead th {\n",
       "        text-align: right;\n",
       "    }\n",
       "</style>\n",
       "<table border=\"1\" class=\"dataframe\">\n",
       "  <thead>\n",
       "    <tr style=\"text-align: right;\">\n",
       "      <th></th>\n",
       "      <th>title</th>\n",
       "      <th>date</th>\n",
       "      <th>desc</th>\n",
       "    </tr>\n",
       "  </thead>\n",
       "  <tbody>\n",
       "    <tr>\n",
       "      <th>0</th>\n",
       "      <td>Neil Nitin Mukesh: When you find the right gir...</td>\n",
       "      <td>Oct 14, 2016</td>\n",
       "      <td>Bollywood actor Neil Nitin Mukesh, who was kee...</td>\n",
       "    </tr>\n",
       "    <tr>\n",
       "      <th>1</th>\n",
       "      <td>Dileep to be trained in pickpocketing for his ...</td>\n",
       "      <td>Oct 14, 2016</td>\n",
       "      <td>Dileep has never shied away from immersing him...</td>\n",
       "    </tr>\n",
       "    <tr>\n",
       "      <th>2</th>\n",
       "      <td>India trashes Pak media report on surgical str...</td>\n",
       "      <td>Oct 14, 2016</td>\n",
       "      <td>New Delhi,  India today termed as \"concocted a...</td>\n",
       "    </tr>\n",
       "    <tr>\n",
       "      <th>3</th>\n",
       "      <td>Dhanush croons for Selvaraghavan’s ‘Nenjam Mar...</td>\n",
       "      <td>Oct 14, 2016</td>\n",
       "      <td>Selvaraghavan is currently shooting for his ho...</td>\n",
       "    </tr>\n",
       "    <tr>\n",
       "      <th>4</th>\n",
       "      <td>Eight Indians arrested for trying to enter US\\...</td>\n",
       "      <td>Oct 14, 2016</td>\n",
       "      <td>Washington,  Eight Indian men along with three...</td>\n",
       "    </tr>\n",
       "    <tr>\n",
       "      <th>5</th>\n",
       "      <td>Curfew in parts of Kashmir ahead of Friday pra...</td>\n",
       "      <td>Oct 14, 2016</td>\n",
       "      <td>Srinagar,  Curfew continued today in interior ...</td>\n",
       "    </tr>\n",
       "    <tr>\n",
       "      <th>6</th>\n",
       "      <td>Give peace a chance: Colombia extends ceasefir...</td>\n",
       "      <td>Oct 14, 2016</td>\n",
       "      <td>BOGOTA: President Juan Manuel Santos announced...</td>\n",
       "    </tr>\n",
       "    <tr>\n",
       "      <th>7</th>\n",
       "      <td>Sensex recovers 70 pts on easing inflation\\nEB...</td>\n",
       "      <td>Oct 14, 2016</td>\n",
       "      <td>Mumbai,  The benchmark BSE Sensex recovered ab...</td>\n",
       "    </tr>\n",
       "    <tr>\n",
       "      <th>8</th>\n",
       "      <td>India among 6 countries that account for 60% o...</td>\n",
       "      <td>Oct 14, 2016</td>\n",
       "      <td>Washington: The tuberculosis epidemic is large...</td>\n",
       "    </tr>\n",
       "    <tr>\n",
       "      <th>9</th>\n",
       "      <td>Modi to reach Goa for BRICS, hails BIMSTEC\\nEB...</td>\n",
       "      <td>Oct 14, 2016</td>\n",
       "      <td>NEW DELHI: Prime Minister Narendra Modi who is...</td>\n",
       "    </tr>\n",
       "  </tbody>\n",
       "</table>\n",
       "</div>"
      ],
      "text/plain": [
       "                                               title          date  \\\n",
       "0  Neil Nitin Mukesh: When you find the right gir...  Oct 14, 2016   \n",
       "1  Dileep to be trained in pickpocketing for his ...  Oct 14, 2016   \n",
       "2  India trashes Pak media report on surgical str...  Oct 14, 2016   \n",
       "3  Dhanush croons for Selvaraghavan’s ‘Nenjam Mar...  Oct 14, 2016   \n",
       "4  Eight Indians arrested for trying to enter US\\...  Oct 14, 2016   \n",
       "5  Curfew in parts of Kashmir ahead of Friday pra...  Oct 14, 2016   \n",
       "6  Give peace a chance: Colombia extends ceasefir...  Oct 14, 2016   \n",
       "7  Sensex recovers 70 pts on easing inflation\\nEB...  Oct 14, 2016   \n",
       "8  India among 6 countries that account for 60% o...  Oct 14, 2016   \n",
       "9  Modi to reach Goa for BRICS, hails BIMSTEC\\nEB...  Oct 14, 2016   \n",
       "\n",
       "                                                desc  \n",
       "0  Bollywood actor Neil Nitin Mukesh, who was kee...  \n",
       "1  Dileep has never shied away from immersing him...  \n",
       "2  New Delhi,  India today termed as \"concocted a...  \n",
       "3  Selvaraghavan is currently shooting for his ho...  \n",
       "4  Washington,  Eight Indian men along with three...  \n",
       "5  Srinagar,  Curfew continued today in interior ...  \n",
       "6  BOGOTA: President Juan Manuel Santos announced...  \n",
       "7  Mumbai,  The benchmark BSE Sensex recovered ab...  \n",
       "8  Washington: The tuberculosis epidemic is large...  \n",
       "9  NEW DELHI: Prime Minister Narendra Modi who is...  "
      ]
     },
     "execution_count": 13,
     "metadata": {},
     "output_type": "execute_result"
    }
   ],
   "source": [
    "news"
   ]
  },
  {
   "cell_type": "code",
   "execution_count": null,
   "metadata": {},
   "outputs": [],
   "source": []
  }
 ],
 "metadata": {
  "kernelspec": {
   "display_name": "Python 3",
   "language": "python",
   "name": "python3"
  },
  "language_info": {
   "codemirror_mode": {
    "name": "ipython",
    "version": 3
   },
   "file_extension": ".py",
   "mimetype": "text/x-python",
   "name": "python",
   "nbconvert_exporter": "python",
   "pygments_lexer": "ipython3",
   "version": "3.7.6"
  }
 },
 "nbformat": 4,
 "nbformat_minor": 4
}
