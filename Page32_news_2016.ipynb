{
 "cells": [
  {
   "cell_type": "code",
   "execution_count": 1,
   "metadata": {},
   "outputs": [],
   "source": [
    "import selenium"
   ]
  },
  {
   "cell_type": "code",
   "execution_count": 2,
   "metadata": {},
   "outputs": [],
   "source": [
    "import pandas as pd\n",
    "from selenium import webdriver"
   ]
  },
  {
   "cell_type": "code",
   "execution_count": 3,
   "metadata": {},
   "outputs": [],
   "source": [
    "driver=webdriver.Chrome(\"C:\\chromedriver.exe\")"
   ]
  },
  {
   "cell_type": "code",
   "execution_count": 4,
   "metadata": {},
   "outputs": [],
   "source": [
    "driver.get('https://www.ebmnews.com/2016/page/32/')"
   ]
  },
  {
   "cell_type": "code",
   "execution_count": 5,
   "metadata": {},
   "outputs": [],
   "source": [
    "news_titles=[]\n",
    "date=[]\n",
    "description=[]"
   ]
  },
  {
   "cell_type": "code",
   "execution_count": 6,
   "metadata": {},
   "outputs": [
    {
     "data": {
      "text/plain": [
       "[<selenium.webdriver.remote.webelement.WebElement (session=\"f623143b21f2e04bd382c03dc8c4e574\", element=\"7b61e2bf-d0a8-4483-a354-9bcc69c9868e\")>,\n",
       " <selenium.webdriver.remote.webelement.WebElement (session=\"f623143b21f2e04bd382c03dc8c4e574\", element=\"09e5cc18-a38c-4c35-899a-540b82c9983a\")>,\n",
       " <selenium.webdriver.remote.webelement.WebElement (session=\"f623143b21f2e04bd382c03dc8c4e574\", element=\"57874b56-f40d-4cc8-a9b3-a002065079e0\")>,\n",
       " <selenium.webdriver.remote.webelement.WebElement (session=\"f623143b21f2e04bd382c03dc8c4e574\", element=\"5ddf8cd2-5f51-4221-a2b0-adc5e6539b28\")>,\n",
       " <selenium.webdriver.remote.webelement.WebElement (session=\"f623143b21f2e04bd382c03dc8c4e574\", element=\"4b4014d6-026e-4124-ad7d-353b49cf9761\")>,\n",
       " <selenium.webdriver.remote.webelement.WebElement (session=\"f623143b21f2e04bd382c03dc8c4e574\", element=\"77a17bb6-af3f-48eb-871b-a639ccaf8e9e\")>,\n",
       " <selenium.webdriver.remote.webelement.WebElement (session=\"f623143b21f2e04bd382c03dc8c4e574\", element=\"93f14055-f2bc-49fb-ab6e-66675cdcf97e\")>,\n",
       " <selenium.webdriver.remote.webelement.WebElement (session=\"f623143b21f2e04bd382c03dc8c4e574\", element=\"5152c59b-8ca6-438f-b0fa-5cbe281bdf15\")>,\n",
       " <selenium.webdriver.remote.webelement.WebElement (session=\"f623143b21f2e04bd382c03dc8c4e574\", element=\"eaa72ad9-8c90-4a18-9017-775eb60a1614\")>,\n",
       " <selenium.webdriver.remote.webelement.WebElement (session=\"f623143b21f2e04bd382c03dc8c4e574\", element=\"0715c1f3-040b-4396-8246-69216d4257ad\")>]"
      ]
     },
     "execution_count": 6,
     "metadata": {},
     "output_type": "execute_result"
    }
   ],
   "source": [
    "title_tags=driver.find_elements_by_xpath(\"//div[@class='item-inner clearfix']\")\n",
    "title_tags[0:10]"
   ]
  },
  {
   "cell_type": "code",
   "execution_count": 7,
   "metadata": {},
   "outputs": [
    {
     "data": {
      "text/plain": [
       "['BJP slams Arvind Kejriwal, P Chidambaram’s comments on surgical strikes\\nEBM News English Oct 4, 2016\\nNEW DELHI: The BJP on Tuesday slammed Delhi chief minister Arvind Kejriwal and Congress leader P Chidambaram for \"demanding…',\n",
       " 'Obama, DiCaprio call for action against climate change\\nEBM News English Oct 4, 2016\\nWASHINGTON: US President Barack Obama and Hollywood actor Leonardo DiCaprio here highlighted the urgency of taking further action…',\n",
       " \"Nawazuddin dowry dispute: Police refers matter for mediation\\nEBM News English Oct 4, 2016\\nMuzaffarnagar, Police have referred the dowry dispute between film actor Nawazuddin Siddiqui's sister-in-law and his family…\",\n",
       " 'BCCI threatens to call off NZ series, Lodha clarifies accounts not frozen\\nEBM News English Oct 4, 2016\\nNEW DELHI: With the BCCI threatening to call off the ongoing series between India and New Zealand, the Justice R M Lodha led panel…',\n",
       " 'Gold beams on jewellers’ buying; silver topples\\nEBM News English Oct 4, 2016\\nNew Delhi,  Gold soared by Rs 50 to Rs 31,250 per ten grams at the bullion market today on increased buying by jewellers at…',\n",
       " \"Here’s how you perfect your glitter nails\\nEBM News English Oct 4, 2016\\nFancy glitter nails? But if you've been applying nail polish and topped it with a base of transparent glitter nail coat, you've…\",\n",
       " 'UN peacekeeper killed, 8 wounded in north Mali attack\\nEBM News English Oct 4, 2016\\nBAMAKO: Attacks targeting a camp in northern Mali operated by the United Nations peacekeepingmission on Monday killed one soldier…',\n",
       " 'Turkey suspends more than 12,000 police officers in coup probe: Statement\\nEBM News English Oct 4, 2016\\nTurkish authorities suspended more than 12,000 police officers over alleged links to Muslim cleric Fethullah Gulen accused of…',\n",
       " \"India’s GDP growth to remain strong: World Bank\\nEBM News English Oct 4, 2016\\nWashington,  India's GDP growth will remain strong at 7.6 per cent in 2016 and 7.7 per cent in 2017, the World Bank has said,…\",\n",
       " 'Srinda bags a film with Nivin, yet again\\nEBM News English Oct 4, 2016\\nIt might be quiet tough for the Malayalis to forget Susheela in 1983 played by Srinda. Her innocent conversation with her husband…']"
      ]
     },
     "execution_count": 7,
     "metadata": {},
     "output_type": "execute_result"
    }
   ],
   "source": [
    "for i in title_tags:\n",
    "    \n",
    "    title=i.text\n",
    "    news_titles.append(title)\n",
    "news_titles[0:10]"
   ]
  },
  {
   "cell_type": "code",
   "execution_count": 8,
   "metadata": {},
   "outputs": [
    {
     "data": {
      "text/plain": [
       "[<selenium.webdriver.remote.webelement.WebElement (session=\"f623143b21f2e04bd382c03dc8c4e574\", element=\"c05101a7-694f-401e-9ac8-b6869d1e7b9c\")>,\n",
       " <selenium.webdriver.remote.webelement.WebElement (session=\"f623143b21f2e04bd382c03dc8c4e574\", element=\"5774cacc-2fca-495b-a28f-ca5f2c91ff86\")>,\n",
       " <selenium.webdriver.remote.webelement.WebElement (session=\"f623143b21f2e04bd382c03dc8c4e574\", element=\"6b5697dc-edf9-4d5f-867e-df8770b2fb27\")>,\n",
       " <selenium.webdriver.remote.webelement.WebElement (session=\"f623143b21f2e04bd382c03dc8c4e574\", element=\"bf75869b-9781-4014-b8e2-b820219d76c7\")>,\n",
       " <selenium.webdriver.remote.webelement.WebElement (session=\"f623143b21f2e04bd382c03dc8c4e574\", element=\"92a68902-8f67-4fad-b3b0-2c1d3e8f3aee\")>,\n",
       " <selenium.webdriver.remote.webelement.WebElement (session=\"f623143b21f2e04bd382c03dc8c4e574\", element=\"674ebec2-1081-4788-b388-d26c7f5baeac\")>,\n",
       " <selenium.webdriver.remote.webelement.WebElement (session=\"f623143b21f2e04bd382c03dc8c4e574\", element=\"89768efb-6883-4e50-8976-84e525a47d90\")>,\n",
       " <selenium.webdriver.remote.webelement.WebElement (session=\"f623143b21f2e04bd382c03dc8c4e574\", element=\"4a4013d6-07f5-49bd-83c2-a8c59827a42c\")>,\n",
       " <selenium.webdriver.remote.webelement.WebElement (session=\"f623143b21f2e04bd382c03dc8c4e574\", element=\"41d9b837-f763-4b10-b0b5-baa96a6dcf86\")>,\n",
       " <selenium.webdriver.remote.webelement.WebElement (session=\"f623143b21f2e04bd382c03dc8c4e574\", element=\"8ced8af7-72f6-4d40-8218-af1bbcb19274\")>]"
      ]
     },
     "execution_count": 8,
     "metadata": {},
     "output_type": "execute_result"
    }
   ],
   "source": [
    "date_tags=driver.find_elements_by_xpath(\"//span[@class='time']\")\n",
    "date_tags[0:10]"
   ]
  },
  {
   "cell_type": "code",
   "execution_count": 9,
   "metadata": {},
   "outputs": [
    {
     "data": {
      "text/plain": [
       "['Oct 4, 2016',\n",
       " 'Oct 4, 2016',\n",
       " 'Oct 4, 2016',\n",
       " 'Oct 4, 2016',\n",
       " 'Oct 4, 2016',\n",
       " 'Oct 4, 2016',\n",
       " 'Oct 4, 2016',\n",
       " 'Oct 4, 2016',\n",
       " 'Oct 4, 2016',\n",
       " 'Oct 4, 2016']"
      ]
     },
     "execution_count": 9,
     "metadata": {},
     "output_type": "execute_result"
    }
   ],
   "source": [
    "for i in date_tags:\n",
    "    \n",
    "    title=i.text\n",
    "    date.append(title)\n",
    "date[0:10]"
   ]
  },
  {
   "cell_type": "code",
   "execution_count": 10,
   "metadata": {},
   "outputs": [
    {
     "data": {
      "text/plain": [
       "[<selenium.webdriver.remote.webelement.WebElement (session=\"f623143b21f2e04bd382c03dc8c4e574\", element=\"ef461841-b182-4ac3-b7a0-794defc794d6\")>,\n",
       " <selenium.webdriver.remote.webelement.WebElement (session=\"f623143b21f2e04bd382c03dc8c4e574\", element=\"abfcdfe7-95ce-49cf-bc0c-6bf5dc53bc9d\")>,\n",
       " <selenium.webdriver.remote.webelement.WebElement (session=\"f623143b21f2e04bd382c03dc8c4e574\", element=\"3ef11e9e-e870-4db1-b45a-214def483051\")>,\n",
       " <selenium.webdriver.remote.webelement.WebElement (session=\"f623143b21f2e04bd382c03dc8c4e574\", element=\"cdd1b909-0ac9-4273-9928-6753117d69ea\")>,\n",
       " <selenium.webdriver.remote.webelement.WebElement (session=\"f623143b21f2e04bd382c03dc8c4e574\", element=\"d7b28be9-72e9-46a0-b80e-9f05a9bb8e59\")>,\n",
       " <selenium.webdriver.remote.webelement.WebElement (session=\"f623143b21f2e04bd382c03dc8c4e574\", element=\"4cc2cb9a-adda-4bf4-93fb-397189b17612\")>,\n",
       " <selenium.webdriver.remote.webelement.WebElement (session=\"f623143b21f2e04bd382c03dc8c4e574\", element=\"ad83ea16-ad8c-449d-b875-d8422d4771b5\")>,\n",
       " <selenium.webdriver.remote.webelement.WebElement (session=\"f623143b21f2e04bd382c03dc8c4e574\", element=\"ac427dcf-be9e-4ab2-882f-8570843bf41f\")>,\n",
       " <selenium.webdriver.remote.webelement.WebElement (session=\"f623143b21f2e04bd382c03dc8c4e574\", element=\"57361177-1e60-486f-acf2-19c5b1ac203a\")>,\n",
       " <selenium.webdriver.remote.webelement.WebElement (session=\"f623143b21f2e04bd382c03dc8c4e574\", element=\"7cd0f790-2638-4cbc-afd6-612f06c36797\")>]"
      ]
     },
     "execution_count": 10,
     "metadata": {},
     "output_type": "execute_result"
    }
   ],
   "source": [
    "desc_tags=driver.find_elements_by_xpath(\"//div[@class='post-summary']\")\n",
    "desc_tags[0:10]"
   ]
  },
  {
   "cell_type": "code",
   "execution_count": 11,
   "metadata": {},
   "outputs": [
    {
     "data": {
      "text/plain": [
       "['NEW DELHI: The BJP on Tuesday slammed Delhi chief minister Arvind Kejriwal and Congress leader P Chidambaram for \"demanding…',\n",
       " 'WASHINGTON: US President Barack Obama and Hollywood actor Leonardo DiCaprio here highlighted the urgency of taking further action…',\n",
       " \"Muzaffarnagar, Police have referred the dowry dispute between film actor Nawazuddin Siddiqui's sister-in-law and his family…\",\n",
       " 'NEW DELHI: With the BCCI threatening to call off the ongoing series between India and New Zealand, the Justice R M Lodha led panel…',\n",
       " 'New Delhi,  Gold soared by Rs 50 to Rs 31,250 per ten grams at the bullion market today on increased buying by jewellers at…',\n",
       " \"Fancy glitter nails? But if you've been applying nail polish and topped it with a base of transparent glitter nail coat, you've…\",\n",
       " 'BAMAKO: Attacks targeting a camp in northern Mali operated by the United Nations peacekeepingmission on Monday killed one soldier…',\n",
       " 'Turkish authorities suspended more than 12,000 police officers over alleged links to Muslim cleric Fethullah Gulen accused of…',\n",
       " \"Washington,  India's GDP growth will remain strong at 7.6 per cent in 2016 and 7.7 per cent in 2017, the World Bank has said,…\",\n",
       " 'It might be quiet tough for the Malayalis to forget Susheela in 1983 played by Srinda. Her innocent conversation with her husband…']"
      ]
     },
     "execution_count": 11,
     "metadata": {},
     "output_type": "execute_result"
    }
   ],
   "source": [
    "for i in desc_tags:\n",
    "    \n",
    "    title=i.text\n",
    "    description.append(title)\n",
    "description[0:10]"
   ]
  },
  {
   "cell_type": "code",
   "execution_count": 12,
   "metadata": {},
   "outputs": [
    {
     "name": "stdout",
     "output_type": "stream",
     "text": [
      "10 10 10\n"
     ]
    }
   ],
   "source": [
    "print(len(news_titles),len(date),len(description))"
   ]
  },
  {
   "cell_type": "code",
   "execution_count": 13,
   "metadata": {},
   "outputs": [],
   "source": [
    "import pandas as pd\n",
    "news=pd.DataFrame({})\n",
    "news['title']=news_titles[0:10]\n",
    "news['date']=date[0:10]\n",
    "news['desc']=description[0:10]"
   ]
  },
  {
   "cell_type": "code",
   "execution_count": 14,
   "metadata": {},
   "outputs": [
    {
     "data": {
      "text/html": [
       "<div>\n",
       "<style scoped>\n",
       "    .dataframe tbody tr th:only-of-type {\n",
       "        vertical-align: middle;\n",
       "    }\n",
       "\n",
       "    .dataframe tbody tr th {\n",
       "        vertical-align: top;\n",
       "    }\n",
       "\n",
       "    .dataframe thead th {\n",
       "        text-align: right;\n",
       "    }\n",
       "</style>\n",
       "<table border=\"1\" class=\"dataframe\">\n",
       "  <thead>\n",
       "    <tr style=\"text-align: right;\">\n",
       "      <th></th>\n",
       "      <th>title</th>\n",
       "      <th>date</th>\n",
       "      <th>desc</th>\n",
       "    </tr>\n",
       "  </thead>\n",
       "  <tbody>\n",
       "    <tr>\n",
       "      <th>0</th>\n",
       "      <td>BJP slams Arvind Kejriwal, P Chidambaram’s com...</td>\n",
       "      <td>Oct 4, 2016</td>\n",
       "      <td>NEW DELHI: The BJP on Tuesday slammed Delhi ch...</td>\n",
       "    </tr>\n",
       "    <tr>\n",
       "      <th>1</th>\n",
       "      <td>Obama, DiCaprio call for action against climat...</td>\n",
       "      <td>Oct 4, 2016</td>\n",
       "      <td>WASHINGTON: US President Barack Obama and Holl...</td>\n",
       "    </tr>\n",
       "    <tr>\n",
       "      <th>2</th>\n",
       "      <td>Nawazuddin dowry dispute: Police refers matter...</td>\n",
       "      <td>Oct 4, 2016</td>\n",
       "      <td>Muzaffarnagar, Police have referred the dowry ...</td>\n",
       "    </tr>\n",
       "    <tr>\n",
       "      <th>3</th>\n",
       "      <td>BCCI threatens to call off NZ series, Lodha cl...</td>\n",
       "      <td>Oct 4, 2016</td>\n",
       "      <td>NEW DELHI: With the BCCI threatening to call o...</td>\n",
       "    </tr>\n",
       "    <tr>\n",
       "      <th>4</th>\n",
       "      <td>Gold beams on jewellers’ buying; silver topple...</td>\n",
       "      <td>Oct 4, 2016</td>\n",
       "      <td>New Delhi,  Gold soared by Rs 50 to Rs 31,250 ...</td>\n",
       "    </tr>\n",
       "    <tr>\n",
       "      <th>5</th>\n",
       "      <td>Here’s how you perfect your glitter nails\\nEBM...</td>\n",
       "      <td>Oct 4, 2016</td>\n",
       "      <td>Fancy glitter nails? But if you've been applyi...</td>\n",
       "    </tr>\n",
       "    <tr>\n",
       "      <th>6</th>\n",
       "      <td>UN peacekeeper killed, 8 wounded in north Mali...</td>\n",
       "      <td>Oct 4, 2016</td>\n",
       "      <td>BAMAKO: Attacks targeting a camp in northern M...</td>\n",
       "    </tr>\n",
       "    <tr>\n",
       "      <th>7</th>\n",
       "      <td>Turkey suspends more than 12,000 police office...</td>\n",
       "      <td>Oct 4, 2016</td>\n",
       "      <td>Turkish authorities suspended more than 12,000...</td>\n",
       "    </tr>\n",
       "    <tr>\n",
       "      <th>8</th>\n",
       "      <td>India’s GDP growth to remain strong: World Ban...</td>\n",
       "      <td>Oct 4, 2016</td>\n",
       "      <td>Washington,  India's GDP growth will remain st...</td>\n",
       "    </tr>\n",
       "    <tr>\n",
       "      <th>9</th>\n",
       "      <td>Srinda bags a film with Nivin, yet again\\nEBM ...</td>\n",
       "      <td>Oct 4, 2016</td>\n",
       "      <td>It might be quiet tough for the Malayalis to f...</td>\n",
       "    </tr>\n",
       "  </tbody>\n",
       "</table>\n",
       "</div>"
      ],
      "text/plain": [
       "                                               title         date  \\\n",
       "0  BJP slams Arvind Kejriwal, P Chidambaram’s com...  Oct 4, 2016   \n",
       "1  Obama, DiCaprio call for action against climat...  Oct 4, 2016   \n",
       "2  Nawazuddin dowry dispute: Police refers matter...  Oct 4, 2016   \n",
       "3  BCCI threatens to call off NZ series, Lodha cl...  Oct 4, 2016   \n",
       "4  Gold beams on jewellers’ buying; silver topple...  Oct 4, 2016   \n",
       "5  Here’s how you perfect your glitter nails\\nEBM...  Oct 4, 2016   \n",
       "6  UN peacekeeper killed, 8 wounded in north Mali...  Oct 4, 2016   \n",
       "7  Turkey suspends more than 12,000 police office...  Oct 4, 2016   \n",
       "8  India’s GDP growth to remain strong: World Ban...  Oct 4, 2016   \n",
       "9  Srinda bags a film with Nivin, yet again\\nEBM ...  Oct 4, 2016   \n",
       "\n",
       "                                                desc  \n",
       "0  NEW DELHI: The BJP on Tuesday slammed Delhi ch...  \n",
       "1  WASHINGTON: US President Barack Obama and Holl...  \n",
       "2  Muzaffarnagar, Police have referred the dowry ...  \n",
       "3  NEW DELHI: With the BCCI threatening to call o...  \n",
       "4  New Delhi,  Gold soared by Rs 50 to Rs 31,250 ...  \n",
       "5  Fancy glitter nails? But if you've been applyi...  \n",
       "6  BAMAKO: Attacks targeting a camp in northern M...  \n",
       "7  Turkish authorities suspended more than 12,000...  \n",
       "8  Washington,  India's GDP growth will remain st...  \n",
       "9  It might be quiet tough for the Malayalis to f...  "
      ]
     },
     "execution_count": 14,
     "metadata": {},
     "output_type": "execute_result"
    }
   ],
   "source": [
    "news"
   ]
  },
  {
   "cell_type": "code",
   "execution_count": null,
   "metadata": {},
   "outputs": [],
   "source": []
  }
 ],
 "metadata": {
  "kernelspec": {
   "display_name": "Python 3",
   "language": "python",
   "name": "python3"
  },
  "language_info": {
   "codemirror_mode": {
    "name": "ipython",
    "version": 3
   },
   "file_extension": ".py",
   "mimetype": "text/x-python",
   "name": "python",
   "nbconvert_exporter": "python",
   "pygments_lexer": "ipython3",
   "version": "3.7.6"
  }
 },
 "nbformat": 4,
 "nbformat_minor": 4
}
