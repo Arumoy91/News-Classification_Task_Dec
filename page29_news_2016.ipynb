{
 "cells": [
  {
   "cell_type": "code",
   "execution_count": 1,
   "metadata": {},
   "outputs": [],
   "source": [
    "import selenium"
   ]
  },
  {
   "cell_type": "code",
   "execution_count": 2,
   "metadata": {},
   "outputs": [],
   "source": [
    "import pandas as pd\n",
    "from selenium import webdriver"
   ]
  },
  {
   "cell_type": "code",
   "execution_count": 3,
   "metadata": {},
   "outputs": [],
   "source": [
    "driver=webdriver.Chrome(\"C:\\chromedriver.exe\")"
   ]
  },
  {
   "cell_type": "code",
   "execution_count": 4,
   "metadata": {},
   "outputs": [],
   "source": [
    "driver.get('https://www.ebmnews.com/2016/page/29/')"
   ]
  },
  {
   "cell_type": "code",
   "execution_count": 5,
   "metadata": {},
   "outputs": [],
   "source": [
    "news_titles=[]\n",
    "date=[]\n",
    "description=[]"
   ]
  },
  {
   "cell_type": "code",
   "execution_count": 6,
   "metadata": {},
   "outputs": [
    {
     "data": {
      "text/plain": [
       "[<selenium.webdriver.remote.webelement.WebElement (session=\"db6ff2e690e055aaa2522e13c3e30026\", element=\"81ae192e-d93a-4f5c-a97c-f5bb0e4476d6\")>,\n",
       " <selenium.webdriver.remote.webelement.WebElement (session=\"db6ff2e690e055aaa2522e13c3e30026\", element=\"0e1755ea-3eaf-4011-929f-ed7f4b16d5cb\")>,\n",
       " <selenium.webdriver.remote.webelement.WebElement (session=\"db6ff2e690e055aaa2522e13c3e30026\", element=\"aef2a539-b77d-4f6e-9231-b7f983c41199\")>,\n",
       " <selenium.webdriver.remote.webelement.WebElement (session=\"db6ff2e690e055aaa2522e13c3e30026\", element=\"a2da393f-da89-479e-aeb7-f19df899f448\")>,\n",
       " <selenium.webdriver.remote.webelement.WebElement (session=\"db6ff2e690e055aaa2522e13c3e30026\", element=\"d6d292d3-d5d0-4a5c-b38c-63c121bdb5ab\")>,\n",
       " <selenium.webdriver.remote.webelement.WebElement (session=\"db6ff2e690e055aaa2522e13c3e30026\", element=\"e0adf4b9-381b-46a7-baf2-1a8975c5cca2\")>,\n",
       " <selenium.webdriver.remote.webelement.WebElement (session=\"db6ff2e690e055aaa2522e13c3e30026\", element=\"32ac8151-f240-4b4a-87e9-cd728b0e7ba6\")>,\n",
       " <selenium.webdriver.remote.webelement.WebElement (session=\"db6ff2e690e055aaa2522e13c3e30026\", element=\"f0f95d28-d23b-47a6-b4a7-e7d00447523b\")>,\n",
       " <selenium.webdriver.remote.webelement.WebElement (session=\"db6ff2e690e055aaa2522e13c3e30026\", element=\"f07b6e99-2a9b-4b40-b78d-618c3e676634\")>,\n",
       " <selenium.webdriver.remote.webelement.WebElement (session=\"db6ff2e690e055aaa2522e13c3e30026\", element=\"5a1062a5-04c2-4352-93ad-59944e136de9\")>]"
      ]
     },
     "execution_count": 6,
     "metadata": {},
     "output_type": "execute_result"
    }
   ],
   "source": [
    "title_tags=driver.find_elements_by_xpath(\"//div[@class='item-inner clearfix']\")\n",
    "title_tags[0:10]"
   ]
  },
  {
   "cell_type": "code",
   "execution_count": 7,
   "metadata": {},
   "outputs": [
    {
     "data": {
      "text/plain": [
       "['Maruti Baleno sales cross one lakh units\\nEBM News English Oct 5, 2016\\nIndia’s largest carmaker Maruti Suzuki today announced that its hugely popular hatchback Baleno has crossed sales of one lakh…',\n",
       " 'Honda Brio facelift launched at Rs 4.69 lakh\\nEBM News English Oct 5, 2016\\nHonda has launched the facelifted Brio hatchback in India at a starting price of Rs 4.69 lakh (ex-showroom, Delhi). The new…',\n",
       " 'Tata Hexa expected price, specifications and equipment\\nEBM News English Oct 5, 2016\\nTata’s second major bid at the premium car space will come in the form of the long-overdue Hexa crossover – the first was the…',\n",
       " \"Maria Sharapova may sue after drug ban reduced to 15 months\\nEBM News English Oct 5, 2016\\nMaria Sharapova's legal team are investigating the possibility of  suing the International Tennis Federation, The Daily Telegraph…\",\n",
       " 'Tailblazers: Runs from lower order keep India going\\nEBM News English Oct 5, 2016\\nKOLKATA: Decimating New Zealand has seen India become the numero-uno side in Test cricket. Many factors have contributed to this…',\n",
       " 'Petrol price hiked by Rs. 0.14 /litre, diesel by Rs. 0.10 /litre\\nEBM News English Oct 5, 2016\\nNEW DELHI: The government on Wednesday hiked the price of petrol by Rs. 0.14 per litre (inclusive of state levies) and that of…',\n",
       " 'Markets in the positive region on Wednesday morning\\nEBM News English Oct 5, 2016\\nMUMBAI:  The 30-scrip Sensitive Index (Sensex) on Wednesday opened on a positive note during the morning session of the trade. The…',\n",
       " 'Replace street lights with LED bulbs: KTR to GHMC\\nEBM News English Oct 5, 2016\\nHYDERABAD: Municipal Administration minister K T Rama Rao directed officials to make arrangements to replace 4.5 lakh street…',\n",
       " 'Lack of proper rehabilitation leaves bonded workers vulnerable\\nEBM News English Oct 5, 2016\\nCHENNAI: In the absence of comprehensive rehabilitation, bonded labourers rescued from exploitative work places still remain…',\n",
       " 'Rupee tumbles 16 paise, stronger equities contain fall\\nEBM News English Oct 5, 2016\\nMumbai,  Reversing its three-day climb, the rupee fell 16 paise to 66.62 against the US dollar at the Interbank Foreign Exchange…']"
      ]
     },
     "execution_count": 7,
     "metadata": {},
     "output_type": "execute_result"
    }
   ],
   "source": [
    "for i in title_tags:\n",
    "    \n",
    "    title=i.text\n",
    "    news_titles.append(title)\n",
    "news_titles[0:10]"
   ]
  },
  {
   "cell_type": "code",
   "execution_count": 8,
   "metadata": {},
   "outputs": [
    {
     "data": {
      "text/plain": [
       "[<selenium.webdriver.remote.webelement.WebElement (session=\"db6ff2e690e055aaa2522e13c3e30026\", element=\"e16782b1-2c99-4319-b254-f5a70499c8b9\")>,\n",
       " <selenium.webdriver.remote.webelement.WebElement (session=\"db6ff2e690e055aaa2522e13c3e30026\", element=\"1fdcc99a-3ad4-482e-a9a5-9f374e3bf2da\")>,\n",
       " <selenium.webdriver.remote.webelement.WebElement (session=\"db6ff2e690e055aaa2522e13c3e30026\", element=\"1a325872-62c7-4605-b862-0ece01112896\")>,\n",
       " <selenium.webdriver.remote.webelement.WebElement (session=\"db6ff2e690e055aaa2522e13c3e30026\", element=\"01ac2990-a77b-4f7b-ae37-e439e0963fc2\")>,\n",
       " <selenium.webdriver.remote.webelement.WebElement (session=\"db6ff2e690e055aaa2522e13c3e30026\", element=\"ec428ba1-5da5-4f4e-92be-d63710d4cc7b\")>,\n",
       " <selenium.webdriver.remote.webelement.WebElement (session=\"db6ff2e690e055aaa2522e13c3e30026\", element=\"8b0b8815-c0af-4bf4-9a4b-a334a64d88fc\")>,\n",
       " <selenium.webdriver.remote.webelement.WebElement (session=\"db6ff2e690e055aaa2522e13c3e30026\", element=\"4f8fbe82-53c0-49c1-aa7d-be1ba97e4099\")>,\n",
       " <selenium.webdriver.remote.webelement.WebElement (session=\"db6ff2e690e055aaa2522e13c3e30026\", element=\"88fdd23e-ea19-46f1-a745-bd052e18ce2c\")>,\n",
       " <selenium.webdriver.remote.webelement.WebElement (session=\"db6ff2e690e055aaa2522e13c3e30026\", element=\"31103173-ae96-43a7-a727-dbcf5485d429\")>,\n",
       " <selenium.webdriver.remote.webelement.WebElement (session=\"db6ff2e690e055aaa2522e13c3e30026\", element=\"4c2bf5d6-b33b-4e3d-9ec9-5e036c2142e3\")>]"
      ]
     },
     "execution_count": 8,
     "metadata": {},
     "output_type": "execute_result"
    }
   ],
   "source": [
    "date_tags=driver.find_elements_by_xpath(\"//span[@class='time']\")\n",
    "date_tags[0:10]"
   ]
  },
  {
   "cell_type": "code",
   "execution_count": 9,
   "metadata": {},
   "outputs": [
    {
     "data": {
      "text/plain": [
       "['Oct 5, 2016',\n",
       " 'Oct 5, 2016',\n",
       " 'Oct 5, 2016',\n",
       " 'Oct 5, 2016',\n",
       " 'Oct 5, 2016',\n",
       " 'Oct 5, 2016',\n",
       " 'Oct 5, 2016',\n",
       " 'Oct 5, 2016',\n",
       " 'Oct 5, 2016',\n",
       " 'Oct 5, 2016']"
      ]
     },
     "execution_count": 9,
     "metadata": {},
     "output_type": "execute_result"
    }
   ],
   "source": [
    "for i in date_tags:\n",
    "    \n",
    "    title=i.text\n",
    "    date.append(title)\n",
    "date[0:10]"
   ]
  },
  {
   "cell_type": "code",
   "execution_count": 10,
   "metadata": {},
   "outputs": [
    {
     "data": {
      "text/plain": [
       "[<selenium.webdriver.remote.webelement.WebElement (session=\"db6ff2e690e055aaa2522e13c3e30026\", element=\"b6a478d7-5a1a-4047-bb5e-fc43d5f78f7d\")>,\n",
       " <selenium.webdriver.remote.webelement.WebElement (session=\"db6ff2e690e055aaa2522e13c3e30026\", element=\"d07dc0f2-63ab-4d11-a282-123618d3d1ac\")>,\n",
       " <selenium.webdriver.remote.webelement.WebElement (session=\"db6ff2e690e055aaa2522e13c3e30026\", element=\"8219ce5d-5974-4764-9579-85cb9a1fbc7a\")>,\n",
       " <selenium.webdriver.remote.webelement.WebElement (session=\"db6ff2e690e055aaa2522e13c3e30026\", element=\"754a0d09-c2f4-4dac-9dcc-827b15b5b1c5\")>,\n",
       " <selenium.webdriver.remote.webelement.WebElement (session=\"db6ff2e690e055aaa2522e13c3e30026\", element=\"19b1d032-3a70-4447-9464-779af00ca0e4\")>,\n",
       " <selenium.webdriver.remote.webelement.WebElement (session=\"db6ff2e690e055aaa2522e13c3e30026\", element=\"12977944-02a9-45a5-a987-c0b1610ab321\")>,\n",
       " <selenium.webdriver.remote.webelement.WebElement (session=\"db6ff2e690e055aaa2522e13c3e30026\", element=\"4fa20c8e-e15f-4309-93c2-7d9e086da8b7\")>,\n",
       " <selenium.webdriver.remote.webelement.WebElement (session=\"db6ff2e690e055aaa2522e13c3e30026\", element=\"2ba60f50-bf9c-47ec-9283-7c33f8ac67eb\")>,\n",
       " <selenium.webdriver.remote.webelement.WebElement (session=\"db6ff2e690e055aaa2522e13c3e30026\", element=\"8f61a36b-c711-40b2-8df5-9c70ec9fcea3\")>,\n",
       " <selenium.webdriver.remote.webelement.WebElement (session=\"db6ff2e690e055aaa2522e13c3e30026\", element=\"8033f800-1e4a-4c43-8e10-d8e55810171a\")>]"
      ]
     },
     "execution_count": 10,
     "metadata": {},
     "output_type": "execute_result"
    }
   ],
   "source": [
    "desc_tags=driver.find_elements_by_xpath(\"//div[@class='post-summary']\")\n",
    "desc_tags[0:10]"
   ]
  },
  {
   "cell_type": "code",
   "execution_count": 11,
   "metadata": {},
   "outputs": [
    {
     "data": {
      "text/plain": [
       "['India’s largest carmaker Maruti Suzuki today announced that its hugely popular hatchback Baleno has crossed sales of one lakh…',\n",
       " 'Honda has launched the facelifted Brio hatchback in India at a starting price of Rs 4.69 lakh (ex-showroom, Delhi). The new…',\n",
       " 'Tata’s second major bid at the premium car space will come in the form of the long-overdue Hexa crossover – the first was the…',\n",
       " \"Maria Sharapova's legal team are investigating the possibility of  suing the International Tennis Federation, The Daily Telegraph…\",\n",
       " 'KOLKATA: Decimating New Zealand has seen India become the numero-uno side in Test cricket. Many factors have contributed to this…',\n",
       " 'NEW DELHI: The government on Wednesday hiked the price of petrol by Rs. 0.14 per litre (inclusive of state levies) and that of…',\n",
       " 'MUMBAI:  The 30-scrip Sensitive Index (Sensex) on Wednesday opened on a positive note during the morning session of the trade. The…',\n",
       " 'HYDERABAD: Municipal Administration minister K T Rama Rao directed officials to make arrangements to replace 4.5 lakh street…',\n",
       " 'CHENNAI: In the absence of comprehensive rehabilitation, bonded labourers rescued from exploitative work places still remain…',\n",
       " 'Mumbai,  Reversing its three-day climb, the rupee fell 16 paise to 66.62 against the US dollar at the Interbank Foreign Exchange…']"
      ]
     },
     "execution_count": 11,
     "metadata": {},
     "output_type": "execute_result"
    }
   ],
   "source": [
    "for i in desc_tags:\n",
    "    \n",
    "    title=i.text\n",
    "    description.append(title)\n",
    "description[0:10]"
   ]
  },
  {
   "cell_type": "code",
   "execution_count": 12,
   "metadata": {},
   "outputs": [
    {
     "name": "stdout",
     "output_type": "stream",
     "text": [
      "10 10 10\n"
     ]
    }
   ],
   "source": [
    "print(len(news_titles),len(date),len(description))"
   ]
  },
  {
   "cell_type": "code",
   "execution_count": 13,
   "metadata": {},
   "outputs": [],
   "source": [
    "import pandas as pd\n",
    "news=pd.DataFrame({})\n",
    "news['title']=news_titles[0:10]\n",
    "news['date']=date[0:10]\n",
    "news['desc']=description[0:10]"
   ]
  },
  {
   "cell_type": "code",
   "execution_count": 14,
   "metadata": {},
   "outputs": [
    {
     "data": {
      "text/html": [
       "<div>\n",
       "<style scoped>\n",
       "    .dataframe tbody tr th:only-of-type {\n",
       "        vertical-align: middle;\n",
       "    }\n",
       "\n",
       "    .dataframe tbody tr th {\n",
       "        vertical-align: top;\n",
       "    }\n",
       "\n",
       "    .dataframe thead th {\n",
       "        text-align: right;\n",
       "    }\n",
       "</style>\n",
       "<table border=\"1\" class=\"dataframe\">\n",
       "  <thead>\n",
       "    <tr style=\"text-align: right;\">\n",
       "      <th></th>\n",
       "      <th>title</th>\n",
       "      <th>date</th>\n",
       "      <th>desc</th>\n",
       "    </tr>\n",
       "  </thead>\n",
       "  <tbody>\n",
       "    <tr>\n",
       "      <th>0</th>\n",
       "      <td>Maruti Baleno sales cross one lakh units\\nEBM ...</td>\n",
       "      <td>Oct 5, 2016</td>\n",
       "      <td>India’s largest carmaker Maruti Suzuki today a...</td>\n",
       "    </tr>\n",
       "    <tr>\n",
       "      <th>1</th>\n",
       "      <td>Honda Brio facelift launched at Rs 4.69 lakh\\n...</td>\n",
       "      <td>Oct 5, 2016</td>\n",
       "      <td>Honda has launched the facelifted Brio hatchba...</td>\n",
       "    </tr>\n",
       "    <tr>\n",
       "      <th>2</th>\n",
       "      <td>Tata Hexa expected price, specifications and e...</td>\n",
       "      <td>Oct 5, 2016</td>\n",
       "      <td>Tata’s second major bid at the premium car spa...</td>\n",
       "    </tr>\n",
       "    <tr>\n",
       "      <th>3</th>\n",
       "      <td>Maria Sharapova may sue after drug ban reduced...</td>\n",
       "      <td>Oct 5, 2016</td>\n",
       "      <td>Maria Sharapova's legal team are investigating...</td>\n",
       "    </tr>\n",
       "    <tr>\n",
       "      <th>4</th>\n",
       "      <td>Tailblazers: Runs from lower order keep India ...</td>\n",
       "      <td>Oct 5, 2016</td>\n",
       "      <td>KOLKATA: Decimating New Zealand has seen India...</td>\n",
       "    </tr>\n",
       "    <tr>\n",
       "      <th>5</th>\n",
       "      <td>Petrol price hiked by Rs. 0.14 /litre, diesel ...</td>\n",
       "      <td>Oct 5, 2016</td>\n",
       "      <td>NEW DELHI: The government on Wednesday hiked t...</td>\n",
       "    </tr>\n",
       "    <tr>\n",
       "      <th>6</th>\n",
       "      <td>Markets in the positive region on Wednesday mo...</td>\n",
       "      <td>Oct 5, 2016</td>\n",
       "      <td>MUMBAI:  The 30-scrip Sensitive Index (Sensex)...</td>\n",
       "    </tr>\n",
       "    <tr>\n",
       "      <th>7</th>\n",
       "      <td>Replace street lights with LED bulbs: KTR to G...</td>\n",
       "      <td>Oct 5, 2016</td>\n",
       "      <td>HYDERABAD: Municipal Administration minister K...</td>\n",
       "    </tr>\n",
       "    <tr>\n",
       "      <th>8</th>\n",
       "      <td>Lack of proper rehabilitation leaves bonded wo...</td>\n",
       "      <td>Oct 5, 2016</td>\n",
       "      <td>CHENNAI: In the absence of comprehensive rehab...</td>\n",
       "    </tr>\n",
       "    <tr>\n",
       "      <th>9</th>\n",
       "      <td>Rupee tumbles 16 paise, stronger equities cont...</td>\n",
       "      <td>Oct 5, 2016</td>\n",
       "      <td>Mumbai,  Reversing its three-day climb, the ru...</td>\n",
       "    </tr>\n",
       "  </tbody>\n",
       "</table>\n",
       "</div>"
      ],
      "text/plain": [
       "                                               title         date  \\\n",
       "0  Maruti Baleno sales cross one lakh units\\nEBM ...  Oct 5, 2016   \n",
       "1  Honda Brio facelift launched at Rs 4.69 lakh\\n...  Oct 5, 2016   \n",
       "2  Tata Hexa expected price, specifications and e...  Oct 5, 2016   \n",
       "3  Maria Sharapova may sue after drug ban reduced...  Oct 5, 2016   \n",
       "4  Tailblazers: Runs from lower order keep India ...  Oct 5, 2016   \n",
       "5  Petrol price hiked by Rs. 0.14 /litre, diesel ...  Oct 5, 2016   \n",
       "6  Markets in the positive region on Wednesday mo...  Oct 5, 2016   \n",
       "7  Replace street lights with LED bulbs: KTR to G...  Oct 5, 2016   \n",
       "8  Lack of proper rehabilitation leaves bonded wo...  Oct 5, 2016   \n",
       "9  Rupee tumbles 16 paise, stronger equities cont...  Oct 5, 2016   \n",
       "\n",
       "                                                desc  \n",
       "0  India’s largest carmaker Maruti Suzuki today a...  \n",
       "1  Honda has launched the facelifted Brio hatchba...  \n",
       "2  Tata’s second major bid at the premium car spa...  \n",
       "3  Maria Sharapova's legal team are investigating...  \n",
       "4  KOLKATA: Decimating New Zealand has seen India...  \n",
       "5  NEW DELHI: The government on Wednesday hiked t...  \n",
       "6  MUMBAI:  The 30-scrip Sensitive Index (Sensex)...  \n",
       "7  HYDERABAD: Municipal Administration minister K...  \n",
       "8  CHENNAI: In the absence of comprehensive rehab...  \n",
       "9  Mumbai,  Reversing its three-day climb, the ru...  "
      ]
     },
     "execution_count": 14,
     "metadata": {},
     "output_type": "execute_result"
    }
   ],
   "source": [
    "news"
   ]
  },
  {
   "cell_type": "code",
   "execution_count": null,
   "metadata": {},
   "outputs": [],
   "source": []
  }
 ],
 "metadata": {
  "kernelspec": {
   "display_name": "Python 3",
   "language": "python",
   "name": "python3"
  },
  "language_info": {
   "codemirror_mode": {
    "name": "ipython",
    "version": 3
   },
   "file_extension": ".py",
   "mimetype": "text/x-python",
   "name": "python",
   "nbconvert_exporter": "python",
   "pygments_lexer": "ipython3",
   "version": "3.7.6"
  }
 },
 "nbformat": 4,
 "nbformat_minor": 4
}
