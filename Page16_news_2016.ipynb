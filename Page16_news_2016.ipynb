{
 "cells": [
  {
   "cell_type": "code",
   "execution_count": 1,
   "metadata": {},
   "outputs": [],
   "source": [
    "import selenium\n",
    "import pandas as pd\n",
    "from selenium import webdriver"
   ]
  },
  {
   "cell_type": "code",
   "execution_count": 2,
   "metadata": {},
   "outputs": [],
   "source": [
    "driver=webdriver.Chrome(\"C:\\chromedriver.exe\")"
   ]
  },
  {
   "cell_type": "code",
   "execution_count": 3,
   "metadata": {},
   "outputs": [],
   "source": [
    "driver.get('https://www.ebmnews.com/2016/page/16/')"
   ]
  },
  {
   "cell_type": "code",
   "execution_count": 4,
   "metadata": {},
   "outputs": [],
   "source": [
    "news_titles=[]\n",
    "date=[]\n",
    "description=[]"
   ]
  },
  {
   "cell_type": "code",
   "execution_count": 5,
   "metadata": {},
   "outputs": [
    {
     "data": {
      "text/plain": [
       "[<selenium.webdriver.remote.webelement.WebElement (session=\"f7a903b8d66517a6d6272ca924dee478\", element=\"c7912414-c02d-4fe2-b76b-dd2b9404a316\")>,\n",
       " <selenium.webdriver.remote.webelement.WebElement (session=\"f7a903b8d66517a6d6272ca924dee478\", element=\"9c68bbf3-f4f3-4e4e-a2a9-b05a62f79eae\")>,\n",
       " <selenium.webdriver.remote.webelement.WebElement (session=\"f7a903b8d66517a6d6272ca924dee478\", element=\"6d75e9b4-93c7-46a6-b29a-cfa4c8ddd41a\")>,\n",
       " <selenium.webdriver.remote.webelement.WebElement (session=\"f7a903b8d66517a6d6272ca924dee478\", element=\"d4598837-b95a-4e8f-aa52-a10dc86ace37\")>,\n",
       " <selenium.webdriver.remote.webelement.WebElement (session=\"f7a903b8d66517a6d6272ca924dee478\", element=\"cb73aba2-3fae-445a-92e7-818f09f752a8\")>,\n",
       " <selenium.webdriver.remote.webelement.WebElement (session=\"f7a903b8d66517a6d6272ca924dee478\", element=\"861fab9e-3e43-4b05-93b3-1bf98880707e\")>,\n",
       " <selenium.webdriver.remote.webelement.WebElement (session=\"f7a903b8d66517a6d6272ca924dee478\", element=\"ed470338-5b95-4863-801c-2ea9589a703d\")>,\n",
       " <selenium.webdriver.remote.webelement.WebElement (session=\"f7a903b8d66517a6d6272ca924dee478\", element=\"515a775c-4a0f-4f7b-a381-093abc12b0a2\")>,\n",
       " <selenium.webdriver.remote.webelement.WebElement (session=\"f7a903b8d66517a6d6272ca924dee478\", element=\"56e153d7-e1f7-449d-b730-d6dbff59afc7\")>,\n",
       " <selenium.webdriver.remote.webelement.WebElement (session=\"f7a903b8d66517a6d6272ca924dee478\", element=\"6ba57995-5a4e-44c0-a4ef-82966ab2edd5\")>]"
      ]
     },
     "execution_count": 5,
     "metadata": {},
     "output_type": "execute_result"
    }
   ],
   "source": [
    "title_tags=driver.find_elements_by_xpath(\"//div[@class='item-inner clearfix']\")\n",
    "title_tags[0:10]"
   ]
  },
  {
   "cell_type": "code",
   "execution_count": 6,
   "metadata": {},
   "outputs": [
    {
     "data": {
      "text/plain": [
       "['No admission to foreign students in medical colleges\\nEBM News English Oct 11, 2016\\nNational Eligibility-cum-Entrance Test (NEET) procedure came crushing down on foreign students who had come to India to pursue…',\n",
       " 'Mercedes sales recover on diesel ban relief\\nEBM News English Oct 11, 2016\\nMercedes-Benz India today announced a revival in sales in July-September 2016, which can be attributed to the Supreme Court’s…',\n",
       " 'Big B turns 74\\nEBM News English Oct 11, 2016\\nMumbai,  Fourth National Award this year and commercial success and critical acclaim for \"Pink\", Amitabh Bachchan has reasons…',\n",
       " \"Man kills crime partner for affair with his wife\\nEBM News English Oct 11, 2016\\nNEW DELHI: A 33-year-old man was bludgeoned to death in Bhalswa Dairy by his 'business partner' for having an affair with his…\",\n",
       " 'BJP, Sena set to trade Dussehra fire\\nEBM News English Oct 11, 2016\\nMUMBAI: Temperatures between alliance partners BJP and Shiv Sena are likely to soar as Kirit Somaiya plans to set aflame the Ravan…',\n",
       " \"I am struggling with my rhythm initially: Ashwin\\nEBM News English Oct 11, 2016\\nINDORE: It has been a remarkable series against New Zealand for Ravichandran Ashwin with 20 wickets so far but India's off-spinner…\",\n",
       " 'Pogba fires France to 1-0 win against Dutch as Belgium, Portugal run riot\\nEBM News English Oct 11, 2016\\nAMSTERDAM: A searing first-half strike from Paul Pogba handed France a 1-0 win at rivals the Netherlands as Belgium and Portugal…',\n",
       " 'Warehousing space demand to grow 8% annually: Knight Frank\\nEBM News English Oct 11, 2016\\nNEW DELHI: Warehousing space demand in seven major cities in India is likely to grow 8 per cent annually to touch 839 million sq…',\n",
       " 'Small stocks steal the show; blue-chips lag behind in Dalal Street\\nEBM News English Oct 11, 2016\\nNEW DELHI: Dalal Street minnows small-cap and mid-cap stocks have logged healthy gains of up to 21 per cent this year so far,…',\n",
       " 'Ford EcoSport Signature Edition launched at Rs 10.39 lakh\\nEBM News English Oct 11, 2016\\nAs part of preparations for the upcoming festive season, Ford has introduced a Signature edition of its EcoSport at Rs 10.39 lakh…']"
      ]
     },
     "execution_count": 6,
     "metadata": {},
     "output_type": "execute_result"
    }
   ],
   "source": [
    "for i in title_tags:\n",
    "    \n",
    "    title=i.text\n",
    "    news_titles.append(title)\n",
    "news_titles[0:10]"
   ]
  },
  {
   "cell_type": "code",
   "execution_count": 7,
   "metadata": {},
   "outputs": [
    {
     "data": {
      "text/plain": [
       "[<selenium.webdriver.remote.webelement.WebElement (session=\"f7a903b8d66517a6d6272ca924dee478\", element=\"dca18913-ed87-48ad-ad8f-59e67f558095\")>,\n",
       " <selenium.webdriver.remote.webelement.WebElement (session=\"f7a903b8d66517a6d6272ca924dee478\", element=\"039cb3f9-3745-4f5e-9e61-61b1bd5c8e11\")>,\n",
       " <selenium.webdriver.remote.webelement.WebElement (session=\"f7a903b8d66517a6d6272ca924dee478\", element=\"ff6dca5a-a40a-43dc-8826-86e2916edd6a\")>,\n",
       " <selenium.webdriver.remote.webelement.WebElement (session=\"f7a903b8d66517a6d6272ca924dee478\", element=\"a2f45de8-6299-4b58-bc9f-113e2e0a4f11\")>,\n",
       " <selenium.webdriver.remote.webelement.WebElement (session=\"f7a903b8d66517a6d6272ca924dee478\", element=\"2b44c761-50b1-4892-8277-880a598b2d85\")>,\n",
       " <selenium.webdriver.remote.webelement.WebElement (session=\"f7a903b8d66517a6d6272ca924dee478\", element=\"6f525388-f38c-443f-9d1f-a8797b758b5f\")>,\n",
       " <selenium.webdriver.remote.webelement.WebElement (session=\"f7a903b8d66517a6d6272ca924dee478\", element=\"d4f00415-4519-4a46-aca2-fc623d4adeac\")>,\n",
       " <selenium.webdriver.remote.webelement.WebElement (session=\"f7a903b8d66517a6d6272ca924dee478\", element=\"3b75d462-1d62-47d7-95e6-3b75243bf31a\")>,\n",
       " <selenium.webdriver.remote.webelement.WebElement (session=\"f7a903b8d66517a6d6272ca924dee478\", element=\"4e3a1996-b3c1-4fb0-8ab4-24d0e18938e9\")>,\n",
       " <selenium.webdriver.remote.webelement.WebElement (session=\"f7a903b8d66517a6d6272ca924dee478\", element=\"9313af03-1d38-4262-81e3-2d2136052479\")>]"
      ]
     },
     "execution_count": 7,
     "metadata": {},
     "output_type": "execute_result"
    }
   ],
   "source": [
    "date_tags=driver.find_elements_by_xpath(\"//span[@class='time']\")\n",
    "date_tags[0:10]"
   ]
  },
  {
   "cell_type": "code",
   "execution_count": 8,
   "metadata": {},
   "outputs": [
    {
     "data": {
      "text/plain": [
       "['Oct 11, 2016',\n",
       " 'Oct 11, 2016',\n",
       " 'Oct 11, 2016',\n",
       " 'Oct 11, 2016',\n",
       " 'Oct 11, 2016',\n",
       " 'Oct 11, 2016',\n",
       " 'Oct 11, 2016',\n",
       " 'Oct 11, 2016',\n",
       " 'Oct 11, 2016',\n",
       " 'Oct 11, 2016']"
      ]
     },
     "execution_count": 8,
     "metadata": {},
     "output_type": "execute_result"
    }
   ],
   "source": [
    "for i in date_tags:\n",
    "    \n",
    "    title=i.text\n",
    "    date.append(title)\n",
    "date[0:10]"
   ]
  },
  {
   "cell_type": "code",
   "execution_count": 9,
   "metadata": {},
   "outputs": [
    {
     "data": {
      "text/plain": [
       "[<selenium.webdriver.remote.webelement.WebElement (session=\"f7a903b8d66517a6d6272ca924dee478\", element=\"805a3339-72f8-4867-bab0-205fbe0a838c\")>,\n",
       " <selenium.webdriver.remote.webelement.WebElement (session=\"f7a903b8d66517a6d6272ca924dee478\", element=\"daa92aae-25fe-4aa7-b98d-c14e18d254fa\")>,\n",
       " <selenium.webdriver.remote.webelement.WebElement (session=\"f7a903b8d66517a6d6272ca924dee478\", element=\"651e8be2-27d3-41e6-8a1b-2b085754c625\")>,\n",
       " <selenium.webdriver.remote.webelement.WebElement (session=\"f7a903b8d66517a6d6272ca924dee478\", element=\"976b1de5-9a94-4373-8a99-4d1389fb5693\")>,\n",
       " <selenium.webdriver.remote.webelement.WebElement (session=\"f7a903b8d66517a6d6272ca924dee478\", element=\"144866df-013a-4d5b-ac5c-aac4f8afc4f1\")>,\n",
       " <selenium.webdriver.remote.webelement.WebElement (session=\"f7a903b8d66517a6d6272ca924dee478\", element=\"030e28c3-7280-4d09-9ae3-6646e25d6e41\")>,\n",
       " <selenium.webdriver.remote.webelement.WebElement (session=\"f7a903b8d66517a6d6272ca924dee478\", element=\"5a52bff6-3c07-4d2b-a265-891bf840368a\")>,\n",
       " <selenium.webdriver.remote.webelement.WebElement (session=\"f7a903b8d66517a6d6272ca924dee478\", element=\"ff6e2ea4-531a-4e41-9f62-4a62b3eb21ea\")>,\n",
       " <selenium.webdriver.remote.webelement.WebElement (session=\"f7a903b8d66517a6d6272ca924dee478\", element=\"37d336a9-93b2-41a7-83fb-4243435455e2\")>,\n",
       " <selenium.webdriver.remote.webelement.WebElement (session=\"f7a903b8d66517a6d6272ca924dee478\", element=\"5479c7e0-4b02-4dba-b6f9-0d551ba23a30\")>]"
      ]
     },
     "execution_count": 9,
     "metadata": {},
     "output_type": "execute_result"
    }
   ],
   "source": [
    "desc_tags=driver.find_elements_by_xpath(\"//div[@class='post-summary']\")\n",
    "desc_tags[0:10]"
   ]
  },
  {
   "cell_type": "code",
   "execution_count": 10,
   "metadata": {},
   "outputs": [
    {
     "data": {
      "text/plain": [
       "['National Eligibility-cum-Entrance Test (NEET) procedure came crushing down on foreign students who had come to India to pursue…',\n",
       " 'Mercedes-Benz India today announced a revival in sales in July-September 2016, which can be attributed to the Supreme Court’s…',\n",
       " 'Mumbai,  Fourth National Award this year and commercial success and critical acclaim for \"Pink\", Amitabh Bachchan has reasons…',\n",
       " \"NEW DELHI: A 33-year-old man was bludgeoned to death in Bhalswa Dairy by his 'business partner' for having an affair with his…\",\n",
       " 'MUMBAI: Temperatures between alliance partners BJP and Shiv Sena are likely to soar as Kirit Somaiya plans to set aflame the Ravan…',\n",
       " \"INDORE: It has been a remarkable series against New Zealand for Ravichandran Ashwin with 20 wickets so far but India's off-spinner…\",\n",
       " 'AMSTERDAM: A searing first-half strike from Paul Pogba handed France a 1-0 win at rivals the Netherlands as Belgium and Portugal…',\n",
       " 'NEW DELHI: Warehousing space demand in seven major cities in India is likely to grow 8 per cent annually to touch 839 million sq…',\n",
       " 'NEW DELHI: Dalal Street minnows small-cap and mid-cap stocks have logged healthy gains of up to 21 per cent this year so far,…',\n",
       " 'As part of preparations for the upcoming festive season, Ford has introduced a Signature edition of its EcoSport at Rs 10.39 lakh…']"
      ]
     },
     "execution_count": 10,
     "metadata": {},
     "output_type": "execute_result"
    }
   ],
   "source": [
    "for i in desc_tags:\n",
    "    \n",
    "    title=i.text\n",
    "    description.append(title)\n",
    "description[0:10]"
   ]
  },
  {
   "cell_type": "code",
   "execution_count": 11,
   "metadata": {},
   "outputs": [
    {
     "name": "stdout",
     "output_type": "stream",
     "text": [
      "10 10 10\n"
     ]
    }
   ],
   "source": [
    "print(len(news_titles),len(date),len(description))"
   ]
  },
  {
   "cell_type": "code",
   "execution_count": 12,
   "metadata": {},
   "outputs": [],
   "source": [
    "import pandas as pd\n",
    "news=pd.DataFrame({})\n",
    "news['title']=news_titles[0:10]\n",
    "news['date']=date[0:10]\n",
    "news['desc']=description[0:10]"
   ]
  },
  {
   "cell_type": "code",
   "execution_count": 13,
   "metadata": {},
   "outputs": [
    {
     "data": {
      "text/html": [
       "<div>\n",
       "<style scoped>\n",
       "    .dataframe tbody tr th:only-of-type {\n",
       "        vertical-align: middle;\n",
       "    }\n",
       "\n",
       "    .dataframe tbody tr th {\n",
       "        vertical-align: top;\n",
       "    }\n",
       "\n",
       "    .dataframe thead th {\n",
       "        text-align: right;\n",
       "    }\n",
       "</style>\n",
       "<table border=\"1\" class=\"dataframe\">\n",
       "  <thead>\n",
       "    <tr style=\"text-align: right;\">\n",
       "      <th></th>\n",
       "      <th>title</th>\n",
       "      <th>date</th>\n",
       "      <th>desc</th>\n",
       "    </tr>\n",
       "  </thead>\n",
       "  <tbody>\n",
       "    <tr>\n",
       "      <th>0</th>\n",
       "      <td>No admission to foreign students in medical co...</td>\n",
       "      <td>Oct 11, 2016</td>\n",
       "      <td>National Eligibility-cum-Entrance Test (NEET) ...</td>\n",
       "    </tr>\n",
       "    <tr>\n",
       "      <th>1</th>\n",
       "      <td>Mercedes sales recover on diesel ban relief\\nE...</td>\n",
       "      <td>Oct 11, 2016</td>\n",
       "      <td>Mercedes-Benz India today announced a revival ...</td>\n",
       "    </tr>\n",
       "    <tr>\n",
       "      <th>2</th>\n",
       "      <td>Big B turns 74\\nEBM News English Oct 11, 2016\\...</td>\n",
       "      <td>Oct 11, 2016</td>\n",
       "      <td>Mumbai,  Fourth National Award this year and c...</td>\n",
       "    </tr>\n",
       "    <tr>\n",
       "      <th>3</th>\n",
       "      <td>Man kills crime partner for affair with his wi...</td>\n",
       "      <td>Oct 11, 2016</td>\n",
       "      <td>NEW DELHI: A 33-year-old man was bludgeoned to...</td>\n",
       "    </tr>\n",
       "    <tr>\n",
       "      <th>4</th>\n",
       "      <td>BJP, Sena set to trade Dussehra fire\\nEBM News...</td>\n",
       "      <td>Oct 11, 2016</td>\n",
       "      <td>MUMBAI: Temperatures between alliance partners...</td>\n",
       "    </tr>\n",
       "    <tr>\n",
       "      <th>5</th>\n",
       "      <td>I am struggling with my rhythm initially: Ashw...</td>\n",
       "      <td>Oct 11, 2016</td>\n",
       "      <td>INDORE: It has been a remarkable series agains...</td>\n",
       "    </tr>\n",
       "    <tr>\n",
       "      <th>6</th>\n",
       "      <td>Pogba fires France to 1-0 win against Dutch as...</td>\n",
       "      <td>Oct 11, 2016</td>\n",
       "      <td>AMSTERDAM: A searing first-half strike from Pa...</td>\n",
       "    </tr>\n",
       "    <tr>\n",
       "      <th>7</th>\n",
       "      <td>Warehousing space demand to grow 8% annually: ...</td>\n",
       "      <td>Oct 11, 2016</td>\n",
       "      <td>NEW DELHI: Warehousing space demand in seven m...</td>\n",
       "    </tr>\n",
       "    <tr>\n",
       "      <th>8</th>\n",
       "      <td>Small stocks steal the show; blue-chips lag be...</td>\n",
       "      <td>Oct 11, 2016</td>\n",
       "      <td>NEW DELHI: Dalal Street minnows small-cap and ...</td>\n",
       "    </tr>\n",
       "    <tr>\n",
       "      <th>9</th>\n",
       "      <td>Ford EcoSport Signature Edition launched at Rs...</td>\n",
       "      <td>Oct 11, 2016</td>\n",
       "      <td>As part of preparations for the upcoming festi...</td>\n",
       "    </tr>\n",
       "  </tbody>\n",
       "</table>\n",
       "</div>"
      ],
      "text/plain": [
       "                                               title          date  \\\n",
       "0  No admission to foreign students in medical co...  Oct 11, 2016   \n",
       "1  Mercedes sales recover on diesel ban relief\\nE...  Oct 11, 2016   \n",
       "2  Big B turns 74\\nEBM News English Oct 11, 2016\\...  Oct 11, 2016   \n",
       "3  Man kills crime partner for affair with his wi...  Oct 11, 2016   \n",
       "4  BJP, Sena set to trade Dussehra fire\\nEBM News...  Oct 11, 2016   \n",
       "5  I am struggling with my rhythm initially: Ashw...  Oct 11, 2016   \n",
       "6  Pogba fires France to 1-0 win against Dutch as...  Oct 11, 2016   \n",
       "7  Warehousing space demand to grow 8% annually: ...  Oct 11, 2016   \n",
       "8  Small stocks steal the show; blue-chips lag be...  Oct 11, 2016   \n",
       "9  Ford EcoSport Signature Edition launched at Rs...  Oct 11, 2016   \n",
       "\n",
       "                                                desc  \n",
       "0  National Eligibility-cum-Entrance Test (NEET) ...  \n",
       "1  Mercedes-Benz India today announced a revival ...  \n",
       "2  Mumbai,  Fourth National Award this year and c...  \n",
       "3  NEW DELHI: A 33-year-old man was bludgeoned to...  \n",
       "4  MUMBAI: Temperatures between alliance partners...  \n",
       "5  INDORE: It has been a remarkable series agains...  \n",
       "6  AMSTERDAM: A searing first-half strike from Pa...  \n",
       "7  NEW DELHI: Warehousing space demand in seven m...  \n",
       "8  NEW DELHI: Dalal Street minnows small-cap and ...  \n",
       "9  As part of preparations for the upcoming festi...  "
      ]
     },
     "execution_count": 13,
     "metadata": {},
     "output_type": "execute_result"
    }
   ],
   "source": [
    "news"
   ]
  },
  {
   "cell_type": "code",
   "execution_count": null,
   "metadata": {},
   "outputs": [],
   "source": []
  }
 ],
 "metadata": {
  "kernelspec": {
   "display_name": "Python 3",
   "language": "python",
   "name": "python3"
  },
  "language_info": {
   "codemirror_mode": {
    "name": "ipython",
    "version": 3
   },
   "file_extension": ".py",
   "mimetype": "text/x-python",
   "name": "python",
   "nbconvert_exporter": "python",
   "pygments_lexer": "ipython3",
   "version": "3.7.6"
  }
 },
 "nbformat": 4,
 "nbformat_minor": 4
}
