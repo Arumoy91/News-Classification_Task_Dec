{
 "cells": [
  {
   "cell_type": "code",
   "execution_count": 1,
   "metadata": {},
   "outputs": [],
   "source": [
    "import selenium"
   ]
  },
  {
   "cell_type": "code",
   "execution_count": 2,
   "metadata": {},
   "outputs": [],
   "source": [
    "import pandas as pd\n",
    "from selenium import webdriver"
   ]
  },
  {
   "cell_type": "code",
   "execution_count": 3,
   "metadata": {},
   "outputs": [],
   "source": [
    "driver=webdriver.Chrome(\"C:\\chromedriver.exe\")"
   ]
  },
  {
   "cell_type": "code",
   "execution_count": 4,
   "metadata": {},
   "outputs": [],
   "source": [
    "driver.get('https://www.ebmnews.com/2016/page/25/')"
   ]
  },
  {
   "cell_type": "code",
   "execution_count": 5,
   "metadata": {},
   "outputs": [],
   "source": [
    "news_titles=[]\n",
    "date=[]\n",
    "description=[]"
   ]
  },
  {
   "cell_type": "code",
   "execution_count": 6,
   "metadata": {},
   "outputs": [
    {
     "data": {
      "text/plain": [
       "[<selenium.webdriver.remote.webelement.WebElement (session=\"6797b309efe7f2c0e199effdf0fb869c\", element=\"1a6cd7f6-d2d5-403a-af93-9d95759bcac6\")>,\n",
       " <selenium.webdriver.remote.webelement.WebElement (session=\"6797b309efe7f2c0e199effdf0fb869c\", element=\"eccbce6e-9ba5-4234-bc28-9ad3e6d5bcc3\")>,\n",
       " <selenium.webdriver.remote.webelement.WebElement (session=\"6797b309efe7f2c0e199effdf0fb869c\", element=\"9d0780d6-f1d4-4ec3-89b6-0a4d9e499150\")>,\n",
       " <selenium.webdriver.remote.webelement.WebElement (session=\"6797b309efe7f2c0e199effdf0fb869c\", element=\"c7aa38eb-41b0-4666-90f2-3504d04b720c\")>,\n",
       " <selenium.webdriver.remote.webelement.WebElement (session=\"6797b309efe7f2c0e199effdf0fb869c\", element=\"85e2eb9b-fb7e-47a4-87e8-3adaf4bc0d14\")>,\n",
       " <selenium.webdriver.remote.webelement.WebElement (session=\"6797b309efe7f2c0e199effdf0fb869c\", element=\"5b60f039-fa8f-4ff8-90e4-7d85cd7d8678\")>,\n",
       " <selenium.webdriver.remote.webelement.WebElement (session=\"6797b309efe7f2c0e199effdf0fb869c\", element=\"b06e16e0-bb10-4565-8afd-7c86443b8f4f\")>,\n",
       " <selenium.webdriver.remote.webelement.WebElement (session=\"6797b309efe7f2c0e199effdf0fb869c\", element=\"9999f7cb-7d93-4ced-b0d4-f208e6cd08e2\")>,\n",
       " <selenium.webdriver.remote.webelement.WebElement (session=\"6797b309efe7f2c0e199effdf0fb869c\", element=\"62c761c0-60e7-4d1c-8f3d-c40137a89adf\")>,\n",
       " <selenium.webdriver.remote.webelement.WebElement (session=\"6797b309efe7f2c0e199effdf0fb869c\", element=\"fcefd412-6d55-491c-89b0-329e8c62ffb0\")>]"
      ]
     },
     "execution_count": 6,
     "metadata": {},
     "output_type": "execute_result"
    }
   ],
   "source": [
    "title_tags=driver.find_elements_by_xpath(\"//div[@class='item-inner clearfix']\")\n",
    "title_tags[0:10]"
   ]
  },
  {
   "cell_type": "code",
   "execution_count": 7,
   "metadata": {},
   "outputs": [
    {
     "data": {
      "text/plain": [
       "['ASI draws HC ire for failing to protect fort\\nEBM News English Oct 6, 2016\\nNEW DELHI: No other city has a long history as Delhi, the high court said on Wednesday, as it pulled up the Archaeological Survey…',\n",
       " 'Army foils 3 Pak-aided infiltration bids along LoC in J-K\\nEBM News English Oct 6, 2016\\nSRINAGAR: Army today foiled three infiltration bids assisted by Pakistani posts along the Line of Control (LoC) in Jammu and…',\n",
       " 'Pakistan barred from Kabaddi World Cup in India\\nEBM News English Oct 5, 2016\\nNEW DELHI: The 12-nation Kabaddi World Cup kicks off this week in India, with a row over a decision to bar arch-rivals Pakistan…',\n",
       " 'US rate hike talk:Gold slips below Rs 31,000, silver dives too\\nEBM News English Oct 5, 2016\\nNEW DELHI: Gold cracked as much as Rs 730 -- its biggest one-day fall this year -- to Rs 30,520 per 10 grams, in sync with a weak…',\n",
       " 'Priyanka Chopra unwinds with mom during vacation\\nEBM News English Oct 5, 2016\\nNEW DELHI: A recent picture of Priyanka Chopra suggests that the actress taking a break from her hectic professional schedule with…',\n",
       " 'Central excise officers’ body plans protest on GST\\nEBM News English Oct 5, 2016\\nNew Delhi,  An association representing nearly 15,000 central excise and customs officials today said it will launch a nation-wide…',\n",
       " \"Kajol reveals the secret behind her beautiful skin\\nEBM News English Oct 5, 2016\\nActress Kajol says she didn't take skincare seriously when she started out in showbiz, but realised its value over time. Kajol,…\",\n",
       " 'Sri Lanka to look for options if SAARC fails to deliver the goods, warns Lankan PM Ranil…\\nEBM News English Oct 5, 2016\\nColombo, October 5: Sri Lankan Prime Minister Ranil Wickremesinghe has warned that if the South Asian Association for Regional…',\n",
       " \"UN top court throws out Marshalls nuclear case against India\\nEBM News English Oct 5, 2016\\nThe Hague, ) The UN's highest court today threw out a bid by the tiny Marshall Islands to sue India for failing to halt the…\",\n",
       " 'Fit-again Lahiri eyes happy return to Indonesia\\nEBM News English Oct 5, 2016\\nJakarta, A fit-again Indian golfer Anirban Lahiri says that he would be spurred on by the memory of his victory two years ago when…']"
      ]
     },
     "execution_count": 7,
     "metadata": {},
     "output_type": "execute_result"
    }
   ],
   "source": [
    "for i in title_tags:\n",
    "    \n",
    "    title=i.text\n",
    "    news_titles.append(title)\n",
    "news_titles[0:10]"
   ]
  },
  {
   "cell_type": "code",
   "execution_count": 8,
   "metadata": {},
   "outputs": [
    {
     "data": {
      "text/plain": [
       "[<selenium.webdriver.remote.webelement.WebElement (session=\"6797b309efe7f2c0e199effdf0fb869c\", element=\"4bc60c79-25c9-4472-9e4d-d086f398b046\")>,\n",
       " <selenium.webdriver.remote.webelement.WebElement (session=\"6797b309efe7f2c0e199effdf0fb869c\", element=\"89960574-1478-4f5f-8619-0747dacfd583\")>,\n",
       " <selenium.webdriver.remote.webelement.WebElement (session=\"6797b309efe7f2c0e199effdf0fb869c\", element=\"549c2188-44a9-4d4b-b2ff-2233e1e7dcd5\")>,\n",
       " <selenium.webdriver.remote.webelement.WebElement (session=\"6797b309efe7f2c0e199effdf0fb869c\", element=\"fc11efed-c985-43f1-86f6-b9dfa697bf94\")>,\n",
       " <selenium.webdriver.remote.webelement.WebElement (session=\"6797b309efe7f2c0e199effdf0fb869c\", element=\"e991951a-87f1-4915-b1c4-c91fa0a5b9d0\")>,\n",
       " <selenium.webdriver.remote.webelement.WebElement (session=\"6797b309efe7f2c0e199effdf0fb869c\", element=\"0873e941-4c92-4a77-9188-177708424d1a\")>,\n",
       " <selenium.webdriver.remote.webelement.WebElement (session=\"6797b309efe7f2c0e199effdf0fb869c\", element=\"948f734d-fa8d-4af4-82de-0594dd450415\")>,\n",
       " <selenium.webdriver.remote.webelement.WebElement (session=\"6797b309efe7f2c0e199effdf0fb869c\", element=\"61ebbac7-99c9-4420-b2e0-f99fedc9a645\")>,\n",
       " <selenium.webdriver.remote.webelement.WebElement (session=\"6797b309efe7f2c0e199effdf0fb869c\", element=\"74961ace-b067-480e-bf25-c276bfced649\")>,\n",
       " <selenium.webdriver.remote.webelement.WebElement (session=\"6797b309efe7f2c0e199effdf0fb869c\", element=\"ef4ab415-2f7e-4109-b866-8fffdd7f8ecc\")>]"
      ]
     },
     "execution_count": 8,
     "metadata": {},
     "output_type": "execute_result"
    }
   ],
   "source": [
    "date_tags=driver.find_elements_by_xpath(\"//span[@class='time']\")\n",
    "date_tags[0:10]"
   ]
  },
  {
   "cell_type": "code",
   "execution_count": 9,
   "metadata": {},
   "outputs": [
    {
     "data": {
      "text/plain": [
       "['Oct 6, 2016',\n",
       " 'Oct 6, 2016',\n",
       " 'Oct 5, 2016',\n",
       " 'Oct 5, 2016',\n",
       " 'Oct 5, 2016',\n",
       " 'Oct 5, 2016',\n",
       " 'Oct 5, 2016',\n",
       " 'Oct 5, 2016',\n",
       " 'Oct 5, 2016',\n",
       " 'Oct 5, 2016']"
      ]
     },
     "execution_count": 9,
     "metadata": {},
     "output_type": "execute_result"
    }
   ],
   "source": [
    "for i in date_tags:\n",
    "    \n",
    "    title=i.text\n",
    "    date.append(title)\n",
    "date[0:10]"
   ]
  },
  {
   "cell_type": "code",
   "execution_count": 10,
   "metadata": {},
   "outputs": [
    {
     "data": {
      "text/plain": [
       "[<selenium.webdriver.remote.webelement.WebElement (session=\"6797b309efe7f2c0e199effdf0fb869c\", element=\"62319d1c-4c6a-494c-a3f0-02eb79b297e7\")>,\n",
       " <selenium.webdriver.remote.webelement.WebElement (session=\"6797b309efe7f2c0e199effdf0fb869c\", element=\"8d4b6a34-80e6-4f09-a6c8-f8b254a397e0\")>,\n",
       " <selenium.webdriver.remote.webelement.WebElement (session=\"6797b309efe7f2c0e199effdf0fb869c\", element=\"903c15a2-ac6e-41fc-bdf7-88b3d5da746a\")>,\n",
       " <selenium.webdriver.remote.webelement.WebElement (session=\"6797b309efe7f2c0e199effdf0fb869c\", element=\"c6a3ff03-4379-4cfe-85f4-da131e1f073d\")>,\n",
       " <selenium.webdriver.remote.webelement.WebElement (session=\"6797b309efe7f2c0e199effdf0fb869c\", element=\"0ffe16df-84bf-4191-b2da-9607d0cb14d1\")>,\n",
       " <selenium.webdriver.remote.webelement.WebElement (session=\"6797b309efe7f2c0e199effdf0fb869c\", element=\"07e55f5b-f6f4-4ccc-be5f-820341d7fd46\")>,\n",
       " <selenium.webdriver.remote.webelement.WebElement (session=\"6797b309efe7f2c0e199effdf0fb869c\", element=\"cd5bc6f8-cc68-4787-8856-a176afc9f25c\")>,\n",
       " <selenium.webdriver.remote.webelement.WebElement (session=\"6797b309efe7f2c0e199effdf0fb869c\", element=\"950e860e-51d4-465e-9f5c-7e18ccd9a831\")>,\n",
       " <selenium.webdriver.remote.webelement.WebElement (session=\"6797b309efe7f2c0e199effdf0fb869c\", element=\"729ae866-ba8a-4a92-86de-d692319aa97b\")>,\n",
       " <selenium.webdriver.remote.webelement.WebElement (session=\"6797b309efe7f2c0e199effdf0fb869c\", element=\"ea87f819-5c99-4221-8acb-da8c6ce7f38a\")>]"
      ]
     },
     "execution_count": 10,
     "metadata": {},
     "output_type": "execute_result"
    }
   ],
   "source": [
    "desc_tags=driver.find_elements_by_xpath(\"//div[@class='post-summary']\")\n",
    "desc_tags[0:10]"
   ]
  },
  {
   "cell_type": "code",
   "execution_count": 11,
   "metadata": {},
   "outputs": [
    {
     "data": {
      "text/plain": [
       "['NEW DELHI: No other city has a long history as Delhi, the high court said on Wednesday, as it pulled up the Archaeological Survey…',\n",
       " 'SRINAGAR: Army today foiled three infiltration bids assisted by Pakistani posts along the Line of Control (LoC) in Jammu and…',\n",
       " 'NEW DELHI: The 12-nation Kabaddi World Cup kicks off this week in India, with a row over a decision to bar arch-rivals Pakistan…',\n",
       " 'NEW DELHI: Gold cracked as much as Rs 730 -- its biggest one-day fall this year -- to Rs 30,520 per 10 grams, in sync with a weak…',\n",
       " 'NEW DELHI: A recent picture of Priyanka Chopra suggests that the actress taking a break from her hectic professional schedule with…',\n",
       " 'New Delhi,  An association representing nearly 15,000 central excise and customs officials today said it will launch a nation-wide…',\n",
       " \"Actress Kajol says she didn't take skincare seriously when she started out in showbiz, but realised its value over time. Kajol,…\",\n",
       " 'Colombo, October 5: Sri Lankan Prime Minister Ranil Wickremesinghe has warned that if the South Asian Association for Regional…',\n",
       " \"The Hague, ) The UN's highest court today threw out a bid by the tiny Marshall Islands to sue India for failing to halt the…\",\n",
       " 'Jakarta, A fit-again Indian golfer Anirban Lahiri says that he would be spurred on by the memory of his victory two years ago when…']"
      ]
     },
     "execution_count": 11,
     "metadata": {},
     "output_type": "execute_result"
    }
   ],
   "source": [
    "for i in desc_tags:\n",
    "    \n",
    "    title=i.text\n",
    "    description.append(title)\n",
    "description[0:10]"
   ]
  },
  {
   "cell_type": "code",
   "execution_count": 12,
   "metadata": {},
   "outputs": [
    {
     "name": "stdout",
     "output_type": "stream",
     "text": [
      "10 10 10\n"
     ]
    }
   ],
   "source": [
    "print(len(news_titles),len(date),len(description))"
   ]
  },
  {
   "cell_type": "code",
   "execution_count": 13,
   "metadata": {},
   "outputs": [],
   "source": [
    "import pandas as pd\n",
    "news=pd.DataFrame({})\n",
    "news['title']=news_titles[0:10]\n",
    "news['date']=date[0:10]\n",
    "news['desc']=description[0:10]"
   ]
  },
  {
   "cell_type": "code",
   "execution_count": 14,
   "metadata": {},
   "outputs": [
    {
     "data": {
      "text/html": [
       "<div>\n",
       "<style scoped>\n",
       "    .dataframe tbody tr th:only-of-type {\n",
       "        vertical-align: middle;\n",
       "    }\n",
       "\n",
       "    .dataframe tbody tr th {\n",
       "        vertical-align: top;\n",
       "    }\n",
       "\n",
       "    .dataframe thead th {\n",
       "        text-align: right;\n",
       "    }\n",
       "</style>\n",
       "<table border=\"1\" class=\"dataframe\">\n",
       "  <thead>\n",
       "    <tr style=\"text-align: right;\">\n",
       "      <th></th>\n",
       "      <th>title</th>\n",
       "      <th>date</th>\n",
       "      <th>desc</th>\n",
       "    </tr>\n",
       "  </thead>\n",
       "  <tbody>\n",
       "    <tr>\n",
       "      <th>0</th>\n",
       "      <td>ASI draws HC ire for failing to protect fort\\n...</td>\n",
       "      <td>Oct 6, 2016</td>\n",
       "      <td>NEW DELHI: No other city has a long history as...</td>\n",
       "    </tr>\n",
       "    <tr>\n",
       "      <th>1</th>\n",
       "      <td>Army foils 3 Pak-aided infiltration bids along...</td>\n",
       "      <td>Oct 6, 2016</td>\n",
       "      <td>SRINAGAR: Army today foiled three infiltration...</td>\n",
       "    </tr>\n",
       "    <tr>\n",
       "      <th>2</th>\n",
       "      <td>Pakistan barred from Kabaddi World Cup in Indi...</td>\n",
       "      <td>Oct 5, 2016</td>\n",
       "      <td>NEW DELHI: The 12-nation Kabaddi World Cup kic...</td>\n",
       "    </tr>\n",
       "    <tr>\n",
       "      <th>3</th>\n",
       "      <td>US rate hike talk:Gold slips below Rs 31,000, ...</td>\n",
       "      <td>Oct 5, 2016</td>\n",
       "      <td>NEW DELHI: Gold cracked as much as Rs 730 -- i...</td>\n",
       "    </tr>\n",
       "    <tr>\n",
       "      <th>4</th>\n",
       "      <td>Priyanka Chopra unwinds with mom during vacati...</td>\n",
       "      <td>Oct 5, 2016</td>\n",
       "      <td>NEW DELHI: A recent picture of Priyanka Chopra...</td>\n",
       "    </tr>\n",
       "    <tr>\n",
       "      <th>5</th>\n",
       "      <td>Central excise officers’ body plans protest on...</td>\n",
       "      <td>Oct 5, 2016</td>\n",
       "      <td>New Delhi,  An association representing nearly...</td>\n",
       "    </tr>\n",
       "    <tr>\n",
       "      <th>6</th>\n",
       "      <td>Kajol reveals the secret behind her beautiful ...</td>\n",
       "      <td>Oct 5, 2016</td>\n",
       "      <td>Actress Kajol says she didn't take skincare se...</td>\n",
       "    </tr>\n",
       "    <tr>\n",
       "      <th>7</th>\n",
       "      <td>Sri Lanka to look for options if SAARC fails t...</td>\n",
       "      <td>Oct 5, 2016</td>\n",
       "      <td>Colombo, October 5: Sri Lankan Prime Minister ...</td>\n",
       "    </tr>\n",
       "    <tr>\n",
       "      <th>8</th>\n",
       "      <td>UN top court throws out Marshalls nuclear case...</td>\n",
       "      <td>Oct 5, 2016</td>\n",
       "      <td>The Hague, ) The UN's highest court today thre...</td>\n",
       "    </tr>\n",
       "    <tr>\n",
       "      <th>9</th>\n",
       "      <td>Fit-again Lahiri eyes happy return to Indonesi...</td>\n",
       "      <td>Oct 5, 2016</td>\n",
       "      <td>Jakarta, A fit-again Indian golfer Anirban Lah...</td>\n",
       "    </tr>\n",
       "  </tbody>\n",
       "</table>\n",
       "</div>"
      ],
      "text/plain": [
       "                                               title         date  \\\n",
       "0  ASI draws HC ire for failing to protect fort\\n...  Oct 6, 2016   \n",
       "1  Army foils 3 Pak-aided infiltration bids along...  Oct 6, 2016   \n",
       "2  Pakistan barred from Kabaddi World Cup in Indi...  Oct 5, 2016   \n",
       "3  US rate hike talk:Gold slips below Rs 31,000, ...  Oct 5, 2016   \n",
       "4  Priyanka Chopra unwinds with mom during vacati...  Oct 5, 2016   \n",
       "5  Central excise officers’ body plans protest on...  Oct 5, 2016   \n",
       "6  Kajol reveals the secret behind her beautiful ...  Oct 5, 2016   \n",
       "7  Sri Lanka to look for options if SAARC fails t...  Oct 5, 2016   \n",
       "8  UN top court throws out Marshalls nuclear case...  Oct 5, 2016   \n",
       "9  Fit-again Lahiri eyes happy return to Indonesi...  Oct 5, 2016   \n",
       "\n",
       "                                                desc  \n",
       "0  NEW DELHI: No other city has a long history as...  \n",
       "1  SRINAGAR: Army today foiled three infiltration...  \n",
       "2  NEW DELHI: The 12-nation Kabaddi World Cup kic...  \n",
       "3  NEW DELHI: Gold cracked as much as Rs 730 -- i...  \n",
       "4  NEW DELHI: A recent picture of Priyanka Chopra...  \n",
       "5  New Delhi,  An association representing nearly...  \n",
       "6  Actress Kajol says she didn't take skincare se...  \n",
       "7  Colombo, October 5: Sri Lankan Prime Minister ...  \n",
       "8  The Hague, ) The UN's highest court today thre...  \n",
       "9  Jakarta, A fit-again Indian golfer Anirban Lah...  "
      ]
     },
     "execution_count": 14,
     "metadata": {},
     "output_type": "execute_result"
    }
   ],
   "source": [
    "news"
   ]
  },
  {
   "cell_type": "code",
   "execution_count": null,
   "metadata": {},
   "outputs": [],
   "source": []
  }
 ],
 "metadata": {
  "kernelspec": {
   "display_name": "Python 3",
   "language": "python",
   "name": "python3"
  },
  "language_info": {
   "codemirror_mode": {
    "name": "ipython",
    "version": 3
   },
   "file_extension": ".py",
   "mimetype": "text/x-python",
   "name": "python",
   "nbconvert_exporter": "python",
   "pygments_lexer": "ipython3",
   "version": "3.7.6"
  }
 },
 "nbformat": 4,
 "nbformat_minor": 4
}
