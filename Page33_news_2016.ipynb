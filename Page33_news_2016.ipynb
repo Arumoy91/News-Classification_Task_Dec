{
 "cells": [
  {
   "cell_type": "code",
   "execution_count": 1,
   "metadata": {},
   "outputs": [],
   "source": [
    "import selenium"
   ]
  },
  {
   "cell_type": "code",
   "execution_count": 2,
   "metadata": {},
   "outputs": [],
   "source": [
    "import pandas as pd\n",
    "from selenium import webdriver"
   ]
  },
  {
   "cell_type": "code",
   "execution_count": 3,
   "metadata": {},
   "outputs": [],
   "source": [
    "driver=webdriver.Chrome(\"C:\\chromedriver.exe\")"
   ]
  },
  {
   "cell_type": "code",
   "execution_count": 4,
   "metadata": {},
   "outputs": [],
   "source": [
    "driver.get('https://www.ebmnews.com/2016/page/33/')"
   ]
  },
  {
   "cell_type": "code",
   "execution_count": 5,
   "metadata": {},
   "outputs": [],
   "source": [
    "news_titles=[]\n",
    "date=[]\n",
    "description=[]"
   ]
  },
  {
   "cell_type": "code",
   "execution_count": 6,
   "metadata": {},
   "outputs": [
    {
     "data": {
      "text/plain": [
       "[<selenium.webdriver.remote.webelement.WebElement (session=\"69b229639b7775053712eb3f5f2d0484\", element=\"6cf0950e-0c7e-47d4-9df4-77c01de367db\")>,\n",
       " <selenium.webdriver.remote.webelement.WebElement (session=\"69b229639b7775053712eb3f5f2d0484\", element=\"d4264be0-14c5-4b08-a50d-947a6b514809\")>,\n",
       " <selenium.webdriver.remote.webelement.WebElement (session=\"69b229639b7775053712eb3f5f2d0484\", element=\"e1727e38-9b2e-4fbd-bc22-ce17191c9030\")>,\n",
       " <selenium.webdriver.remote.webelement.WebElement (session=\"69b229639b7775053712eb3f5f2d0484\", element=\"b0493e64-6bde-4db1-a10c-cbb5114f3c3a\")>,\n",
       " <selenium.webdriver.remote.webelement.WebElement (session=\"69b229639b7775053712eb3f5f2d0484\", element=\"2af2beab-c3d6-4ba9-8b38-710787e0fa4e\")>,\n",
       " <selenium.webdriver.remote.webelement.WebElement (session=\"69b229639b7775053712eb3f5f2d0484\", element=\"2c96aa3e-831b-4681-ad5c-4db1e22565dd\")>,\n",
       " <selenium.webdriver.remote.webelement.WebElement (session=\"69b229639b7775053712eb3f5f2d0484\", element=\"96cfbd7c-381c-4783-9bb5-db63ea63d76e\")>,\n",
       " <selenium.webdriver.remote.webelement.WebElement (session=\"69b229639b7775053712eb3f5f2d0484\", element=\"f2ed8d29-df96-428e-a03b-ef1362d62fa1\")>,\n",
       " <selenium.webdriver.remote.webelement.WebElement (session=\"69b229639b7775053712eb3f5f2d0484\", element=\"4acbf326-9370-4927-af77-af9ca98b7d6a\")>,\n",
       " <selenium.webdriver.remote.webelement.WebElement (session=\"69b229639b7775053712eb3f5f2d0484\", element=\"883f5d06-0e28-4109-b0b2-9d10c1c6790d\")>]"
      ]
     },
     "execution_count": 6,
     "metadata": {},
     "output_type": "execute_result"
    }
   ],
   "source": [
    "title_tags=driver.find_elements_by_xpath(\"//div[@class='item-inner clearfix']\")\n",
    "title_tags[0:10]"
   ]
  },
  {
   "cell_type": "code",
   "execution_count": 7,
   "metadata": {},
   "outputs": [
    {
     "data": {
      "text/plain": [
       "[\"A huge temple set for Bairavaa\\nEBM News English Oct 4, 2016\\nVijay's film Bairavaa, is now nearing post-production stage. Almost 90% of the shoot is done, with only two songs left to shoot.…\",\n",
       " 'Evelyn Sharma’s on a mission to clothe people in need\\nEBM News English Oct 4, 2016\\nEvelyn Sharma, who has been a part of hits like Yeh Jawaani Hai Deewani, Main Tera Hero and Yaariyan, is gung ho about her new…',\n",
       " 'CASIO first brand in India to bring Lamp Free Projectors with TCO certification\\nEBM News English Oct 4, 2016\\nCASIO has become the first brand to introduce a range of lamp free projectors with TCO certification. TCO Certified products meet…',\n",
       " 'Pakistan again violates ceasefire, shells Rajouri\\nEBM News English Oct 4, 2016\\nJammu, Intensifying attacks, Pakistani troops again violated ceasefire today by resorting to mortar shelling and firing on Army…',\n",
       " 'Hugh Jackman’s parting gift to X-Men director Bryan Singer\\nEBM News English Oct 4, 2016\\nLOS ANGELES: Actor Hugh Jackman gave a special parting gift to his \"X-Men\" director Bryan Singer.  The actor-director duo…',\n",
       " 'Owe a lot to fashion industry: Arjun Rampal\\nEBM News English Oct 4, 2016\\nMUMBAI: Bollywood actor Arjun Rampal says his early days as a model in the fashion industry helped him carve his own niche in…',\n",
       " 'Breast cancer – How much do you know about it (Take the Quiz here)\\nEBM News English Oct 4, 2016\\nNew Delhi: Breast cancer, which is the leading cancer for women in the US, has upstaged cervical cancer as the most common and…',\n",
       " 'India, Canada committed to strengthen economic ties: Jaitley\\nEBM News English Oct 4, 2016\\nToronto, India and Canada are committed to deepen the economic and financial relationship and enhance strategic partnership,…',\n",
       " 'Kim Kardashian back after being held at gunpoint in $10 million Paris robbery\\nEBM News English Oct 4, 2016\\nPARIS/NEW YORK: Reality TV star Kim Kardashian returned to New York \"badly shaken\" on Monday after being robbed at gunpoint in her…',\n",
       " 'Ten coaches of Jhelum Express derail in Punjab\\nEBM News English Oct 4, 2016\\nChandigarh,  Ten coaches of the Jhelum Express derailed near Ludhiana early today, leaving two passengers injured. \"Ten coaches of…']"
      ]
     },
     "execution_count": 7,
     "metadata": {},
     "output_type": "execute_result"
    }
   ],
   "source": [
    "for i in title_tags:\n",
    "    \n",
    "    title=i.text\n",
    "    news_titles.append(title)\n",
    "news_titles[0:10]"
   ]
  },
  {
   "cell_type": "code",
   "execution_count": 8,
   "metadata": {},
   "outputs": [
    {
     "data": {
      "text/plain": [
       "[<selenium.webdriver.remote.webelement.WebElement (session=\"69b229639b7775053712eb3f5f2d0484\", element=\"41b161f8-1fc2-4015-94c3-765a027b8aee\")>,\n",
       " <selenium.webdriver.remote.webelement.WebElement (session=\"69b229639b7775053712eb3f5f2d0484\", element=\"3c544722-8bd0-4149-a5a2-cbd567b3fb51\")>,\n",
       " <selenium.webdriver.remote.webelement.WebElement (session=\"69b229639b7775053712eb3f5f2d0484\", element=\"f03c684c-f2f3-4cb7-9b2b-4ca547047954\")>,\n",
       " <selenium.webdriver.remote.webelement.WebElement (session=\"69b229639b7775053712eb3f5f2d0484\", element=\"fa3b0b69-729a-4fe0-8bb1-758314bb9aa5\")>,\n",
       " <selenium.webdriver.remote.webelement.WebElement (session=\"69b229639b7775053712eb3f5f2d0484\", element=\"f68a8434-38f1-4a0f-8695-5f2b3cf2bc48\")>,\n",
       " <selenium.webdriver.remote.webelement.WebElement (session=\"69b229639b7775053712eb3f5f2d0484\", element=\"cd7b72e2-29a0-4930-bdb0-50f871959164\")>,\n",
       " <selenium.webdriver.remote.webelement.WebElement (session=\"69b229639b7775053712eb3f5f2d0484\", element=\"47369c4c-841c-4f99-a795-26fd04db055a\")>,\n",
       " <selenium.webdriver.remote.webelement.WebElement (session=\"69b229639b7775053712eb3f5f2d0484\", element=\"25e17233-4fce-4810-a08c-fe977ea57980\")>,\n",
       " <selenium.webdriver.remote.webelement.WebElement (session=\"69b229639b7775053712eb3f5f2d0484\", element=\"04a7ef4c-1ffa-424b-936b-75e265a266b5\")>,\n",
       " <selenium.webdriver.remote.webelement.WebElement (session=\"69b229639b7775053712eb3f5f2d0484\", element=\"dbce572b-42f9-4b87-a8fe-f4a3a39e8a94\")>]"
      ]
     },
     "execution_count": 8,
     "metadata": {},
     "output_type": "execute_result"
    }
   ],
   "source": [
    "date_tags=driver.find_elements_by_xpath(\"//span[@class='time']\")\n",
    "date_tags[0:10]"
   ]
  },
  {
   "cell_type": "code",
   "execution_count": 9,
   "metadata": {},
   "outputs": [
    {
     "data": {
      "text/plain": [
       "['Oct 4, 2016',\n",
       " 'Oct 4, 2016',\n",
       " 'Oct 4, 2016',\n",
       " 'Oct 4, 2016',\n",
       " 'Oct 4, 2016',\n",
       " 'Oct 4, 2016',\n",
       " 'Oct 4, 2016',\n",
       " 'Oct 4, 2016',\n",
       " 'Oct 4, 2016',\n",
       " 'Oct 4, 2016']"
      ]
     },
     "execution_count": 9,
     "metadata": {},
     "output_type": "execute_result"
    }
   ],
   "source": [
    "for i in date_tags:\n",
    "    \n",
    "    title=i.text\n",
    "    date.append(title)\n",
    "date[0:10]"
   ]
  },
  {
   "cell_type": "code",
   "execution_count": 10,
   "metadata": {},
   "outputs": [
    {
     "data": {
      "text/plain": [
       "[<selenium.webdriver.remote.webelement.WebElement (session=\"69b229639b7775053712eb3f5f2d0484\", element=\"01dca644-fd2d-4f96-a718-f0ee500e887f\")>,\n",
       " <selenium.webdriver.remote.webelement.WebElement (session=\"69b229639b7775053712eb3f5f2d0484\", element=\"c0a100eb-9be8-4111-ba87-a9c2f7f36a81\")>,\n",
       " <selenium.webdriver.remote.webelement.WebElement (session=\"69b229639b7775053712eb3f5f2d0484\", element=\"dcf5e7d2-6091-492d-b81f-798b32c05663\")>,\n",
       " <selenium.webdriver.remote.webelement.WebElement (session=\"69b229639b7775053712eb3f5f2d0484\", element=\"9a78af0c-3205-4b88-b5a8-1a8804875cf6\")>,\n",
       " <selenium.webdriver.remote.webelement.WebElement (session=\"69b229639b7775053712eb3f5f2d0484\", element=\"a5eacf04-2594-4807-bb22-23d1215a7f54\")>,\n",
       " <selenium.webdriver.remote.webelement.WebElement (session=\"69b229639b7775053712eb3f5f2d0484\", element=\"d908582a-58ab-4188-acde-89e612666e96\")>,\n",
       " <selenium.webdriver.remote.webelement.WebElement (session=\"69b229639b7775053712eb3f5f2d0484\", element=\"63a4ed13-f7f1-46c7-8269-ded7b02076ce\")>,\n",
       " <selenium.webdriver.remote.webelement.WebElement (session=\"69b229639b7775053712eb3f5f2d0484\", element=\"0fd34626-eb63-4571-a2da-6210e7781ec5\")>,\n",
       " <selenium.webdriver.remote.webelement.WebElement (session=\"69b229639b7775053712eb3f5f2d0484\", element=\"4056cb7c-999a-4aff-88f8-bb8efcbc2ac2\")>,\n",
       " <selenium.webdriver.remote.webelement.WebElement (session=\"69b229639b7775053712eb3f5f2d0484\", element=\"8328a031-7f36-4746-ab51-62f53341e870\")>]"
      ]
     },
     "execution_count": 10,
     "metadata": {},
     "output_type": "execute_result"
    }
   ],
   "source": [
    "desc_tags=driver.find_elements_by_xpath(\"//div[@class='post-summary']\")\n",
    "desc_tags[0:10]"
   ]
  },
  {
   "cell_type": "code",
   "execution_count": 11,
   "metadata": {},
   "outputs": [
    {
     "data": {
      "text/plain": [
       "[\"Vijay's film Bairavaa, is now nearing post-production stage. Almost 90% of the shoot is done, with only two songs left to shoot.…\",\n",
       " 'Evelyn Sharma, who has been a part of hits like Yeh Jawaani Hai Deewani, Main Tera Hero and Yaariyan, is gung ho about her new…',\n",
       " 'CASIO has become the first brand to introduce a range of lamp free projectors with TCO certification. TCO Certified products meet…',\n",
       " 'Jammu, Intensifying attacks, Pakistani troops again violated ceasefire today by resorting to mortar shelling and firing on Army…',\n",
       " 'LOS ANGELES: Actor Hugh Jackman gave a special parting gift to his \"X-Men\" director Bryan Singer.  The actor-director duo…',\n",
       " 'MUMBAI: Bollywood actor Arjun Rampal says his early days as a model in the fashion industry helped him carve his own niche in…',\n",
       " 'New Delhi: Breast cancer, which is the leading cancer for women in the US, has upstaged cervical cancer as the most common and…',\n",
       " 'Toronto, India and Canada are committed to deepen the economic and financial relationship and enhance strategic partnership,…',\n",
       " 'PARIS/NEW YORK: Reality TV star Kim Kardashian returned to New York \"badly shaken\" on Monday after being robbed at gunpoint in her…',\n",
       " 'Chandigarh,  Ten coaches of the Jhelum Express derailed near Ludhiana early today, leaving two passengers injured. \"Ten coaches of…']"
      ]
     },
     "execution_count": 11,
     "metadata": {},
     "output_type": "execute_result"
    }
   ],
   "source": [
    "for i in desc_tags:\n",
    "    \n",
    "    title=i.text\n",
    "    description.append(title)\n",
    "description[0:10]"
   ]
  },
  {
   "cell_type": "code",
   "execution_count": 12,
   "metadata": {},
   "outputs": [
    {
     "name": "stdout",
     "output_type": "stream",
     "text": [
      "10 10 10\n"
     ]
    }
   ],
   "source": [
    "print(len(news_titles),len(date),len(description))"
   ]
  },
  {
   "cell_type": "code",
   "execution_count": 13,
   "metadata": {},
   "outputs": [],
   "source": [
    "import pandas as pd\n",
    "news=pd.DataFrame({})\n",
    "news['title']=news_titles[0:10]\n",
    "news['date']=date[0:10]\n",
    "news['desc']=description[0:10]"
   ]
  },
  {
   "cell_type": "code",
   "execution_count": 14,
   "metadata": {},
   "outputs": [
    {
     "data": {
      "text/html": [
       "<div>\n",
       "<style scoped>\n",
       "    .dataframe tbody tr th:only-of-type {\n",
       "        vertical-align: middle;\n",
       "    }\n",
       "\n",
       "    .dataframe tbody tr th {\n",
       "        vertical-align: top;\n",
       "    }\n",
       "\n",
       "    .dataframe thead th {\n",
       "        text-align: right;\n",
       "    }\n",
       "</style>\n",
       "<table border=\"1\" class=\"dataframe\">\n",
       "  <thead>\n",
       "    <tr style=\"text-align: right;\">\n",
       "      <th></th>\n",
       "      <th>title</th>\n",
       "      <th>date</th>\n",
       "      <th>desc</th>\n",
       "    </tr>\n",
       "  </thead>\n",
       "  <tbody>\n",
       "    <tr>\n",
       "      <th>0</th>\n",
       "      <td>A huge temple set for Bairavaa\\nEBM News Engli...</td>\n",
       "      <td>Oct 4, 2016</td>\n",
       "      <td>Vijay's film Bairavaa, is now nearing post-pro...</td>\n",
       "    </tr>\n",
       "    <tr>\n",
       "      <th>1</th>\n",
       "      <td>Evelyn Sharma’s on a mission to clothe people ...</td>\n",
       "      <td>Oct 4, 2016</td>\n",
       "      <td>Evelyn Sharma, who has been a part of hits lik...</td>\n",
       "    </tr>\n",
       "    <tr>\n",
       "      <th>2</th>\n",
       "      <td>CASIO first brand in India to bring Lamp Free ...</td>\n",
       "      <td>Oct 4, 2016</td>\n",
       "      <td>CASIO has become the first brand to introduce ...</td>\n",
       "    </tr>\n",
       "    <tr>\n",
       "      <th>3</th>\n",
       "      <td>Pakistan again violates ceasefire, shells Rajo...</td>\n",
       "      <td>Oct 4, 2016</td>\n",
       "      <td>Jammu, Intensifying attacks, Pakistani troops ...</td>\n",
       "    </tr>\n",
       "    <tr>\n",
       "      <th>4</th>\n",
       "      <td>Hugh Jackman’s parting gift to X-Men director ...</td>\n",
       "      <td>Oct 4, 2016</td>\n",
       "      <td>LOS ANGELES: Actor Hugh Jackman gave a special...</td>\n",
       "    </tr>\n",
       "    <tr>\n",
       "      <th>5</th>\n",
       "      <td>Owe a lot to fashion industry: Arjun Rampal\\nE...</td>\n",
       "      <td>Oct 4, 2016</td>\n",
       "      <td>MUMBAI: Bollywood actor Arjun Rampal says his ...</td>\n",
       "    </tr>\n",
       "    <tr>\n",
       "      <th>6</th>\n",
       "      <td>Breast cancer – How much do you know about it ...</td>\n",
       "      <td>Oct 4, 2016</td>\n",
       "      <td>New Delhi: Breast cancer, which is the leading...</td>\n",
       "    </tr>\n",
       "    <tr>\n",
       "      <th>7</th>\n",
       "      <td>India, Canada committed to strengthen economic...</td>\n",
       "      <td>Oct 4, 2016</td>\n",
       "      <td>Toronto, India and Canada are committed to dee...</td>\n",
       "    </tr>\n",
       "    <tr>\n",
       "      <th>8</th>\n",
       "      <td>Kim Kardashian back after being held at gunpoi...</td>\n",
       "      <td>Oct 4, 2016</td>\n",
       "      <td>PARIS/NEW YORK: Reality TV star Kim Kardashian...</td>\n",
       "    </tr>\n",
       "    <tr>\n",
       "      <th>9</th>\n",
       "      <td>Ten coaches of Jhelum Express derail in Punjab...</td>\n",
       "      <td>Oct 4, 2016</td>\n",
       "      <td>Chandigarh,  Ten coaches of the Jhelum Express...</td>\n",
       "    </tr>\n",
       "  </tbody>\n",
       "</table>\n",
       "</div>"
      ],
      "text/plain": [
       "                                               title         date  \\\n",
       "0  A huge temple set for Bairavaa\\nEBM News Engli...  Oct 4, 2016   \n",
       "1  Evelyn Sharma’s on a mission to clothe people ...  Oct 4, 2016   \n",
       "2  CASIO first brand in India to bring Lamp Free ...  Oct 4, 2016   \n",
       "3  Pakistan again violates ceasefire, shells Rajo...  Oct 4, 2016   \n",
       "4  Hugh Jackman’s parting gift to X-Men director ...  Oct 4, 2016   \n",
       "5  Owe a lot to fashion industry: Arjun Rampal\\nE...  Oct 4, 2016   \n",
       "6  Breast cancer – How much do you know about it ...  Oct 4, 2016   \n",
       "7  India, Canada committed to strengthen economic...  Oct 4, 2016   \n",
       "8  Kim Kardashian back after being held at gunpoi...  Oct 4, 2016   \n",
       "9  Ten coaches of Jhelum Express derail in Punjab...  Oct 4, 2016   \n",
       "\n",
       "                                                desc  \n",
       "0  Vijay's film Bairavaa, is now nearing post-pro...  \n",
       "1  Evelyn Sharma, who has been a part of hits lik...  \n",
       "2  CASIO has become the first brand to introduce ...  \n",
       "3  Jammu, Intensifying attacks, Pakistani troops ...  \n",
       "4  LOS ANGELES: Actor Hugh Jackman gave a special...  \n",
       "5  MUMBAI: Bollywood actor Arjun Rampal says his ...  \n",
       "6  New Delhi: Breast cancer, which is the leading...  \n",
       "7  Toronto, India and Canada are committed to dee...  \n",
       "8  PARIS/NEW YORK: Reality TV star Kim Kardashian...  \n",
       "9  Chandigarh,  Ten coaches of the Jhelum Express...  "
      ]
     },
     "execution_count": 14,
     "metadata": {},
     "output_type": "execute_result"
    }
   ],
   "source": [
    "news"
   ]
  },
  {
   "cell_type": "code",
   "execution_count": null,
   "metadata": {},
   "outputs": [],
   "source": []
  }
 ],
 "metadata": {
  "kernelspec": {
   "display_name": "Python 3",
   "language": "python",
   "name": "python3"
  },
  "language_info": {
   "codemirror_mode": {
    "name": "ipython",
    "version": 3
   },
   "file_extension": ".py",
   "mimetype": "text/x-python",
   "name": "python",
   "nbconvert_exporter": "python",
   "pygments_lexer": "ipython3",
   "version": "3.7.6"
  }
 },
 "nbformat": 4,
 "nbformat_minor": 4
}
