{
 "cells": [
  {
   "cell_type": "code",
   "execution_count": 1,
   "metadata": {},
   "outputs": [],
   "source": [
    "import selenium\n",
    "import pandas as pd\n",
    "from selenium import webdriver"
   ]
  },
  {
   "cell_type": "code",
   "execution_count": 2,
   "metadata": {},
   "outputs": [],
   "source": [
    "driver=webdriver.Chrome(\"C:\\chromedriver.exe\")"
   ]
  },
  {
   "cell_type": "code",
   "execution_count": 3,
   "metadata": {},
   "outputs": [],
   "source": [
    "driver.get('https://www.ebmnews.com/2016/page/8/')"
   ]
  },
  {
   "cell_type": "code",
   "execution_count": 4,
   "metadata": {},
   "outputs": [],
   "source": [
    "news_titles=[]\n",
    "date=[]\n",
    "description=[]"
   ]
  },
  {
   "cell_type": "code",
   "execution_count": 5,
   "metadata": {},
   "outputs": [
    {
     "data": {
      "text/plain": [
       "[<selenium.webdriver.remote.webelement.WebElement (session=\"e6629c79f1746c4a5ce2ced9544746a3\", element=\"5b9b5a6d-d959-4f29-87fe-57e79853d849\")>,\n",
       " <selenium.webdriver.remote.webelement.WebElement (session=\"e6629c79f1746c4a5ce2ced9544746a3\", element=\"3c6f4d35-59c8-44d8-87bc-741ef7abfeac\")>,\n",
       " <selenium.webdriver.remote.webelement.WebElement (session=\"e6629c79f1746c4a5ce2ced9544746a3\", element=\"473830d5-9816-43fc-8f12-7fe038ad85a6\")>,\n",
       " <selenium.webdriver.remote.webelement.WebElement (session=\"e6629c79f1746c4a5ce2ced9544746a3\", element=\"c66b2ef0-cfaf-4d7a-b79a-6bc8edda42c4\")>,\n",
       " <selenium.webdriver.remote.webelement.WebElement (session=\"e6629c79f1746c4a5ce2ced9544746a3\", element=\"cf2c9cdb-3a6f-48a4-bf5d-e1255408be4a\")>,\n",
       " <selenium.webdriver.remote.webelement.WebElement (session=\"e6629c79f1746c4a5ce2ced9544746a3\", element=\"09493ebf-2b87-4ee3-9a1b-c05cc4049555\")>,\n",
       " <selenium.webdriver.remote.webelement.WebElement (session=\"e6629c79f1746c4a5ce2ced9544746a3\", element=\"ca589b9b-b3bd-4ac9-aa9b-3f59e6087f91\")>,\n",
       " <selenium.webdriver.remote.webelement.WebElement (session=\"e6629c79f1746c4a5ce2ced9544746a3\", element=\"bc0fea34-4663-4aec-94fc-5a3dddfe735f\")>,\n",
       " <selenium.webdriver.remote.webelement.WebElement (session=\"e6629c79f1746c4a5ce2ced9544746a3\", element=\"046ffd50-fdb8-4a5b-a74c-c101af0c43ff\")>,\n",
       " <selenium.webdriver.remote.webelement.WebElement (session=\"e6629c79f1746c4a5ce2ced9544746a3\", element=\"9f6debbd-acb2-4165-a66f-6c9dc62ed395\")>]"
      ]
     },
     "execution_count": 5,
     "metadata": {},
     "output_type": "execute_result"
    }
   ],
   "source": [
    "title_tags=driver.find_elements_by_xpath(\"//div[@class='item-inner clearfix']\")\n",
    "title_tags[0:10]"
   ]
  },
  {
   "cell_type": "code",
   "execution_count": 6,
   "metadata": {},
   "outputs": [
    {
     "data": {
      "text/plain": [
       "['No cross-LoC action in the past: Parrikar\\nEBM News English Oct 13, 2016\\nDefence Minister Manohar Parrikar on Wednesday rejected claims that cross-Line of Control surgical strikes had been carried out by…',\n",
       " 'The canine soldiers of Jammu and Kashmir\\nEBM News English Oct 13, 2016\\nAfter a long, hard day at work in counter-insurgency operations, Tractor and Sam trudge into their respective camps located in a…',\n",
       " 'U.S. backs India’s position on cross-border terrorism\\nEBM News English Oct 13, 2016\\nThe U.S. empathises with India’s position that it needs to militarily respond to cross-border terrorism. But given the history of…',\n",
       " 'Sweden’s SAAB sweetens deal for Gripen jet\\nEBM News English Oct 13, 2016\\nIn an aggressive push to capture a share in India’s fighter aircraft market, Swedish aerospace major SAAB has offered its latest…',\n",
       " 'Brazil leads World Cup qualifiers, Argentina shocked at home\\nEBM News English Oct 12, 2016\\nRIO DE JANEIRO: Brazil recorded it fourth straight win under is new coach on Tuesday to become the new leader of South…',\n",
       " 'Schneider Chairman discusses India plans with PM\\nEBM News English Oct 12, 2016\\nNew Delhi,  Schneider Electric Chairman and CEO Jean-Pascal Tricoire today met Prime Minister Narendra Modi and discussed a host…',\n",
       " 'Pampore encounter over; Two militants killed\\nEBM News English Oct 12, 2016\\nSrinagar,  The 56-hour gunbattle between security forces and militants holed up in a government building at Pampore on the…',\n",
       " 'Hyderabad Jain samaj president blasts media for twisting facts on girls death\\nEBM News English Oct 12, 2016\\nHYDERABAD: Expressing grief over the death of a 13-year-old girl in Hyderabad last week after fasting for 68 days during the holy…',\n",
       " 'Man held along Indo-Pak border in Jammu\\nEBM News English Oct 12, 2016\\nJammu,  One person was arrested by security forces when he was roaming under suspicious circumstances near Indo-Pak border in…',\n",
       " 'Trump slams Republican Party, House Speaker Ryan\\nEBM News English Oct 12, 2016\\nWASHINGTON: Presidential nominee Donald Trump slammed the Republican Party as leaders continued to distance themselves after his…']"
      ]
     },
     "execution_count": 6,
     "metadata": {},
     "output_type": "execute_result"
    }
   ],
   "source": [
    "for i in title_tags:\n",
    "    \n",
    "    title=i.text\n",
    "    news_titles.append(title)\n",
    "news_titles[0:10]"
   ]
  },
  {
   "cell_type": "code",
   "execution_count": 7,
   "metadata": {},
   "outputs": [
    {
     "data": {
      "text/plain": [
       "[<selenium.webdriver.remote.webelement.WebElement (session=\"e6629c79f1746c4a5ce2ced9544746a3\", element=\"2447af65-279f-47bd-b44d-33018c58f712\")>,\n",
       " <selenium.webdriver.remote.webelement.WebElement (session=\"e6629c79f1746c4a5ce2ced9544746a3\", element=\"b1d80094-fdce-4ede-b746-1a8591408cab\")>,\n",
       " <selenium.webdriver.remote.webelement.WebElement (session=\"e6629c79f1746c4a5ce2ced9544746a3\", element=\"59506d1b-ab8e-4a35-9222-2f13e2b5eaf0\")>,\n",
       " <selenium.webdriver.remote.webelement.WebElement (session=\"e6629c79f1746c4a5ce2ced9544746a3\", element=\"d0f571a1-a2cc-406e-a58a-28ffab54b92f\")>,\n",
       " <selenium.webdriver.remote.webelement.WebElement (session=\"e6629c79f1746c4a5ce2ced9544746a3\", element=\"67b9171f-75be-40ea-99c1-659157af51d3\")>,\n",
       " <selenium.webdriver.remote.webelement.WebElement (session=\"e6629c79f1746c4a5ce2ced9544746a3\", element=\"0bab6c03-74d7-4934-8e89-5ce127aaa6d0\")>,\n",
       " <selenium.webdriver.remote.webelement.WebElement (session=\"e6629c79f1746c4a5ce2ced9544746a3\", element=\"0373c619-b394-4f79-8905-f4c8e38fc796\")>,\n",
       " <selenium.webdriver.remote.webelement.WebElement (session=\"e6629c79f1746c4a5ce2ced9544746a3\", element=\"c8e8f24d-5ff1-486e-989a-6698a6b7e8e1\")>,\n",
       " <selenium.webdriver.remote.webelement.WebElement (session=\"e6629c79f1746c4a5ce2ced9544746a3\", element=\"2f992d6e-ba77-45d4-9187-5d9cb7467f55\")>,\n",
       " <selenium.webdriver.remote.webelement.WebElement (session=\"e6629c79f1746c4a5ce2ced9544746a3\", element=\"3fb86f77-89de-4c0e-81d5-413ddae62779\")>]"
      ]
     },
     "execution_count": 7,
     "metadata": {},
     "output_type": "execute_result"
    }
   ],
   "source": [
    "date_tags=driver.find_elements_by_xpath(\"//span[@class='time']\")\n",
    "date_tags[0:10]"
   ]
  },
  {
   "cell_type": "code",
   "execution_count": 8,
   "metadata": {},
   "outputs": [
    {
     "data": {
      "text/plain": [
       "['Oct 13, 2016',\n",
       " 'Oct 13, 2016',\n",
       " 'Oct 13, 2016',\n",
       " 'Oct 13, 2016',\n",
       " 'Oct 12, 2016',\n",
       " 'Oct 12, 2016',\n",
       " 'Oct 12, 2016',\n",
       " 'Oct 12, 2016',\n",
       " 'Oct 12, 2016',\n",
       " 'Oct 12, 2016']"
      ]
     },
     "execution_count": 8,
     "metadata": {},
     "output_type": "execute_result"
    }
   ],
   "source": [
    "for i in date_tags:\n",
    "    \n",
    "    title=i.text\n",
    "    date.append(title)\n",
    "date[0:10]"
   ]
  },
  {
   "cell_type": "code",
   "execution_count": 9,
   "metadata": {},
   "outputs": [
    {
     "data": {
      "text/plain": [
       "[<selenium.webdriver.remote.webelement.WebElement (session=\"e6629c79f1746c4a5ce2ced9544746a3\", element=\"3a279d3e-e698-4d4c-9cb3-dd611e26261a\")>,\n",
       " <selenium.webdriver.remote.webelement.WebElement (session=\"e6629c79f1746c4a5ce2ced9544746a3\", element=\"e5fcd0d0-1b1d-4d8c-a990-86de1149d1e1\")>,\n",
       " <selenium.webdriver.remote.webelement.WebElement (session=\"e6629c79f1746c4a5ce2ced9544746a3\", element=\"b75c0007-e7da-4d6d-8038-8dd9e7b6c699\")>,\n",
       " <selenium.webdriver.remote.webelement.WebElement (session=\"e6629c79f1746c4a5ce2ced9544746a3\", element=\"a8d572a5-ef46-4a2c-a24e-49870963838e\")>,\n",
       " <selenium.webdriver.remote.webelement.WebElement (session=\"e6629c79f1746c4a5ce2ced9544746a3\", element=\"67f46149-d7ba-468f-bb7d-41a672e12a7f\")>,\n",
       " <selenium.webdriver.remote.webelement.WebElement (session=\"e6629c79f1746c4a5ce2ced9544746a3\", element=\"cdad6579-7527-4bd9-8d67-425a8445910b\")>,\n",
       " <selenium.webdriver.remote.webelement.WebElement (session=\"e6629c79f1746c4a5ce2ced9544746a3\", element=\"f71045c0-0ba5-47b6-8a97-5d6c11b541f7\")>,\n",
       " <selenium.webdriver.remote.webelement.WebElement (session=\"e6629c79f1746c4a5ce2ced9544746a3\", element=\"3373810a-e31c-4122-9210-4c10ec37a429\")>,\n",
       " <selenium.webdriver.remote.webelement.WebElement (session=\"e6629c79f1746c4a5ce2ced9544746a3\", element=\"3acc5169-8238-49d7-9aac-9895df81faa7\")>,\n",
       " <selenium.webdriver.remote.webelement.WebElement (session=\"e6629c79f1746c4a5ce2ced9544746a3\", element=\"a37d7c3b-f578-46f0-9b9d-78f1514c56d3\")>]"
      ]
     },
     "execution_count": 9,
     "metadata": {},
     "output_type": "execute_result"
    }
   ],
   "source": [
    "desc_tags=driver.find_elements_by_xpath(\"//div[@class='post-summary']\")\n",
    "desc_tags[0:10]"
   ]
  },
  {
   "cell_type": "code",
   "execution_count": 10,
   "metadata": {},
   "outputs": [
    {
     "data": {
      "text/plain": [
       "['Defence Minister Manohar Parrikar on Wednesday rejected claims that cross-Line of Control surgical strikes had been carried out by…',\n",
       " 'After a long, hard day at work in counter-insurgency operations, Tractor and Sam trudge into their respective camps located in a…',\n",
       " 'The U.S. empathises with India’s position that it needs to militarily respond to cross-border terrorism. But given the history of…',\n",
       " 'In an aggressive push to capture a share in India’s fighter aircraft market, Swedish aerospace major SAAB has offered its latest…',\n",
       " 'RIO DE JANEIRO: Brazil recorded it fourth straight win under is new coach on Tuesday to become the new leader of South…',\n",
       " 'New Delhi,  Schneider Electric Chairman and CEO Jean-Pascal Tricoire today met Prime Minister Narendra Modi and discussed a host…',\n",
       " 'Srinagar,  The 56-hour gunbattle between security forces and militants holed up in a government building at Pampore on the…',\n",
       " 'HYDERABAD: Expressing grief over the death of a 13-year-old girl in Hyderabad last week after fasting for 68 days during the holy…',\n",
       " 'Jammu,  One person was arrested by security forces when he was roaming under suspicious circumstances near Indo-Pak border in…',\n",
       " 'WASHINGTON: Presidential nominee Donald Trump slammed the Republican Party as leaders continued to distance themselves after his…']"
      ]
     },
     "execution_count": 10,
     "metadata": {},
     "output_type": "execute_result"
    }
   ],
   "source": [
    "for i in desc_tags:\n",
    "    \n",
    "    title=i.text\n",
    "    description.append(title)\n",
    "description[0:10]"
   ]
  },
  {
   "cell_type": "code",
   "execution_count": 11,
   "metadata": {},
   "outputs": [
    {
     "name": "stdout",
     "output_type": "stream",
     "text": [
      "10 10 10\n"
     ]
    }
   ],
   "source": [
    "print(len(news_titles),len(date),len(description))"
   ]
  },
  {
   "cell_type": "code",
   "execution_count": 12,
   "metadata": {},
   "outputs": [],
   "source": [
    "import pandas as pd\n",
    "news=pd.DataFrame({})\n",
    "news['title']=news_titles[0:10]\n",
    "news['date']=date[0:10]\n",
    "news['desc']=description[0:10]"
   ]
  },
  {
   "cell_type": "code",
   "execution_count": 13,
   "metadata": {},
   "outputs": [
    {
     "data": {
      "text/html": [
       "<div>\n",
       "<style scoped>\n",
       "    .dataframe tbody tr th:only-of-type {\n",
       "        vertical-align: middle;\n",
       "    }\n",
       "\n",
       "    .dataframe tbody tr th {\n",
       "        vertical-align: top;\n",
       "    }\n",
       "\n",
       "    .dataframe thead th {\n",
       "        text-align: right;\n",
       "    }\n",
       "</style>\n",
       "<table border=\"1\" class=\"dataframe\">\n",
       "  <thead>\n",
       "    <tr style=\"text-align: right;\">\n",
       "      <th></th>\n",
       "      <th>title</th>\n",
       "      <th>date</th>\n",
       "      <th>desc</th>\n",
       "    </tr>\n",
       "  </thead>\n",
       "  <tbody>\n",
       "    <tr>\n",
       "      <th>0</th>\n",
       "      <td>No cross-LoC action in the past: Parrikar\\nEBM...</td>\n",
       "      <td>Oct 13, 2016</td>\n",
       "      <td>Defence Minister Manohar Parrikar on Wednesday...</td>\n",
       "    </tr>\n",
       "    <tr>\n",
       "      <th>1</th>\n",
       "      <td>The canine soldiers of Jammu and Kashmir\\nEBM ...</td>\n",
       "      <td>Oct 13, 2016</td>\n",
       "      <td>After a long, hard day at work in counter-insu...</td>\n",
       "    </tr>\n",
       "    <tr>\n",
       "      <th>2</th>\n",
       "      <td>U.S. backs India’s position on cross-border te...</td>\n",
       "      <td>Oct 13, 2016</td>\n",
       "      <td>The U.S. empathises with India’s position that...</td>\n",
       "    </tr>\n",
       "    <tr>\n",
       "      <th>3</th>\n",
       "      <td>Sweden’s SAAB sweetens deal for Gripen jet\\nEB...</td>\n",
       "      <td>Oct 13, 2016</td>\n",
       "      <td>In an aggressive push to capture a share in In...</td>\n",
       "    </tr>\n",
       "    <tr>\n",
       "      <th>4</th>\n",
       "      <td>Brazil leads World Cup qualifiers, Argentina s...</td>\n",
       "      <td>Oct 12, 2016</td>\n",
       "      <td>RIO DE JANEIRO: Brazil recorded it fourth stra...</td>\n",
       "    </tr>\n",
       "    <tr>\n",
       "      <th>5</th>\n",
       "      <td>Schneider Chairman discusses India plans with ...</td>\n",
       "      <td>Oct 12, 2016</td>\n",
       "      <td>New Delhi,  Schneider Electric Chairman and CE...</td>\n",
       "    </tr>\n",
       "    <tr>\n",
       "      <th>6</th>\n",
       "      <td>Pampore encounter over; Two militants killed\\n...</td>\n",
       "      <td>Oct 12, 2016</td>\n",
       "      <td>Srinagar,  The 56-hour gunbattle between secur...</td>\n",
       "    </tr>\n",
       "    <tr>\n",
       "      <th>7</th>\n",
       "      <td>Hyderabad Jain samaj president blasts media fo...</td>\n",
       "      <td>Oct 12, 2016</td>\n",
       "      <td>HYDERABAD: Expressing grief over the death of ...</td>\n",
       "    </tr>\n",
       "    <tr>\n",
       "      <th>8</th>\n",
       "      <td>Man held along Indo-Pak border in Jammu\\nEBM N...</td>\n",
       "      <td>Oct 12, 2016</td>\n",
       "      <td>Jammu,  One person was arrested by security fo...</td>\n",
       "    </tr>\n",
       "    <tr>\n",
       "      <th>9</th>\n",
       "      <td>Trump slams Republican Party, House Speaker Ry...</td>\n",
       "      <td>Oct 12, 2016</td>\n",
       "      <td>WASHINGTON: Presidential nominee Donald Trump ...</td>\n",
       "    </tr>\n",
       "  </tbody>\n",
       "</table>\n",
       "</div>"
      ],
      "text/plain": [
       "                                               title          date  \\\n",
       "0  No cross-LoC action in the past: Parrikar\\nEBM...  Oct 13, 2016   \n",
       "1  The canine soldiers of Jammu and Kashmir\\nEBM ...  Oct 13, 2016   \n",
       "2  U.S. backs India’s position on cross-border te...  Oct 13, 2016   \n",
       "3  Sweden’s SAAB sweetens deal for Gripen jet\\nEB...  Oct 13, 2016   \n",
       "4  Brazil leads World Cup qualifiers, Argentina s...  Oct 12, 2016   \n",
       "5  Schneider Chairman discusses India plans with ...  Oct 12, 2016   \n",
       "6  Pampore encounter over; Two militants killed\\n...  Oct 12, 2016   \n",
       "7  Hyderabad Jain samaj president blasts media fo...  Oct 12, 2016   \n",
       "8  Man held along Indo-Pak border in Jammu\\nEBM N...  Oct 12, 2016   \n",
       "9  Trump slams Republican Party, House Speaker Ry...  Oct 12, 2016   \n",
       "\n",
       "                                                desc  \n",
       "0  Defence Minister Manohar Parrikar on Wednesday...  \n",
       "1  After a long, hard day at work in counter-insu...  \n",
       "2  The U.S. empathises with India’s position that...  \n",
       "3  In an aggressive push to capture a share in In...  \n",
       "4  RIO DE JANEIRO: Brazil recorded it fourth stra...  \n",
       "5  New Delhi,  Schneider Electric Chairman and CE...  \n",
       "6  Srinagar,  The 56-hour gunbattle between secur...  \n",
       "7  HYDERABAD: Expressing grief over the death of ...  \n",
       "8  Jammu,  One person was arrested by security fo...  \n",
       "9  WASHINGTON: Presidential nominee Donald Trump ...  "
      ]
     },
     "execution_count": 13,
     "metadata": {},
     "output_type": "execute_result"
    }
   ],
   "source": [
    "news"
   ]
  },
  {
   "cell_type": "code",
   "execution_count": null,
   "metadata": {},
   "outputs": [],
   "source": []
  }
 ],
 "metadata": {
  "kernelspec": {
   "display_name": "Python 3",
   "language": "python",
   "name": "python3"
  },
  "language_info": {
   "codemirror_mode": {
    "name": "ipython",
    "version": 3
   },
   "file_extension": ".py",
   "mimetype": "text/x-python",
   "name": "python",
   "nbconvert_exporter": "python",
   "pygments_lexer": "ipython3",
   "version": "3.7.6"
  }
 },
 "nbformat": 4,
 "nbformat_minor": 4
}
