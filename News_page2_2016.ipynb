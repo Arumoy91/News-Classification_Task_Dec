{
 "cells": [
  {
   "cell_type": "code",
   "execution_count": 1,
   "metadata": {},
   "outputs": [],
   "source": [
    "import selenium\n",
    "import pandas as pd\n",
    "from selenium import webdriver"
   ]
  },
  {
   "cell_type": "code",
   "execution_count": 2,
   "metadata": {},
   "outputs": [],
   "source": [
    "driver=webdriver.Chrome(\"C:\\chromedriver.exe\")"
   ]
  },
  {
   "cell_type": "code",
   "execution_count": 3,
   "metadata": {},
   "outputs": [],
   "source": [
    "driver.get('https://www.ebmnews.com/2016/page/2/')"
   ]
  },
  {
   "cell_type": "code",
   "execution_count": 4,
   "metadata": {},
   "outputs": [],
   "source": [
    "news_titles=[]\n",
    "date=[]\n",
    "description=[]"
   ]
  },
  {
   "cell_type": "code",
   "execution_count": 5,
   "metadata": {},
   "outputs": [
    {
     "data": {
      "text/plain": [
       "[<selenium.webdriver.remote.webelement.WebElement (session=\"f31147ea079a6a6daa151ad4a1cf25f7\", element=\"14de4ccc-15ca-4a1d-88b5-3b9896032b25\")>,\n",
       " <selenium.webdriver.remote.webelement.WebElement (session=\"f31147ea079a6a6daa151ad4a1cf25f7\", element=\"00d4b2ba-845c-4f51-a9ad-a9b0e64b579d\")>,\n",
       " <selenium.webdriver.remote.webelement.WebElement (session=\"f31147ea079a6a6daa151ad4a1cf25f7\", element=\"a22f9f42-b52a-4fe8-9227-73efb1efcd89\")>,\n",
       " <selenium.webdriver.remote.webelement.WebElement (session=\"f31147ea079a6a6daa151ad4a1cf25f7\", element=\"f5caab1d-ee58-430f-8b0c-7c5ac5ada00e\")>,\n",
       " <selenium.webdriver.remote.webelement.WebElement (session=\"f31147ea079a6a6daa151ad4a1cf25f7\", element=\"1bf13692-ec4f-48fd-9024-e0683208d678\")>,\n",
       " <selenium.webdriver.remote.webelement.WebElement (session=\"f31147ea079a6a6daa151ad4a1cf25f7\", element=\"4b6e5b5e-3d8f-4f8b-95ef-ed21305d03e8\")>,\n",
       " <selenium.webdriver.remote.webelement.WebElement (session=\"f31147ea079a6a6daa151ad4a1cf25f7\", element=\"e50f7863-94ef-49f8-9cd0-1884c924062e\")>,\n",
       " <selenium.webdriver.remote.webelement.WebElement (session=\"f31147ea079a6a6daa151ad4a1cf25f7\", element=\"80d5e61e-c43b-4295-9839-5a50ec48f9bc\")>,\n",
       " <selenium.webdriver.remote.webelement.WebElement (session=\"f31147ea079a6a6daa151ad4a1cf25f7\", element=\"51ab5dd9-a286-44d4-a558-3d48afb812ae\")>,\n",
       " <selenium.webdriver.remote.webelement.WebElement (session=\"f31147ea079a6a6daa151ad4a1cf25f7\", element=\"a163fbfd-957e-4499-ad5b-45064db94c44\")>]"
      ]
     },
     "execution_count": 5,
     "metadata": {},
     "output_type": "execute_result"
    }
   ],
   "source": [
    "title_tags=driver.find_elements_by_xpath(\"//div[@class='item-inner clearfix']\")\n",
    "title_tags[0:10]"
   ]
  },
  {
   "cell_type": "code",
   "execution_count": 6,
   "metadata": {},
   "outputs": [
    {
     "data": {
      "text/plain": [
       "['Bangladesh rolls out red carpet for Xi\\nEBM News English Oct 14, 2016\\nDhaka,  Bangladesh today rolled out the red carpet for Chinese President Xi Jinping who arrived on a two-day state visit, the…',\n",
       " 'EP WATCH: Kerala Industries Minister EP Jayarajan quits, Express reporter manhandled in court\\nEBM News English Oct 14, 2016\\nThiruvananthapuram: As we indicated, EP has quit over the nepotism charges against him. The Kerala industries minister  EP…',\n",
       " 'Samsung Galaxy A8 price leaks ahead of India launch\\nEBM News English Oct 14, 2016\\nTech giant Samsung is planning on launching its A8 device in India towards the end of this year. With hardly any time left for its…',\n",
       " 'Vexed BCCI mandarins brace for SGM ahead of SC verdict\\nEBM News English Oct 14, 2016\\nKOLKATA: When the BCCI Special General Meeting (SGM) is held in Delhi on Saturday, chances are board members will reject most of…',\n",
       " 'IIM at Jammu: Javadekar, Omar lock horns\\nEBM News English Oct 14, 2016\\nNEW DELHI: Union Human Resource and Development (HRD) Minister Prakash Javadekar and National Conference leader Omar Abdullah…',\n",
       " 'Pollution alert: Delhi government kicks into action against Chinese fireworks ahead of Diwali\\nEBM News English Oct 14, 2016\\nNEW DELHI: With accompanying air pollution and the festival of Diwali around the corner, the Delhi government has written to the…',\n",
       " 'Chennai Metro opens 1.28km stretch from Alandur to St Thomas Mount\\nEBM News English Oct 14, 2016\\nCHENNAI: Chennai Metro opened the 1.28km stretch from Alandur to St Thomas Mount today thus making the entire elevated stretch…',\n",
       " 'Merkel turns to Africa to curb mass migrant flow\\nEBM News English Oct 14, 2016\\nBERLIN: German Chancellor Angela Merkel on Friday wraps up a week of Africa diplomacy aimed at slowing the flow of migrants to…',\n",
       " \"Dulquer’s ‘Oru Bhayankara Kamukan’ is an entertainer\\nEBM News English Oct 14, 2016\\nDirector Lal Jose had earlier told us that his next film will have Dulquer Salmaan as the hero. The film has a name now — 'Oru…\",\n",
       " \"Raai Laxmi to shake a leg with Chiru\\nEBM News English Oct 14, 2016\\nThe shooting of Chiranjeevi's much-awaited comeback film,Khaidi No 150, has been on in full swing, and there are unconfirmed…\"]"
      ]
     },
     "execution_count": 6,
     "metadata": {},
     "output_type": "execute_result"
    }
   ],
   "source": [
    "for i in title_tags:\n",
    "    \n",
    "    title=i.text\n",
    "    news_titles.append(title)\n",
    "news_titles[0:10]"
   ]
  },
  {
   "cell_type": "code",
   "execution_count": 7,
   "metadata": {},
   "outputs": [
    {
     "data": {
      "text/plain": [
       "[<selenium.webdriver.remote.webelement.WebElement (session=\"f31147ea079a6a6daa151ad4a1cf25f7\", element=\"1a31da59-dff5-49c3-bb68-b9a1535f15da\")>,\n",
       " <selenium.webdriver.remote.webelement.WebElement (session=\"f31147ea079a6a6daa151ad4a1cf25f7\", element=\"43222ab3-d1ee-4726-8a23-80ac0fcf826e\")>,\n",
       " <selenium.webdriver.remote.webelement.WebElement (session=\"f31147ea079a6a6daa151ad4a1cf25f7\", element=\"6360ded1-c4f6-44f0-b63a-d894cdc31af5\")>,\n",
       " <selenium.webdriver.remote.webelement.WebElement (session=\"f31147ea079a6a6daa151ad4a1cf25f7\", element=\"ae6c99e4-059e-40fa-8b93-32a8f99ce637\")>,\n",
       " <selenium.webdriver.remote.webelement.WebElement (session=\"f31147ea079a6a6daa151ad4a1cf25f7\", element=\"a76de645-3987-496b-8004-51671982cd3a\")>,\n",
       " <selenium.webdriver.remote.webelement.WebElement (session=\"f31147ea079a6a6daa151ad4a1cf25f7\", element=\"f9f7e3f9-b15b-41fb-91c3-e7d839e30ef1\")>,\n",
       " <selenium.webdriver.remote.webelement.WebElement (session=\"f31147ea079a6a6daa151ad4a1cf25f7\", element=\"c6a935c2-1cf6-4a1f-a6d9-b58618d91672\")>,\n",
       " <selenium.webdriver.remote.webelement.WebElement (session=\"f31147ea079a6a6daa151ad4a1cf25f7\", element=\"dd5968aa-d685-4146-90da-3252fc81cdd5\")>,\n",
       " <selenium.webdriver.remote.webelement.WebElement (session=\"f31147ea079a6a6daa151ad4a1cf25f7\", element=\"78e4987a-8f75-41e7-9fb1-1bc9f34aa86f\")>,\n",
       " <selenium.webdriver.remote.webelement.WebElement (session=\"f31147ea079a6a6daa151ad4a1cf25f7\", element=\"8bca2a9c-e0e1-4f22-b325-5af3b41516ed\")>]"
      ]
     },
     "execution_count": 7,
     "metadata": {},
     "output_type": "execute_result"
    }
   ],
   "source": [
    "date_tags=driver.find_elements_by_xpath(\"//span[@class='time']\")\n",
    "date_tags[0:10]"
   ]
  },
  {
   "cell_type": "code",
   "execution_count": 8,
   "metadata": {},
   "outputs": [
    {
     "data": {
      "text/plain": [
       "['Oct 14, 2016',\n",
       " 'Oct 14, 2016',\n",
       " 'Oct 14, 2016',\n",
       " 'Oct 14, 2016',\n",
       " 'Oct 14, 2016',\n",
       " 'Oct 14, 2016',\n",
       " 'Oct 14, 2016',\n",
       " 'Oct 14, 2016',\n",
       " 'Oct 14, 2016',\n",
       " 'Oct 14, 2016']"
      ]
     },
     "execution_count": 8,
     "metadata": {},
     "output_type": "execute_result"
    }
   ],
   "source": [
    "for i in date_tags:\n",
    "    \n",
    "    title=i.text\n",
    "    date.append(title)\n",
    "date[0:10]"
   ]
  },
  {
   "cell_type": "code",
   "execution_count": 9,
   "metadata": {},
   "outputs": [
    {
     "data": {
      "text/plain": [
       "[<selenium.webdriver.remote.webelement.WebElement (session=\"f31147ea079a6a6daa151ad4a1cf25f7\", element=\"26ab4687-09ff-4bb3-9fef-433bcea2f0ed\")>,\n",
       " <selenium.webdriver.remote.webelement.WebElement (session=\"f31147ea079a6a6daa151ad4a1cf25f7\", element=\"8c6c8c39-cae0-43a1-80df-a6be9a7308a4\")>,\n",
       " <selenium.webdriver.remote.webelement.WebElement (session=\"f31147ea079a6a6daa151ad4a1cf25f7\", element=\"88b995ee-bb92-4ca9-8f92-6006ebd277da\")>,\n",
       " <selenium.webdriver.remote.webelement.WebElement (session=\"f31147ea079a6a6daa151ad4a1cf25f7\", element=\"4f1fa644-529b-450a-9b35-c7b5b015c386\")>,\n",
       " <selenium.webdriver.remote.webelement.WebElement (session=\"f31147ea079a6a6daa151ad4a1cf25f7\", element=\"759a8623-b88a-4a29-ba1d-753bc0c315d2\")>,\n",
       " <selenium.webdriver.remote.webelement.WebElement (session=\"f31147ea079a6a6daa151ad4a1cf25f7\", element=\"da12c1a3-028d-42c7-9094-61427f1f5c72\")>,\n",
       " <selenium.webdriver.remote.webelement.WebElement (session=\"f31147ea079a6a6daa151ad4a1cf25f7\", element=\"720c1534-a740-471c-a65b-7fa57fc5c760\")>,\n",
       " <selenium.webdriver.remote.webelement.WebElement (session=\"f31147ea079a6a6daa151ad4a1cf25f7\", element=\"211f3318-63e5-4817-ae61-639bccd0cbaf\")>,\n",
       " <selenium.webdriver.remote.webelement.WebElement (session=\"f31147ea079a6a6daa151ad4a1cf25f7\", element=\"f3c51696-91a6-4673-8cc5-664ef726ba00\")>,\n",
       " <selenium.webdriver.remote.webelement.WebElement (session=\"f31147ea079a6a6daa151ad4a1cf25f7\", element=\"d8d031ef-23ee-4c34-8e0f-88f2ce74090b\")>]"
      ]
     },
     "execution_count": 9,
     "metadata": {},
     "output_type": "execute_result"
    }
   ],
   "source": [
    "desc_tags=driver.find_elements_by_xpath(\"//div[@class='post-summary']\")\n",
    "desc_tags[0:10]"
   ]
  },
  {
   "cell_type": "code",
   "execution_count": 10,
   "metadata": {},
   "outputs": [
    {
     "data": {
      "text/plain": [
       "['Dhaka,  Bangladesh today rolled out the red carpet for Chinese President Xi Jinping who arrived on a two-day state visit, the…',\n",
       " 'Thiruvananthapuram: As we indicated, EP has quit over the nepotism charges against him. The Kerala industries minister  EP…',\n",
       " 'Tech giant Samsung is planning on launching its A8 device in India towards the end of this year. With hardly any time left for its…',\n",
       " 'KOLKATA: When the BCCI Special General Meeting (SGM) is held in Delhi on Saturday, chances are board members will reject most of…',\n",
       " 'NEW DELHI: Union Human Resource and Development (HRD) Minister Prakash Javadekar and National Conference leader Omar Abdullah…',\n",
       " 'NEW DELHI: With accompanying air pollution and the festival of Diwali around the corner, the Delhi government has written to the…',\n",
       " 'CHENNAI: Chennai Metro opened the 1.28km stretch from Alandur to St Thomas Mount today thus making the entire elevated stretch…',\n",
       " 'BERLIN: German Chancellor Angela Merkel on Friday wraps up a week of Africa diplomacy aimed at slowing the flow of migrants to…',\n",
       " \"Director Lal Jose had earlier told us that his next film will have Dulquer Salmaan as the hero. The film has a name now — 'Oru…\",\n",
       " \"The shooting of Chiranjeevi's much-awaited comeback film,Khaidi No 150, has been on in full swing, and there are unconfirmed…\"]"
      ]
     },
     "execution_count": 10,
     "metadata": {},
     "output_type": "execute_result"
    }
   ],
   "source": [
    "for i in desc_tags:\n",
    "    \n",
    "    title=i.text\n",
    "    description.append(title)\n",
    "description[0:10]"
   ]
  },
  {
   "cell_type": "code",
   "execution_count": 11,
   "metadata": {},
   "outputs": [
    {
     "name": "stdout",
     "output_type": "stream",
     "text": [
      "10 10 10\n"
     ]
    }
   ],
   "source": [
    "print(len(news_titles),len(date),len(description))"
   ]
  },
  {
   "cell_type": "code",
   "execution_count": 12,
   "metadata": {},
   "outputs": [],
   "source": [
    "import pandas as pd\n",
    "news=pd.DataFrame({})\n",
    "news['title']=news_titles[0:10]\n",
    "news['date']=date[0:10]\n",
    "news['description']=description[0:10]"
   ]
  },
  {
   "cell_type": "code",
   "execution_count": 13,
   "metadata": {},
   "outputs": [
    {
     "data": {
      "text/html": [
       "<div>\n",
       "<style scoped>\n",
       "    .dataframe tbody tr th:only-of-type {\n",
       "        vertical-align: middle;\n",
       "    }\n",
       "\n",
       "    .dataframe tbody tr th {\n",
       "        vertical-align: top;\n",
       "    }\n",
       "\n",
       "    .dataframe thead th {\n",
       "        text-align: right;\n",
       "    }\n",
       "</style>\n",
       "<table border=\"1\" class=\"dataframe\">\n",
       "  <thead>\n",
       "    <tr style=\"text-align: right;\">\n",
       "      <th></th>\n",
       "      <th>title</th>\n",
       "      <th>date</th>\n",
       "      <th>description</th>\n",
       "    </tr>\n",
       "  </thead>\n",
       "  <tbody>\n",
       "    <tr>\n",
       "      <th>0</th>\n",
       "      <td>Bangladesh rolls out red carpet for Xi\\nEBM Ne...</td>\n",
       "      <td>Oct 14, 2016</td>\n",
       "      <td>Dhaka,  Bangladesh today rolled out the red ca...</td>\n",
       "    </tr>\n",
       "    <tr>\n",
       "      <th>1</th>\n",
       "      <td>EP WATCH: Kerala Industries Minister EP Jayara...</td>\n",
       "      <td>Oct 14, 2016</td>\n",
       "      <td>Thiruvananthapuram: As we indicated, EP has qu...</td>\n",
       "    </tr>\n",
       "    <tr>\n",
       "      <th>2</th>\n",
       "      <td>Samsung Galaxy A8 price leaks ahead of India l...</td>\n",
       "      <td>Oct 14, 2016</td>\n",
       "      <td>Tech giant Samsung is planning on launching it...</td>\n",
       "    </tr>\n",
       "    <tr>\n",
       "      <th>3</th>\n",
       "      <td>Vexed BCCI mandarins brace for SGM ahead of SC...</td>\n",
       "      <td>Oct 14, 2016</td>\n",
       "      <td>KOLKATA: When the BCCI Special General Meeting...</td>\n",
       "    </tr>\n",
       "    <tr>\n",
       "      <th>4</th>\n",
       "      <td>IIM at Jammu: Javadekar, Omar lock horns\\nEBM ...</td>\n",
       "      <td>Oct 14, 2016</td>\n",
       "      <td>NEW DELHI: Union Human Resource and Developmen...</td>\n",
       "    </tr>\n",
       "    <tr>\n",
       "      <th>5</th>\n",
       "      <td>Pollution alert: Delhi government kicks into a...</td>\n",
       "      <td>Oct 14, 2016</td>\n",
       "      <td>NEW DELHI: With accompanying air pollution and...</td>\n",
       "    </tr>\n",
       "    <tr>\n",
       "      <th>6</th>\n",
       "      <td>Chennai Metro opens 1.28km stretch from Alandu...</td>\n",
       "      <td>Oct 14, 2016</td>\n",
       "      <td>CHENNAI: Chennai Metro opened the 1.28km stret...</td>\n",
       "    </tr>\n",
       "    <tr>\n",
       "      <th>7</th>\n",
       "      <td>Merkel turns to Africa to curb mass migrant fl...</td>\n",
       "      <td>Oct 14, 2016</td>\n",
       "      <td>BERLIN: German Chancellor Angela Merkel on Fri...</td>\n",
       "    </tr>\n",
       "    <tr>\n",
       "      <th>8</th>\n",
       "      <td>Dulquer’s ‘Oru Bhayankara Kamukan’ is an enter...</td>\n",
       "      <td>Oct 14, 2016</td>\n",
       "      <td>Director Lal Jose had earlier told us that his...</td>\n",
       "    </tr>\n",
       "    <tr>\n",
       "      <th>9</th>\n",
       "      <td>Raai Laxmi to shake a leg with Chiru\\nEBM News...</td>\n",
       "      <td>Oct 14, 2016</td>\n",
       "      <td>The shooting of Chiranjeevi's much-awaited com...</td>\n",
       "    </tr>\n",
       "  </tbody>\n",
       "</table>\n",
       "</div>"
      ],
      "text/plain": [
       "                                               title          date  \\\n",
       "0  Bangladesh rolls out red carpet for Xi\\nEBM Ne...  Oct 14, 2016   \n",
       "1  EP WATCH: Kerala Industries Minister EP Jayara...  Oct 14, 2016   \n",
       "2  Samsung Galaxy A8 price leaks ahead of India l...  Oct 14, 2016   \n",
       "3  Vexed BCCI mandarins brace for SGM ahead of SC...  Oct 14, 2016   \n",
       "4  IIM at Jammu: Javadekar, Omar lock horns\\nEBM ...  Oct 14, 2016   \n",
       "5  Pollution alert: Delhi government kicks into a...  Oct 14, 2016   \n",
       "6  Chennai Metro opens 1.28km stretch from Alandu...  Oct 14, 2016   \n",
       "7  Merkel turns to Africa to curb mass migrant fl...  Oct 14, 2016   \n",
       "8  Dulquer’s ‘Oru Bhayankara Kamukan’ is an enter...  Oct 14, 2016   \n",
       "9  Raai Laxmi to shake a leg with Chiru\\nEBM News...  Oct 14, 2016   \n",
       "\n",
       "                                         description  \n",
       "0  Dhaka,  Bangladesh today rolled out the red ca...  \n",
       "1  Thiruvananthapuram: As we indicated, EP has qu...  \n",
       "2  Tech giant Samsung is planning on launching it...  \n",
       "3  KOLKATA: When the BCCI Special General Meeting...  \n",
       "4  NEW DELHI: Union Human Resource and Developmen...  \n",
       "5  NEW DELHI: With accompanying air pollution and...  \n",
       "6  CHENNAI: Chennai Metro opened the 1.28km stret...  \n",
       "7  BERLIN: German Chancellor Angela Merkel on Fri...  \n",
       "8  Director Lal Jose had earlier told us that his...  \n",
       "9  The shooting of Chiranjeevi's much-awaited com...  "
      ]
     },
     "execution_count": 13,
     "metadata": {},
     "output_type": "execute_result"
    }
   ],
   "source": [
    "news"
   ]
  },
  {
   "cell_type": "code",
   "execution_count": null,
   "metadata": {},
   "outputs": [],
   "source": []
  }
 ],
 "metadata": {
  "kernelspec": {
   "display_name": "Python 3",
   "language": "python",
   "name": "python3"
  },
  "language_info": {
   "codemirror_mode": {
    "name": "ipython",
    "version": 3
   },
   "file_extension": ".py",
   "mimetype": "text/x-python",
   "name": "python",
   "nbconvert_exporter": "python",
   "pygments_lexer": "ipython3",
   "version": "3.7.6"
  }
 },
 "nbformat": 4,
 "nbformat_minor": 4
}
