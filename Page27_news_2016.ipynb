{
 "cells": [
  {
   "cell_type": "code",
   "execution_count": 1,
   "metadata": {},
   "outputs": [],
   "source": [
    "import selenium"
   ]
  },
  {
   "cell_type": "code",
   "execution_count": 2,
   "metadata": {},
   "outputs": [],
   "source": [
    "import pandas as pd\n",
    "from selenium import webdriver"
   ]
  },
  {
   "cell_type": "code",
   "execution_count": 3,
   "metadata": {},
   "outputs": [],
   "source": [
    "driver=webdriver.Chrome(\"C:\\chromedriver.exe\")"
   ]
  },
  {
   "cell_type": "code",
   "execution_count": 4,
   "metadata": {},
   "outputs": [],
   "source": [
    "driver.get('https://www.ebmnews.com/2016/page/27/')"
   ]
  },
  {
   "cell_type": "code",
   "execution_count": 5,
   "metadata": {},
   "outputs": [],
   "source": [
    "news_titles=[]\n",
    "date=[]\n",
    "description=[]"
   ]
  },
  {
   "cell_type": "code",
   "execution_count": 6,
   "metadata": {},
   "outputs": [
    {
     "data": {
      "text/plain": [
       "[<selenium.webdriver.remote.webelement.WebElement (session=\"161e27dec69a292bb4904abca65afec9\", element=\"3ab903d0-57b4-4e35-96b1-8b295ca0cffe\")>,\n",
       " <selenium.webdriver.remote.webelement.WebElement (session=\"161e27dec69a292bb4904abca65afec9\", element=\"3d1cad3f-72bb-4cbf-a847-fb1437f0f473\")>,\n",
       " <selenium.webdriver.remote.webelement.WebElement (session=\"161e27dec69a292bb4904abca65afec9\", element=\"be5e73ab-c96b-4f9f-a394-2595b5619e8d\")>,\n",
       " <selenium.webdriver.remote.webelement.WebElement (session=\"161e27dec69a292bb4904abca65afec9\", element=\"8b6a5d13-2ed0-4df4-a273-d4a46869199b\")>,\n",
       " <selenium.webdriver.remote.webelement.WebElement (session=\"161e27dec69a292bb4904abca65afec9\", element=\"2457b943-8f67-4e42-88b0-c8206f8b5280\")>,\n",
       " <selenium.webdriver.remote.webelement.WebElement (session=\"161e27dec69a292bb4904abca65afec9\", element=\"b680f250-cbb8-4839-809a-738edcdc3a5e\")>,\n",
       " <selenium.webdriver.remote.webelement.WebElement (session=\"161e27dec69a292bb4904abca65afec9\", element=\"4a9546ad-c84b-4d72-a1d6-4623028c970f\")>,\n",
       " <selenium.webdriver.remote.webelement.WebElement (session=\"161e27dec69a292bb4904abca65afec9\", element=\"3b9cae6a-de77-46f5-ae5e-1bb3e0644d03\")>,\n",
       " <selenium.webdriver.remote.webelement.WebElement (session=\"161e27dec69a292bb4904abca65afec9\", element=\"830ea36c-0874-4a13-8956-71c19391d1ad\")>,\n",
       " <selenium.webdriver.remote.webelement.WebElement (session=\"161e27dec69a292bb4904abca65afec9\", element=\"0e2d6294-dc57-4831-82c0-92aa2c8181ad\")>]"
      ]
     },
     "execution_count": 6,
     "metadata": {},
     "output_type": "execute_result"
    }
   ],
   "source": [
    "title_tags=driver.find_elements_by_xpath(\"//div[@class='item-inner clearfix']\")\n",
    "title_tags[0:10]"
   ]
  },
  {
   "cell_type": "code",
   "execution_count": 7,
   "metadata": {},
   "outputs": [
    {
     "data": {
      "text/plain": [
       "['BJP, media wrongly attributed words to Kejriwal: Sisodia\\nEBM News English Oct 5, 2016\\nPanaji, AAP leader Manish Sisodia today alleged that BJP and the media attributed words to Delhi Chief Arvind Kejriwal which he…',\n",
       " \"Pak actor Fawad Khan, wife welcome second child\\nEBM News English Oct 5, 2016\\nLahore, Actor Fawad Khan and wife Sadaf have been blessed with a baby girl, their second child together. Fawad's manager Hassan…\",\n",
       " 'Mike Pence, Tim Kaine face off in vice presidential debate\\nEBM News English Oct 5, 2016\\nVIRGINIA: Virginia Senator Tim Kaine, the running mate of Democratic presidential nominee Hillary Clinton, and his Republican…',\n",
       " 'Modi chairs meeting of Cabinet Committee on Security to discuss situation on border\\nEBM News English Oct 5, 2016\\nNEW DELHI: Prime Minister Narendra Modi today chaired a meeting of the Cabinet Committee on Security (CCS) to discuss the security…',\n",
       " 'Banks, don’t let us down; home and vehicle loans could get cheaper\\nEBM News English Oct 5, 2016\\nCHENNAI/NEW DELHI:The Reserve Bank of India cut the rate at which it lends money to banks by 25 basis points, taking the interest…',\n",
       " \"Rajinikanth on the sets of Shankar’s 2.o\\nEBM News English Oct 5, 2016\\nThe shoot of Superstar Rajinikanth's upcoming film, '2.o' (sequel to Endhiran), is going on at a brisk pace. Also starringAmy…\",\n",
       " 'Provisional certificate valid till degree is issued: HC\\nEBM News English Oct 5, 2016\\nNew Delhi,  Provisional certificate issued by a varsity continues to be valid till a degree is issued, Delhi High Court has said…',\n",
       " 'I will always be tagged as a new-gen actor: Asif Ali\\nEBM News English Oct 5, 2016\\nust when the audiences thinkAsif Ali is going through a low phase in his career, he bounces back and delivers a solid hit, like…',\n",
       " 'Automation threatens 69 per cent jobs in India: WB\\nEBM News English Oct 5, 2016\\nWashington,  Automation threatens 69 per cent of the jobs in India, while 77 per cent in China, according to a World Bank research…',\n",
       " 'Paris climate deal would come into force much earlier: Obama\\nEBM News English Oct 5, 2016\\nWashington,  US President Barack Obama has said the Paris climate deal would come into force much earlier than previously…']"
      ]
     },
     "execution_count": 7,
     "metadata": {},
     "output_type": "execute_result"
    }
   ],
   "source": [
    "for i in title_tags:\n",
    "    \n",
    "    title=i.text\n",
    "    news_titles.append(title)\n",
    "news_titles[0:10]"
   ]
  },
  {
   "cell_type": "code",
   "execution_count": 8,
   "metadata": {},
   "outputs": [
    {
     "data": {
      "text/plain": [
       "[<selenium.webdriver.remote.webelement.WebElement (session=\"161e27dec69a292bb4904abca65afec9\", element=\"f3c1651f-9d89-42d1-aaa1-810a05607ff0\")>,\n",
       " <selenium.webdriver.remote.webelement.WebElement (session=\"161e27dec69a292bb4904abca65afec9\", element=\"81d1f120-ba66-45bb-a3f9-952f5d637182\")>,\n",
       " <selenium.webdriver.remote.webelement.WebElement (session=\"161e27dec69a292bb4904abca65afec9\", element=\"ffca4223-a9f8-406e-bd8d-d34de7113abd\")>,\n",
       " <selenium.webdriver.remote.webelement.WebElement (session=\"161e27dec69a292bb4904abca65afec9\", element=\"5e0c693a-a3d2-44b6-bc3a-9aaeb69af92b\")>,\n",
       " <selenium.webdriver.remote.webelement.WebElement (session=\"161e27dec69a292bb4904abca65afec9\", element=\"a7331733-63aa-45a6-bfa4-df7d401a8bc9\")>,\n",
       " <selenium.webdriver.remote.webelement.WebElement (session=\"161e27dec69a292bb4904abca65afec9\", element=\"50340ba9-334c-4d19-b967-3b42ac29390e\")>,\n",
       " <selenium.webdriver.remote.webelement.WebElement (session=\"161e27dec69a292bb4904abca65afec9\", element=\"f36a849b-7952-41e9-9a54-dbe9130c5960\")>,\n",
       " <selenium.webdriver.remote.webelement.WebElement (session=\"161e27dec69a292bb4904abca65afec9\", element=\"04fd96e5-ecbc-4b00-a770-77ab8d0da482\")>,\n",
       " <selenium.webdriver.remote.webelement.WebElement (session=\"161e27dec69a292bb4904abca65afec9\", element=\"040bdf48-5bbb-4880-ba7f-20cf448601f3\")>,\n",
       " <selenium.webdriver.remote.webelement.WebElement (session=\"161e27dec69a292bb4904abca65afec9\", element=\"3a2aece6-691e-4e7e-b0f9-d1a3e3a813be\")>]"
      ]
     },
     "execution_count": 8,
     "metadata": {},
     "output_type": "execute_result"
    }
   ],
   "source": [
    "date_tags=driver.find_elements_by_xpath(\"//span[@class='time']\")\n",
    "date_tags[0:10]"
   ]
  },
  {
   "cell_type": "code",
   "execution_count": 9,
   "metadata": {},
   "outputs": [
    {
     "data": {
      "text/plain": [
       "['Oct 5, 2016',\n",
       " 'Oct 5, 2016',\n",
       " 'Oct 5, 2016',\n",
       " 'Oct 5, 2016',\n",
       " 'Oct 5, 2016',\n",
       " 'Oct 5, 2016',\n",
       " 'Oct 5, 2016',\n",
       " 'Oct 5, 2016',\n",
       " 'Oct 5, 2016',\n",
       " 'Oct 5, 2016']"
      ]
     },
     "execution_count": 9,
     "metadata": {},
     "output_type": "execute_result"
    }
   ],
   "source": [
    "for i in date_tags:\n",
    "    \n",
    "    title=i.text\n",
    "    date.append(title)\n",
    "date[0:10]"
   ]
  },
  {
   "cell_type": "code",
   "execution_count": 10,
   "metadata": {},
   "outputs": [
    {
     "data": {
      "text/plain": [
       "[<selenium.webdriver.remote.webelement.WebElement (session=\"161e27dec69a292bb4904abca65afec9\", element=\"41b392d4-7f90-4d62-a67c-01499494ffbf\")>,\n",
       " <selenium.webdriver.remote.webelement.WebElement (session=\"161e27dec69a292bb4904abca65afec9\", element=\"50eeaa51-ff4a-4f3c-b190-506da70f66c2\")>,\n",
       " <selenium.webdriver.remote.webelement.WebElement (session=\"161e27dec69a292bb4904abca65afec9\", element=\"0ddea91e-3823-43f0-ba91-25a603656949\")>,\n",
       " <selenium.webdriver.remote.webelement.WebElement (session=\"161e27dec69a292bb4904abca65afec9\", element=\"e55459be-1ed4-41ce-8157-1199b93dad9c\")>,\n",
       " <selenium.webdriver.remote.webelement.WebElement (session=\"161e27dec69a292bb4904abca65afec9\", element=\"ed02290f-a1cb-46be-88e4-bee032773f89\")>,\n",
       " <selenium.webdriver.remote.webelement.WebElement (session=\"161e27dec69a292bb4904abca65afec9\", element=\"1003e8ab-eac3-423b-be9b-938292616b0f\")>,\n",
       " <selenium.webdriver.remote.webelement.WebElement (session=\"161e27dec69a292bb4904abca65afec9\", element=\"28bd24a6-d745-43c3-ba2b-624e1d46b2cc\")>,\n",
       " <selenium.webdriver.remote.webelement.WebElement (session=\"161e27dec69a292bb4904abca65afec9\", element=\"fabf505d-14e4-4199-8337-562aa6f10be3\")>,\n",
       " <selenium.webdriver.remote.webelement.WebElement (session=\"161e27dec69a292bb4904abca65afec9\", element=\"a1421dd6-ea0c-469a-8798-01b486727ac3\")>,\n",
       " <selenium.webdriver.remote.webelement.WebElement (session=\"161e27dec69a292bb4904abca65afec9\", element=\"b931be2c-d6bf-49c2-a952-e85eb3650b35\")>]"
      ]
     },
     "execution_count": 10,
     "metadata": {},
     "output_type": "execute_result"
    }
   ],
   "source": [
    "desc_tags=driver.find_elements_by_xpath(\"//div[@class='post-summary']\")\n",
    "desc_tags[0:10]"
   ]
  },
  {
   "cell_type": "code",
   "execution_count": 11,
   "metadata": {},
   "outputs": [
    {
     "data": {
      "text/plain": [
       "['Panaji, AAP leader Manish Sisodia today alleged that BJP and the media attributed words to Delhi Chief Arvind Kejriwal which he…',\n",
       " \"Lahore, Actor Fawad Khan and wife Sadaf have been blessed with a baby girl, their second child together. Fawad's manager Hassan…\",\n",
       " 'VIRGINIA: Virginia Senator Tim Kaine, the running mate of Democratic presidential nominee Hillary Clinton, and his Republican…',\n",
       " 'NEW DELHI: Prime Minister Narendra Modi today chaired a meeting of the Cabinet Committee on Security (CCS) to discuss the security…',\n",
       " 'CHENNAI/NEW DELHI:The Reserve Bank of India cut the rate at which it lends money to banks by 25 basis points, taking the interest…',\n",
       " \"The shoot of Superstar Rajinikanth's upcoming film, '2.o' (sequel to Endhiran), is going on at a brisk pace. Also starringAmy…\",\n",
       " 'New Delhi,  Provisional certificate issued by a varsity continues to be valid till a degree is issued, Delhi High Court has said…',\n",
       " 'ust when the audiences thinkAsif Ali is going through a low phase in his career, he bounces back and delivers a solid hit, like…',\n",
       " 'Washington,  Automation threatens 69 per cent of the jobs in India, while 77 per cent in China, according to a World Bank research…',\n",
       " 'Washington,  US President Barack Obama has said the Paris climate deal would come into force much earlier than previously…']"
      ]
     },
     "execution_count": 11,
     "metadata": {},
     "output_type": "execute_result"
    }
   ],
   "source": [
    "for i in desc_tags:\n",
    "    \n",
    "    title=i.text\n",
    "    description.append(title)\n",
    "description[0:10]"
   ]
  },
  {
   "cell_type": "code",
   "execution_count": 12,
   "metadata": {},
   "outputs": [
    {
     "name": "stdout",
     "output_type": "stream",
     "text": [
      "10 10 10\n"
     ]
    }
   ],
   "source": [
    "print(len(news_titles),len(date),len(description))"
   ]
  },
  {
   "cell_type": "code",
   "execution_count": 13,
   "metadata": {},
   "outputs": [],
   "source": [
    "import pandas as pd\n",
    "news=pd.DataFrame({})\n",
    "news['title']=news_titles[0:10]\n",
    "news['date']=date[0:10]\n",
    "news['desc']=description[0:10]"
   ]
  },
  {
   "cell_type": "code",
   "execution_count": 14,
   "metadata": {},
   "outputs": [
    {
     "data": {
      "text/html": [
       "<div>\n",
       "<style scoped>\n",
       "    .dataframe tbody tr th:only-of-type {\n",
       "        vertical-align: middle;\n",
       "    }\n",
       "\n",
       "    .dataframe tbody tr th {\n",
       "        vertical-align: top;\n",
       "    }\n",
       "\n",
       "    .dataframe thead th {\n",
       "        text-align: right;\n",
       "    }\n",
       "</style>\n",
       "<table border=\"1\" class=\"dataframe\">\n",
       "  <thead>\n",
       "    <tr style=\"text-align: right;\">\n",
       "      <th></th>\n",
       "      <th>title</th>\n",
       "      <th>date</th>\n",
       "      <th>desc</th>\n",
       "    </tr>\n",
       "  </thead>\n",
       "  <tbody>\n",
       "    <tr>\n",
       "      <th>0</th>\n",
       "      <td>BJP, media wrongly attributed words to Kejriwa...</td>\n",
       "      <td>Oct 5, 2016</td>\n",
       "      <td>Panaji, AAP leader Manish Sisodia today allege...</td>\n",
       "    </tr>\n",
       "    <tr>\n",
       "      <th>1</th>\n",
       "      <td>Pak actor Fawad Khan, wife welcome second chil...</td>\n",
       "      <td>Oct 5, 2016</td>\n",
       "      <td>Lahore, Actor Fawad Khan and wife Sadaf have b...</td>\n",
       "    </tr>\n",
       "    <tr>\n",
       "      <th>2</th>\n",
       "      <td>Mike Pence, Tim Kaine face off in vice preside...</td>\n",
       "      <td>Oct 5, 2016</td>\n",
       "      <td>VIRGINIA: Virginia Senator Tim Kaine, the runn...</td>\n",
       "    </tr>\n",
       "    <tr>\n",
       "      <th>3</th>\n",
       "      <td>Modi chairs meeting of Cabinet Committee on Se...</td>\n",
       "      <td>Oct 5, 2016</td>\n",
       "      <td>NEW DELHI: Prime Minister Narendra Modi today ...</td>\n",
       "    </tr>\n",
       "    <tr>\n",
       "      <th>4</th>\n",
       "      <td>Banks, don’t let us down; home and vehicle loa...</td>\n",
       "      <td>Oct 5, 2016</td>\n",
       "      <td>CHENNAI/NEW DELHI:The Reserve Bank of India cu...</td>\n",
       "    </tr>\n",
       "    <tr>\n",
       "      <th>5</th>\n",
       "      <td>Rajinikanth on the sets of Shankar’s 2.o\\nEBM ...</td>\n",
       "      <td>Oct 5, 2016</td>\n",
       "      <td>The shoot of Superstar Rajinikanth's upcoming ...</td>\n",
       "    </tr>\n",
       "    <tr>\n",
       "      <th>6</th>\n",
       "      <td>Provisional certificate valid till degree is i...</td>\n",
       "      <td>Oct 5, 2016</td>\n",
       "      <td>New Delhi,  Provisional certificate issued by ...</td>\n",
       "    </tr>\n",
       "    <tr>\n",
       "      <th>7</th>\n",
       "      <td>I will always be tagged as a new-gen actor: As...</td>\n",
       "      <td>Oct 5, 2016</td>\n",
       "      <td>ust when the audiences thinkAsif Ali is going ...</td>\n",
       "    </tr>\n",
       "    <tr>\n",
       "      <th>8</th>\n",
       "      <td>Automation threatens 69 per cent jobs in India...</td>\n",
       "      <td>Oct 5, 2016</td>\n",
       "      <td>Washington,  Automation threatens 69 per cent ...</td>\n",
       "    </tr>\n",
       "    <tr>\n",
       "      <th>9</th>\n",
       "      <td>Paris climate deal would come into force much ...</td>\n",
       "      <td>Oct 5, 2016</td>\n",
       "      <td>Washington,  US President Barack Obama has sai...</td>\n",
       "    </tr>\n",
       "  </tbody>\n",
       "</table>\n",
       "</div>"
      ],
      "text/plain": [
       "                                               title         date  \\\n",
       "0  BJP, media wrongly attributed words to Kejriwa...  Oct 5, 2016   \n",
       "1  Pak actor Fawad Khan, wife welcome second chil...  Oct 5, 2016   \n",
       "2  Mike Pence, Tim Kaine face off in vice preside...  Oct 5, 2016   \n",
       "3  Modi chairs meeting of Cabinet Committee on Se...  Oct 5, 2016   \n",
       "4  Banks, don’t let us down; home and vehicle loa...  Oct 5, 2016   \n",
       "5  Rajinikanth on the sets of Shankar’s 2.o\\nEBM ...  Oct 5, 2016   \n",
       "6  Provisional certificate valid till degree is i...  Oct 5, 2016   \n",
       "7  I will always be tagged as a new-gen actor: As...  Oct 5, 2016   \n",
       "8  Automation threatens 69 per cent jobs in India...  Oct 5, 2016   \n",
       "9  Paris climate deal would come into force much ...  Oct 5, 2016   \n",
       "\n",
       "                                                desc  \n",
       "0  Panaji, AAP leader Manish Sisodia today allege...  \n",
       "1  Lahore, Actor Fawad Khan and wife Sadaf have b...  \n",
       "2  VIRGINIA: Virginia Senator Tim Kaine, the runn...  \n",
       "3  NEW DELHI: Prime Minister Narendra Modi today ...  \n",
       "4  CHENNAI/NEW DELHI:The Reserve Bank of India cu...  \n",
       "5  The shoot of Superstar Rajinikanth's upcoming ...  \n",
       "6  New Delhi,  Provisional certificate issued by ...  \n",
       "7  ust when the audiences thinkAsif Ali is going ...  \n",
       "8  Washington,  Automation threatens 69 per cent ...  \n",
       "9  Washington,  US President Barack Obama has sai...  "
      ]
     },
     "execution_count": 14,
     "metadata": {},
     "output_type": "execute_result"
    }
   ],
   "source": [
    "news"
   ]
  },
  {
   "cell_type": "code",
   "execution_count": null,
   "metadata": {},
   "outputs": [],
   "source": []
  }
 ],
 "metadata": {
  "kernelspec": {
   "display_name": "Python 3",
   "language": "python",
   "name": "python3"
  },
  "language_info": {
   "codemirror_mode": {
    "name": "ipython",
    "version": 3
   },
   "file_extension": ".py",
   "mimetype": "text/x-python",
   "name": "python",
   "nbconvert_exporter": "python",
   "pygments_lexer": "ipython3",
   "version": "3.7.6"
  }
 },
 "nbformat": 4,
 "nbformat_minor": 4
}
