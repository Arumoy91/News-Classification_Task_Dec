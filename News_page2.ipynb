{
 "cells": [
  {
   "cell_type": "code",
   "execution_count": 1,
   "metadata": {},
   "outputs": [],
   "source": [
    "import selenium"
   ]
  },
  {
   "cell_type": "code",
   "execution_count": 2,
   "metadata": {},
   "outputs": [],
   "source": [
    "import pandas as pd\n",
    "from selenium import webdriver"
   ]
  },
  {
   "cell_type": "code",
   "execution_count": 3,
   "metadata": {},
   "outputs": [],
   "source": [
    "driver=webdriver.Chrome(\"C:\\chromedriver.exe\")"
   ]
  },
  {
   "cell_type": "code",
   "execution_count": 4,
   "metadata": {},
   "outputs": [],
   "source": [
    "driver.get('https://www.ebmnews.com/2015/page/2/')"
   ]
  },
  {
   "cell_type": "code",
   "execution_count": 5,
   "metadata": {},
   "outputs": [],
   "source": [
    "news_titles=[]\n",
    "date=[]\n",
    "description=[]"
   ]
  },
  {
   "cell_type": "code",
   "execution_count": 6,
   "metadata": {},
   "outputs": [
    {
     "data": {
      "text/plain": [
       "[<selenium.webdriver.remote.webelement.WebElement (session=\"56f8040dee2057b71c4e686c1e74668e\", element=\"794fd2fb-4190-4be6-9b38-6565bc3bbfd5\")>,\n",
       " <selenium.webdriver.remote.webelement.WebElement (session=\"56f8040dee2057b71c4e686c1e74668e\", element=\"3e88bd95-b79e-45de-8edf-cff6446d1744\")>,\n",
       " <selenium.webdriver.remote.webelement.WebElement (session=\"56f8040dee2057b71c4e686c1e74668e\", element=\"d1b7ef27-9768-4ed6-96fc-e132629fdc99\")>,\n",
       " <selenium.webdriver.remote.webelement.WebElement (session=\"56f8040dee2057b71c4e686c1e74668e\", element=\"ec27c110-72a2-4e0f-a179-f0be1e84ffd5\")>,\n",
       " <selenium.webdriver.remote.webelement.WebElement (session=\"56f8040dee2057b71c4e686c1e74668e\", element=\"42d65e72-1ccd-4a69-b583-37a8cfcef580\")>,\n",
       " <selenium.webdriver.remote.webelement.WebElement (session=\"56f8040dee2057b71c4e686c1e74668e\", element=\"481b59e7-b0a7-487a-9d23-c26a43298e69\")>,\n",
       " <selenium.webdriver.remote.webelement.WebElement (session=\"56f8040dee2057b71c4e686c1e74668e\", element=\"4a35b602-4649-470b-ba6b-3676788879e3\")>,\n",
       " <selenium.webdriver.remote.webelement.WebElement (session=\"56f8040dee2057b71c4e686c1e74668e\", element=\"e61878a8-1f3c-4a1a-9930-3bfda67e99b1\")>,\n",
       " <selenium.webdriver.remote.webelement.WebElement (session=\"56f8040dee2057b71c4e686c1e74668e\", element=\"98959d22-578c-4f04-8535-5e01f2697e2c\")>,\n",
       " <selenium.webdriver.remote.webelement.WebElement (session=\"56f8040dee2057b71c4e686c1e74668e\", element=\"6dcb1355-daeb-4faa-b9e2-3989f1593b7c\")>]"
      ]
     },
     "execution_count": 6,
     "metadata": {},
     "output_type": "execute_result"
    }
   ],
   "source": [
    "title_tags=driver.find_elements_by_xpath(\"//div[@class='item-inner clearfix']\")\n",
    "title_tags[0:10]"
   ]
  },
  {
   "cell_type": "code",
   "execution_count": 7,
   "metadata": {},
   "outputs": [
    {
     "data": {
      "text/plain": [
       "[\"Haryana minister Anil Vij gets into ugly spat with woman police officer\\nEBM News English Nov 28, 2015\\nFatehabad: Haryana's health minister Anil Vij was on Friday involved in an ugly confrontation with a woman district police chief…\",\n",
       " 'Leona’s Kakkothi avatar\\nEBM News English Nov 28, 2015\\nSkipping the usual glamorous roles that model-turned actresses usually don, Leona Lishoy will be seen in a street-dweller’s avatar…',\n",
       " 'Vikram-Nayanthara’s next to be titled Mareesan\\nEBM News English Nov 28, 2015\\nThe new film helmed by Anand Shankar of Arima Nambi fame would have Vikram and Nayanthara pairing up for the first time. Now, if…',\n",
       " \"Check out Amitabh Bachchan’s new look in ‘Te3n’\\nEBM News English Nov 28, 2015\\nMumbai: Amitabh Bachchan, Nawazuddin Siddhiqui and Vidya Balan were snapped shooting for 'Te3n' at Rabindra Sarobar lake in…\",\n",
       " 'Tamannaah’s in a good place again\\nEBM News English Nov 28, 2015\\nShe might have had a bit of a rocky start in Bollywood with Himmatwala and Humshakals, but things are looking good again for…',\n",
       " '3 killed, 9 hurt in attack on Colorado clinic\\nEBM News English Nov 28, 2015\\nNew York: A suspected gunman is in custody after he stormed the offices of a Planned Parenthood abortion clinic in Colorado and…',\n",
       " 'Love playing in India, says Martina Navratilova\\nEBM News English Nov 28, 2015\\nNew Delhi: It was a evening to remember at the DLTA complex in the capital on Friday. The four stars — Leander Paes, Mahesh…',\n",
       " 'Federation Cup to return from 2016\\nEBM News English Nov 28, 2015\\nNew Delhi: The All India Football Federation on Friday said it had decided at its executive committee meeting here on the day to…',\n",
       " 'Now, UP lab finds Nestle’s pasta unsafe\\nEBM News English Nov 28, 2015\\n\"After Maggi, the sample of macroni pasta was taken from Mau and sent to National Food Analysis Laboratory, Lucknow in which the…',\n",
       " 'Microsoft’s Gates to start multi-billion-dollar clean tech initiative\\nEBM News English Nov 28, 2015\\nNew York: Microsoft co-founder Bill Gates will launch a multi-billion-dollar clean energy research and development initiative with…']"
      ]
     },
     "execution_count": 7,
     "metadata": {},
     "output_type": "execute_result"
    }
   ],
   "source": [
    "for i in title_tags:\n",
    "    \n",
    "    title=i.text\n",
    "    news_titles.append(title)\n",
    "news_titles[0:10]"
   ]
  },
  {
   "cell_type": "code",
   "execution_count": 8,
   "metadata": {},
   "outputs": [
    {
     "data": {
      "text/plain": [
       "[<selenium.webdriver.remote.webelement.WebElement (session=\"56f8040dee2057b71c4e686c1e74668e\", element=\"ac22b267-a446-40e9-a01e-fc35162c70e2\")>,\n",
       " <selenium.webdriver.remote.webelement.WebElement (session=\"56f8040dee2057b71c4e686c1e74668e\", element=\"4cf2ca38-881d-47f4-ab5f-847221f3d88e\")>,\n",
       " <selenium.webdriver.remote.webelement.WebElement (session=\"56f8040dee2057b71c4e686c1e74668e\", element=\"e35471d2-f637-4aa4-b802-41a24690c1d9\")>,\n",
       " <selenium.webdriver.remote.webelement.WebElement (session=\"56f8040dee2057b71c4e686c1e74668e\", element=\"8960c48e-9f67-40b4-9fef-9305de56c915\")>,\n",
       " <selenium.webdriver.remote.webelement.WebElement (session=\"56f8040dee2057b71c4e686c1e74668e\", element=\"a946f992-a5c0-43ed-ae9d-ddf0296501cf\")>,\n",
       " <selenium.webdriver.remote.webelement.WebElement (session=\"56f8040dee2057b71c4e686c1e74668e\", element=\"c546217c-1bba-4367-8db2-a5576d55c7a6\")>,\n",
       " <selenium.webdriver.remote.webelement.WebElement (session=\"56f8040dee2057b71c4e686c1e74668e\", element=\"0081e565-5de9-4b92-8c1f-261faf29e998\")>,\n",
       " <selenium.webdriver.remote.webelement.WebElement (session=\"56f8040dee2057b71c4e686c1e74668e\", element=\"df997bdd-cd45-48ad-8590-a8a514514311\")>,\n",
       " <selenium.webdriver.remote.webelement.WebElement (session=\"56f8040dee2057b71c4e686c1e74668e\", element=\"b0b64b6b-3c36-4df4-af81-2bb0b115ad70\")>,\n",
       " <selenium.webdriver.remote.webelement.WebElement (session=\"56f8040dee2057b71c4e686c1e74668e\", element=\"b65c44d6-9a43-4e49-b7e5-f862a9d89a4f\")>]"
      ]
     },
     "execution_count": 8,
     "metadata": {},
     "output_type": "execute_result"
    }
   ],
   "source": [
    "date_tags=driver.find_elements_by_xpath(\"//span[@class='time']\")\n",
    "date_tags[0:10]"
   ]
  },
  {
   "cell_type": "code",
   "execution_count": 9,
   "metadata": {},
   "outputs": [
    {
     "data": {
      "text/plain": [
       "['Nov 28, 2015',\n",
       " 'Nov 28, 2015',\n",
       " 'Nov 28, 2015',\n",
       " 'Nov 28, 2015',\n",
       " 'Nov 28, 2015',\n",
       " 'Nov 28, 2015',\n",
       " 'Nov 28, 2015',\n",
       " 'Nov 28, 2015',\n",
       " 'Nov 28, 2015',\n",
       " 'Nov 28, 2015']"
      ]
     },
     "execution_count": 9,
     "metadata": {},
     "output_type": "execute_result"
    }
   ],
   "source": [
    "for i in date_tags:\n",
    "    \n",
    "    title=i.text\n",
    "    date.append(title)\n",
    "date[0:10]"
   ]
  },
  {
   "cell_type": "code",
   "execution_count": 10,
   "metadata": {},
   "outputs": [
    {
     "data": {
      "text/plain": [
       "[<selenium.webdriver.remote.webelement.WebElement (session=\"56f8040dee2057b71c4e686c1e74668e\", element=\"48b4c0be-2cad-4c69-9d71-2717a3e141cc\")>,\n",
       " <selenium.webdriver.remote.webelement.WebElement (session=\"56f8040dee2057b71c4e686c1e74668e\", element=\"90eab7e6-25c9-487f-b1f7-ec6cd67969fc\")>,\n",
       " <selenium.webdriver.remote.webelement.WebElement (session=\"56f8040dee2057b71c4e686c1e74668e\", element=\"c688d182-5cce-45c7-b856-3799164b2bb7\")>,\n",
       " <selenium.webdriver.remote.webelement.WebElement (session=\"56f8040dee2057b71c4e686c1e74668e\", element=\"3a8d52cd-e5ae-4daa-a446-22b8a0b10018\")>,\n",
       " <selenium.webdriver.remote.webelement.WebElement (session=\"56f8040dee2057b71c4e686c1e74668e\", element=\"423b13e5-89a0-4b6a-bd78-32b0164745ce\")>,\n",
       " <selenium.webdriver.remote.webelement.WebElement (session=\"56f8040dee2057b71c4e686c1e74668e\", element=\"49c342ac-7f8f-48b2-9f99-0ed59f7c2dc5\")>,\n",
       " <selenium.webdriver.remote.webelement.WebElement (session=\"56f8040dee2057b71c4e686c1e74668e\", element=\"4c46ad0a-4232-4f63-b483-8ff2fbcb1be5\")>,\n",
       " <selenium.webdriver.remote.webelement.WebElement (session=\"56f8040dee2057b71c4e686c1e74668e\", element=\"41fa4cb4-1140-46c4-98f2-7b44d30de265\")>,\n",
       " <selenium.webdriver.remote.webelement.WebElement (session=\"56f8040dee2057b71c4e686c1e74668e\", element=\"d8bbb912-0262-4de2-9586-e1aa0f73c379\")>,\n",
       " <selenium.webdriver.remote.webelement.WebElement (session=\"56f8040dee2057b71c4e686c1e74668e\", element=\"b346f9e6-9b92-460b-8dd6-75256e980893\")>]"
      ]
     },
     "execution_count": 10,
     "metadata": {},
     "output_type": "execute_result"
    }
   ],
   "source": [
    "desc_tags=driver.find_elements_by_xpath(\"//div[@class='post-summary']\")\n",
    "desc_tags[0:10]"
   ]
  },
  {
   "cell_type": "code",
   "execution_count": 11,
   "metadata": {},
   "outputs": [
    {
     "data": {
      "text/plain": [
       "[\"Fatehabad: Haryana's health minister Anil Vij was on Friday involved in an ugly confrontation with a woman district police chief…\",\n",
       " 'Skipping the usual glamorous roles that model-turned actresses usually don, Leona Lishoy will be seen in a street-dweller’s avatar…',\n",
       " 'The new film helmed by Anand Shankar of Arima Nambi fame would have Vikram and Nayanthara pairing up for the first time. Now, if…',\n",
       " \"Mumbai: Amitabh Bachchan, Nawazuddin Siddhiqui and Vidya Balan were snapped shooting for 'Te3n' at Rabindra Sarobar lake in…\",\n",
       " 'She might have had a bit of a rocky start in Bollywood with Himmatwala and Humshakals, but things are looking good again for…',\n",
       " 'New York: A suspected gunman is in custody after he stormed the offices of a Planned Parenthood abortion clinic in Colorado and…',\n",
       " 'New Delhi: It was a evening to remember at the DLTA complex in the capital on Friday. The four stars — Leander Paes, Mahesh…',\n",
       " 'New Delhi: The All India Football Federation on Friday said it had decided at its executive committee meeting here on the day to…',\n",
       " '\"After Maggi, the sample of macroni pasta was taken from Mau and sent to National Food Analysis Laboratory, Lucknow in which the…',\n",
       " 'New York: Microsoft co-founder Bill Gates will launch a multi-billion-dollar clean energy research and development initiative with…']"
      ]
     },
     "execution_count": 11,
     "metadata": {},
     "output_type": "execute_result"
    }
   ],
   "source": [
    "for i in desc_tags:\n",
    "    \n",
    "    title=i.text\n",
    "    description.append(title)\n",
    "description[0:10]"
   ]
  },
  {
   "cell_type": "code",
   "execution_count": 12,
   "metadata": {},
   "outputs": [
    {
     "name": "stdout",
     "output_type": "stream",
     "text": [
      "10 10 10\n"
     ]
    }
   ],
   "source": [
    "print(len(news_titles),len(date),len(description))"
   ]
  },
  {
   "cell_type": "code",
   "execution_count": 13,
   "metadata": {},
   "outputs": [],
   "source": [
    "import pandas as pd\n",
    "news=pd.DataFrame({})\n",
    "news['news_title']=news_titles[0:10]\n",
    "news['date']=date[0:10]\n",
    "news['description']=description[0:10]"
   ]
  },
  {
   "cell_type": "code",
   "execution_count": 14,
   "metadata": {},
   "outputs": [
    {
     "data": {
      "text/html": [
       "<div>\n",
       "<style scoped>\n",
       "    .dataframe tbody tr th:only-of-type {\n",
       "        vertical-align: middle;\n",
       "    }\n",
       "\n",
       "    .dataframe tbody tr th {\n",
       "        vertical-align: top;\n",
       "    }\n",
       "\n",
       "    .dataframe thead th {\n",
       "        text-align: right;\n",
       "    }\n",
       "</style>\n",
       "<table border=\"1\" class=\"dataframe\">\n",
       "  <thead>\n",
       "    <tr style=\"text-align: right;\">\n",
       "      <th></th>\n",
       "      <th>news_title</th>\n",
       "      <th>date</th>\n",
       "      <th>description</th>\n",
       "    </tr>\n",
       "  </thead>\n",
       "  <tbody>\n",
       "    <tr>\n",
       "      <th>0</th>\n",
       "      <td>Haryana minister Anil Vij gets into ugly spat ...</td>\n",
       "      <td>Nov 28, 2015</td>\n",
       "      <td>Fatehabad: Haryana's health minister Anil Vij ...</td>\n",
       "    </tr>\n",
       "    <tr>\n",
       "      <th>1</th>\n",
       "      <td>Leona’s Kakkothi avatar\\nEBM News English Nov ...</td>\n",
       "      <td>Nov 28, 2015</td>\n",
       "      <td>Skipping the usual glamorous roles that model-...</td>\n",
       "    </tr>\n",
       "    <tr>\n",
       "      <th>2</th>\n",
       "      <td>Vikram-Nayanthara’s next to be titled Mareesan...</td>\n",
       "      <td>Nov 28, 2015</td>\n",
       "      <td>The new film helmed by Anand Shankar of Arima ...</td>\n",
       "    </tr>\n",
       "    <tr>\n",
       "      <th>3</th>\n",
       "      <td>Check out Amitabh Bachchan’s new look in ‘Te3n...</td>\n",
       "      <td>Nov 28, 2015</td>\n",
       "      <td>Mumbai: Amitabh Bachchan, Nawazuddin Siddhiqui...</td>\n",
       "    </tr>\n",
       "    <tr>\n",
       "      <th>4</th>\n",
       "      <td>Tamannaah’s in a good place again\\nEBM News En...</td>\n",
       "      <td>Nov 28, 2015</td>\n",
       "      <td>She might have had a bit of a rocky start in B...</td>\n",
       "    </tr>\n",
       "    <tr>\n",
       "      <th>5</th>\n",
       "      <td>3 killed, 9 hurt in attack on Colorado clinic\\...</td>\n",
       "      <td>Nov 28, 2015</td>\n",
       "      <td>New York: A suspected gunman is in custody aft...</td>\n",
       "    </tr>\n",
       "    <tr>\n",
       "      <th>6</th>\n",
       "      <td>Love playing in India, says Martina Navratilov...</td>\n",
       "      <td>Nov 28, 2015</td>\n",
       "      <td>New Delhi: It was a evening to remember at the...</td>\n",
       "    </tr>\n",
       "    <tr>\n",
       "      <th>7</th>\n",
       "      <td>Federation Cup to return from 2016\\nEBM News E...</td>\n",
       "      <td>Nov 28, 2015</td>\n",
       "      <td>New Delhi: The All India Football Federation o...</td>\n",
       "    </tr>\n",
       "    <tr>\n",
       "      <th>8</th>\n",
       "      <td>Now, UP lab finds Nestle’s pasta unsafe\\nEBM N...</td>\n",
       "      <td>Nov 28, 2015</td>\n",
       "      <td>\"After Maggi, the sample of macroni pasta was ...</td>\n",
       "    </tr>\n",
       "    <tr>\n",
       "      <th>9</th>\n",
       "      <td>Microsoft’s Gates to start multi-billion-dolla...</td>\n",
       "      <td>Nov 28, 2015</td>\n",
       "      <td>New York: Microsoft co-founder Bill Gates will...</td>\n",
       "    </tr>\n",
       "  </tbody>\n",
       "</table>\n",
       "</div>"
      ],
      "text/plain": [
       "                                          news_title          date  \\\n",
       "0  Haryana minister Anil Vij gets into ugly spat ...  Nov 28, 2015   \n",
       "1  Leona’s Kakkothi avatar\\nEBM News English Nov ...  Nov 28, 2015   \n",
       "2  Vikram-Nayanthara’s next to be titled Mareesan...  Nov 28, 2015   \n",
       "3  Check out Amitabh Bachchan’s new look in ‘Te3n...  Nov 28, 2015   \n",
       "4  Tamannaah’s in a good place again\\nEBM News En...  Nov 28, 2015   \n",
       "5  3 killed, 9 hurt in attack on Colorado clinic\\...  Nov 28, 2015   \n",
       "6  Love playing in India, says Martina Navratilov...  Nov 28, 2015   \n",
       "7  Federation Cup to return from 2016\\nEBM News E...  Nov 28, 2015   \n",
       "8  Now, UP lab finds Nestle’s pasta unsafe\\nEBM N...  Nov 28, 2015   \n",
       "9  Microsoft’s Gates to start multi-billion-dolla...  Nov 28, 2015   \n",
       "\n",
       "                                         description  \n",
       "0  Fatehabad: Haryana's health minister Anil Vij ...  \n",
       "1  Skipping the usual glamorous roles that model-...  \n",
       "2  The new film helmed by Anand Shankar of Arima ...  \n",
       "3  Mumbai: Amitabh Bachchan, Nawazuddin Siddhiqui...  \n",
       "4  She might have had a bit of a rocky start in B...  \n",
       "5  New York: A suspected gunman is in custody aft...  \n",
       "6  New Delhi: It was a evening to remember at the...  \n",
       "7  New Delhi: The All India Football Federation o...  \n",
       "8  \"After Maggi, the sample of macroni pasta was ...  \n",
       "9  New York: Microsoft co-founder Bill Gates will...  "
      ]
     },
     "execution_count": 14,
     "metadata": {},
     "output_type": "execute_result"
    }
   ],
   "source": [
    "news"
   ]
  },
  {
   "cell_type": "code",
   "execution_count": null,
   "metadata": {},
   "outputs": [],
   "source": []
  }
 ],
 "metadata": {
  "kernelspec": {
   "display_name": "Python 3",
   "language": "python",
   "name": "python3"
  },
  "language_info": {
   "codemirror_mode": {
    "name": "ipython",
    "version": 3
   },
   "file_extension": ".py",
   "mimetype": "text/x-python",
   "name": "python",
   "nbconvert_exporter": "python",
   "pygments_lexer": "ipython3",
   "version": "3.7.6"
  }
 },
 "nbformat": 4,
 "nbformat_minor": 4
}
